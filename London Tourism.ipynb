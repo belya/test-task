{
 "cells": [
  {
   "cell_type": "markdown",
   "metadata": {},
   "source": [
    "If you want to visit London, here are some tips how to select a good and cheap place to stay"
   ]
  },
  {
   "cell_type": "markdown",
   "metadata": {},
   "source": [
    "# Brief look\n",
    "\n",
    "According to AirBnB reviews, the most popular districts to rent an accomodation are listed in a table below. Top-10 districts by the amount of reviewers are presented here, the popularity means what ratio of reviewers who decided to stay in certain district\n",
    "<img src=\"./images/popularity.png\"><img>\n",
    "\n",
    "The average rent prices for well-prepared accomodation vary across districts. Top districts with highest average prices per accommodate for one-person and two-person apartments are listed. For instance, Westminster have highest average price per accommodate for private rooms, as well as for the entire home rent. Consider Tower Hamlets or Lambeth - these districts are not even in TOP-15!\n",
    "\n",
    "<img src=\"./images/cost-per-night-4.png\"><img>\n",
    "\n",
    "The price per accommodate reduces significantly for the groups of three, and stays on this level for the bigger groups, as on the plot above. If there are not enough bathrooms or bedrooms for everyone - the rent price will be lower as well. \n",
    "\n",
    "<img src=\"./images/accommodates-2.png\"><img>"
   ]
  },
  {
   "cell_type": "markdown",
   "metadata": {},
   "source": [
    "# Seasons\n",
    "The flow of tourists in London is pretty stable but seasonal. On a graph below you can see that the amount of reviewers between July and October is much higher than the average.\n",
    "<img src=\"./images/seasons-total.png\"><img>\n",
    "\n",
    "The popularity is also seasonal for several districts. For instance, the plot below shows the popularity of districts over the year. The brighter rectangle color is, the more popular is the district in this month. \n",
    "\n",
    "According to the chart, Hackney is more popular during summer, and the opposite is Southwark\n",
    "<img src=\"./images/seasons.png\"><img>"
   ]
  },
  {
   "cell_type": "markdown",
   "metadata": {},
   "source": [
    "# Location\n",
    "\n",
    "Several locations availability may affect the rent price. You can find such places on a map below - for instance, if you decided to stay in apartments within Bethnal Green area, it may cost you 12% less than the average for the City of London apartments\n",
    "<img src=\"./images/low-prices.png\"><img>"
   ]
  },
  {
   "cell_type": "markdown",
   "metadata": {},
   "source": [
    "# Conclusion\n",
    "- Apartments in the most popular London districts - Westminster and Camden - have stable demand and pretty high rent prices. That's why if you want to stay in a popular part of the city - Tower Hamlets or Lambeth may be the choice. \n",
    "- When the amount of accomodates is higher than three, the price per accommodate reduces significantly. And if you have a good company, it might be even more cheap to rent a place with shared bathrooms or bedrooms.\n",
    "- The summer is not a very cheap time to visit London. But if you really want to, Southwark may be the choice. This district is pretty expensive, but its emptiness during this season may drop the prices.\n",
    "- The apartments in several locations of London may cost much lower then the average for the related district. If you want to save your pocket - it is better to seek for accommodation in such places."
   ]
  },
  {
   "cell_type": "markdown",
   "metadata": {},
   "source": [
    "# References\n",
    "[1] London AirBnB dataset till 09-02-2021, http://insideairbnb.com/london/"
   ]
  }
 ],
 "metadata": {
  "kernelspec": {
   "display_name": "Python 3",
   "language": "python",
   "name": "python3"
  },
  "language_info": {
   "codemirror_mode": {
    "name": "ipython",
    "version": 3
   },
   "file_extension": ".py",
   "mimetype": "text/x-python",
   "name": "python",
   "nbconvert_exporter": "python",
   "pygments_lexer": "ipython3",
   "version": "3.7.3"
  }
 },
 "nbformat": 4,
 "nbformat_minor": 4
}
