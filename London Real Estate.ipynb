{
 "cells": [
  {
   "cell_type": "markdown",
   "metadata": {},
   "source": [
    "If you want to invest in London Real Estate, here are some insights from AirBnB experience."
   ]
  },
  {
   "cell_type": "markdown",
   "metadata": {},
   "source": [
    "# Brief look\n",
    "\n",
    "According to AirBnB reviews, the most popular districts to rent an accomodation are listed in a table below. Top-10 districts by the amount of reviewers are presented here, the popularity means what ratio of reviewers who decided to stay in certain district\n",
    "<img src=\"./images/popularity.png\"><img>\n",
    "\n",
    "The average rent prices for well-prepared accomodation vary across districts. Top-15 districts with highest average prices per night in high-rated accomodation are listed. For instance, Westminster have highest average price for private rooms, as well as 2nd highest prices for the entire home rent.\n",
    "\n",
    "<img src=\"./images/cost-per-night-2.png\"><img>"
   ]
  },
  {
   "cell_type": "markdown",
   "metadata": {},
   "source": [
    "# Seasons\n",
    "The flow of tourists in London is pretty stable but seasonal. On a graph below you can see that the amount of reviewers between July and October is much higher than the average. \n",
    "<img src=\"./images/seasons-total.png\"><img>\n",
    "\n",
    "The popularity is also seasonal for several districts. For instance, the plot below shows the popularity of districts over the year. The brighter rectangle color is, the more popular is the district in this month. \n",
    "\n",
    "According to the chart, Hackney is more popular during summer, and the opposite is Southwark\n",
    "<img src=\"./images/seasons.png\"><img>"
   ]
  },
  {
   "cell_type": "markdown",
   "metadata": {},
   "source": [
    "# Location\n",
    "\n",
    "Several locations availability may affect the rent price. You can find such places on a map below - for instance, if you'll have Marksman restaurant near the estate, your competitors will have prices significantly above the average.\n",
    "<img src=\"./images/high-prices.png\"><img>"
   ]
  },
  {
   "cell_type": "markdown",
   "metadata": {},
   "source": [
    "# Conclusion\n",
    "- Apartments in the most popular London districts - Westminster, Camden, Tower Hamlets - have stable demand and pretty high rent prices\n",
    "- Real estate bought in other districts may require precise location choice and the demand may depend on the season. For instance, Southwark is not very popular during summer, and distance to The Marksman may define rent price range for your place."
   ]
  },
  {
   "cell_type": "markdown",
   "metadata": {},
   "source": [
    "# References\n",
    "[1] London AirBnB dataset till 09-02-2021, http://insideairbnb.com/london/"
   ]
  }
 ],
 "metadata": {
  "kernelspec": {
   "display_name": "Python 3",
   "language": "python",
   "name": "python3"
  },
  "language_info": {
   "codemirror_mode": {
    "name": "ipython",
    "version": 3
   },
   "file_extension": ".py",
   "mimetype": "text/x-python",
   "name": "python",
   "nbconvert_exporter": "python",
   "pygments_lexer": "ipython3",
   "version": "3.7.3"
  }
 },
 "nbformat": 4,
 "nbformat_minor": 4
}
