{
 "cells": [
  {
   "cell_type": "code",
   "execution_count": 1542,
   "metadata": {},
   "outputs": [],
   "source": [
    "import eli5"
   ]
  },
  {
   "cell_type": "code",
   "execution_count": 1543,
   "metadata": {},
   "outputs": [],
   "source": [
    "from sklearn.linear_model import LogisticRegression"
   ]
  },
  {
   "cell_type": "code",
   "execution_count": 1544,
   "metadata": {},
   "outputs": [],
   "source": [
    "from sklearn.metrics import roc_auc_score"
   ]
  },
  {
   "cell_type": "code",
   "execution_count": 1545,
   "metadata": {},
   "outputs": [],
   "source": [
    "from sklearn.feature_extraction.text import TfidfVectorizer"
   ]
  },
  {
   "cell_type": "code",
   "execution_count": 1546,
   "metadata": {},
   "outputs": [],
   "source": [
    "from sklearn.model_selection import train_test_split"
   ]
  },
  {
   "cell_type": "code",
   "execution_count": 1547,
   "metadata": {},
   "outputs": [],
   "source": [
    "import pandas as pd"
   ]
  },
  {
   "cell_type": "code",
   "execution_count": 1548,
   "metadata": {},
   "outputs": [],
   "source": [
    "import plotly.express as px"
   ]
  },
  {
   "cell_type": "code",
   "execution_count": 1549,
   "metadata": {},
   "outputs": [],
   "source": [
    "import json"
   ]
  },
  {
   "cell_type": "code",
   "execution_count": 1550,
   "metadata": {},
   "outputs": [],
   "source": [
    "import geopandas as gpd"
   ]
  },
  {
   "cell_type": "code",
   "execution_count": 1551,
   "metadata": {},
   "outputs": [],
   "source": [
    "direction = -1 # Cheap \n",
    "# direction = 1 # Expensive"
   ]
  },
  {
   "cell_type": "code",
   "execution_count": 1552,
   "metadata": {},
   "outputs": [],
   "source": [
    "features = json.load(open(\"/home/anatoli/Документы/airbnb/neighbourhoods.geojson\"))"
   ]
  },
  {
   "cell_type": "code",
   "execution_count": 1553,
   "metadata": {},
   "outputs": [],
   "source": [
    "listings_df = pd.read_csv(\"/home/anatoli/Документы/airbnb/listings.csv\")"
   ]
  },
  {
   "cell_type": "code",
   "execution_count": 1554,
   "metadata": {},
   "outputs": [],
   "source": [
    "listings_df[\"price_value\"] = listings_df[\"price\"].apply(lambda x: x[1:].replace(\",\", \"\")).astype(float)"
   ]
  },
  {
   "cell_type": "code",
   "execution_count": 1555,
   "metadata": {},
   "outputs": [],
   "source": [
    "listings_df[\"price_per_accommodation\"] = listings_df[\"price_value\"] / listings_df[\"accommodates\"]"
   ]
  },
  {
   "cell_type": "code",
   "execution_count": 1556,
   "metadata": {},
   "outputs": [],
   "source": [
    "dataset_df = listings_df[\n",
    "    (listings_df[\"review_scores_rating\"] >= 95) & \\\n",
    "    (listings_df[\"accommodates\"] < 3)\n",
    "][[\"room_type\", \"neighbourhood_cleansed\", \"price_per_accommodation\", \"name\", \"description\", \"neighborhood_overview\", \"latitude\", \"longitude\"]].copy()"
   ]
  },
  {
   "cell_type": "code",
   "execution_count": 1557,
   "metadata": {},
   "outputs": [],
   "source": [
    "avg_prices_df = \\\n",
    "    dataset_df.groupby([\"room_type\", \"neighbourhood_cleansed\"])[\"price_per_accommodation\"]\\\n",
    "    .agg([\"mean\", \"median\", \"std\"]).reset_index()"
   ]
  },
  {
   "cell_type": "code",
   "execution_count": 1558,
   "metadata": {},
   "outputs": [],
   "source": [
    "# avg_prices_df[\"max\"] = avg_prices_df[\"mean\"] + 0.5 * avg_prices_df[\"std\"]\n",
    "# avg_prices_df[\"min\"] = avg_prices_df[\"mean\"] - 0.5 * avg_prices_df[\"std\"]"
   ]
  },
  {
   "cell_type": "code",
   "execution_count": 1559,
   "metadata": {},
   "outputs": [],
   "source": [
    "prices_map_df = avg_prices_df.set_index([\"neighbourhood_cleansed\", \"room_type\"])[\"mean\"].unstack(-1)"
   ]
  },
  {
   "cell_type": "code",
   "execution_count": 1560,
   "metadata": {},
   "outputs": [],
   "source": [
    "geo_df = gpd.GeoDataFrame.from_features(features)"
   ]
  },
  {
   "cell_type": "code",
   "execution_count": 1561,
   "metadata": {},
   "outputs": [],
   "source": [
    "room_prices_df = avg_prices_df[avg_prices_df[\"room_type\"] == \"Private room\"].copy()"
   ]
  },
  {
   "cell_type": "code",
   "execution_count": 1562,
   "metadata": {},
   "outputs": [],
   "source": [
    "room_prices_df = geo_df.merge(room_prices_df, left_on=\"neighbourhood\", right_on=\"neighbourhood_cleansed\").set_index(\"neighbourhood\")"
   ]
  },
  {
   "cell_type": "code",
   "execution_count": 1563,
   "metadata": {},
   "outputs": [],
   "source": [
    "# fig = px.choropleth_mapbox(\n",
    "#     room_prices_df, geojson=room_prices_df[\"geometry\"], locations=room_prices_df.index,\n",
    "#     color=\"mean\",\n",
    "#     color_continuous_scale=\"Viridis\",\n",
    "#     range_color=(room_prices_df[\"mean\"].min(), room_prices_df[\"mean\"].max()),\n",
    "#     mapbox_style=\"carto-positron\",\n",
    "#     zoom=9, \n",
    "#     center = {\"lat\": 51.5074, \"lon\": -0.1278},\n",
    "#     opacity=0.5,\n",
    "# )\n",
    "# fig.update_layout(margin={\"r\":0,\"t\":0,\"l\":0,\"b\":0})\n",
    "# fig.show()"
   ]
  },
  {
   "cell_type": "code",
   "execution_count": 1564,
   "metadata": {},
   "outputs": [],
   "source": [
    "prices_map_df = prices_map_df.sort_values(\"Private room\", ascending=False).iloc[0:20]"
   ]
  },
  {
   "cell_type": "code",
   "execution_count": 1565,
   "metadata": {},
   "outputs": [],
   "source": [
    "for c in prices_map_df.columns:\n",
    "    prices_map_df[c] = prices_map_df[c].apply(lambda x: \"{:.2f} $\".format(x))\n",
    "    prices_map_df[c] = prices_map_df[c].str.replace(\"nan \\$\", \"\")"
   ]
  },
  {
   "cell_type": "code",
   "execution_count": 1566,
   "metadata": {},
   "outputs": [],
   "source": [
    "prices_map_df.index.name = \"\""
   ]
  },
  {
   "cell_type": "code",
   "execution_count": 1567,
   "metadata": {},
   "outputs": [],
   "source": [
    "prices_map_df.columns.name = \"\""
   ]
  },
  {
   "cell_type": "code",
   "execution_count": 1568,
   "metadata": {},
   "outputs": [
    {
     "data": {
      "text/html": [
       "<div>\n",
       "<style scoped>\n",
       "    .dataframe tbody tr th:only-of-type {\n",
       "        vertical-align: middle;\n",
       "    }\n",
       "\n",
       "    .dataframe tbody tr th {\n",
       "        vertical-align: top;\n",
       "    }\n",
       "\n",
       "    .dataframe thead th {\n",
       "        text-align: right;\n",
       "    }\n",
       "</style>\n",
       "<table border=\"1\" class=\"dataframe\">\n",
       "  <thead>\n",
       "    <tr style=\"text-align: right;\">\n",
       "      <th></th>\n",
       "      <th>Entire home/apt</th>\n",
       "      <th>Hotel room</th>\n",
       "      <th>Private room</th>\n",
       "      <th>Shared room</th>\n",
       "    </tr>\n",
       "    <tr>\n",
       "      <th></th>\n",
       "      <th></th>\n",
       "      <th></th>\n",
       "      <th></th>\n",
       "      <th></th>\n",
       "    </tr>\n",
       "  </thead>\n",
       "  <tbody>\n",
       "    <tr>\n",
       "      <th>Westminster</th>\n",
       "      <td>72.12 $</td>\n",
       "      <td>105.77 $</td>\n",
       "      <td>45.58 $</td>\n",
       "      <td>29.75 $</td>\n",
       "    </tr>\n",
       "    <tr>\n",
       "      <th>Kensington and Chelsea</th>\n",
       "      <td>59.79 $</td>\n",
       "      <td>72.69 $</td>\n",
       "      <td>41.07 $</td>\n",
       "      <td>45.88 $</td>\n",
       "    </tr>\n",
       "    <tr>\n",
       "      <th>Hammersmith and Fulham</th>\n",
       "      <td>47.18 $</td>\n",
       "      <td>60.90 $</td>\n",
       "      <td>38.38 $</td>\n",
       "      <td>25.62 $</td>\n",
       "    </tr>\n",
       "    <tr>\n",
       "      <th>Southwark</th>\n",
       "      <td>47.08 $</td>\n",
       "      <td></td>\n",
       "      <td>38.02 $</td>\n",
       "      <td>28.60 $</td>\n",
       "    </tr>\n",
       "    <tr>\n",
       "      <th>Barking and Dagenham</th>\n",
       "      <td>34.88 $</td>\n",
       "      <td></td>\n",
       "      <td>36.68 $</td>\n",
       "      <td></td>\n",
       "    </tr>\n",
       "    <tr>\n",
       "      <th>Haringey</th>\n",
       "      <td>37.41 $</td>\n",
       "      <td>17.00 $</td>\n",
       "      <td>34.67 $</td>\n",
       "      <td>22.00 $</td>\n",
       "    </tr>\n",
       "    <tr>\n",
       "      <th>City of London</th>\n",
       "      <td>55.26 $</td>\n",
       "      <td>84.00 $</td>\n",
       "      <td>34.30 $</td>\n",
       "      <td></td>\n",
       "    </tr>\n",
       "    <tr>\n",
       "      <th>Camden</th>\n",
       "      <td>58.42 $</td>\n",
       "      <td>48.72 $</td>\n",
       "      <td>32.71 $</td>\n",
       "      <td>28.38 $</td>\n",
       "    </tr>\n",
       "    <tr>\n",
       "      <th>Wandsworth</th>\n",
       "      <td>43.28 $</td>\n",
       "      <td>56.00 $</td>\n",
       "      <td>32.33 $</td>\n",
       "      <td>30.00 $</td>\n",
       "    </tr>\n",
       "    <tr>\n",
       "      <th>Islington</th>\n",
       "      <td>47.94 $</td>\n",
       "      <td>52.57 $</td>\n",
       "      <td>31.51 $</td>\n",
       "      <td>38.00 $</td>\n",
       "    </tr>\n",
       "    <tr>\n",
       "      <th>Kingston upon Thames</th>\n",
       "      <td>31.91 $</td>\n",
       "      <td></td>\n",
       "      <td>30.83 $</td>\n",
       "      <td>17.00 $</td>\n",
       "    </tr>\n",
       "    <tr>\n",
       "      <th>Hounslow</th>\n",
       "      <td>41.21 $</td>\n",
       "      <td>83.00 $</td>\n",
       "      <td>30.53 $</td>\n",
       "      <td>24.00 $</td>\n",
       "    </tr>\n",
       "    <tr>\n",
       "      <th>Richmond upon Thames</th>\n",
       "      <td>47.76 $</td>\n",
       "      <td>66.50 $</td>\n",
       "      <td>30.34 $</td>\n",
       "      <td>25.00 $</td>\n",
       "    </tr>\n",
       "    <tr>\n",
       "      <th>Brent</th>\n",
       "      <td>42.66 $</td>\n",
       "      <td>35.00 $</td>\n",
       "      <td>29.53 $</td>\n",
       "      <td>20.67 $</td>\n",
       "    </tr>\n",
       "    <tr>\n",
       "      <th>Harrow</th>\n",
       "      <td>70.94 $</td>\n",
       "      <td></td>\n",
       "      <td>29.35 $</td>\n",
       "      <td></td>\n",
       "    </tr>\n",
       "    <tr>\n",
       "      <th>Tower Hamlets</th>\n",
       "      <td>53.33 $</td>\n",
       "      <td>51.75 $</td>\n",
       "      <td>29.04 $</td>\n",
       "      <td>40.71 $</td>\n",
       "    </tr>\n",
       "    <tr>\n",
       "      <th>Lambeth</th>\n",
       "      <td>43.51 $</td>\n",
       "      <td>33.12 $</td>\n",
       "      <td>28.72 $</td>\n",
       "      <td>33.00 $</td>\n",
       "    </tr>\n",
       "    <tr>\n",
       "      <th>Merton</th>\n",
       "      <td>46.34 $</td>\n",
       "      <td></td>\n",
       "      <td>27.81 $</td>\n",
       "      <td>25.12 $</td>\n",
       "    </tr>\n",
       "    <tr>\n",
       "      <th>Hackney</th>\n",
       "      <td>45.72 $</td>\n",
       "      <td></td>\n",
       "      <td>27.51 $</td>\n",
       "      <td>24.81 $</td>\n",
       "    </tr>\n",
       "    <tr>\n",
       "      <th>Newham</th>\n",
       "      <td>47.30 $</td>\n",
       "      <td>70.00 $</td>\n",
       "      <td>27.15 $</td>\n",
       "      <td>22.00 $</td>\n",
       "    </tr>\n",
       "  </tbody>\n",
       "</table>\n",
       "</div>"
      ],
      "text/plain": [
       "                       Entire home/apt Hotel room Private room Shared room\n",
       "                                                                          \n",
       "Westminster                    72.12 $   105.77 $      45.58 $     29.75 $\n",
       "Kensington and Chelsea         59.79 $    72.69 $      41.07 $     45.88 $\n",
       "Hammersmith and Fulham         47.18 $    60.90 $      38.38 $     25.62 $\n",
       "Southwark                      47.08 $                 38.02 $     28.60 $\n",
       "Barking and Dagenham           34.88 $                 36.68 $            \n",
       "Haringey                       37.41 $    17.00 $      34.67 $     22.00 $\n",
       "City of London                 55.26 $    84.00 $      34.30 $            \n",
       "Camden                         58.42 $    48.72 $      32.71 $     28.38 $\n",
       "Wandsworth                     43.28 $    56.00 $      32.33 $     30.00 $\n",
       "Islington                      47.94 $    52.57 $      31.51 $     38.00 $\n",
       "Kingston upon Thames           31.91 $                 30.83 $     17.00 $\n",
       "Hounslow                       41.21 $    83.00 $      30.53 $     24.00 $\n",
       "Richmond upon Thames           47.76 $    66.50 $      30.34 $     25.00 $\n",
       "Brent                          42.66 $    35.00 $      29.53 $     20.67 $\n",
       "Harrow                         70.94 $                 29.35 $            \n",
       "Tower Hamlets                  53.33 $    51.75 $      29.04 $     40.71 $\n",
       "Lambeth                        43.51 $    33.12 $      28.72 $     33.00 $\n",
       "Merton                         46.34 $                 27.81 $     25.12 $\n",
       "Hackney                        45.72 $                 27.51 $     24.81 $\n",
       "Newham                         47.30 $    70.00 $      27.15 $     22.00 $"
      ]
     },
     "execution_count": 1568,
     "metadata": {},
     "output_type": "execute_result"
    }
   ],
   "source": [
    "prices_map_df"
   ]
  },
  {
   "cell_type": "code",
   "execution_count": 1569,
   "metadata": {},
   "outputs": [],
   "source": [
    "# merged_df[\"price_per_accommodation_diff\"]"
   ]
  },
  {
   "cell_type": "code",
   "execution_count": 1570,
   "metadata": {},
   "outputs": [],
   "source": [
    "merged_df = dataset_df.merge(avg_prices_df, on=[\"room_type\", \"neighbourhood_cleansed\"])"
   ]
  },
  {
   "cell_type": "code",
   "execution_count": 1571,
   "metadata": {},
   "outputs": [],
   "source": [
    "merged_df[\"price_per_accommodation_diff\"] = (merged_df[\"price_per_accommodation\"] - merged_df[\"mean\"]) / merged_df[\"mean\"]"
   ]
  },
  {
   "cell_type": "code",
   "execution_count": 1572,
   "metadata": {},
   "outputs": [],
   "source": [
    "merged_df[\"target\"] = False\n",
    "merged_df.loc[direction * merged_df[\"price_per_accommodation\"] >= direction * merged_df[\"mean\"], \"target\"] = True"
   ]
  },
  {
   "cell_type": "code",
   "execution_count": 1573,
   "metadata": {},
   "outputs": [],
   "source": [
    "merged_df.dropna(inplace=True)"
   ]
  },
  {
   "cell_type": "code",
   "execution_count": 1574,
   "metadata": {},
   "outputs": [
    {
     "data": {
      "text/plain": [
       "True     8340\n",
       "False    4374\n",
       "Name: target, dtype: int64"
      ]
     },
     "execution_count": 1574,
     "metadata": {},
     "output_type": "execute_result"
    }
   ],
   "source": [
    "merged_df[\"target\"].value_counts()"
   ]
  },
  {
   "cell_type": "code",
   "execution_count": 1575,
   "metadata": {},
   "outputs": [],
   "source": [
    "train_indices, test_indices = train_test_split(merged_df.index, test_size=0.3)"
   ]
  },
  {
   "cell_type": "code",
   "execution_count": 1576,
   "metadata": {},
   "outputs": [],
   "source": [
    "merged_df[\"test\"] = False\n",
    "merged_df.loc[test_indices, \"test\"] = True"
   ]
  },
  {
   "cell_type": "code",
   "execution_count": 1577,
   "metadata": {},
   "outputs": [],
   "source": [
    "vectorizer = TfidfVectorizer(min_df=5, max_features=50000, stop_words='english')"
   ]
  },
  {
   "cell_type": "code",
   "execution_count": 1578,
   "metadata": {},
   "outputs": [],
   "source": [
    "merged_df[\"full_text\"] = merged_df[\"description\"] + \" \" +  merged_df[\"neighborhood_overview\"]"
   ]
  },
  {
   "cell_type": "code",
   "execution_count": 1579,
   "metadata": {},
   "outputs": [],
   "source": [
    "def remove_tags(x):\n",
    "    return x.replace(\"<\", \" \").replace(\">\", \" \")"
   ]
  },
  {
   "cell_type": "code",
   "execution_count": 1580,
   "metadata": {},
   "outputs": [],
   "source": [
    "merged_df[\"full_text\"] = merged_df[\"full_text\"].apply(remove_tags)"
   ]
  },
  {
   "cell_type": "code",
   "execution_count": 1581,
   "metadata": {},
   "outputs": [],
   "source": [
    "X_train = vectorizer.fit_transform(merged_df[~merged_df[\"test\"]][\"full_text\"])"
   ]
  },
  {
   "cell_type": "code",
   "execution_count": 1582,
   "metadata": {},
   "outputs": [],
   "source": [
    "X_test = vectorizer.transform(merged_df[merged_df[\"test\"]][\"full_text\"])"
   ]
  },
  {
   "cell_type": "code",
   "execution_count": 1583,
   "metadata": {},
   "outputs": [],
   "source": [
    "y_train = merged_df[~merged_df[\"test\"]][\"target\"]"
   ]
  },
  {
   "cell_type": "code",
   "execution_count": 1584,
   "metadata": {},
   "outputs": [],
   "source": [
    "y_test = merged_df[merged_df[\"test\"]][\"target\"]"
   ]
  },
  {
   "cell_type": "code",
   "execution_count": 1585,
   "metadata": {},
   "outputs": [],
   "source": [
    "from sklearn.model_selection import GridSearchCV"
   ]
  },
  {
   "cell_type": "code",
   "execution_count": 1586,
   "metadata": {},
   "outputs": [],
   "source": [
    "grid = {\"C\": np.logspace(-2, 0, 30)}\n",
    "# grid = {\"n_estimators\": [200]}"
   ]
  },
  {
   "cell_type": "code",
   "execution_count": 1587,
   "metadata": {},
   "outputs": [],
   "source": [
    "from sklearn.ensemble import GradientBoostingClassifier"
   ]
  },
  {
   "cell_type": "code",
   "execution_count": 1588,
   "metadata": {},
   "outputs": [],
   "source": [
    "model = LogisticRegression(solver=\"liblinear\")\n",
    "# model = GradientBoostingClassifier()"
   ]
  },
  {
   "cell_type": "code",
   "execution_count": 1589,
   "metadata": {},
   "outputs": [],
   "source": [
    "search = GridSearchCV(model, grid, cv=3, scoring=\"roc_auc\")"
   ]
  },
  {
   "cell_type": "code",
   "execution_count": 1590,
   "metadata": {
    "scrolled": true
   },
   "outputs": [
    {
     "data": {
      "text/plain": [
       "GridSearchCV(cv=3, estimator=LogisticRegression(solver='liblinear'),\n",
       "             param_grid={'C': array([0.01      , 0.01172102, 0.01373824, 0.01610262, 0.01887392,\n",
       "       0.02212216, 0.02592944, 0.03039195, 0.03562248, 0.04175319,\n",
       "       0.04893901, 0.05736153, 0.06723358, 0.07880463, 0.09236709,\n",
       "       0.10826367, 0.1268961 , 0.14873521, 0.17433288, 0.20433597,\n",
       "       0.23950266, 0.28072162, 0.32903446, 0.38566204, 0.45203537,\n",
       "       0.52983169, 0.62101694, 0.72789538, 0.85316785, 1.        ])},\n",
       "             scoring='roc_auc')"
      ]
     },
     "execution_count": 1590,
     "metadata": {},
     "output_type": "execute_result"
    }
   ],
   "source": [
    "search.fit(X_train, y_train)"
   ]
  },
  {
   "cell_type": "code",
   "execution_count": 1591,
   "metadata": {},
   "outputs": [
    {
     "data": {
      "text/plain": [
       "0.6092233665425278"
      ]
     },
     "execution_count": 1591,
     "metadata": {},
     "output_type": "execute_result"
    }
   ],
   "source": [
    "search.best_score_"
   ]
  },
  {
   "cell_type": "code",
   "execution_count": 1592,
   "metadata": {},
   "outputs": [
    {
     "data": {
      "text/plain": [
       "LogisticRegression(C=0.38566204211634725, solver='liblinear')"
      ]
     },
     "execution_count": 1592,
     "metadata": {},
     "output_type": "execute_result"
    }
   ],
   "source": [
    "search.best_estimator_"
   ]
  },
  {
   "cell_type": "code",
   "execution_count": 1593,
   "metadata": {},
   "outputs": [],
   "source": [
    "prediction_train = search.predict_proba(X_train).T[1]"
   ]
  },
  {
   "cell_type": "code",
   "execution_count": 1594,
   "metadata": {},
   "outputs": [],
   "source": [
    "prediction_test = search.predict_proba(X_test).T[1]"
   ]
  },
  {
   "cell_type": "code",
   "execution_count": 1595,
   "metadata": {},
   "outputs": [
    {
     "data": {
      "text/plain": [
       "(0.7956814686218842, 0.6738933834693805)"
      ]
     },
     "execution_count": 1595,
     "metadata": {},
     "output_type": "execute_result"
    }
   ],
   "source": [
    "roc_auc_score(y_train, prediction_train), roc_auc_score(y_test, prediction_test)"
   ]
  },
  {
   "cell_type": "code",
   "execution_count": 1596,
   "metadata": {},
   "outputs": [
    {
     "data": {
      "text/html": [
       "\n",
       "    <style>\n",
       "    table.eli5-weights tr:hover {\n",
       "        filter: brightness(85%);\n",
       "    }\n",
       "</style>\n",
       "\n",
       "\n",
       "\n",
       "    \n",
       "\n",
       "    \n",
       "\n",
       "    \n",
       "\n",
       "    \n",
       "\n",
       "    \n",
       "\n",
       "    \n",
       "\n",
       "\n",
       "    \n",
       "\n",
       "    \n",
       "\n",
       "    \n",
       "\n",
       "    \n",
       "        \n",
       "\n",
       "    \n",
       "\n",
       "        \n",
       "            \n",
       "                \n",
       "                \n",
       "    \n",
       "        <p style=\"margin-bottom: 0.5em; margin-top: 0em\">\n",
       "            <b>\n",
       "    \n",
       "        y=True\n",
       "    \n",
       "</b>\n",
       "\n",
       "top features\n",
       "        </p>\n",
       "    \n",
       "    <table class=\"eli5-weights\"\n",
       "           style=\"border-collapse: collapse; border: none; margin-top: 0em; table-layout: auto; margin-bottom: 2em;\">\n",
       "        <thead>\n",
       "        <tr style=\"border: none;\">\n",
       "            \n",
       "                <th style=\"padding: 0 1em 0 0.5em; text-align: right; border: none;\" title=\"Feature weights. Note that weights do not account for feature value scales, so if feature values have different scales, features with highest weights might not be the most important.\">\n",
       "                    Weight<sup>?</sup>\n",
       "                </th>\n",
       "            \n",
       "            <th style=\"padding: 0 0.5em 0 0.5em; text-align: left; border: none;\">Feature</th>\n",
       "            \n",
       "        </tr>\n",
       "        </thead>\n",
       "        <tbody>\n",
       "        \n",
       "            <tr style=\"background-color: hsl(120, 100.00%, 80.00%); border: none;\">\n",
       "    <td style=\"padding: 0 1em 0 0.5em; text-align: right; border: none;\">\n",
       "        +1.623\n",
       "    </td>\n",
       "    <td style=\"padding: 0 0.5em 0 0.5em; text-align: left; border: none;\">\n",
       "        double\n",
       "    </td>\n",
       "    \n",
       "</tr>\n",
       "        \n",
       "            <tr style=\"background-color: hsl(120, 100.00%, 83.06%); border: none;\">\n",
       "    <td style=\"padding: 0 1em 0 0.5em; text-align: right; border: none;\">\n",
       "        +1.280\n",
       "    </td>\n",
       "    <td style=\"padding: 0 0.5em 0 0.5em; text-align: left; border: none;\">\n",
       "        bus\n",
       "    </td>\n",
       "    \n",
       "</tr>\n",
       "        \n",
       "            <tr style=\"background-color: hsl(120, 100.00%, 83.14%); border: none;\">\n",
       "    <td style=\"padding: 0 1em 0 0.5em; text-align: right; border: none;\">\n",
       "        +1.272\n",
       "    </td>\n",
       "    <td style=\"padding: 0 0.5em 0 0.5em; text-align: left; border: none;\">\n",
       "        peckham\n",
       "    </td>\n",
       "    \n",
       "</tr>\n",
       "        \n",
       "            <tr style=\"background-color: hsl(120, 100.00%, 83.90%); border: none;\">\n",
       "    <td style=\"padding: 0 1em 0 0.5em; text-align: right; border: none;\">\n",
       "        +1.190\n",
       "    </td>\n",
       "    <td style=\"padding: 0 0.5em 0 0.5em; text-align: left; border: none;\">\n",
       "        studio\n",
       "    </td>\n",
       "    \n",
       "</tr>\n",
       "        \n",
       "            <tr style=\"background-color: hsl(120, 100.00%, 84.87%); border: none;\">\n",
       "    <td style=\"padding: 0 1em 0 0.5em; text-align: right; border: none;\">\n",
       "        +1.089\n",
       "    </td>\n",
       "    <td style=\"padding: 0 0.5em 0 0.5em; text-align: left; border: none;\">\n",
       "        kitchen\n",
       "    </td>\n",
       "    \n",
       "</tr>\n",
       "        \n",
       "            <tr style=\"background-color: hsl(120, 100.00%, 85.26%); border: none;\">\n",
       "    <td style=\"padding: 0 1em 0 0.5em; text-align: right; border: none;\">\n",
       "        +1.050\n",
       "    </td>\n",
       "    <td style=\"padding: 0 0.5em 0 0.5em; text-align: left; border: none;\">\n",
       "        couples\n",
       "    </td>\n",
       "    \n",
       "</tr>\n",
       "        \n",
       "            <tr style=\"background-color: hsl(120, 100.00%, 85.46%); border: none;\">\n",
       "    <td style=\"padding: 0 1em 0 0.5em; text-align: right; border: none;\">\n",
       "        +1.029\n",
       "    </td>\n",
       "    <td style=\"padding: 0 0.5em 0 0.5em; text-align: left; border: none;\">\n",
       "        cooking\n",
       "    </td>\n",
       "    \n",
       "</tr>\n",
       "        \n",
       "            <tr style=\"background-color: hsl(120, 100.00%, 85.68%); border: none;\">\n",
       "    <td style=\"padding: 0 1em 0 0.5em; text-align: right; border: none;\">\n",
       "        +1.007\n",
       "    </td>\n",
       "    <td style=\"padding: 0 0.5em 0 0.5em; text-align: left; border: none;\">\n",
       "        venice\n",
       "    </td>\n",
       "    \n",
       "</tr>\n",
       "        \n",
       "            <tr style=\"background-color: hsl(120, 100.00%, 85.68%); border: none;\">\n",
       "    <td style=\"padding: 0 1em 0 0.5em; text-align: right; border: none;\">\n",
       "        +1.007\n",
       "    </td>\n",
       "    <td style=\"padding: 0 0.5em 0 0.5em; text-align: left; border: none;\">\n",
       "        east\n",
       "    </td>\n",
       "    \n",
       "</tr>\n",
       "        \n",
       "            <tr style=\"background-color: hsl(120, 100.00%, 85.90%); border: none;\">\n",
       "    <td style=\"padding: 0 1em 0 0.5em; text-align: right; border: none;\">\n",
       "        +0.985\n",
       "    </td>\n",
       "    <td style=\"padding: 0 0.5em 0 0.5em; text-align: left; border: none;\">\n",
       "        couple\n",
       "    </td>\n",
       "    \n",
       "</tr>\n",
       "        \n",
       "            <tr style=\"background-color: hsl(120, 100.00%, 86.77%); border: none;\">\n",
       "    <td style=\"padding: 0 1em 0 0.5em; text-align: right; border: none;\">\n",
       "        +0.899\n",
       "    </td>\n",
       "    <td style=\"padding: 0 0.5em 0 0.5em; text-align: left; border: none;\">\n",
       "        check\n",
       "    </td>\n",
       "    \n",
       "</tr>\n",
       "        \n",
       "            <tr style=\"background-color: hsl(120, 100.00%, 86.94%); border: none;\">\n",
       "    <td style=\"padding: 0 1em 0 0.5em; text-align: right; border: none;\">\n",
       "        +0.883\n",
       "    </td>\n",
       "    <td style=\"padding: 0 0.5em 0 0.5em; text-align: left; border: none;\">\n",
       "        help\n",
       "    </td>\n",
       "    \n",
       "</tr>\n",
       "        \n",
       "            <tr style=\"background-color: hsl(120, 100.00%, 87.05%); border: none;\">\n",
       "    <td style=\"padding: 0 1em 0 0.5em; text-align: right; border: none;\">\n",
       "        +0.872\n",
       "    </td>\n",
       "    <td style=\"padding: 0 0.5em 0 0.5em; text-align: left; border: none;\">\n",
       "        big\n",
       "    </td>\n",
       "    \n",
       "</tr>\n",
       "        \n",
       "            <tr style=\"background-color: hsl(120, 100.00%, 87.21%); border: none;\">\n",
       "    <td style=\"padding: 0 1em 0 0.5em; text-align: right; border: none;\">\n",
       "        +0.857\n",
       "    </td>\n",
       "    <td style=\"padding: 0 0.5em 0 0.5em; text-align: left; border: none;\">\n",
       "        flat\n",
       "    </td>\n",
       "    \n",
       "</tr>\n",
       "        \n",
       "            <tr style=\"background-color: hsl(120, 100.00%, 87.44%); border: none;\">\n",
       "    <td style=\"padding: 0 1em 0 0.5em; text-align: right; border: none;\">\n",
       "        +0.835\n",
       "    </td>\n",
       "    <td style=\"padding: 0 0.5em 0 0.5em; text-align: left; border: none;\">\n",
       "        night\n",
       "    </td>\n",
       "    \n",
       "</tr>\n",
       "        \n",
       "            <tr style=\"background-color: hsl(120, 100.00%, 87.66%); border: none;\">\n",
       "    <td style=\"padding: 0 1em 0 0.5em; text-align: right; border: none;\">\n",
       "        +0.814\n",
       "    </td>\n",
       "    <td style=\"padding: 0 0.5em 0 0.5em; text-align: left; border: none;\">\n",
       "        water\n",
       "    </td>\n",
       "    \n",
       "</tr>\n",
       "        \n",
       "            <tr style=\"background-color: hsl(120, 100.00%, 87.74%); border: none;\">\n",
       "    <td style=\"padding: 0 1em 0 0.5em; text-align: right; border: none;\">\n",
       "        +0.807\n",
       "    </td>\n",
       "    <td style=\"padding: 0 0.5em 0 0.5em; text-align: left; border: none;\">\n",
       "        bethnal\n",
       "    </td>\n",
       "    \n",
       "</tr>\n",
       "        \n",
       "            <tr style=\"background-color: hsl(120, 100.00%, 87.81%); border: none;\">\n",
       "    <td style=\"padding: 0 1em 0 0.5em; text-align: right; border: none;\">\n",
       "        +0.800\n",
       "    </td>\n",
       "    <td style=\"padding: 0 0.5em 0 0.5em; text-align: left; border: none;\">\n",
       "        shared\n",
       "    </td>\n",
       "    \n",
       "</tr>\n",
       "        \n",
       "            <tr style=\"background-color: hsl(120, 100.00%, 87.91%); border: none;\">\n",
       "    <td style=\"padding: 0 1em 0 0.5em; text-align: right; border: none;\">\n",
       "        +0.791\n",
       "    </td>\n",
       "    <td style=\"padding: 0 0.5em 0 0.5em; text-align: left; border: none;\">\n",
       "        edgware\n",
       "    </td>\n",
       "    \n",
       "</tr>\n",
       "        \n",
       "            <tr style=\"background-color: hsl(120, 100.00%, 88.08%); border: none;\">\n",
       "    <td style=\"padding: 0 1em 0 0.5em; text-align: right; border: none;\">\n",
       "        +0.775\n",
       "    </td>\n",
       "    <td style=\"padding: 0 0.5em 0 0.5em; text-align: left; border: none;\">\n",
       "        hill\n",
       "    </td>\n",
       "    \n",
       "</tr>\n",
       "        \n",
       "            <tr style=\"background-color: hsl(120, 100.00%, 88.14%); border: none;\">\n",
       "    <td style=\"padding: 0 1em 0 0.5em; text-align: right; border: none;\">\n",
       "        +0.770\n",
       "    </td>\n",
       "    <td style=\"padding: 0 0.5em 0 0.5em; text-align: left; border: none;\">\n",
       "        shops\n",
       "    </td>\n",
       "    \n",
       "</tr>\n",
       "        \n",
       "            <tr style=\"background-color: hsl(120, 100.00%, 88.35%); border: none;\">\n",
       "    <td style=\"padding: 0 1em 0 0.5em; text-align: right; border: none;\">\n",
       "        +0.750\n",
       "    </td>\n",
       "    <td style=\"padding: 0 0.5em 0 0.5em; text-align: left; border: none;\">\n",
       "        hyde\n",
       "    </td>\n",
       "    \n",
       "</tr>\n",
       "        \n",
       "            <tr style=\"background-color: hsl(120, 100.00%, 88.40%); border: none;\">\n",
       "    <td style=\"padding: 0 1em 0 0.5em; text-align: right; border: none;\">\n",
       "        +0.746\n",
       "    </td>\n",
       "    <td style=\"padding: 0 0.5em 0 0.5em; text-align: left; border: none;\">\n",
       "        toilet\n",
       "    </td>\n",
       "    \n",
       "</tr>\n",
       "        \n",
       "            <tr style=\"background-color: hsl(120, 100.00%, 88.67%); border: none;\">\n",
       "    <td style=\"padding: 0 1em 0 0.5em; text-align: right; border: none;\">\n",
       "        +0.721\n",
       "    </td>\n",
       "    <td style=\"padding: 0 0.5em 0 0.5em; text-align: left; border: none;\">\n",
       "        great\n",
       "    </td>\n",
       "    \n",
       "</tr>\n",
       "        \n",
       "            <tr style=\"background-color: hsl(120, 100.00%, 89.00%); border: none;\">\n",
       "    <td style=\"padding: 0 1em 0 0.5em; text-align: right; border: none;\">\n",
       "        +0.691\n",
       "    </td>\n",
       "    <td style=\"padding: 0 0.5em 0 0.5em; text-align: left; border: none;\">\n",
       "        cozy\n",
       "    </td>\n",
       "    \n",
       "</tr>\n",
       "        \n",
       "            <tr style=\"background-color: hsl(120, 100.00%, 89.13%); border: none;\">\n",
       "    <td style=\"padding: 0 1em 0 0.5em; text-align: right; border: none;\">\n",
       "        +0.679\n",
       "    </td>\n",
       "    <td style=\"padding: 0 0.5em 0 0.5em; text-align: left; border: none;\">\n",
       "        morden\n",
       "    </td>\n",
       "    \n",
       "</tr>\n",
       "        \n",
       "            <tr style=\"background-color: hsl(120, 100.00%, 89.22%); border: none;\">\n",
       "    <td style=\"padding: 0 1em 0 0.5em; text-align: right; border: none;\">\n",
       "        +0.671\n",
       "    </td>\n",
       "    <td style=\"padding: 0 0.5em 0 0.5em; text-align: left; border: none;\">\n",
       "        paddington\n",
       "    </td>\n",
       "    \n",
       "</tr>\n",
       "        \n",
       "            <tr style=\"background-color: hsl(120, 100.00%, 89.22%); border: none;\">\n",
       "    <td style=\"padding: 0 1em 0 0.5em; text-align: right; border: none;\">\n",
       "        +0.671\n",
       "    </td>\n",
       "    <td style=\"padding: 0 0.5em 0 0.5em; text-align: left; border: none;\">\n",
       "        wick\n",
       "    </td>\n",
       "    \n",
       "</tr>\n",
       "        \n",
       "            <tr style=\"background-color: hsl(120, 100.00%, 89.24%); border: none;\">\n",
       "    <td style=\"padding: 0 1em 0 0.5em; text-align: right; border: none;\">\n",
       "        +0.669\n",
       "    </td>\n",
       "    <td style=\"padding: 0 0.5em 0 0.5em; text-align: left; border: none;\">\n",
       "        pimlico\n",
       "    </td>\n",
       "    \n",
       "</tr>\n",
       "        \n",
       "            <tr style=\"background-color: hsl(120, 100.00%, 89.31%); border: none;\">\n",
       "    <td style=\"padding: 0 1em 0 0.5em; text-align: right; border: none;\">\n",
       "        +0.663\n",
       "    </td>\n",
       "    <td style=\"padding: 0 0.5em 0 0.5em; text-align: left; border: none;\">\n",
       "        maida\n",
       "    </td>\n",
       "    \n",
       "</tr>\n",
       "        \n",
       "            <tr style=\"background-color: hsl(120, 100.00%, 89.33%); border: none;\">\n",
       "    <td style=\"padding: 0 1em 0 0.5em; text-align: right; border: none;\">\n",
       "        +0.662\n",
       "    </td>\n",
       "    <td style=\"padding: 0 0.5em 0 0.5em; text-align: left; border: none;\">\n",
       "        hours\n",
       "    </td>\n",
       "    \n",
       "</tr>\n",
       "        \n",
       "            <tr style=\"background-color: hsl(120, 100.00%, 89.38%); border: none;\">\n",
       "    <td style=\"padding: 0 1em 0 0.5em; text-align: right; border: none;\">\n",
       "        +0.657\n",
       "    </td>\n",
       "    <td style=\"padding: 0 0.5em 0 0.5em; text-align: left; border: none;\">\n",
       "        vale\n",
       "    </td>\n",
       "    \n",
       "</tr>\n",
       "        \n",
       "            <tr style=\"background-color: hsl(120, 100.00%, 89.48%); border: none;\">\n",
       "    <td style=\"padding: 0 1em 0 0.5em; text-align: right; border: none;\">\n",
       "        +0.648\n",
       "    </td>\n",
       "    <td style=\"padding: 0 0.5em 0 0.5em; text-align: left; border: none;\">\n",
       "        heathrow\n",
       "    </td>\n",
       "    \n",
       "</tr>\n",
       "        \n",
       "            <tr style=\"background-color: hsl(120, 100.00%, 89.68%); border: none;\">\n",
       "    <td style=\"padding: 0 1em 0 0.5em; text-align: right; border: none;\">\n",
       "        +0.631\n",
       "    </td>\n",
       "    <td style=\"padding: 0 0.5em 0 0.5em; text-align: left; border: none;\">\n",
       "        access\n",
       "    </td>\n",
       "    \n",
       "</tr>\n",
       "        \n",
       "            <tr style=\"background-color: hsl(120, 100.00%, 89.78%); border: none;\">\n",
       "    <td style=\"padding: 0 1em 0 0.5em; text-align: right; border: none;\">\n",
       "        +0.622\n",
       "    </td>\n",
       "    <td style=\"padding: 0 0.5em 0 0.5em; text-align: left; border: none;\">\n",
       "        dulwich\n",
       "    </td>\n",
       "    \n",
       "</tr>\n",
       "        \n",
       "            <tr style=\"background-color: hsl(120, 100.00%, 89.92%); border: none;\">\n",
       "    <td style=\"padding: 0 1em 0 0.5em; text-align: right; border: none;\">\n",
       "        +0.609\n",
       "    </td>\n",
       "    <td style=\"padding: 0 0.5em 0 0.5em; text-align: left; border: none;\">\n",
       "        hammersmith\n",
       "    </td>\n",
       "    \n",
       "</tr>\n",
       "        \n",
       "            <tr style=\"background-color: hsl(120, 100.00%, 89.93%); border: none;\">\n",
       "    <td style=\"padding: 0 1em 0 0.5em; text-align: right; border: none;\">\n",
       "        +0.609\n",
       "    </td>\n",
       "    <td style=\"padding: 0 0.5em 0 0.5em; text-align: left; border: none;\">\n",
       "        tooting\n",
       "    </td>\n",
       "    \n",
       "</tr>\n",
       "        \n",
       "            <tr style=\"background-color: hsl(120, 100.00%, 90.02%); border: none;\">\n",
       "    <td style=\"padding: 0 1em 0 0.5em; text-align: right; border: none;\">\n",
       "        +0.601\n",
       "    </td>\n",
       "    <td style=\"padding: 0 0.5em 0 0.5em; text-align: left; border: none;\">\n",
       "        station\n",
       "    </td>\n",
       "    \n",
       "</tr>\n",
       "        \n",
       "            <tr style=\"background-color: hsl(120, 100.00%, 90.09%); border: none;\">\n",
       "    <td style=\"padding: 0 1em 0 0.5em; text-align: right; border: none;\">\n",
       "        +0.595\n",
       "    </td>\n",
       "    <td style=\"padding: 0 0.5em 0 0.5em; text-align: left; border: none;\">\n",
       "        newington\n",
       "    </td>\n",
       "    \n",
       "</tr>\n",
       "        \n",
       "            <tr style=\"background-color: hsl(120, 100.00%, 90.15%); border: none;\">\n",
       "    <td style=\"padding: 0 1em 0 0.5em; text-align: right; border: none;\">\n",
       "        +0.590\n",
       "    </td>\n",
       "    <td style=\"padding: 0 0.5em 0 0.5em; text-align: left; border: none;\">\n",
       "        center\n",
       "    </td>\n",
       "    \n",
       "</tr>\n",
       "        \n",
       "            <tr style=\"background-color: hsl(120, 100.00%, 90.18%); border: none;\">\n",
       "    <td style=\"padding: 0 1em 0 0.5em; text-align: right; border: none;\">\n",
       "        +0.587\n",
       "    </td>\n",
       "    <td style=\"padding: 0 0.5em 0 0.5em; text-align: left; border: none;\">\n",
       "        dalston\n",
       "    </td>\n",
       "    \n",
       "</tr>\n",
       "        \n",
       "            <tr style=\"background-color: hsl(120, 100.00%, 90.27%); border: none;\">\n",
       "    <td style=\"padding: 0 1em 0 0.5em; text-align: right; border: none;\">\n",
       "        +0.579\n",
       "    </td>\n",
       "    <td style=\"padding: 0 0.5em 0 0.5em; text-align: left; border: none;\">\n",
       "        places\n",
       "    </td>\n",
       "    \n",
       "</tr>\n",
       "        \n",
       "            <tr style=\"background-color: hsl(120, 100.00%, 90.34%); border: none;\">\n",
       "    <td style=\"padding: 0 1em 0 0.5em; text-align: right; border: none;\">\n",
       "        +0.574\n",
       "    </td>\n",
       "    <td style=\"padding: 0 0.5em 0 0.5em; text-align: left; border: none;\">\n",
       "        rye\n",
       "    </td>\n",
       "    \n",
       "</tr>\n",
       "        \n",
       "            <tr style=\"background-color: hsl(120, 100.00%, 90.42%); border: none;\">\n",
       "    <td style=\"padding: 0 1em 0 0.5em; text-align: right; border: none;\">\n",
       "        +0.567\n",
       "    </td>\n",
       "    <td style=\"padding: 0 0.5em 0 0.5em; text-align: left; border: none;\">\n",
       "        need\n",
       "    </td>\n",
       "    \n",
       "</tr>\n",
       "        \n",
       "            <tr style=\"background-color: hsl(120, 100.00%, 90.47%); border: none;\">\n",
       "    <td style=\"padding: 0 1em 0 0.5em; text-align: right; border: none;\">\n",
       "        +0.563\n",
       "    </td>\n",
       "    <td style=\"padding: 0 0.5em 0 0.5em; text-align: left; border: none;\">\n",
       "        used\n",
       "    </td>\n",
       "    \n",
       "</tr>\n",
       "        \n",
       "            <tr style=\"background-color: hsl(120, 100.00%, 90.52%); border: none;\">\n",
       "    <td style=\"padding: 0 1em 0 0.5em; text-align: right; border: none;\">\n",
       "        +0.558\n",
       "    </td>\n",
       "    <td style=\"padding: 0 0.5em 0 0.5em; text-align: left; border: none;\">\n",
       "        lanes\n",
       "    </td>\n",
       "    \n",
       "</tr>\n",
       "        \n",
       "            <tr style=\"background-color: hsl(120, 100.00%, 90.52%); border: none;\">\n",
       "    <td style=\"padding: 0 1em 0 0.5em; text-align: right; border: none;\">\n",
       "        +0.558\n",
       "    </td>\n",
       "    <td style=\"padding: 0 0.5em 0 0.5em; text-align: left; border: none;\">\n",
       "        supermarket\n",
       "    </td>\n",
       "    \n",
       "</tr>\n",
       "        \n",
       "            <tr style=\"background-color: hsl(120, 100.00%, 90.60%); border: none;\">\n",
       "    <td style=\"padding: 0 1em 0 0.5em; text-align: right; border: none;\">\n",
       "        +0.552\n",
       "    </td>\n",
       "    <td style=\"padding: 0 0.5em 0 0.5em; text-align: left; border: none;\">\n",
       "        washing\n",
       "    </td>\n",
       "    \n",
       "</tr>\n",
       "        \n",
       "        \n",
       "            <tr style=\"background-color: hsl(120, 100.00%, 90.60%); border: none;\">\n",
       "                <td colspan=\"2\" style=\"padding: 0 0.5em 0 0.5em; text-align: center; border: none; white-space: nowrap;\">\n",
       "                    <i>&hellip; 3555 more positive &hellip;</i>\n",
       "                </td>\n",
       "            </tr>\n",
       "        \n",
       "\n",
       "        \n",
       "            <tr style=\"background-color: hsl(0, 100.00%, 90.62%); border: none;\">\n",
       "                <td colspan=\"2\" style=\"padding: 0 0.5em 0 0.5em; text-align: center; border: none; white-space: nowrap;\">\n",
       "                    <i>&hellip; 3399 more negative &hellip;</i>\n",
       "                </td>\n",
       "            </tr>\n",
       "        \n",
       "        \n",
       "            <tr style=\"background-color: hsl(0, 100.00%, 90.62%); border: none;\">\n",
       "    <td style=\"padding: 0 1em 0 0.5em; text-align: right; border: none;\">\n",
       "        -0.550\n",
       "    </td>\n",
       "    <td style=\"padding: 0 0.5em 0 0.5em; text-align: left; border: none;\">\n",
       "        large\n",
       "    </td>\n",
       "    \n",
       "</tr>\n",
       "        \n",
       "            <tr style=\"background-color: hsl(0, 100.00%, 90.60%); border: none;\">\n",
       "    <td style=\"padding: 0 1em 0 0.5em; text-align: right; border: none;\">\n",
       "        -0.552\n",
       "    </td>\n",
       "    <td style=\"padding: 0 0.5em 0 0.5em; text-align: left; border: none;\">\n",
       "        outlet\n",
       "    </td>\n",
       "    \n",
       "</tr>\n",
       "        \n",
       "            <tr style=\"background-color: hsl(0, 100.00%, 90.59%); border: none;\">\n",
       "    <td style=\"padding: 0 1em 0 0.5em; text-align: right; border: none;\">\n",
       "        -0.553\n",
       "    </td>\n",
       "    <td style=\"padding: 0 0.5em 0 0.5em; text-align: left; border: none;\">\n",
       "        style\n",
       "    </td>\n",
       "    \n",
       "</tr>\n",
       "        \n",
       "            <tr style=\"background-color: hsl(0, 100.00%, 90.55%); border: none;\">\n",
       "    <td style=\"padding: 0 1em 0 0.5em; text-align: right; border: none;\">\n",
       "        -0.556\n",
       "    </td>\n",
       "    <td style=\"padding: 0 0.5em 0 0.5em; text-align: left; border: none;\">\n",
       "        royal\n",
       "    </td>\n",
       "    \n",
       "</tr>\n",
       "        \n",
       "            <tr style=\"background-color: hsl(0, 100.00%, 90.52%); border: none;\">\n",
       "    <td style=\"padding: 0 1em 0 0.5em; text-align: right; border: none;\">\n",
       "        -0.559\n",
       "    </td>\n",
       "    <td style=\"padding: 0 0.5em 0 0.5em; text-align: left; border: none;\">\n",
       "        ceiling\n",
       "    </td>\n",
       "    \n",
       "</tr>\n",
       "        \n",
       "            <tr style=\"background-color: hsl(0, 100.00%, 90.49%); border: none;\">\n",
       "    <td style=\"padding: 0 1em 0 0.5em; text-align: right; border: none;\">\n",
       "        -0.562\n",
       "    </td>\n",
       "    <td style=\"padding: 0 0.5em 0 0.5em; text-align: left; border: none;\">\n",
       "        offered\n",
       "    </td>\n",
       "    \n",
       "</tr>\n",
       "        \n",
       "            <tr style=\"background-color: hsl(0, 100.00%, 90.45%); border: none;\">\n",
       "    <td style=\"padding: 0 1em 0 0.5em; text-align: right; border: none;\">\n",
       "        -0.565\n",
       "    </td>\n",
       "    <td style=\"padding: 0 0.5em 0 0.5em; text-align: left; border: none;\">\n",
       "        occupancy\n",
       "    </td>\n",
       "    \n",
       "</tr>\n",
       "        \n",
       "            <tr style=\"background-color: hsl(0, 100.00%, 90.45%); border: none;\">\n",
       "    <td style=\"padding: 0 1em 0 0.5em; text-align: right; border: none;\">\n",
       "        -0.565\n",
       "    </td>\n",
       "    <td style=\"padding: 0 0.5em 0 0.5em; text-align: left; border: none;\">\n",
       "        consists\n",
       "    </td>\n",
       "    \n",
       "</tr>\n",
       "        \n",
       "            <tr style=\"background-color: hsl(0, 100.00%, 90.42%); border: none;\">\n",
       "    <td style=\"padding: 0 1em 0 0.5em; text-align: right; border: none;\">\n",
       "        -0.567\n",
       "    </td>\n",
       "    <td style=\"padding: 0 0.5em 0 0.5em; text-align: left; border: none;\">\n",
       "        penthouse\n",
       "    </td>\n",
       "    \n",
       "</tr>\n",
       "        \n",
       "            <tr style=\"background-color: hsl(0, 100.00%, 90.39%); border: none;\">\n",
       "    <td style=\"padding: 0 1em 0 0.5em; text-align: right; border: none;\">\n",
       "        -0.570\n",
       "    </td>\n",
       "    <td style=\"padding: 0 0.5em 0 0.5em; text-align: left; border: none;\">\n",
       "        drive\n",
       "    </td>\n",
       "    \n",
       "</tr>\n",
       "        \n",
       "            <tr style=\"background-color: hsl(0, 100.00%, 90.38%); border: none;\">\n",
       "    <td style=\"padding: 0 1em 0 0.5em; text-align: right; border: none;\">\n",
       "        -0.570\n",
       "    </td>\n",
       "    <td style=\"padding: 0 0.5em 0 0.5em; text-align: left; border: none;\">\n",
       "        sleeps\n",
       "    </td>\n",
       "    \n",
       "</tr>\n",
       "        \n",
       "            <tr style=\"background-color: hsl(0, 100.00%, 90.37%); border: none;\">\n",
       "    <td style=\"padding: 0 1em 0 0.5em; text-align: right; border: none;\">\n",
       "        -0.571\n",
       "    </td>\n",
       "    <td style=\"padding: 0 0.5em 0 0.5em; text-align: left; border: none;\">\n",
       "        en\n",
       "    </td>\n",
       "    \n",
       "</tr>\n",
       "        \n",
       "            <tr style=\"background-color: hsl(0, 100.00%, 90.32%); border: none;\">\n",
       "    <td style=\"padding: 0 1em 0 0.5em; text-align: right; border: none;\">\n",
       "        -0.576\n",
       "    </td>\n",
       "    <td style=\"padding: 0 0.5em 0 0.5em; text-align: left; border: none;\">\n",
       "        presented\n",
       "    </td>\n",
       "    \n",
       "</tr>\n",
       "        \n",
       "            <tr style=\"background-color: hsl(0, 100.00%, 90.30%); border: none;\">\n",
       "    <td style=\"padding: 0 1em 0 0.5em; text-align: right; border: none;\">\n",
       "        -0.577\n",
       "    </td>\n",
       "    <td style=\"padding: 0 0.5em 0 0.5em; text-align: left; border: none;\">\n",
       "        market\n",
       "    </td>\n",
       "    \n",
       "</tr>\n",
       "        \n",
       "            <tr style=\"background-color: hsl(0, 100.00%, 90.28%); border: none;\">\n",
       "    <td style=\"padding: 0 1em 0 0.5em; text-align: right; border: none;\">\n",
       "        -0.579\n",
       "    </td>\n",
       "    <td style=\"padding: 0 0.5em 0 0.5em; text-align: left; border: none;\">\n",
       "        rooms\n",
       "    </td>\n",
       "    \n",
       "</tr>\n",
       "        \n",
       "            <tr style=\"background-color: hsl(0, 100.00%, 90.28%); border: none;\">\n",
       "    <td style=\"padding: 0 1em 0 0.5em; text-align: right; border: none;\">\n",
       "        -0.579\n",
       "    </td>\n",
       "    <td style=\"padding: 0 0.5em 0 0.5em; text-align: left; border: none;\">\n",
       "        guest\n",
       "    </td>\n",
       "    \n",
       "</tr>\n",
       "        \n",
       "            <tr style=\"background-color: hsl(0, 100.00%, 90.27%); border: none;\">\n",
       "    <td style=\"padding: 0 1em 0 0.5em; text-align: right; border: none;\">\n",
       "        -0.580\n",
       "    </td>\n",
       "    <td style=\"padding: 0 0.5em 0 0.5em; text-align: left; border: none;\">\n",
       "        film\n",
       "    </td>\n",
       "    \n",
       "</tr>\n",
       "        \n",
       "            <tr style=\"background-color: hsl(0, 100.00%, 90.21%); border: none;\">\n",
       "    <td style=\"padding: 0 1em 0 0.5em; text-align: right; border: none;\">\n",
       "        -0.585\n",
       "    </td>\n",
       "    <td style=\"padding: 0 0.5em 0 0.5em; text-align: left; border: none;\">\n",
       "        features\n",
       "    </td>\n",
       "    \n",
       "</tr>\n",
       "        \n",
       "            <tr style=\"background-color: hsl(0, 100.00%, 90.19%); border: none;\">\n",
       "    <td style=\"padding: 0 1em 0 0.5em; text-align: right; border: none;\">\n",
       "        -0.587\n",
       "    </td>\n",
       "    <td style=\"padding: 0 0.5em 0 0.5em; text-align: left; border: none;\">\n",
       "        iconic\n",
       "    </td>\n",
       "    \n",
       "</tr>\n",
       "        \n",
       "            <tr style=\"background-color: hsl(0, 100.00%, 90.09%); border: none;\">\n",
       "    <td style=\"padding: 0 1em 0 0.5em; text-align: right; border: none;\">\n",
       "        -0.595\n",
       "    </td>\n",
       "    <td style=\"padding: 0 0.5em 0 0.5em; text-align: left; border: none;\">\n",
       "        hampstead\n",
       "    </td>\n",
       "    \n",
       "</tr>\n",
       "        \n",
       "            <tr style=\"background-color: hsl(0, 100.00%, 90.00%); border: none;\">\n",
       "    <td style=\"padding: 0 1em 0 0.5em; text-align: right; border: none;\">\n",
       "        -0.603\n",
       "    </td>\n",
       "    <td style=\"padding: 0 0.5em 0 0.5em; text-align: left; border: none;\">\n",
       "        array\n",
       "    </td>\n",
       "    \n",
       "</tr>\n",
       "        \n",
       "            <tr style=\"background-color: hsl(0, 100.00%, 89.87%); border: none;\">\n",
       "    <td style=\"padding: 0 1em 0 0.5em; text-align: right; border: none;\">\n",
       "        -0.614\n",
       "    </td>\n",
       "    <td style=\"padding: 0 0.5em 0 0.5em; text-align: left; border: none;\">\n",
       "        wonderful\n",
       "    </td>\n",
       "    \n",
       "</tr>\n",
       "        \n",
       "            <tr style=\"background-color: hsl(0, 100.00%, 89.83%); border: none;\">\n",
       "    <td style=\"padding: 0 1em 0 0.5em; text-align: right; border: none;\">\n",
       "        -0.618\n",
       "    </td>\n",
       "    <td style=\"padding: 0 0.5em 0 0.5em; text-align: left; border: none;\">\n",
       "        seating\n",
       "    </td>\n",
       "    \n",
       "</tr>\n",
       "        \n",
       "            <tr style=\"background-color: hsl(0, 100.00%, 89.83%); border: none;\">\n",
       "    <td style=\"padding: 0 1em 0 0.5em; text-align: right; border: none;\">\n",
       "        -0.618\n",
       "    </td>\n",
       "    <td style=\"padding: 0 0.5em 0 0.5em; text-align: left; border: none;\">\n",
       "        knightsbridge\n",
       "    </td>\n",
       "    \n",
       "</tr>\n",
       "        \n",
       "            <tr style=\"background-color: hsl(0, 100.00%, 89.72%); border: none;\">\n",
       "    <td style=\"padding: 0 1em 0 0.5em; text-align: right; border: none;\">\n",
       "        -0.627\n",
       "    </td>\n",
       "    <td style=\"padding: 0 0.5em 0 0.5em; text-align: left; border: none;\">\n",
       "        angel\n",
       "    </td>\n",
       "    \n",
       "</tr>\n",
       "        \n",
       "            <tr style=\"background-color: hsl(0, 100.00%, 89.66%); border: none;\">\n",
       "    <td style=\"padding: 0 1em 0 0.5em; text-align: right; border: none;\">\n",
       "        -0.632\n",
       "    </td>\n",
       "    <td style=\"padding: 0 0.5em 0 0.5em; text-align: left; border: none;\">\n",
       "        safe\n",
       "    </td>\n",
       "    \n",
       "</tr>\n",
       "        \n",
       "            <tr style=\"background-color: hsl(0, 100.00%, 89.42%); border: none;\">\n",
       "    <td style=\"padding: 0 1em 0 0.5em; text-align: right; border: none;\">\n",
       "        -0.653\n",
       "    </td>\n",
       "    <td style=\"padding: 0 0.5em 0 0.5em; text-align: left; border: none;\">\n",
       "        study\n",
       "    </td>\n",
       "    \n",
       "</tr>\n",
       "        \n",
       "            <tr style=\"background-color: hsl(0, 100.00%, 89.36%); border: none;\">\n",
       "    <td style=\"padding: 0 1em 0 0.5em; text-align: right; border: none;\">\n",
       "        -0.659\n",
       "    </td>\n",
       "    <td style=\"padding: 0 0.5em 0 0.5em; text-align: left; border: none;\">\n",
       "        river\n",
       "    </td>\n",
       "    \n",
       "</tr>\n",
       "        \n",
       "            <tr style=\"background-color: hsl(0, 100.00%, 89.29%); border: none;\">\n",
       "    <td style=\"padding: 0 1em 0 0.5em; text-align: right; border: none;\">\n",
       "        -0.665\n",
       "    </td>\n",
       "    <td style=\"padding: 0 0.5em 0 0.5em; text-align: left; border: none;\">\n",
       "        flower\n",
       "    </td>\n",
       "    \n",
       "</tr>\n",
       "        \n",
       "            <tr style=\"background-color: hsl(0, 100.00%, 89.28%); border: none;\">\n",
       "    <td style=\"padding: 0 1em 0 0.5em; text-align: right; border: none;\">\n",
       "        -0.666\n",
       "    </td>\n",
       "    <td style=\"padding: 0 0.5em 0 0.5em; text-align: left; border: none;\">\n",
       "        concierge\n",
       "    </td>\n",
       "    \n",
       "</tr>\n",
       "        \n",
       "            <tr style=\"background-color: hsl(0, 100.00%, 89.15%); border: none;\">\n",
       "    <td style=\"padding: 0 1em 0 0.5em; text-align: right; border: none;\">\n",
       "        -0.678\n",
       "    </td>\n",
       "    <td style=\"padding: 0 0.5em 0 0.5em; text-align: left; border: none;\">\n",
       "        private\n",
       "    </td>\n",
       "    \n",
       "</tr>\n",
       "        \n",
       "            <tr style=\"background-color: hsl(0, 100.00%, 89.06%); border: none;\">\n",
       "    <td style=\"padding: 0 1em 0 0.5em; text-align: right; border: none;\">\n",
       "        -0.686\n",
       "    </td>\n",
       "    <td style=\"padding: 0 0.5em 0 0.5em; text-align: left; border: none;\">\n",
       "        week\n",
       "    </td>\n",
       "    \n",
       "</tr>\n",
       "        \n",
       "            <tr style=\"background-color: hsl(0, 100.00%, 89.01%); border: none;\">\n",
       "    <td style=\"padding: 0 1em 0 0.5em; text-align: right; border: none;\">\n",
       "        -0.690\n",
       "    </td>\n",
       "    <td style=\"padding: 0 0.5em 0 0.5em; text-align: left; border: none;\">\n",
       "        open\n",
       "    </td>\n",
       "    \n",
       "</tr>\n",
       "        \n",
       "            <tr style=\"background-color: hsl(0, 100.00%, 88.94%); border: none;\">\n",
       "    <td style=\"padding: 0 1em 0 0.5em; text-align: right; border: none;\">\n",
       "        -0.696\n",
       "    </td>\n",
       "    <td style=\"padding: 0 0.5em 0 0.5em; text-align: left; border: none;\">\n",
       "        buses\n",
       "    </td>\n",
       "    \n",
       "</tr>\n",
       "        \n",
       "            <tr style=\"background-color: hsl(0, 100.00%, 88.84%); border: none;\">\n",
       "    <td style=\"padding: 0 1em 0 0.5em; text-align: right; border: none;\">\n",
       "        -0.706\n",
       "    </td>\n",
       "    <td style=\"padding: 0 0.5em 0 0.5em; text-align: left; border: none;\">\n",
       "        suite\n",
       "    </td>\n",
       "    \n",
       "</tr>\n",
       "        \n",
       "            <tr style=\"background-color: hsl(0, 100.00%, 88.79%); border: none;\">\n",
       "    <td style=\"padding: 0 1em 0 0.5em; text-align: right; border: none;\">\n",
       "        -0.710\n",
       "    </td>\n",
       "    <td style=\"padding: 0 0.5em 0 0.5em; text-align: left; border: none;\">\n",
       "        shard\n",
       "    </td>\n",
       "    \n",
       "</tr>\n",
       "        \n",
       "            <tr style=\"background-color: hsl(0, 100.00%, 88.71%); border: none;\">\n",
       "    <td style=\"padding: 0 1em 0 0.5em; text-align: right; border: none;\">\n",
       "        -0.717\n",
       "    </td>\n",
       "    <td style=\"padding: 0 0.5em 0 0.5em; text-align: left; border: none;\">\n",
       "        light\n",
       "    </td>\n",
       "    \n",
       "</tr>\n",
       "        \n",
       "            <tr style=\"background-color: hsl(0, 100.00%, 88.46%); border: none;\">\n",
       "    <td style=\"padding: 0 1em 0 0.5em; text-align: right; border: none;\">\n",
       "        -0.740\n",
       "    </td>\n",
       "    <td style=\"padding: 0 0.5em 0 0.5em; text-align: left; border: none;\">\n",
       "        interior\n",
       "    </td>\n",
       "    \n",
       "</tr>\n",
       "        \n",
       "            <tr style=\"background-color: hsl(0, 100.00%, 88.25%); border: none;\">\n",
       "    <td style=\"padding: 0 1em 0 0.5em; text-align: right; border: none;\">\n",
       "        -0.760\n",
       "    </td>\n",
       "    <td style=\"padding: 0 0.5em 0 0.5em; text-align: left; border: none;\">\n",
       "        clerkenwell\n",
       "    </td>\n",
       "    \n",
       "</tr>\n",
       "        \n",
       "            <tr style=\"background-color: hsl(0, 100.00%, 87.84%); border: none;\">\n",
       "    <td style=\"padding: 0 1em 0 0.5em; text-align: right; border: none;\">\n",
       "        -0.798\n",
       "    </td>\n",
       "    <td style=\"padding: 0 0.5em 0 0.5em; text-align: left; border: none;\">\n",
       "        luxury\n",
       "    </td>\n",
       "    \n",
       "</tr>\n",
       "        \n",
       "            <tr style=\"background-color: hsl(0, 100.00%, 87.68%); border: none;\">\n",
       "    <td style=\"padding: 0 1em 0 0.5em; text-align: right; border: none;\">\n",
       "        -0.812\n",
       "    </td>\n",
       "    <td style=\"padding: 0 0.5em 0 0.5em; text-align: left; border: none;\">\n",
       "        long\n",
       "    </td>\n",
       "    \n",
       "</tr>\n",
       "        \n",
       "            <tr style=\"background-color: hsl(0, 100.00%, 87.66%); border: none;\">\n",
       "    <td style=\"padding: 0 1em 0 0.5em; text-align: right; border: none;\">\n",
       "        -0.814\n",
       "    </td>\n",
       "    <td style=\"padding: 0 0.5em 0 0.5em; text-align: left; border: none;\">\n",
       "        comfortable\n",
       "    </td>\n",
       "    \n",
       "</tr>\n",
       "        \n",
       "            <tr style=\"background-color: hsl(0, 100.00%, 87.65%); border: none;\">\n",
       "    <td style=\"padding: 0 1em 0 0.5em; text-align: right; border: none;\">\n",
       "        -0.815\n",
       "    </td>\n",
       "    <td style=\"padding: 0 0.5em 0 0.5em; text-align: left; border: none;\">\n",
       "        heart\n",
       "    </td>\n",
       "    \n",
       "</tr>\n",
       "        \n",
       "            <tr style=\"background-color: hsl(0, 100.00%, 87.64%); border: none;\">\n",
       "    <td style=\"padding: 0 1em 0 0.5em; text-align: right; border: none;\">\n",
       "        -0.816\n",
       "    </td>\n",
       "    <td style=\"padding: 0 0.5em 0 0.5em; text-align: left; border: none;\">\n",
       "        terrace\n",
       "    </td>\n",
       "    \n",
       "</tr>\n",
       "        \n",
       "            <tr style=\"background-color: hsl(0, 100.00%, 87.51%); border: none;\">\n",
       "    <td style=\"padding: 0 1em 0 0.5em; text-align: right; border: none;\">\n",
       "        -0.828\n",
       "    </td>\n",
       "    <td style=\"padding: 0 0.5em 0 0.5em; text-align: left; border: none;\">\n",
       "        village\n",
       "    </td>\n",
       "    \n",
       "</tr>\n",
       "        \n",
       "            <tr style=\"background-color: hsl(0, 100.00%, 87.42%); border: none;\">\n",
       "    <td style=\"padding: 0 1em 0 0.5em; text-align: right; border: none;\">\n",
       "        -0.837\n",
       "    </td>\n",
       "    <td style=\"padding: 0 0.5em 0 0.5em; text-align: left; border: none;\">\n",
       "        plan\n",
       "    </td>\n",
       "    \n",
       "</tr>\n",
       "        \n",
       "            <tr style=\"background-color: hsl(0, 100.00%, 86.56%); border: none;\">\n",
       "    <td style=\"padding: 0 1em 0 0.5em; text-align: right; border: none;\">\n",
       "        -0.920\n",
       "    </td>\n",
       "    <td style=\"padding: 0 0.5em 0 0.5em; text-align: left; border: none;\">\n",
       "        shoreditch\n",
       "    </td>\n",
       "    \n",
       "</tr>\n",
       "        \n",
       "            <tr style=\"background-color: hsl(0, 100.00%, 86.47%); border: none;\">\n",
       "    <td style=\"padding: 0 1em 0 0.5em; text-align: right; border: none;\">\n",
       "        -0.929\n",
       "    </td>\n",
       "    <td style=\"padding: 0 0.5em 0 0.5em; text-align: left; border: none;\">\n",
       "        luxurious\n",
       "    </td>\n",
       "    \n",
       "</tr>\n",
       "        \n",
       "            <tr style=\"background-color: hsl(0, 100.00%, 84.77%); border: none;\">\n",
       "    <td style=\"padding: 0 1em 0 0.5em; text-align: right; border: none;\">\n",
       "        -1.100\n",
       "    </td>\n",
       "    <td style=\"padding: 0 0.5em 0 0.5em; text-align: left; border: none;\">\n",
       "        ensuite\n",
       "    </td>\n",
       "    \n",
       "</tr>\n",
       "        \n",
       "            <tr style=\"background-color: hsl(0, 100.00%, 84.66%); border: none;\">\n",
       "    <td style=\"padding: 0 1em 0 0.5em; text-align: right; border: none;\">\n",
       "        -1.111\n",
       "    </td>\n",
       "    <td style=\"padding: 0 0.5em 0 0.5em; text-align: left; border: none;\">\n",
       "        balcony\n",
       "    </td>\n",
       "    \n",
       "</tr>\n",
       "        \n",
       "            <tr style=\"background-color: hsl(0, 100.00%, 82.75%); border: none;\">\n",
       "    <td style=\"padding: 0 1em 0 0.5em; text-align: right; border: none;\">\n",
       "        -1.314\n",
       "    </td>\n",
       "    <td style=\"padding: 0 0.5em 0 0.5em; text-align: left; border: none;\">\n",
       "        hoxton\n",
       "    </td>\n",
       "    \n",
       "</tr>\n",
       "        \n",
       "            <tr style=\"background-color: hsl(0, 100.00%, 81.37%); border: none;\">\n",
       "    <td style=\"padding: 0 1em 0 0.5em; text-align: right; border: none;\">\n",
       "        -1.466\n",
       "    </td>\n",
       "    <td style=\"padding: 0 0.5em 0 0.5em; text-align: left; border: none;\">\n",
       "        single\n",
       "    </td>\n",
       "    \n",
       "</tr>\n",
       "        \n",
       "\n",
       "        </tbody>\n",
       "    </table>\n",
       "\n",
       "            \n",
       "        \n",
       "\n",
       "        \n",
       "\n",
       "\n",
       "\n",
       "    \n",
       "\n",
       "    \n",
       "\n",
       "    \n",
       "\n",
       "    \n",
       "\n",
       "\n",
       "    \n",
       "\n",
       "    \n",
       "\n",
       "    \n",
       "\n",
       "    \n",
       "\n",
       "    \n",
       "\n",
       "    \n",
       "\n",
       "\n",
       "    \n",
       "\n",
       "    \n",
       "\n",
       "    \n",
       "\n",
       "    \n",
       "\n",
       "    \n",
       "\n",
       "    \n",
       "\n",
       "\n",
       "\n"
      ],
      "text/plain": [
       "Explanation(estimator=\"LogisticRegression(C=0.38566204211634725, solver='liblinear')\", description=\"\\nFeatures with largest coefficients.\\nCaveats:\\n1. Be careful with features which are not\\n   independent - weights don't show their importance.\\n2. If scale of input features is different then scale of coefficients\\n   will also be different, making direct comparison between coefficient values\\n   incorrect.\\n3. Depending on regularization, rare features sometimes may have high\\n   coefficients; this doesn't mean they contribute much to the\\n   classification result for most examples.\\n\", error=None, method='linear model', is_regression=False, targets=[TargetExplanation(target=True, feature_weights=FeatureWeights(pos=[FeatureWeight(feature='double', weight=1.622988991068766, std=None, value=None), FeatureWeight(feature='bus', weight=1.2798706772440875, std=None, value=None), FeatureWeight(feature='peckham', weight=1.2716367096286445, std=None, value=None), FeatureWeight(feature='studio', weight=1.190182267416103, std=None, value=None), FeatureWeight(feature='kitchen', weight=1.088981582453128, std=None, value=None), FeatureWeight(feature='couples', weight=1.049848711269763, std=None, value=None), FeatureWeight(feature='cooking', weight=1.0289173430609881, std=None, value=None), FeatureWeight(feature='venice', weight=1.0069759408029484, std=None, value=None), FeatureWeight(feature='east', weight=1.0068366591710716, std=None, value=None), FeatureWeight(feature='couple', weight=0.9854400700390699, std=None, value=None), FeatureWeight(feature='check', weight=0.8988760272306648, std=None, value=None), FeatureWeight(feature='help', weight=0.8830042397627053, std=None, value=None), FeatureWeight(feature='big', weight=0.8721665571807955, std=None, value=None), FeatureWeight(feature='flat', weight=0.8569348228209835, std=None, value=None), FeatureWeight(feature='night', weight=0.8345863844365182, std=None, value=None), FeatureWeight(feature='water', weight=0.8139291013095543, std=None, value=None), FeatureWeight(feature='bethnal', weight=0.8070285173644826, std=None, value=None), FeatureWeight(feature='shared', weight=0.800135849809597, std=None, value=None), FeatureWeight(feature='edgware', weight=0.7906044875659721, std=None, value=None), FeatureWeight(feature='hill', weight=0.7745500785655047, std=None, value=None), FeatureWeight(feature='shops', weight=0.7697784009933871, std=None, value=None), FeatureWeight(feature='hyde', weight=0.750234976429736, std=None, value=None), FeatureWeight(feature='toilet', weight=0.7457537335850847, std=None, value=None), FeatureWeight(feature='great', weight=0.7210387609969447, std=None, value=None), FeatureWeight(feature='cozy', weight=0.6912344508375825, std=None, value=None), FeatureWeight(feature='morden', weight=0.6791746783181644, std=None, value=None), FeatureWeight(feature='paddington', weight=0.6711278239986286, std=None, value=None), FeatureWeight(feature='wick', weight=0.6708646103436173, std=None, value=None), FeatureWeight(feature='pimlico', weight=0.6692413619249374, std=None, value=None), FeatureWeight(feature='maida', weight=0.6631870392754243, std=None, value=None), FeatureWeight(feature='hours', weight=0.6615932300345252, std=None, value=None), FeatureWeight(feature='vale', weight=0.6573402499734682, std=None, value=None), FeatureWeight(feature='heathrow', weight=0.6479576215967411, std=None, value=None), FeatureWeight(feature='access', weight=0.6310665174848826, std=None, value=None), FeatureWeight(feature='dulwich', weight=0.6217219709543088, std=None, value=None), FeatureWeight(feature='hammersmith', weight=0.6094219036487307, std=None, value=None), FeatureWeight(feature='tooting', weight=0.6086313836856995, std=None, value=None), FeatureWeight(feature='station', weight=0.6014349503209178, std=None, value=None), FeatureWeight(feature='newington', weight=0.5952866325470849, std=None, value=None), FeatureWeight(feature='center', weight=0.5897880415799509, std=None, value=None), FeatureWeight(feature='dalston', weight=0.5870900440202936, std=None, value=None), FeatureWeight(feature='places', weight=0.5794076402427748, std=None, value=None), FeatureWeight(feature='rye', weight=0.5736230664732812, std=None, value=None), FeatureWeight(feature='need', weight=0.5671075134790164, std=None, value=None), FeatureWeight(feature='used', weight=0.562736711550758, std=None, value=None), FeatureWeight(feature='lanes', weight=0.5583510378872723, std=None, value=None), FeatureWeight(feature='supermarket', weight=0.5583315342263631, std=None, value=None), FeatureWeight(feature='washing', weight=0.5515192873002143, std=None, value=None)], neg=[FeatureWeight(feature='single', weight=-1.466119394184171, std=None, value=None), FeatureWeight(feature='hoxton', weight=-1.3135018365873365, std=None, value=None), FeatureWeight(feature='balcony', weight=-1.1111175094171128, std=None, value=None), FeatureWeight(feature='ensuite', weight=-1.0995465009399417, std=None, value=None), FeatureWeight(feature='luxurious', weight=-0.9290571905123197, std=None, value=None), FeatureWeight(feature='shoreditch', weight=-0.9202051834530873, std=None, value=None), FeatureWeight(feature='plan', weight=-0.836601381431411, std=None, value=None), FeatureWeight(feature='village', weight=-0.8280422575493254, std=None, value=None), FeatureWeight(feature='terrace', weight=-0.8163405617739103, std=None, value=None), FeatureWeight(feature='heart', weight=-0.8149582264568301, std=None, value=None), FeatureWeight(feature='comfortable', weight=-0.8139194027296706, std=None, value=None), FeatureWeight(feature='long', weight=-0.8122027467144117, std=None, value=None), FeatureWeight(feature='luxury', weight=-0.7976296568001037, std=None, value=None), FeatureWeight(feature='clerkenwell', weight=-0.7595120215850916, std=None, value=None), FeatureWeight(feature='interior', weight=-0.7401663235173488, std=None, value=None), FeatureWeight(feature='light', weight=-0.7168336364039044, std=None, value=None), FeatureWeight(feature='shard', weight=-0.7098075720786156, std=None, value=None), FeatureWeight(feature='suite', weight=-0.7055569555568544, std=None, value=None), FeatureWeight(feature='buses', weight=-0.695983031166126, std=None, value=None), FeatureWeight(feature='open', weight=-0.6899228420741075, std=None, value=None), FeatureWeight(feature='week', weight=-0.6856534128895229, std=None, value=None), FeatureWeight(feature='private', weight=-0.6776044889501371, std=None, value=None), FeatureWeight(feature='concierge', weight=-0.6658508356666488, std=None, value=None), FeatureWeight(feature='flower', weight=-0.6646659009868164, std=None, value=None), FeatureWeight(feature='river', weight=-0.6588374076611286, std=None, value=None), FeatureWeight(feature='study', weight=-0.6533602348732852, std=None, value=None), FeatureWeight(feature='safe', weight=-0.6324220133853067, std=None, value=None), FeatureWeight(feature='angel', weight=-0.6270382141205888, std=None, value=None), FeatureWeight(feature='knightsbridge', weight=-0.617596406538853, std=None, value=None), FeatureWeight(feature='seating', weight=-0.6175955593186778, std=None, value=None), FeatureWeight(feature='wonderful', weight=-0.6138500288997988, std=None, value=None), FeatureWeight(feature='array', weight=-0.6032007898184927, std=None, value=None), FeatureWeight(feature='hampstead', weight=-0.5949733713836779, std=None, value=None), FeatureWeight(feature='iconic', weight=-0.5865588979262506, std=None, value=None), FeatureWeight(feature='features', weight=-0.584849768953137, std=None, value=None), FeatureWeight(feature='film', weight=-0.5800047112538631, std=None, value=None), FeatureWeight(feature='guest', weight=-0.5791373229664675, std=None, value=None), FeatureWeight(feature='rooms', weight=-0.5790903504832855, std=None, value=None), FeatureWeight(feature='market', weight=-0.5770364142891503, std=None, value=None), FeatureWeight(feature='presented', weight=-0.5755612137529253, std=None, value=None), FeatureWeight(feature='en', weight=-0.571316352329556, std=None, value=None), FeatureWeight(feature='sleeps', weight=-0.5702298205235076, std=None, value=None), FeatureWeight(feature='drive', weight=-0.56990110910602, std=None, value=None), FeatureWeight(feature='penthouse', weight=-0.5674784367780944, std=None, value=None), FeatureWeight(feature='consists', weight=-0.5647752188488271, std=None, value=None), FeatureWeight(feature='occupancy', weight=-0.564639975609731, std=None, value=None), FeatureWeight(feature='offered', weight=-0.5615555527522774, std=None, value=None), FeatureWeight(feature='ceiling', weight=-0.5585612920717598, std=None, value=None), FeatureWeight(feature='royal', weight=-0.5557354998733258, std=None, value=None), FeatureWeight(feature='style', weight=-0.5529459868961062, std=None, value=None), FeatureWeight(feature='outlet', weight=-0.5515542070328857, std=None, value=None), FeatureWeight(feature='large', weight=-0.5500468140238757, std=None, value=None)], pos_remaining=3555, neg_remaining=3399), proba=None, score=None, weighted_spans=None, heatmap=None)], feature_importances=None, decision_tree=None, highlight_spaces=None, transition_features=None, image=None)"
      ]
     },
     "execution_count": 1596,
     "metadata": {},
     "output_type": "execute_result"
    }
   ],
   "source": [
    "eli5.explain_weights(search.best_estimator_, feature_names=vectorizer.get_feature_names(), top=100)"
   ]
  },
  {
   "cell_type": "code",
   "execution_count": 1597,
   "metadata": {},
   "outputs": [],
   "source": [
    "import numpy as np"
   ]
  },
  {
   "cell_type": "code",
   "execution_count": 1598,
   "metadata": {},
   "outputs": [],
   "source": [
    "feature_names = np.array(vectorizer.get_feature_names())"
   ]
  },
  {
   "cell_type": "code",
   "execution_count": 1599,
   "metadata": {},
   "outputs": [],
   "source": [
    "best_features = feature_names[np.argsort(-search.best_estimator_.coef_)][0, 0:1000]"
   ]
  },
  {
   "cell_type": "code",
   "execution_count": 1600,
   "metadata": {},
   "outputs": [],
   "source": [
    "from tqdm import tqdm_notebook"
   ]
  },
  {
   "cell_type": "code",
   "execution_count": 1601,
   "metadata": {},
   "outputs": [],
   "source": [
    "regions = listings_df[\"neighbourhood_cleansed\"].str.lower().unique().tolist()"
   ]
  },
  {
   "cell_type": "code",
   "execution_count": 1602,
   "metadata": {},
   "outputs": [],
   "source": [
    "from scipy.stats import ttest_ind, mannwhitneyu"
   ]
  },
  {
   "cell_type": "code",
   "execution_count": 1603,
   "metadata": {},
   "outputs": [],
   "source": [
    "# found_places = []\n",
    "# all_found_places_df = []"
   ]
  },
  {
   "cell_type": "code",
   "execution_count": 1604,
   "metadata": {
    "scrolled": false
   },
   "outputs": [
    {
     "name": "stderr",
     "output_type": "stream",
     "text": [
      "/home/anatoli/.local/lib/python3.7/site-packages/ipykernel_launcher.py:1: TqdmDeprecationWarning:\n",
      "\n",
      "This function will be removed in tqdm==5.0.0\n",
      "Please use `tqdm.notebook.tqdm` instead of `tqdm.tqdm_notebook`\n",
      "\n"
     ]
    },
    {
     "data": {
      "application/vnd.jupyter.widget-view+json": {
       "model_id": "200c829772434fe5af1605c40016ae91",
       "version_major": 2,
       "version_minor": 0
      },
      "text/plain": [
       "HBox(children=(FloatProgress(value=0.0, max=1000.0), HTML(value='')))"
      ]
     },
     "metadata": {},
     "output_type": "display_data"
    },
    {
     "name": "stdout",
     "output_type": "stream",
     "text": [
      "peckham -0.23773441473356643 1.5319166097077098e-11\n",
      "bethnal -0.12258846099117059 0.04852760026187321\n",
      "morden -0.09163795759594177 0.23783997434338466\n",
      "Not significant\n",
      "maida -0.23188371544257771 9.18792107301194e-08\n",
      "tooting -0.08948724378020521 0.00018505052038862813\n",
      "newington -0.13880645673142725 0.05897416612355697\n",
      "Not significant\n",
      "dalston -0.11170691318917861 0.16845540124717107\n",
      "Not significant\n",
      "camberwell -0.2412468843313477 7.111759608033074e-08\n",
      "catford -0.27794479537968103 0.0031158253650241875\n",
      "portobello -0.11232699463486105 1.9516552003023763e-05\n",
      "kilburn -0.08617936844332762 0.06423863359189368\n",
      "Not significant\n",
      "golborne -0.2206218386597863 0.00713469606912019\n",
      "bayswater -0.25824893414631783 5.321803109657346e-06\n",
      "feltham -0.32158724206256195 0.0015585853932511386\n",
      "queensway -0.16770294754827195 0.0062769548744738175\n",
      "marylebone 0.012441580890617874 0.005904159441795267\n",
      "Not significant\n",
      "holloway -0.08990007405820492 0.26343285846085857\n",
      "Not significant\n",
      "roehampton -0.2604162392169496 0.045635380661530334\n",
      "chatsworth -0.1277314410092011 0.20418879023743197\n",
      "Not significant\n",
      "brockwell -0.10822070444719319 0.3597523319916491\n",
      "Not significant\n",
      "surbiton -0.143396783029701 0.056874326600106974\n",
      "Not significant\n",
      "stoke -0.14651666760357906 0.0310272102013966\n",
      "canada -0.1437573008712544 0.037041256921299275\n",
      "swiss -0.24753701499494032 0.011186123587720774\n",
      "stepney -0.055274656801746314 0.08962850968916874\n",
      "Not significant\n",
      "clissold -0.14422516299430535 0.12543436306168448\n",
      "Not significant\n",
      "bermondsey -0.09896940062677216 0.48977277364676086\n",
      "Not significant\n",
      "sydenham 0.026808988409738124 0.3191333980867528\n",
      "Not significant\n",
      "ladywell -0.20074422241665915 0.010659645051601118\n",
      "colliers -0.20089044273110174 0.05040931240317297\n",
      "Not significant\n",
      "sisters -0.3064371434226263 4.592460862945731e-07\n",
      "clapton -0.09691064645576201 0.48063168262224154\n",
      "Not significant\n",
      "quays -0.2224922095211913 0.004415075686450622\n",
      "kingsland -0.03072199279829955 0.08382826198533944\n",
      "Not significant\n",
      "elephant -0.1686869848672678 0.012191951979300003\n",
      "edmonton -0.3195690542289627 0.01507905442828884\n",
      "kensal -0.09650820727412251 0.2560436621075163\n",
      "Not significant\n",
      "finsbury -0.13839431496913465 0.02780288051091957\n",
      "ladbroke -0.06574292674392669 0.4104599285878513\n",
      "Not significant\n",
      "streatham -0.19042104671337926 0.0019614645697306507\n",
      "rotherhithe -0.3306979856619842 0.004568266145571946\n",
      "hendon -0.083154518164411 0.44619317425040994\n",
      "Not significant\n",
      "nunhead -0.21643090948973745 0.011519938647432964\n",
      "abney -0.21104191811285047 0.06336105636855208\n",
      "Not significant\n",
      "crouch -0.11177370400189263 0.2843801686829565\n",
      "Not significant\n",
      "walthamstow -0.09878751755002584 0.3916566996782257\n",
      "Not significant\n",
      "southfields -0.07101316894630177 0.4591241666887835\n",
      "Not significant\n",
      "bussey -0.30309689047666655 3.7051404836591714e-05\n",
      "norwood -0.08996208295329577 0.37223319660694276\n",
      "Not significant\n",
      "brompton -0.05829684406848352 0.3611287338855016\n",
      "Not significant\n",
      "stroud -0.19564076481738946 0.061025174015574384\n",
      "Not significant\n",
      "thornton -0.12222186748487414 0.22301856005824294\n",
      "Not significant\n",
      "limehouse -0.2061930282663506 0.009331318308472811\n",
      "baron -0.06611134647126796 0.49856716396054696\n",
      "Not significant\n",
      "zebra -0.35498965219873174 0.0019755277434348574\n",
      "sheen -0.20162266192267372 0.1600792972094277\n",
      "Not significant\n",
      "caledonian -0.08884506613649672 0.3234442353178919\n",
      "Not significant\n",
      "ledbury -0.27155853743041974 0.0028314556612884668\n",
      "\n"
     ]
    }
   ],
   "source": [
    "for place in tqdm_notebook(best_features):\n",
    "    place_indices = merged_df[\"neighborhood_overview\"].str.lower().str.contains(place)\n",
    "    place_df = merged_df[place_indices][[\"latitude\", \"longitude\", \"target\", \"price_per_accommodation_diff\", \"mean\"]].copy()\n",
    "    place_df[\"place\"] = place\n",
    "    place_df[\"direction\"] = direction\n",
    "    if min(place_df[[\"latitude\", \"longitude\"]].std() < 0.02) and (place_df.shape[0] > 10):\n",
    "        total_mean_diff = merged_df[\"price_per_accommodation_diff\"].mean()\n",
    "        place_mean_diff = place_df[\"price_per_accommodation_diff\"].mean()\n",
    "        place_pvalue = mannwhitneyu(place_df[\"price_per_accommodation_diff\"], merged_df[\"price_per_accommodation_diff\"]).pvalue\n",
    "        \n",
    "        print(place, place_mean_diff, place_pvalue)\n",
    "        \n",
    "        if (total_mean_diff * direction > place_mean_diff * direction) or (place_pvalue > 0.05):\n",
    "            print(\"Not significant\")\n",
    "            continue\n",
    "        \n",
    "        if any([place in region for region in regions]):\n",
    "            print(\"Not included\")\n",
    "            continue\n",
    "        found_places.append(place)\n",
    "        all_found_places_df.append(place_df)"
   ]
  },
  {
   "cell_type": "code",
   "execution_count": 1605,
   "metadata": {},
   "outputs": [],
   "source": [
    "found_places_df = pd.concat(all_found_places_df)"
   ]
  },
  {
   "cell_type": "code",
   "execution_count": 1606,
   "metadata": {},
   "outputs": [
    {
     "data": {
      "text/html": [
       "<div>\n",
       "<style scoped>\n",
       "    .dataframe tbody tr th:only-of-type {\n",
       "        vertical-align: middle;\n",
       "    }\n",
       "\n",
       "    .dataframe tbody tr th {\n",
       "        vertical-align: top;\n",
       "    }\n",
       "\n",
       "    .dataframe thead th {\n",
       "        text-align: right;\n",
       "    }\n",
       "</style>\n",
       "<table border=\"1\" class=\"dataframe\">\n",
       "  <thead>\n",
       "    <tr style=\"text-align: right;\">\n",
       "      <th></th>\n",
       "      <th>latitude</th>\n",
       "      <th>longitude</th>\n",
       "      <th>target</th>\n",
       "      <th>price_per_accommodation_diff</th>\n",
       "      <th>mean</th>\n",
       "      <th>place</th>\n",
       "      <th>direction</th>\n",
       "    </tr>\n",
       "  </thead>\n",
       "  <tbody>\n",
       "    <tr>\n",
       "      <th>1</th>\n",
       "      <td>51.52842</td>\n",
       "      <td>-0.11141</td>\n",
       "      <td>True</td>\n",
       "      <td>0.618430</td>\n",
       "      <td>31.512012</td>\n",
       "      <td>clerkenwell</td>\n",
       "      <td>1</td>\n",
       "    </tr>\n",
       "    <tr>\n",
       "      <th>6</th>\n",
       "      <td>51.52231</td>\n",
       "      <td>-0.09144</td>\n",
       "      <td>True</td>\n",
       "      <td>0.396293</td>\n",
       "      <td>31.512012</td>\n",
       "      <td>clerkenwell</td>\n",
       "      <td>1</td>\n",
       "    </tr>\n",
       "    <tr>\n",
       "      <th>148</th>\n",
       "      <td>51.52310</td>\n",
       "      <td>-0.10351</td>\n",
       "      <td>True</td>\n",
       "      <td>0.570830</td>\n",
       "      <td>31.512012</td>\n",
       "      <td>clerkenwell</td>\n",
       "      <td>1</td>\n",
       "    </tr>\n",
       "    <tr>\n",
       "      <th>174</th>\n",
       "      <td>51.52312</td>\n",
       "      <td>-0.10605</td>\n",
       "      <td>False</td>\n",
       "      <td>-0.127317</td>\n",
       "      <td>31.512012</td>\n",
       "      <td>clerkenwell</td>\n",
       "      <td>1</td>\n",
       "    </tr>\n",
       "    <tr>\n",
       "      <th>177</th>\n",
       "      <td>51.53156</td>\n",
       "      <td>-0.11290</td>\n",
       "      <td>False</td>\n",
       "      <td>-0.079716</td>\n",
       "      <td>31.512012</td>\n",
       "      <td>clerkenwell</td>\n",
       "      <td>1</td>\n",
       "    </tr>\n",
       "    <tr>\n",
       "      <th>...</th>\n",
       "      <td>...</td>\n",
       "      <td>...</td>\n",
       "      <td>...</td>\n",
       "      <td>...</td>\n",
       "      <td>...</td>\n",
       "      <td>...</td>\n",
       "      <td>...</td>\n",
       "    </tr>\n",
       "    <tr>\n",
       "      <th>13409</th>\n",
       "      <td>51.51573</td>\n",
       "      <td>-0.19841</td>\n",
       "      <td>True</td>\n",
       "      <td>-0.584044</td>\n",
       "      <td>72.123053</td>\n",
       "      <td>ledbury</td>\n",
       "      <td>-1</td>\n",
       "    </tr>\n",
       "    <tr>\n",
       "      <th>13432</th>\n",
       "      <td>51.51754</td>\n",
       "      <td>-0.19747</td>\n",
       "      <td>False</td>\n",
       "      <td>0.649958</td>\n",
       "      <td>72.123053</td>\n",
       "      <td>ledbury</td>\n",
       "      <td>-1</td>\n",
       "    </tr>\n",
       "    <tr>\n",
       "      <th>13497</th>\n",
       "      <td>51.51617</td>\n",
       "      <td>-0.19251</td>\n",
       "      <td>True</td>\n",
       "      <td>-0.653370</td>\n",
       "      <td>72.123053</td>\n",
       "      <td>ledbury</td>\n",
       "      <td>-1</td>\n",
       "    </tr>\n",
       "    <tr>\n",
       "      <th>13521</th>\n",
       "      <td>51.52570</td>\n",
       "      <td>-0.20090</td>\n",
       "      <td>True</td>\n",
       "      <td>-0.327538</td>\n",
       "      <td>72.123053</td>\n",
       "      <td>ledbury</td>\n",
       "      <td>-1</td>\n",
       "    </tr>\n",
       "    <tr>\n",
       "      <th>13953</th>\n",
       "      <td>51.51816</td>\n",
       "      <td>-0.19983</td>\n",
       "      <td>True</td>\n",
       "      <td>-0.514718</td>\n",
       "      <td>72.123053</td>\n",
       "      <td>ledbury</td>\n",
       "      <td>-1</td>\n",
       "    </tr>\n",
       "  </tbody>\n",
       "</table>\n",
       "<p>3508 rows × 7 columns</p>\n",
       "</div>"
      ],
      "text/plain": [
       "       latitude  longitude  target  price_per_accommodation_diff       mean  \\\n",
       "1      51.52842   -0.11141    True                      0.618430  31.512012   \n",
       "6      51.52231   -0.09144    True                      0.396293  31.512012   \n",
       "148    51.52310   -0.10351    True                      0.570830  31.512012   \n",
       "174    51.52312   -0.10605   False                     -0.127317  31.512012   \n",
       "177    51.53156   -0.11290   False                     -0.079716  31.512012   \n",
       "...         ...        ...     ...                           ...        ...   \n",
       "13409  51.51573   -0.19841    True                     -0.584044  72.123053   \n",
       "13432  51.51754   -0.19747   False                      0.649958  72.123053   \n",
       "13497  51.51617   -0.19251    True                     -0.653370  72.123053   \n",
       "13521  51.52570   -0.20090    True                     -0.327538  72.123053   \n",
       "13953  51.51816   -0.19983    True                     -0.514718  72.123053   \n",
       "\n",
       "             place  direction  \n",
       "1      clerkenwell          1  \n",
       "6      clerkenwell          1  \n",
       "148    clerkenwell          1  \n",
       "174    clerkenwell          1  \n",
       "177    clerkenwell          1  \n",
       "...            ...        ...  \n",
       "13409      ledbury         -1  \n",
       "13432      ledbury         -1  \n",
       "13497      ledbury         -1  \n",
       "13521      ledbury         -1  \n",
       "13953      ledbury         -1  \n",
       "\n",
       "[3508 rows x 7 columns]"
      ]
     },
     "execution_count": 1606,
     "metadata": {},
     "output_type": "execute_result"
    }
   ],
   "source": [
    "found_places_df"
   ]
  },
  {
   "cell_type": "code",
   "execution_count": 1456,
   "metadata": {},
   "outputs": [],
   "source": [
    "# found_places_df[\"price_per_accommodation_diff\"] = (found_places_df[\"price_per_accommodation\"] - found_places_df[\"mean\"]) / found_places_df[\"mean\"] * 100"
   ]
  },
  {
   "cell_type": "code",
   "execution_count": 1457,
   "metadata": {},
   "outputs": [],
   "source": [
    "# listings_df[\"neighbourhood_cleansed\"].value_counts()"
   ]
  },
  {
   "cell_type": "code",
   "execution_count": 1681,
   "metadata": {},
   "outputs": [
    {
     "data": {
      "text/plain": [
       "\" b The space /b  br / Located near the city center, in the cool neighborhood of Bethnal Green, it’s my apartment, offers full confort to any guest considering staying in a nice place for long term, situated in zone 2📍 E3 4TN 📍 br /  br / KEY FEATURES: br / Fast WiFi ⚡️ br / Fully furnished 🏠 br / Area full of shops and parks⛹️\\u200d♂️ br /  br / ⭐️EXCELLENT LOCATION : ZONE 2 ⭐️ br /  4 Mins. To Mile End tube Station. br / 25 Mins. to City center.  br /  br / What you can reach in 20 min: br / -Shoredicht  br / -Liverpool street. br / -Tower bridge.   br / - St. Paul cathedral.   br / - Stratford shopping center.  br / - Canary Wharf.  br / -Victoria park.  br / And get to the city center in 25 min📍 br /  br / ABOUT MILE END:  br / Mile End is an area in the East End of London centred, 1.5 mile northeast of Liverpool Street station. It currently also gives its name to an electoral ward of the London Borough of Tower Hamlets and co-encompasses St Peter's ward. Part of the area holds conservat What you can reach in 20 min: br /  br / -Shoredicht  br / -Liverpool street. br / -Tower bridge.   br / - St. Paul cathedral.   br / - Stratford shopping center.  br / - Canary Wharf.  br / -Victoria park.  br / And get to the city center in 25 min📍\""
      ]
     },
     "execution_count": 1681,
     "metadata": {},
     "output_type": "execute_result"
    }
   ],
   "source": [
    "index = merged_df[\"full_text\"].str.lower().str.contains(\"bethnal\")\n",
    "merged_df[index.fillna(False)][\"full_text\"].sample().iloc[0]"
   ]
  },
  {
   "cell_type": "code",
   "execution_count": 1608,
   "metadata": {},
   "outputs": [
    {
     "data": {
      "text/plain": [
       "array(['clerkenwell', 'hoxton', 'battersea', 'columbia', 'salusbury',\n",
       "       'abbeville', 'barbican', 'bloomsbury', 'redchurch', 'turnham',\n",
       "       'farringdon', 'parsons', 'mare', 'geffrye', 'haggerston',\n",
       "       'peckham', 'bethnal', 'maida', 'tooting', 'camberwell', 'catford',\n",
       "       'portobello', 'golborne', 'bayswater', 'feltham', 'queensway',\n",
       "       'roehampton', 'stoke', 'canada', 'swiss', 'ladywell', 'sisters',\n",
       "       'quays', 'elephant', 'edmonton', 'finsbury', 'streatham',\n",
       "       'rotherhithe', 'nunhead', 'bussey', 'limehouse', 'zebra',\n",
       "       'ledbury'], dtype=object)"
      ]
     },
     "execution_count": 1608,
     "metadata": {},
     "output_type": "execute_result"
    }
   ],
   "source": [
    "found_places_df[\"place\"].unique()"
   ]
  },
  {
   "cell_type": "code",
   "execution_count": 1610,
   "metadata": {},
   "outputs": [
    {
     "data": {
      "text/plain": [
       "-1    2256\n",
       " 1    1252\n",
       "Name: direction, dtype: int64"
      ]
     },
     "execution_count": 1610,
     "metadata": {},
     "output_type": "execute_result"
    }
   ],
   "source": [
    "found_places_df[\"direction\"].value_counts()"
   ]
  },
  {
   "cell_type": "code",
   "execution_count": 1611,
   "metadata": {},
   "outputs": [],
   "source": [
    "place_names = {\n",
    "    feature: feature.capitalize()\n",
    "    for feature in found_places_df[\"place\"].unique()\n",
    "    if feature not in [\"duplex\", \"samsung\", \"heated\"]\n",
    "}"
   ]
  },
  {
   "cell_type": "code",
   "execution_count": 1612,
   "metadata": {
    "scrolled": false
   },
   "outputs": [],
   "source": [
    "found_places_df[\"Place\"] = found_places_df[\"place\"].apply(lambda x: place_names.get(x))"
   ]
  },
  {
   "cell_type": "code",
   "execution_count": 1613,
   "metadata": {},
   "outputs": [],
   "source": [
    "# found_places_df.groupby(\"place\").agg({\n",
    "#     \"price_per_accommodation\": \"mean\",\n",
    "#     \"mean\": \"mean\"\n",
    "# })"
   ]
  },
  {
   "cell_type": "code",
   "execution_count": 1615,
   "metadata": {},
   "outputs": [],
   "source": [
    "found_places_df[\"Costs\"] = found_places_df[\"direction\"].apply({1: \"Expensive\", -1: \"Cheap\"}.get)"
   ]
  },
  {
   "cell_type": "code",
   "execution_count": 1634,
   "metadata": {},
   "outputs": [],
   "source": [
    "found_places_df[\"Price difference\"] = found_places_df[\"price_per_accommodation_diff\"].apply(lambda x: \"{:.2f} %\".format(x * 100))"
   ]
  },
  {
   "cell_type": "code",
   "execution_count": 1635,
   "metadata": {},
   "outputs": [],
   "source": [
    "# found_places_df[]"
   ]
  },
  {
   "cell_type": "code",
   "execution_count": 1636,
   "metadata": {},
   "outputs": [
    {
     "name": "stdout",
     "output_type": "stream",
     "text": [
      "Help on module _plotly_utils.colors.qualitative in _plotly_utils.colors:\n",
      "\n",
      "NAME\n",
      "    _plotly_utils.colors.qualitative - Qualitative color sequences are appropriate for data that has no natural ordering, such as categories, colors, names, countries etc. The color sequences in this module are mostly meant to be passed in as the `color_discrete_sequence` argument to various functions.\n",
      "\n",
      "FUNCTIONS\n",
      "    swatches(template=None)\n",
      "        Parameters\n",
      "        ----------\n",
      "        template : str or dict or plotly.graph_objects.layout.Template instance\n",
      "            The figure template name or definition.\n",
      "        \n",
      "        Returns\n",
      "        -------\n",
      "        fig : graph_objects.Figure containing the displayed image\n",
      "            A `Figure` object. This figure demonstrates the color scales and\n",
      "            sequences in this module, as stacked bar charts.\n",
      "\n",
      "DATA\n",
      "    __all__ = ['swatches']\n",
      "\n",
      "FILE\n",
      "    /home/anatoli/anaconda3/lib/python3.7/site-packages/_plotly_utils/colors/qualitative.py\n",
      "\n",
      "\n"
     ]
    }
   ],
   "source": [
    "help(px.colors.qualitative)"
   ]
  },
  {
   "cell_type": "code",
   "execution_count": 1647,
   "metadata": {},
   "outputs": [
    {
     "data": {
      "text/plain": [
       "['#3366CC',\n",
       " '#DC3912',\n",
       " '#FF9900',\n",
       " '#109618',\n",
       " '#990099',\n",
       " '#0099C6',\n",
       " '#DD4477',\n",
       " '#66AA00',\n",
       " '#B82E2E',\n",
       " '#316395']"
      ]
     },
     "execution_count": 1647,
     "metadata": {},
     "output_type": "execute_result"
    }
   ],
   "source": [
    "px.colors.qualitative.G10"
   ]
  },
  {
   "cell_type": "code",
   "execution_count": 1675,
   "metadata": {
    "scrolled": false
   },
   "outputs": [
    {
     "data": {
      "application/vnd.plotly.v1+json": {
       "config": {
        "plotlyServerURL": "https://plot.ly"
       },
       "data": [
        {
         "customdata": [
          [
           "61.84 %"
          ],
          [
           "39.63 %"
          ],
          [
           "57.08 %"
          ],
          [
           "-12.73 %"
          ],
          [
           "-7.97 %"
          ],
          [
           "150.70 %"
          ],
          [
           "90.40 %"
          ],
          [
           "3.14 %"
          ],
          [
           "-12.73 %"
          ],
          [
           "-12.73 %"
          ],
          [
           "-30.19 %"
          ],
          [
           "11.07 %"
          ],
          [
           "-22.25 %"
          ],
          [
           "42.80 %"
          ],
          [
           "106.27 %"
          ],
          [
           "11.07 %"
          ],
          [
           "39.63 %"
          ],
          [
           "3.14 %"
          ],
          [
           "19.00 %"
          ],
          [
           "17.42 %"
          ],
          [
           "55.50 %"
          ],
          [
           "58.67 %"
          ],
          [
           "105.58 %"
          ],
          [
           "20.29 %"
          ],
          [
           "-34.39 %"
          ],
          [
           "29.93 %"
          ],
          [
           "153.74 %"
          ],
          [
           "52.86 %"
          ],
          [
           "-38.86 %"
          ],
          [
           "-29.69 %"
          ],
          [
           "-32.74 %"
          ],
          [
           "31.46 %"
          ],
          [
           "22.28 %"
          ],
          [
           "-64.84 %"
          ],
          [
           "-61.79 %"
          ],
          [
           "-22.97 %"
          ],
          [
           "-22.97 %"
          ],
          [
           "113.97 %"
          ],
          [
           "-14.41 %"
          ],
          [
           "-15.27 %"
          ],
          [
           "-18.69 %"
          ],
          [
           "1.85 %"
          ],
          [
           "-44.37 %"
          ],
          [
           "-20.02 %"
          ],
          [
           "41.78 %"
          ],
          [
           "-12.75 %"
          ],
          [
           "-3.00 %"
          ],
          [
           "46.02 %"
          ],
          [
           "-17.60 %"
          ],
          [
           "-21.77 %"
          ],
          [
           "30.38 %"
          ],
          [
           "14.73 %"
          ],
          [
           "-16.56 %"
          ],
          [
           "26.21 %"
          ],
          [
           "-6.13 %"
          ],
          [
           "-8.21 %"
          ],
          [
           "159.71 %"
          ],
          [
           "71.06 %"
          ],
          [
           "25.16 %"
          ],
          [
           "42.89 %"
          ],
          [
           "16.82 %"
          ],
          [
           "58.54 %"
          ],
          [
           "31.42 %"
          ],
          [
           "41.85 %"
          ],
          [
           "11.60 %"
          ],
          [
           "39.77 %"
          ],
          [
           "-16.56 %"
          ],
          [
           "-37.42 %"
          ],
          [
           "-0.91 %"
          ],
          [
           "46.02 %"
          ],
          [
           "14.73 %"
          ],
          [
           "-11.34 %"
          ],
          [
           "17.86 %"
          ],
          [
           "-34.37 %"
          ],
          [
           "14.00 %"
          ],
          [
           "-34.86 %"
          ],
          [
           "14.00 %"
          ],
          [
           "-12.54 %"
          ],
          [
           "16.99 %"
          ],
          [
           "6.73 %"
          ]
         ],
         "hovertemplate": "<b>%{hovertext}</b><br><br>Place=Clerkenwell<br>latitude=%{lat}<br>longitude=%{lon}<br>Price difference=%{customdata[0]}<extra></extra>",
         "hovertext": [
          "Clerkenwell",
          "Clerkenwell",
          "Clerkenwell",
          "Clerkenwell",
          "Clerkenwell",
          "Clerkenwell",
          "Clerkenwell",
          "Clerkenwell",
          "Clerkenwell",
          "Clerkenwell",
          "Clerkenwell",
          "Clerkenwell",
          "Clerkenwell",
          "Clerkenwell",
          "Clerkenwell",
          "Clerkenwell",
          "Clerkenwell",
          "Clerkenwell",
          "Clerkenwell",
          "Clerkenwell",
          "Clerkenwell",
          "Clerkenwell",
          "Clerkenwell",
          "Clerkenwell",
          "Clerkenwell",
          "Clerkenwell",
          "Clerkenwell",
          "Clerkenwell",
          "Clerkenwell",
          "Clerkenwell",
          "Clerkenwell",
          "Clerkenwell",
          "Clerkenwell",
          "Clerkenwell",
          "Clerkenwell",
          "Clerkenwell",
          "Clerkenwell",
          "Clerkenwell",
          "Clerkenwell",
          "Clerkenwell",
          "Clerkenwell",
          "Clerkenwell",
          "Clerkenwell",
          "Clerkenwell",
          "Clerkenwell",
          "Clerkenwell",
          "Clerkenwell",
          "Clerkenwell",
          "Clerkenwell",
          "Clerkenwell",
          "Clerkenwell",
          "Clerkenwell",
          "Clerkenwell",
          "Clerkenwell",
          "Clerkenwell",
          "Clerkenwell",
          "Clerkenwell",
          "Clerkenwell",
          "Clerkenwell",
          "Clerkenwell",
          "Clerkenwell",
          "Clerkenwell",
          "Clerkenwell",
          "Clerkenwell",
          "Clerkenwell",
          "Clerkenwell",
          "Clerkenwell",
          "Clerkenwell",
          "Clerkenwell",
          "Clerkenwell",
          "Clerkenwell",
          "Clerkenwell",
          "Clerkenwell",
          "Clerkenwell",
          "Clerkenwell",
          "Clerkenwell",
          "Clerkenwell",
          "Clerkenwell",
          "Clerkenwell",
          "Clerkenwell"
         ],
         "lat": [
          51.528420000000004,
          51.52231,
          51.5231,
          51.52312,
          51.53156,
          51.53921,
          51.525929999999995,
          51.52019,
          51.52127,
          51.52369,
          51.52622,
          51.52686,
          51.52507,
          51.52431,
          51.52309,
          51.52621,
          51.528,
          51.52623,
          51.5263,
          51.52515,
          51.53087,
          51.5249,
          51.53308,
          51.5324,
          51.53138,
          51.5244,
          51.52426,
          51.52855,
          51.5195,
          51.51923,
          51.534079999999996,
          51.52143,
          51.5199,
          51.53099,
          51.53096,
          51.523709999999994,
          51.52745,
          51.52019,
          51.52621,
          51.52689,
          51.52404,
          51.52258,
          51.52217,
          51.55852,
          51.530159999999995,
          51.52687,
          51.52407,
          51.52153,
          51.522090000000006,
          51.53,
          51.5234,
          51.52834,
          51.52608,
          51.52612,
          51.53159,
          51.523720000000004,
          51.52872,
          51.52293,
          51.52525,
          51.52467,
          51.523540000000004,
          51.523540000000004,
          51.523540000000004,
          51.525220000000004,
          51.527429999999995,
          51.52348,
          51.52185,
          51.52328,
          51.53024,
          51.52518,
          51.53018,
          51.52525,
          51.52329,
          51.51173,
          51.51937,
          51.52182,
          51.519420000000004,
          51.52189,
          51.52169,
          51.52262
         ],
         "legendgroup": "Clerkenwell",
         "lon": [
          -0.11141,
          -0.09144,
          -0.10350999999999999,
          -0.10605,
          -0.1129,
          -0.0994,
          -0.11029000000000001,
          -0.1035,
          -0.10568,
          -0.10226,
          -0.09362999999999999,
          -0.09126000000000001,
          -0.09222999999999999,
          -0.09676,
          -0.10173,
          -0.10076,
          -0.11441,
          -0.08811000000000001,
          -0.08812,
          -0.10265,
          -0.11263,
          -0.11094000000000001,
          -0.09547,
          -0.09229,
          -0.09007000000000001,
          -0.11499000000000001,
          -0.11441,
          -0.11624000000000001,
          -0.11145999999999999,
          -0.10594,
          -0.13171,
          -0.10829000000000001,
          -0.11080999999999999,
          -0.12336,
          -0.12312000000000001,
          -0.11495999999999999,
          -0.12289000000000001,
          -0.10603,
          -0.11606,
          -0.11788,
          -0.11463,
          -0.11265,
          -0.11749000000000001,
          -0.04968,
          -0.0938,
          -0.08811000000000001,
          -0.10554000000000001,
          -0.1004,
          -0.10567,
          -0.11001,
          -0.1021,
          -0.09516000000000001,
          -0.1011,
          -0.09917999999999999,
          -0.09717999999999999,
          -0.10249000000000001,
          -0.09779,
          -0.10167999999999999,
          -0.10893,
          -0.10887000000000001,
          -0.11114,
          -0.11114,
          -0.11114,
          -0.09562999999999999,
          -0.11232,
          -0.11034000000000001,
          -0.10293,
          -0.10282000000000001,
          -0.09867999999999999,
          -0.10832,
          -0.10605,
          -0.10522999999999999,
          -0.09002,
          -0.07176,
          -0.09562999999999999,
          -0.09692,
          -0.10055,
          -0.09611,
          -0.11043,
          -0.11129000000000001
         ],
         "marker": {
          "color": "#636efa"
         },
         "mode": "markers",
         "name": "Clerkenwell",
         "showlegend": true,
         "subplot": "mapbox",
         "type": "scattermapbox"
        },
        {
         "customdata": [
          [
           "-11.14 %"
          ],
          [
           "39.63 %"
          ],
          [
           "9.48 %"
          ],
          [
           "65.02 %"
          ],
          [
           "74.54 %"
          ],
          [
           "23.76 %"
          ],
          [
           "90.40 %"
          ],
          [
           "-36.53 %"
          ],
          [
           "36.46 %"
          ],
          [
           "11.07 %"
          ],
          [
           "3.14 %"
          ],
          [
           "19.00 %"
          ],
          [
           "4.72 %"
          ],
          [
           "42.16 %"
          ],
          [
           "-14.71 %"
          ],
          [
           "3.88 %"
          ],
          [
           "20.29 %"
          ],
          [
           "562.67 %"
          ],
          [
           "-23.45 %"
          ],
          [
           "31.22 %"
          ],
          [
           "58.56 %"
          ],
          [
           "-22.36 %"
          ],
          [
           "-23.45 %"
          ],
          [
           "-46.42 %"
          ],
          [
           "3.88 %"
          ],
          [
           "25.75 %"
          ],
          [
           "-1.58 %"
          ],
          [
           "8.26 %"
          ],
          [
           "2.79 %"
          ],
          [
           "-34.39 %"
          ],
          [
           "30.13 %"
          ],
          [
           "-30.02 %"
          ],
          [
           "22.47 %"
          ],
          [
           "-33.30 %"
          ],
          [
           "21.38 %"
          ],
          [
           "9.35 %"
          ],
          [
           "34.50 %"
          ],
          [
           "31.22 %"
          ],
          [
           "-23.45 %"
          ],
          [
           "-28.92 %"
          ],
          [
           "-11.43 %"
          ],
          [
           "4.98 %"
          ],
          [
           "-17.99 %"
          ],
          [
           "9.35 %"
          ],
          [
           "9.35 %"
          ],
          [
           "17.01 %"
          ],
          [
           "9.35 %"
          ],
          [
           "-15.80 %"
          ],
          [
           "9.35 %"
          ],
          [
           "67.31 %"
          ],
          [
           "9.35 %"
          ],
          [
           "-15.83 %"
          ],
          [
           "-45.47 %"
          ],
          [
           "-9.12 %"
          ],
          [
           "19.97 %"
          ],
          [
           "-5.48 %"
          ],
          [
           "-38.20 %"
          ],
          [
           "63.59 %"
          ],
          [
           "-7.30 %"
          ],
          [
           "25.42 %"
          ],
          [
           "-45.47 %"
          ],
          [
           "-9.12 %"
          ],
          [
           "-9.12 %"
          ],
          [
           "18.15 %"
          ],
          [
           "-27.29 %"
          ],
          [
           "27.24 %"
          ],
          [
           "25.42 %"
          ],
          [
           "41.78 %"
          ],
          [
           "-7.30 %"
          ],
          [
           "-21.84 %"
          ],
          [
           "9.06 %"
          ],
          [
           "45.42 %"
          ],
          [
           "45.42 %"
          ],
          [
           "-32.75 %"
          ],
          [
           "-23.66 %"
          ],
          [
           "61.77 %"
          ],
          [
           "32.69 %"
          ],
          [
           "34.51 %"
          ],
          [
           "-27.29 %"
          ],
          [
           "107.22 %"
          ],
          [
           "9.06 %"
          ],
          [
           "-30.93 %"
          ],
          [
           "-30.93 %"
          ],
          [
           "18.15 %"
          ],
          [
           "63.59 %"
          ],
          [
           "-9.12 %"
          ],
          [
           "36.33 %"
          ],
          [
           "81.77 %"
          ],
          [
           "9.06 %"
          ],
          [
           "27.24 %"
          ],
          [
           "-47.29 %"
          ],
          [
           "99.95 %"
          ],
          [
           "-0.03 %"
          ],
          [
           "-9.12 %"
          ],
          [
           "-5.48 %"
          ],
          [
           "-18.20 %"
          ],
          [
           "245.36 %"
          ],
          [
           "9.06 %"
          ],
          [
           "-12.75 %"
          ],
          [
           "23.60 %"
          ],
          [
           "92.67 %"
          ],
          [
           "154.48 %"
          ],
          [
           "7.24 %"
          ],
          [
           "36.33 %"
          ],
          [
           "-27.29 %"
          ],
          [
           "-9.12 %"
          ],
          [
           "-9.12 %"
          ],
          [
           "-9.12 %"
          ],
          [
           "99.95 %"
          ],
          [
           "27.24 %"
          ],
          [
           "-0.03 %"
          ],
          [
           "-18.20 %"
          ],
          [
           "129.03 %"
          ],
          [
           "-18.20 %"
          ],
          [
           "-21.84 %"
          ],
          [
           "161.75 %"
          ],
          [
           "-12.75 %"
          ],
          [
           "70.86 %"
          ],
          [
           "45.42 %"
          ],
          [
           "-36.38 %"
          ],
          [
           "9.06 %"
          ],
          [
           "63.59 %"
          ],
          [
           "-18.20 %"
          ],
          [
           "-3.66 %"
          ],
          [
           "9.06 %"
          ],
          [
           "18.15 %"
          ],
          [
           "-12.75 %"
          ],
          [
           "-43.65 %"
          ],
          [
           "20.54 %"
          ],
          [
           "-13.90 %"
          ],
          [
           "-3.57 %"
          ],
          [
           "65.32 %"
          ],
          [
           "-31.12 %"
          ],
          [
           "72.20 %"
          ],
          [
           "-27.67 %"
          ],
          [
           "-39.73 %"
          ],
          [
           "27.43 %"
          ],
          [
           "-22.51 %"
          ],
          [
           "-65.56 %"
          ],
          [
           "137.64 %"
          ],
          [
           "103.20 %"
          ],
          [
           "3.32 %"
          ],
          [
           "34.32 %"
          ],
          [
           "72.20 %"
          ],
          [
           "-13.90 %"
          ],
          [
           "-17.34 %"
          ],
          [
           "72.20 %"
          ],
          [
           "11.93 %"
          ],
          [
           "-38.01 %"
          ],
          [
           "-21.77 %"
          ],
          [
           "3.26 %"
          ],
          [
           "-31.16 %"
          ],
          [
           "14.73 %"
          ],
          [
           "-26.99 %"
          ],
          [
           "-4.04 %"
          ],
          [
           "40.81 %"
          ],
          [
           "-6.13 %"
          ],
          [
           "-19.69 %"
          ],
          [
           "66.88 %"
          ],
          [
           "-46.81 %"
          ],
          [
           "-47.85 %"
          ],
          [
           "20.99 %"
          ],
          [
           "36.64 %"
          ],
          [
           "-0.91 %"
          ],
          [
           "-17.14 %"
          ],
          [
           "-17.14 %"
          ],
          [
           "12.52 %"
          ],
          [
           "-24.99 %"
          ],
          [
           "-44.68 %"
          ],
          [
           "-39.05 %"
          ],
          [
           "-29.68 %"
          ],
          [
           "3.14 %"
          ],
          [
           "-15.61 %"
          ],
          [
           "-20.30 %"
          ],
          [
           "4.08 %"
          ],
          [
           "-25.93 %"
          ],
          [
           "-24.99 %"
          ],
          [
           "-10.93 %"
          ],
          [
           "-6.24 %"
          ],
          [
           "-38.12 %"
          ],
          [
           "-24.99 %"
          ],
          [
           "-53.65 %"
          ]
         ],
         "hovertemplate": "<b>%{hovertext}</b><br><br>Place=Hoxton<br>latitude=%{lat}<br>longitude=%{lon}<br>Price difference=%{customdata[0]}<extra></extra>",
         "hovertext": [
          "Hoxton",
          "Hoxton",
          "Hoxton",
          "Hoxton",
          "Hoxton",
          "Hoxton",
          "Hoxton",
          "Hoxton",
          "Hoxton",
          "Hoxton",
          "Hoxton",
          "Hoxton",
          "Hoxton",
          "Hoxton",
          "Hoxton",
          "Hoxton",
          "Hoxton",
          "Hoxton",
          "Hoxton",
          "Hoxton",
          "Hoxton",
          "Hoxton",
          "Hoxton",
          "Hoxton",
          "Hoxton",
          "Hoxton",
          "Hoxton",
          "Hoxton",
          "Hoxton",
          "Hoxton",
          "Hoxton",
          "Hoxton",
          "Hoxton",
          "Hoxton",
          "Hoxton",
          "Hoxton",
          "Hoxton",
          "Hoxton",
          "Hoxton",
          "Hoxton",
          "Hoxton",
          "Hoxton",
          "Hoxton",
          "Hoxton",
          "Hoxton",
          "Hoxton",
          "Hoxton",
          "Hoxton",
          "Hoxton",
          "Hoxton",
          "Hoxton",
          "Hoxton",
          "Hoxton",
          "Hoxton",
          "Hoxton",
          "Hoxton",
          "Hoxton",
          "Hoxton",
          "Hoxton",
          "Hoxton",
          "Hoxton",
          "Hoxton",
          "Hoxton",
          "Hoxton",
          "Hoxton",
          "Hoxton",
          "Hoxton",
          "Hoxton",
          "Hoxton",
          "Hoxton",
          "Hoxton",
          "Hoxton",
          "Hoxton",
          "Hoxton",
          "Hoxton",
          "Hoxton",
          "Hoxton",
          "Hoxton",
          "Hoxton",
          "Hoxton",
          "Hoxton",
          "Hoxton",
          "Hoxton",
          "Hoxton",
          "Hoxton",
          "Hoxton",
          "Hoxton",
          "Hoxton",
          "Hoxton",
          "Hoxton",
          "Hoxton",
          "Hoxton",
          "Hoxton",
          "Hoxton",
          "Hoxton",
          "Hoxton",
          "Hoxton",
          "Hoxton",
          "Hoxton",
          "Hoxton",
          "Hoxton",
          "Hoxton",
          "Hoxton",
          "Hoxton",
          "Hoxton",
          "Hoxton",
          "Hoxton",
          "Hoxton",
          "Hoxton",
          "Hoxton",
          "Hoxton",
          "Hoxton",
          "Hoxton",
          "Hoxton",
          "Hoxton",
          "Hoxton",
          "Hoxton",
          "Hoxton",
          "Hoxton",
          "Hoxton",
          "Hoxton",
          "Hoxton",
          "Hoxton",
          "Hoxton",
          "Hoxton",
          "Hoxton",
          "Hoxton",
          "Hoxton",
          "Hoxton",
          "Hoxton",
          "Hoxton",
          "Hoxton",
          "Hoxton",
          "Hoxton",
          "Hoxton",
          "Hoxton",
          "Hoxton",
          "Hoxton",
          "Hoxton",
          "Hoxton",
          "Hoxton",
          "Hoxton",
          "Hoxton",
          "Hoxton",
          "Hoxton",
          "Hoxton",
          "Hoxton",
          "Hoxton",
          "Hoxton",
          "Hoxton",
          "Hoxton",
          "Hoxton",
          "Hoxton",
          "Hoxton",
          "Hoxton",
          "Hoxton",
          "Hoxton",
          "Hoxton",
          "Hoxton",
          "Hoxton",
          "Hoxton",
          "Hoxton",
          "Hoxton",
          "Hoxton",
          "Hoxton",
          "Hoxton",
          "Hoxton",
          "Hoxton",
          "Hoxton",
          "Hoxton",
          "Hoxton",
          "Hoxton",
          "Hoxton",
          "Hoxton",
          "Hoxton",
          "Hoxton",
          "Hoxton",
          "Hoxton",
          "Hoxton",
          "Hoxton",
          "Hoxton",
          "Hoxton"
         ],
         "lat": [
          51.540490000000005,
          51.52231,
          51.523709999999994,
          51.54023,
          51.52418,
          51.53468,
          51.52767,
          51.539970000000004,
          51.53914,
          51.52448,
          51.52623,
          51.5263,
          51.54003,
          51.56792,
          51.53071,
          51.53008,
          51.5324,
          51.53085,
          51.536640000000006,
          51.5381,
          51.52884,
          51.53163,
          51.52973,
          51.56547,
          51.52655,
          51.53573,
          51.5307,
          51.529109999999996,
          51.56146,
          51.55216,
          51.53588,
          51.535759999999996,
          51.53123,
          51.53409,
          51.53045,
          51.53433,
          51.53395,
          51.53094,
          51.529990000000005,
          51.55468,
          51.55153,
          51.53132,
          51.55012,
          51.53363,
          51.53003,
          51.56432,
          51.529790000000006,
          51.54847,
          51.55972,
          51.525940000000006,
          51.530440000000006,
          51.50375,
          51.54078,
          51.53569,
          51.53567,
          51.53147,
          51.54075,
          51.56787,
          51.52683,
          51.53262,
          51.54104,
          51.539809999999996,
          51.532740000000004,
          51.539609999999996,
          51.53301,
          51.53712,
          51.53569,
          51.530159999999995,
          51.53707,
          51.52897,
          51.53304,
          51.53247,
          51.54038,
          51.53545,
          51.554629999999996,
          51.53002,
          51.52811,
          51.52932,
          51.528890000000004,
          51.52753,
          51.53332,
          51.53118,
          51.533,
          51.54197,
          51.53049,
          51.5496,
          51.536159999999995,
          51.531009999999995,
          51.5322,
          51.54468,
          51.53581,
          51.54562,
          51.53795,
          51.53106,
          51.53717,
          51.53477,
          51.52802,
          51.540859999999995,
          51.53476,
          51.532779999999995,
          51.52514,
          51.54701,
          51.53002,
          51.54582,
          51.536190000000005,
          51.538059999999994,
          51.53014,
          51.54549,
          51.53821,
          51.53338,
          51.531259999999996,
          51.52802,
          51.524409999999996,
          51.52752,
          51.53561,
          51.53037,
          51.52687,
          51.53131,
          51.52878,
          51.53028,
          51.532059999999994,
          51.531209999999994,
          51.52899,
          51.53699,
          51.52839,
          51.53584,
          51.53332,
          51.52624,
          51.52838,
          51.52876,
          51.53045,
          51.530590000000004,
          51.51505,
          51.52511,
          51.53004,
          51.52025,
          51.50976,
          51.519909999999996,
          51.52678,
          51.52888,
          51.530229999999996,
          51.52724,
          51.53144,
          51.52491,
          51.51892,
          51.53072,
          51.52405,
          51.51636,
          51.54338,
          51.53,
          51.54355,
          51.531259999999996,
          51.52834,
          51.52669,
          51.52732,
          51.53588,
          51.53159,
          51.52678,
          51.52421,
          51.529340000000005,
          51.532309999999995,
          51.52748,
          51.53415,
          51.53024,
          51.53345,
          51.53485,
          51.528040000000004,
          51.51116,
          51.519290000000005,
          51.52349,
          51.532059999999994,
          51.53025,
          51.52814,
          51.52709,
          51.524229999999996,
          51.51589,
          51.52941,
          51.52303,
          51.53174,
          51.52537,
          51.530559999999994,
          51.5565
         ],
         "legendgroup": "Hoxton",
         "lon": [
          -0.09041,
          -0.09144,
          -0.09813,
          -0.09164,
          -0.09014,
          -0.09497,
          -0.0895,
          -0.08926,
          -0.09689,
          -0.08769,
          -0.08811000000000001,
          -0.08812,
          -0.10390999999999999,
          -0.09663,
          -0.09035,
          -0.08952,
          -0.09229,
          -0.07332000000000001,
          -0.08521000000000001,
          -0.08602,
          -0.08056,
          -0.0779,
          -0.07478,
          -0.05022,
          -0.07746,
          -0.07697000000000001,
          -0.09128,
          -0.07981,
          -0.06776,
          -0.08496000000000001,
          -0.08938,
          -0.07685,
          -0.07165,
          -0.0752,
          -0.09167,
          -0.06941,
          -0.0781,
          -0.08746,
          -0.07617,
          -0.0758,
          -0.06788,
          -0.08631,
          -0.06835,
          -0.09105,
          -0.07568,
          -0.07169,
          -0.08585,
          -0.06166,
          -0.06269,
          -0.08187,
          -0.08631,
          -0.10221000000000001,
          -0.0586,
          -0.0775,
          -0.0726,
          -0.07424,
          -0.058589999999999996,
          -0.09807,
          -0.07677,
          -0.08369,
          -0.058179999999999996,
          -0.08417000000000001,
          -0.09361,
          -0.07577,
          -0.08788,
          -0.07922,
          -0.09011,
          -0.0938,
          -0.08113,
          -0.08021,
          -0.08684,
          -0.07003,
          -0.08357,
          -0.07424,
          -0.06875,
          -0.07622999999999999,
          -0.07774,
          -0.0857,
          -0.08657999999999999,
          -0.0863,
          -0.09005,
          -0.0916,
          -0.0809,
          -0.08436,
          -0.07478,
          -0.06996000000000001,
          -0.07546,
          -0.08407,
          -0.07658999999999999,
          -0.08329,
          -0.07582,
          -0.07282999999999999,
          -0.07217,
          -0.08885,
          -0.067,
          -0.07596,
          -0.08431,
          -0.0808,
          -0.07608,
          -0.09304,
          -0.0802,
          -0.0754,
          -0.08467999999999999,
          -0.05099,
          -0.07642,
          -0.08596000000000001,
          -0.07823,
          -0.06892000000000001,
          -0.0831,
          -0.08038,
          -0.08527,
          -0.07791000000000001,
          -0.08167,
          -0.07886,
          -0.07726,
          -0.0824,
          -0.08811000000000001,
          -0.07965,
          -0.08224,
          -0.07437,
          -0.08032,
          -0.07877,
          -0.07603,
          -0.07643,
          -0.08167,
          -0.07786,
          -0.07200000000000001,
          -0.0771,
          -0.06642999999999999,
          -0.07291,
          -0.07047,
          -0.07188,
          -0.05259,
          -0.07388,
          -0.06481,
          -0.04803,
          -0.05641,
          -0.0293,
          -0.04576,
          -0.07468,
          -0.07285,
          -0.059539999999999996,
          -0.06357,
          -0.06624,
          -0.02356,
          -0.0603,
          -0.07242,
          -0.06999,
          -0.0221,
          -0.11001,
          -0.08872000000000001,
          -0.10999,
          -0.09516000000000001,
          -0.09282,
          -0.09196,
          -0.11839000000000001,
          -0.09717999999999999,
          -0.08902,
          -0.08598,
          -0.09651,
          -0.0991,
          -0.09502999999999999,
          -0.09445,
          -0.09867999999999999,
          -0.0071,
          -0.00882,
          -0.06444,
          -0.05085,
          -0.0487,
          -0.07442,
          -0.060070000000000005,
          -0.07297999999999999,
          -0.06679,
          -0.056670000000000005,
          -0.07062,
          -0.05627000000000001,
          -0.0497,
          -0.07576000000000001,
          -0.06444,
          -0.01084,
          -0.06435,
          -0.07431
         ],
         "marker": {
          "color": "#EF553B"
         },
         "mode": "markers",
         "name": "Hoxton",
         "showlegend": true,
         "subplot": "mapbox",
         "type": "scattermapbox"
        },
        {
         "customdata": [
          [
           "-12.19 %"
          ],
          [
           "17.08 %"
          ],
          [
           "-28.92 %"
          ],
          [
           "-3.83 %"
          ],
          [
           "-23.90 %"
          ],
          [
           "-18.05 %"
          ],
          [
           "-8.01 %"
          ],
          [
           "46.35 %"
          ],
          [
           "-36.44 %"
          ],
          [
           "25.44 %"
          ],
          [
           "-43.97 %"
          ],
          [
           "-54.84 %"
          ],
          [
           "-45.64 %"
          ],
          [
           "-49.82 %"
          ],
          [
           "26.28 %"
          ],
          [
           "25.44 %"
          ],
          [
           "25.44 %"
          ],
          [
           "29.62 %"
          ],
          [
           "-28.92 %"
          ],
          [
           "41.33 %"
          ],
          [
           "-16.37 %"
          ],
          [
           "-31.43 %"
          ],
          [
           "-56.51 %"
          ],
          [
           "1.62 %"
          ],
          [
           "1.62 %"
          ],
          [
           "53.66 %"
          ],
          [
           "-15.22 %"
          ],
          [
           "-18.82 %"
          ],
          [
           "41.52 %"
          ],
          [
           "-17.72 %"
          ],
          [
           "42.62 %"
          ],
          [
           "20.68 %"
          ],
          [
           "-45.15 %"
          ],
          [
           "9.71 %"
          ],
          [
           "74.12 %"
          ],
          [
           "-14.68 %"
          ],
          [
           "74.12 %"
          ],
          [
           "4.47 %"
          ],
          [
           "21.89 %"
          ],
          [
           "39.30 %"
          ],
          [
           "-28.61 %"
          ],
          [
           "-47.76 %"
          ],
          [
           "4.47 %"
          ],
          [
           "-16.42 %"
          ],
          [
           "-24.50 %"
          ],
          [
           "15.52 %"
          ],
          [
           "13.21 %"
          ],
          [
           "106.78 %"
          ],
          [
           "-30.69 %"
          ],
          [
           "-1.81 %"
          ],
          [
           "50.17 %"
          ],
          [
           "-30.69 %"
          ],
          [
           "-1.81 %"
          ],
          [
           "3.97 %"
          ],
          [
           "-13.36 %"
          ],
          [
           "53.64 %"
          ],
          [
           "3.97 %"
          ],
          [
           "-13.36 %"
          ],
          [
           "27.07 %"
          ],
          [
           "-13.36 %"
          ],
          [
           "89.45 %"
          ],
          [
           "38.62 %"
          ],
          [
           "31.69 %"
          ],
          [
           "6.28 %"
          ],
          [
           "-22.60 %"
          ],
          [
           "-13.36 %"
          ],
          [
           "15.52 %"
          ],
          [
           "-1.81 %"
          ],
          [
           "-24.91 %"
          ],
          [
           "-29.53 %"
          ],
          [
           "10.90 %"
          ],
          [
           "-14.52 %"
          ],
          [
           "-7.59 %"
          ],
          [
           "50.17 %"
          ],
          [
           "-28.38 %"
          ],
          [
           "-7.59 %"
          ],
          [
           "-7.59 %"
          ],
          [
           "-13.36 %"
          ],
          [
           "10.90 %"
          ],
          [
           "27.07 %"
          ],
          [
           "-27.22 %"
          ],
          [
           "8.59 %"
          ],
          [
           "-13.36 %"
          ],
          [
           "-28.38 %"
          ],
          [
           "-28.38 %"
          ],
          [
           "20.14 %"
          ],
          [
           "14.36 %"
          ],
          [
           "3.97 %"
          ],
          [
           "-4.12 %"
          ],
          [
           "73.28 %"
          ],
          [
           "10.90 %"
          ],
          [
           "-21.45 %"
          ],
          [
           "10.90 %"
          ],
          [
           "27.07 %"
          ],
          [
           "-8.74 %"
          ],
          [
           "-30.69 %"
          ],
          [
           "62.88 %"
          ],
          [
           "102.16 %"
          ],
          [
           "-28.38 %"
          ],
          [
           "-30.69 %"
          ],
          [
           "-30.69 %"
          ],
          [
           "73.28 %"
          ],
          [
           "15.52 %"
          ],
          [
           "-19.14 %"
          ],
          [
           "-1.81 %"
          ],
          [
           "-29.90 %"
          ],
          [
           "37.90 %"
          ],
          [
           "9.17 %"
          ],
          [
           "-19.56 %"
          ],
          [
           "86.17 %"
          ],
          [
           "-8.06 %"
          ],
          [
           "72.38 %"
          ],
          [
           "-29.90 %"
          ],
          [
           "-29.90 %"
          ],
          [
           "70.44 %"
          ],
          [
           "43.66 %"
          ],
          [
           "9.57 %"
          ],
          [
           "-40.35 %"
          ],
          [
           "-39.13 %"
          ],
          [
           "-20.87 %"
          ],
          [
           "-2.60 %"
          ],
          [
           "-29.39 %"
          ],
          [
           "-7.47 %"
          ],
          [
           "-0.17 %"
          ],
          [
           "41.22 %"
          ],
          [
           "9.57 %"
          ],
          [
           "-23.74 %"
          ],
          [
           "-51.47 %"
          ],
          [
           "-45.23 %"
          ],
          [
           "-38.30 %"
          ],
          [
           "-22.35 %"
          ],
          [
           "-20.28 %"
          ],
          [
           "-14.73 %"
          ],
          [
           "-47.31 %"
          ],
          [
           "-23.74 %"
          ],
          [
           "-34.14 %"
          ],
          [
           "13.00 %"
          ],
          [
           "-52.17 %"
          ],
          [
           "-16.48 %"
          ],
          [
           "-16.48 %"
          ],
          [
           "-38.14 %"
          ],
          [
           "25.27 %"
          ],
          [
           "-36.59 %"
          ],
          [
           "-7.20 %"
          ],
          [
           "-38.14 %"
          ],
          [
           "-59.79 %"
          ],
          [
           "-7.20 %"
          ],
          [
           "20.63 %"
          ],
          [
           "-55.15 %"
          ],
          [
           "8.26 %"
          ],
          [
           "-38.14 %"
          ],
          [
           "51.57 %"
          ],
          [
           "6.71 %"
          ],
          [
           "-1.02 %"
          ],
          [
           "-28.86 %"
          ],
          [
           "-14.94 %"
          ],
          [
           "20.63 %"
          ],
          [
           "-18.03 %"
          ],
          [
           "-10.30 %"
          ],
          [
           "8.26 %"
          ],
          [
           "23.73 %"
          ],
          [
           "-22.67 %"
          ],
          [
           "6.71 %"
          ],
          [
           "-39.68 %"
          ],
          [
           "31.46 %"
          ],
          [
           "-28.86 %"
          ],
          [
           "54.66 %"
          ],
          [
           "15.99 %"
          ],
          [
           "70.12 %"
          ],
          [
           "73.22 %"
          ],
          [
           "-53.60 %"
          ],
          [
           "-38.14 %"
          ],
          [
           "8.26 %"
          ],
          [
           "39.19 %"
          ],
          [
           "-53.60 %"
          ],
          [
           "-13.39 %"
          ],
          [
           "-13.39 %"
          ],
          [
           "-41.23 %"
          ],
          [
           "162.92 %"
          ],
          [
           "-14.94 %"
          ],
          [
           "-21.12 %"
          ],
          [
           "8.26 %"
          ],
          [
           "-10.30 %"
          ],
          [
           "-25.76 %"
          ],
          [
           "-7.20 %"
          ],
          [
           "29.91 %"
          ],
          [
           "20.63 %"
          ],
          [
           "-41.23 %"
          ],
          [
           "131.99 %"
          ],
          [
           "-22.67 %"
          ],
          [
           "-24.22 %"
          ],
          [
           "-14.94 %"
          ],
          [
           "-30.40 %"
          ],
          [
           "0.53 %"
          ],
          [
           "0.53 %"
          ],
          [
           "-38.14 %"
          ],
          [
           "29.91 %"
          ],
          [
           "-42.78 %"
          ],
          [
           "-55.15 %"
          ],
          [
           "-45.87 %"
          ],
          [
           "-50.51 %"
          ],
          [
           "-21.12 %"
          ],
          [
           "-28.86 %"
          ],
          [
           "51.57 %"
          ],
          [
           "-38.14 %"
          ],
          [
           "85.59 %"
          ],
          [
           "23.73 %"
          ],
          [
           "8.26 %"
          ],
          [
           "-50.51 %"
          ],
          [
           "17.54 %"
          ],
          [
           "23.73 %"
          ],
          [
           "101.06 %"
          ],
          [
           "-39.68 %"
          ],
          [
           "-47.42 %"
          ],
          [
           "23.73 %"
          ],
          [
           "-25.76 %"
          ],
          [
           "8.26 %"
          ],
          [
           "-35.04 %"
          ],
          [
           "15.99 %"
          ],
          [
           "-14.94 %"
          ],
          [
           "-31.95 %"
          ],
          [
           "37.65 %"
          ],
          [
           "-42.78 %"
          ],
          [
           "23.73 %"
          ],
          [
           "51.57 %"
          ],
          [
           "79.40 %"
          ],
          [
           "8.26 %"
          ],
          [
           "79.40 %"
          ],
          [
           "-30.40 %"
          ],
          [
           "8.26 %"
          ],
          [
           "-47.42 %"
          ],
          [
           "23.73 %"
          ],
          [
           "-38.14 %"
          ],
          [
           "25.27 %"
          ],
          [
           "-7.20 %"
          ],
          [
           "-25.76 %"
          ],
          [
           "-50.51 %"
          ],
          [
           "-47.42 %"
          ],
          [
           "-38.14 %"
          ],
          [
           "23.73 %"
          ],
          [
           "-52.06 %"
          ],
          [
           "-11.84 %"
          ],
          [
           "-41.23 %"
          ],
          [
           "-6.34 %"
          ]
         ],
         "hovertemplate": "<b>%{hovertext}</b><br><br>Place=Battersea<br>latitude=%{lat}<br>longitude=%{lon}<br>Price difference=%{customdata[0]}<extra></extra>",
         "hovertext": [
          "Battersea",
          "Battersea",
          "Battersea",
          "Battersea",
          "Battersea",
          "Battersea",
          "Battersea",
          "Battersea",
          "Battersea",
          "Battersea",
          "Battersea",
          "Battersea",
          "Battersea",
          "Battersea",
          "Battersea",
          "Battersea",
          "Battersea",
          "Battersea",
          "Battersea",
          "Battersea",
          "Battersea",
          "Battersea",
          "Battersea",
          "Battersea",
          "Battersea",
          "Battersea",
          "Battersea",
          "Battersea",
          "Battersea",
          "Battersea",
          "Battersea",
          "Battersea",
          "Battersea",
          "Battersea",
          "Battersea",
          "Battersea",
          "Battersea",
          "Battersea",
          "Battersea",
          "Battersea",
          "Battersea",
          "Battersea",
          "Battersea",
          "Battersea",
          "Battersea",
          "Battersea",
          "Battersea",
          "Battersea",
          "Battersea",
          "Battersea",
          "Battersea",
          "Battersea",
          "Battersea",
          "Battersea",
          "Battersea",
          "Battersea",
          "Battersea",
          "Battersea",
          "Battersea",
          "Battersea",
          "Battersea",
          "Battersea",
          "Battersea",
          "Battersea",
          "Battersea",
          "Battersea",
          "Battersea",
          "Battersea",
          "Battersea",
          "Battersea",
          "Battersea",
          "Battersea",
          "Battersea",
          "Battersea",
          "Battersea",
          "Battersea",
          "Battersea",
          "Battersea",
          "Battersea",
          "Battersea",
          "Battersea",
          "Battersea",
          "Battersea",
          "Battersea",
          "Battersea",
          "Battersea",
          "Battersea",
          "Battersea",
          "Battersea",
          "Battersea",
          "Battersea",
          "Battersea",
          "Battersea",
          "Battersea",
          "Battersea",
          "Battersea",
          "Battersea",
          "Battersea",
          "Battersea",
          "Battersea",
          "Battersea",
          "Battersea",
          "Battersea",
          "Battersea",
          "Battersea",
          "Battersea",
          "Battersea",
          "Battersea",
          "Battersea",
          "Battersea",
          "Battersea",
          "Battersea",
          "Battersea",
          "Battersea",
          "Battersea",
          "Battersea",
          "Battersea",
          "Battersea",
          "Battersea",
          "Battersea",
          "Battersea",
          "Battersea",
          "Battersea",
          "Battersea",
          "Battersea",
          "Battersea",
          "Battersea",
          "Battersea",
          "Battersea",
          "Battersea",
          "Battersea",
          "Battersea",
          "Battersea",
          "Battersea",
          "Battersea",
          "Battersea",
          "Battersea",
          "Battersea",
          "Battersea",
          "Battersea",
          "Battersea",
          "Battersea",
          "Battersea",
          "Battersea",
          "Battersea",
          "Battersea",
          "Battersea",
          "Battersea",
          "Battersea",
          "Battersea",
          "Battersea",
          "Battersea",
          "Battersea",
          "Battersea",
          "Battersea",
          "Battersea",
          "Battersea",
          "Battersea",
          "Battersea",
          "Battersea",
          "Battersea",
          "Battersea",
          "Battersea",
          "Battersea",
          "Battersea",
          "Battersea",
          "Battersea",
          "Battersea",
          "Battersea",
          "Battersea",
          "Battersea",
          "Battersea",
          "Battersea",
          "Battersea",
          "Battersea",
          "Battersea",
          "Battersea",
          "Battersea",
          "Battersea",
          "Battersea",
          "Battersea",
          "Battersea",
          "Battersea",
          "Battersea",
          "Battersea",
          "Battersea",
          "Battersea",
          "Battersea",
          "Battersea",
          "Battersea",
          "Battersea",
          "Battersea",
          "Battersea",
          "Battersea",
          "Battersea",
          "Battersea",
          "Battersea",
          "Battersea",
          "Battersea",
          "Battersea",
          "Battersea",
          "Battersea",
          "Battersea",
          "Battersea",
          "Battersea",
          "Battersea",
          "Battersea",
          "Battersea",
          "Battersea",
          "Battersea",
          "Battersea",
          "Battersea",
          "Battersea",
          "Battersea",
          "Battersea",
          "Battersea",
          "Battersea",
          "Battersea",
          "Battersea",
          "Battersea",
          "Battersea",
          "Battersea",
          "Battersea",
          "Battersea",
          "Battersea",
          "Battersea",
          "Battersea",
          "Battersea",
          "Battersea",
          "Battersea",
          "Battersea",
          "Battersea",
          "Battersea",
          "Battersea",
          "Battersea",
          "Battersea",
          "Battersea",
          "Battersea",
          "Battersea",
          "Battersea",
          "Battersea",
          "Battersea",
          "Battersea",
          "Battersea"
         ],
         "lat": [
          51.480309999999996,
          51.48959,
          51.47999,
          51.47815,
          51.48276,
          51.48643,
          51.48495,
          51.48697,
          51.49188,
          51.49507,
          51.48434,
          51.48434,
          51.48898,
          51.48603,
          51.49284,
          51.49516,
          51.49454,
          51.49289,
          51.48559,
          51.48854,
          51.4919,
          51.48855,
          51.4921,
          51.47902,
          51.47869,
          51.47421,
          51.47403,
          51.488479999999996,
          51.48809,
          51.486990000000006,
          51.49342,
          51.48754,
          51.49197,
          51.4861,
          51.46649,
          51.47592,
          51.486779999999996,
          51.468759999999996,
          51.49337,
          51.46706,
          51.48089,
          51.4657,
          51.474,
          51.468720000000005,
          51.421009999999995,
          51.46594,
          51.47202,
          51.475770000000004,
          51.47209,
          51.47161,
          51.4743,
          51.47079,
          51.477129999999995,
          51.47083,
          51.474090000000004,
          51.47797,
          51.4802,
          51.460229999999996,
          51.474309999999996,
          51.46197,
          51.4718,
          51.476259999999996,
          51.47876,
          51.468990000000005,
          51.473259999999996,
          51.478640000000006,
          51.47486,
          51.47027,
          51.47186,
          51.474470000000004,
          51.46011,
          51.47656,
          51.48072,
          51.47838,
          51.46983,
          51.48219,
          51.462379999999996,
          51.47619,
          51.456720000000004,
          51.47638,
          51.46246,
          51.47057,
          51.46334,
          51.47381,
          51.4791,
          51.458709999999996,
          51.48296,
          51.4622,
          51.47435,
          51.48273,
          51.47333,
          51.4698,
          51.48012,
          51.48242,
          51.47551,
          51.47631,
          51.47403,
          51.476620000000004,
          51.47619,
          51.47303,
          51.48254,
          51.48308,
          51.46967,
          51.464040000000004,
          51.4626,
          51.466809999999995,
          51.47532,
          51.46812,
          51.475,
          51.47971,
          51.467490000000005,
          51.48115,
          51.471270000000004,
          51.466640000000005,
          51.4873,
          51.48498,
          51.4853,
          51.48684,
          51.48217,
          51.48406,
          51.484140000000004,
          51.487429999999996,
          51.48614,
          51.493990000000004,
          51.48639,
          51.48583,
          51.490829999999995,
          51.48655,
          51.489290000000004,
          51.48702,
          51.49038,
          51.48727,
          51.49285,
          51.48753,
          51.49017,
          51.48899,
          51.4866,
          51.48895,
          51.473859999999995,
          51.473859999999995,
          51.47249,
          51.46294,
          51.48053,
          51.47917,
          51.472429999999996,
          51.47826,
          51.47442,
          51.47229,
          51.47156,
          51.46432,
          51.45592,
          51.47535,
          51.47486,
          51.465540000000004,
          51.472770000000004,
          51.46225,
          51.47648,
          51.472359999999995,
          51.46582,
          51.46711,
          51.47228,
          51.47167,
          51.45557,
          51.463409999999996,
          51.46537,
          51.47438,
          51.4743,
          51.46504,
          51.48303,
          51.47744,
          51.47005,
          51.463429999999995,
          51.46695,
          51.46366,
          51.47,
          51.4751,
          51.47712,
          51.47323,
          51.48231,
          51.46075,
          51.47402,
          51.47692,
          51.47097,
          51.47031,
          51.46322,
          51.4718,
          51.464620000000004,
          51.469570000000004,
          51.48252,
          51.4718,
          51.479859999999995,
          51.47484,
          51.47392,
          51.45525,
          51.45621,
          51.47007,
          51.47766,
          51.47444,
          51.464209999999994,
          51.47688,
          51.47547,
          51.462740000000004,
          51.47566,
          51.47719,
          51.47205,
          51.470620000000004,
          51.47294,
          51.44634,
          51.475609999999996,
          51.47396,
          51.46683,
          51.46497,
          51.449659999999994,
          51.47874,
          51.467040000000004,
          51.45681,
          51.47913,
          51.47726,
          51.468920000000004,
          51.473659999999995,
          51.47633,
          51.47408,
          51.47618,
          51.47477,
          51.46836,
          51.47305,
          51.4807,
          51.468309999999995,
          51.45595,
          51.46758,
          51.47205,
          51.45767,
          51.47623,
          51.46471,
          51.46888,
          51.47517,
          51.47702,
          51.47502,
          51.47423,
          51.468090000000004,
          51.47637,
          51.47339,
          51.46085,
          51.46947
         ],
         "legendgroup": "Battersea",
         "lon": [
          -0.18361,
          -0.15621,
          -0.18243,
          -0.18191,
          -0.17623,
          -0.16662000000000002,
          -0.18442,
          -0.1841,
          -0.16668,
          -0.18667999999999998,
          -0.18729,
          -0.18729,
          -0.18089,
          -0.15725,
          -0.1854,
          -0.18475,
          -0.18484,
          -0.18478,
          -0.17414000000000002,
          -0.16324,
          -0.16831,
          -0.16902,
          -0.16743,
          -0.1992,
          -0.19844,
          -0.18089,
          -0.19114,
          -0.15035,
          -0.13929,
          -0.13330999999999998,
          -0.14223,
          -0.14965,
          -0.14196,
          -0.14551,
          -0.14427,
          -0.13296,
          -0.12534,
          -0.14432999999999999,
          -0.11275999999999999,
          -0.13229000000000002,
          -0.12193,
          -0.14527,
          -0.13234,
          -0.13699,
          -0.17577,
          -0.162,
          -0.16663,
          -0.16567,
          -0.17498,
          -0.1477,
          -0.16751,
          -0.17026,
          -0.17517,
          -0.16934000000000002,
          -0.16089,
          -0.16992000000000002,
          -0.14854,
          -0.16842000000000001,
          -0.17414000000000002,
          -0.17701,
          -0.15002000000000001,
          -0.17289000000000002,
          -0.16823,
          -0.14868,
          -0.16301,
          -0.13990999999999998,
          -0.1539,
          -0.16137,
          -0.17018,
          -0.17240999999999998,
          -0.15699000000000002,
          -0.16958,
          -0.1482,
          -0.14901,
          -0.17831,
          -0.15019000000000002,
          -0.16727,
          -0.13695,
          -0.18452000000000002,
          -0.15365,
          -0.16801,
          -0.15017,
          -0.1672,
          -0.16166,
          -0.16735999999999998,
          -0.16372,
          -0.14962999999999999,
          -0.1722,
          -0.16385999999999998,
          -0.14492,
          -0.17357,
          -0.16999,
          -0.16654000000000002,
          -0.12787,
          -0.15234,
          -0.16529000000000002,
          -0.16495,
          -0.14742,
          -0.14917,
          -0.13978,
          -0.13909000000000002,
          -0.14889000000000002,
          -0.17729,
          -0.18656,
          -0.15655,
          -0.14692,
          -0.11832999999999999,
          -0.13254000000000002,
          -0.13176,
          -0.12014000000000001,
          -0.12954000000000002,
          -0.12459,
          -0.11132,
          -0.14737999999999998,
          -0.16865,
          -0.18746,
          -0.17778,
          -0.18045999999999998,
          -0.17768,
          -0.17635,
          -0.17695,
          -0.18985,
          -0.15164,
          -0.17639000000000002,
          -0.16289,
          -0.17719000000000001,
          -0.13979,
          -0.15001,
          -0.13794,
          -0.1435,
          -0.13633,
          -0.15,
          -0.14488,
          -0.14928,
          -0.14017000000000002,
          -0.12847,
          -0.13592,
          -0.14372000000000001,
          -0.16355,
          -0.16397,
          -0.14672000000000002,
          -0.18882000000000002,
          -0.16648,
          -0.1666,
          -0.15478,
          -0.14767,
          -0.16588,
          -0.16973,
          -0.15992,
          -0.17927,
          -0.15872,
          -0.17498,
          -0.17478,
          -0.16222999999999999,
          -0.15916,
          -0.19539,
          -0.17577,
          -0.1692,
          -0.1521,
          -0.17047,
          -0.16221,
          -0.16455,
          -0.15473,
          -0.18808,
          -0.15202000000000002,
          -0.15588,
          -0.16988,
          -0.15177000000000002,
          -0.15007,
          -0.17321,
          -0.1509,
          -0.15157,
          -0.16083,
          -0.1588,
          -0.15083,
          -0.17506,
          -0.1487,
          -0.15798,
          -0.14889000000000002,
          -0.1779,
          -0.16255999999999998,
          -0.1695,
          -0.16823,
          -0.1751,
          -0.15715,
          -0.16814,
          -0.1601,
          -0.14740999999999999,
          -0.13507,
          -0.17608,
          -0.14062,
          -0.15105,
          -0.16676,
          -0.16284,
          -0.16358,
          -0.15903,
          -0.16564,
          -0.16802,
          -0.15734,
          -0.17536,
          -0.1682,
          -0.16697,
          -0.16817000000000001,
          -0.16404000000000002,
          -0.17238,
          -0.14827,
          -0.16479000000000002,
          -0.16036,
          -0.16805,
          -0.17379,
          -0.1541,
          -0.18293,
          -0.14729,
          -0.16971,
          -0.15496,
          -0.18807000000000001,
          -0.14028,
          -0.17501,
          -0.1741,
          -0.17399,
          -0.17084000000000002,
          -0.1692,
          -0.17465999999999998,
          -0.16530999999999998,
          -0.15525999999999998,
          -0.15632000000000001,
          -0.16554000000000002,
          -0.15746,
          -0.1886,
          -0.17206,
          -0.14876,
          -0.16785,
          -0.16943,
          -0.16594,
          -0.15678,
          -0.16794,
          -0.16779000000000002,
          -0.16848,
          -0.16382,
          -0.17131,
          -0.16693,
          -0.16394,
          -0.1811,
          -0.19034
         ],
         "marker": {
          "color": "#00cc96"
         },
         "mode": "markers",
         "name": "Battersea",
         "showlegend": true,
         "subplot": "mapbox",
         "type": "scattermapbox"
        },
        {
         "customdata": [
          [
           "-11.14 %"
          ],
          [
           "39.63 %"
          ],
          [
           "11.07 %"
          ],
          [
           "11.07 %"
          ],
          [
           "11.07 %"
          ],
          [
           "23.76 %"
          ],
          [
           "90.40 %"
          ],
          [
           "-36.53 %"
          ],
          [
           "36.46 %"
          ],
          [
           "23.76 %"
          ],
          [
           "77.15 %"
          ],
          [
           "-1.58 %"
          ],
          [
           "-1.58 %"
          ],
          [
           "36.69 %"
          ],
          [
           "-7.05 %"
          ],
          [
           "9.35 %"
          ],
          [
           "-28.92 %"
          ],
          [
           "9.35 %"
          ],
          [
           "-5.96 %"
          ],
          [
           "-1.58 %"
          ],
          [
           "-14.71 %"
          ],
          [
           "-12.52 %"
          ],
          [
           "-34.39 %"
          ],
          [
           "562.67 %"
          ],
          [
           "-23.45 %"
          ],
          [
           "31.22 %"
          ],
          [
           "-17.99 %"
          ],
          [
           "64.03 %"
          ],
          [
           "-22.36 %"
          ],
          [
           "-23.45 %"
          ],
          [
           "-23.45 %"
          ],
          [
           "-28.92 %"
          ],
          [
           "31.22 %"
          ],
          [
           "25.75 %"
          ],
          [
           "31.22 %"
          ],
          [
           "-24.55 %"
          ],
          [
           "3.88 %"
          ],
          [
           "-26.74 %"
          ],
          [
           "-9.24 %"
          ],
          [
           "-23.45 %"
          ],
          [
           "36.69 %"
          ],
          [
           "-34.39 %"
          ],
          [
           "14.82 %"
          ],
          [
           "-33.30 %"
          ],
          [
           "-2.68 %"
          ],
          [
           "20.29 %"
          ],
          [
           "22.47 %"
          ],
          [
           "-1.58 %"
          ],
          [
           "-28.92 %"
          ],
          [
           "31.22 %"
          ],
          [
           "-7.05 %"
          ],
          [
           "9.35 %"
          ],
          [
           "-27.83 %"
          ],
          [
           "-22.36 %"
          ],
          [
           "-34.39 %"
          ],
          [
           "-28.92 %"
          ],
          [
           "9.35 %"
          ],
          [
           "-12.52 %"
          ],
          [
           "47.62 %"
          ],
          [
           "-3.77 %"
          ],
          [
           "-1.58 %"
          ],
          [
           "31.22 %"
          ],
          [
           "-43.14 %"
          ],
          [
           "25.75 %"
          ],
          [
           "-28.92 %"
          ],
          [
           "55.28 %"
          ],
          [
           "3.88 %"
          ],
          [
           "9.35 %"
          ],
          [
           "9.35 %"
          ],
          [
           "44.34 %"
          ],
          [
           "5.22 %"
          ],
          [
           "190.43 %"
          ],
          [
           "0.99 %"
          ],
          [
           "-12.23 %"
          ],
          [
           "-14.48 %"
          ],
          [
           "12.53 %"
          ],
          [
           "8.02 %"
          ],
          [
           "62.04 %"
          ],
          [
           "-9.12 %"
          ],
          [
           "19.97 %"
          ],
          [
           "-20.02 %"
          ],
          [
           "-38.20 %"
          ],
          [
           "-9.12 %"
          ],
          [
           "-9.12 %"
          ],
          [
           "-34.56 %"
          ],
          [
           "70.86 %"
          ],
          [
           "9.06 %"
          ],
          [
           "25.42 %"
          ],
          [
           "-0.03 %"
          ],
          [
           "-21.84 %"
          ],
          [
           "9.06 %"
          ],
          [
           "14.51 %"
          ],
          [
           "-18.20 %"
          ],
          [
           "45.42 %"
          ],
          [
           "12.70 %"
          ],
          [
           "-27.29 %"
          ],
          [
           "-47.29 %"
          ],
          [
           "32.69 %"
          ],
          [
           "45.42 %"
          ],
          [
           "34.51 %"
          ],
          [
           "-18.20 %"
          ],
          [
           "-27.29 %"
          ],
          [
           "-27.29 %"
          ],
          [
           "38.14 %"
          ],
          [
           "-18.20 %"
          ],
          [
           "-45.47 %"
          ],
          [
           "-29.11 %"
          ],
          [
           "-21.84 %"
          ],
          [
           "3.61 %"
          ],
          [
           "-9.12 %"
          ],
          [
           "63.59 %"
          ],
          [
           "-9.12 %"
          ],
          [
           "36.33 %"
          ],
          [
           "-7.30 %"
          ],
          [
           "9.06 %"
          ],
          [
           "-45.47 %"
          ],
          [
           "27.24 %"
          ],
          [
           "-18.20 %"
          ],
          [
           "-9.12 %"
          ],
          [
           "-18.20 %"
          ],
          [
           "-9.12 %"
          ],
          [
           "-41.83 %"
          ],
          [
           "-45.47 %"
          ],
          [
           "54.50 %"
          ],
          [
           "99.95 %"
          ],
          [
           "-10.93 %"
          ],
          [
           "12.70 %"
          ],
          [
           "-18.20 %"
          ],
          [
           "49.05 %"
          ],
          [
           "9.06 %"
          ],
          [
           "-36.38 %"
          ],
          [
           "78.13 %"
          ],
          [
           "-36.38 %"
          ],
          [
           "7.24 %"
          ],
          [
           "18.15 %"
          ],
          [
           "27.24 %"
          ],
          [
           "-27.29 %"
          ],
          [
           "9.06 %"
          ],
          [
           "-34.56 %"
          ],
          [
           "-12.75 %"
          ],
          [
           "36.33 %"
          ],
          [
           "-9.12 %"
          ],
          [
           "9.06 %"
          ],
          [
           "19.97 %"
          ],
          [
           "-27.29 %"
          ],
          [
           "36.33 %"
          ],
          [
           "-18.20 %"
          ],
          [
           "-9.12 %"
          ],
          [
           "-27.29 %"
          ],
          [
           "-10.93 %"
          ],
          [
           "99.95 %"
          ],
          [
           "-36.38 %"
          ],
          [
           "-10.93 %"
          ],
          [
           "-27.29 %"
          ],
          [
           "129.03 %"
          ],
          [
           "-25.47 %"
          ],
          [
           "9.06 %"
          ],
          [
           "27.24 %"
          ],
          [
           "-0.03 %"
          ],
          [
           "-34.56 %"
          ],
          [
           "27.24 %"
          ],
          [
           "-18.20 %"
          ],
          [
           "161.75 %"
          ],
          [
           "9.06 %"
          ],
          [
           "45.42 %"
          ],
          [
           "-29.11 %"
          ],
          [
           "63.59 %"
          ],
          [
           "-36.38 %"
          ],
          [
           "9.06 %"
          ],
          [
           "9.06 %"
          ],
          [
           "63.59 %"
          ],
          [
           "118.12 %"
          ],
          [
           "63.59 %"
          ],
          [
           "27.24 %"
          ],
          [
           "-27.29 %"
          ],
          [
           "27.24 %"
          ],
          [
           "-18.20 %"
          ],
          [
           "18.15 %"
          ],
          [
           "-21.84 %"
          ],
          [
           "-12.75 %"
          ],
          [
           "-40.02 %"
          ],
          [
           "-10.45 %"
          ],
          [
           "-12.18 %"
          ],
          [
           "-17.34 %"
          ],
          [
           "-8.73 %"
          ],
          [
           "34.32 %"
          ],
          [
           "20.54 %"
          ],
          [
           "-13.90 %"
          ],
          [
           "-15.62 %"
          ],
          [
           "-15.62 %"
          ],
          [
           "-31.12 %"
          ],
          [
           "-3.57 %"
          ],
          [
           "65.32 %"
          ],
          [
           "-17.34 %"
          ],
          [
           "17.10 %"
          ],
          [
           "-3.57 %"
          ],
          [
           "-27.67 %"
          ],
          [
           "29.15 %"
          ],
          [
           "-10.45 %"
          ],
          [
           "-31.12 %"
          ],
          [
           "-51.78 %"
          ],
          [
           "137.64 %"
          ],
          [
           "103.20 %"
          ],
          [
           "51.54 %"
          ],
          [
           "-38.01 %"
          ],
          [
           "209.97 %"
          ],
          [
           "-25.95 %"
          ],
          [
           "20.54 %"
          ],
          [
           "-0.12 %"
          ],
          [
           "3.32 %"
          ],
          [
           "34.32 %"
          ],
          [
           "37.76 %"
          ],
          [
           "-17.34 %"
          ],
          [
           "84.26 %"
          ],
          [
           "84.26 %"
          ],
          [
           "106.65 %"
          ],
          [
           "3.32 %"
          ],
          [
           "23.99 %"
          ],
          [
           "-31.12 %"
          ],
          [
           "-15.62 %"
          ],
          [
           "-19.06 %"
          ],
          [
           "-48.34 %"
          ],
          [
           "-5.29 %"
          ],
          [
           "106.65 %"
          ],
          [
           "36.04 %"
          ],
          [
           "72.20 %"
          ],
          [
           "20.54 %"
          ],
          [
           "37.76 %"
          ],
          [
           "-22.51 %"
          ],
          [
           "3.32 %"
          ],
          [
           "29.15 %"
          ],
          [
           "137.64 %"
          ],
          [
           "-48.34 %"
          ],
          [
           "3.32 %"
          ],
          [
           "-13.90 %"
          ],
          [
           "-7.01 %"
          ],
          [
           "-31.12 %"
          ],
          [
           "-7.01 %"
          ],
          [
           "-31.12 %"
          ],
          [
           "-20.79 %"
          ],
          [
           "-3.57 %"
          ],
          [
           "13.65 %"
          ],
          [
           "11.93 %"
          ],
          [
           "54.98 %"
          ],
          [
           "-15.62 %"
          ],
          [
           "-10.45 %"
          ],
          [
           "3.32 %"
          ],
          [
           "68.76 %"
          ],
          [
           "3.32 %"
          ],
          [
           "-48.34 %"
          ],
          [
           "17.10 %"
          ],
          [
           "-63.84 %"
          ],
          [
           "123.87 %"
          ],
          [
           "129.03 %"
          ],
          [
           "-31.12 %"
          ],
          [
           "-31.12 %"
          ],
          [
           "-22.51 %"
          ],
          [
           "-17.34 %"
          ],
          [
           "20.54 %"
          ],
          [
           "11.93 %"
          ],
          [
           "-50.06 %"
          ],
          [
           "51.54 %"
          ],
          [
           "29.15 %"
          ],
          [
           "-5.29 %"
          ],
          [
           "-15.62 %"
          ],
          [
           "29.15 %"
          ],
          [
           "56.71 %"
          ],
          [
           "-56.95 %"
          ],
          [
           "-48.34 %"
          ],
          [
           "11.93 %"
          ],
          [
           "-5.29 %"
          ],
          [
           "3.32 %"
          ],
          [
           "3.32 %"
          ],
          [
           "-38.01 %"
          ],
          [
           "-48.34 %"
          ],
          [
           "-31.12 %"
          ],
          [
           "3.26 %"
          ],
          [
           "-26.99 %"
          ],
          [
           "-19.69 %"
          ],
          [
           "16.82 %"
          ],
          [
           "-42.63 %"
          ],
          [
           "4.30 %"
          ],
          [
           "-6.13 %"
          ],
          [
           "12.52 %"
          ],
          [
           "-23.11 %"
          ],
          [
           "-23.11 %"
          ],
          [
           "-44.68 %"
          ],
          [
           "-34.37 %"
          ],
          [
           "7.83 %"
          ],
          [
           "-2.49 %"
          ],
          [
           "-29.68 %"
          ],
          [
           "-15.61 %"
          ],
          [
           "3.14 %"
          ],
          [
           "-52.18 %"
          ],
          [
           "-20.30 %"
          ],
          [
           "-15.61 %"
          ],
          [
           "-6.24 %"
          ],
          [
           "31.27 %"
          ],
          [
           "-32.49 %"
          ],
          [
           "-20.30 %"
          ],
          [
           "-9.99 %"
          ],
          [
           "-15.61 %"
          ],
          [
           "-6.24 %"
          ],
          [
           "-15.61 %"
          ],
          [
           "4.08 %"
          ],
          [
           "-32.49 %"
          ],
          [
           "-6.24 %"
          ],
          [
           "17.20 %"
          ],
          [
           "-20.30 %"
          ],
          [
           "-20.30 %"
          ],
          [
           "12.52 %"
          ],
          [
           "-34.37 %"
          ],
          [
           "-20.30 %"
          ],
          [
           "-54.06 %"
          ],
          [
           "-43.74 %"
          ],
          [
           "140.03 %"
          ],
          [
           "-15.61 %"
          ],
          [
           "-39.99 %"
          ],
          [
           "-20.30 %"
          ],
          [
           "-4.36 %"
          ],
          [
           "-29.68 %"
          ],
          [
           "-6.24 %"
          ],
          [
           "-24.99 %"
          ],
          [
           "21.89 %"
          ],
          [
           "-34.37 %"
          ],
          [
           "-39.05 %"
          ],
          [
           "-18.43 %"
          ],
          [
           "40.64 %"
          ],
          [
           "-1.55 %"
          ],
          [
           "-14.68 %"
          ],
          [
           "12.52 %"
          ],
          [
           "-24.99 %"
          ],
          [
           "-10.93 %"
          ],
          [
           "21.89 %"
          ],
          [
           "89.40 %"
          ],
          [
           "-6.24 %"
          ],
          [
           "3.14 %"
          ],
          [
           "3.14 %"
          ],
          [
           "100.65 %"
          ],
          [
           "-34.37 %"
          ],
          [
           "-28.74 %"
          ],
          [
           "3.14 %"
          ],
          [
           "-15.61 %"
          ],
          [
           "3.14 %"
          ],
          [
           "26.58 %"
          ],
          [
           "-21.14 %"
          ],
          [
           "-58.25 %"
          ]
         ],
         "hovertemplate": "<b>%{hovertext}</b><br><br>Place=Columbia<br>latitude=%{lat}<br>longitude=%{lon}<br>Price difference=%{customdata[0]}<extra></extra>",
         "hovertext": [
          "Columbia",
          "Columbia",
          "Columbia",
          "Columbia",
          "Columbia",
          "Columbia",
          "Columbia",
          "Columbia",
          "Columbia",
          "Columbia",
          "Columbia",
          "Columbia",
          "Columbia",
          "Columbia",
          "Columbia",
          "Columbia",
          "Columbia",
          "Columbia",
          "Columbia",
          "Columbia",
          "Columbia",
          "Columbia",
          "Columbia",
          "Columbia",
          "Columbia",
          "Columbia",
          "Columbia",
          "Columbia",
          "Columbia",
          "Columbia",
          "Columbia",
          "Columbia",
          "Columbia",
          "Columbia",
          "Columbia",
          "Columbia",
          "Columbia",
          "Columbia",
          "Columbia",
          "Columbia",
          "Columbia",
          "Columbia",
          "Columbia",
          "Columbia",
          "Columbia",
          "Columbia",
          "Columbia",
          "Columbia",
          "Columbia",
          "Columbia",
          "Columbia",
          "Columbia",
          "Columbia",
          "Columbia",
          "Columbia",
          "Columbia",
          "Columbia",
          "Columbia",
          "Columbia",
          "Columbia",
          "Columbia",
          "Columbia",
          "Columbia",
          "Columbia",
          "Columbia",
          "Columbia",
          "Columbia",
          "Columbia",
          "Columbia",
          "Columbia",
          "Columbia",
          "Columbia",
          "Columbia",
          "Columbia",
          "Columbia",
          "Columbia",
          "Columbia",
          "Columbia",
          "Columbia",
          "Columbia",
          "Columbia",
          "Columbia",
          "Columbia",
          "Columbia",
          "Columbia",
          "Columbia",
          "Columbia",
          "Columbia",
          "Columbia",
          "Columbia",
          "Columbia",
          "Columbia",
          "Columbia",
          "Columbia",
          "Columbia",
          "Columbia",
          "Columbia",
          "Columbia",
          "Columbia",
          "Columbia",
          "Columbia",
          "Columbia",
          "Columbia",
          "Columbia",
          "Columbia",
          "Columbia",
          "Columbia",
          "Columbia",
          "Columbia",
          "Columbia",
          "Columbia",
          "Columbia",
          "Columbia",
          "Columbia",
          "Columbia",
          "Columbia",
          "Columbia",
          "Columbia",
          "Columbia",
          "Columbia",
          "Columbia",
          "Columbia",
          "Columbia",
          "Columbia",
          "Columbia",
          "Columbia",
          "Columbia",
          "Columbia",
          "Columbia",
          "Columbia",
          "Columbia",
          "Columbia",
          "Columbia",
          "Columbia",
          "Columbia",
          "Columbia",
          "Columbia",
          "Columbia",
          "Columbia",
          "Columbia",
          "Columbia",
          "Columbia",
          "Columbia",
          "Columbia",
          "Columbia",
          "Columbia",
          "Columbia",
          "Columbia",
          "Columbia",
          "Columbia",
          "Columbia",
          "Columbia",
          "Columbia",
          "Columbia",
          "Columbia",
          "Columbia",
          "Columbia",
          "Columbia",
          "Columbia",
          "Columbia",
          "Columbia",
          "Columbia",
          "Columbia",
          "Columbia",
          "Columbia",
          "Columbia",
          "Columbia",
          "Columbia",
          "Columbia",
          "Columbia",
          "Columbia",
          "Columbia",
          "Columbia",
          "Columbia",
          "Columbia",
          "Columbia",
          "Columbia",
          "Columbia",
          "Columbia",
          "Columbia",
          "Columbia",
          "Columbia",
          "Columbia",
          "Columbia",
          "Columbia",
          "Columbia",
          "Columbia",
          "Columbia",
          "Columbia",
          "Columbia",
          "Columbia",
          "Columbia",
          "Columbia",
          "Columbia",
          "Columbia",
          "Columbia",
          "Columbia",
          "Columbia",
          "Columbia",
          "Columbia",
          "Columbia",
          "Columbia",
          "Columbia",
          "Columbia",
          "Columbia",
          "Columbia",
          "Columbia",
          "Columbia",
          "Columbia",
          "Columbia",
          "Columbia",
          "Columbia",
          "Columbia",
          "Columbia",
          "Columbia",
          "Columbia",
          "Columbia",
          "Columbia",
          "Columbia",
          "Columbia",
          "Columbia",
          "Columbia",
          "Columbia",
          "Columbia",
          "Columbia",
          "Columbia",
          "Columbia",
          "Columbia",
          "Columbia",
          "Columbia",
          "Columbia",
          "Columbia",
          "Columbia",
          "Columbia",
          "Columbia",
          "Columbia",
          "Columbia",
          "Columbia",
          "Columbia",
          "Columbia",
          "Columbia",
          "Columbia",
          "Columbia",
          "Columbia",
          "Columbia",
          "Columbia",
          "Columbia",
          "Columbia",
          "Columbia",
          "Columbia",
          "Columbia",
          "Columbia",
          "Columbia",
          "Columbia",
          "Columbia",
          "Columbia",
          "Columbia",
          "Columbia",
          "Columbia",
          "Columbia",
          "Columbia",
          "Columbia",
          "Columbia",
          "Columbia",
          "Columbia",
          "Columbia",
          "Columbia",
          "Columbia",
          "Columbia",
          "Columbia",
          "Columbia",
          "Columbia",
          "Columbia",
          "Columbia",
          "Columbia",
          "Columbia",
          "Columbia",
          "Columbia",
          "Columbia",
          "Columbia",
          "Columbia",
          "Columbia",
          "Columbia",
          "Columbia",
          "Columbia",
          "Columbia",
          "Columbia",
          "Columbia",
          "Columbia",
          "Columbia",
          "Columbia",
          "Columbia",
          "Columbia",
          "Columbia",
          "Columbia",
          "Columbia",
          "Columbia",
          "Columbia",
          "Columbia",
          "Columbia",
          "Columbia",
          "Columbia",
          "Columbia",
          "Columbia",
          "Columbia",
          "Columbia",
          "Columbia",
          "Columbia",
          "Columbia",
          "Columbia",
          "Columbia",
          "Columbia",
          "Columbia",
          "Columbia",
          "Columbia",
          "Columbia",
          "Columbia",
          "Columbia",
          "Columbia",
          "Columbia",
          "Columbia",
          "Columbia",
          "Columbia",
          "Columbia",
          "Columbia",
          "Columbia",
          "Columbia",
          "Columbia",
          "Columbia",
          "Columbia",
          "Columbia",
          "Columbia",
          "Columbia",
          "Columbia",
          "Columbia",
          "Columbia",
          "Columbia",
          "Columbia",
          "Columbia",
          "Columbia",
          "Columbia",
          "Columbia",
          "Columbia",
          "Columbia",
          "Columbia",
          "Columbia",
          "Columbia"
         ],
         "lat": [
          51.540490000000005,
          51.52231,
          51.54655,
          51.54739,
          51.54844,
          51.53468,
          51.52767,
          51.539970000000004,
          51.54375,
          51.55041,
          51.52525,
          51.5374,
          51.5366,
          51.52698,
          51.55015,
          51.54403,
          51.54899,
          51.56077,
          51.53917,
          51.53395,
          51.53071,
          51.54945,
          51.5342,
          51.53085,
          51.549820000000004,
          51.5381,
          51.53451,
          51.533559999999994,
          51.53163,
          51.52973,
          51.53577,
          51.54602,
          51.53255,
          51.535920000000004,
          51.54137,
          51.538909999999994,
          51.52655,
          51.5375,
          51.54407,
          51.53602,
          51.53031,
          51.54871,
          51.52749,
          51.53881,
          51.54383,
          51.544509999999995,
          51.53123,
          51.53522,
          51.53914,
          51.535379999999996,
          51.54437,
          51.53433,
          51.53365,
          51.53893,
          51.53725,
          51.54517,
          51.54143,
          51.53644,
          51.53734,
          51.536559999999994,
          51.53285,
          51.529959999999996,
          51.551829999999995,
          51.54095,
          51.54316,
          51.537859999999995,
          51.52727,
          51.529790000000006,
          51.55972,
          51.53133,
          51.50326,
          51.52135,
          51.44762,
          51.5715,
          51.56991,
          51.56671,
          51.56402,
          51.565540000000006,
          51.53569,
          51.53567,
          51.55852,
          51.551840000000006,
          51.539809999999996,
          51.532740000000004,
          51.54285,
          51.54016,
          51.554159999999996,
          51.53569,
          51.543409999999994,
          51.52897,
          51.53304,
          51.5277,
          51.550909999999995,
          51.53247,
          51.53505,
          51.5412,
          51.5428,
          51.52811,
          51.5298,
          51.52932,
          51.54659,
          51.528890000000004,
          51.54552,
          51.55056,
          51.53785,
          51.537,
          51.53974,
          51.539429999999996,
          51.54977,
          51.55522,
          51.538090000000004,
          51.5496,
          51.536159999999995,
          51.55695,
          51.5322,
          51.54564,
          51.53675,
          51.54548,
          51.54325,
          51.53499,
          51.540929999999996,
          51.54484,
          51.53903,
          51.53079,
          51.54562,
          51.544270000000004,
          51.53941,
          51.53477,
          51.54148,
          51.53481,
          51.53937,
          51.53828,
          51.540079999999996,
          51.53002,
          51.55473,
          51.52505,
          51.539970000000004,
          51.53935,
          51.55299,
          51.558840000000004,
          51.54582,
          51.538059999999994,
          51.53845,
          51.54845,
          51.536359999999995,
          51.525009999999995,
          51.53519,
          51.54549,
          51.541059999999995,
          51.534929999999996,
          51.53821,
          51.54981,
          51.52598,
          51.54032,
          51.524409999999996,
          51.531859999999995,
          51.53865,
          51.54122,
          51.54226,
          51.53934,
          51.55976,
          51.5366,
          51.53037,
          51.53453,
          51.53013,
          51.52639,
          51.539320000000004,
          51.53028,
          51.532059999999994,
          51.54586,
          51.531209999999994,
          51.54123,
          51.542320000000004,
          51.54083,
          51.53844,
          51.54352,
          51.52899,
          51.53584,
          51.53801,
          51.53332,
          51.557179999999995,
          51.53368,
          51.5237,
          51.530190000000005,
          51.51762,
          51.53106,
          51.52838,
          51.51538,
          51.53332,
          51.53355,
          51.53351,
          51.53045,
          51.530590000000004,
          51.53117,
          51.5325,
          51.52482,
          51.53004,
          51.52248,
          51.52577,
          51.518570000000004,
          51.531259999999996,
          51.52888,
          51.530229999999996,
          51.52819,
          51.53412,
          51.529140000000005,
          51.53297,
          51.532059999999994,
          51.52603,
          51.52724,
          51.53144,
          51.52278,
          51.53072,
          51.523999999999994,
          51.52602,
          51.52771,
          51.51775,
          51.52726,
          51.53089,
          51.53033,
          51.5327,
          51.525659999999995,
          51.52639,
          51.51529,
          51.529720000000005,
          51.52405,
          51.52446,
          51.531940000000006,
          51.532509999999995,
          51.52964,
          51.530640000000005,
          51.52413,
          51.532779999999995,
          51.512840000000004,
          51.52796,
          51.52683,
          51.52747,
          51.52836,
          51.52689,
          51.532270000000004,
          51.52621,
          51.519059999999996,
          51.53528,
          51.528890000000004,
          51.52779,
          51.53049,
          51.52574,
          51.530609999999996,
          51.52554,
          51.52435,
          51.52657,
          51.51675,
          51.5257,
          51.52609,
          51.523740000000004,
          51.52475,
          51.52361,
          51.527029999999996,
          51.52995,
          51.51636,
          51.531490000000005,
          51.532059999999994,
          51.52122,
          51.52698,
          51.52755,
          51.51182,
          51.53151,
          51.51536,
          51.527,
          51.53286,
          51.527229999999996,
          51.52452,
          51.52928,
          51.54338,
          51.52069,
          51.5197,
          51.53967,
          51.52669,
          51.52678,
          51.52662,
          51.547540000000005,
          51.53868,
          51.54107,
          51.528040000000004,
          51.521770000000004,
          51.52983,
          51.519290000000005,
          51.5338,
          51.52758,
          51.52465,
          51.532059999999994,
          51.531909999999996,
          51.53025,
          51.532070000000004,
          51.525490000000005,
          51.52814,
          51.53042,
          51.525859999999994,
          51.51806,
          51.52709,
          51.53439,
          51.52836,
          51.52737,
          51.51024,
          51.524229999999996,
          51.527770000000004,
          51.52345,
          51.53045,
          51.52747,
          51.52106,
          51.53295,
          51.52228,
          51.52493,
          51.52856,
          51.52885,
          51.52753,
          51.52449,
          51.52818,
          51.514990000000004,
          51.53052,
          51.52905,
          51.52306,
          51.52316,
          51.53106,
          51.524570000000004,
          51.528240000000004,
          51.5306,
          51.53348,
          51.53228,
          51.5244,
          51.525909999999996,
          51.52941,
          51.52303,
          51.528909999999996,
          51.52424,
          51.53174,
          51.517179999999996,
          51.53306,
          51.53014,
          51.52404,
          51.518679999999996,
          51.52412,
          51.52968,
          51.528259999999996,
          51.529720000000005,
          51.57948,
          51.52722
         ],
         "legendgroup": "Columbia",
         "lon": [
          -0.09041,
          -0.09144,
          -0.0958,
          -0.09416000000000001,
          -0.09371,
          -0.09497,
          -0.0895,
          -0.08926,
          -0.09321,
          -0.0794,
          -0.08165,
          -0.08004,
          -0.0786,
          -0.08413,
          -0.07264,
          -0.03503,
          -0.06681000000000001,
          -0.06006,
          -0.06561,
          -0.06498,
          -0.09035,
          -0.06859,
          -0.06314,
          -0.07332000000000001,
          -0.05956,
          -0.08602,
          -0.0633,
          -0.06495,
          -0.0779,
          -0.07478,
          -0.06319,
          -0.042910000000000004,
          -0.07107000000000001,
          -0.062270000000000006,
          -0.06477000000000001,
          -0.07325,
          -0.07746,
          -0.07463,
          -0.07479,
          -0.054920000000000004,
          -0.08885,
          -0.06735,
          -0.08135,
          -0.0767,
          -0.062220000000000004,
          -0.07461,
          -0.07165,
          -0.07804,
          -0.06377000000000001,
          -0.0553,
          -0.07372000000000001,
          -0.06941,
          -0.07537,
          -0.06829,
          -0.0754,
          -0.0691,
          -0.07533,
          -0.08004,
          -0.07109,
          -0.07842,
          -0.06625,
          -0.07547999999999999,
          -0.07314,
          -0.05824,
          -0.05549,
          -0.07771,
          -0.08585,
          -0.08585,
          -0.06269,
          -0.07286000000000001,
          -0.07816000000000001,
          -0.1087,
          -0.11825999999999999,
          0.0021100000000000003,
          0.0004,
          -0.0072299999999999994,
          -0.015609999999999999,
          -0.014469999999999998,
          -0.0775,
          -0.0726,
          -0.04968,
          -0.05474,
          -0.08417000000000001,
          -0.09361,
          -0.028489999999999998,
          -0.06654,
          -0.06681000000000001,
          -0.09011,
          -0.05636,
          -0.08021,
          -0.08684,
          -0.08276,
          -0.0705,
          -0.07003,
          -0.07328,
          -0.06938,
          -0.05176,
          -0.07774,
          -0.08431,
          -0.0857,
          -0.0538,
          -0.08657999999999999,
          -0.055720000000000006,
          -0.05886,
          -0.0577,
          -0.06831,
          -0.05404,
          -0.06773,
          -0.04359,
          -0.07182999999999999,
          -0.061470000000000004,
          -0.06996000000000001,
          -0.07546,
          -0.04974,
          -0.07658999999999999,
          -0.05507000000000001,
          -0.07495,
          -0.05101,
          -0.05685,
          -0.07572000000000001,
          -0.05269,
          -0.0479,
          -0.08549,
          -0.07432000000000001,
          -0.07282999999999999,
          -0.07048,
          -0.06802000000000001,
          -0.07596,
          -0.07725,
          -0.06971000000000001,
          -0.056260000000000004,
          -0.0549,
          -0.07306,
          -0.08467999999999999,
          -0.05747000000000001,
          -0.07687999999999999,
          -0.05176,
          -0.05086,
          -0.07214,
          -0.06076,
          -0.05099,
          -0.08596000000000001,
          -0.07866000000000001,
          -0.06095,
          -0.06787,
          -0.07959,
          -0.07574,
          -0.06892000000000001,
          -0.04906,
          -0.07153,
          -0.0831,
          -0.055560000000000005,
          -0.08247,
          -0.0505,
          -0.08167,
          -0.06917999999999999,
          -0.05775,
          -0.0676,
          -0.056760000000000005,
          -0.06665,
          -0.0594,
          -0.07321,
          -0.0824,
          -0.06402999999999999,
          -0.07561,
          -0.07666,
          -0.05702,
          -0.07437,
          -0.08032,
          -0.07042999999999999,
          -0.07877,
          -0.04848,
          -0.04844,
          -0.04777,
          -0.057429999999999995,
          -0.07461,
          -0.07603,
          -0.07786,
          -0.05499,
          -0.07200000000000001,
          -0.05011,
          -0.043789999999999996,
          -0.056229999999999995,
          -0.07307999999999999,
          -0.07574,
          -0.04088,
          -0.06642999999999999,
          -0.010879999999999999,
          -0.055689999999999996,
          -0.05594,
          -0.0557,
          -0.07047,
          -0.07188,
          -0.0568,
          -0.04991,
          -0.07257000000000001,
          -0.06481,
          -0.046669999999999996,
          -0.06591,
          -0.06806,
          -0.03938,
          -0.07468,
          -0.07285,
          -0.07214,
          -0.06044,
          -0.06988,
          -0.05017,
          -0.054329999999999996,
          -0.07135,
          -0.059539999999999996,
          -0.06357,
          -0.0661,
          -0.0603,
          -0.07041,
          -0.07103,
          -0.06948,
          -0.06997,
          -0.026910000000000003,
          -0.060989999999999996,
          -0.03258,
          -0.06266000000000001,
          -0.07504,
          -0.04972,
          -0.07099,
          -0.06387999999999999,
          -0.07242,
          -0.06932,
          -0.06477999999999999,
          -0.06069,
          -0.059379999999999995,
          -0.06975,
          -0.06799,
          -0.05379,
          -0.02026,
          -0.05822000000000001,
          -0.062439999999999996,
          -0.043539999999999995,
          -0.05085,
          -0.05217,
          -0.04515,
          -0.06758,
          -0.03659,
          -0.03304,
          -0.0718,
          -0.0719,
          -0.04118,
          -0.07508,
          -0.061829999999999996,
          -0.0723,
          -0.0629,
          -0.06387999999999999,
          -0.00727,
          -0.07099,
          -0.07094,
          -0.06683,
          -0.07015,
          -0.06687,
          -0.0681,
          -0.053860000000000005,
          -0.06999,
          -0.057960000000000005,
          -0.05814,
          -0.07475,
          -0.07631,
          -0.0665,
          -0.06663999999999999,
          -0.04315,
          -0.06215,
          -0.07277,
          -0.061739999999999996,
          -0.04406,
          -0.07577,
          -0.06719,
          -0.0221,
          -0.05186,
          -0.05195,
          -0.09673999999999999,
          -0.09282,
          -0.08902,
          -0.09693,
          -0.09212999999999999,
          -0.08922000000000001,
          -0.09981,
          -0.06444,
          -0.07517,
          -0.06973,
          -0.0487,
          -0.06129,
          -0.07353,
          -0.05976,
          -0.060070000000000005,
          -0.05802,
          -0.07297999999999999,
          -0.0515,
          -0.07012,
          -0.06679,
          -0.06427999999999999,
          -0.071,
          -0.02461,
          -0.056670000000000005,
          -0.05471,
          -0.04038,
          -0.07552,
          -0.05975,
          -0.07062,
          -0.04263,
          -0.04432,
          -0.0705,
          -0.0535,
          -0.07468,
          -0.06404,
          -0.050710000000000005,
          -0.07188,
          -0.053529999999999994,
          -0.05148,
          -0.050960000000000005,
          -0.07186000000000001,
          -0.04233,
          -0.07318,
          -0.058879999999999995,
          -0.05915,
          -0.059829999999999994,
          -0.03812,
          -0.06121,
          -0.015030000000000002,
          -0.049339999999999995,
          -0.041460000000000004,
          -0.05458,
          -0.03635,
          -0.0708,
          -0.07335,
          -0.0497,
          -0.07576000000000001,
          -0.06923,
          -0.07123,
          -0.06444,
          -0.06828,
          -0.06151,
          -0.04432,
          -0.02897,
          -0.06667999999999999,
          -0.06676,
          -0.06402999999999999,
          -0.04113,
          -0.06879,
          -0.08031,
          -0.06006
         ],
         "marker": {
          "color": "#ab63fa"
         },
         "mode": "markers",
         "name": "Columbia",
         "showlegend": true,
         "subplot": "mapbox",
         "type": "scattermapbox"
        },
        {
         "customdata": [
          [
           "17.22 %"
          ],
          [
           "4.32 %"
          ],
          [
           "-8.57 %"
          ],
          [
           "134.43 %"
          ],
          [
           "-6.23 %"
          ],
          [
           "11.36 %"
          ],
          [
           "110.99 %"
          ],
          [
           "-35.53 %"
          ],
          [
           "115.68 %"
          ],
          [
           "17.22 %"
          ],
          [
           "40.66 %"
          ],
          [
           "-28.50 %"
          ],
          [
           "-58.97 %"
          ],
          [
           "46.52 %"
          ],
          [
           "5.50 %"
          ],
          [
           "4.32 %"
          ],
          [
           "48.87 %"
          ],
          [
           "17.22 %"
          ],
          [
           "-61.60 %"
          ],
          [
           "-45.15 %"
          ],
          [
           "-45.15 %"
          ],
          [
           "-35.65 %"
          ],
          [
           "-0.10 %"
          ],
          [
           "116.74 %"
          ],
          [
           "55.78 %"
          ],
          [
           "-8.56 %"
          ],
          [
           "15.14 %"
          ],
          [
           "23.61 %"
          ],
          [
           "16.84 %"
          ],
          [
           "-23.80 %"
          ],
          [
           "-8.56 %"
          ],
          [
           "-18.72 %"
          ],
          [
           "-23.74 %"
          ],
          [
           "-41.07 %"
          ],
          [
           "-32.75 %"
          ],
          [
           "-44.54 %"
          ]
         ],
         "hovertemplate": "<b>%{hovertext}</b><br><br>Place=Salusbury<br>latitude=%{lat}<br>longitude=%{lon}<br>Price difference=%{customdata[0]}<extra></extra>",
         "hovertext": [
          "Salusbury",
          "Salusbury",
          "Salusbury",
          "Salusbury",
          "Salusbury",
          "Salusbury",
          "Salusbury",
          "Salusbury",
          "Salusbury",
          "Salusbury",
          "Salusbury",
          "Salusbury",
          "Salusbury",
          "Salusbury",
          "Salusbury",
          "Salusbury",
          "Salusbury",
          "Salusbury",
          "Salusbury",
          "Salusbury",
          "Salusbury",
          "Salusbury",
          "Salusbury",
          "Salusbury",
          "Salusbury",
          "Salusbury",
          "Salusbury",
          "Salusbury",
          "Salusbury",
          "Salusbury",
          "Salusbury",
          "Salusbury",
          "Salusbury",
          "Salusbury",
          "Salusbury",
          "Salusbury"
         ],
         "lat": [
          51.53224,
          51.531209999999994,
          51.53496,
          51.53582,
          51.54829,
          51.54063,
          51.537,
          51.5355,
          51.5402,
          51.537929999999996,
          51.537259999999996,
          51.54198,
          51.538140000000006,
          51.53335,
          51.54569,
          51.54081,
          51.54016,
          51.54098,
          51.530570000000004,
          51.531000000000006,
          51.530570000000004,
          51.53624,
          51.539809999999996,
          51.537279999999996,
          51.53653,
          51.53148,
          51.53783,
          51.5303,
          51.53225,
          51.53196,
          51.530390000000004,
          51.53125,
          51.52887,
          51.52887,
          51.5257,
          51.53184
         ],
         "legendgroup": "Salusbury",
         "lon": [
          -0.20071,
          -0.22703,
          -0.22634,
          -0.20252,
          -0.22250999999999999,
          -0.2075,
          -0.20315999999999998,
          -0.2034,
          -0.20132,
          -0.19617,
          -0.19579000000000002,
          -0.20184000000000002,
          -0.19948,
          -0.21333000000000002,
          -0.21568,
          -0.21744000000000002,
          -0.20794,
          -0.20690999999999998,
          -0.20240999999999998,
          -0.20232999999999998,
          -0.20055,
          -0.19684000000000001,
          -0.20970999999999998,
          -0.19937,
          -0.20615999999999998,
          -0.22183000000000003,
          -0.20290999999999998,
          -0.19584000000000001,
          -0.19379000000000002,
          -0.23288000000000003,
          -0.22284,
          -0.22439,
          -0.20486,
          -0.20535,
          -0.2009,
          -0.20920999999999998
         ],
         "marker": {
          "color": "#FFA15A"
         },
         "mode": "markers",
         "name": "Salusbury",
         "showlegend": true,
         "subplot": "mapbox",
         "type": "scattermapbox"
        },
        {
         "customdata": [
          [
           "-44.28 %"
          ],
          [
           "77.60 %"
          ],
          [
           "-9.46 %"
          ],
          [
           "-4.23 %"
          ],
          [
           "16.66 %"
          ],
          [
           "-12.94 %"
          ],
          [
           "13.18 %"
          ],
          [
           "23.63 %"
          ],
          [
           "70.64 %"
          ],
          [
           "143.77 %"
          ],
          [
           "74.12 %"
          ],
          [
           "-56.47 %"
          ],
          [
           "-33.83 %"
          ],
          [
           "9.74 %"
          ],
          [
           "44.40 %"
          ],
          [
           "-31.05 %"
          ],
          [
           "1.13 %"
          ],
          [
           "-19.56 %"
          ],
          [
           "14.92 %"
          ],
          [
           "5.17 %"
          ],
          [
           "5.17 %"
          ]
         ],
         "hovertemplate": "<b>%{hovertext}</b><br><br>Place=Abbeville<br>latitude=%{lat}<br>longitude=%{lon}<br>Price difference=%{customdata[0]}<extra></extra>",
         "hovertext": [
          "Abbeville",
          "Abbeville",
          "Abbeville",
          "Abbeville",
          "Abbeville",
          "Abbeville",
          "Abbeville",
          "Abbeville",
          "Abbeville",
          "Abbeville",
          "Abbeville",
          "Abbeville",
          "Abbeville",
          "Abbeville",
          "Abbeville",
          "Abbeville",
          "Abbeville",
          "Abbeville",
          "Abbeville",
          "Abbeville",
          "Abbeville"
         ],
         "lat": [
          51.45715,
          51.45775,
          51.456579999999995,
          51.453540000000004,
          51.45726,
          51.454840000000004,
          51.45446,
          51.45389,
          51.45306,
          51.45645,
          51.45734,
          51.45786,
          51.45821,
          51.450140000000005,
          51.4508,
          51.45507,
          51.45321,
          51.45856,
          51.45881,
          51.45129,
          51.45513
         ],
         "legendgroup": "Abbeville",
         "lon": [
          -0.14300000000000002,
          -0.13279000000000002,
          -0.12609,
          -0.14315999999999998,
          -0.12535,
          -0.13710999999999998,
          -0.14182999999999998,
          -0.14415,
          -0.13022999999999998,
          -0.13099,
          -0.12737,
          -0.12552,
          -0.12675999999999998,
          -0.15042,
          -0.14889000000000002,
          -0.13248,
          -0.14176,
          -0.14290999999999998,
          -0.12630999999999998,
          -0.14434,
          -0.15370999999999999
         ],
         "marker": {
          "color": "#19d3f3"
         },
         "mode": "markers",
         "name": "Abbeville",
         "showlegend": true,
         "subplot": "mapbox",
         "type": "scattermapbox"
        },
        {
         "customdata": [
          [
           "39.63 %"
          ],
          [
           "4.72 %"
          ],
          [
           "74.54 %"
          ],
          [
           "-44.47 %"
          ],
          [
           "90.40 %"
          ],
          [
           "-30.19 %"
          ],
          [
           "-20.67 %"
          ],
          [
           "11.07 %"
          ],
          [
           "-22.25 %"
          ],
          [
           "42.80 %"
          ],
          [
           "3.14 %"
          ],
          [
           "30.11 %"
          ],
          [
           "737.78 %"
          ],
          [
           "17.42 %"
          ],
          [
           "1.55 %"
          ],
          [
           "4.72 %"
          ],
          [
           "-36.53 %"
          ],
          [
           "-20.67 %"
          ],
          [
           "77.15 %"
          ],
          [
           "-1.58 %"
          ],
          [
           "-14.71 %"
          ],
          [
           "105.58 %"
          ],
          [
           "-27.66 %"
          ],
          [
           "-31.21 %"
          ],
          [
           "-9.12 %"
          ],
          [
           "-9.12 %"
          ],
          [
           "-27.29 %"
          ],
          [
           "107.22 %"
          ],
          [
           "-30.93 %"
          ],
          [
           "-9.12 %"
          ],
          [
           "-13.90 %"
          ],
          [
           "-13.90 %"
          ],
          [
           "-17.60 %"
          ],
          [
           "-21.77 %"
          ],
          [
           "9.52 %"
          ],
          [
           "30.38 %"
          ],
          [
           "14.73 %"
          ],
          [
           "-26.99 %"
          ],
          [
           "-21.77 %"
          ],
          [
           "133.64 %"
          ],
          [
           "-46.81 %"
          ],
          [
           "159.71 %"
          ],
          [
           "16.82 %"
          ],
          [
           "20.99 %"
          ],
          [
           "-23.86 %"
          ],
          [
           "-17.60 %"
          ],
          [
           "42.89 %"
          ],
          [
           "49.15 %"
          ],
          [
           "17.86 %"
          ],
          [
           "-19.69 %"
          ],
          [
           "-17.60 %"
          ],
          [
           "-15.61 %"
          ],
          [
           "14.00 %"
          ],
          [
           "8.57 %"
          ],
          [
           "-33.05 %"
          ],
          [
           "26.67 %"
          ],
          [
           "68.29 %"
          ],
          [
           "-18.57 %"
          ],
          [
           "-12.54 %"
          ],
          [
           "29.74 %"
          ]
         ],
         "hovertemplate": "<b>%{hovertext}</b><br><br>Place=Barbican<br>latitude=%{lat}<br>longitude=%{lon}<br>Price difference=%{customdata[0]}<extra></extra>",
         "hovertext": [
          "Barbican",
          "Barbican",
          "Barbican",
          "Barbican",
          "Barbican",
          "Barbican",
          "Barbican",
          "Barbican",
          "Barbican",
          "Barbican",
          "Barbican",
          "Barbican",
          "Barbican",
          "Barbican",
          "Barbican",
          "Barbican",
          "Barbican",
          "Barbican",
          "Barbican",
          "Barbican",
          "Barbican",
          "Barbican",
          "Barbican",
          "Barbican",
          "Barbican",
          "Barbican",
          "Barbican",
          "Barbican",
          "Barbican",
          "Barbican",
          "Barbican",
          "Barbican",
          "Barbican",
          "Barbican",
          "Barbican",
          "Barbican",
          "Barbican",
          "Barbican",
          "Barbican",
          "Barbican",
          "Barbican",
          "Barbican",
          "Barbican",
          "Barbican",
          "Barbican",
          "Barbican",
          "Barbican",
          "Barbican",
          "Barbican",
          "Barbican",
          "Barbican",
          "Barbican",
          "Barbican",
          "Barbican",
          "Barbican",
          "Barbican",
          "Barbican",
          "Barbican",
          "Barbican",
          "Barbican"
         ],
         "lat": [
          51.52231,
          51.52925,
          51.52418,
          51.52447,
          51.5519,
          51.52622,
          51.52316,
          51.52686,
          51.52507,
          51.52431,
          51.52612,
          51.5469,
          51.52469,
          51.52515,
          51.54234,
          51.54003,
          51.524640000000005,
          51.5253,
          51.52525,
          51.52977,
          51.53071,
          51.53308,
          51.4958,
          51.552459999999996,
          51.53068,
          51.532740000000004,
          51.528890000000004,
          51.52753,
          51.533,
          51.53348,
          51.511109999999995,
          51.5259,
          51.522090000000006,
          51.53,
          51.52296,
          51.5234,
          51.52834,
          51.52669,
          51.5266,
          51.52004,
          51.529340000000005,
          51.52872,
          51.52662,
          51.52748,
          51.52308,
          51.523309999999995,
          51.52467,
          51.53581,
          51.52329,
          51.5218,
          51.522079999999995,
          51.51441,
          51.51937,
          51.52299,
          51.51788,
          51.52162,
          51.516659999999995,
          51.51054,
          51.52189,
          51.52236
         ],
         "legendgroup": "Barbican",
         "lon": [
          -0.09144,
          -0.11127999999999999,
          -0.09014,
          -0.09576,
          -0.08918999999999999,
          -0.09362999999999999,
          -0.09933,
          -0.09126000000000001,
          -0.09222999999999999,
          -0.09676,
          -0.09852999999999999,
          -0.09534,
          -0.091,
          -0.10265,
          -0.08837,
          -0.10390999999999999,
          -0.09122999999999999,
          -0.08989,
          -0.08165,
          -0.08597,
          -0.09035,
          -0.09547,
          -0.07255,
          -0.15824000000000002,
          -0.08932999999999999,
          -0.09361,
          -0.08657999999999999,
          -0.0863,
          -0.0809,
          -0.09429,
          -0.06773,
          -0.07332000000000001,
          -0.10567,
          -0.11001,
          -0.09461,
          -0.1021,
          -0.09516000000000001,
          -0.09282,
          -0.09772,
          -0.10164,
          -0.09651,
          -0.09779,
          -0.09693,
          -0.09502999999999999,
          -0.10157999999999999,
          -0.09348,
          -0.10887000000000001,
          -0.09214,
          -0.09002,
          -0.10587,
          -0.10602,
          -0.06301,
          -0.09562999999999999,
          -0.09764,
          -0.10185,
          -0.09449,
          -0.0886,
          -0.07848,
          -0.09611,
          -0.0966
         ],
         "marker": {
          "color": "#FF6692"
         },
         "mode": "markers",
         "name": "Barbican",
         "showlegend": true,
         "subplot": "mapbox",
         "type": "scattermapbox"
        },
        {
         "customdata": [
          [
           "50.74 %"
          ],
          [
           "-27.89 %"
          ],
          [
           "-7.94 %"
          ],
          [
           "29.93 %"
          ],
          [
           "153.74 %"
          ],
          [
           "52.86 %"
          ],
          [
           "110.94 %"
          ],
          [
           "14.64 %"
          ],
          [
           "-34.27 %"
          ],
          [
           "-38.86 %"
          ],
          [
           "-15.93 %"
          ],
          [
           "25.34 %"
          ],
          [
           "25.34 %"
          ],
          [
           "141.51 %"
          ],
          [
           "29.93 %"
          ],
          [
           "129.28 %"
          ],
          [
           "205.71 %"
          ],
          [
           "-25.10 %"
          ],
          [
           "-31.21 %"
          ],
          [
           "-15.93 %"
          ],
          [
           "-15.93 %"
          ],
          [
           "-67.90 %"
          ],
          [
           "52.86 %"
          ],
          [
           "22.28 %"
          ],
          [
           "22.28 %"
          ],
          [
           "-18.99 %"
          ],
          [
           "-74.01 %"
          ],
          [
           "36.04 %"
          ],
          [
           "263.80 %"
          ],
          [
           "29.45 %"
          ],
          [
           "-22.97 %"
          ],
          [
           "2.71 %"
          ],
          [
           "-14.41 %"
          ],
          [
           "9.55 %"
          ],
          [
           "-15.27 %"
          ],
          [
           "-18.69 %"
          ],
          [
           "-31.53 %"
          ],
          [
           "54.06 %"
          ],
          [
           "72.03 %"
          ],
          [
           "-9.28 %"
          ],
          [
           "-18.69 %"
          ],
          [
           "-15.27 %"
          ],
          [
           "15.55 %"
          ],
          [
           "-44.37 %"
          ],
          [
           "19.83 %"
          ],
          [
           "-22.97 %"
          ],
          [
           "-14.41 %"
          ],
          [
           "-0.72 %"
          ],
          [
           "-21.26 %"
          ],
          [
           "11.27 %"
          ],
          [
           "-27.25 %"
          ],
          [
           "-13.55 %"
          ],
          [
           "6.13 %"
          ],
          [
           "15.78 %"
          ],
          [
           "-21.77 %"
          ],
          [
           "14.73 %"
          ],
          [
           "-23.74 %"
          ],
          [
           "-37.61 %"
          ],
          [
           "-24.43 %"
          ],
          [
           "-54.76 %"
          ],
          [
           "55.99 %"
          ],
          [
           "92.93 %"
          ]
         ],
         "hovertemplate": "<b>%{hovertext}</b><br><br>Place=Bloomsbury<br>latitude=%{lat}<br>longitude=%{lon}<br>Price difference=%{customdata[0]}<extra></extra>",
         "hovertext": [
          "Bloomsbury",
          "Bloomsbury",
          "Bloomsbury",
          "Bloomsbury",
          "Bloomsbury",
          "Bloomsbury",
          "Bloomsbury",
          "Bloomsbury",
          "Bloomsbury",
          "Bloomsbury",
          "Bloomsbury",
          "Bloomsbury",
          "Bloomsbury",
          "Bloomsbury",
          "Bloomsbury",
          "Bloomsbury",
          "Bloomsbury",
          "Bloomsbury",
          "Bloomsbury",
          "Bloomsbury",
          "Bloomsbury",
          "Bloomsbury",
          "Bloomsbury",
          "Bloomsbury",
          "Bloomsbury",
          "Bloomsbury",
          "Bloomsbury",
          "Bloomsbury",
          "Bloomsbury",
          "Bloomsbury",
          "Bloomsbury",
          "Bloomsbury",
          "Bloomsbury",
          "Bloomsbury",
          "Bloomsbury",
          "Bloomsbury",
          "Bloomsbury",
          "Bloomsbury",
          "Bloomsbury",
          "Bloomsbury",
          "Bloomsbury",
          "Bloomsbury",
          "Bloomsbury",
          "Bloomsbury",
          "Bloomsbury",
          "Bloomsbury",
          "Bloomsbury",
          "Bloomsbury",
          "Bloomsbury",
          "Bloomsbury",
          "Bloomsbury",
          "Bloomsbury",
          "Bloomsbury",
          "Bloomsbury",
          "Bloomsbury",
          "Bloomsbury",
          "Bloomsbury",
          "Bloomsbury",
          "Bloomsbury",
          "Bloomsbury",
          "Bloomsbury",
          "Bloomsbury"
         ],
         "lat": [
          51.52968,
          51.59896,
          51.45848,
          51.5244,
          51.52426,
          51.52855,
          51.52248,
          51.5328,
          51.52152,
          51.5195,
          51.520590000000006,
          51.528659999999995,
          51.52852,
          51.5263,
          51.51847,
          51.52539,
          51.52239,
          51.52708,
          51.52261,
          51.52713,
          51.5283,
          51.526759999999996,
          51.52126,
          51.52691,
          51.5199,
          51.52267,
          51.526270000000004,
          51.519659999999995,
          51.51831,
          51.52225,
          51.52745,
          51.52193,
          51.52621,
          51.527879999999996,
          51.52689,
          51.52404,
          51.52378,
          51.52009,
          51.5223,
          51.51935,
          51.52688,
          51.53922,
          51.52582,
          51.52217,
          51.52367,
          51.522420000000004,
          51.5212,
          51.52463,
          51.522059999999996,
          51.51784,
          51.526270000000004,
          51.526740000000004,
          51.5198,
          51.547709999999995,
          51.53,
          51.52834,
          51.51967,
          51.519090000000006,
          51.52097,
          51.51771,
          51.526,
          51.52588
         ],
         "legendgroup": "Bloomsbury",
         "lon": [
          -0.11265,
          -0.10744000000000001,
          -0.08822999999999999,
          -0.11499000000000001,
          -0.11441,
          -0.11624000000000001,
          -0.13218,
          -0.12911,
          -0.13746,
          -0.11145999999999999,
          -0.1231,
          -0.11639000000000001,
          -0.11699999999999999,
          -0.12395,
          -0.12455,
          -0.12922,
          -0.12305,
          -0.13651,
          -0.11945,
          -0.12087,
          -0.12003,
          -0.13915,
          -0.13369,
          -0.12045,
          -0.11080999999999999,
          -0.13297,
          -0.13895,
          -0.13285999999999998,
          -0.1325,
          -0.14096,
          -0.12289000000000001,
          -0.13973,
          -0.11606,
          -0.12529,
          -0.11788,
          -0.11463,
          -0.11757000000000001,
          -0.12941,
          -0.11342,
          -0.12462000000000001,
          -0.12459,
          -0.12412000000000001,
          -0.12297000000000001,
          -0.11749000000000001,
          -0.11572,
          -0.13377999999999998,
          -0.12317,
          -0.14135999999999999,
          -0.11769,
          -0.12645,
          -0.12535,
          -0.12602,
          -0.13374,
          -0.12414000000000001,
          -0.11001,
          -0.09516000000000001,
          -0.16151,
          -0.14014000000000001,
          -0.16025999999999999,
          -0.11016,
          -0.11673,
          -0.1182
         ],
         "marker": {
          "color": "#B6E880"
         },
         "mode": "markers",
         "name": "Bloomsbury",
         "showlegend": true,
         "subplot": "mapbox",
         "type": "scattermapbox"
        },
        {
         "customdata": [
          [
           "52.00 %"
          ],
          [
           "27.24 %"
          ],
          [
           "92.67 %"
          ],
          [
           "27.24 %"
          ],
          [
           "11.93 %"
          ],
          [
           "106.65 %"
          ],
          [
           "-13.90 %"
          ],
          [
           "-39.05 %"
          ],
          [
           "3.14 %"
          ],
          [
           "31.27 %"
          ],
          [
           "-20.30 %"
          ],
          [
           "4.08 %"
          ],
          [
           "12.52 %"
          ],
          [
           "-3.42 %"
          ]
         ],
         "hovertemplate": "<b>%{hovertext}</b><br><br>Place=Redchurch<br>latitude=%{lat}<br>longitude=%{lon}<br>Price difference=%{customdata[0]}<extra></extra>",
         "hovertext": [
          "Redchurch",
          "Redchurch",
          "Redchurch",
          "Redchurch",
          "Redchurch",
          "Redchurch",
          "Redchurch",
          "Redchurch",
          "Redchurch",
          "Redchurch",
          "Redchurch",
          "Redchurch",
          "Redchurch",
          "Redchurch"
         ],
         "lat": [
          51.52655,
          51.53675,
          51.52514,
          51.52505,
          51.519,
          51.52771,
          51.5259,
          51.52349,
          51.53025,
          51.525859999999994,
          51.52493,
          51.52675,
          51.525909999999996,
          51.524190000000004
         ],
         "legendgroup": "Redchurch",
         "lon": [
          -0.08027000000000001,
          -0.07495,
          -0.0802,
          -0.07687999999999999,
          -0.06416000000000001,
          -0.06948,
          -0.07332000000000001,
          -0.07442,
          -0.07297999999999999,
          -0.071,
          -0.07188,
          -0.07082999999999999,
          -0.07335,
          -0.0743
         ],
         "marker": {
          "color": "#FF97FF"
         },
         "mode": "markers",
         "name": "Redchurch",
         "showlegend": true,
         "subplot": "mapbox",
         "type": "scattermapbox"
        },
        {
         "customdata": [
          [
           "7.99 %"
          ],
          [
           "10.42 %"
          ],
          [
           "21.34 %"
          ],
          [
           "15.27 %"
          ],
          [
           "39.54 %"
          ],
          [
           "39.54 %"
          ],
          [
           "-9.00 %"
          ],
          [
           "70.07 %"
          ],
          [
           "8.76 %"
          ],
          [
           "-11.01 %"
          ],
          [
           "34.47 %"
          ],
          [
           "38.43 %"
          ],
          [
           "29.91 %"
          ]
         ],
         "hovertemplate": "<b>%{hovertext}</b><br><br>Place=Turnham<br>latitude=%{lat}<br>longitude=%{lon}<br>Price difference=%{customdata[0]}<extra></extra>",
         "hovertext": [
          "Turnham",
          "Turnham",
          "Turnham",
          "Turnham",
          "Turnham",
          "Turnham",
          "Turnham",
          "Turnham",
          "Turnham",
          "Turnham",
          "Turnham",
          "Turnham",
          "Turnham"
         ],
         "lat": [
          51.49366,
          51.49776,
          51.49214,
          51.48255,
          51.49221,
          51.49276,
          51.48832,
          51.49565,
          51.497679999999995,
          51.50437,
          51.50558,
          51.51093,
          51.5067
         ],
         "legendgroup": "Turnham",
         "lon": [
          -0.24955,
          -0.24618,
          -0.25927,
          -0.25242,
          -0.25899,
          -0.26024,
          -0.25435,
          -0.2569,
          -0.26883,
          -0.25847,
          -0.25415,
          -0.25788,
          -0.24959
         ],
         "marker": {
          "color": "#FECB52"
         },
         "mode": "markers",
         "name": "Turnham",
         "showlegend": true,
         "subplot": "mapbox",
         "type": "scattermapbox"
        },
        {
         "customdata": [
          [
           "52.32 %"
          ],
          [
           "-20.67 %"
          ],
          [
           "11.07 %"
          ],
          [
           "98.34 %"
          ],
          [
           "217.34 %"
          ],
          [
           "33.28 %"
          ],
          [
           "14.24 %"
          ],
          [
           "42.80 %"
          ],
          [
           "-36.53 %"
          ],
          [
           "30.13 %"
          ],
          [
           "-40.39 %"
          ],
          [
           "22.28 %"
          ],
          [
           "113.97 %"
          ],
          [
           "-32.38 %"
          ],
          [
           "6.99 %"
          ],
          [
           "-14.41 %"
          ],
          [
           "-13.90 %"
          ],
          [
           "-21.77 %"
          ],
          [
           "133.64 %"
          ],
          [
           "14.73 %"
          ],
          [
           "-21.77 %"
          ],
          [
           "41.85 %"
          ],
          [
           "2.22 %"
          ],
          [
           "11.60 %"
          ],
          [
           "-19.69 %"
          ],
          [
           "-17.60 %"
          ],
          [
           "20.29 %"
          ],
          [
           "8.57 %"
          ],
          [
           "-33.05 %"
          ],
          [
           "-12.54 %"
          ]
         ],
         "hovertemplate": "<b>%{hovertext}</b><br><br>Place=Farringdon<br>latitude=%{lat}<br>longitude=%{lon}<br>Price difference=%{customdata[0]}<extra></extra>",
         "hovertext": [
          "Farringdon",
          "Farringdon",
          "Farringdon",
          "Farringdon",
          "Farringdon",
          "Farringdon",
          "Farringdon",
          "Farringdon",
          "Farringdon",
          "Farringdon",
          "Farringdon",
          "Farringdon",
          "Farringdon",
          "Farringdon",
          "Farringdon",
          "Farringdon",
          "Farringdon",
          "Farringdon",
          "Farringdon",
          "Farringdon",
          "Farringdon",
          "Farringdon",
          "Farringdon",
          "Farringdon",
          "Farringdon",
          "Farringdon",
          "Farringdon",
          "Farringdon",
          "Farringdon",
          "Farringdon"
         ],
         "lat": [
          51.5292,
          51.52316,
          51.52448,
          51.520959999999995,
          51.53675,
          51.526990000000005,
          51.52832,
          51.5233,
          51.526990000000005,
          51.53588,
          51.52169,
          51.5199,
          51.52019,
          51.5206,
          51.519090000000006,
          51.51943,
          51.511109999999995,
          51.53,
          51.52004,
          51.52095,
          51.56215,
          51.525220000000004,
          51.5275,
          51.527429999999995,
          51.5218,
          51.522079999999995,
          51.57134,
          51.52299,
          51.51788,
          51.52189
         ],
         "legendgroup": "Farringdon",
         "lon": [
          -0.11016,
          -0.09933,
          -0.08769,
          -0.10572000000000001,
          -0.11304000000000002,
          -0.10800000000000001,
          -0.11538,
          -0.10845999999999999,
          -0.11079000000000001,
          -0.08938,
          -0.11126,
          -0.11080999999999999,
          -0.10603,
          -0.10624000000000001,
          -0.11137000000000001,
          -0.1092,
          -0.06773,
          -0.11001,
          -0.10164,
          -0.10583,
          -0.10647999999999999,
          -0.09562999999999999,
          -0.11085999999999999,
          -0.11232,
          -0.10587,
          -0.10602,
          -0.10980999999999999,
          -0.09764,
          -0.10185,
          -0.09611
         ],
         "marker": {
          "color": "#636efa"
         },
         "mode": "markers",
         "name": "Farringdon",
         "showlegend": true,
         "subplot": "mapbox",
         "type": "scattermapbox"
        },
        {
         "customdata": [
          [
           "-14.46 %"
          ],
          [
           "-21.83 %"
          ],
          [
           "17.25 %"
          ],
          [
           "-36.16 %"
          ],
          [
           "-12.71 %"
          ],
          [
           "56.34 %"
          ],
          [
           "71.97 %"
          ],
          [
           "-21.83 %"
          ],
          [
           "25.07 %"
          ],
          [
           "-10.11 %"
          ],
          [
           "17.25 %"
          ],
          [
           "23.77 %"
          ],
          [
           "17.25 %"
          ],
          [
           "-2.29 %"
          ],
          [
           "4.22 %"
          ],
          [
           "28.98 %"
          ],
          [
           "23.77 %"
          ],
          [
           "-28.35 %"
          ],
          [
           "1.62 %"
          ],
          [
           "-60.92 %"
          ],
          [
           "-34.86 %"
          ],
          [
           "95.42 %"
          ],
          [
           "21.16 %"
          ],
          [
           "69.36 %"
          ],
          [
           "-34.86 %"
          ],
          [
           "-31.12 %"
          ],
          [
           "-15.22 %"
          ],
          [
           "-15.22 %"
          ],
          [
           "-4.63 %"
          ],
          [
           "-25.82 %"
          ],
          [
           "-4.63 %"
          ],
          [
           "18.69 %"
          ],
          [
           "69.55 %"
          ],
          [
           "31.40 %"
          ],
          [
           "-15.22 %"
          ],
          [
           "3.85 %"
          ],
          [
           "-42.78 %"
          ],
          [
           "-35.36 %"
          ],
          [
           "-4.63 %"
          ],
          [
           "-35.36 %"
          ],
          [
           "5.97 %"
          ],
          [
           "36.70 %"
          ],
          [
           "64.25 %"
          ],
          [
           "-57.61 %"
          ],
          [
           "12.33 %"
          ],
          [
           "34.58 %"
          ],
          [
           "-9.93 %"
          ],
          [
           "7.32 %"
          ],
          [
           "17.07 %"
          ],
          [
           "-10.24 %"
          ]
         ],
         "hovertemplate": "<b>%{hovertext}</b><br><br>Place=Parsons<br>latitude=%{lat}<br>longitude=%{lon}<br>Price difference=%{customdata[0]}<extra></extra>",
         "hovertext": [
          "Parsons",
          "Parsons",
          "Parsons",
          "Parsons",
          "Parsons",
          "Parsons",
          "Parsons",
          "Parsons",
          "Parsons",
          "Parsons",
          "Parsons",
          "Parsons",
          "Parsons",
          "Parsons",
          "Parsons",
          "Parsons",
          "Parsons",
          "Parsons",
          "Parsons",
          "Parsons",
          "Parsons",
          "Parsons",
          "Parsons",
          "Parsons",
          "Parsons",
          "Parsons",
          "Parsons",
          "Parsons",
          "Parsons",
          "Parsons",
          "Parsons",
          "Parsons",
          "Parsons",
          "Parsons",
          "Parsons",
          "Parsons",
          "Parsons",
          "Parsons",
          "Parsons",
          "Parsons",
          "Parsons",
          "Parsons",
          "Parsons",
          "Parsons",
          "Parsons",
          "Parsons",
          "Parsons",
          "Parsons",
          "Parsons",
          "Parsons"
         ],
         "lat": [
          51.60255,
          51.47573,
          51.479279999999996,
          51.4787,
          51.471940000000004,
          51.47132,
          51.4729,
          51.48033,
          51.47226,
          51.471959999999996,
          51.474709999999995,
          51.47598,
          51.47263,
          51.4735,
          51.47952,
          51.472970000000004,
          51.47113,
          51.475770000000004,
          51.47063,
          51.46843,
          51.4763,
          51.47044,
          51.47534,
          51.47041,
          51.46826,
          51.47404,
          51.4732,
          51.4748,
          51.47902,
          51.47807,
          51.4722,
          51.48253,
          51.47798,
          51.47382,
          51.478190000000005,
          51.47104,
          51.47463,
          51.46617,
          51.47535,
          51.48008,
          51.473290000000006,
          51.477909999999994,
          51.491009999999996,
          51.48337,
          51.48012,
          51.47019,
          51.473009999999995,
          51.47205,
          51.47387,
          51.48021
         ],
         "legendgroup": "Parsons",
         "lon": [
          -0.19573,
          -0.20683,
          -0.20445,
          -0.19821,
          -0.20317000000000002,
          -0.18652,
          -0.20883000000000002,
          -0.20853000000000002,
          -0.20546999999999999,
          -0.20335,
          -0.19584000000000001,
          -0.191,
          -0.20811999999999997,
          -0.20901999999999998,
          -0.2056,
          -0.21355,
          -0.19566,
          -0.19560999999999998,
          -0.20052999999999999,
          -0.19789,
          -0.21241999999999997,
          -0.2051,
          -0.20210999999999998,
          -0.20483,
          -0.19602,
          -0.20284000000000002,
          -0.19468,
          -0.20521999999999999,
          -0.20303,
          -0.2064,
          -0.19644,
          -0.19984000000000002,
          -0.20753000000000002,
          -0.19664,
          -0.20855,
          -0.20504,
          -0.18675,
          -0.19197999999999998,
          -0.20075,
          -0.20664000000000002,
          -0.20478,
          -0.20279,
          -0.20799,
          -0.20734,
          -0.20455,
          -0.20911999999999997,
          -0.20955,
          -0.20479,
          -0.2044,
          -0.20272
         ],
         "marker": {
          "color": "#EF553B"
         },
         "mode": "markers",
         "name": "Parsons",
         "showlegend": true,
         "subplot": "mapbox",
         "type": "scattermapbox"
        },
        {
         "customdata": [
          [
           "-12.52 %"
          ],
          [
           "-12.52 %"
          ],
          [
           "-28.92 %"
          ],
          [
           "3.88 %"
          ],
          [
           "-17.99 %"
          ],
          [
           "41.06 %"
          ],
          [
           "84.80 %"
          ],
          [
           "-19.08 %"
          ],
          [
           "-28.92 %"
          ],
          [
           "31.22 %"
          ],
          [
           "-23.45 %"
          ],
          [
           "16.33 %"
          ],
          [
           "-5.48 %"
          ],
          [
           "-27.29 %"
          ],
          [
           "-9.12 %"
          ],
          [
           "-0.03 %"
          ],
          [
           "7.24 %"
          ],
          [
           "-27.29 %"
          ],
          [
           "-30.93 %"
          ],
          [
           "54.50 %"
          ],
          [
           "9.06 %"
          ],
          [
           "34.51 %"
          ],
          [
           "68.76 %"
          ],
          [
           "40.64 %"
          ],
          [
           "-15.61 %"
          ]
         ],
         "hovertemplate": "<b>%{hovertext}</b><br><br>Place=Mare<br>latitude=%{lat}<br>longitude=%{lon}<br>Price difference=%{customdata[0]}<extra></extra>",
         "hovertext": [
          "Mare",
          "Mare",
          "Mare",
          "Mare",
          "Mare",
          "Mare",
          "Mare",
          "Mare",
          "Mare",
          "Mare",
          "Mare",
          "Mare",
          "Mare",
          "Mare",
          "Mare",
          "Mare",
          "Mare",
          "Mare",
          "Mare",
          "Mare",
          "Mare",
          "Mare",
          "Mare",
          "Mare",
          "Mare"
         ],
         "lat": [
          51.5491,
          51.550309999999996,
          51.54255,
          51.542629999999996,
          51.54908,
          51.549409999999995,
          51.5552,
          51.53882,
          51.55919,
          51.54438,
          51.53801,
          51.54678,
          51.5541,
          51.54552,
          51.55375,
          51.54642,
          51.552690000000005,
          51.541059999999995,
          51.54695,
          51.53764,
          51.54077,
          51.54927,
          51.530609999999996,
          51.53348,
          51.53139
         ],
         "legendgroup": "Mare",
         "lon": [
          -0.04918,
          -0.065,
          -0.04857,
          -0.0535,
          -0.057879999999999994,
          -0.0598,
          -0.05492999999999999,
          -0.055020000000000006,
          -0.05561,
          -0.05607,
          -0.05275,
          -0.057370000000000004,
          -0.055999999999999994,
          -0.055720000000000006,
          -0.05609,
          -0.0555,
          -0.04945,
          -0.04906,
          -0.05687999999999999,
          -0.0588,
          -0.05605,
          -0.04746,
          -0.061829999999999996,
          -0.05458,
          -0.045
         ],
         "marker": {
          "color": "#00cc96"
         },
         "mode": "markers",
         "name": "Mare",
         "showlegend": true,
         "subplot": "mapbox",
         "type": "scattermapbox"
        },
        {
         "customdata": [
          [
           "-22.36 %"
          ],
          [
           "3.88 %"
          ],
          [
           "25.75 %"
          ],
          [
           "18.10 %"
          ],
          [
           "44.34 %"
          ],
          [
           "-12.75 %"
          ],
          [
           "-9.12 %"
          ],
          [
           "-27.29 %"
          ],
          [
           "-18.20 %"
          ],
          [
           "12.70 %"
          ],
          [
           "-18.20 %"
          ],
          [
           "63.59 %"
          ],
          [
           "27.24 %"
          ],
          [
           "63.59 %"
          ],
          [
           "-13.90 %"
          ]
         ],
         "hovertemplate": "<b>%{hovertext}</b><br><br>Place=Geffrye<br>latitude=%{lat}<br>longitude=%{lon}<br>Price difference=%{customdata[0]}<extra></extra>",
         "hovertext": [
          "Geffrye",
          "Geffrye",
          "Geffrye",
          "Geffrye",
          "Geffrye",
          "Geffrye",
          "Geffrye",
          "Geffrye",
          "Geffrye",
          "Geffrye",
          "Geffrye",
          "Geffrye",
          "Geffrye",
          "Geffrye",
          "Geffrye"
         ],
         "lat": [
          51.53163,
          51.52655,
          51.53573,
          51.55122,
          51.53133,
          51.55149,
          51.53569,
          51.53301,
          51.53499,
          51.53941,
          51.53519,
          51.54157,
          51.54122,
          51.531209999999994,
          51.52876
         ],
         "legendgroup": "Geffrye",
         "lon": [
          -0.0779,
          -0.07746,
          -0.07697000000000001,
          -0.07432000000000001,
          -0.07286000000000001,
          -0.0787,
          -0.0775,
          -0.08788,
          -0.07572000000000001,
          -0.06802000000000001,
          -0.07574,
          -0.06692999999999999,
          -0.0676,
          -0.07877,
          -0.07291
         ],
         "marker": {
          "color": "#ab63fa"
         },
         "mode": "markers",
         "name": "Geffrye",
         "showlegend": true,
         "subplot": "mapbox",
         "type": "scattermapbox"
        },
        {
         "customdata": [
          [
           "-7.05 %"
          ],
          [
           "562.67 %"
          ],
          [
           "-28.92 %"
          ],
          [
           "64.03 %"
          ],
          [
           "31.22 %"
          ],
          [
           "-1.58 %"
          ],
          [
           "-24.55 %"
          ],
          [
           "-12.52 %"
          ],
          [
           "-26.74 %"
          ],
          [
           "137.29 %"
          ],
          [
           "-33.30 %"
          ],
          [
           "-7.05 %"
          ],
          [
           "9.35 %"
          ],
          [
           "-27.83 %"
          ],
          [
           "47.62 %"
          ],
          [
           "64.03 %"
          ],
          [
           "-11.43 %"
          ],
          [
           "-33.30 %"
          ],
          [
           "102.30 %"
          ],
          [
           "-22.36 %"
          ],
          [
           "55.28 %"
          ],
          [
           "-1.58 %"
          ],
          [
           "-9.12 %"
          ],
          [
           "19.97 %"
          ],
          [
           "-38.20 %"
          ],
          [
           "-45.47 %"
          ],
          [
           "81.77 %"
          ],
          [
           "27.24 %"
          ],
          [
           "-0.03 %"
          ],
          [
           "-36.38 %"
          ],
          [
           "45.42 %"
          ],
          [
           "36.33 %"
          ],
          [
           "-45.47 %"
          ],
          [
           "-9.12 %"
          ],
          [
           "-47.29 %"
          ],
          [
           "54.50 %"
          ],
          [
           "99.95 %"
          ],
          [
           "-32.75 %"
          ],
          [
           "-0.03 %"
          ],
          [
           "-5.48 %"
          ],
          [
           "-18.20 %"
          ],
          [
           "-21.84 %"
          ],
          [
           "49.05 %"
          ],
          [
           "9.06 %"
          ],
          [
           "-36.38 %"
          ],
          [
           "-0.03 %"
          ],
          [
           "-36.38 %"
          ],
          [
           "-27.29 %"
          ],
          [
           "9.06 %"
          ],
          [
           "-0.03 %"
          ],
          [
           "-10.93 %"
          ],
          [
           "-0.03 %"
          ],
          [
           "-25.47 %"
          ],
          [
           "-21.84 %"
          ],
          [
           "-29.11 %"
          ],
          [
           "63.59 %"
          ],
          [
           "74.50 %"
          ],
          [
           "-45.47 %"
          ],
          [
           "-12.75 %"
          ],
          [
           "-54.56 %"
          ],
          [
           "172.65 %"
          ],
          [
           "-17.34 %"
          ],
          [
           "65.32 %"
          ],
          [
           "-38.01 %"
          ],
          [
           "37.76 %"
          ],
          [
           "29.15 %"
          ],
          [
           "3.32 %"
          ],
          [
           "40.81 %"
          ],
          [
           "-28.03 %"
          ],
          [
           "-23.11 %"
          ],
          [
           "21.89 %"
          ],
          [
           "-39.05 %"
          ],
          [
           "-18.43 %"
          ]
         ],
         "hovertemplate": "<b>%{hovertext}</b><br><br>Place=Haggerston<br>latitude=%{lat}<br>longitude=%{lon}<br>Price difference=%{customdata[0]}<extra></extra>",
         "hovertext": [
          "Haggerston",
          "Haggerston",
          "Haggerston",
          "Haggerston",
          "Haggerston",
          "Haggerston",
          "Haggerston",
          "Haggerston",
          "Haggerston",
          "Haggerston",
          "Haggerston",
          "Haggerston",
          "Haggerston",
          "Haggerston",
          "Haggerston",
          "Haggerston",
          "Haggerston",
          "Haggerston",
          "Haggerston",
          "Haggerston",
          "Haggerston",
          "Haggerston",
          "Haggerston",
          "Haggerston",
          "Haggerston",
          "Haggerston",
          "Haggerston",
          "Haggerston",
          "Haggerston",
          "Haggerston",
          "Haggerston",
          "Haggerston",
          "Haggerston",
          "Haggerston",
          "Haggerston",
          "Haggerston",
          "Haggerston",
          "Haggerston",
          "Haggerston",
          "Haggerston",
          "Haggerston",
          "Haggerston",
          "Haggerston",
          "Haggerston",
          "Haggerston",
          "Haggerston",
          "Haggerston",
          "Haggerston",
          "Haggerston",
          "Haggerston",
          "Haggerston",
          "Haggerston",
          "Haggerston",
          "Haggerston",
          "Haggerston",
          "Haggerston",
          "Haggerston",
          "Haggerston",
          "Haggerston",
          "Haggerston",
          "Haggerston",
          "Haggerston",
          "Haggerston",
          "Haggerston",
          "Haggerston",
          "Haggerston",
          "Haggerston",
          "Haggerston",
          "Haggerston",
          "Haggerston",
          "Haggerston",
          "Haggerston",
          "Haggerston"
         ],
         "lat": [
          51.54195,
          51.53085,
          51.544940000000004,
          51.533559999999994,
          51.53255,
          51.53821,
          51.538909999999994,
          51.53747,
          51.5375,
          51.53852,
          51.53881,
          51.54437,
          51.53433,
          51.53365,
          51.53734,
          51.53747,
          51.55153,
          51.53629,
          51.53748,
          51.53967,
          51.537859999999995,
          51.539840000000005,
          51.53569,
          51.53567,
          51.56147,
          51.56105,
          51.53665,
          51.53712,
          51.543409999999994,
          51.543,
          51.53247,
          51.536159999999995,
          51.53601,
          51.5383,
          51.53581,
          51.53079,
          51.54562,
          51.53864,
          51.53795,
          51.53717,
          51.53477,
          51.53727,
          51.54148,
          51.53481,
          51.53937,
          51.539429999999996,
          51.540079999999996,
          51.536190000000005,
          51.53845,
          51.53869,
          51.534929999999996,
          51.53714,
          51.531859999999995,
          51.53654,
          51.52639,
          51.53765,
          51.535920000000004,
          51.5357,
          51.53332,
          51.54098,
          51.53111,
          51.530190000000005,
          51.530590000000004,
          51.53412,
          51.531940000000006,
          51.530640000000005,
          51.52574,
          51.53588,
          51.54061,
          51.52778,
          51.53106,
          51.528240000000004,
          51.5306
         ],
         "legendgroup": "Haggerston",
         "lon": [
          -0.06937,
          -0.07332000000000001,
          -0.08234,
          -0.06495,
          -0.07107000000000001,
          -0.07662000000000001,
          -0.07325,
          -0.07771,
          -0.07463,
          -0.08347,
          -0.0767,
          -0.07372000000000001,
          -0.06941,
          -0.07537,
          -0.07109,
          -0.07217,
          -0.06788,
          -0.07983,
          -0.08073,
          -0.08431,
          -0.07771,
          -0.07751,
          -0.0775,
          -0.0726,
          -0.045860000000000005,
          -0.046239999999999996,
          -0.06573999999999999,
          -0.07922,
          -0.05636,
          -0.07886,
          -0.07003,
          -0.07546,
          -0.07322999999999999,
          -0.08194,
          -0.07582,
          -0.07432000000000001,
          -0.07282999999999999,
          -0.0527,
          -0.07217,
          -0.067,
          -0.07596,
          -0.07443,
          -0.07725,
          -0.06971000000000001,
          -0.056260000000000004,
          -0.0743,
          -0.07306,
          -0.07642,
          -0.07866000000000001,
          -0.07427,
          -0.07153,
          -0.07409,
          -0.06917999999999999,
          -0.0662,
          -0.07666,
          -0.07361000000000001,
          -0.07401,
          -0.0759,
          -0.07200000000000001,
          -0.07656,
          -0.07063,
          -0.07307999999999999,
          -0.07188,
          -0.06044,
          -0.06477999999999999,
          -0.06975,
          -0.07508,
          -0.11839000000000001,
          -0.08585,
          -0.0503,
          -0.06121,
          -0.049339999999999995,
          -0.041460000000000004
         ],
         "marker": {
          "color": "#FFA15A"
         },
         "mode": "markers",
         "name": "Haggerston",
         "showlegend": true,
         "subplot": "mapbox",
         "type": "scattermapbox"
        }
       ],
       "layout": {
        "height": 700,
        "legend": {
         "title": {
          "text": "Place"
         },
         "tracegroupgap": 0
        },
        "mapbox": {
         "center": {
          "lat": 51.51717108626197,
          "lon": -0.10645503993610213
         },
         "domain": {
          "x": [
           0,
           1
          ],
          "y": [
           0,
           1
          ]
         },
         "style": "carto-positron",
         "zoom": 11
        },
        "margin": {
         "t": 60
        },
        "template": {
         "data": {
          "bar": [
           {
            "error_x": {
             "color": "#2a3f5f"
            },
            "error_y": {
             "color": "#2a3f5f"
            },
            "marker": {
             "line": {
              "color": "#E5ECF6",
              "width": 0.5
             }
            },
            "type": "bar"
           }
          ],
          "barpolar": [
           {
            "marker": {
             "line": {
              "color": "#E5ECF6",
              "width": 0.5
             }
            },
            "type": "barpolar"
           }
          ],
          "carpet": [
           {
            "aaxis": {
             "endlinecolor": "#2a3f5f",
             "gridcolor": "white",
             "linecolor": "white",
             "minorgridcolor": "white",
             "startlinecolor": "#2a3f5f"
            },
            "baxis": {
             "endlinecolor": "#2a3f5f",
             "gridcolor": "white",
             "linecolor": "white",
             "minorgridcolor": "white",
             "startlinecolor": "#2a3f5f"
            },
            "type": "carpet"
           }
          ],
          "choropleth": [
           {
            "colorbar": {
             "outlinewidth": 0,
             "ticks": ""
            },
            "type": "choropleth"
           }
          ],
          "contour": [
           {
            "colorbar": {
             "outlinewidth": 0,
             "ticks": ""
            },
            "colorscale": [
             [
              0,
              "#0d0887"
             ],
             [
              0.1111111111111111,
              "#46039f"
             ],
             [
              0.2222222222222222,
              "#7201a8"
             ],
             [
              0.3333333333333333,
              "#9c179e"
             ],
             [
              0.4444444444444444,
              "#bd3786"
             ],
             [
              0.5555555555555556,
              "#d8576b"
             ],
             [
              0.6666666666666666,
              "#ed7953"
             ],
             [
              0.7777777777777778,
              "#fb9f3a"
             ],
             [
              0.8888888888888888,
              "#fdca26"
             ],
             [
              1,
              "#f0f921"
             ]
            ],
            "type": "contour"
           }
          ],
          "contourcarpet": [
           {
            "colorbar": {
             "outlinewidth": 0,
             "ticks": ""
            },
            "type": "contourcarpet"
           }
          ],
          "heatmap": [
           {
            "colorbar": {
             "outlinewidth": 0,
             "ticks": ""
            },
            "colorscale": [
             [
              0,
              "#0d0887"
             ],
             [
              0.1111111111111111,
              "#46039f"
             ],
             [
              0.2222222222222222,
              "#7201a8"
             ],
             [
              0.3333333333333333,
              "#9c179e"
             ],
             [
              0.4444444444444444,
              "#bd3786"
             ],
             [
              0.5555555555555556,
              "#d8576b"
             ],
             [
              0.6666666666666666,
              "#ed7953"
             ],
             [
              0.7777777777777778,
              "#fb9f3a"
             ],
             [
              0.8888888888888888,
              "#fdca26"
             ],
             [
              1,
              "#f0f921"
             ]
            ],
            "type": "heatmap"
           }
          ],
          "heatmapgl": [
           {
            "colorbar": {
             "outlinewidth": 0,
             "ticks": ""
            },
            "colorscale": [
             [
              0,
              "#0d0887"
             ],
             [
              0.1111111111111111,
              "#46039f"
             ],
             [
              0.2222222222222222,
              "#7201a8"
             ],
             [
              0.3333333333333333,
              "#9c179e"
             ],
             [
              0.4444444444444444,
              "#bd3786"
             ],
             [
              0.5555555555555556,
              "#d8576b"
             ],
             [
              0.6666666666666666,
              "#ed7953"
             ],
             [
              0.7777777777777778,
              "#fb9f3a"
             ],
             [
              0.8888888888888888,
              "#fdca26"
             ],
             [
              1,
              "#f0f921"
             ]
            ],
            "type": "heatmapgl"
           }
          ],
          "histogram": [
           {
            "marker": {
             "colorbar": {
              "outlinewidth": 0,
              "ticks": ""
             }
            },
            "type": "histogram"
           }
          ],
          "histogram2d": [
           {
            "colorbar": {
             "outlinewidth": 0,
             "ticks": ""
            },
            "colorscale": [
             [
              0,
              "#0d0887"
             ],
             [
              0.1111111111111111,
              "#46039f"
             ],
             [
              0.2222222222222222,
              "#7201a8"
             ],
             [
              0.3333333333333333,
              "#9c179e"
             ],
             [
              0.4444444444444444,
              "#bd3786"
             ],
             [
              0.5555555555555556,
              "#d8576b"
             ],
             [
              0.6666666666666666,
              "#ed7953"
             ],
             [
              0.7777777777777778,
              "#fb9f3a"
             ],
             [
              0.8888888888888888,
              "#fdca26"
             ],
             [
              1,
              "#f0f921"
             ]
            ],
            "type": "histogram2d"
           }
          ],
          "histogram2dcontour": [
           {
            "colorbar": {
             "outlinewidth": 0,
             "ticks": ""
            },
            "colorscale": [
             [
              0,
              "#0d0887"
             ],
             [
              0.1111111111111111,
              "#46039f"
             ],
             [
              0.2222222222222222,
              "#7201a8"
             ],
             [
              0.3333333333333333,
              "#9c179e"
             ],
             [
              0.4444444444444444,
              "#bd3786"
             ],
             [
              0.5555555555555556,
              "#d8576b"
             ],
             [
              0.6666666666666666,
              "#ed7953"
             ],
             [
              0.7777777777777778,
              "#fb9f3a"
             ],
             [
              0.8888888888888888,
              "#fdca26"
             ],
             [
              1,
              "#f0f921"
             ]
            ],
            "type": "histogram2dcontour"
           }
          ],
          "mesh3d": [
           {
            "colorbar": {
             "outlinewidth": 0,
             "ticks": ""
            },
            "type": "mesh3d"
           }
          ],
          "parcoords": [
           {
            "line": {
             "colorbar": {
              "outlinewidth": 0,
              "ticks": ""
             }
            },
            "type": "parcoords"
           }
          ],
          "pie": [
           {
            "automargin": true,
            "type": "pie"
           }
          ],
          "scatter": [
           {
            "marker": {
             "colorbar": {
              "outlinewidth": 0,
              "ticks": ""
             }
            },
            "type": "scatter"
           }
          ],
          "scatter3d": [
           {
            "line": {
             "colorbar": {
              "outlinewidth": 0,
              "ticks": ""
             }
            },
            "marker": {
             "colorbar": {
              "outlinewidth": 0,
              "ticks": ""
             }
            },
            "type": "scatter3d"
           }
          ],
          "scattercarpet": [
           {
            "marker": {
             "colorbar": {
              "outlinewidth": 0,
              "ticks": ""
             }
            },
            "type": "scattercarpet"
           }
          ],
          "scattergeo": [
           {
            "marker": {
             "colorbar": {
              "outlinewidth": 0,
              "ticks": ""
             }
            },
            "type": "scattergeo"
           }
          ],
          "scattergl": [
           {
            "marker": {
             "colorbar": {
              "outlinewidth": 0,
              "ticks": ""
             }
            },
            "type": "scattergl"
           }
          ],
          "scattermapbox": [
           {
            "marker": {
             "colorbar": {
              "outlinewidth": 0,
              "ticks": ""
             }
            },
            "type": "scattermapbox"
           }
          ],
          "scatterpolar": [
           {
            "marker": {
             "colorbar": {
              "outlinewidth": 0,
              "ticks": ""
             }
            },
            "type": "scatterpolar"
           }
          ],
          "scatterpolargl": [
           {
            "marker": {
             "colorbar": {
              "outlinewidth": 0,
              "ticks": ""
             }
            },
            "type": "scatterpolargl"
           }
          ],
          "scatterternary": [
           {
            "marker": {
             "colorbar": {
              "outlinewidth": 0,
              "ticks": ""
             }
            },
            "type": "scatterternary"
           }
          ],
          "surface": [
           {
            "colorbar": {
             "outlinewidth": 0,
             "ticks": ""
            },
            "colorscale": [
             [
              0,
              "#0d0887"
             ],
             [
              0.1111111111111111,
              "#46039f"
             ],
             [
              0.2222222222222222,
              "#7201a8"
             ],
             [
              0.3333333333333333,
              "#9c179e"
             ],
             [
              0.4444444444444444,
              "#bd3786"
             ],
             [
              0.5555555555555556,
              "#d8576b"
             ],
             [
              0.6666666666666666,
              "#ed7953"
             ],
             [
              0.7777777777777778,
              "#fb9f3a"
             ],
             [
              0.8888888888888888,
              "#fdca26"
             ],
             [
              1,
              "#f0f921"
             ]
            ],
            "type": "surface"
           }
          ],
          "table": [
           {
            "cells": {
             "fill": {
              "color": "#EBF0F8"
             },
             "line": {
              "color": "white"
             }
            },
            "header": {
             "fill": {
              "color": "#C8D4E3"
             },
             "line": {
              "color": "white"
             }
            },
            "type": "table"
           }
          ]
         },
         "layout": {
          "annotationdefaults": {
           "arrowcolor": "#2a3f5f",
           "arrowhead": 0,
           "arrowwidth": 1
          },
          "coloraxis": {
           "colorbar": {
            "outlinewidth": 0,
            "ticks": ""
           }
          },
          "colorscale": {
           "diverging": [
            [
             0,
             "#8e0152"
            ],
            [
             0.1,
             "#c51b7d"
            ],
            [
             0.2,
             "#de77ae"
            ],
            [
             0.3,
             "#f1b6da"
            ],
            [
             0.4,
             "#fde0ef"
            ],
            [
             0.5,
             "#f7f7f7"
            ],
            [
             0.6,
             "#e6f5d0"
            ],
            [
             0.7,
             "#b8e186"
            ],
            [
             0.8,
             "#7fbc41"
            ],
            [
             0.9,
             "#4d9221"
            ],
            [
             1,
             "#276419"
            ]
           ],
           "sequential": [
            [
             0,
             "#0d0887"
            ],
            [
             0.1111111111111111,
             "#46039f"
            ],
            [
             0.2222222222222222,
             "#7201a8"
            ],
            [
             0.3333333333333333,
             "#9c179e"
            ],
            [
             0.4444444444444444,
             "#bd3786"
            ],
            [
             0.5555555555555556,
             "#d8576b"
            ],
            [
             0.6666666666666666,
             "#ed7953"
            ],
            [
             0.7777777777777778,
             "#fb9f3a"
            ],
            [
             0.8888888888888888,
             "#fdca26"
            ],
            [
             1,
             "#f0f921"
            ]
           ],
           "sequentialminus": [
            [
             0,
             "#0d0887"
            ],
            [
             0.1111111111111111,
             "#46039f"
            ],
            [
             0.2222222222222222,
             "#7201a8"
            ],
            [
             0.3333333333333333,
             "#9c179e"
            ],
            [
             0.4444444444444444,
             "#bd3786"
            ],
            [
             0.5555555555555556,
             "#d8576b"
            ],
            [
             0.6666666666666666,
             "#ed7953"
            ],
            [
             0.7777777777777778,
             "#fb9f3a"
            ],
            [
             0.8888888888888888,
             "#fdca26"
            ],
            [
             1,
             "#f0f921"
            ]
           ]
          },
          "colorway": [
           "#636efa",
           "#EF553B",
           "#00cc96",
           "#ab63fa",
           "#FFA15A",
           "#19d3f3",
           "#FF6692",
           "#B6E880",
           "#FF97FF",
           "#FECB52"
          ],
          "font": {
           "color": "#2a3f5f"
          },
          "geo": {
           "bgcolor": "white",
           "lakecolor": "white",
           "landcolor": "#E5ECF6",
           "showlakes": true,
           "showland": true,
           "subunitcolor": "white"
          },
          "hoverlabel": {
           "align": "left"
          },
          "hovermode": "closest",
          "mapbox": {
           "style": "light"
          },
          "paper_bgcolor": "white",
          "plot_bgcolor": "#E5ECF6",
          "polar": {
           "angularaxis": {
            "gridcolor": "white",
            "linecolor": "white",
            "ticks": ""
           },
           "bgcolor": "#E5ECF6",
           "radialaxis": {
            "gridcolor": "white",
            "linecolor": "white",
            "ticks": ""
           }
          },
          "scene": {
           "xaxis": {
            "backgroundcolor": "#E5ECF6",
            "gridcolor": "white",
            "gridwidth": 2,
            "linecolor": "white",
            "showbackground": true,
            "ticks": "",
            "zerolinecolor": "white"
           },
           "yaxis": {
            "backgroundcolor": "#E5ECF6",
            "gridcolor": "white",
            "gridwidth": 2,
            "linecolor": "white",
            "showbackground": true,
            "ticks": "",
            "zerolinecolor": "white"
           },
           "zaxis": {
            "backgroundcolor": "#E5ECF6",
            "gridcolor": "white",
            "gridwidth": 2,
            "linecolor": "white",
            "showbackground": true,
            "ticks": "",
            "zerolinecolor": "white"
           }
          },
          "shapedefaults": {
           "line": {
            "color": "#2a3f5f"
           }
          },
          "ternary": {
           "aaxis": {
            "gridcolor": "white",
            "linecolor": "white",
            "ticks": ""
           },
           "baxis": {
            "gridcolor": "white",
            "linecolor": "white",
            "ticks": ""
           },
           "bgcolor": "#E5ECF6",
           "caxis": {
            "gridcolor": "white",
            "linecolor": "white",
            "ticks": ""
           }
          },
          "title": {
           "x": 0.05
          },
          "xaxis": {
           "automargin": true,
           "gridcolor": "white",
           "linecolor": "white",
           "ticks": "",
           "title": {
            "standoff": 15
           },
           "zerolinecolor": "white",
           "zerolinewidth": 2
          },
          "yaxis": {
           "automargin": true,
           "gridcolor": "white",
           "linecolor": "white",
           "ticks": "",
           "title": {
            "standoff": 15
           },
           "zerolinecolor": "white",
           "zerolinewidth": 2
          }
         }
        },
        "width": 900
       }
      },
      "text/html": [
       "<div>                            <div id=\"d5b223f2-1dbb-4a0d-a926-ca549a1d9b99\" class=\"plotly-graph-div\" style=\"height:700px; width:900px;\"></div>            <script type=\"text/javascript\">                require([\"plotly\"], function(Plotly) {                    window.PLOTLYENV=window.PLOTLYENV || {};                                    if (document.getElementById(\"d5b223f2-1dbb-4a0d-a926-ca549a1d9b99\")) {                    Plotly.newPlot(                        \"d5b223f2-1dbb-4a0d-a926-ca549a1d9b99\",                        [{\"customdata\": [[\"61.84 %\"], [\"39.63 %\"], [\"57.08 %\"], [\"-12.73 %\"], [\"-7.97 %\"], [\"150.70 %\"], [\"90.40 %\"], [\"3.14 %\"], [\"-12.73 %\"], [\"-12.73 %\"], [\"-30.19 %\"], [\"11.07 %\"], [\"-22.25 %\"], [\"42.80 %\"], [\"106.27 %\"], [\"11.07 %\"], [\"39.63 %\"], [\"3.14 %\"], [\"19.00 %\"], [\"17.42 %\"], [\"55.50 %\"], [\"58.67 %\"], [\"105.58 %\"], [\"20.29 %\"], [\"-34.39 %\"], [\"29.93 %\"], [\"153.74 %\"], [\"52.86 %\"], [\"-38.86 %\"], [\"-29.69 %\"], [\"-32.74 %\"], [\"31.46 %\"], [\"22.28 %\"], [\"-64.84 %\"], [\"-61.79 %\"], [\"-22.97 %\"], [\"-22.97 %\"], [\"113.97 %\"], [\"-14.41 %\"], [\"-15.27 %\"], [\"-18.69 %\"], [\"1.85 %\"], [\"-44.37 %\"], [\"-20.02 %\"], [\"41.78 %\"], [\"-12.75 %\"], [\"-3.00 %\"], [\"46.02 %\"], [\"-17.60 %\"], [\"-21.77 %\"], [\"30.38 %\"], [\"14.73 %\"], [\"-16.56 %\"], [\"26.21 %\"], [\"-6.13 %\"], [\"-8.21 %\"], [\"159.71 %\"], [\"71.06 %\"], [\"25.16 %\"], [\"42.89 %\"], [\"16.82 %\"], [\"58.54 %\"], [\"31.42 %\"], [\"41.85 %\"], [\"11.60 %\"], [\"39.77 %\"], [\"-16.56 %\"], [\"-37.42 %\"], [\"-0.91 %\"], [\"46.02 %\"], [\"14.73 %\"], [\"-11.34 %\"], [\"17.86 %\"], [\"-34.37 %\"], [\"14.00 %\"], [\"-34.86 %\"], [\"14.00 %\"], [\"-12.54 %\"], [\"16.99 %\"], [\"6.73 %\"]], \"hovertemplate\": \"<b>%{hovertext}</b><br><br>Place=Clerkenwell<br>latitude=%{lat}<br>longitude=%{lon}<br>Price difference=%{customdata[0]}<extra></extra>\", \"hovertext\": [\"Clerkenwell\", \"Clerkenwell\", \"Clerkenwell\", \"Clerkenwell\", \"Clerkenwell\", \"Clerkenwell\", \"Clerkenwell\", \"Clerkenwell\", \"Clerkenwell\", \"Clerkenwell\", \"Clerkenwell\", \"Clerkenwell\", \"Clerkenwell\", \"Clerkenwell\", \"Clerkenwell\", \"Clerkenwell\", \"Clerkenwell\", \"Clerkenwell\", \"Clerkenwell\", \"Clerkenwell\", \"Clerkenwell\", \"Clerkenwell\", \"Clerkenwell\", \"Clerkenwell\", \"Clerkenwell\", \"Clerkenwell\", \"Clerkenwell\", \"Clerkenwell\", \"Clerkenwell\", \"Clerkenwell\", \"Clerkenwell\", \"Clerkenwell\", \"Clerkenwell\", \"Clerkenwell\", \"Clerkenwell\", \"Clerkenwell\", \"Clerkenwell\", \"Clerkenwell\", \"Clerkenwell\", \"Clerkenwell\", \"Clerkenwell\", \"Clerkenwell\", \"Clerkenwell\", \"Clerkenwell\", \"Clerkenwell\", \"Clerkenwell\", \"Clerkenwell\", \"Clerkenwell\", \"Clerkenwell\", \"Clerkenwell\", \"Clerkenwell\", \"Clerkenwell\", \"Clerkenwell\", \"Clerkenwell\", \"Clerkenwell\", \"Clerkenwell\", \"Clerkenwell\", \"Clerkenwell\", \"Clerkenwell\", \"Clerkenwell\", \"Clerkenwell\", \"Clerkenwell\", \"Clerkenwell\", \"Clerkenwell\", \"Clerkenwell\", \"Clerkenwell\", \"Clerkenwell\", \"Clerkenwell\", \"Clerkenwell\", \"Clerkenwell\", \"Clerkenwell\", \"Clerkenwell\", \"Clerkenwell\", \"Clerkenwell\", \"Clerkenwell\", \"Clerkenwell\", \"Clerkenwell\", \"Clerkenwell\", \"Clerkenwell\", \"Clerkenwell\"], \"lat\": [51.528420000000004, 51.52231, 51.5231, 51.52312, 51.53156, 51.53921, 51.525929999999995, 51.52019, 51.52127, 51.52369, 51.52622, 51.52686, 51.52507, 51.52431, 51.52309, 51.52621, 51.528, 51.52623, 51.5263, 51.52515, 51.53087, 51.5249, 51.53308, 51.5324, 51.53138, 51.5244, 51.52426, 51.52855, 51.5195, 51.51923, 51.534079999999996, 51.52143, 51.5199, 51.53099, 51.53096, 51.523709999999994, 51.52745, 51.52019, 51.52621, 51.52689, 51.52404, 51.52258, 51.52217, 51.55852, 51.530159999999995, 51.52687, 51.52407, 51.52153, 51.522090000000006, 51.53, 51.5234, 51.52834, 51.52608, 51.52612, 51.53159, 51.523720000000004, 51.52872, 51.52293, 51.52525, 51.52467, 51.523540000000004, 51.523540000000004, 51.523540000000004, 51.525220000000004, 51.527429999999995, 51.52348, 51.52185, 51.52328, 51.53024, 51.52518, 51.53018, 51.52525, 51.52329, 51.51173, 51.51937, 51.52182, 51.519420000000004, 51.52189, 51.52169, 51.52262], \"legendgroup\": \"Clerkenwell\", \"lon\": [-0.11141, -0.09144, -0.10350999999999999, -0.10605, -0.1129, -0.0994, -0.11029000000000001, -0.1035, -0.10568, -0.10226, -0.09362999999999999, -0.09126000000000001, -0.09222999999999999, -0.09676, -0.10173, -0.10076, -0.11441, -0.08811000000000001, -0.08812, -0.10265, -0.11263, -0.11094000000000001, -0.09547, -0.09229, -0.09007000000000001, -0.11499000000000001, -0.11441, -0.11624000000000001, -0.11145999999999999, -0.10594, -0.13171, -0.10829000000000001, -0.11080999999999999, -0.12336, -0.12312000000000001, -0.11495999999999999, -0.12289000000000001, -0.10603, -0.11606, -0.11788, -0.11463, -0.11265, -0.11749000000000001, -0.04968, -0.0938, -0.08811000000000001, -0.10554000000000001, -0.1004, -0.10567, -0.11001, -0.1021, -0.09516000000000001, -0.1011, -0.09917999999999999, -0.09717999999999999, -0.10249000000000001, -0.09779, -0.10167999999999999, -0.10893, -0.10887000000000001, -0.11114, -0.11114, -0.11114, -0.09562999999999999, -0.11232, -0.11034000000000001, -0.10293, -0.10282000000000001, -0.09867999999999999, -0.10832, -0.10605, -0.10522999999999999, -0.09002, -0.07176, -0.09562999999999999, -0.09692, -0.10055, -0.09611, -0.11043, -0.11129000000000001], \"marker\": {\"color\": \"#636efa\"}, \"mode\": \"markers\", \"name\": \"Clerkenwell\", \"showlegend\": true, \"subplot\": \"mapbox\", \"type\": \"scattermapbox\"}, {\"customdata\": [[\"-11.14 %\"], [\"39.63 %\"], [\"9.48 %\"], [\"65.02 %\"], [\"74.54 %\"], [\"23.76 %\"], [\"90.40 %\"], [\"-36.53 %\"], [\"36.46 %\"], [\"11.07 %\"], [\"3.14 %\"], [\"19.00 %\"], [\"4.72 %\"], [\"42.16 %\"], [\"-14.71 %\"], [\"3.88 %\"], [\"20.29 %\"], [\"562.67 %\"], [\"-23.45 %\"], [\"31.22 %\"], [\"58.56 %\"], [\"-22.36 %\"], [\"-23.45 %\"], [\"-46.42 %\"], [\"3.88 %\"], [\"25.75 %\"], [\"-1.58 %\"], [\"8.26 %\"], [\"2.79 %\"], [\"-34.39 %\"], [\"30.13 %\"], [\"-30.02 %\"], [\"22.47 %\"], [\"-33.30 %\"], [\"21.38 %\"], [\"9.35 %\"], [\"34.50 %\"], [\"31.22 %\"], [\"-23.45 %\"], [\"-28.92 %\"], [\"-11.43 %\"], [\"4.98 %\"], [\"-17.99 %\"], [\"9.35 %\"], [\"9.35 %\"], [\"17.01 %\"], [\"9.35 %\"], [\"-15.80 %\"], [\"9.35 %\"], [\"67.31 %\"], [\"9.35 %\"], [\"-15.83 %\"], [\"-45.47 %\"], [\"-9.12 %\"], [\"19.97 %\"], [\"-5.48 %\"], [\"-38.20 %\"], [\"63.59 %\"], [\"-7.30 %\"], [\"25.42 %\"], [\"-45.47 %\"], [\"-9.12 %\"], [\"-9.12 %\"], [\"18.15 %\"], [\"-27.29 %\"], [\"27.24 %\"], [\"25.42 %\"], [\"41.78 %\"], [\"-7.30 %\"], [\"-21.84 %\"], [\"9.06 %\"], [\"45.42 %\"], [\"45.42 %\"], [\"-32.75 %\"], [\"-23.66 %\"], [\"61.77 %\"], [\"32.69 %\"], [\"34.51 %\"], [\"-27.29 %\"], [\"107.22 %\"], [\"9.06 %\"], [\"-30.93 %\"], [\"-30.93 %\"], [\"18.15 %\"], [\"63.59 %\"], [\"-9.12 %\"], [\"36.33 %\"], [\"81.77 %\"], [\"9.06 %\"], [\"27.24 %\"], [\"-47.29 %\"], [\"99.95 %\"], [\"-0.03 %\"], [\"-9.12 %\"], [\"-5.48 %\"], [\"-18.20 %\"], [\"245.36 %\"], [\"9.06 %\"], [\"-12.75 %\"], [\"23.60 %\"], [\"92.67 %\"], [\"154.48 %\"], [\"7.24 %\"], [\"36.33 %\"], [\"-27.29 %\"], [\"-9.12 %\"], [\"-9.12 %\"], [\"-9.12 %\"], [\"99.95 %\"], [\"27.24 %\"], [\"-0.03 %\"], [\"-18.20 %\"], [\"129.03 %\"], [\"-18.20 %\"], [\"-21.84 %\"], [\"161.75 %\"], [\"-12.75 %\"], [\"70.86 %\"], [\"45.42 %\"], [\"-36.38 %\"], [\"9.06 %\"], [\"63.59 %\"], [\"-18.20 %\"], [\"-3.66 %\"], [\"9.06 %\"], [\"18.15 %\"], [\"-12.75 %\"], [\"-43.65 %\"], [\"20.54 %\"], [\"-13.90 %\"], [\"-3.57 %\"], [\"65.32 %\"], [\"-31.12 %\"], [\"72.20 %\"], [\"-27.67 %\"], [\"-39.73 %\"], [\"27.43 %\"], [\"-22.51 %\"], [\"-65.56 %\"], [\"137.64 %\"], [\"103.20 %\"], [\"3.32 %\"], [\"34.32 %\"], [\"72.20 %\"], [\"-13.90 %\"], [\"-17.34 %\"], [\"72.20 %\"], [\"11.93 %\"], [\"-38.01 %\"], [\"-21.77 %\"], [\"3.26 %\"], [\"-31.16 %\"], [\"14.73 %\"], [\"-26.99 %\"], [\"-4.04 %\"], [\"40.81 %\"], [\"-6.13 %\"], [\"-19.69 %\"], [\"66.88 %\"], [\"-46.81 %\"], [\"-47.85 %\"], [\"20.99 %\"], [\"36.64 %\"], [\"-0.91 %\"], [\"-17.14 %\"], [\"-17.14 %\"], [\"12.52 %\"], [\"-24.99 %\"], [\"-44.68 %\"], [\"-39.05 %\"], [\"-29.68 %\"], [\"3.14 %\"], [\"-15.61 %\"], [\"-20.30 %\"], [\"4.08 %\"], [\"-25.93 %\"], [\"-24.99 %\"], [\"-10.93 %\"], [\"-6.24 %\"], [\"-38.12 %\"], [\"-24.99 %\"], [\"-53.65 %\"]], \"hovertemplate\": \"<b>%{hovertext}</b><br><br>Place=Hoxton<br>latitude=%{lat}<br>longitude=%{lon}<br>Price difference=%{customdata[0]}<extra></extra>\", \"hovertext\": [\"Hoxton\", \"Hoxton\", \"Hoxton\", \"Hoxton\", \"Hoxton\", \"Hoxton\", \"Hoxton\", \"Hoxton\", \"Hoxton\", \"Hoxton\", \"Hoxton\", \"Hoxton\", \"Hoxton\", \"Hoxton\", \"Hoxton\", \"Hoxton\", \"Hoxton\", \"Hoxton\", \"Hoxton\", \"Hoxton\", \"Hoxton\", \"Hoxton\", \"Hoxton\", \"Hoxton\", \"Hoxton\", \"Hoxton\", \"Hoxton\", \"Hoxton\", \"Hoxton\", \"Hoxton\", \"Hoxton\", \"Hoxton\", \"Hoxton\", \"Hoxton\", \"Hoxton\", \"Hoxton\", \"Hoxton\", \"Hoxton\", \"Hoxton\", \"Hoxton\", \"Hoxton\", \"Hoxton\", \"Hoxton\", \"Hoxton\", \"Hoxton\", \"Hoxton\", \"Hoxton\", \"Hoxton\", \"Hoxton\", \"Hoxton\", \"Hoxton\", \"Hoxton\", \"Hoxton\", \"Hoxton\", \"Hoxton\", \"Hoxton\", \"Hoxton\", \"Hoxton\", \"Hoxton\", \"Hoxton\", \"Hoxton\", \"Hoxton\", \"Hoxton\", \"Hoxton\", \"Hoxton\", \"Hoxton\", \"Hoxton\", \"Hoxton\", \"Hoxton\", \"Hoxton\", \"Hoxton\", \"Hoxton\", \"Hoxton\", \"Hoxton\", \"Hoxton\", \"Hoxton\", \"Hoxton\", \"Hoxton\", \"Hoxton\", \"Hoxton\", \"Hoxton\", \"Hoxton\", \"Hoxton\", \"Hoxton\", \"Hoxton\", \"Hoxton\", \"Hoxton\", \"Hoxton\", \"Hoxton\", \"Hoxton\", \"Hoxton\", \"Hoxton\", \"Hoxton\", \"Hoxton\", \"Hoxton\", \"Hoxton\", \"Hoxton\", \"Hoxton\", \"Hoxton\", \"Hoxton\", \"Hoxton\", \"Hoxton\", \"Hoxton\", \"Hoxton\", \"Hoxton\", \"Hoxton\", \"Hoxton\", \"Hoxton\", \"Hoxton\", \"Hoxton\", \"Hoxton\", \"Hoxton\", \"Hoxton\", \"Hoxton\", \"Hoxton\", \"Hoxton\", \"Hoxton\", \"Hoxton\", \"Hoxton\", \"Hoxton\", \"Hoxton\", \"Hoxton\", \"Hoxton\", \"Hoxton\", \"Hoxton\", \"Hoxton\", \"Hoxton\", \"Hoxton\", \"Hoxton\", \"Hoxton\", \"Hoxton\", \"Hoxton\", \"Hoxton\", \"Hoxton\", \"Hoxton\", \"Hoxton\", \"Hoxton\", \"Hoxton\", \"Hoxton\", \"Hoxton\", \"Hoxton\", \"Hoxton\", \"Hoxton\", \"Hoxton\", \"Hoxton\", \"Hoxton\", \"Hoxton\", \"Hoxton\", \"Hoxton\", \"Hoxton\", \"Hoxton\", \"Hoxton\", \"Hoxton\", \"Hoxton\", \"Hoxton\", \"Hoxton\", \"Hoxton\", \"Hoxton\", \"Hoxton\", \"Hoxton\", \"Hoxton\", \"Hoxton\", \"Hoxton\", \"Hoxton\", \"Hoxton\", \"Hoxton\", \"Hoxton\", \"Hoxton\", \"Hoxton\", \"Hoxton\", \"Hoxton\", \"Hoxton\", \"Hoxton\", \"Hoxton\", \"Hoxton\", \"Hoxton\", \"Hoxton\", \"Hoxton\", \"Hoxton\", \"Hoxton\", \"Hoxton\", \"Hoxton\"], \"lat\": [51.540490000000005, 51.52231, 51.523709999999994, 51.54023, 51.52418, 51.53468, 51.52767, 51.539970000000004, 51.53914, 51.52448, 51.52623, 51.5263, 51.54003, 51.56792, 51.53071, 51.53008, 51.5324, 51.53085, 51.536640000000006, 51.5381, 51.52884, 51.53163, 51.52973, 51.56547, 51.52655, 51.53573, 51.5307, 51.529109999999996, 51.56146, 51.55216, 51.53588, 51.535759999999996, 51.53123, 51.53409, 51.53045, 51.53433, 51.53395, 51.53094, 51.529990000000005, 51.55468, 51.55153, 51.53132, 51.55012, 51.53363, 51.53003, 51.56432, 51.529790000000006, 51.54847, 51.55972, 51.525940000000006, 51.530440000000006, 51.50375, 51.54078, 51.53569, 51.53567, 51.53147, 51.54075, 51.56787, 51.52683, 51.53262, 51.54104, 51.539809999999996, 51.532740000000004, 51.539609999999996, 51.53301, 51.53712, 51.53569, 51.530159999999995, 51.53707, 51.52897, 51.53304, 51.53247, 51.54038, 51.53545, 51.554629999999996, 51.53002, 51.52811, 51.52932, 51.528890000000004, 51.52753, 51.53332, 51.53118, 51.533, 51.54197, 51.53049, 51.5496, 51.536159999999995, 51.531009999999995, 51.5322, 51.54468, 51.53581, 51.54562, 51.53795, 51.53106, 51.53717, 51.53477, 51.52802, 51.540859999999995, 51.53476, 51.532779999999995, 51.52514, 51.54701, 51.53002, 51.54582, 51.536190000000005, 51.538059999999994, 51.53014, 51.54549, 51.53821, 51.53338, 51.531259999999996, 51.52802, 51.524409999999996, 51.52752, 51.53561, 51.53037, 51.52687, 51.53131, 51.52878, 51.53028, 51.532059999999994, 51.531209999999994, 51.52899, 51.53699, 51.52839, 51.53584, 51.53332, 51.52624, 51.52838, 51.52876, 51.53045, 51.530590000000004, 51.51505, 51.52511, 51.53004, 51.52025, 51.50976, 51.519909999999996, 51.52678, 51.52888, 51.530229999999996, 51.52724, 51.53144, 51.52491, 51.51892, 51.53072, 51.52405, 51.51636, 51.54338, 51.53, 51.54355, 51.531259999999996, 51.52834, 51.52669, 51.52732, 51.53588, 51.53159, 51.52678, 51.52421, 51.529340000000005, 51.532309999999995, 51.52748, 51.53415, 51.53024, 51.53345, 51.53485, 51.528040000000004, 51.51116, 51.519290000000005, 51.52349, 51.532059999999994, 51.53025, 51.52814, 51.52709, 51.524229999999996, 51.51589, 51.52941, 51.52303, 51.53174, 51.52537, 51.530559999999994, 51.5565], \"legendgroup\": \"Hoxton\", \"lon\": [-0.09041, -0.09144, -0.09813, -0.09164, -0.09014, -0.09497, -0.0895, -0.08926, -0.09689, -0.08769, -0.08811000000000001, -0.08812, -0.10390999999999999, -0.09663, -0.09035, -0.08952, -0.09229, -0.07332000000000001, -0.08521000000000001, -0.08602, -0.08056, -0.0779, -0.07478, -0.05022, -0.07746, -0.07697000000000001, -0.09128, -0.07981, -0.06776, -0.08496000000000001, -0.08938, -0.07685, -0.07165, -0.0752, -0.09167, -0.06941, -0.0781, -0.08746, -0.07617, -0.0758, -0.06788, -0.08631, -0.06835, -0.09105, -0.07568, -0.07169, -0.08585, -0.06166, -0.06269, -0.08187, -0.08631, -0.10221000000000001, -0.0586, -0.0775, -0.0726, -0.07424, -0.058589999999999996, -0.09807, -0.07677, -0.08369, -0.058179999999999996, -0.08417000000000001, -0.09361, -0.07577, -0.08788, -0.07922, -0.09011, -0.0938, -0.08113, -0.08021, -0.08684, -0.07003, -0.08357, -0.07424, -0.06875, -0.07622999999999999, -0.07774, -0.0857, -0.08657999999999999, -0.0863, -0.09005, -0.0916, -0.0809, -0.08436, -0.07478, -0.06996000000000001, -0.07546, -0.08407, -0.07658999999999999, -0.08329, -0.07582, -0.07282999999999999, -0.07217, -0.08885, -0.067, -0.07596, -0.08431, -0.0808, -0.07608, -0.09304, -0.0802, -0.0754, -0.08467999999999999, -0.05099, -0.07642, -0.08596000000000001, -0.07823, -0.06892000000000001, -0.0831, -0.08038, -0.08527, -0.07791000000000001, -0.08167, -0.07886, -0.07726, -0.0824, -0.08811000000000001, -0.07965, -0.08224, -0.07437, -0.08032, -0.07877, -0.07603, -0.07643, -0.08167, -0.07786, -0.07200000000000001, -0.0771, -0.06642999999999999, -0.07291, -0.07047, -0.07188, -0.05259, -0.07388, -0.06481, -0.04803, -0.05641, -0.0293, -0.04576, -0.07468, -0.07285, -0.059539999999999996, -0.06357, -0.06624, -0.02356, -0.0603, -0.07242, -0.06999, -0.0221, -0.11001, -0.08872000000000001, -0.10999, -0.09516000000000001, -0.09282, -0.09196, -0.11839000000000001, -0.09717999999999999, -0.08902, -0.08598, -0.09651, -0.0991, -0.09502999999999999, -0.09445, -0.09867999999999999, -0.0071, -0.00882, -0.06444, -0.05085, -0.0487, -0.07442, -0.060070000000000005, -0.07297999999999999, -0.06679, -0.056670000000000005, -0.07062, -0.05627000000000001, -0.0497, -0.07576000000000001, -0.06444, -0.01084, -0.06435, -0.07431], \"marker\": {\"color\": \"#EF553B\"}, \"mode\": \"markers\", \"name\": \"Hoxton\", \"showlegend\": true, \"subplot\": \"mapbox\", \"type\": \"scattermapbox\"}, {\"customdata\": [[\"-12.19 %\"], [\"17.08 %\"], [\"-28.92 %\"], [\"-3.83 %\"], [\"-23.90 %\"], [\"-18.05 %\"], [\"-8.01 %\"], [\"46.35 %\"], [\"-36.44 %\"], [\"25.44 %\"], [\"-43.97 %\"], [\"-54.84 %\"], [\"-45.64 %\"], [\"-49.82 %\"], [\"26.28 %\"], [\"25.44 %\"], [\"25.44 %\"], [\"29.62 %\"], [\"-28.92 %\"], [\"41.33 %\"], [\"-16.37 %\"], [\"-31.43 %\"], [\"-56.51 %\"], [\"1.62 %\"], [\"1.62 %\"], [\"53.66 %\"], [\"-15.22 %\"], [\"-18.82 %\"], [\"41.52 %\"], [\"-17.72 %\"], [\"42.62 %\"], [\"20.68 %\"], [\"-45.15 %\"], [\"9.71 %\"], [\"74.12 %\"], [\"-14.68 %\"], [\"74.12 %\"], [\"4.47 %\"], [\"21.89 %\"], [\"39.30 %\"], [\"-28.61 %\"], [\"-47.76 %\"], [\"4.47 %\"], [\"-16.42 %\"], [\"-24.50 %\"], [\"15.52 %\"], [\"13.21 %\"], [\"106.78 %\"], [\"-30.69 %\"], [\"-1.81 %\"], [\"50.17 %\"], [\"-30.69 %\"], [\"-1.81 %\"], [\"3.97 %\"], [\"-13.36 %\"], [\"53.64 %\"], [\"3.97 %\"], [\"-13.36 %\"], [\"27.07 %\"], [\"-13.36 %\"], [\"89.45 %\"], [\"38.62 %\"], [\"31.69 %\"], [\"6.28 %\"], [\"-22.60 %\"], [\"-13.36 %\"], [\"15.52 %\"], [\"-1.81 %\"], [\"-24.91 %\"], [\"-29.53 %\"], [\"10.90 %\"], [\"-14.52 %\"], [\"-7.59 %\"], [\"50.17 %\"], [\"-28.38 %\"], [\"-7.59 %\"], [\"-7.59 %\"], [\"-13.36 %\"], [\"10.90 %\"], [\"27.07 %\"], [\"-27.22 %\"], [\"8.59 %\"], [\"-13.36 %\"], [\"-28.38 %\"], [\"-28.38 %\"], [\"20.14 %\"], [\"14.36 %\"], [\"3.97 %\"], [\"-4.12 %\"], [\"73.28 %\"], [\"10.90 %\"], [\"-21.45 %\"], [\"10.90 %\"], [\"27.07 %\"], [\"-8.74 %\"], [\"-30.69 %\"], [\"62.88 %\"], [\"102.16 %\"], [\"-28.38 %\"], [\"-30.69 %\"], [\"-30.69 %\"], [\"73.28 %\"], [\"15.52 %\"], [\"-19.14 %\"], [\"-1.81 %\"], [\"-29.90 %\"], [\"37.90 %\"], [\"9.17 %\"], [\"-19.56 %\"], [\"86.17 %\"], [\"-8.06 %\"], [\"72.38 %\"], [\"-29.90 %\"], [\"-29.90 %\"], [\"70.44 %\"], [\"43.66 %\"], [\"9.57 %\"], [\"-40.35 %\"], [\"-39.13 %\"], [\"-20.87 %\"], [\"-2.60 %\"], [\"-29.39 %\"], [\"-7.47 %\"], [\"-0.17 %\"], [\"41.22 %\"], [\"9.57 %\"], [\"-23.74 %\"], [\"-51.47 %\"], [\"-45.23 %\"], [\"-38.30 %\"], [\"-22.35 %\"], [\"-20.28 %\"], [\"-14.73 %\"], [\"-47.31 %\"], [\"-23.74 %\"], [\"-34.14 %\"], [\"13.00 %\"], [\"-52.17 %\"], [\"-16.48 %\"], [\"-16.48 %\"], [\"-38.14 %\"], [\"25.27 %\"], [\"-36.59 %\"], [\"-7.20 %\"], [\"-38.14 %\"], [\"-59.79 %\"], [\"-7.20 %\"], [\"20.63 %\"], [\"-55.15 %\"], [\"8.26 %\"], [\"-38.14 %\"], [\"51.57 %\"], [\"6.71 %\"], [\"-1.02 %\"], [\"-28.86 %\"], [\"-14.94 %\"], [\"20.63 %\"], [\"-18.03 %\"], [\"-10.30 %\"], [\"8.26 %\"], [\"23.73 %\"], [\"-22.67 %\"], [\"6.71 %\"], [\"-39.68 %\"], [\"31.46 %\"], [\"-28.86 %\"], [\"54.66 %\"], [\"15.99 %\"], [\"70.12 %\"], [\"73.22 %\"], [\"-53.60 %\"], [\"-38.14 %\"], [\"8.26 %\"], [\"39.19 %\"], [\"-53.60 %\"], [\"-13.39 %\"], [\"-13.39 %\"], [\"-41.23 %\"], [\"162.92 %\"], [\"-14.94 %\"], [\"-21.12 %\"], [\"8.26 %\"], [\"-10.30 %\"], [\"-25.76 %\"], [\"-7.20 %\"], [\"29.91 %\"], [\"20.63 %\"], [\"-41.23 %\"], [\"131.99 %\"], [\"-22.67 %\"], [\"-24.22 %\"], [\"-14.94 %\"], [\"-30.40 %\"], [\"0.53 %\"], [\"0.53 %\"], [\"-38.14 %\"], [\"29.91 %\"], [\"-42.78 %\"], [\"-55.15 %\"], [\"-45.87 %\"], [\"-50.51 %\"], [\"-21.12 %\"], [\"-28.86 %\"], [\"51.57 %\"], [\"-38.14 %\"], [\"85.59 %\"], [\"23.73 %\"], [\"8.26 %\"], [\"-50.51 %\"], [\"17.54 %\"], [\"23.73 %\"], [\"101.06 %\"], [\"-39.68 %\"], [\"-47.42 %\"], [\"23.73 %\"], [\"-25.76 %\"], [\"8.26 %\"], [\"-35.04 %\"], [\"15.99 %\"], [\"-14.94 %\"], [\"-31.95 %\"], [\"37.65 %\"], [\"-42.78 %\"], [\"23.73 %\"], [\"51.57 %\"], [\"79.40 %\"], [\"8.26 %\"], [\"79.40 %\"], [\"-30.40 %\"], [\"8.26 %\"], [\"-47.42 %\"], [\"23.73 %\"], [\"-38.14 %\"], [\"25.27 %\"], [\"-7.20 %\"], [\"-25.76 %\"], [\"-50.51 %\"], [\"-47.42 %\"], [\"-38.14 %\"], [\"23.73 %\"], [\"-52.06 %\"], [\"-11.84 %\"], [\"-41.23 %\"], [\"-6.34 %\"]], \"hovertemplate\": \"<b>%{hovertext}</b><br><br>Place=Battersea<br>latitude=%{lat}<br>longitude=%{lon}<br>Price difference=%{customdata[0]}<extra></extra>\", \"hovertext\": [\"Battersea\", \"Battersea\", \"Battersea\", \"Battersea\", \"Battersea\", \"Battersea\", \"Battersea\", \"Battersea\", \"Battersea\", \"Battersea\", \"Battersea\", \"Battersea\", \"Battersea\", \"Battersea\", \"Battersea\", \"Battersea\", \"Battersea\", \"Battersea\", \"Battersea\", \"Battersea\", \"Battersea\", \"Battersea\", \"Battersea\", \"Battersea\", \"Battersea\", \"Battersea\", \"Battersea\", \"Battersea\", \"Battersea\", \"Battersea\", \"Battersea\", \"Battersea\", \"Battersea\", \"Battersea\", \"Battersea\", \"Battersea\", \"Battersea\", \"Battersea\", \"Battersea\", \"Battersea\", \"Battersea\", \"Battersea\", \"Battersea\", \"Battersea\", \"Battersea\", \"Battersea\", \"Battersea\", \"Battersea\", \"Battersea\", \"Battersea\", \"Battersea\", \"Battersea\", \"Battersea\", \"Battersea\", \"Battersea\", \"Battersea\", \"Battersea\", \"Battersea\", \"Battersea\", \"Battersea\", \"Battersea\", \"Battersea\", \"Battersea\", \"Battersea\", \"Battersea\", \"Battersea\", \"Battersea\", \"Battersea\", \"Battersea\", \"Battersea\", \"Battersea\", \"Battersea\", \"Battersea\", \"Battersea\", \"Battersea\", \"Battersea\", \"Battersea\", \"Battersea\", \"Battersea\", \"Battersea\", \"Battersea\", \"Battersea\", \"Battersea\", \"Battersea\", \"Battersea\", \"Battersea\", \"Battersea\", \"Battersea\", \"Battersea\", \"Battersea\", \"Battersea\", \"Battersea\", \"Battersea\", \"Battersea\", \"Battersea\", \"Battersea\", \"Battersea\", \"Battersea\", \"Battersea\", \"Battersea\", \"Battersea\", \"Battersea\", \"Battersea\", \"Battersea\", \"Battersea\", \"Battersea\", \"Battersea\", \"Battersea\", \"Battersea\", \"Battersea\", \"Battersea\", \"Battersea\", \"Battersea\", \"Battersea\", \"Battersea\", \"Battersea\", \"Battersea\", \"Battersea\", \"Battersea\", \"Battersea\", \"Battersea\", \"Battersea\", \"Battersea\", \"Battersea\", \"Battersea\", \"Battersea\", \"Battersea\", \"Battersea\", \"Battersea\", \"Battersea\", \"Battersea\", \"Battersea\", \"Battersea\", \"Battersea\", \"Battersea\", \"Battersea\", \"Battersea\", \"Battersea\", \"Battersea\", \"Battersea\", \"Battersea\", \"Battersea\", \"Battersea\", \"Battersea\", \"Battersea\", \"Battersea\", \"Battersea\", \"Battersea\", \"Battersea\", \"Battersea\", \"Battersea\", \"Battersea\", \"Battersea\", \"Battersea\", \"Battersea\", \"Battersea\", \"Battersea\", \"Battersea\", \"Battersea\", \"Battersea\", \"Battersea\", \"Battersea\", \"Battersea\", \"Battersea\", \"Battersea\", \"Battersea\", \"Battersea\", \"Battersea\", \"Battersea\", \"Battersea\", \"Battersea\", \"Battersea\", \"Battersea\", \"Battersea\", \"Battersea\", \"Battersea\", \"Battersea\", \"Battersea\", \"Battersea\", \"Battersea\", \"Battersea\", \"Battersea\", \"Battersea\", \"Battersea\", \"Battersea\", \"Battersea\", \"Battersea\", \"Battersea\", \"Battersea\", \"Battersea\", \"Battersea\", \"Battersea\", \"Battersea\", \"Battersea\", \"Battersea\", \"Battersea\", \"Battersea\", \"Battersea\", \"Battersea\", \"Battersea\", \"Battersea\", \"Battersea\", \"Battersea\", \"Battersea\", \"Battersea\", \"Battersea\", \"Battersea\", \"Battersea\", \"Battersea\", \"Battersea\", \"Battersea\", \"Battersea\", \"Battersea\", \"Battersea\", \"Battersea\", \"Battersea\", \"Battersea\", \"Battersea\", \"Battersea\", \"Battersea\", \"Battersea\", \"Battersea\", \"Battersea\", \"Battersea\", \"Battersea\", \"Battersea\", \"Battersea\", \"Battersea\", \"Battersea\", \"Battersea\", \"Battersea\", \"Battersea\", \"Battersea\", \"Battersea\", \"Battersea\", \"Battersea\", \"Battersea\", \"Battersea\", \"Battersea\", \"Battersea\", \"Battersea\", \"Battersea\", \"Battersea\", \"Battersea\"], \"lat\": [51.480309999999996, 51.48959, 51.47999, 51.47815, 51.48276, 51.48643, 51.48495, 51.48697, 51.49188, 51.49507, 51.48434, 51.48434, 51.48898, 51.48603, 51.49284, 51.49516, 51.49454, 51.49289, 51.48559, 51.48854, 51.4919, 51.48855, 51.4921, 51.47902, 51.47869, 51.47421, 51.47403, 51.488479999999996, 51.48809, 51.486990000000006, 51.49342, 51.48754, 51.49197, 51.4861, 51.46649, 51.47592, 51.486779999999996, 51.468759999999996, 51.49337, 51.46706, 51.48089, 51.4657, 51.474, 51.468720000000005, 51.421009999999995, 51.46594, 51.47202, 51.475770000000004, 51.47209, 51.47161, 51.4743, 51.47079, 51.477129999999995, 51.47083, 51.474090000000004, 51.47797, 51.4802, 51.460229999999996, 51.474309999999996, 51.46197, 51.4718, 51.476259999999996, 51.47876, 51.468990000000005, 51.473259999999996, 51.478640000000006, 51.47486, 51.47027, 51.47186, 51.474470000000004, 51.46011, 51.47656, 51.48072, 51.47838, 51.46983, 51.48219, 51.462379999999996, 51.47619, 51.456720000000004, 51.47638, 51.46246, 51.47057, 51.46334, 51.47381, 51.4791, 51.458709999999996, 51.48296, 51.4622, 51.47435, 51.48273, 51.47333, 51.4698, 51.48012, 51.48242, 51.47551, 51.47631, 51.47403, 51.476620000000004, 51.47619, 51.47303, 51.48254, 51.48308, 51.46967, 51.464040000000004, 51.4626, 51.466809999999995, 51.47532, 51.46812, 51.475, 51.47971, 51.467490000000005, 51.48115, 51.471270000000004, 51.466640000000005, 51.4873, 51.48498, 51.4853, 51.48684, 51.48217, 51.48406, 51.484140000000004, 51.487429999999996, 51.48614, 51.493990000000004, 51.48639, 51.48583, 51.490829999999995, 51.48655, 51.489290000000004, 51.48702, 51.49038, 51.48727, 51.49285, 51.48753, 51.49017, 51.48899, 51.4866, 51.48895, 51.473859999999995, 51.473859999999995, 51.47249, 51.46294, 51.48053, 51.47917, 51.472429999999996, 51.47826, 51.47442, 51.47229, 51.47156, 51.46432, 51.45592, 51.47535, 51.47486, 51.465540000000004, 51.472770000000004, 51.46225, 51.47648, 51.472359999999995, 51.46582, 51.46711, 51.47228, 51.47167, 51.45557, 51.463409999999996, 51.46537, 51.47438, 51.4743, 51.46504, 51.48303, 51.47744, 51.47005, 51.463429999999995, 51.46695, 51.46366, 51.47, 51.4751, 51.47712, 51.47323, 51.48231, 51.46075, 51.47402, 51.47692, 51.47097, 51.47031, 51.46322, 51.4718, 51.464620000000004, 51.469570000000004, 51.48252, 51.4718, 51.479859999999995, 51.47484, 51.47392, 51.45525, 51.45621, 51.47007, 51.47766, 51.47444, 51.464209999999994, 51.47688, 51.47547, 51.462740000000004, 51.47566, 51.47719, 51.47205, 51.470620000000004, 51.47294, 51.44634, 51.475609999999996, 51.47396, 51.46683, 51.46497, 51.449659999999994, 51.47874, 51.467040000000004, 51.45681, 51.47913, 51.47726, 51.468920000000004, 51.473659999999995, 51.47633, 51.47408, 51.47618, 51.47477, 51.46836, 51.47305, 51.4807, 51.468309999999995, 51.45595, 51.46758, 51.47205, 51.45767, 51.47623, 51.46471, 51.46888, 51.47517, 51.47702, 51.47502, 51.47423, 51.468090000000004, 51.47637, 51.47339, 51.46085, 51.46947], \"legendgroup\": \"Battersea\", \"lon\": [-0.18361, -0.15621, -0.18243, -0.18191, -0.17623, -0.16662000000000002, -0.18442, -0.1841, -0.16668, -0.18667999999999998, -0.18729, -0.18729, -0.18089, -0.15725, -0.1854, -0.18475, -0.18484, -0.18478, -0.17414000000000002, -0.16324, -0.16831, -0.16902, -0.16743, -0.1992, -0.19844, -0.18089, -0.19114, -0.15035, -0.13929, -0.13330999999999998, -0.14223, -0.14965, -0.14196, -0.14551, -0.14427, -0.13296, -0.12534, -0.14432999999999999, -0.11275999999999999, -0.13229000000000002, -0.12193, -0.14527, -0.13234, -0.13699, -0.17577, -0.162, -0.16663, -0.16567, -0.17498, -0.1477, -0.16751, -0.17026, -0.17517, -0.16934000000000002, -0.16089, -0.16992000000000002, -0.14854, -0.16842000000000001, -0.17414000000000002, -0.17701, -0.15002000000000001, -0.17289000000000002, -0.16823, -0.14868, -0.16301, -0.13990999999999998, -0.1539, -0.16137, -0.17018, -0.17240999999999998, -0.15699000000000002, -0.16958, -0.1482, -0.14901, -0.17831, -0.15019000000000002, -0.16727, -0.13695, -0.18452000000000002, -0.15365, -0.16801, -0.15017, -0.1672, -0.16166, -0.16735999999999998, -0.16372, -0.14962999999999999, -0.1722, -0.16385999999999998, -0.14492, -0.17357, -0.16999, -0.16654000000000002, -0.12787, -0.15234, -0.16529000000000002, -0.16495, -0.14742, -0.14917, -0.13978, -0.13909000000000002, -0.14889000000000002, -0.17729, -0.18656, -0.15655, -0.14692, -0.11832999999999999, -0.13254000000000002, -0.13176, -0.12014000000000001, -0.12954000000000002, -0.12459, -0.11132, -0.14737999999999998, -0.16865, -0.18746, -0.17778, -0.18045999999999998, -0.17768, -0.17635, -0.17695, -0.18985, -0.15164, -0.17639000000000002, -0.16289, -0.17719000000000001, -0.13979, -0.15001, -0.13794, -0.1435, -0.13633, -0.15, -0.14488, -0.14928, -0.14017000000000002, -0.12847, -0.13592, -0.14372000000000001, -0.16355, -0.16397, -0.14672000000000002, -0.18882000000000002, -0.16648, -0.1666, -0.15478, -0.14767, -0.16588, -0.16973, -0.15992, -0.17927, -0.15872, -0.17498, -0.17478, -0.16222999999999999, -0.15916, -0.19539, -0.17577, -0.1692, -0.1521, -0.17047, -0.16221, -0.16455, -0.15473, -0.18808, -0.15202000000000002, -0.15588, -0.16988, -0.15177000000000002, -0.15007, -0.17321, -0.1509, -0.15157, -0.16083, -0.1588, -0.15083, -0.17506, -0.1487, -0.15798, -0.14889000000000002, -0.1779, -0.16255999999999998, -0.1695, -0.16823, -0.1751, -0.15715, -0.16814, -0.1601, -0.14740999999999999, -0.13507, -0.17608, -0.14062, -0.15105, -0.16676, -0.16284, -0.16358, -0.15903, -0.16564, -0.16802, -0.15734, -0.17536, -0.1682, -0.16697, -0.16817000000000001, -0.16404000000000002, -0.17238, -0.14827, -0.16479000000000002, -0.16036, -0.16805, -0.17379, -0.1541, -0.18293, -0.14729, -0.16971, -0.15496, -0.18807000000000001, -0.14028, -0.17501, -0.1741, -0.17399, -0.17084000000000002, -0.1692, -0.17465999999999998, -0.16530999999999998, -0.15525999999999998, -0.15632000000000001, -0.16554000000000002, -0.15746, -0.1886, -0.17206, -0.14876, -0.16785, -0.16943, -0.16594, -0.15678, -0.16794, -0.16779000000000002, -0.16848, -0.16382, -0.17131, -0.16693, -0.16394, -0.1811, -0.19034], \"marker\": {\"color\": \"#00cc96\"}, \"mode\": \"markers\", \"name\": \"Battersea\", \"showlegend\": true, \"subplot\": \"mapbox\", \"type\": \"scattermapbox\"}, {\"customdata\": [[\"-11.14 %\"], [\"39.63 %\"], [\"11.07 %\"], [\"11.07 %\"], [\"11.07 %\"], [\"23.76 %\"], [\"90.40 %\"], [\"-36.53 %\"], [\"36.46 %\"], [\"23.76 %\"], [\"77.15 %\"], [\"-1.58 %\"], [\"-1.58 %\"], [\"36.69 %\"], [\"-7.05 %\"], [\"9.35 %\"], [\"-28.92 %\"], [\"9.35 %\"], [\"-5.96 %\"], [\"-1.58 %\"], [\"-14.71 %\"], [\"-12.52 %\"], [\"-34.39 %\"], [\"562.67 %\"], [\"-23.45 %\"], [\"31.22 %\"], [\"-17.99 %\"], [\"64.03 %\"], [\"-22.36 %\"], [\"-23.45 %\"], [\"-23.45 %\"], [\"-28.92 %\"], [\"31.22 %\"], [\"25.75 %\"], [\"31.22 %\"], [\"-24.55 %\"], [\"3.88 %\"], [\"-26.74 %\"], [\"-9.24 %\"], [\"-23.45 %\"], [\"36.69 %\"], [\"-34.39 %\"], [\"14.82 %\"], [\"-33.30 %\"], [\"-2.68 %\"], [\"20.29 %\"], [\"22.47 %\"], [\"-1.58 %\"], [\"-28.92 %\"], [\"31.22 %\"], [\"-7.05 %\"], [\"9.35 %\"], [\"-27.83 %\"], [\"-22.36 %\"], [\"-34.39 %\"], [\"-28.92 %\"], [\"9.35 %\"], [\"-12.52 %\"], [\"47.62 %\"], [\"-3.77 %\"], [\"-1.58 %\"], [\"31.22 %\"], [\"-43.14 %\"], [\"25.75 %\"], [\"-28.92 %\"], [\"55.28 %\"], [\"3.88 %\"], [\"9.35 %\"], [\"9.35 %\"], [\"44.34 %\"], [\"5.22 %\"], [\"190.43 %\"], [\"0.99 %\"], [\"-12.23 %\"], [\"-14.48 %\"], [\"12.53 %\"], [\"8.02 %\"], [\"62.04 %\"], [\"-9.12 %\"], [\"19.97 %\"], [\"-20.02 %\"], [\"-38.20 %\"], [\"-9.12 %\"], [\"-9.12 %\"], [\"-34.56 %\"], [\"70.86 %\"], [\"9.06 %\"], [\"25.42 %\"], [\"-0.03 %\"], [\"-21.84 %\"], [\"9.06 %\"], [\"14.51 %\"], [\"-18.20 %\"], [\"45.42 %\"], [\"12.70 %\"], [\"-27.29 %\"], [\"-47.29 %\"], [\"32.69 %\"], [\"45.42 %\"], [\"34.51 %\"], [\"-18.20 %\"], [\"-27.29 %\"], [\"-27.29 %\"], [\"38.14 %\"], [\"-18.20 %\"], [\"-45.47 %\"], [\"-29.11 %\"], [\"-21.84 %\"], [\"3.61 %\"], [\"-9.12 %\"], [\"63.59 %\"], [\"-9.12 %\"], [\"36.33 %\"], [\"-7.30 %\"], [\"9.06 %\"], [\"-45.47 %\"], [\"27.24 %\"], [\"-18.20 %\"], [\"-9.12 %\"], [\"-18.20 %\"], [\"-9.12 %\"], [\"-41.83 %\"], [\"-45.47 %\"], [\"54.50 %\"], [\"99.95 %\"], [\"-10.93 %\"], [\"12.70 %\"], [\"-18.20 %\"], [\"49.05 %\"], [\"9.06 %\"], [\"-36.38 %\"], [\"78.13 %\"], [\"-36.38 %\"], [\"7.24 %\"], [\"18.15 %\"], [\"27.24 %\"], [\"-27.29 %\"], [\"9.06 %\"], [\"-34.56 %\"], [\"-12.75 %\"], [\"36.33 %\"], [\"-9.12 %\"], [\"9.06 %\"], [\"19.97 %\"], [\"-27.29 %\"], [\"36.33 %\"], [\"-18.20 %\"], [\"-9.12 %\"], [\"-27.29 %\"], [\"-10.93 %\"], [\"99.95 %\"], [\"-36.38 %\"], [\"-10.93 %\"], [\"-27.29 %\"], [\"129.03 %\"], [\"-25.47 %\"], [\"9.06 %\"], [\"27.24 %\"], [\"-0.03 %\"], [\"-34.56 %\"], [\"27.24 %\"], [\"-18.20 %\"], [\"161.75 %\"], [\"9.06 %\"], [\"45.42 %\"], [\"-29.11 %\"], [\"63.59 %\"], [\"-36.38 %\"], [\"9.06 %\"], [\"9.06 %\"], [\"63.59 %\"], [\"118.12 %\"], [\"63.59 %\"], [\"27.24 %\"], [\"-27.29 %\"], [\"27.24 %\"], [\"-18.20 %\"], [\"18.15 %\"], [\"-21.84 %\"], [\"-12.75 %\"], [\"-40.02 %\"], [\"-10.45 %\"], [\"-12.18 %\"], [\"-17.34 %\"], [\"-8.73 %\"], [\"34.32 %\"], [\"20.54 %\"], [\"-13.90 %\"], [\"-15.62 %\"], [\"-15.62 %\"], [\"-31.12 %\"], [\"-3.57 %\"], [\"65.32 %\"], [\"-17.34 %\"], [\"17.10 %\"], [\"-3.57 %\"], [\"-27.67 %\"], [\"29.15 %\"], [\"-10.45 %\"], [\"-31.12 %\"], [\"-51.78 %\"], [\"137.64 %\"], [\"103.20 %\"], [\"51.54 %\"], [\"-38.01 %\"], [\"209.97 %\"], [\"-25.95 %\"], [\"20.54 %\"], [\"-0.12 %\"], [\"3.32 %\"], [\"34.32 %\"], [\"37.76 %\"], [\"-17.34 %\"], [\"84.26 %\"], [\"84.26 %\"], [\"106.65 %\"], [\"3.32 %\"], [\"23.99 %\"], [\"-31.12 %\"], [\"-15.62 %\"], [\"-19.06 %\"], [\"-48.34 %\"], [\"-5.29 %\"], [\"106.65 %\"], [\"36.04 %\"], [\"72.20 %\"], [\"20.54 %\"], [\"37.76 %\"], [\"-22.51 %\"], [\"3.32 %\"], [\"29.15 %\"], [\"137.64 %\"], [\"-48.34 %\"], [\"3.32 %\"], [\"-13.90 %\"], [\"-7.01 %\"], [\"-31.12 %\"], [\"-7.01 %\"], [\"-31.12 %\"], [\"-20.79 %\"], [\"-3.57 %\"], [\"13.65 %\"], [\"11.93 %\"], [\"54.98 %\"], [\"-15.62 %\"], [\"-10.45 %\"], [\"3.32 %\"], [\"68.76 %\"], [\"3.32 %\"], [\"-48.34 %\"], [\"17.10 %\"], [\"-63.84 %\"], [\"123.87 %\"], [\"129.03 %\"], [\"-31.12 %\"], [\"-31.12 %\"], [\"-22.51 %\"], [\"-17.34 %\"], [\"20.54 %\"], [\"11.93 %\"], [\"-50.06 %\"], [\"51.54 %\"], [\"29.15 %\"], [\"-5.29 %\"], [\"-15.62 %\"], [\"29.15 %\"], [\"56.71 %\"], [\"-56.95 %\"], [\"-48.34 %\"], [\"11.93 %\"], [\"-5.29 %\"], [\"3.32 %\"], [\"3.32 %\"], [\"-38.01 %\"], [\"-48.34 %\"], [\"-31.12 %\"], [\"3.26 %\"], [\"-26.99 %\"], [\"-19.69 %\"], [\"16.82 %\"], [\"-42.63 %\"], [\"4.30 %\"], [\"-6.13 %\"], [\"12.52 %\"], [\"-23.11 %\"], [\"-23.11 %\"], [\"-44.68 %\"], [\"-34.37 %\"], [\"7.83 %\"], [\"-2.49 %\"], [\"-29.68 %\"], [\"-15.61 %\"], [\"3.14 %\"], [\"-52.18 %\"], [\"-20.30 %\"], [\"-15.61 %\"], [\"-6.24 %\"], [\"31.27 %\"], [\"-32.49 %\"], [\"-20.30 %\"], [\"-9.99 %\"], [\"-15.61 %\"], [\"-6.24 %\"], [\"-15.61 %\"], [\"4.08 %\"], [\"-32.49 %\"], [\"-6.24 %\"], [\"17.20 %\"], [\"-20.30 %\"], [\"-20.30 %\"], [\"12.52 %\"], [\"-34.37 %\"], [\"-20.30 %\"], [\"-54.06 %\"], [\"-43.74 %\"], [\"140.03 %\"], [\"-15.61 %\"], [\"-39.99 %\"], [\"-20.30 %\"], [\"-4.36 %\"], [\"-29.68 %\"], [\"-6.24 %\"], [\"-24.99 %\"], [\"21.89 %\"], [\"-34.37 %\"], [\"-39.05 %\"], [\"-18.43 %\"], [\"40.64 %\"], [\"-1.55 %\"], [\"-14.68 %\"], [\"12.52 %\"], [\"-24.99 %\"], [\"-10.93 %\"], [\"21.89 %\"], [\"89.40 %\"], [\"-6.24 %\"], [\"3.14 %\"], [\"3.14 %\"], [\"100.65 %\"], [\"-34.37 %\"], [\"-28.74 %\"], [\"3.14 %\"], [\"-15.61 %\"], [\"3.14 %\"], [\"26.58 %\"], [\"-21.14 %\"], [\"-58.25 %\"]], \"hovertemplate\": \"<b>%{hovertext}</b><br><br>Place=Columbia<br>latitude=%{lat}<br>longitude=%{lon}<br>Price difference=%{customdata[0]}<extra></extra>\", \"hovertext\": [\"Columbia\", \"Columbia\", \"Columbia\", \"Columbia\", \"Columbia\", \"Columbia\", \"Columbia\", \"Columbia\", \"Columbia\", \"Columbia\", \"Columbia\", \"Columbia\", \"Columbia\", \"Columbia\", \"Columbia\", \"Columbia\", \"Columbia\", \"Columbia\", \"Columbia\", \"Columbia\", \"Columbia\", \"Columbia\", \"Columbia\", \"Columbia\", \"Columbia\", \"Columbia\", \"Columbia\", \"Columbia\", \"Columbia\", \"Columbia\", \"Columbia\", \"Columbia\", \"Columbia\", \"Columbia\", \"Columbia\", \"Columbia\", \"Columbia\", \"Columbia\", \"Columbia\", \"Columbia\", \"Columbia\", \"Columbia\", \"Columbia\", \"Columbia\", \"Columbia\", \"Columbia\", \"Columbia\", \"Columbia\", \"Columbia\", \"Columbia\", \"Columbia\", \"Columbia\", \"Columbia\", \"Columbia\", \"Columbia\", \"Columbia\", \"Columbia\", \"Columbia\", \"Columbia\", \"Columbia\", \"Columbia\", \"Columbia\", \"Columbia\", \"Columbia\", \"Columbia\", \"Columbia\", \"Columbia\", \"Columbia\", \"Columbia\", \"Columbia\", \"Columbia\", \"Columbia\", \"Columbia\", \"Columbia\", \"Columbia\", \"Columbia\", \"Columbia\", \"Columbia\", \"Columbia\", \"Columbia\", \"Columbia\", \"Columbia\", \"Columbia\", \"Columbia\", \"Columbia\", \"Columbia\", \"Columbia\", \"Columbia\", \"Columbia\", \"Columbia\", \"Columbia\", \"Columbia\", \"Columbia\", \"Columbia\", \"Columbia\", \"Columbia\", \"Columbia\", \"Columbia\", \"Columbia\", \"Columbia\", \"Columbia\", \"Columbia\", \"Columbia\", \"Columbia\", \"Columbia\", \"Columbia\", \"Columbia\", \"Columbia\", \"Columbia\", \"Columbia\", \"Columbia\", \"Columbia\", \"Columbia\", \"Columbia\", \"Columbia\", \"Columbia\", \"Columbia\", \"Columbia\", \"Columbia\", \"Columbia\", \"Columbia\", \"Columbia\", \"Columbia\", \"Columbia\", \"Columbia\", \"Columbia\", \"Columbia\", \"Columbia\", \"Columbia\", \"Columbia\", \"Columbia\", \"Columbia\", \"Columbia\", \"Columbia\", \"Columbia\", \"Columbia\", \"Columbia\", \"Columbia\", \"Columbia\", \"Columbia\", \"Columbia\", \"Columbia\", \"Columbia\", \"Columbia\", \"Columbia\", \"Columbia\", \"Columbia\", \"Columbia\", \"Columbia\", \"Columbia\", \"Columbia\", \"Columbia\", \"Columbia\", \"Columbia\", \"Columbia\", \"Columbia\", \"Columbia\", \"Columbia\", \"Columbia\", \"Columbia\", \"Columbia\", \"Columbia\", \"Columbia\", \"Columbia\", \"Columbia\", \"Columbia\", \"Columbia\", \"Columbia\", \"Columbia\", \"Columbia\", \"Columbia\", \"Columbia\", \"Columbia\", \"Columbia\", \"Columbia\", \"Columbia\", \"Columbia\", \"Columbia\", \"Columbia\", \"Columbia\", \"Columbia\", \"Columbia\", \"Columbia\", \"Columbia\", \"Columbia\", \"Columbia\", \"Columbia\", \"Columbia\", \"Columbia\", \"Columbia\", \"Columbia\", \"Columbia\", \"Columbia\", \"Columbia\", \"Columbia\", \"Columbia\", \"Columbia\", \"Columbia\", \"Columbia\", \"Columbia\", \"Columbia\", \"Columbia\", \"Columbia\", \"Columbia\", \"Columbia\", \"Columbia\", \"Columbia\", \"Columbia\", \"Columbia\", \"Columbia\", \"Columbia\", \"Columbia\", \"Columbia\", \"Columbia\", \"Columbia\", \"Columbia\", \"Columbia\", \"Columbia\", \"Columbia\", \"Columbia\", \"Columbia\", \"Columbia\", \"Columbia\", \"Columbia\", \"Columbia\", \"Columbia\", \"Columbia\", \"Columbia\", \"Columbia\", \"Columbia\", \"Columbia\", \"Columbia\", \"Columbia\", \"Columbia\", \"Columbia\", \"Columbia\", \"Columbia\", \"Columbia\", \"Columbia\", \"Columbia\", \"Columbia\", \"Columbia\", \"Columbia\", \"Columbia\", \"Columbia\", \"Columbia\", \"Columbia\", \"Columbia\", \"Columbia\", \"Columbia\", \"Columbia\", \"Columbia\", \"Columbia\", \"Columbia\", \"Columbia\", \"Columbia\", \"Columbia\", \"Columbia\", \"Columbia\", \"Columbia\", \"Columbia\", \"Columbia\", \"Columbia\", \"Columbia\", \"Columbia\", \"Columbia\", \"Columbia\", \"Columbia\", \"Columbia\", \"Columbia\", \"Columbia\", \"Columbia\", \"Columbia\", \"Columbia\", \"Columbia\", \"Columbia\", \"Columbia\", \"Columbia\", \"Columbia\", \"Columbia\", \"Columbia\", \"Columbia\", \"Columbia\", \"Columbia\", \"Columbia\", \"Columbia\", \"Columbia\", \"Columbia\", \"Columbia\", \"Columbia\", \"Columbia\", \"Columbia\", \"Columbia\", \"Columbia\", \"Columbia\", \"Columbia\", \"Columbia\", \"Columbia\", \"Columbia\", \"Columbia\", \"Columbia\", \"Columbia\", \"Columbia\", \"Columbia\", \"Columbia\", \"Columbia\", \"Columbia\", \"Columbia\", \"Columbia\", \"Columbia\", \"Columbia\", \"Columbia\", \"Columbia\", \"Columbia\", \"Columbia\", \"Columbia\", \"Columbia\", \"Columbia\", \"Columbia\", \"Columbia\", \"Columbia\", \"Columbia\", \"Columbia\", \"Columbia\", \"Columbia\", \"Columbia\", \"Columbia\", \"Columbia\", \"Columbia\", \"Columbia\", \"Columbia\", \"Columbia\", \"Columbia\", \"Columbia\", \"Columbia\", \"Columbia\", \"Columbia\", \"Columbia\", \"Columbia\", \"Columbia\", \"Columbia\", \"Columbia\", \"Columbia\", \"Columbia\", \"Columbia\", \"Columbia\", \"Columbia\"], \"lat\": [51.540490000000005, 51.52231, 51.54655, 51.54739, 51.54844, 51.53468, 51.52767, 51.539970000000004, 51.54375, 51.55041, 51.52525, 51.5374, 51.5366, 51.52698, 51.55015, 51.54403, 51.54899, 51.56077, 51.53917, 51.53395, 51.53071, 51.54945, 51.5342, 51.53085, 51.549820000000004, 51.5381, 51.53451, 51.533559999999994, 51.53163, 51.52973, 51.53577, 51.54602, 51.53255, 51.535920000000004, 51.54137, 51.538909999999994, 51.52655, 51.5375, 51.54407, 51.53602, 51.53031, 51.54871, 51.52749, 51.53881, 51.54383, 51.544509999999995, 51.53123, 51.53522, 51.53914, 51.535379999999996, 51.54437, 51.53433, 51.53365, 51.53893, 51.53725, 51.54517, 51.54143, 51.53644, 51.53734, 51.536559999999994, 51.53285, 51.529959999999996, 51.551829999999995, 51.54095, 51.54316, 51.537859999999995, 51.52727, 51.529790000000006, 51.55972, 51.53133, 51.50326, 51.52135, 51.44762, 51.5715, 51.56991, 51.56671, 51.56402, 51.565540000000006, 51.53569, 51.53567, 51.55852, 51.551840000000006, 51.539809999999996, 51.532740000000004, 51.54285, 51.54016, 51.554159999999996, 51.53569, 51.543409999999994, 51.52897, 51.53304, 51.5277, 51.550909999999995, 51.53247, 51.53505, 51.5412, 51.5428, 51.52811, 51.5298, 51.52932, 51.54659, 51.528890000000004, 51.54552, 51.55056, 51.53785, 51.537, 51.53974, 51.539429999999996, 51.54977, 51.55522, 51.538090000000004, 51.5496, 51.536159999999995, 51.55695, 51.5322, 51.54564, 51.53675, 51.54548, 51.54325, 51.53499, 51.540929999999996, 51.54484, 51.53903, 51.53079, 51.54562, 51.544270000000004, 51.53941, 51.53477, 51.54148, 51.53481, 51.53937, 51.53828, 51.540079999999996, 51.53002, 51.55473, 51.52505, 51.539970000000004, 51.53935, 51.55299, 51.558840000000004, 51.54582, 51.538059999999994, 51.53845, 51.54845, 51.536359999999995, 51.525009999999995, 51.53519, 51.54549, 51.541059999999995, 51.534929999999996, 51.53821, 51.54981, 51.52598, 51.54032, 51.524409999999996, 51.531859999999995, 51.53865, 51.54122, 51.54226, 51.53934, 51.55976, 51.5366, 51.53037, 51.53453, 51.53013, 51.52639, 51.539320000000004, 51.53028, 51.532059999999994, 51.54586, 51.531209999999994, 51.54123, 51.542320000000004, 51.54083, 51.53844, 51.54352, 51.52899, 51.53584, 51.53801, 51.53332, 51.557179999999995, 51.53368, 51.5237, 51.530190000000005, 51.51762, 51.53106, 51.52838, 51.51538, 51.53332, 51.53355, 51.53351, 51.53045, 51.530590000000004, 51.53117, 51.5325, 51.52482, 51.53004, 51.52248, 51.52577, 51.518570000000004, 51.531259999999996, 51.52888, 51.530229999999996, 51.52819, 51.53412, 51.529140000000005, 51.53297, 51.532059999999994, 51.52603, 51.52724, 51.53144, 51.52278, 51.53072, 51.523999999999994, 51.52602, 51.52771, 51.51775, 51.52726, 51.53089, 51.53033, 51.5327, 51.525659999999995, 51.52639, 51.51529, 51.529720000000005, 51.52405, 51.52446, 51.531940000000006, 51.532509999999995, 51.52964, 51.530640000000005, 51.52413, 51.532779999999995, 51.512840000000004, 51.52796, 51.52683, 51.52747, 51.52836, 51.52689, 51.532270000000004, 51.52621, 51.519059999999996, 51.53528, 51.528890000000004, 51.52779, 51.53049, 51.52574, 51.530609999999996, 51.52554, 51.52435, 51.52657, 51.51675, 51.5257, 51.52609, 51.523740000000004, 51.52475, 51.52361, 51.527029999999996, 51.52995, 51.51636, 51.531490000000005, 51.532059999999994, 51.52122, 51.52698, 51.52755, 51.51182, 51.53151, 51.51536, 51.527, 51.53286, 51.527229999999996, 51.52452, 51.52928, 51.54338, 51.52069, 51.5197, 51.53967, 51.52669, 51.52678, 51.52662, 51.547540000000005, 51.53868, 51.54107, 51.528040000000004, 51.521770000000004, 51.52983, 51.519290000000005, 51.5338, 51.52758, 51.52465, 51.532059999999994, 51.531909999999996, 51.53025, 51.532070000000004, 51.525490000000005, 51.52814, 51.53042, 51.525859999999994, 51.51806, 51.52709, 51.53439, 51.52836, 51.52737, 51.51024, 51.524229999999996, 51.527770000000004, 51.52345, 51.53045, 51.52747, 51.52106, 51.53295, 51.52228, 51.52493, 51.52856, 51.52885, 51.52753, 51.52449, 51.52818, 51.514990000000004, 51.53052, 51.52905, 51.52306, 51.52316, 51.53106, 51.524570000000004, 51.528240000000004, 51.5306, 51.53348, 51.53228, 51.5244, 51.525909999999996, 51.52941, 51.52303, 51.528909999999996, 51.52424, 51.53174, 51.517179999999996, 51.53306, 51.53014, 51.52404, 51.518679999999996, 51.52412, 51.52968, 51.528259999999996, 51.529720000000005, 51.57948, 51.52722], \"legendgroup\": \"Columbia\", \"lon\": [-0.09041, -0.09144, -0.0958, -0.09416000000000001, -0.09371, -0.09497, -0.0895, -0.08926, -0.09321, -0.0794, -0.08165, -0.08004, -0.0786, -0.08413, -0.07264, -0.03503, -0.06681000000000001, -0.06006, -0.06561, -0.06498, -0.09035, -0.06859, -0.06314, -0.07332000000000001, -0.05956, -0.08602, -0.0633, -0.06495, -0.0779, -0.07478, -0.06319, -0.042910000000000004, -0.07107000000000001, -0.062270000000000006, -0.06477000000000001, -0.07325, -0.07746, -0.07463, -0.07479, -0.054920000000000004, -0.08885, -0.06735, -0.08135, -0.0767, -0.062220000000000004, -0.07461, -0.07165, -0.07804, -0.06377000000000001, -0.0553, -0.07372000000000001, -0.06941, -0.07537, -0.06829, -0.0754, -0.0691, -0.07533, -0.08004, -0.07109, -0.07842, -0.06625, -0.07547999999999999, -0.07314, -0.05824, -0.05549, -0.07771, -0.08585, -0.08585, -0.06269, -0.07286000000000001, -0.07816000000000001, -0.1087, -0.11825999999999999, 0.0021100000000000003, 0.0004, -0.0072299999999999994, -0.015609999999999999, -0.014469999999999998, -0.0775, -0.0726, -0.04968, -0.05474, -0.08417000000000001, -0.09361, -0.028489999999999998, -0.06654, -0.06681000000000001, -0.09011, -0.05636, -0.08021, -0.08684, -0.08276, -0.0705, -0.07003, -0.07328, -0.06938, -0.05176, -0.07774, -0.08431, -0.0857, -0.0538, -0.08657999999999999, -0.055720000000000006, -0.05886, -0.0577, -0.06831, -0.05404, -0.06773, -0.04359, -0.07182999999999999, -0.061470000000000004, -0.06996000000000001, -0.07546, -0.04974, -0.07658999999999999, -0.05507000000000001, -0.07495, -0.05101, -0.05685, -0.07572000000000001, -0.05269, -0.0479, -0.08549, -0.07432000000000001, -0.07282999999999999, -0.07048, -0.06802000000000001, -0.07596, -0.07725, -0.06971000000000001, -0.056260000000000004, -0.0549, -0.07306, -0.08467999999999999, -0.05747000000000001, -0.07687999999999999, -0.05176, -0.05086, -0.07214, -0.06076, -0.05099, -0.08596000000000001, -0.07866000000000001, -0.06095, -0.06787, -0.07959, -0.07574, -0.06892000000000001, -0.04906, -0.07153, -0.0831, -0.055560000000000005, -0.08247, -0.0505, -0.08167, -0.06917999999999999, -0.05775, -0.0676, -0.056760000000000005, -0.06665, -0.0594, -0.07321, -0.0824, -0.06402999999999999, -0.07561, -0.07666, -0.05702, -0.07437, -0.08032, -0.07042999999999999, -0.07877, -0.04848, -0.04844, -0.04777, -0.057429999999999995, -0.07461, -0.07603, -0.07786, -0.05499, -0.07200000000000001, -0.05011, -0.043789999999999996, -0.056229999999999995, -0.07307999999999999, -0.07574, -0.04088, -0.06642999999999999, -0.010879999999999999, -0.055689999999999996, -0.05594, -0.0557, -0.07047, -0.07188, -0.0568, -0.04991, -0.07257000000000001, -0.06481, -0.046669999999999996, -0.06591, -0.06806, -0.03938, -0.07468, -0.07285, -0.07214, -0.06044, -0.06988, -0.05017, -0.054329999999999996, -0.07135, -0.059539999999999996, -0.06357, -0.0661, -0.0603, -0.07041, -0.07103, -0.06948, -0.06997, -0.026910000000000003, -0.060989999999999996, -0.03258, -0.06266000000000001, -0.07504, -0.04972, -0.07099, -0.06387999999999999, -0.07242, -0.06932, -0.06477999999999999, -0.06069, -0.059379999999999995, -0.06975, -0.06799, -0.05379, -0.02026, -0.05822000000000001, -0.062439999999999996, -0.043539999999999995, -0.05085, -0.05217, -0.04515, -0.06758, -0.03659, -0.03304, -0.0718, -0.0719, -0.04118, -0.07508, -0.061829999999999996, -0.0723, -0.0629, -0.06387999999999999, -0.00727, -0.07099, -0.07094, -0.06683, -0.07015, -0.06687, -0.0681, -0.053860000000000005, -0.06999, -0.057960000000000005, -0.05814, -0.07475, -0.07631, -0.0665, -0.06663999999999999, -0.04315, -0.06215, -0.07277, -0.061739999999999996, -0.04406, -0.07577, -0.06719, -0.0221, -0.05186, -0.05195, -0.09673999999999999, -0.09282, -0.08902, -0.09693, -0.09212999999999999, -0.08922000000000001, -0.09981, -0.06444, -0.07517, -0.06973, -0.0487, -0.06129, -0.07353, -0.05976, -0.060070000000000005, -0.05802, -0.07297999999999999, -0.0515, -0.07012, -0.06679, -0.06427999999999999, -0.071, -0.02461, -0.056670000000000005, -0.05471, -0.04038, -0.07552, -0.05975, -0.07062, -0.04263, -0.04432, -0.0705, -0.0535, -0.07468, -0.06404, -0.050710000000000005, -0.07188, -0.053529999999999994, -0.05148, -0.050960000000000005, -0.07186000000000001, -0.04233, -0.07318, -0.058879999999999995, -0.05915, -0.059829999999999994, -0.03812, -0.06121, -0.015030000000000002, -0.049339999999999995, -0.041460000000000004, -0.05458, -0.03635, -0.0708, -0.07335, -0.0497, -0.07576000000000001, -0.06923, -0.07123, -0.06444, -0.06828, -0.06151, -0.04432, -0.02897, -0.06667999999999999, -0.06676, -0.06402999999999999, -0.04113, -0.06879, -0.08031, -0.06006], \"marker\": {\"color\": \"#ab63fa\"}, \"mode\": \"markers\", \"name\": \"Columbia\", \"showlegend\": true, \"subplot\": \"mapbox\", \"type\": \"scattermapbox\"}, {\"customdata\": [[\"17.22 %\"], [\"4.32 %\"], [\"-8.57 %\"], [\"134.43 %\"], [\"-6.23 %\"], [\"11.36 %\"], [\"110.99 %\"], [\"-35.53 %\"], [\"115.68 %\"], [\"17.22 %\"], [\"40.66 %\"], [\"-28.50 %\"], [\"-58.97 %\"], [\"46.52 %\"], [\"5.50 %\"], [\"4.32 %\"], [\"48.87 %\"], [\"17.22 %\"], [\"-61.60 %\"], [\"-45.15 %\"], [\"-45.15 %\"], [\"-35.65 %\"], [\"-0.10 %\"], [\"116.74 %\"], [\"55.78 %\"], [\"-8.56 %\"], [\"15.14 %\"], [\"23.61 %\"], [\"16.84 %\"], [\"-23.80 %\"], [\"-8.56 %\"], [\"-18.72 %\"], [\"-23.74 %\"], [\"-41.07 %\"], [\"-32.75 %\"], [\"-44.54 %\"]], \"hovertemplate\": \"<b>%{hovertext}</b><br><br>Place=Salusbury<br>latitude=%{lat}<br>longitude=%{lon}<br>Price difference=%{customdata[0]}<extra></extra>\", \"hovertext\": [\"Salusbury\", \"Salusbury\", \"Salusbury\", \"Salusbury\", \"Salusbury\", \"Salusbury\", \"Salusbury\", \"Salusbury\", \"Salusbury\", \"Salusbury\", \"Salusbury\", \"Salusbury\", \"Salusbury\", \"Salusbury\", \"Salusbury\", \"Salusbury\", \"Salusbury\", \"Salusbury\", \"Salusbury\", \"Salusbury\", \"Salusbury\", \"Salusbury\", \"Salusbury\", \"Salusbury\", \"Salusbury\", \"Salusbury\", \"Salusbury\", \"Salusbury\", \"Salusbury\", \"Salusbury\", \"Salusbury\", \"Salusbury\", \"Salusbury\", \"Salusbury\", \"Salusbury\", \"Salusbury\"], \"lat\": [51.53224, 51.531209999999994, 51.53496, 51.53582, 51.54829, 51.54063, 51.537, 51.5355, 51.5402, 51.537929999999996, 51.537259999999996, 51.54198, 51.538140000000006, 51.53335, 51.54569, 51.54081, 51.54016, 51.54098, 51.530570000000004, 51.531000000000006, 51.530570000000004, 51.53624, 51.539809999999996, 51.537279999999996, 51.53653, 51.53148, 51.53783, 51.5303, 51.53225, 51.53196, 51.530390000000004, 51.53125, 51.52887, 51.52887, 51.5257, 51.53184], \"legendgroup\": \"Salusbury\", \"lon\": [-0.20071, -0.22703, -0.22634, -0.20252, -0.22250999999999999, -0.2075, -0.20315999999999998, -0.2034, -0.20132, -0.19617, -0.19579000000000002, -0.20184000000000002, -0.19948, -0.21333000000000002, -0.21568, -0.21744000000000002, -0.20794, -0.20690999999999998, -0.20240999999999998, -0.20232999999999998, -0.20055, -0.19684000000000001, -0.20970999999999998, -0.19937, -0.20615999999999998, -0.22183000000000003, -0.20290999999999998, -0.19584000000000001, -0.19379000000000002, -0.23288000000000003, -0.22284, -0.22439, -0.20486, -0.20535, -0.2009, -0.20920999999999998], \"marker\": {\"color\": \"#FFA15A\"}, \"mode\": \"markers\", \"name\": \"Salusbury\", \"showlegend\": true, \"subplot\": \"mapbox\", \"type\": \"scattermapbox\"}, {\"customdata\": [[\"-44.28 %\"], [\"77.60 %\"], [\"-9.46 %\"], [\"-4.23 %\"], [\"16.66 %\"], [\"-12.94 %\"], [\"13.18 %\"], [\"23.63 %\"], [\"70.64 %\"], [\"143.77 %\"], [\"74.12 %\"], [\"-56.47 %\"], [\"-33.83 %\"], [\"9.74 %\"], [\"44.40 %\"], [\"-31.05 %\"], [\"1.13 %\"], [\"-19.56 %\"], [\"14.92 %\"], [\"5.17 %\"], [\"5.17 %\"]], \"hovertemplate\": \"<b>%{hovertext}</b><br><br>Place=Abbeville<br>latitude=%{lat}<br>longitude=%{lon}<br>Price difference=%{customdata[0]}<extra></extra>\", \"hovertext\": [\"Abbeville\", \"Abbeville\", \"Abbeville\", \"Abbeville\", \"Abbeville\", \"Abbeville\", \"Abbeville\", \"Abbeville\", \"Abbeville\", \"Abbeville\", \"Abbeville\", \"Abbeville\", \"Abbeville\", \"Abbeville\", \"Abbeville\", \"Abbeville\", \"Abbeville\", \"Abbeville\", \"Abbeville\", \"Abbeville\", \"Abbeville\"], \"lat\": [51.45715, 51.45775, 51.456579999999995, 51.453540000000004, 51.45726, 51.454840000000004, 51.45446, 51.45389, 51.45306, 51.45645, 51.45734, 51.45786, 51.45821, 51.450140000000005, 51.4508, 51.45507, 51.45321, 51.45856, 51.45881, 51.45129, 51.45513], \"legendgroup\": \"Abbeville\", \"lon\": [-0.14300000000000002, -0.13279000000000002, -0.12609, -0.14315999999999998, -0.12535, -0.13710999999999998, -0.14182999999999998, -0.14415, -0.13022999999999998, -0.13099, -0.12737, -0.12552, -0.12675999999999998, -0.15042, -0.14889000000000002, -0.13248, -0.14176, -0.14290999999999998, -0.12630999999999998, -0.14434, -0.15370999999999999], \"marker\": {\"color\": \"#19d3f3\"}, \"mode\": \"markers\", \"name\": \"Abbeville\", \"showlegend\": true, \"subplot\": \"mapbox\", \"type\": \"scattermapbox\"}, {\"customdata\": [[\"39.63 %\"], [\"4.72 %\"], [\"74.54 %\"], [\"-44.47 %\"], [\"90.40 %\"], [\"-30.19 %\"], [\"-20.67 %\"], [\"11.07 %\"], [\"-22.25 %\"], [\"42.80 %\"], [\"3.14 %\"], [\"30.11 %\"], [\"737.78 %\"], [\"17.42 %\"], [\"1.55 %\"], [\"4.72 %\"], [\"-36.53 %\"], [\"-20.67 %\"], [\"77.15 %\"], [\"-1.58 %\"], [\"-14.71 %\"], [\"105.58 %\"], [\"-27.66 %\"], [\"-31.21 %\"], [\"-9.12 %\"], [\"-9.12 %\"], [\"-27.29 %\"], [\"107.22 %\"], [\"-30.93 %\"], [\"-9.12 %\"], [\"-13.90 %\"], [\"-13.90 %\"], [\"-17.60 %\"], [\"-21.77 %\"], [\"9.52 %\"], [\"30.38 %\"], [\"14.73 %\"], [\"-26.99 %\"], [\"-21.77 %\"], [\"133.64 %\"], [\"-46.81 %\"], [\"159.71 %\"], [\"16.82 %\"], [\"20.99 %\"], [\"-23.86 %\"], [\"-17.60 %\"], [\"42.89 %\"], [\"49.15 %\"], [\"17.86 %\"], [\"-19.69 %\"], [\"-17.60 %\"], [\"-15.61 %\"], [\"14.00 %\"], [\"8.57 %\"], [\"-33.05 %\"], [\"26.67 %\"], [\"68.29 %\"], [\"-18.57 %\"], [\"-12.54 %\"], [\"29.74 %\"]], \"hovertemplate\": \"<b>%{hovertext}</b><br><br>Place=Barbican<br>latitude=%{lat}<br>longitude=%{lon}<br>Price difference=%{customdata[0]}<extra></extra>\", \"hovertext\": [\"Barbican\", \"Barbican\", \"Barbican\", \"Barbican\", \"Barbican\", \"Barbican\", \"Barbican\", \"Barbican\", \"Barbican\", \"Barbican\", \"Barbican\", \"Barbican\", \"Barbican\", \"Barbican\", \"Barbican\", \"Barbican\", \"Barbican\", \"Barbican\", \"Barbican\", \"Barbican\", \"Barbican\", \"Barbican\", \"Barbican\", \"Barbican\", \"Barbican\", \"Barbican\", \"Barbican\", \"Barbican\", \"Barbican\", \"Barbican\", \"Barbican\", \"Barbican\", \"Barbican\", \"Barbican\", \"Barbican\", \"Barbican\", \"Barbican\", \"Barbican\", \"Barbican\", \"Barbican\", \"Barbican\", \"Barbican\", \"Barbican\", \"Barbican\", \"Barbican\", \"Barbican\", \"Barbican\", \"Barbican\", \"Barbican\", \"Barbican\", \"Barbican\", \"Barbican\", \"Barbican\", \"Barbican\", \"Barbican\", \"Barbican\", \"Barbican\", \"Barbican\", \"Barbican\", \"Barbican\"], \"lat\": [51.52231, 51.52925, 51.52418, 51.52447, 51.5519, 51.52622, 51.52316, 51.52686, 51.52507, 51.52431, 51.52612, 51.5469, 51.52469, 51.52515, 51.54234, 51.54003, 51.524640000000005, 51.5253, 51.52525, 51.52977, 51.53071, 51.53308, 51.4958, 51.552459999999996, 51.53068, 51.532740000000004, 51.528890000000004, 51.52753, 51.533, 51.53348, 51.511109999999995, 51.5259, 51.522090000000006, 51.53, 51.52296, 51.5234, 51.52834, 51.52669, 51.5266, 51.52004, 51.529340000000005, 51.52872, 51.52662, 51.52748, 51.52308, 51.523309999999995, 51.52467, 51.53581, 51.52329, 51.5218, 51.522079999999995, 51.51441, 51.51937, 51.52299, 51.51788, 51.52162, 51.516659999999995, 51.51054, 51.52189, 51.52236], \"legendgroup\": \"Barbican\", \"lon\": [-0.09144, -0.11127999999999999, -0.09014, -0.09576, -0.08918999999999999, -0.09362999999999999, -0.09933, -0.09126000000000001, -0.09222999999999999, -0.09676, -0.09852999999999999, -0.09534, -0.091, -0.10265, -0.08837, -0.10390999999999999, -0.09122999999999999, -0.08989, -0.08165, -0.08597, -0.09035, -0.09547, -0.07255, -0.15824000000000002, -0.08932999999999999, -0.09361, -0.08657999999999999, -0.0863, -0.0809, -0.09429, -0.06773, -0.07332000000000001, -0.10567, -0.11001, -0.09461, -0.1021, -0.09516000000000001, -0.09282, -0.09772, -0.10164, -0.09651, -0.09779, -0.09693, -0.09502999999999999, -0.10157999999999999, -0.09348, -0.10887000000000001, -0.09214, -0.09002, -0.10587, -0.10602, -0.06301, -0.09562999999999999, -0.09764, -0.10185, -0.09449, -0.0886, -0.07848, -0.09611, -0.0966], \"marker\": {\"color\": \"#FF6692\"}, \"mode\": \"markers\", \"name\": \"Barbican\", \"showlegend\": true, \"subplot\": \"mapbox\", \"type\": \"scattermapbox\"}, {\"customdata\": [[\"50.74 %\"], [\"-27.89 %\"], [\"-7.94 %\"], [\"29.93 %\"], [\"153.74 %\"], [\"52.86 %\"], [\"110.94 %\"], [\"14.64 %\"], [\"-34.27 %\"], [\"-38.86 %\"], [\"-15.93 %\"], [\"25.34 %\"], [\"25.34 %\"], [\"141.51 %\"], [\"29.93 %\"], [\"129.28 %\"], [\"205.71 %\"], [\"-25.10 %\"], [\"-31.21 %\"], [\"-15.93 %\"], [\"-15.93 %\"], [\"-67.90 %\"], [\"52.86 %\"], [\"22.28 %\"], [\"22.28 %\"], [\"-18.99 %\"], [\"-74.01 %\"], [\"36.04 %\"], [\"263.80 %\"], [\"29.45 %\"], [\"-22.97 %\"], [\"2.71 %\"], [\"-14.41 %\"], [\"9.55 %\"], [\"-15.27 %\"], [\"-18.69 %\"], [\"-31.53 %\"], [\"54.06 %\"], [\"72.03 %\"], [\"-9.28 %\"], [\"-18.69 %\"], [\"-15.27 %\"], [\"15.55 %\"], [\"-44.37 %\"], [\"19.83 %\"], [\"-22.97 %\"], [\"-14.41 %\"], [\"-0.72 %\"], [\"-21.26 %\"], [\"11.27 %\"], [\"-27.25 %\"], [\"-13.55 %\"], [\"6.13 %\"], [\"15.78 %\"], [\"-21.77 %\"], [\"14.73 %\"], [\"-23.74 %\"], [\"-37.61 %\"], [\"-24.43 %\"], [\"-54.76 %\"], [\"55.99 %\"], [\"92.93 %\"]], \"hovertemplate\": \"<b>%{hovertext}</b><br><br>Place=Bloomsbury<br>latitude=%{lat}<br>longitude=%{lon}<br>Price difference=%{customdata[0]}<extra></extra>\", \"hovertext\": [\"Bloomsbury\", \"Bloomsbury\", \"Bloomsbury\", \"Bloomsbury\", \"Bloomsbury\", \"Bloomsbury\", \"Bloomsbury\", \"Bloomsbury\", \"Bloomsbury\", \"Bloomsbury\", \"Bloomsbury\", \"Bloomsbury\", \"Bloomsbury\", \"Bloomsbury\", \"Bloomsbury\", \"Bloomsbury\", \"Bloomsbury\", \"Bloomsbury\", \"Bloomsbury\", \"Bloomsbury\", \"Bloomsbury\", \"Bloomsbury\", \"Bloomsbury\", \"Bloomsbury\", \"Bloomsbury\", \"Bloomsbury\", \"Bloomsbury\", \"Bloomsbury\", \"Bloomsbury\", \"Bloomsbury\", \"Bloomsbury\", \"Bloomsbury\", \"Bloomsbury\", \"Bloomsbury\", \"Bloomsbury\", \"Bloomsbury\", \"Bloomsbury\", \"Bloomsbury\", \"Bloomsbury\", \"Bloomsbury\", \"Bloomsbury\", \"Bloomsbury\", \"Bloomsbury\", \"Bloomsbury\", \"Bloomsbury\", \"Bloomsbury\", \"Bloomsbury\", \"Bloomsbury\", \"Bloomsbury\", \"Bloomsbury\", \"Bloomsbury\", \"Bloomsbury\", \"Bloomsbury\", \"Bloomsbury\", \"Bloomsbury\", \"Bloomsbury\", \"Bloomsbury\", \"Bloomsbury\", \"Bloomsbury\", \"Bloomsbury\", \"Bloomsbury\", \"Bloomsbury\"], \"lat\": [51.52968, 51.59896, 51.45848, 51.5244, 51.52426, 51.52855, 51.52248, 51.5328, 51.52152, 51.5195, 51.520590000000006, 51.528659999999995, 51.52852, 51.5263, 51.51847, 51.52539, 51.52239, 51.52708, 51.52261, 51.52713, 51.5283, 51.526759999999996, 51.52126, 51.52691, 51.5199, 51.52267, 51.526270000000004, 51.519659999999995, 51.51831, 51.52225, 51.52745, 51.52193, 51.52621, 51.527879999999996, 51.52689, 51.52404, 51.52378, 51.52009, 51.5223, 51.51935, 51.52688, 51.53922, 51.52582, 51.52217, 51.52367, 51.522420000000004, 51.5212, 51.52463, 51.522059999999996, 51.51784, 51.526270000000004, 51.526740000000004, 51.5198, 51.547709999999995, 51.53, 51.52834, 51.51967, 51.519090000000006, 51.52097, 51.51771, 51.526, 51.52588], \"legendgroup\": \"Bloomsbury\", \"lon\": [-0.11265, -0.10744000000000001, -0.08822999999999999, -0.11499000000000001, -0.11441, -0.11624000000000001, -0.13218, -0.12911, -0.13746, -0.11145999999999999, -0.1231, -0.11639000000000001, -0.11699999999999999, -0.12395, -0.12455, -0.12922, -0.12305, -0.13651, -0.11945, -0.12087, -0.12003, -0.13915, -0.13369, -0.12045, -0.11080999999999999, -0.13297, -0.13895, -0.13285999999999998, -0.1325, -0.14096, -0.12289000000000001, -0.13973, -0.11606, -0.12529, -0.11788, -0.11463, -0.11757000000000001, -0.12941, -0.11342, -0.12462000000000001, -0.12459, -0.12412000000000001, -0.12297000000000001, -0.11749000000000001, -0.11572, -0.13377999999999998, -0.12317, -0.14135999999999999, -0.11769, -0.12645, -0.12535, -0.12602, -0.13374, -0.12414000000000001, -0.11001, -0.09516000000000001, -0.16151, -0.14014000000000001, -0.16025999999999999, -0.11016, -0.11673, -0.1182], \"marker\": {\"color\": \"#B6E880\"}, \"mode\": \"markers\", \"name\": \"Bloomsbury\", \"showlegend\": true, \"subplot\": \"mapbox\", \"type\": \"scattermapbox\"}, {\"customdata\": [[\"52.00 %\"], [\"27.24 %\"], [\"92.67 %\"], [\"27.24 %\"], [\"11.93 %\"], [\"106.65 %\"], [\"-13.90 %\"], [\"-39.05 %\"], [\"3.14 %\"], [\"31.27 %\"], [\"-20.30 %\"], [\"4.08 %\"], [\"12.52 %\"], [\"-3.42 %\"]], \"hovertemplate\": \"<b>%{hovertext}</b><br><br>Place=Redchurch<br>latitude=%{lat}<br>longitude=%{lon}<br>Price difference=%{customdata[0]}<extra></extra>\", \"hovertext\": [\"Redchurch\", \"Redchurch\", \"Redchurch\", \"Redchurch\", \"Redchurch\", \"Redchurch\", \"Redchurch\", \"Redchurch\", \"Redchurch\", \"Redchurch\", \"Redchurch\", \"Redchurch\", \"Redchurch\", \"Redchurch\"], \"lat\": [51.52655, 51.53675, 51.52514, 51.52505, 51.519, 51.52771, 51.5259, 51.52349, 51.53025, 51.525859999999994, 51.52493, 51.52675, 51.525909999999996, 51.524190000000004], \"legendgroup\": \"Redchurch\", \"lon\": [-0.08027000000000001, -0.07495, -0.0802, -0.07687999999999999, -0.06416000000000001, -0.06948, -0.07332000000000001, -0.07442, -0.07297999999999999, -0.071, -0.07188, -0.07082999999999999, -0.07335, -0.0743], \"marker\": {\"color\": \"#FF97FF\"}, \"mode\": \"markers\", \"name\": \"Redchurch\", \"showlegend\": true, \"subplot\": \"mapbox\", \"type\": \"scattermapbox\"}, {\"customdata\": [[\"7.99 %\"], [\"10.42 %\"], [\"21.34 %\"], [\"15.27 %\"], [\"39.54 %\"], [\"39.54 %\"], [\"-9.00 %\"], [\"70.07 %\"], [\"8.76 %\"], [\"-11.01 %\"], [\"34.47 %\"], [\"38.43 %\"], [\"29.91 %\"]], \"hovertemplate\": \"<b>%{hovertext}</b><br><br>Place=Turnham<br>latitude=%{lat}<br>longitude=%{lon}<br>Price difference=%{customdata[0]}<extra></extra>\", \"hovertext\": [\"Turnham\", \"Turnham\", \"Turnham\", \"Turnham\", \"Turnham\", \"Turnham\", \"Turnham\", \"Turnham\", \"Turnham\", \"Turnham\", \"Turnham\", \"Turnham\", \"Turnham\"], \"lat\": [51.49366, 51.49776, 51.49214, 51.48255, 51.49221, 51.49276, 51.48832, 51.49565, 51.497679999999995, 51.50437, 51.50558, 51.51093, 51.5067], \"legendgroup\": \"Turnham\", \"lon\": [-0.24955, -0.24618, -0.25927, -0.25242, -0.25899, -0.26024, -0.25435, -0.2569, -0.26883, -0.25847, -0.25415, -0.25788, -0.24959], \"marker\": {\"color\": \"#FECB52\"}, \"mode\": \"markers\", \"name\": \"Turnham\", \"showlegend\": true, \"subplot\": \"mapbox\", \"type\": \"scattermapbox\"}, {\"customdata\": [[\"52.32 %\"], [\"-20.67 %\"], [\"11.07 %\"], [\"98.34 %\"], [\"217.34 %\"], [\"33.28 %\"], [\"14.24 %\"], [\"42.80 %\"], [\"-36.53 %\"], [\"30.13 %\"], [\"-40.39 %\"], [\"22.28 %\"], [\"113.97 %\"], [\"-32.38 %\"], [\"6.99 %\"], [\"-14.41 %\"], [\"-13.90 %\"], [\"-21.77 %\"], [\"133.64 %\"], [\"14.73 %\"], [\"-21.77 %\"], [\"41.85 %\"], [\"2.22 %\"], [\"11.60 %\"], [\"-19.69 %\"], [\"-17.60 %\"], [\"20.29 %\"], [\"8.57 %\"], [\"-33.05 %\"], [\"-12.54 %\"]], \"hovertemplate\": \"<b>%{hovertext}</b><br><br>Place=Farringdon<br>latitude=%{lat}<br>longitude=%{lon}<br>Price difference=%{customdata[0]}<extra></extra>\", \"hovertext\": [\"Farringdon\", \"Farringdon\", \"Farringdon\", \"Farringdon\", \"Farringdon\", \"Farringdon\", \"Farringdon\", \"Farringdon\", \"Farringdon\", \"Farringdon\", \"Farringdon\", \"Farringdon\", \"Farringdon\", \"Farringdon\", \"Farringdon\", \"Farringdon\", \"Farringdon\", \"Farringdon\", \"Farringdon\", \"Farringdon\", \"Farringdon\", \"Farringdon\", \"Farringdon\", \"Farringdon\", \"Farringdon\", \"Farringdon\", \"Farringdon\", \"Farringdon\", \"Farringdon\", \"Farringdon\"], \"lat\": [51.5292, 51.52316, 51.52448, 51.520959999999995, 51.53675, 51.526990000000005, 51.52832, 51.5233, 51.526990000000005, 51.53588, 51.52169, 51.5199, 51.52019, 51.5206, 51.519090000000006, 51.51943, 51.511109999999995, 51.53, 51.52004, 51.52095, 51.56215, 51.525220000000004, 51.5275, 51.527429999999995, 51.5218, 51.522079999999995, 51.57134, 51.52299, 51.51788, 51.52189], \"legendgroup\": \"Farringdon\", \"lon\": [-0.11016, -0.09933, -0.08769, -0.10572000000000001, -0.11304000000000002, -0.10800000000000001, -0.11538, -0.10845999999999999, -0.11079000000000001, -0.08938, -0.11126, -0.11080999999999999, -0.10603, -0.10624000000000001, -0.11137000000000001, -0.1092, -0.06773, -0.11001, -0.10164, -0.10583, -0.10647999999999999, -0.09562999999999999, -0.11085999999999999, -0.11232, -0.10587, -0.10602, -0.10980999999999999, -0.09764, -0.10185, -0.09611], \"marker\": {\"color\": \"#636efa\"}, \"mode\": \"markers\", \"name\": \"Farringdon\", \"showlegend\": true, \"subplot\": \"mapbox\", \"type\": \"scattermapbox\"}, {\"customdata\": [[\"-14.46 %\"], [\"-21.83 %\"], [\"17.25 %\"], [\"-36.16 %\"], [\"-12.71 %\"], [\"56.34 %\"], [\"71.97 %\"], [\"-21.83 %\"], [\"25.07 %\"], [\"-10.11 %\"], [\"17.25 %\"], [\"23.77 %\"], [\"17.25 %\"], [\"-2.29 %\"], [\"4.22 %\"], [\"28.98 %\"], [\"23.77 %\"], [\"-28.35 %\"], [\"1.62 %\"], [\"-60.92 %\"], [\"-34.86 %\"], [\"95.42 %\"], [\"21.16 %\"], [\"69.36 %\"], [\"-34.86 %\"], [\"-31.12 %\"], [\"-15.22 %\"], [\"-15.22 %\"], [\"-4.63 %\"], [\"-25.82 %\"], [\"-4.63 %\"], [\"18.69 %\"], [\"69.55 %\"], [\"31.40 %\"], [\"-15.22 %\"], [\"3.85 %\"], [\"-42.78 %\"], [\"-35.36 %\"], [\"-4.63 %\"], [\"-35.36 %\"], [\"5.97 %\"], [\"36.70 %\"], [\"64.25 %\"], [\"-57.61 %\"], [\"12.33 %\"], [\"34.58 %\"], [\"-9.93 %\"], [\"7.32 %\"], [\"17.07 %\"], [\"-10.24 %\"]], \"hovertemplate\": \"<b>%{hovertext}</b><br><br>Place=Parsons<br>latitude=%{lat}<br>longitude=%{lon}<br>Price difference=%{customdata[0]}<extra></extra>\", \"hovertext\": [\"Parsons\", \"Parsons\", \"Parsons\", \"Parsons\", \"Parsons\", \"Parsons\", \"Parsons\", \"Parsons\", \"Parsons\", \"Parsons\", \"Parsons\", \"Parsons\", \"Parsons\", \"Parsons\", \"Parsons\", \"Parsons\", \"Parsons\", \"Parsons\", \"Parsons\", \"Parsons\", \"Parsons\", \"Parsons\", \"Parsons\", \"Parsons\", \"Parsons\", \"Parsons\", \"Parsons\", \"Parsons\", \"Parsons\", \"Parsons\", \"Parsons\", \"Parsons\", \"Parsons\", \"Parsons\", \"Parsons\", \"Parsons\", \"Parsons\", \"Parsons\", \"Parsons\", \"Parsons\", \"Parsons\", \"Parsons\", \"Parsons\", \"Parsons\", \"Parsons\", \"Parsons\", \"Parsons\", \"Parsons\", \"Parsons\", \"Parsons\"], \"lat\": [51.60255, 51.47573, 51.479279999999996, 51.4787, 51.471940000000004, 51.47132, 51.4729, 51.48033, 51.47226, 51.471959999999996, 51.474709999999995, 51.47598, 51.47263, 51.4735, 51.47952, 51.472970000000004, 51.47113, 51.475770000000004, 51.47063, 51.46843, 51.4763, 51.47044, 51.47534, 51.47041, 51.46826, 51.47404, 51.4732, 51.4748, 51.47902, 51.47807, 51.4722, 51.48253, 51.47798, 51.47382, 51.478190000000005, 51.47104, 51.47463, 51.46617, 51.47535, 51.48008, 51.473290000000006, 51.477909999999994, 51.491009999999996, 51.48337, 51.48012, 51.47019, 51.473009999999995, 51.47205, 51.47387, 51.48021], \"legendgroup\": \"Parsons\", \"lon\": [-0.19573, -0.20683, -0.20445, -0.19821, -0.20317000000000002, -0.18652, -0.20883000000000002, -0.20853000000000002, -0.20546999999999999, -0.20335, -0.19584000000000001, -0.191, -0.20811999999999997, -0.20901999999999998, -0.2056, -0.21355, -0.19566, -0.19560999999999998, -0.20052999999999999, -0.19789, -0.21241999999999997, -0.2051, -0.20210999999999998, -0.20483, -0.19602, -0.20284000000000002, -0.19468, -0.20521999999999999, -0.20303, -0.2064, -0.19644, -0.19984000000000002, -0.20753000000000002, -0.19664, -0.20855, -0.20504, -0.18675, -0.19197999999999998, -0.20075, -0.20664000000000002, -0.20478, -0.20279, -0.20799, -0.20734, -0.20455, -0.20911999999999997, -0.20955, -0.20479, -0.2044, -0.20272], \"marker\": {\"color\": \"#EF553B\"}, \"mode\": \"markers\", \"name\": \"Parsons\", \"showlegend\": true, \"subplot\": \"mapbox\", \"type\": \"scattermapbox\"}, {\"customdata\": [[\"-12.52 %\"], [\"-12.52 %\"], [\"-28.92 %\"], [\"3.88 %\"], [\"-17.99 %\"], [\"41.06 %\"], [\"84.80 %\"], [\"-19.08 %\"], [\"-28.92 %\"], [\"31.22 %\"], [\"-23.45 %\"], [\"16.33 %\"], [\"-5.48 %\"], [\"-27.29 %\"], [\"-9.12 %\"], [\"-0.03 %\"], [\"7.24 %\"], [\"-27.29 %\"], [\"-30.93 %\"], [\"54.50 %\"], [\"9.06 %\"], [\"34.51 %\"], [\"68.76 %\"], [\"40.64 %\"], [\"-15.61 %\"]], \"hovertemplate\": \"<b>%{hovertext}</b><br><br>Place=Mare<br>latitude=%{lat}<br>longitude=%{lon}<br>Price difference=%{customdata[0]}<extra></extra>\", \"hovertext\": [\"Mare\", \"Mare\", \"Mare\", \"Mare\", \"Mare\", \"Mare\", \"Mare\", \"Mare\", \"Mare\", \"Mare\", \"Mare\", \"Mare\", \"Mare\", \"Mare\", \"Mare\", \"Mare\", \"Mare\", \"Mare\", \"Mare\", \"Mare\", \"Mare\", \"Mare\", \"Mare\", \"Mare\", \"Mare\"], \"lat\": [51.5491, 51.550309999999996, 51.54255, 51.542629999999996, 51.54908, 51.549409999999995, 51.5552, 51.53882, 51.55919, 51.54438, 51.53801, 51.54678, 51.5541, 51.54552, 51.55375, 51.54642, 51.552690000000005, 51.541059999999995, 51.54695, 51.53764, 51.54077, 51.54927, 51.530609999999996, 51.53348, 51.53139], \"legendgroup\": \"Mare\", \"lon\": [-0.04918, -0.065, -0.04857, -0.0535, -0.057879999999999994, -0.0598, -0.05492999999999999, -0.055020000000000006, -0.05561, -0.05607, -0.05275, -0.057370000000000004, -0.055999999999999994, -0.055720000000000006, -0.05609, -0.0555, -0.04945, -0.04906, -0.05687999999999999, -0.0588, -0.05605, -0.04746, -0.061829999999999996, -0.05458, -0.045], \"marker\": {\"color\": \"#00cc96\"}, \"mode\": \"markers\", \"name\": \"Mare\", \"showlegend\": true, \"subplot\": \"mapbox\", \"type\": \"scattermapbox\"}, {\"customdata\": [[\"-22.36 %\"], [\"3.88 %\"], [\"25.75 %\"], [\"18.10 %\"], [\"44.34 %\"], [\"-12.75 %\"], [\"-9.12 %\"], [\"-27.29 %\"], [\"-18.20 %\"], [\"12.70 %\"], [\"-18.20 %\"], [\"63.59 %\"], [\"27.24 %\"], [\"63.59 %\"], [\"-13.90 %\"]], \"hovertemplate\": \"<b>%{hovertext}</b><br><br>Place=Geffrye<br>latitude=%{lat}<br>longitude=%{lon}<br>Price difference=%{customdata[0]}<extra></extra>\", \"hovertext\": [\"Geffrye\", \"Geffrye\", \"Geffrye\", \"Geffrye\", \"Geffrye\", \"Geffrye\", \"Geffrye\", \"Geffrye\", \"Geffrye\", \"Geffrye\", \"Geffrye\", \"Geffrye\", \"Geffrye\", \"Geffrye\", \"Geffrye\"], \"lat\": [51.53163, 51.52655, 51.53573, 51.55122, 51.53133, 51.55149, 51.53569, 51.53301, 51.53499, 51.53941, 51.53519, 51.54157, 51.54122, 51.531209999999994, 51.52876], \"legendgroup\": \"Geffrye\", \"lon\": [-0.0779, -0.07746, -0.07697000000000001, -0.07432000000000001, -0.07286000000000001, -0.0787, -0.0775, -0.08788, -0.07572000000000001, -0.06802000000000001, -0.07574, -0.06692999999999999, -0.0676, -0.07877, -0.07291], \"marker\": {\"color\": \"#ab63fa\"}, \"mode\": \"markers\", \"name\": \"Geffrye\", \"showlegend\": true, \"subplot\": \"mapbox\", \"type\": \"scattermapbox\"}, {\"customdata\": [[\"-7.05 %\"], [\"562.67 %\"], [\"-28.92 %\"], [\"64.03 %\"], [\"31.22 %\"], [\"-1.58 %\"], [\"-24.55 %\"], [\"-12.52 %\"], [\"-26.74 %\"], [\"137.29 %\"], [\"-33.30 %\"], [\"-7.05 %\"], [\"9.35 %\"], [\"-27.83 %\"], [\"47.62 %\"], [\"64.03 %\"], [\"-11.43 %\"], [\"-33.30 %\"], [\"102.30 %\"], [\"-22.36 %\"], [\"55.28 %\"], [\"-1.58 %\"], [\"-9.12 %\"], [\"19.97 %\"], [\"-38.20 %\"], [\"-45.47 %\"], [\"81.77 %\"], [\"27.24 %\"], [\"-0.03 %\"], [\"-36.38 %\"], [\"45.42 %\"], [\"36.33 %\"], [\"-45.47 %\"], [\"-9.12 %\"], [\"-47.29 %\"], [\"54.50 %\"], [\"99.95 %\"], [\"-32.75 %\"], [\"-0.03 %\"], [\"-5.48 %\"], [\"-18.20 %\"], [\"-21.84 %\"], [\"49.05 %\"], [\"9.06 %\"], [\"-36.38 %\"], [\"-0.03 %\"], [\"-36.38 %\"], [\"-27.29 %\"], [\"9.06 %\"], [\"-0.03 %\"], [\"-10.93 %\"], [\"-0.03 %\"], [\"-25.47 %\"], [\"-21.84 %\"], [\"-29.11 %\"], [\"63.59 %\"], [\"74.50 %\"], [\"-45.47 %\"], [\"-12.75 %\"], [\"-54.56 %\"], [\"172.65 %\"], [\"-17.34 %\"], [\"65.32 %\"], [\"-38.01 %\"], [\"37.76 %\"], [\"29.15 %\"], [\"3.32 %\"], [\"40.81 %\"], [\"-28.03 %\"], [\"-23.11 %\"], [\"21.89 %\"], [\"-39.05 %\"], [\"-18.43 %\"]], \"hovertemplate\": \"<b>%{hovertext}</b><br><br>Place=Haggerston<br>latitude=%{lat}<br>longitude=%{lon}<br>Price difference=%{customdata[0]}<extra></extra>\", \"hovertext\": [\"Haggerston\", \"Haggerston\", \"Haggerston\", \"Haggerston\", \"Haggerston\", \"Haggerston\", \"Haggerston\", \"Haggerston\", \"Haggerston\", \"Haggerston\", \"Haggerston\", \"Haggerston\", \"Haggerston\", \"Haggerston\", \"Haggerston\", \"Haggerston\", \"Haggerston\", \"Haggerston\", \"Haggerston\", \"Haggerston\", \"Haggerston\", \"Haggerston\", \"Haggerston\", \"Haggerston\", \"Haggerston\", \"Haggerston\", \"Haggerston\", \"Haggerston\", \"Haggerston\", \"Haggerston\", \"Haggerston\", \"Haggerston\", \"Haggerston\", \"Haggerston\", \"Haggerston\", \"Haggerston\", \"Haggerston\", \"Haggerston\", \"Haggerston\", \"Haggerston\", \"Haggerston\", \"Haggerston\", \"Haggerston\", \"Haggerston\", \"Haggerston\", \"Haggerston\", \"Haggerston\", \"Haggerston\", \"Haggerston\", \"Haggerston\", \"Haggerston\", \"Haggerston\", \"Haggerston\", \"Haggerston\", \"Haggerston\", \"Haggerston\", \"Haggerston\", \"Haggerston\", \"Haggerston\", \"Haggerston\", \"Haggerston\", \"Haggerston\", \"Haggerston\", \"Haggerston\", \"Haggerston\", \"Haggerston\", \"Haggerston\", \"Haggerston\", \"Haggerston\", \"Haggerston\", \"Haggerston\", \"Haggerston\", \"Haggerston\"], \"lat\": [51.54195, 51.53085, 51.544940000000004, 51.533559999999994, 51.53255, 51.53821, 51.538909999999994, 51.53747, 51.5375, 51.53852, 51.53881, 51.54437, 51.53433, 51.53365, 51.53734, 51.53747, 51.55153, 51.53629, 51.53748, 51.53967, 51.537859999999995, 51.539840000000005, 51.53569, 51.53567, 51.56147, 51.56105, 51.53665, 51.53712, 51.543409999999994, 51.543, 51.53247, 51.536159999999995, 51.53601, 51.5383, 51.53581, 51.53079, 51.54562, 51.53864, 51.53795, 51.53717, 51.53477, 51.53727, 51.54148, 51.53481, 51.53937, 51.539429999999996, 51.540079999999996, 51.536190000000005, 51.53845, 51.53869, 51.534929999999996, 51.53714, 51.531859999999995, 51.53654, 51.52639, 51.53765, 51.535920000000004, 51.5357, 51.53332, 51.54098, 51.53111, 51.530190000000005, 51.530590000000004, 51.53412, 51.531940000000006, 51.530640000000005, 51.52574, 51.53588, 51.54061, 51.52778, 51.53106, 51.528240000000004, 51.5306], \"legendgroup\": \"Haggerston\", \"lon\": [-0.06937, -0.07332000000000001, -0.08234, -0.06495, -0.07107000000000001, -0.07662000000000001, -0.07325, -0.07771, -0.07463, -0.08347, -0.0767, -0.07372000000000001, -0.06941, -0.07537, -0.07109, -0.07217, -0.06788, -0.07983, -0.08073, -0.08431, -0.07771, -0.07751, -0.0775, -0.0726, -0.045860000000000005, -0.046239999999999996, -0.06573999999999999, -0.07922, -0.05636, -0.07886, -0.07003, -0.07546, -0.07322999999999999, -0.08194, -0.07582, -0.07432000000000001, -0.07282999999999999, -0.0527, -0.07217, -0.067, -0.07596, -0.07443, -0.07725, -0.06971000000000001, -0.056260000000000004, -0.0743, -0.07306, -0.07642, -0.07866000000000001, -0.07427, -0.07153, -0.07409, -0.06917999999999999, -0.0662, -0.07666, -0.07361000000000001, -0.07401, -0.0759, -0.07200000000000001, -0.07656, -0.07063, -0.07307999999999999, -0.07188, -0.06044, -0.06477999999999999, -0.06975, -0.07508, -0.11839000000000001, -0.08585, -0.0503, -0.06121, -0.049339999999999995, -0.041460000000000004], \"marker\": {\"color\": \"#FFA15A\"}, \"mode\": \"markers\", \"name\": \"Haggerston\", \"showlegend\": true, \"subplot\": \"mapbox\", \"type\": \"scattermapbox\"}],                        {\"height\": 700, \"legend\": {\"title\": {\"text\": \"Place\"}, \"tracegroupgap\": 0}, \"mapbox\": {\"center\": {\"lat\": 51.51717108626197, \"lon\": -0.10645503993610213}, \"domain\": {\"x\": [0.0, 1.0], \"y\": [0.0, 1.0]}, \"style\": \"carto-positron\", \"zoom\": 11}, \"margin\": {\"t\": 60}, \"template\": {\"data\": {\"bar\": [{\"error_x\": {\"color\": \"#2a3f5f\"}, \"error_y\": {\"color\": \"#2a3f5f\"}, \"marker\": {\"line\": {\"color\": \"#E5ECF6\", \"width\": 0.5}}, \"type\": \"bar\"}], \"barpolar\": [{\"marker\": {\"line\": {\"color\": \"#E5ECF6\", \"width\": 0.5}}, \"type\": \"barpolar\"}], \"carpet\": [{\"aaxis\": {\"endlinecolor\": \"#2a3f5f\", \"gridcolor\": \"white\", \"linecolor\": \"white\", \"minorgridcolor\": \"white\", \"startlinecolor\": \"#2a3f5f\"}, \"baxis\": {\"endlinecolor\": \"#2a3f5f\", \"gridcolor\": \"white\", \"linecolor\": \"white\", \"minorgridcolor\": \"white\", \"startlinecolor\": \"#2a3f5f\"}, \"type\": \"carpet\"}], \"choropleth\": [{\"colorbar\": {\"outlinewidth\": 0, \"ticks\": \"\"}, \"type\": \"choropleth\"}], \"contour\": [{\"colorbar\": {\"outlinewidth\": 0, \"ticks\": \"\"}, \"colorscale\": [[0.0, \"#0d0887\"], [0.1111111111111111, \"#46039f\"], [0.2222222222222222, \"#7201a8\"], [0.3333333333333333, \"#9c179e\"], [0.4444444444444444, \"#bd3786\"], [0.5555555555555556, \"#d8576b\"], [0.6666666666666666, \"#ed7953\"], [0.7777777777777778, \"#fb9f3a\"], [0.8888888888888888, \"#fdca26\"], [1.0, \"#f0f921\"]], \"type\": \"contour\"}], \"contourcarpet\": [{\"colorbar\": {\"outlinewidth\": 0, \"ticks\": \"\"}, \"type\": \"contourcarpet\"}], \"heatmap\": [{\"colorbar\": {\"outlinewidth\": 0, \"ticks\": \"\"}, \"colorscale\": [[0.0, \"#0d0887\"], [0.1111111111111111, \"#46039f\"], [0.2222222222222222, \"#7201a8\"], [0.3333333333333333, \"#9c179e\"], [0.4444444444444444, \"#bd3786\"], [0.5555555555555556, \"#d8576b\"], [0.6666666666666666, \"#ed7953\"], [0.7777777777777778, \"#fb9f3a\"], [0.8888888888888888, \"#fdca26\"], [1.0, \"#f0f921\"]], \"type\": \"heatmap\"}], \"heatmapgl\": [{\"colorbar\": {\"outlinewidth\": 0, \"ticks\": \"\"}, \"colorscale\": [[0.0, \"#0d0887\"], [0.1111111111111111, \"#46039f\"], [0.2222222222222222, \"#7201a8\"], [0.3333333333333333, \"#9c179e\"], [0.4444444444444444, \"#bd3786\"], [0.5555555555555556, \"#d8576b\"], [0.6666666666666666, \"#ed7953\"], [0.7777777777777778, \"#fb9f3a\"], [0.8888888888888888, \"#fdca26\"], [1.0, \"#f0f921\"]], \"type\": \"heatmapgl\"}], \"histogram\": [{\"marker\": {\"colorbar\": {\"outlinewidth\": 0, \"ticks\": \"\"}}, \"type\": \"histogram\"}], \"histogram2d\": [{\"colorbar\": {\"outlinewidth\": 0, \"ticks\": \"\"}, \"colorscale\": [[0.0, \"#0d0887\"], [0.1111111111111111, \"#46039f\"], [0.2222222222222222, \"#7201a8\"], [0.3333333333333333, \"#9c179e\"], [0.4444444444444444, \"#bd3786\"], [0.5555555555555556, \"#d8576b\"], [0.6666666666666666, \"#ed7953\"], [0.7777777777777778, \"#fb9f3a\"], [0.8888888888888888, \"#fdca26\"], [1.0, \"#f0f921\"]], \"type\": \"histogram2d\"}], \"histogram2dcontour\": [{\"colorbar\": {\"outlinewidth\": 0, \"ticks\": \"\"}, \"colorscale\": [[0.0, \"#0d0887\"], [0.1111111111111111, \"#46039f\"], [0.2222222222222222, \"#7201a8\"], [0.3333333333333333, \"#9c179e\"], [0.4444444444444444, \"#bd3786\"], [0.5555555555555556, \"#d8576b\"], [0.6666666666666666, \"#ed7953\"], [0.7777777777777778, \"#fb9f3a\"], [0.8888888888888888, \"#fdca26\"], [1.0, \"#f0f921\"]], \"type\": \"histogram2dcontour\"}], \"mesh3d\": [{\"colorbar\": {\"outlinewidth\": 0, \"ticks\": \"\"}, \"type\": \"mesh3d\"}], \"parcoords\": [{\"line\": {\"colorbar\": {\"outlinewidth\": 0, \"ticks\": \"\"}}, \"type\": \"parcoords\"}], \"pie\": [{\"automargin\": true, \"type\": \"pie\"}], \"scatter\": [{\"marker\": {\"colorbar\": {\"outlinewidth\": 0, \"ticks\": \"\"}}, \"type\": \"scatter\"}], \"scatter3d\": [{\"line\": {\"colorbar\": {\"outlinewidth\": 0, \"ticks\": \"\"}}, \"marker\": {\"colorbar\": {\"outlinewidth\": 0, \"ticks\": \"\"}}, \"type\": \"scatter3d\"}], \"scattercarpet\": [{\"marker\": {\"colorbar\": {\"outlinewidth\": 0, \"ticks\": \"\"}}, \"type\": \"scattercarpet\"}], \"scattergeo\": [{\"marker\": {\"colorbar\": {\"outlinewidth\": 0, \"ticks\": \"\"}}, \"type\": \"scattergeo\"}], \"scattergl\": [{\"marker\": {\"colorbar\": {\"outlinewidth\": 0, \"ticks\": \"\"}}, \"type\": \"scattergl\"}], \"scattermapbox\": [{\"marker\": {\"colorbar\": {\"outlinewidth\": 0, \"ticks\": \"\"}}, \"type\": \"scattermapbox\"}], \"scatterpolar\": [{\"marker\": {\"colorbar\": {\"outlinewidth\": 0, \"ticks\": \"\"}}, \"type\": \"scatterpolar\"}], \"scatterpolargl\": [{\"marker\": {\"colorbar\": {\"outlinewidth\": 0, \"ticks\": \"\"}}, \"type\": \"scatterpolargl\"}], \"scatterternary\": [{\"marker\": {\"colorbar\": {\"outlinewidth\": 0, \"ticks\": \"\"}}, \"type\": \"scatterternary\"}], \"surface\": [{\"colorbar\": {\"outlinewidth\": 0, \"ticks\": \"\"}, \"colorscale\": [[0.0, \"#0d0887\"], [0.1111111111111111, \"#46039f\"], [0.2222222222222222, \"#7201a8\"], [0.3333333333333333, \"#9c179e\"], [0.4444444444444444, \"#bd3786\"], [0.5555555555555556, \"#d8576b\"], [0.6666666666666666, \"#ed7953\"], [0.7777777777777778, \"#fb9f3a\"], [0.8888888888888888, \"#fdca26\"], [1.0, \"#f0f921\"]], \"type\": \"surface\"}], \"table\": [{\"cells\": {\"fill\": {\"color\": \"#EBF0F8\"}, \"line\": {\"color\": \"white\"}}, \"header\": {\"fill\": {\"color\": \"#C8D4E3\"}, \"line\": {\"color\": \"white\"}}, \"type\": \"table\"}]}, \"layout\": {\"annotationdefaults\": {\"arrowcolor\": \"#2a3f5f\", \"arrowhead\": 0, \"arrowwidth\": 1}, \"coloraxis\": {\"colorbar\": {\"outlinewidth\": 0, \"ticks\": \"\"}}, \"colorscale\": {\"diverging\": [[0, \"#8e0152\"], [0.1, \"#c51b7d\"], [0.2, \"#de77ae\"], [0.3, \"#f1b6da\"], [0.4, \"#fde0ef\"], [0.5, \"#f7f7f7\"], [0.6, \"#e6f5d0\"], [0.7, \"#b8e186\"], [0.8, \"#7fbc41\"], [0.9, \"#4d9221\"], [1, \"#276419\"]], \"sequential\": [[0.0, \"#0d0887\"], [0.1111111111111111, \"#46039f\"], [0.2222222222222222, \"#7201a8\"], [0.3333333333333333, \"#9c179e\"], [0.4444444444444444, \"#bd3786\"], [0.5555555555555556, \"#d8576b\"], [0.6666666666666666, \"#ed7953\"], [0.7777777777777778, \"#fb9f3a\"], [0.8888888888888888, \"#fdca26\"], [1.0, \"#f0f921\"]], \"sequentialminus\": [[0.0, \"#0d0887\"], [0.1111111111111111, \"#46039f\"], [0.2222222222222222, \"#7201a8\"], [0.3333333333333333, \"#9c179e\"], [0.4444444444444444, \"#bd3786\"], [0.5555555555555556, \"#d8576b\"], [0.6666666666666666, \"#ed7953\"], [0.7777777777777778, \"#fb9f3a\"], [0.8888888888888888, \"#fdca26\"], [1.0, \"#f0f921\"]]}, \"colorway\": [\"#636efa\", \"#EF553B\", \"#00cc96\", \"#ab63fa\", \"#FFA15A\", \"#19d3f3\", \"#FF6692\", \"#B6E880\", \"#FF97FF\", \"#FECB52\"], \"font\": {\"color\": \"#2a3f5f\"}, \"geo\": {\"bgcolor\": \"white\", \"lakecolor\": \"white\", \"landcolor\": \"#E5ECF6\", \"showlakes\": true, \"showland\": true, \"subunitcolor\": \"white\"}, \"hoverlabel\": {\"align\": \"left\"}, \"hovermode\": \"closest\", \"mapbox\": {\"style\": \"light\"}, \"paper_bgcolor\": \"white\", \"plot_bgcolor\": \"#E5ECF6\", \"polar\": {\"angularaxis\": {\"gridcolor\": \"white\", \"linecolor\": \"white\", \"ticks\": \"\"}, \"bgcolor\": \"#E5ECF6\", \"radialaxis\": {\"gridcolor\": \"white\", \"linecolor\": \"white\", \"ticks\": \"\"}}, \"scene\": {\"xaxis\": {\"backgroundcolor\": \"#E5ECF6\", \"gridcolor\": \"white\", \"gridwidth\": 2, \"linecolor\": \"white\", \"showbackground\": true, \"ticks\": \"\", \"zerolinecolor\": \"white\"}, \"yaxis\": {\"backgroundcolor\": \"#E5ECF6\", \"gridcolor\": \"white\", \"gridwidth\": 2, \"linecolor\": \"white\", \"showbackground\": true, \"ticks\": \"\", \"zerolinecolor\": \"white\"}, \"zaxis\": {\"backgroundcolor\": \"#E5ECF6\", \"gridcolor\": \"white\", \"gridwidth\": 2, \"linecolor\": \"white\", \"showbackground\": true, \"ticks\": \"\", \"zerolinecolor\": \"white\"}}, \"shapedefaults\": {\"line\": {\"color\": \"#2a3f5f\"}}, \"ternary\": {\"aaxis\": {\"gridcolor\": \"white\", \"linecolor\": \"white\", \"ticks\": \"\"}, \"baxis\": {\"gridcolor\": \"white\", \"linecolor\": \"white\", \"ticks\": \"\"}, \"bgcolor\": \"#E5ECF6\", \"caxis\": {\"gridcolor\": \"white\", \"linecolor\": \"white\", \"ticks\": \"\"}}, \"title\": {\"x\": 0.05}, \"xaxis\": {\"automargin\": true, \"gridcolor\": \"white\", \"linecolor\": \"white\", \"ticks\": \"\", \"title\": {\"standoff\": 15}, \"zerolinecolor\": \"white\", \"zerolinewidth\": 2}, \"yaxis\": {\"automargin\": true, \"gridcolor\": \"white\", \"linecolor\": \"white\", \"ticks\": \"\", \"title\": {\"standoff\": 15}, \"zerolinecolor\": \"white\", \"zerolinewidth\": 2}}}, \"width\": 900},                        {\"responsive\": true}                    ).then(function(){\n",
       "                            \n",
       "var gd = document.getElementById('d5b223f2-1dbb-4a0d-a926-ca549a1d9b99');\n",
       "var x = new MutationObserver(function (mutations, observer) {{\n",
       "        var display = window.getComputedStyle(gd).display;\n",
       "        if (!display || display === 'none') {{\n",
       "            console.log([gd, 'removed!']);\n",
       "            Plotly.purge(gd);\n",
       "            observer.disconnect();\n",
       "        }}\n",
       "}});\n",
       "\n",
       "// Listen for the removal of the full notebook cells\n",
       "var notebookContainer = gd.closest('#notebook-container');\n",
       "if (notebookContainer) {{\n",
       "    x.observe(notebookContainer, {childList: true});\n",
       "}}\n",
       "\n",
       "// Listen for the clearing of the current output cell\n",
       "var outputEl = gd.closest('.output');\n",
       "if (outputEl) {{\n",
       "    x.observe(outputEl, {childList: true});\n",
       "}}\n",
       "\n",
       "                        })                };                });            </script>        </div>"
      ]
     },
     "metadata": {},
     "output_type": "display_data"
    }
   ],
   "source": [
    "import plotly.express as px\n",
    "\n",
    "px.scatter_mapbox(\n",
    "    found_places_df[~found_places_df[\"Place\"].isnull() & (found_places_df[\"direction\"] == 1)], \n",
    "    lat=\"latitude\", lon=\"longitude\", color=\"Place\", hover_name=\"Place\",\n",
    "    hover_data=[\"Price difference\"],\n",
    "    size_max=15, zoom=11, mapbox_style=\"carto-positron\",\n",
    "    width=900, height=700\n",
    ")"
   ]
  },
  {
   "cell_type": "code",
   "execution_count": 1673,
   "metadata": {},
   "outputs": [
    {
     "data": {
      "application/vnd.plotly.v1+json": {
       "config": {
        "plotlyServerURL": "https://plot.ly"
       },
       "data": [
        {
         "customdata": [
          [
           "-44.76 %"
          ],
          [
           "-10.57 %"
          ],
          [
           "-34.24 %"
          ],
          [
           "-15.83 %"
          ],
          [
           "5.22 %"
          ],
          [
           "-60.54 %"
          ],
          [
           "-34.24 %"
          ],
          [
           "-30.29 %"
          ],
          [
           "-28.98 %"
          ],
          [
           "-34.24 %"
          ],
          [
           "-39.50 %"
          ],
          [
           "-67.12 %"
          ],
          [
           "-7.94 %"
          ],
          [
           "-44.76 %"
          ],
          [
           "-0.04 %"
          ],
          [
           "-63.17 %"
          ],
          [
           "-28.98 %"
          ],
          [
           "44.67 %"
          ],
          [
           "-64.49 %"
          ],
          [
           "47.30 %"
          ],
          [
           "28.89 %"
          ],
          [
           "-55.28 %"
          ],
          [
           "-53.97 %"
          ],
          [
           "-47.39 %"
          ],
          [
           "-35.55 %"
          ],
          [
           "-50.02 %"
          ],
          [
           "-60.54 %"
          ],
          [
           "-36.87 %"
          ],
          [
           "-53.97 %"
          ],
          [
           "-34.24 %"
          ],
          [
           "18.37 %"
          ],
          [
           "-57.91 %"
          ],
          [
           "-76.33 %"
          ],
          [
           "-48.71 %"
          ],
          [
           "-67.12 %"
          ],
          [
           "-61.86 %"
          ],
          [
           "-50.02 %"
          ],
          [
           "-47.39 %"
          ],
          [
           "-34.24 %"
          ],
          [
           "-47.39 %"
          ],
          [
           "-23.72 %"
          ],
          [
           "-77.64 %"
          ],
          [
           "-60.54 %"
          ],
          [
           "-7.94 %"
          ],
          [
           "-47.39 %"
          ],
          [
           "-15.83 %"
          ],
          [
           "2.59 %"
          ],
          [
           "-65.80 %"
          ],
          [
           "-32.92 %"
          ],
          [
           "-47.39 %"
          ],
          [
           "-39.50 %"
          ],
          [
           "-55.28 %"
          ],
          [
           "-36.87 %"
          ],
          [
           "-53.97 %"
          ],
          [
           "-21.09 %"
          ],
          [
           "-59.23 %"
          ],
          [
           "-35.55 %"
          ],
          [
           "-63.17 %"
          ],
          [
           "-53.97 %"
          ],
          [
           "-34.24 %"
          ],
          [
           "-44.76 %"
          ],
          [
           "-53.97 %"
          ],
          [
           "-47.39 %"
          ],
          [
           "-57.91 %"
          ],
          [
           "-43.45 %"
          ],
          [
           "-36.87 %"
          ],
          [
           "5.22 %"
          ],
          [
           "18.37 %"
          ],
          [
           "-32.92 %"
          ],
          [
           "-40.82 %"
          ],
          [
           "-63.17 %"
          ],
          [
           "-47.39 %"
          ],
          [
           "-65.80 %"
          ],
          [
           "-59.23 %"
          ],
          [
           "-39.50 %"
          ],
          [
           "-67.12 %"
          ],
          [
           "-34.24 %"
          ],
          [
           "-36.87 %"
          ],
          [
           "-44.76 %"
          ],
          [
           "-50.02 %"
          ],
          [
           "-26.35 %"
          ],
          [
           "-34.24 %"
          ],
          [
           "-26.35 %"
          ],
          [
           "5.22 %"
          ],
          [
           "-32.92 %"
          ],
          [
           "-21.09 %"
          ],
          [
           "-60.54 %"
          ],
          [
           "-39.50 %"
          ],
          [
           "-50.02 %"
          ],
          [
           "-40.82 %"
          ],
          [
           "-57.91 %"
          ],
          [
           "-67.12 %"
          ],
          [
           "-35.55 %"
          ],
          [
           "-47.39 %"
          ],
          [
           "-60.54 %"
          ],
          [
           "-34.24 %"
          ],
          [
           "-7.94 %"
          ],
          [
           "-50.02 %"
          ],
          [
           "-68.44 %"
          ],
          [
           "-2.67 %"
          ],
          [
           "-10.57 %"
          ],
          [
           "-13.20 %"
          ],
          [
           "-40.82 %"
          ],
          [
           "5.22 %"
          ],
          [
           "-53.97 %"
          ],
          [
           "-34.24 %"
          ],
          [
           "-19.77 %"
          ],
          [
           "31.52 %"
          ],
          [
           "-18.46 %"
          ],
          [
           "-21.09 %"
          ],
          [
           "-44.76 %"
          ],
          [
           "-67.12 %"
          ],
          [
           "-34.24 %"
          ],
          [
           "-5.48 %"
          ],
          [
           "59.31 %"
          ],
          [
           "-4.42 %"
          ],
          [
           "-45.84 %"
          ],
          [
           "-20.35 %"
          ],
          [
           "0.89 %"
          ],
          [
           "-29.90 %"
          ],
          [
           "-37.34 %"
          ],
          [
           "-41.59 %"
          ],
          [
           "-15.04 %"
          ],
          [
           "62.49 %"
          ],
          [
           "-4.42 %"
          ],
          [
           "-16.10 %"
          ],
          [
           "-36.28 %"
          ],
          [
           "-15.04 %"
          ],
          [
           "-9.73 %"
          ],
          [
           "6.20 %"
          ],
          [
           "-9.73 %"
          ],
          [
           "-52.21 %"
          ],
          [
           "-9.73 %"
          ],
          [
           "-43.71 %"
          ],
          [
           "-25.66 %"
          ],
          [
           "-30.97 %"
          ],
          [
           "-57.52 %"
          ],
          [
           "3.02 %"
          ],
          [
           "-4.42 %"
          ],
          [
           "-8.66 %"
          ],
          [
           "0.89 %"
          ],
          [
           "-47.96 %"
          ],
          [
           "-4.42 %"
          ],
          [
           "-30.97 %"
          ],
          [
           "-49.02 %"
          ],
          [
           "-30.97 %"
          ],
          [
           "5.14 %"
          ],
          [
           "-35.21 %"
          ],
          [
           "-30.97 %"
          ],
          [
           "6.20 %"
          ],
          [
           "6.20 %"
          ],
          [
           "-38.40 %"
          ],
          [
           "-9.73 %"
          ],
          [
           "-25.66 %"
          ],
          [
           "-41.59 %"
          ],
          [
           "-15.04 %"
          ],
          [
           "0.89 %"
          ],
          [
           "27.45 %"
          ],
          [
           "-10.79 %"
          ],
          [
           "0.89 %"
          ],
          [
           "-30.97 %"
          ],
          [
           "-30.97 %"
          ],
          [
           "-9.73 %"
          ],
          [
           "-41.59 %"
          ],
          [
           "-4.42 %"
          ],
          [
           "-36.28 %"
          ],
          [
           "0.89 %"
          ],
          [
           "85.86 %"
          ],
          [
           "5.14 %"
          ],
          [
           "-36.28 %"
          ],
          [
           "-9.73 %"
          ],
          [
           "48.69 %"
          ],
          [
           "16.83 %"
          ],
          [
           "-12.94 %"
          ],
          [
           "-47.76 %"
          ],
          [
           "-39.06 %"
          ],
          [
           "25.37 %"
          ],
          [
           "-32.09 %"
          ],
          [
           "-42.54 %"
          ],
          [
           "-26.87 %"
          ],
          [
           "-4.23 %"
          ],
          [
           "-39.06 %"
          ],
          [
           "-39.06 %"
          ],
          [
           "-44.84 %"
          ],
          [
           "-42.54 %"
          ],
          [
           "-33.35 %"
          ],
          [
           "8.26 %"
          ],
          [
           "-35.22 %"
          ],
          [
           "-11.12 %"
          ],
          [
           "50.65 %"
          ],
          [
           "-2.08 %"
          ],
          [
           "-26.18 %"
          ],
          [
           "-26.18 %"
          ],
          [
           "12.98 %"
          ],
          [
           "-23.17 %"
          ],
          [
           "34.08 %"
          ],
          [
           "49.14 %"
          ],
          [
           "-2.08 %"
          ],
          [
           "6.96 %"
          ],
          [
           "-32.21 %"
          ],
          [
           "-2.08 %"
          ],
          [
           "-9.61 %"
          ],
          [
           "-9.61 %"
          ],
          [
           "36.29 %"
          ],
          [
           "40.19 %"
          ],
          [
           "-29.91 %"
          ],
          [
           "-12.38 %"
          ],
          [
           "-22.12 %"
          ],
          [
           "-22.12 %"
          ],
          [
           "-31.85 %"
          ],
          [
           "-41.59 %"
          ],
          [
           "-22.12 %"
          ],
          [
           "-6.54 %"
          ],
          [
           "24.61 %"
          ],
          [
           "-2.65 %"
          ],
          [
           "-31.85 %"
          ],
          [
           "-31.85 %"
          ],
          [
           "16.82 %"
          ],
          [
           "-22.12 %"
          ],
          [
           "-6.54 %"
          ],
          [
           "-2.65 %"
          ],
          [
           "-61.06 %"
          ],
          [
           "36.29 %"
          ],
          [
           "55.76 %"
          ],
          [
           "16.82 %"
          ],
          [
           "-31.85 %"
          ],
          [
           "-39.64 %"
          ],
          [
           "18.12 %"
          ],
          [
           "20.04 %"
          ]
         ],
         "hovertemplate": "<b>%{hovertext}</b><br><br>Place=Peckham<br>latitude=%{lat}<br>longitude=%{lon}<br>Price difference=%{customdata[0]}<extra></extra>",
         "hovertext": [
          "Peckham",
          "Peckham",
          "Peckham",
          "Peckham",
          "Peckham",
          "Peckham",
          "Peckham",
          "Peckham",
          "Peckham",
          "Peckham",
          "Peckham",
          "Peckham",
          "Peckham",
          "Peckham",
          "Peckham",
          "Peckham",
          "Peckham",
          "Peckham",
          "Peckham",
          "Peckham",
          "Peckham",
          "Peckham",
          "Peckham",
          "Peckham",
          "Peckham",
          "Peckham",
          "Peckham",
          "Peckham",
          "Peckham",
          "Peckham",
          "Peckham",
          "Peckham",
          "Peckham",
          "Peckham",
          "Peckham",
          "Peckham",
          "Peckham",
          "Peckham",
          "Peckham",
          "Peckham",
          "Peckham",
          "Peckham",
          "Peckham",
          "Peckham",
          "Peckham",
          "Peckham",
          "Peckham",
          "Peckham",
          "Peckham",
          "Peckham",
          "Peckham",
          "Peckham",
          "Peckham",
          "Peckham",
          "Peckham",
          "Peckham",
          "Peckham",
          "Peckham",
          "Peckham",
          "Peckham",
          "Peckham",
          "Peckham",
          "Peckham",
          "Peckham",
          "Peckham",
          "Peckham",
          "Peckham",
          "Peckham",
          "Peckham",
          "Peckham",
          "Peckham",
          "Peckham",
          "Peckham",
          "Peckham",
          "Peckham",
          "Peckham",
          "Peckham",
          "Peckham",
          "Peckham",
          "Peckham",
          "Peckham",
          "Peckham",
          "Peckham",
          "Peckham",
          "Peckham",
          "Peckham",
          "Peckham",
          "Peckham",
          "Peckham",
          "Peckham",
          "Peckham",
          "Peckham",
          "Peckham",
          "Peckham",
          "Peckham",
          "Peckham",
          "Peckham",
          "Peckham",
          "Peckham",
          "Peckham",
          "Peckham",
          "Peckham",
          "Peckham",
          "Peckham",
          "Peckham",
          "Peckham",
          "Peckham",
          "Peckham",
          "Peckham",
          "Peckham",
          "Peckham",
          "Peckham",
          "Peckham",
          "Peckham",
          "Peckham",
          "Peckham",
          "Peckham",
          "Peckham",
          "Peckham",
          "Peckham",
          "Peckham",
          "Peckham",
          "Peckham",
          "Peckham",
          "Peckham",
          "Peckham",
          "Peckham",
          "Peckham",
          "Peckham",
          "Peckham",
          "Peckham",
          "Peckham",
          "Peckham",
          "Peckham",
          "Peckham",
          "Peckham",
          "Peckham",
          "Peckham",
          "Peckham",
          "Peckham",
          "Peckham",
          "Peckham",
          "Peckham",
          "Peckham",
          "Peckham",
          "Peckham",
          "Peckham",
          "Peckham",
          "Peckham",
          "Peckham",
          "Peckham",
          "Peckham",
          "Peckham",
          "Peckham",
          "Peckham",
          "Peckham",
          "Peckham",
          "Peckham",
          "Peckham",
          "Peckham",
          "Peckham",
          "Peckham",
          "Peckham",
          "Peckham",
          "Peckham",
          "Peckham",
          "Peckham",
          "Peckham",
          "Peckham",
          "Peckham",
          "Peckham",
          "Peckham",
          "Peckham",
          "Peckham",
          "Peckham",
          "Peckham",
          "Peckham",
          "Peckham",
          "Peckham",
          "Peckham",
          "Peckham",
          "Peckham",
          "Peckham",
          "Peckham",
          "Peckham",
          "Peckham",
          "Peckham",
          "Peckham",
          "Peckham",
          "Peckham",
          "Peckham",
          "Peckham",
          "Peckham",
          "Peckham",
          "Peckham",
          "Peckham",
          "Peckham",
          "Peckham",
          "Peckham",
          "Peckham",
          "Peckham",
          "Peckham",
          "Peckham",
          "Peckham",
          "Peckham",
          "Peckham",
          "Peckham",
          "Peckham",
          "Peckham",
          "Peckham",
          "Peckham",
          "Peckham",
          "Peckham",
          "Peckham",
          "Peckham",
          "Peckham",
          "Peckham",
          "Peckham",
          "Peckham",
          "Peckham",
          "Peckham",
          "Peckham",
          "Peckham",
          "Peckham",
          "Peckham",
          "Peckham",
          "Peckham",
          "Peckham",
          "Peckham"
         ],
         "lat": [
          51.47871,
          51.46452,
          51.46228,
          51.456990000000005,
          51.461999999999996,
          51.470620000000004,
          51.49179,
          51.45588,
          51.4778,
          51.45617,
          51.47835,
          51.45301,
          51.44381,
          51.47588,
          51.46241,
          51.47925,
          51.461690000000004,
          51.47379,
          51.473890000000004,
          51.47348,
          51.47421,
          51.46994,
          51.47511,
          51.47064,
          51.49323,
          51.45262,
          51.45626,
          51.46986,
          51.460609999999996,
          51.4642,
          51.47078,
          51.45862,
          51.47418,
          51.46897,
          51.474059999999994,
          51.46758,
          51.48072,
          51.464490000000005,
          51.47793,
          51.47967,
          51.46676,
          51.471270000000004,
          51.454879999999996,
          51.457840000000004,
          51.45892,
          51.47168,
          51.47266,
          51.477940000000004,
          51.45146,
          51.482859999999995,
          51.47167,
          51.47007,
          51.47034,
          51.48015,
          51.47306,
          51.47548,
          51.45544,
          51.4751,
          51.473890000000004,
          51.446459999999995,
          51.47432,
          51.47851,
          51.47971,
          51.47337,
          51.47473,
          51.48113,
          51.46755,
          51.47978,
          51.48087,
          51.46699,
          51.47339,
          51.482490000000006,
          51.475159999999995,
          51.47432,
          51.48046,
          51.45267,
          51.45476,
          51.46778,
          51.45769,
          51.47927,
          51.4748,
          51.45276,
          51.48529,
          51.46591,
          51.46425,
          51.481429999999996,
          51.4525,
          51.45836,
          51.478840000000005,
          51.47295,
          51.45967,
          51.47415,
          51.4716,
          51.46427,
          51.47084,
          51.47824,
          51.4491,
          51.47318,
          51.47377,
          51.476040000000005,
          51.47463,
          51.46951,
          51.480470000000004,
          51.47586,
          51.47722,
          51.478590000000004,
          51.46464,
          51.47213,
          51.47749,
          51.453920000000004,
          51.46165,
          51.46248,
          51.46567,
          51.455909999999996,
          51.47187,
          51.46768,
          51.47657,
          51.4597,
          51.45362,
          51.46423,
          51.4712,
          51.46602,
          51.46541,
          51.4539,
          51.4671,
          51.469229999999996,
          51.46179,
          51.45191,
          51.46739,
          51.479729999999996,
          51.47759,
          51.48989,
          51.47515,
          51.46846,
          51.46103,
          51.46451,
          51.47715,
          51.45852,
          51.46637,
          51.46991,
          51.4679,
          51.48185,
          51.479459999999996,
          51.47605,
          51.44535,
          51.474309999999996,
          51.470259999999996,
          51.47207,
          51.482240000000004,
          51.46968,
          51.46752,
          51.47108,
          51.48747,
          51.480109999999996,
          51.452459999999995,
          51.47634,
          51.46671,
          51.48072,
          51.46526,
          51.46801,
          51.46673,
          51.47426,
          51.46992,
          51.460679999999996,
          51.4728,
          51.46385,
          51.47837,
          51.4535,
          51.481809999999996,
          51.46728,
          51.46566,
          51.47395,
          51.47203,
          51.46045,
          51.477740000000004,
          51.468759999999996,
          51.46898,
          51.42794,
          51.4408,
          51.47854,
          51.457409999999996,
          51.47017,
          51.47075,
          51.47677,
          51.43732,
          51.468959999999996,
          51.46711,
          51.476240000000004,
          51.47521,
          51.46485,
          51.46589,
          51.4684,
          51.46855,
          51.472840000000005,
          51.47076,
          51.46598,
          51.47955,
          51.44416,
          51.4754,
          51.47254,
          51.459340000000005,
          51.47403,
          51.469609999999996,
          51.4788,
          51.469879999999996,
          51.4607,
          51.46929,
          51.468270000000004,
          51.46805,
          51.42828,
          51.44572,
          51.44109,
          51.47314,
          51.47459,
          51.47312,
          51.46994,
          51.47375,
          51.474090000000004,
          51.47566,
          51.44788,
          51.46995,
          51.47371,
          51.471109999999996,
          51.462720000000004,
          51.47745,
          51.47854,
          51.47822,
          51.47318,
          51.41637
         ],
         "legendgroup": "Peckham",
         "lon": [
          -0.060629999999999996,
          -0.0797,
          -0.0618,
          -0.07499,
          -0.062279999999999995,
          -0.06017,
          -0.08888,
          -0.05099,
          -0.06787,
          -0.052239999999999995,
          -0.08972999999999999,
          -0.055729999999999995,
          -0.06567,
          -0.09857,
          -0.05875,
          -0.06188,
          -0.058570000000000004,
          -0.054810000000000005,
          -0.06713,
          -0.055779999999999996,
          -0.05557,
          -0.07687000000000001,
          -0.08578,
          -0.06865,
          -0.09346,
          -0.05969,
          -0.051739999999999994,
          -0.09177,
          -0.051660000000000005,
          -0.08269,
          -0.07082999999999999,
          -0.06944,
          -0.08185,
          -0.05694,
          -0.05437,
          -0.06354,
          -0.08105,
          -0.07114,
          -0.06242,
          -0.06441000000000001,
          -0.05424,
          -0.06026,
          -0.05127,
          -0.07074,
          -0.08064,
          -0.07652,
          -0.05857999999999999,
          -0.06598,
          -0.059629999999999996,
          -0.09432,
          -0.053689999999999995,
          -0.06667000000000001,
          -0.052829999999999995,
          -0.059539999999999996,
          -0.060160000000000005,
          -0.06736,
          -0.04768,
          -0.0943,
          -0.09181,
          -0.06305,
          -0.06284,
          -0.06995,
          -0.07152,
          -0.056960000000000004,
          -0.062270000000000006,
          -0.06442,
          -0.07979,
          -0.07089,
          -0.08438,
          -0.05223,
          -0.07945,
          -0.09427,
          -0.06999,
          -0.09312999999999999,
          -0.05612999999999999,
          -0.06497,
          -0.06522,
          -0.07589,
          -0.08008,
          -0.06648,
          -0.06587,
          -0.06802000000000001,
          -0.07303,
          -0.06828,
          -0.07187,
          -0.06717000000000001,
          -0.07293,
          -0.05196,
          -0.07887999999999999,
          -0.06498999999999999,
          -0.05063,
          -0.06387999999999999,
          -0.06361,
          -0.07571,
          -0.07456,
          -0.07122,
          -0.08713,
          -0.07757,
          -0.09581,
          -0.07315,
          -0.07393999999999999,
          -0.05413,
          -0.0861,
          -0.07463,
          -0.07395,
          -0.05874,
          -0.06112000000000001,
          -0.06707,
          -0.07215,
          -0.054000000000000006,
          -0.06523999999999999,
          -0.05674,
          -0.06537000000000001,
          -0.051829999999999994,
          -0.08377000000000001,
          -0.07341,
          -0.09757,
          -0.0523,
          -0.07221,
          -0.07255,
          -0.06911,
          -0.07474,
          -0.08213999999999999,
          -0.07536,
          -0.06999,
          -0.07057000000000001,
          -0.0716,
          -0.07682,
          -0.06967999999999999,
          -0.07481,
          -0.06147999999999999,
          -0.08043,
          -0.059410000000000004,
          -0.05517999999999999,
          -0.07041,
          -0.08319,
          -0.08512,
          -0.08062000000000001,
          -0.0689,
          -0.0775,
          -0.0701,
          -0.09616,
          -0.08876,
          -0.06874,
          -0.06736,
          -0.06746,
          -0.06355,
          -0.05694,
          -0.08014,
          -0.08399,
          -0.06747,
          -0.06192,
          -0.07486,
          -0.09395,
          -0.05881,
          -0.05789,
          -0.07937000000000001,
          -0.09514,
          -0.07418,
          -0.07341,
          -0.07849,
          -0.07618,
          -0.054520000000000006,
          -0.06663,
          -0.07039,
          -0.06623,
          -0.08207,
          -0.06422,
          -0.06523,
          -0.07438,
          -0.06757,
          -0.07864,
          -0.0764,
          -0.09376,
          -0.10404000000000001,
          -0.09516000000000001,
          -0.09679,
          -0.10912000000000001,
          -0.10452,
          -0.11756,
          -0.11102999999999999,
          -0.09684,
          -0.10226,
          -0.10049,
          -0.10455999999999999,
          -0.09694,
          -0.17047,
          -0.03315,
          -0.02918,
          -0.03645,
          -0.027219999999999998,
          -0.04883,
          -0.04844,
          -0.03635,
          -0.04306,
          -0.04439,
          -0.05067,
          -0.04534,
          -0.042769999999999996,
          -0.040060000000000005,
          -0.03705,
          -0.04922,
          -0.04407,
          -0.04376,
          -0.031869999999999996,
          -0.04211,
          -0.05181,
          -0.026489999999999996,
          -0.04865,
          -0.04208,
          -0.013590000000000001,
          -0.05861,
          -0.031939999999999996,
          -0.04519,
          -0.04687,
          -0.05171,
          -0.047080000000000004,
          -0.04699,
          -0.04732,
          -0.06088,
          -0.04237,
          -0.044860000000000004,
          -0.04865,
          -0.03574,
          -0.050460000000000005,
          -0.030019999999999998,
          -0.0454,
          -0.02035,
          -0.06591
         ],
         "marker": {
          "color": "#636efa"
         },
         "mode": "markers",
         "name": "Peckham",
         "showlegend": true,
         "subplot": "mapbox",
         "type": "scattermapbox"
        },
        {
         "customdata": [
          [
           "-28.92 %"
          ],
          [
           "41.06 %"
          ],
          [
           "-23.45 %"
          ],
          [
           "-28.92 %"
          ],
          [
           "31.22 %"
          ],
          [
           "-27.29 %"
          ],
          [
           "-9.12 %"
          ],
          [
           "-18.20 %"
          ],
          [
           "-45.47 %"
          ],
          [
           "-45.47 %"
          ],
          [
           "-21.84 %"
          ],
          [
           "-27.29 %"
          ],
          [
           "-29.11 %"
          ],
          [
           "81.77 %"
          ],
          [
           "9.06 %"
          ],
          [
           "9.06 %"
          ],
          [
           "-21.84 %"
          ],
          [
           "-34.56 %"
          ],
          [
           "38.14 %"
          ],
          [
           "27.24 %"
          ],
          [
           "-12.18 %"
          ],
          [
           "103.20 %"
          ],
          [
           "10.21 %"
          ],
          [
           "-38.01 %"
          ],
          [
           "-13.90 %"
          ],
          [
           "-27.67 %"
          ],
          [
           "-17.34 %"
          ],
          [
           "17.10 %"
          ],
          [
           "-39.73 %"
          ],
          [
           "-32.84 %"
          ],
          [
           "-63.84 %"
          ],
          [
           "72.20 %"
          ],
          [
           "-27.67 %"
          ],
          [
           "-15.62 %"
          ],
          [
           "-39.73 %"
          ],
          [
           "-38.01 %"
          ],
          [
           "-65.56 %"
          ],
          [
           "-56.95 %"
          ],
          [
           "-56.95 %"
          ],
          [
           "-38.01 %"
          ],
          [
           "-48.34 %"
          ],
          [
           "-44.89 %"
          ],
          [
           "-13.90 %"
          ],
          [
           "-31.12 %"
          ],
          [
           "-3.57 %"
          ],
          [
           "-22.51 %"
          ],
          [
           "-24.23 %"
          ],
          [
           "-48.34 %"
          ],
          [
           "-31.12 %"
          ],
          [
           "-5.29 %"
          ],
          [
           "36.04 %"
          ],
          [
           "-24.23 %"
          ],
          [
           "-39.73 %"
          ],
          [
           "-8.73 %"
          ],
          [
           "3.32 %"
          ],
          [
           "-10.45 %"
          ],
          [
           "-31.12 %"
          ],
          [
           "-31.12 %"
          ],
          [
           "-32.84 %"
          ],
          [
           "-20.79 %"
          ],
          [
           "-31.12 %"
          ],
          [
           "3.32 %"
          ],
          [
           "3.32 %"
          ],
          [
           "11.93 %"
          ],
          [
           "54.98 %"
          ],
          [
           "-10.45 %"
          ],
          [
           "-20.79 %"
          ],
          [
           "11.93 %"
          ],
          [
           "244.41 %"
          ],
          [
           "-36.28 %"
          ],
          [
           "34.32 %"
          ],
          [
           "20.54 %"
          ],
          [
           "-31.12 %"
          ],
          [
           "-19.06 %"
          ],
          [
           "18.82 %"
          ],
          [
           "6.77 %"
          ],
          [
           "-8.73 %"
          ],
          [
           "-31.12 %"
          ],
          [
           "-38.01 %"
          ],
          [
           "-56.95 %"
          ],
          [
           "-60.39 %"
          ],
          [
           "-2.49 %"
          ],
          [
           "3.14 %"
          ],
          [
           "-60.62 %"
          ],
          [
           "-20.30 %"
          ],
          [
           "-15.61 %"
          ],
          [
           "-6.24 %"
          ],
          [
           "-24.99 %"
          ],
          [
           "-23.11 %"
          ],
          [
           "31.27 %"
          ],
          [
           "-20.30 %"
          ],
          [
           "-10.93 %"
          ],
          [
           "-15.61 %"
          ],
          [
           "-20.30 %"
          ],
          [
           "-40.93 %"
          ],
          [
           "-34.37 %"
          ],
          [
           "-54.06 %"
          ],
          [
           "-43.74 %"
          ],
          [
           "140.03 %"
          ],
          [
           "-15.61 %"
          ],
          [
           "-21.24 %"
          ],
          [
           "-39.99 %"
          ],
          [
           "-4.36 %"
          ],
          [
           "-29.68 %"
          ],
          [
           "-6.24 %"
          ],
          [
           "21.89 %"
          ],
          [
           "-34.37 %"
          ],
          [
           "-39.05 %"
          ],
          [
           "17.20 %"
          ],
          [
           "-7.18 %"
          ],
          [
           "-18.43 %"
          ],
          [
           "-43.74 %"
          ],
          [
           "-24.99 %"
          ],
          [
           "-6.24 %"
          ],
          [
           "-6.24 %"
          ],
          [
           "-15.61 %"
          ],
          [
           "3.14 %"
          ],
          [
           "-15.61 %"
          ],
          [
           "3.14 %"
          ],
          [
           "-58.25 %"
          ],
          [
           "-50.88 %"
          ]
         ],
         "hovertemplate": "<b>%{hovertext}</b><br><br>Place=Bethnal<br>latitude=%{lat}<br>longitude=%{lon}<br>Price difference=%{customdata[0]}<extra></extra>",
         "hovertext": [
          "Bethnal",
          "Bethnal",
          "Bethnal",
          "Bethnal",
          "Bethnal",
          "Bethnal",
          "Bethnal",
          "Bethnal",
          "Bethnal",
          "Bethnal",
          "Bethnal",
          "Bethnal",
          "Bethnal",
          "Bethnal",
          "Bethnal",
          "Bethnal",
          "Bethnal",
          "Bethnal",
          "Bethnal",
          "Bethnal",
          "Bethnal",
          "Bethnal",
          "Bethnal",
          "Bethnal",
          "Bethnal",
          "Bethnal",
          "Bethnal",
          "Bethnal",
          "Bethnal",
          "Bethnal",
          "Bethnal",
          "Bethnal",
          "Bethnal",
          "Bethnal",
          "Bethnal",
          "Bethnal",
          "Bethnal",
          "Bethnal",
          "Bethnal",
          "Bethnal",
          "Bethnal",
          "Bethnal",
          "Bethnal",
          "Bethnal",
          "Bethnal",
          "Bethnal",
          "Bethnal",
          "Bethnal",
          "Bethnal",
          "Bethnal",
          "Bethnal",
          "Bethnal",
          "Bethnal",
          "Bethnal",
          "Bethnal",
          "Bethnal",
          "Bethnal",
          "Bethnal",
          "Bethnal",
          "Bethnal",
          "Bethnal",
          "Bethnal",
          "Bethnal",
          "Bethnal",
          "Bethnal",
          "Bethnal",
          "Bethnal",
          "Bethnal",
          "Bethnal",
          "Bethnal",
          "Bethnal",
          "Bethnal",
          "Bethnal",
          "Bethnal",
          "Bethnal",
          "Bethnal",
          "Bethnal",
          "Bethnal",
          "Bethnal",
          "Bethnal",
          "Bethnal",
          "Bethnal",
          "Bethnal",
          "Bethnal",
          "Bethnal",
          "Bethnal",
          "Bethnal",
          "Bethnal",
          "Bethnal",
          "Bethnal",
          "Bethnal",
          "Bethnal",
          "Bethnal",
          "Bethnal",
          "Bethnal",
          "Bethnal",
          "Bethnal",
          "Bethnal",
          "Bethnal",
          "Bethnal",
          "Bethnal",
          "Bethnal",
          "Bethnal",
          "Bethnal",
          "Bethnal",
          "Bethnal",
          "Bethnal",
          "Bethnal",
          "Bethnal",
          "Bethnal",
          "Bethnal",
          "Bethnal",
          "Bethnal",
          "Bethnal",
          "Bethnal",
          "Bethnal",
          "Bethnal",
          "Bethnal",
          "Bethnal",
          "Bethnal",
          "Bethnal"
         ],
         "lat": [
          51.54255,
          51.549409999999995,
          51.53602,
          51.53503,
          51.535379999999996,
          51.54552,
          51.5496,
          51.545359999999995,
          51.54162,
          51.53942,
          51.53817,
          51.536359999999995,
          51.538109999999996,
          51.53499,
          51.539320000000004,
          51.54208,
          51.53654,
          51.5368,
          51.53752,
          51.534459999999996,
          51.5237,
          51.53006,
          51.5271,
          51.52729,
          51.522420000000004,
          51.5179,
          51.53117,
          51.5325,
          51.53362,
          51.5244,
          51.52657,
          51.52684,
          51.51853,
          51.525490000000005,
          51.52805,
          51.522690000000004,
          51.52678,
          51.51008,
          51.51997,
          51.52012,
          51.51983,
          51.5216,
          51.51892,
          51.5251,
          51.52629,
          51.52796,
          51.52775,
          51.525659999999995,
          51.52544,
          51.52639,
          51.529720000000005,
          51.5273,
          51.52766,
          51.53096,
          51.52964,
          51.52075,
          51.52747,
          51.52689,
          51.51723,
          51.532270000000004,
          51.525079999999996,
          51.53198,
          51.53277,
          51.53528,
          51.528890000000004,
          51.53049,
          51.52717,
          51.52904,
          51.52043,
          51.52667,
          51.525859999999994,
          51.52995,
          51.51127,
          51.53242,
          51.52863,
          51.52863,
          51.524359999999994,
          51.52248,
          51.54338,
          51.52681,
          51.52685,
          51.52465,
          51.53025,
          51.52487,
          51.525490000000005,
          51.52814,
          51.53042,
          51.52497,
          51.52778,
          51.525859999999994,
          51.52709,
          51.53344,
          51.52923,
          51.52747,
          51.525009999999995,
          51.52228,
          51.52856,
          51.52885,
          51.52753,
          51.52449,
          51.530879999999996,
          51.52818,
          51.53052,
          51.52905,
          51.52306,
          51.53106,
          51.524570000000004,
          51.528240000000004,
          51.5305,
          51.51511,
          51.5306,
          51.527409999999996,
          51.52941,
          51.525529999999996,
          51.52732,
          51.53139,
          51.52412,
          51.52968,
          51.528259999999996,
          51.52722,
          51.52434
         ],
         "legendgroup": "Bethnal",
         "lon": [
          -0.04857,
          -0.0598,
          -0.054920000000000004,
          -0.057170000000000006,
          -0.0553,
          -0.055720000000000006,
          -0.06996000000000001,
          -0.055670000000000004,
          -0.052039999999999996,
          -0.05212000000000001,
          -0.05379,
          -0.06787,
          -0.04363,
          -0.06601,
          -0.05635,
          -0.05517999999999999,
          -0.0662,
          -0.05272999999999999,
          -0.047080000000000004,
          -0.05781,
          -0.056229999999999995,
          -0.04295,
          -0.05691,
          -0.06134,
          -0.05275,
          -0.04528,
          -0.0568,
          -0.04991,
          -0.0576,
          -0.05065,
          -0.058039999999999994,
          -0.05797000000000001,
          -0.038,
          -0.056620000000000004,
          -0.05819,
          -0.05971,
          -0.04576,
          -0.016,
          -0.0536,
          -0.049030000000000004,
          -0.029889999999999996,
          -0.030930000000000003,
          -0.02356,
          -0.07603,
          -0.04419,
          -0.0565,
          -0.06188,
          -0.07504,
          -0.06788,
          -0.04972,
          -0.06387999999999999,
          -0.060529999999999994,
          -0.042289999999999994,
          -0.06665,
          -0.059379999999999995,
          -0.02972,
          -0.043539999999999995,
          -0.05217,
          -0.05346,
          -0.04515,
          -0.07405,
          -0.04754,
          -0.04849,
          -0.03304,
          -0.0718,
          -0.04118,
          -0.051660000000000005,
          -0.06964,
          -0.0569,
          -0.05867000000000001,
          -0.06506,
          -0.053860000000000005,
          -0.02062,
          -0.04808,
          -0.05594,
          -0.05594,
          -0.05429,
          -0.06221,
          -0.0221,
          -0.05145,
          -0.05269,
          -0.05976,
          -0.07297999999999999,
          -0.051019999999999996,
          -0.07012,
          -0.06679,
          -0.06427999999999999,
          -0.04892,
          -0.0503,
          -0.071,
          -0.056670000000000005,
          -0.05225,
          -0.060579999999999995,
          -0.0535,
          -0.06813999999999999,
          -0.050710000000000005,
          -0.053529999999999994,
          -0.05148,
          -0.050960000000000005,
          -0.07186000000000001,
          -0.054029999999999995,
          -0.04233,
          -0.058879999999999995,
          -0.05915,
          -0.059829999999999994,
          -0.06121,
          -0.015030000000000002,
          -0.049339999999999995,
          -0.06097999999999999,
          -0.02174,
          -0.041460000000000004,
          -0.059579999999999994,
          -0.0497,
          -0.05625,
          -0.06525,
          -0.045,
          -0.06676,
          -0.06402999999999999,
          -0.04113,
          -0.06006,
          -0.05437
         ],
         "marker": {
          "color": "#EF553B"
         },
         "mode": "markers",
         "name": "Bethnal",
         "showlegend": true,
         "subplot": "mapbox",
         "type": "scattermapbox"
        },
        {
         "customdata": [
          [
           "10.18 %"
          ],
          [
           "115.68 %"
          ],
          [
           "-16.78 %"
          ],
          [
           "-28.50 %"
          ],
          [
           "40.66 %"
          ],
          [
           "-28.50 %"
          ],
          [
           "48.87 %"
          ],
          [
           "-8.29 %"
          ],
          [
           "-7.85 %"
          ],
          [
           "-50.63 %"
          ],
          [
           "-23.21 %"
          ],
          [
           "-56.12 %"
          ],
          [
           "-50.63 %"
          ],
          [
           "-45.15 %"
          ],
          [
           "-28.69 %"
          ],
          [
           "31.65 %"
          ],
          [
           "-38.57 %"
          ],
          [
           "-46.24 %"
          ],
          [
           "-36.37 %"
          ],
          [
           "-12.24 %"
          ],
          [
           "-28.69 %"
          ],
          [
           "-3.46 %"
          ],
          [
           "-50.63 %"
          ],
          [
           "-12.24 %"
          ],
          [
           "-34.18 %"
          ],
          [
           "-47.34 %"
          ],
          [
           "-50.63 %"
          ],
          [
           "4.22 %"
          ],
          [
           "0.93 %"
          ],
          [
           "-14.43 %"
          ],
          [
           "-64.89 %"
          ],
          [
           "-35.27 %"
          ],
          [
           "-45.15 %"
          ],
          [
           "-61.60 %"
          ],
          [
           "-10.04 %"
          ],
          [
           "-50.63 %"
          ],
          [
           "-61.60 %"
          ],
          [
           "-56.12 %"
          ],
          [
           "-34.18 %"
          ],
          [
           "-12.24 %"
          ],
          [
           "-12.24 %"
          ],
          [
           "-51.73 %"
          ],
          [
           "-25.40 %"
          ],
          [
           "-39.66 %"
          ],
          [
           "-28.69 %"
          ],
          [
           "-6.75 %"
          ],
          [
           "7.51 %"
          ],
          [
           "-61.60 %"
          ],
          [
           "-52.83 %"
          ],
          [
           "16.29 %"
          ],
          [
           "-61.60 %"
          ],
          [
           "-6.75 %"
          ],
          [
           "-50.63 %"
          ],
          [
           "-61.60 %"
          ],
          [
           "-57.22 %"
          ],
          [
           "-23.21 %"
          ],
          [
           "-56.12 %"
          ],
          [
           "-45.15 %"
          ],
          [
           "-50.63 %"
          ],
          [
           "-67.09 %"
          ],
          [
           "-15.27 %"
          ],
          [
           "-18.69 %"
          ],
          [
           "28.69 %"
          ],
          [
           "96.42 %"
          ],
          [
           "-47.51 %"
          ],
          [
           "15.14 %"
          ],
          [
           "-50.89 %"
          ],
          [
           "-47.51 %"
          ],
          [
           "52.40 %"
          ],
          [
           "248.82 %"
          ],
          [
           "-31.37 %"
          ],
          [
           "-36.91 %"
          ],
          [
           "-16.81 %"
          ],
          [
           "-34.83 %"
          ],
          [
           "-45.23 %"
          ],
          [
           "-58.40 %"
          ],
          [
           "-41.07 %"
          ],
          [
           "-58.40 %"
          ],
          [
           "-30.67 %"
          ],
          [
           "-32.75 %"
          ],
          [
           "-44.54 %"
          ],
          [
           "-34.14 %"
          ],
          [
           "14.39 %"
          ],
          [
           "-65.34 %"
          ],
          [
           "-61.18 %"
          ],
          [
           "-37.61 %"
          ],
          [
           "-24.43 %"
          ],
          [
           "-9.88 %"
          ],
          [
           "-37.61 %"
          ],
          [
           "-9.88 %"
          ],
          [
           "-41.07 %"
          ]
         ],
         "hovertemplate": "<b>%{hovertext}</b><br><br>Place=Maida<br>latitude=%{lat}<br>longitude=%{lon}<br>Price difference=%{customdata[0]}<extra></extra>",
         "hovertext": [
          "Maida",
          "Maida",
          "Maida",
          "Maida",
          "Maida",
          "Maida",
          "Maida",
          "Maida",
          "Maida",
          "Maida",
          "Maida",
          "Maida",
          "Maida",
          "Maida",
          "Maida",
          "Maida",
          "Maida",
          "Maida",
          "Maida",
          "Maida",
          "Maida",
          "Maida",
          "Maida",
          "Maida",
          "Maida",
          "Maida",
          "Maida",
          "Maida",
          "Maida",
          "Maida",
          "Maida",
          "Maida",
          "Maida",
          "Maida",
          "Maida",
          "Maida",
          "Maida",
          "Maida",
          "Maida",
          "Maida",
          "Maida",
          "Maida",
          "Maida",
          "Maida",
          "Maida",
          "Maida",
          "Maida",
          "Maida",
          "Maida",
          "Maida",
          "Maida",
          "Maida",
          "Maida",
          "Maida",
          "Maida",
          "Maida",
          "Maida",
          "Maida",
          "Maida",
          "Maida",
          "Maida",
          "Maida",
          "Maida",
          "Maida",
          "Maida",
          "Maida",
          "Maida",
          "Maida",
          "Maida",
          "Maida",
          "Maida",
          "Maida",
          "Maida",
          "Maida",
          "Maida",
          "Maida",
          "Maida",
          "Maida",
          "Maida",
          "Maida",
          "Maida",
          "Maida",
          "Maida",
          "Maida",
          "Maida",
          "Maida",
          "Maida",
          "Maida",
          "Maida",
          "Maida",
          "Maida"
         ],
         "lat": [
          51.54269,
          51.5402,
          51.53171,
          51.53634,
          51.537259999999996,
          51.54198,
          51.54016,
          51.53804,
          51.528529999999996,
          51.524359999999994,
          51.52426,
          51.52921,
          51.52537,
          51.52281,
          51.52414,
          51.52384,
          51.5324,
          51.52648,
          51.52881,
          51.52727,
          51.5202,
          51.529579999999996,
          51.530120000000004,
          51.52881,
          51.530159999999995,
          51.52968,
          51.52742,
          51.52791,
          51.529270000000004,
          51.528079999999996,
          51.52837,
          51.52587,
          51.53405,
          51.522859999999994,
          51.53646,
          51.526579999999996,
          51.52898,
          51.532779999999995,
          51.5265,
          51.52725,
          51.5269,
          51.52813,
          51.52633,
          51.52998,
          51.52858,
          51.52247,
          51.527809999999995,
          51.5211,
          51.52955,
          51.53079,
          51.530570000000004,
          51.52516,
          51.525490000000005,
          51.52697,
          51.5266,
          51.525490000000005,
          51.52604,
          51.531000000000006,
          51.529540000000004,
          51.531209999999994,
          51.54865,
          51.54441,
          51.53233,
          51.53289,
          51.53575,
          51.53022,
          51.53583,
          51.53382,
          51.532309999999995,
          51.54685,
          51.52575,
          51.530429999999996,
          51.514179999999996,
          51.5263,
          51.52644,
          51.52895,
          51.53448,
          51.52812,
          51.53614,
          51.5257,
          51.52936,
          51.52517,
          51.52636,
          51.525059999999996,
          51.53125,
          51.526709999999994,
          51.52861,
          51.52688,
          51.52479,
          51.53099,
          51.52433
         ],
         "legendgroup": "Maida",
         "lon": [
          -0.20207,
          -0.20132,
          -0.22236999999999998,
          -0.21973,
          -0.19579000000000002,
          -0.20184000000000002,
          -0.20794,
          -0.18961,
          -0.19559,
          -0.19924,
          -0.19809000000000002,
          -0.19981,
          -0.19729000000000002,
          -0.19669,
          -0.1955,
          -0.19516,
          -0.1898,
          -0.19166,
          -0.19397,
          -0.19752999999999998,
          -0.1759,
          -0.18716,
          -0.18669000000000002,
          -0.18617999999999998,
          -0.18798,
          -0.18683,
          -0.19325,
          -0.18669000000000002,
          -0.18725,
          -0.18847,
          -0.19174000000000002,
          -0.19809000000000002,
          -0.19129000000000002,
          -0.19596,
          -0.18348,
          -0.19136,
          -0.19052,
          -0.18823,
          -0.19287,
          -0.18613,
          -0.19178,
          -0.19608,
          -0.19322,
          -0.19462000000000002,
          -0.18694000000000002,
          -0.17674,
          -0.18836,
          -0.17349,
          -0.18733,
          -0.18848,
          -0.20240999999999998,
          -0.19605999999999998,
          -0.18283,
          -0.16608,
          -0.17128,
          -0.19353,
          -0.20088,
          -0.20232999999999998,
          -0.18541,
          -0.20163,
          -0.20542,
          -0.18350999999999998,
          -0.22116999999999998,
          -0.19698,
          -0.23021999999999998,
          -0.1945,
          -0.23224,
          -0.23174,
          -0.19939,
          -0.20883000000000002,
          -0.19782,
          -0.18389,
          -0.17881,
          -0.18259,
          -0.19124000000000002,
          -0.18759,
          -0.1885,
          -0.19345,
          -0.18445,
          -0.2009,
          -0.20278,
          -0.20334000000000002,
          -0.19187,
          -0.19491,
          -0.17724,
          -0.19467,
          -0.1867,
          -0.19465,
          -0.19071,
          -0.18765,
          -0.17146
         ],
         "marker": {
          "color": "#00cc96"
         },
         "mode": "markers",
         "name": "Maida",
         "showlegend": true,
         "subplot": "mapbox",
         "type": "scattermapbox"
        },
        {
         "customdata": [
          [
           "-49.50 %"
          ],
          [
           "-39.06 %"
          ],
          [
           "-56.47 %"
          ],
          [
           "-35.57 %"
          ],
          [
           "-37.32 %"
          ],
          [
           "-47.76 %"
          ],
          [
           "-47.76 %"
          ],
          [
           "-30.35 %"
          ],
          [
           "0.99 %"
          ],
          [
           "-39.06 %"
          ],
          [
           "11.44 %"
          ],
          [
           "-39.06 %"
          ],
          [
           "-39.06 %"
          ],
          [
           "-35.57 %"
          ],
          [
           "4.47 %"
          ],
          [
           "35.82 %"
          ],
          [
           "-21.65 %"
          ],
          [
           "-63.43 %"
          ],
          [
           "-61.69 %"
          ],
          [
           "-39.06 %"
          ],
          [
           "-65.18 %"
          ],
          [
           "86.95 %"
          ],
          [
           "-13.71 %"
          ],
          [
           "-46.07 %"
          ],
          [
           "-55.06 %"
          ],
          [
           "-31.69 %"
          ],
          [
           "-49.67 %"
          ],
          [
           "-24.50 %"
          ],
          [
           "-28.09 %"
          ],
          [
           "43.81 %"
          ],
          [
           "-58.65 %"
          ],
          [
           "-47.87 %"
          ],
          [
           "18.64 %"
          ],
          [
           "-10.12 %"
          ],
          [
           "76.17 %"
          ],
          [
           "-46.07 %"
          ],
          [
           "0.67 %"
          ],
          [
           "-24.50 %"
          ],
          [
           "-37.08 %"
          ],
          [
           "-49.67 %"
          ],
          [
           "7.86 %"
          ],
          [
           "-19.11 %"
          ],
          [
           "-13.36 %"
          ],
          [
           "15.52 %"
          ],
          [
           "10.90 %"
          ],
          [
           "-6.43 %"
          ],
          [
           "3.97 %"
          ],
          [
           "-31.84 %"
          ],
          [
           "-42.24 %"
          ],
          [
           "-36.47 %"
          ],
          [
           "-5.28 %"
          ],
          [
           "37.47 %"
          ],
          [
           "-29.53 %"
          ],
          [
           "-26.07 %"
          ],
          [
           "-1.81 %"
          ],
          [
           "9.74 %"
          ],
          [
           "-44.55 %"
          ],
          [
           "-52.64 %"
          ],
          [
           "-24.91 %"
          ],
          [
           "-19.14 %"
          ],
          [
           "-34.16 %"
          ],
          [
           "-7.59 %"
          ],
          [
           "-31.84 %"
          ],
          [
           "-7.59 %"
          ],
          [
           "-2.32 %"
          ],
          [
           "2.28 %"
          ],
          [
           "-42.54 %"
          ],
          [
           "72.38 %"
          ],
          [
           "3.43 %"
          ],
          [
           "2.28 %"
          ],
          [
           "43.65 %"
          ],
          [
           "-36.79 %"
          ],
          [
           "-39.68 %"
          ],
          [
           "-48.96 %"
          ],
          [
           "23.73 %"
          ],
          [
           "-30.40 %"
          ],
          [
           "-22.67 %"
          ],
          [
           "54.66 %"
          ],
          [
           "-28.86 %"
          ],
          [
           "0.53 %"
          ],
          [
           "-22.67 %"
          ],
          [
           "-39.68 %"
          ],
          [
           "39.19 %"
          ],
          [
           "5.17 %"
          ],
          [
           "-50.51 %"
          ],
          [
           "-14.94 %"
          ],
          [
           "-22.67 %"
          ],
          [
           "673.29 %"
          ],
          [
           "54.66 %"
          ],
          [
           "-41.23 %"
          ],
          [
           "-50.51 %"
          ],
          [
           "-48.96 %"
          ],
          [
           "-4.11 %"
          ],
          [
           "-7.20 %"
          ],
          [
           "-50.51 %"
          ],
          [
           "17.54 %"
          ],
          [
           "-45.87 %"
          ],
          [
           "3.62 %"
          ],
          [
           "-38.14 %"
          ],
          [
           "-30.40 %"
          ],
          [
           "-38.14 %"
          ],
          [
           "-56.70 %"
          ],
          [
           "-72.16 %"
          ],
          [
           "2.07 %"
          ],
          [
           "-41.23 %"
          ],
          [
           "15.99 %"
          ],
          [
           "-65.98 %"
          ],
          [
           "8.26 %"
          ],
          [
           "-38.14 %"
          ],
          [
           "-53.60 %"
          ],
          [
           "48.47 %"
          ],
          [
           "-45.87 %"
          ],
          [
           "20.63 %"
          ],
          [
           "-18.03 %"
          ],
          [
           "673.29 %"
          ],
          [
           "-10.30 %"
          ],
          [
           "8.26 %"
          ],
          [
           "0.53 %"
          ],
          [
           "11.35 %"
          ],
          [
           "-8.75 %"
          ],
          [
           "8.26 %"
          ],
          [
           "-45.87 %"
          ],
          [
           "23.73 %"
          ],
          [
           "-18.03 %"
          ],
          [
           "-25.76 %"
          ],
          [
           "-59.79 %"
          ],
          [
           "-38.14 %"
          ],
          [
           "-30.40 %"
          ],
          [
           "11.35 %"
          ],
          [
           "-38.14 %"
          ],
          [
           "0.53 %"
          ],
          [
           "-30.40 %"
          ],
          [
           "-53.60 %"
          ],
          [
           "-45.87 %"
          ],
          [
           "-33.50 %"
          ],
          [
           "-19.58 %"
          ],
          [
           "-22.67 %"
          ],
          [
           "-55.15 %"
          ],
          [
           "23.73 %"
          ],
          [
           "201.58 %"
          ],
          [
           "-53.60 %"
          ],
          [
           "-56.70 %"
          ],
          [
           "-59.79 %"
          ],
          [
           "-56.70 %"
          ],
          [
           "-30.40 %"
          ],
          [
           "-15.84 %"
          ],
          [
           "-35.26 %"
          ],
          [
           "-35.26 %"
          ],
          [
           "-18.41 %"
          ]
         ],
         "hovertemplate": "<b>%{hovertext}</b><br><br>Place=Tooting<br>latitude=%{lat}<br>longitude=%{lon}<br>Price difference=%{customdata[0]}<extra></extra>",
         "hovertext": [
          "Tooting",
          "Tooting",
          "Tooting",
          "Tooting",
          "Tooting",
          "Tooting",
          "Tooting",
          "Tooting",
          "Tooting",
          "Tooting",
          "Tooting",
          "Tooting",
          "Tooting",
          "Tooting",
          "Tooting",
          "Tooting",
          "Tooting",
          "Tooting",
          "Tooting",
          "Tooting",
          "Tooting",
          "Tooting",
          "Tooting",
          "Tooting",
          "Tooting",
          "Tooting",
          "Tooting",
          "Tooting",
          "Tooting",
          "Tooting",
          "Tooting",
          "Tooting",
          "Tooting",
          "Tooting",
          "Tooting",
          "Tooting",
          "Tooting",
          "Tooting",
          "Tooting",
          "Tooting",
          "Tooting",
          "Tooting",
          "Tooting",
          "Tooting",
          "Tooting",
          "Tooting",
          "Tooting",
          "Tooting",
          "Tooting",
          "Tooting",
          "Tooting",
          "Tooting",
          "Tooting",
          "Tooting",
          "Tooting",
          "Tooting",
          "Tooting",
          "Tooting",
          "Tooting",
          "Tooting",
          "Tooting",
          "Tooting",
          "Tooting",
          "Tooting",
          "Tooting",
          "Tooting",
          "Tooting",
          "Tooting",
          "Tooting",
          "Tooting",
          "Tooting",
          "Tooting",
          "Tooting",
          "Tooting",
          "Tooting",
          "Tooting",
          "Tooting",
          "Tooting",
          "Tooting",
          "Tooting",
          "Tooting",
          "Tooting",
          "Tooting",
          "Tooting",
          "Tooting",
          "Tooting",
          "Tooting",
          "Tooting",
          "Tooting",
          "Tooting",
          "Tooting",
          "Tooting",
          "Tooting",
          "Tooting",
          "Tooting",
          "Tooting",
          "Tooting",
          "Tooting",
          "Tooting",
          "Tooting",
          "Tooting",
          "Tooting",
          "Tooting",
          "Tooting",
          "Tooting",
          "Tooting",
          "Tooting",
          "Tooting",
          "Tooting",
          "Tooting",
          "Tooting",
          "Tooting",
          "Tooting",
          "Tooting",
          "Tooting",
          "Tooting",
          "Tooting",
          "Tooting",
          "Tooting",
          "Tooting",
          "Tooting",
          "Tooting",
          "Tooting",
          "Tooting",
          "Tooting",
          "Tooting",
          "Tooting",
          "Tooting",
          "Tooting",
          "Tooting",
          "Tooting",
          "Tooting",
          "Tooting",
          "Tooting",
          "Tooting",
          "Tooting",
          "Tooting",
          "Tooting",
          "Tooting",
          "Tooting",
          "Tooting",
          "Tooting",
          "Tooting",
          "Tooting",
          "Tooting",
          "Tooting",
          "Tooting",
          "Tooting",
          "Tooting"
         ],
         "lat": [
          51.43027,
          51.44078,
          51.445159999999994,
          51.44028,
          51.42233,
          51.43422,
          51.43815,
          51.44192,
          51.43418,
          51.43371,
          51.42749,
          51.43466,
          51.43943,
          51.42385,
          51.43418,
          51.43639,
          51.44637,
          51.44546,
          51.444520000000004,
          51.4415,
          51.445809999999994,
          51.41985,
          51.42242,
          51.42094,
          51.418929999999996,
          51.41349,
          51.430170000000004,
          51.421009999999995,
          51.423390000000005,
          51.41257,
          51.41186,
          51.417629999999996,
          51.42191,
          51.40462,
          51.416740000000004,
          51.410790000000006,
          51.42087,
          51.4178,
          51.41826,
          51.41592,
          51.41547,
          51.42233,
          51.436659999999996,
          51.44474,
          51.42273,
          51.432559999999995,
          51.437490000000004,
          51.43695,
          51.4341,
          51.4184,
          51.45244,
          51.42837,
          51.43119,
          51.43277,
          51.435959999999994,
          51.43275,
          51.45436,
          51.428909999999995,
          51.422540000000005,
          51.43188,
          51.42118,
          51.43453,
          51.43631,
          51.44787,
          51.436009999999996,
          51.44008,
          51.42972,
          51.431979999999996,
          51.42522,
          51.42512,
          51.43857,
          51.43568,
          51.425779999999996,
          51.419290000000004,
          51.44665,
          51.422959999999996,
          51.43027,
          51.42556,
          51.42289,
          51.44742,
          51.439659999999996,
          51.434909999999995,
          51.43414,
          51.44625,
          51.42784,
          51.43265,
          51.42555,
          51.42475,
          51.43137,
          51.42794,
          51.44362,
          51.42362,
          51.43723,
          51.43155,
          51.42095,
          51.442609999999995,
          51.44125,
          51.44166,
          51.43678,
          51.42695,
          51.43645,
          51.420559999999995,
          51.42842,
          51.429990000000004,
          51.42633,
          51.447590000000005,
          51.424440000000004,
          51.42756,
          51.427240000000005,
          51.419090000000004,
          51.441720000000004,
          51.4303,
          51.4376,
          51.42172,
          51.42273,
          51.4207,
          51.42324,
          51.43456,
          51.4375,
          51.434259999999995,
          51.429359999999996,
          51.441359999999996,
          51.41993,
          51.45732,
          51.42485,
          51.42528,
          51.43699,
          51.4275,
          51.42368,
          51.42822,
          51.42778,
          51.431709999999995,
          51.42665,
          51.425709999999995,
          51.4286,
          51.42389,
          51.44137,
          51.426629999999996,
          51.43172,
          51.438140000000004,
          51.43332,
          51.42638,
          51.42937,
          51.42825,
          51.431509999999996,
          51.42131,
          51.42087,
          51.41755,
          51.42053
         ],
         "legendgroup": "Tooting",
         "lon": [
          -0.12880999999999998,
          -0.12775999999999998,
          -0.13269,
          -0.12927,
          -0.13051,
          -0.13447,
          -0.127,
          -0.12994,
          -0.13001,
          -0.1309,
          -0.13369,
          -0.1286,
          -0.13175,
          -0.10898,
          -0.13294,
          -0.12653,
          -0.13921,
          -0.14545,
          -0.14494,
          -0.12377,
          -0.14505,
          -0.17552,
          -0.17240999999999998,
          -0.1777,
          -0.16948,
          -0.17595,
          -0.19405,
          -0.17577,
          -0.17603,
          -0.15698,
          -0.13859000000000002,
          -0.18569000000000002,
          -0.1788,
          -0.14221,
          -0.17246,
          -0.15983,
          -0.17304,
          -0.14970999999999998,
          -0.1874,
          -0.1698,
          -0.17007,
          -0.17355,
          -0.15302000000000002,
          -0.15108,
          -0.15874000000000002,
          -0.16451,
          -0.14438,
          -0.15679,
          -0.18731,
          -0.14583,
          -0.17552,
          -0.15700999999999998,
          -0.1639,
          -0.18245999999999998,
          -0.17627,
          -0.18222,
          -0.19243,
          -0.16764,
          -0.13921,
          -0.15500999999999998,
          -0.16351,
          -0.15675999999999998,
          -0.18692999999999999,
          -0.18353,
          -0.11744,
          -0.13599,
          -0.12716,
          -0.13176,
          -0.12989,
          -0.13049000000000002,
          -0.12772999999999998,
          -0.13373,
          -0.15446,
          -0.14649,
          -0.17786,
          -0.16680999999999999,
          -0.15574000000000002,
          -0.17407,
          -0.17237,
          -0.14679,
          -0.14702,
          -0.16791,
          -0.15636,
          -0.18550999999999998,
          -0.16565,
          -0.15748,
          -0.16452999999999998,
          -0.16977,
          -0.15758,
          -0.15112,
          -0.15836,
          -0.14456,
          -0.15663,
          -0.14981,
          -0.15285,
          -0.15547,
          -0.14448,
          -0.14037,
          -0.18015,
          -0.14595,
          -0.16655999999999999,
          -0.13896,
          -0.15072,
          -0.17355,
          -0.1483,
          -0.15919,
          -0.15705,
          -0.15272,
          -0.1623,
          -0.14184000000000002,
          -0.15225,
          -0.17495,
          -0.16332,
          -0.1658,
          -0.16403,
          -0.14448,
          -0.16179000000000002,
          -0.15155,
          -0.15173,
          -0.17060999999999998,
          -0.14095,
          -0.16677999999999998,
          -0.14306,
          -0.19282,
          -0.17054,
          -0.16326,
          -0.15730999999999998,
          -0.15939,
          -0.14059000000000002,
          -0.17927,
          -0.1628,
          -0.16264,
          -0.14675,
          -0.15586,
          -0.17782,
          -0.15529,
          -0.18758,
          -0.16882,
          -0.16218,
          -0.16407,
          -0.1563,
          -0.16171,
          -0.14415,
          -0.16806,
          -0.15145,
          -0.1741,
          -0.17962,
          -0.17958,
          -0.17427
         ],
         "marker": {
          "color": "#ab63fa"
         },
         "mode": "markers",
         "name": "Tooting",
         "showlegend": true,
         "subplot": "mapbox",
         "type": "scattermapbox"
        },
        {
         "customdata": [
          [
           "-10.57 %"
          ],
          [
           "-53.97 %"
          ],
          [
           "-39.50 %"
          ],
          [
           "-44.76 %"
          ],
          [
           "-0.04 %"
          ],
          [
           "-63.17 %"
          ],
          [
           "-28.98 %"
          ],
          [
           "-17.14 %"
          ],
          [
           "-53.97 %"
          ],
          [
           "-36.87 %"
          ],
          [
           "-48.71 %"
          ],
          [
           "-34.24 %"
          ],
          [
           "-26.35 %"
          ],
          [
           "-76.33 %"
          ],
          [
           "-7.94 %"
          ],
          [
           "-43.45 %"
          ],
          [
           "-53.97 %"
          ],
          [
           "-50.02 %"
          ],
          [
           "-60.54 %"
          ],
          [
           "-53.97 %"
          ],
          [
           "-47.39 %"
          ],
          [
           "-47.39 %"
          ],
          [
           "-52.65 %"
          ],
          [
           "-44.76 %"
          ],
          [
           "-34.24 %"
          ],
          [
           "-36.87 %"
          ],
          [
           "-53.97 %"
          ],
          [
           "49.93 %"
          ],
          [
           "-63.17 %"
          ],
          [
           "-53.97 %"
          ],
          [
           "-56.60 %"
          ],
          [
           "-47.39 %"
          ],
          [
           "5.22 %"
          ],
          [
           "-52.65 %"
          ],
          [
           "-47.39 %"
          ],
          [
           "-32.92 %"
          ],
          [
           "-47.39 %"
          ],
          [
           "-47.39 %"
          ],
          [
           "-44.76 %"
          ],
          [
           "-59.23 %"
          ],
          [
           "-7.94 %"
          ],
          [
           "-36.87 %"
          ],
          [
           "-47.39 %"
          ],
          [
           "-50.02 %"
          ],
          [
           "-26.35 %"
          ],
          [
           "-47.39 %"
          ],
          [
           "17.05 %"
          ],
          [
           "-39.50 %"
          ],
          [
           "-53.97 %"
          ],
          [
           "-50.02 %"
          ],
          [
           "7.85 %"
          ],
          [
           "-31.61 %"
          ],
          [
           "-68.44 %"
          ],
          [
           "-40.82 %"
          ],
          [
           "-35.55 %"
          ],
          [
           "-53.97 %"
          ],
          [
           "-21.09 %"
          ],
          [
           "-53.97 %"
          ],
          [
           "-9.73 %"
          ],
          [
           "59.31 %"
          ],
          [
           "-45.84 %"
          ],
          [
           "-15.04 %"
          ],
          [
           "-25.66 %"
          ],
          [
           "-23.53 %"
          ],
          [
           "-9.73 %"
          ],
          [
           "-13.97 %"
          ],
          [
           "54.00 %"
          ],
          [
           "-9.73 %"
          ],
          [
           "-57.52 %"
          ],
          [
           "-4.42 %"
          ],
          [
           "-47.96 %"
          ],
          [
           "-4.42 %"
          ],
          [
           "-30.97 %"
          ],
          [
           "-25.66 %"
          ],
          [
           "-41.59 %"
          ],
          [
           "-62.83 %"
          ],
          [
           "0.89 %"
          ],
          [
           "0.89 %"
          ],
          [
           "-18.22 %"
          ],
          [
           "-25.66 %"
          ],
          [
           "48.69 %"
          ],
          [
           "16.83 %"
          ],
          [
           "-42.54 %"
          ],
          [
           "-12.94 %"
          ],
          [
           "-16.42 %"
          ],
          [
           "-56.47 %"
          ],
          [
           "-2.49 %"
          ],
          [
           "-47.76 %"
          ],
          [
           "4.47 %"
          ],
          [
           "4.47 %"
          ],
          [
           "4.47 %"
          ],
          [
           "-25.13 %"
          ],
          [
           "25.37 %"
          ],
          [
           "53.23 %"
          ],
          [
           "-4.23 %"
          ],
          [
           "-21.65 %"
          ],
          [
           "-26.87 %"
          ],
          [
           "-4.23 %"
          ],
          [
           "-39.06 %"
          ],
          [
           "-39.06 %"
          ],
          [
           "-37.94 %"
          ],
          [
           "-2.32 %"
          ],
          [
           "3.43 %"
          ],
          [
           "-44.84 %"
          ],
          [
           "3.43 %"
          ],
          [
           "-34.50 %"
          ],
          [
           "72.38 %"
          ],
          [
           "-8.06 %"
          ],
          [
           "-29.90 %"
          ],
          [
           "-33.35 %"
          ],
          [
           "-2.32 %"
          ],
          [
           "65.71 %"
          ],
          [
           "12.98 %"
          ],
          [
           "-22.12 %"
          ],
          [
           "75.23 %"
          ],
          [
           "-2.65 %"
          ],
          [
           "-39.64 %"
          ]
         ],
         "hovertemplate": "<b>%{hovertext}</b><br><br>Place=Camberwell<br>latitude=%{lat}<br>longitude=%{lon}<br>Price difference=%{customdata[0]}<extra></extra>",
         "hovertext": [
          "Camberwell",
          "Camberwell",
          "Camberwell",
          "Camberwell",
          "Camberwell",
          "Camberwell",
          "Camberwell",
          "Camberwell",
          "Camberwell",
          "Camberwell",
          "Camberwell",
          "Camberwell",
          "Camberwell",
          "Camberwell",
          "Camberwell",
          "Camberwell",
          "Camberwell",
          "Camberwell",
          "Camberwell",
          "Camberwell",
          "Camberwell",
          "Camberwell",
          "Camberwell",
          "Camberwell",
          "Camberwell",
          "Camberwell",
          "Camberwell",
          "Camberwell",
          "Camberwell",
          "Camberwell",
          "Camberwell",
          "Camberwell",
          "Camberwell",
          "Camberwell",
          "Camberwell",
          "Camberwell",
          "Camberwell",
          "Camberwell",
          "Camberwell",
          "Camberwell",
          "Camberwell",
          "Camberwell",
          "Camberwell",
          "Camberwell",
          "Camberwell",
          "Camberwell",
          "Camberwell",
          "Camberwell",
          "Camberwell",
          "Camberwell",
          "Camberwell",
          "Camberwell",
          "Camberwell",
          "Camberwell",
          "Camberwell",
          "Camberwell",
          "Camberwell",
          "Camberwell",
          "Camberwell",
          "Camberwell",
          "Camberwell",
          "Camberwell",
          "Camberwell",
          "Camberwell",
          "Camberwell",
          "Camberwell",
          "Camberwell",
          "Camberwell",
          "Camberwell",
          "Camberwell",
          "Camberwell",
          "Camberwell",
          "Camberwell",
          "Camberwell",
          "Camberwell",
          "Camberwell",
          "Camberwell",
          "Camberwell",
          "Camberwell",
          "Camberwell",
          "Camberwell",
          "Camberwell",
          "Camberwell",
          "Camberwell",
          "Camberwell",
          "Camberwell",
          "Camberwell",
          "Camberwell",
          "Camberwell",
          "Camberwell",
          "Camberwell",
          "Camberwell",
          "Camberwell",
          "Camberwell",
          "Camberwell",
          "Camberwell",
          "Camberwell",
          "Camberwell",
          "Camberwell",
          "Camberwell",
          "Camberwell",
          "Camberwell",
          "Camberwell",
          "Camberwell",
          "Camberwell",
          "Camberwell",
          "Camberwell",
          "Camberwell",
          "Camberwell",
          "Camberwell",
          "Camberwell",
          "Camberwell",
          "Camberwell",
          "Camberwell",
          "Camberwell",
          "Camberwell",
          "Camberwell"
         ],
         "lat": [
          51.46452,
          51.470890000000004,
          51.47835,
          51.47588,
          51.46241,
          51.47925,
          51.461690000000004,
          51.47271,
          51.47511,
          51.46986,
          51.478770000000004,
          51.4642,
          51.476259999999996,
          51.47418,
          51.4813,
          51.474270000000004,
          51.48229,
          51.48072,
          51.47735,
          51.47948,
          51.482859999999995,
          51.482479999999995,
          51.47732,
          51.47927,
          51.47915,
          51.48064,
          51.48874,
          51.48151,
          51.4751,
          51.473890000000004,
          51.4757,
          51.47724,
          51.46755,
          51.47896,
          51.47047,
          51.48087,
          51.482490000000006,
          51.47822,
          51.47995,
          51.47432,
          51.45848,
          51.46778,
          51.47465,
          51.47927,
          51.48529,
          51.46093,
          51.482690000000005,
          51.45836,
          51.47267,
          51.478840000000005,
          51.47793,
          51.478429999999996,
          51.47377,
          51.480470000000004,
          51.480059999999995,
          51.47722,
          51.47558,
          51.4767,
          51.470040000000004,
          51.47187,
          51.47657,
          51.46541,
          51.4824,
          51.4753,
          51.479729999999996,
          51.46703,
          51.49341,
          51.48718,
          51.47715,
          51.46637,
          51.48185,
          51.479459999999996,
          51.482240000000004,
          51.480109999999996,
          51.452459999999995,
          51.48045,
          51.46671,
          51.46801,
          51.47551,
          51.47144,
          51.47395,
          51.47203,
          51.46861,
          51.46045,
          51.46455,
          51.46695,
          51.46877,
          51.477740000000004,
          51.477740000000004,
          51.4577,
          51.457409999999996,
          51.47262,
          51.46898,
          51.47113,
          51.468920000000004,
          51.46797,
          51.47854,
          51.457409999999996,
          51.47017,
          51.47075,
          51.47567,
          51.47182,
          51.477740000000004,
          51.47677,
          51.468109999999996,
          51.47448,
          51.46881,
          51.47464,
          51.471270000000004,
          51.468959999999996,
          51.46484,
          51.46536,
          51.472840000000005,
          51.44109,
          51.46799,
          51.46995,
          51.47822
         ],
         "legendgroup": "Camberwell",
         "lon": [
          -0.0797,
          -0.08345,
          -0.08972999999999999,
          -0.09857,
          -0.05875,
          -0.06188,
          -0.058570000000000004,
          -0.0974,
          -0.08578,
          -0.09177,
          -0.08824,
          -0.08269,
          -0.0877,
          -0.08185,
          -0.09052,
          -0.09857,
          -0.10094,
          -0.08105,
          -0.0747,
          -0.08534,
          -0.09432,
          -0.09537999999999999,
          -0.09692,
          -0.09194,
          -0.08897000000000001,
          -0.10578,
          -0.08915,
          -0.09229,
          -0.0943,
          -0.09181,
          -0.09082,
          -0.08995,
          -0.07979,
          -0.09742999999999999,
          -0.07486,
          -0.08438,
          -0.09427,
          -0.08852,
          -0.10620999999999998,
          -0.09312999999999999,
          -0.08822999999999999,
          -0.07589,
          -0.09419,
          -0.06648,
          -0.07303,
          -0.08942,
          -0.09179,
          -0.05196,
          -0.09264,
          -0.07887999999999999,
          -0.0932,
          -0.09623,
          -0.09581,
          -0.0861,
          -0.09106,
          -0.07395,
          -0.08789,
          -0.09986,
          -0.08394,
          -0.08377000000000001,
          -0.09757,
          -0.08213999999999999,
          -0.10173,
          -0.09127,
          -0.08914,
          -0.08261,
          -0.09219,
          -0.08772,
          -0.08512,
          -0.0689,
          -0.09616,
          -0.08876,
          -0.08014,
          -0.09395,
          -0.05881,
          -0.08651,
          -0.07937000000000001,
          -0.07341,
          -0.09707,
          -0.08391,
          -0.07864,
          -0.0764,
          -0.09912,
          -0.09376,
          -0.09895,
          -0.10009,
          -0.10052,
          -0.10404000000000001,
          -0.1047,
          -0.09955,
          -0.09982,
          -0.10049,
          -0.09679,
          -0.10369,
          -0.0989,
          -0.1009,
          -0.11756,
          -0.11102999999999999,
          -0.09684,
          -0.10226,
          -0.10522000000000001,
          -0.10639000000000001,
          -0.11569000000000002,
          -0.10049,
          -0.10361,
          -0.10785,
          -0.09667,
          -0.1011,
          -0.11132,
          -0.09694,
          -0.10329,
          -0.040119999999999996,
          -0.03635,
          -0.05861,
          -0.03178,
          -0.04237,
          -0.0454
         ],
         "marker": {
          "color": "#FFA15A"
         },
         "mode": "markers",
         "name": "Camberwell",
         "showlegend": true,
         "subplot": "mapbox",
         "type": "scattermapbox"
        },
        {
         "customdata": [
          [
           "-47.27 %"
          ],
          [
           "-39.74 %"
          ],
          [
           "-43.54 %"
          ],
          [
           "-59.11 %"
          ],
          [
           "16.82 %"
          ],
          [
           "16.82 %"
          ],
          [
           "16.82 %"
          ],
          [
           "-24.06 %"
          ],
          [
           "-22.12 %"
          ],
          [
           "-41.59 %"
          ],
          [
           "-41.59 %"
          ],
          [
           "-49.38 %"
          ],
          [
           "-37.69 %"
          ],
          [
           "-45.48 %"
          ],
          [
           "-22.12 %"
          ],
          [
           "-2.65 %"
          ],
          [
           "-22.12 %"
          ],
          [
           "-6.54 %"
          ],
          [
           "-22.12 %"
          ],
          [
           "-61.06 %"
          ],
          [
           "-61.06 %"
          ],
          [
           "-22.12 %"
          ],
          [
           "-45.48 %"
          ],
          [
           "-0.70 %"
          ]
         ],
         "hovertemplate": "<b>%{hovertext}</b><br><br>Place=Catford<br>latitude=%{lat}<br>longitude=%{lon}<br>Price difference=%{customdata[0]}<extra></extra>",
         "hovertext": [
          "Catford",
          "Catford",
          "Catford",
          "Catford",
          "Catford",
          "Catford",
          "Catford",
          "Catford",
          "Catford",
          "Catford",
          "Catford",
          "Catford",
          "Catford",
          "Catford",
          "Catford",
          "Catford",
          "Catford",
          "Catford",
          "Catford",
          "Catford",
          "Catford",
          "Catford",
          "Catford",
          "Catford"
         ],
         "lat": [
          51.445479999999996,
          51.44713,
          51.43872,
          51.43865,
          51.449870000000004,
          51.4506,
          51.44266,
          51.45135,
          51.438829999999996,
          51.450359999999996,
          51.44572,
          51.4438,
          51.44085,
          51.44312,
          51.445040000000006,
          51.440670000000004,
          51.44623,
          51.44471,
          51.44408,
          51.43047,
          51.44288,
          51.438990000000004,
          51.443000000000005,
          51.44177
         ],
         "legendgroup": "Catford",
         "lon": [
          -0.00473,
          -0.02384,
          0.00515,
          -0.022369999999999998,
          -0.029960000000000004,
          -0.0287,
          -0.00473,
          -0.01457,
          -0.021230000000000002,
          -0.02559,
          -0.013590000000000001,
          -0.032560000000000006,
          0.00451,
          -0.00527,
          -0.03252,
          -0.0055,
          -0.03092,
          -0.012759999999999999,
          -0.02634,
          0.02992,
          -0.038860000000000006,
          -0.03065,
          -0.03211,
          0.00149
         ],
         "marker": {
          "color": "#19d3f3"
         },
         "mode": "markers",
         "name": "Catford",
         "showlegend": true,
         "subplot": "mapbox",
         "type": "scattermapbox"
        },
        {
         "customdata": [
          [
           "-5.50 %"
          ],
          [
           "63.07 %"
          ],
          [
           "8.71 %"
          ],
          [
           "-49.82 %"
          ],
          [
           "-8.01 %"
          ],
          [
           "-49.82 %"
          ],
          [
           "-8.85 %"
          ],
          [
           "17.08 %"
          ],
          [
           "25.44 %"
          ],
          [
           "-33.10 %"
          ],
          [
           "8.71 %"
          ],
          [
           "-6.34 %"
          ],
          [
           "33.80 %"
          ],
          [
           "-24.74 %"
          ],
          [
           "-54.01 %"
          ],
          [
           "7.88 %"
          ],
          [
           "8.71 %"
          ],
          [
           "-28.92 %"
          ],
          [
           "4.53 %"
          ],
          [
           "-73.24 %"
          ],
          [
           "-8.85 %"
          ],
          [
           "25.44 %"
          ],
          [
           "51.36 %"
          ],
          [
           "-24.74 %"
          ],
          [
           "-16.37 %"
          ],
          [
           "67.25 %"
          ],
          [
           "20.42 %"
          ],
          [
           "24.60 %"
          ],
          [
           "-24.74 %"
          ],
          [
           "0.35 %"
          ],
          [
           "87.32 %"
          ],
          [
           "67.25 %"
          ],
          [
           "-34.77 %"
          ],
          [
           "-16.37 %"
          ],
          [
           "-37.28 %"
          ],
          [
           "0.35 %"
          ],
          [
           "-33.10 %"
          ],
          [
           "-3.83 %"
          ],
          [
           "-19.72 %"
          ],
          [
           "-43.97 %"
          ],
          [
           "53.04 %"
          ],
          [
           "50.53 %"
          ],
          [
           "-12.19 %"
          ],
          [
           "7.04 %"
          ],
          [
           "-8.01 %"
          ],
          [
           "-20.55 %"
          ],
          [
           "8.71 %"
          ],
          [
           "25.44 %"
          ],
          [
           "-30.59 %"
          ],
          [
           "25.44 %"
          ],
          [
           "-8.01 %"
          ],
          [
           "-41.46 %"
          ],
          [
           "17.08 %"
          ],
          [
           "63.07 %"
          ],
          [
           "-45.64 %"
          ],
          [
           "-34.77 %"
          ],
          [
           "-38.12 %"
          ],
          [
           "-46.48 %"
          ],
          [
           "-72.40 %"
          ],
          [
           "-69.89 %"
          ],
          [
           "-28.08 %"
          ],
          [
           "-13.86 %"
          ],
          [
           "94.85 %"
          ],
          [
           "67.25 %"
          ],
          [
           "112.41 %"
          ],
          [
           "-59.02 %"
          ],
          [
           "-54.84 %"
          ],
          [
           "-51.50 %"
          ],
          [
           "-74.91 %"
          ],
          [
           "4.53 %"
          ],
          [
           "-41.46 %"
          ],
          [
           "-72.40 %"
          ],
          [
           "-63.20 %"
          ],
          [
           "871.74 %"
          ],
          [
           "-38.12 %"
          ],
          [
           "-41.46 %"
          ],
          [
           "-72.40 %"
          ],
          [
           "24.60 %"
          ],
          [
           "21.26 %"
          ],
          [
           "-48.15 %"
          ],
          [
           "-79.09 %"
          ],
          [
           "-63.20 %"
          ],
          [
           "-58.19 %"
          ],
          [
           "4.53 %"
          ],
          [
           "-34.77 %"
          ],
          [
           "-62.37 %"
          ],
          [
           "-52.33 %"
          ],
          [
           "-45.64 %"
          ],
          [
           "17.08 %"
          ],
          [
           "-42.30 %"
          ],
          [
           "2.86 %"
          ],
          [
           "-51.50 %"
          ],
          [
           "-60.70 %"
          ],
          [
           "-24.74 %"
          ],
          [
           "-24.74 %"
          ],
          [
           "-67.39 %"
          ],
          [
           "-51.50 %"
          ],
          [
           "-61.53 %"
          ],
          [
           "-38.95 %"
          ],
          [
           "-70.73 %"
          ],
          [
           "22.93 %"
          ],
          [
           "-45.64 %"
          ],
          [
           "2.86 %"
          ],
          [
           "46.35 %"
          ],
          [
           "46.35 %"
          ],
          [
           "117.43 %"
          ],
          [
           "-45.64 %"
          ],
          [
           "-57.35 %"
          ],
          [
           "-54.84 %"
          ],
          [
           "8.71 %"
          ],
          [
           "-67.39 %"
          ],
          [
           "-53.17 %"
          ],
          [
           "6.21 %"
          ],
          [
           "-36.16 %"
          ],
          [
           "-21.83 %"
          ],
          [
           "-28.35 %"
          ],
          [
           "-42.68 %"
          ],
          [
           "-51.80 %"
          ],
          [
           "-41.37 %"
          ],
          [
           "-45.28 %"
          ],
          [
           "-28.35 %"
          ],
          [
           "-47.89 %"
          ],
          [
           "17.25 %"
          ],
          [
           "-45.28 %"
          ],
          [
           "-8.80 %"
          ],
          [
           "17.25 %"
          ],
          [
           "-2.29 %"
          ],
          [
           "-50.49 %"
          ],
          [
           "-34.86 %"
          ],
          [
           "-28.35 %"
          ],
          [
           "17.25 %"
          ],
          [
           "-47.89 %"
          ],
          [
           "17.22 %"
          ],
          [
           "-12.09 %"
          ],
          [
           "-8.57 %"
          ],
          [
           "6.67 %"
          ],
          [
           "-20.29 %"
          ],
          [
           "106.30 %"
          ],
          [
           "5.50 %"
          ],
          [
           "190.43 %"
          ],
          [
           "45.21 %"
          ],
          [
           "18.69 %"
          ],
          [
           "27.16 %"
          ],
          [
           "4.91 %"
          ],
          [
           "11.27 %"
          ],
          [
           "-25.82 %"
          ],
          [
           "-15.22 %"
          ],
          [
           "-31.12 %"
          ],
          [
           "-9.93 %"
          ],
          [
           "-36.42 %"
          ],
          [
           "0.67 %"
          ],
          [
           "5.97 %"
          ],
          [
           "-15.22 %"
          ],
          [
           "21.87 %"
          ],
          [
           "-5.69 %"
          ],
          [
           "32.46 %"
          ],
          [
           "-46.24 %"
          ],
          [
           "-50.63 %"
          ],
          [
           "-23.21 %"
          ],
          [
           "5.32 %"
          ],
          [
           "73.33 %"
          ],
          [
           "-7.85 %"
          ],
          [
           "38.23 %"
          ],
          [
           "-50.63 %"
          ],
          [
           "-45.15 %"
          ],
          [
           "-28.69 %"
          ],
          [
           "-23.21 %"
          ],
          [
           "31.65 %"
          ],
          [
           "-58.31 %"
          ],
          [
           "-38.57 %"
          ],
          [
           "31.65 %"
          ],
          [
           "-21.01 %"
          ],
          [
           "-35.27 %"
          ],
          [
           "-46.24 %"
          ],
          [
           "-55.02 %"
          ],
          [
           "-1.27 %"
          ],
          [
           "-24.30 %"
          ],
          [
           "-22.11 %"
          ],
          [
           "-35.27 %"
          ],
          [
           "-45.15 %"
          ],
          [
           "-25.40 %"
          ],
          [
           "-50.63 %"
          ],
          [
           "-48.44 %"
          ],
          [
           "-10.04 %"
          ],
          [
           "-39.66 %"
          ],
          [
           "31.65 %"
          ],
          [
           "-23.21 %"
          ],
          [
           "-45.15 %"
          ],
          [
           "-34.18 %"
          ],
          [
           "-25.40 %"
          ],
          [
           "-17.72 %"
          ],
          [
           "-45.15 %"
          ],
          [
           "-45.15 %"
          ],
          [
           "-40.76 %"
          ],
          [
           "-63.80 %"
          ],
          [
           "-45.15 %"
          ],
          [
           "-8.94 %"
          ],
          [
           "-45.15 %"
          ],
          [
           "-1.27 %"
          ],
          [
           "-61.60 %"
          ],
          [
           "-1.27 %"
          ],
          [
           "-45.15 %"
          ],
          [
           "-60.51 %"
          ],
          [
           "119.41 %"
          ],
          [
           "-28.69 %"
          ],
          [
           "-2.36 %"
          ],
          [
           "-23.21 %"
          ],
          [
           "-56.12 %"
          ],
          [
           "-7.85 %"
          ],
          [
           "-23.21 %"
          ],
          [
           "-28.69 %"
          ],
          [
           "-12.24 %"
          ],
          [
           "-31.98 %"
          ],
          [
           "-67.09 %"
          ],
          [
           "-67.09 %"
          ],
          [
           "-34.18 %"
          ],
          [
           "-61.60 %"
          ],
          [
           "-47.34 %"
          ],
          [
           "32.84 %"
          ],
          [
           "-15.27 %"
          ],
          [
           "-36.38 %"
          ],
          [
           "103.19 %"
          ],
          [
           "-8.56 %"
          ],
          [
           "-40.73 %"
          ],
          [
           "-15.34 %"
          ],
          [
           "-15.34 %"
          ],
          [
           "-40.73 %"
          ],
          [
           "52.40 %"
          ],
          [
           "-35.65 %"
          ],
          [
           "1.60 %"
          ],
          [
           "8.37 %"
          ],
          [
           "16.84 %"
          ],
          [
           "-6.87 %"
          ],
          [
           "-28.88 %"
          ],
          [
           "-22.11 %"
          ],
          [
           "-6.87 %"
          ],
          [
           "-18.72 %"
          ],
          [
           "-35.65 %"
          ],
          [
           "33.77 %"
          ],
          [
           "-11.95 %"
          ],
          [
           "6.68 %"
          ],
          [
           "8.37 %"
          ],
          [
           "-25.50 %"
          ],
          [
           "35.46 %"
          ],
          [
           "-10.26 %"
          ],
          [
           "11.76 %"
          ],
          [
           "-35.65 %"
          ],
          [
           "-11.95 %"
          ],
          [
           "-23.80 %"
          ],
          [
           "-0.10 %"
          ],
          [
           "-17.03 %"
          ],
          [
           "-15.34 %"
          ],
          [
           "-32.27 %"
          ],
          [
           "-47.51 %"
          ],
          [
           "15.14 %"
          ],
          [
           "-50.89 %"
          ],
          [
           "1.60 %"
          ],
          [
           "-47.51 %"
          ],
          [
           "-57.67 %"
          ],
          [
           "-40.73 %"
          ],
          [
           "-28.81 %"
          ],
          [
           "117.53 %"
          ],
          [
           "167.84 %"
          ],
          [
           "-25.74 %"
          ],
          [
           "-8.69 %"
          ],
          [
           "-2.60 %"
          ],
          [
           "-39.13 %"
          ],
          [
           "-2.60 %"
          ],
          [
           "3.48 %"
          ],
          [
           "-37.91 %"
          ],
          [
           "-22.08 %"
          ],
          [
           "15.66 %"
          ],
          [
           "-51.30 %"
          ],
          [
           "3.48 %"
          ],
          [
           "-56.17 %"
          ],
          [
           "3.48 %"
          ],
          [
           "50.96 %"
          ],
          [
           "-14.78 %"
          ],
          [
           "-48.87 %"
          ],
          [
           "-16.00 %"
          ],
          [
           "119.14 %"
          ],
          [
           "-2.60 %"
          ],
          [
           "-34.26 %"
          ],
          [
           "24.18 %"
          ],
          [
           "-12.34 %"
          ],
          [
           "-7.47 %"
          ],
          [
           "-8.69 %"
          ],
          [
           "-20.87 %"
          ],
          [
           "-53.74 %"
          ],
          [
           "21.74 %"
          ],
          [
           "5.92 %"
          ],
          [
           "-25.74 %"
          ],
          [
           "-17.21 %"
          ],
          [
           "-11.13 %"
          ],
          [
           "-9.91 %"
          ],
          [
           "-40.35 %"
          ],
          [
           "7.14 %"
          ],
          [
           "-12.34 %"
          ],
          [
           "-16.00 %"
          ],
          [
           "-12.34 %"
          ],
          [
           "19.31 %"
          ],
          [
           "-14.78 %"
          ],
          [
           "82.62 %"
          ],
          [
           "-14.78 %"
          ],
          [
           "-29.39 %"
          ],
          [
           "-19.65 %"
          ],
          [
           "-40.35 %"
          ],
          [
           "-13.56 %"
          ],
          [
           "-20.87 %"
          ],
          [
           "33.92 %"
          ],
          [
           "-39.13 %"
          ],
          [
           "-39.13 %"
          ],
          [
           "16.87 %"
          ],
          [
           "-2.60 %"
          ],
          [
           "27.83 %"
          ],
          [
           "-14.78 %"
          ],
          [
           "-46.43 %"
          ],
          [
           "3.48 %"
          ],
          [
           "-28.17 %"
          ],
          [
           "-2.60 %"
          ],
          [
           "-8.69 %"
          ],
          [
           "-33.04 %"
          ],
          [
           "82.62 %"
          ],
          [
           "-13.56 %"
          ],
          [
           "-14.78 %"
          ],
          [
           "-2.60 %"
          ],
          [
           "-39.13 %"
          ],
          [
           "-42.78 %"
          ],
          [
           "-41.56 %"
          ],
          [
           "-72.00 %"
          ],
          [
           "-2.60 %"
          ],
          [
           "-63.48 %"
          ],
          [
           "-63.48 %"
          ],
          [
           "-39.13 %"
          ],
          [
           "-38.99 %"
          ],
          [
           "-30.67 %"
          ],
          [
           "-31.37 %"
          ],
          [
           "-44.54 %"
          ],
          [
           "-31.37 %"
          ],
          [
           "22.01 %"
          ],
          [
           "-23.74 %"
          ],
          [
           "1.91 %"
          ],
          [
           "-16.81 %"
          ],
          [
           "15.77 %"
          ],
          [
           "-58.40 %"
          ],
          [
           "-51.47 %"
          ],
          [
           "-30.67 %"
          ],
          [
           "-31.37 %"
          ],
          [
           "65.00 %"
          ],
          [
           "-23.74 %"
          ],
          [
           "-41.07 %"
          ],
          [
           "-31.37 %"
          ],
          [
           "-61.87 %"
          ],
          [
           "-65.34 %"
          ],
          [
           "-29.98 %"
          ],
          [
           "-32.75 %"
          ],
          [
           "-30.67 %"
          ],
          [
           "-36.22 %"
          ],
          [
           "-34.14 %"
          ],
          [
           "-51.47 %"
          ],
          [
           "75.39 %"
          ],
          [
           "17.85 %"
          ],
          [
           "-41.07 %"
          ],
          [
           "-44.54 %"
          ],
          [
           "-48.70 %"
          ],
          [
           "-55.63 %"
          ],
          [
           "-34.14 %"
          ],
          [
           "10.92 %"
          ],
          [
           "-16.81 %"
          ],
          [
           "-18.89 %"
          ],
          [
           "-44.54 %"
          ],
          [
           "-37.61 %"
          ],
          [
           "-57.71 %"
          ],
          [
           "-38.30 %"
          ],
          [
           "28.95 %"
          ],
          [
           "10.92 %"
          ],
          [
           "-45.23 %"
          ],
          [
           "10.92 %"
          ],
          [
           "454.61 %"
          ],
          [
           "-48.01 %"
          ],
          [
           "-51.47 %"
          ],
          [
           "24.79 %"
          ],
          [
           "-65.34 %"
          ],
          [
           "-68.80 %"
          ],
          [
           "-23.74 %"
          ],
          [
           "-35.53 %"
          ],
          [
           "-16.81 %"
          ],
          [
           "-9.88 %"
          ],
          [
           "-30.67 %"
          ],
          [
           "3.99 %"
          ],
          [
           "-16.81 %"
          ],
          [
           "-36.22 %"
          ],
          [
           "0.52 %"
          ],
          [
           "-57.02 %"
          ],
          [
           "-37.61 %"
          ],
          [
           "-45.23 %"
          ],
          [
           "-51.47 %"
          ],
          [
           "-10.30 %"
          ],
          [
           "10.43 %"
          ],
          [
           "55.90 %"
          ],
          [
           "42.91 %"
          ],
          [
           "42.91 %"
          ],
          [
           "42.91 %"
          ],
          [
           "-76.84 %"
          ]
         ],
         "hovertemplate": "<b>%{hovertext}</b><br><br>Place=Portobello<br>latitude=%{lat}<br>longitude=%{lon}<br>Price difference=%{customdata[0]}<extra></extra>",
         "hovertext": [
          "Portobello",
          "Portobello",
          "Portobello",
          "Portobello",
          "Portobello",
          "Portobello",
          "Portobello",
          "Portobello",
          "Portobello",
          "Portobello",
          "Portobello",
          "Portobello",
          "Portobello",
          "Portobello",
          "Portobello",
          "Portobello",
          "Portobello",
          "Portobello",
          "Portobello",
          "Portobello",
          "Portobello",
          "Portobello",
          "Portobello",
          "Portobello",
          "Portobello",
          "Portobello",
          "Portobello",
          "Portobello",
          "Portobello",
          "Portobello",
          "Portobello",
          "Portobello",
          "Portobello",
          "Portobello",
          "Portobello",
          "Portobello",
          "Portobello",
          "Portobello",
          "Portobello",
          "Portobello",
          "Portobello",
          "Portobello",
          "Portobello",
          "Portobello",
          "Portobello",
          "Portobello",
          "Portobello",
          "Portobello",
          "Portobello",
          "Portobello",
          "Portobello",
          "Portobello",
          "Portobello",
          "Portobello",
          "Portobello",
          "Portobello",
          "Portobello",
          "Portobello",
          "Portobello",
          "Portobello",
          "Portobello",
          "Portobello",
          "Portobello",
          "Portobello",
          "Portobello",
          "Portobello",
          "Portobello",
          "Portobello",
          "Portobello",
          "Portobello",
          "Portobello",
          "Portobello",
          "Portobello",
          "Portobello",
          "Portobello",
          "Portobello",
          "Portobello",
          "Portobello",
          "Portobello",
          "Portobello",
          "Portobello",
          "Portobello",
          "Portobello",
          "Portobello",
          "Portobello",
          "Portobello",
          "Portobello",
          "Portobello",
          "Portobello",
          "Portobello",
          "Portobello",
          "Portobello",
          "Portobello",
          "Portobello",
          "Portobello",
          "Portobello",
          "Portobello",
          "Portobello",
          "Portobello",
          "Portobello",
          "Portobello",
          "Portobello",
          "Portobello",
          "Portobello",
          "Portobello",
          "Portobello",
          "Portobello",
          "Portobello",
          "Portobello",
          "Portobello",
          "Portobello",
          "Portobello",
          "Portobello",
          "Portobello",
          "Portobello",
          "Portobello",
          "Portobello",
          "Portobello",
          "Portobello",
          "Portobello",
          "Portobello",
          "Portobello",
          "Portobello",
          "Portobello",
          "Portobello",
          "Portobello",
          "Portobello",
          "Portobello",
          "Portobello",
          "Portobello",
          "Portobello",
          "Portobello",
          "Portobello",
          "Portobello",
          "Portobello",
          "Portobello",
          "Portobello",
          "Portobello",
          "Portobello",
          "Portobello",
          "Portobello",
          "Portobello",
          "Portobello",
          "Portobello",
          "Portobello",
          "Portobello",
          "Portobello",
          "Portobello",
          "Portobello",
          "Portobello",
          "Portobello",
          "Portobello",
          "Portobello",
          "Portobello",
          "Portobello",
          "Portobello",
          "Portobello",
          "Portobello",
          "Portobello",
          "Portobello",
          "Portobello",
          "Portobello",
          "Portobello",
          "Portobello",
          "Portobello",
          "Portobello",
          "Portobello",
          "Portobello",
          "Portobello",
          "Portobello",
          "Portobello",
          "Portobello",
          "Portobello",
          "Portobello",
          "Portobello",
          "Portobello",
          "Portobello",
          "Portobello",
          "Portobello",
          "Portobello",
          "Portobello",
          "Portobello",
          "Portobello",
          "Portobello",
          "Portobello",
          "Portobello",
          "Portobello",
          "Portobello",
          "Portobello",
          "Portobello",
          "Portobello",
          "Portobello",
          "Portobello",
          "Portobello",
          "Portobello",
          "Portobello",
          "Portobello",
          "Portobello",
          "Portobello",
          "Portobello",
          "Portobello",
          "Portobello",
          "Portobello",
          "Portobello",
          "Portobello",
          "Portobello",
          "Portobello",
          "Portobello",
          "Portobello",
          "Portobello",
          "Portobello",
          "Portobello",
          "Portobello",
          "Portobello",
          "Portobello",
          "Portobello",
          "Portobello",
          "Portobello",
          "Portobello",
          "Portobello",
          "Portobello",
          "Portobello",
          "Portobello",
          "Portobello",
          "Portobello",
          "Portobello",
          "Portobello",
          "Portobello",
          "Portobello",
          "Portobello",
          "Portobello",
          "Portobello",
          "Portobello",
          "Portobello",
          "Portobello",
          "Portobello",
          "Portobello",
          "Portobello",
          "Portobello",
          "Portobello",
          "Portobello",
          "Portobello",
          "Portobello",
          "Portobello",
          "Portobello",
          "Portobello",
          "Portobello",
          "Portobello",
          "Portobello",
          "Portobello",
          "Portobello",
          "Portobello",
          "Portobello",
          "Portobello",
          "Portobello",
          "Portobello",
          "Portobello",
          "Portobello",
          "Portobello",
          "Portobello",
          "Portobello",
          "Portobello",
          "Portobello",
          "Portobello",
          "Portobello",
          "Portobello",
          "Portobello",
          "Portobello",
          "Portobello",
          "Portobello",
          "Portobello",
          "Portobello",
          "Portobello",
          "Portobello",
          "Portobello",
          "Portobello",
          "Portobello",
          "Portobello",
          "Portobello",
          "Portobello",
          "Portobello",
          "Portobello",
          "Portobello",
          "Portobello",
          "Portobello",
          "Portobello",
          "Portobello",
          "Portobello",
          "Portobello",
          "Portobello",
          "Portobello",
          "Portobello",
          "Portobello",
          "Portobello",
          "Portobello",
          "Portobello",
          "Portobello",
          "Portobello",
          "Portobello",
          "Portobello",
          "Portobello",
          "Portobello",
          "Portobello",
          "Portobello",
          "Portobello",
          "Portobello",
          "Portobello",
          "Portobello",
          "Portobello",
          "Portobello",
          "Portobello",
          "Portobello",
          "Portobello",
          "Portobello",
          "Portobello",
          "Portobello",
          "Portobello",
          "Portobello",
          "Portobello",
          "Portobello",
          "Portobello",
          "Portobello",
          "Portobello",
          "Portobello",
          "Portobello",
          "Portobello",
          "Portobello",
          "Portobello",
          "Portobello",
          "Portobello",
          "Portobello",
          "Portobello",
          "Portobello",
          "Portobello",
          "Portobello",
          "Portobello",
          "Portobello",
          "Portobello",
          "Portobello",
          "Portobello",
          "Portobello",
          "Portobello",
          "Portobello",
          "Portobello",
          "Portobello",
          "Portobello",
          "Portobello",
          "Portobello",
          "Portobello",
          "Portobello",
          "Portobello",
          "Portobello",
          "Portobello",
          "Portobello",
          "Portobello",
          "Portobello",
          "Portobello",
          "Portobello",
          "Portobello",
          "Portobello",
          "Portobello",
          "Portobello",
          "Portobello",
          "Portobello",
          "Portobello",
          "Portobello",
          "Portobello",
          "Portobello",
          "Portobello",
          "Portobello",
          "Portobello",
          "Portobello",
          "Portobello",
          "Portobello",
          "Portobello",
          "Portobello",
          "Portobello",
          "Portobello",
          "Portobello",
          "Portobello",
          "Portobello",
          "Portobello",
          "Portobello",
          "Portobello",
          "Portobello",
          "Portobello",
          "Portobello",
          "Portobello",
          "Portobello",
          "Portobello",
          "Portobello",
          "Portobello",
          "Portobello",
          "Portobello",
          "Portobello",
          "Portobello",
          "Portobello",
          "Portobello",
          "Portobello",
          "Portobello",
          "Portobello",
          "Portobello",
          "Portobello",
          "Portobello"
         ],
         "lat": [
          51.508,
          51.515640000000005,
          51.51885,
          51.5185,
          51.51789,
          51.51786,
          51.51702,
          51.51299,
          51.50683,
          51.5166,
          51.5155,
          51.51975,
          51.51267,
          51.518159999999995,
          51.510259999999995,
          51.51287,
          51.51164,
          51.51891,
          51.51838,
          51.51747,
          51.50799,
          51.507529999999996,
          51.50656,
          51.51236,
          51.52652,
          51.5199,
          51.515859999999996,
          51.51461,
          51.52296,
          51.510020000000004,
          51.52198,
          51.51092,
          51.50528,
          51.51508,
          51.51958,
          51.52045,
          51.521209999999996,
          51.51733,
          51.50707,
          51.505759999999995,
          51.50762,
          51.508309999999994,
          51.51763,
          51.51758,
          51.519870000000004,
          51.5038,
          51.51462,
          51.518570000000004,
          51.52149,
          51.50493,
          51.50864,
          51.5123,
          51.51757,
          51.51429,
          51.51709,
          51.52069,
          51.5055,
          51.50543,
          51.50611,
          51.50561,
          51.50858,
          51.51852,
          51.51487,
          51.510909999999996,
          51.51123,
          51.50978,
          51.5104,
          51.50477,
          51.523540000000004,
          51.514379999999996,
          51.50465,
          51.50582,
          51.50488,
          51.50943,
          51.50902,
          51.504290000000005,
          51.504059999999996,
          51.50954,
          51.51305,
          51.504020000000004,
          51.50569,
          51.50484,
          51.50445,
          51.51753,
          51.51068,
          51.50975,
          51.509840000000004,
          51.5073,
          51.51744,
          51.51119,
          51.50927,
          51.50459,
          51.50993,
          51.51838,
          51.52347,
          51.50899999999999,
          51.51582,
          51.510709999999996,
          51.5107,
          51.51093,
          51.51658,
          51.50887,
          51.51265,
          51.50918,
          51.50547,
          51.516009999999994,
          51.51631,
          51.51086,
          51.51097,
          51.509190000000004,
          51.51124,
          51.51097,
          51.492490000000004,
          51.520990000000005,
          51.50627,
          51.49453,
          51.53055,
          51.51652,
          51.50594,
          51.504529999999995,
          51.50099,
          51.5187,
          51.474709999999995,
          51.50173,
          51.50816,
          51.47263,
          51.4735,
          51.50598,
          51.49458,
          51.475770000000004,
          51.49581,
          51.50546,
          51.53033,
          51.53197,
          51.53496,
          51.53074,
          51.532740000000004,
          51.53314,
          51.54569,
          51.52135,
          51.539120000000004,
          51.50067,
          51.50145,
          51.50072,
          51.518879999999996,
          51.49028,
          51.504690000000004,
          51.501999999999995,
          51.50225,
          51.50543,
          51.50699,
          51.502390000000005,
          51.505359999999996,
          51.50892,
          51.50438,
          51.50744,
          51.528940000000006,
          51.524359999999994,
          51.52426,
          51.51517,
          51.51575,
          51.5163,
          51.51709,
          51.52537,
          51.52281,
          51.52414,
          51.5172,
          51.52384,
          51.52796,
          51.5324,
          51.51599,
          51.52935,
          51.52414,
          51.52316,
          51.52008,
          51.51146,
          51.52988,
          51.51423,
          51.52587,
          51.52767,
          51.52644,
          51.51705,
          51.51206,
          51.53646,
          51.51608,
          51.51269,
          51.51425,
          51.52514,
          51.526759999999996,
          51.52633,
          51.5158,
          51.525929999999995,
          51.52941,
          51.52871,
          51.52232,
          51.5343,
          51.51234,
          51.52214,
          51.513729999999995,
          51.530570000000004,
          51.51488,
          51.53118,
          51.52243,
          51.5136,
          51.52383,
          51.51566,
          51.525490000000005,
          51.52604,
          51.51625,
          51.5244,
          51.51978,
          51.51218,
          51.514540000000004,
          51.52603,
          51.5246,
          51.524190000000004,
          51.51478,
          51.51195,
          51.48271,
          51.54865,
          51.56351,
          51.54376,
          51.53949,
          51.54607,
          51.54602,
          51.532309999999995,
          51.54039,
          51.5403,
          51.53624,
          51.534420000000004,
          51.53881,
          51.53009,
          51.54319,
          51.53399,
          51.5475,
          51.5336,
          51.54828,
          51.53518,
          51.53001,
          51.53541,
          51.53399,
          51.54824,
          51.5287,
          51.534459999999996,
          51.53263,
          51.53262,
          51.5307,
          51.532709999999994,
          51.536559999999994,
          51.53434,
          51.52963,
          51.53687,
          51.534659999999995,
          51.53575,
          51.53022,
          51.53583,
          51.53037,
          51.53382,
          51.54508,
          51.54398,
          51.50034,
          51.50663,
          51.50899999999999,
          51.51551,
          51.50869,
          51.5186,
          51.519729999999996,
          51.51605,
          51.5184,
          51.51708,
          51.51941,
          51.518390000000004,
          51.52013,
          51.518,
          51.5092,
          51.51466,
          51.51858,
          51.49173,
          51.50156,
          51.51672,
          51.52042,
          51.52,
          51.52552,
          51.51433,
          51.50842,
          51.51972,
          51.51061,
          51.5122,
          51.52352,
          51.50855,
          51.49752,
          51.52105,
          51.515209999999996,
          51.49852,
          51.52267,
          51.51917,
          51.52274,
          51.521409999999996,
          51.51072,
          51.515640000000005,
          51.518640000000005,
          51.52013,
          51.51886,
          51.524770000000004,
          51.487429999999996,
          51.51294,
          51.51765,
          51.4934,
          51.4946,
          51.5067,
          51.51956,
          51.50813,
          51.51396,
          51.5145,
          51.52185,
          51.51403,
          51.51785,
          51.51433,
          51.51715,
          51.51613,
          51.516709999999996,
          51.51936,
          51.52258,
          51.52084,
          51.51408,
          51.52584,
          51.521409999999996,
          51.516999999999996,
          51.51624,
          51.507979999999996,
          51.51761,
          51.52438,
          51.52418,
          51.51648,
          51.51298,
          51.5157,
          51.52957,
          51.5271,
          51.51661,
          51.516490000000005,
          51.52887,
          51.51086,
          51.52882,
          51.51856,
          51.51573,
          51.518370000000004,
          51.51659,
          51.51128,
          51.517540000000004,
          51.5204,
          51.52887,
          51.518190000000004,
          51.52199,
          51.51617,
          51.51093,
          51.5257,
          51.5182,
          51.517920000000004,
          51.51632,
          51.52848,
          51.519090000000006,
          51.51064,
          51.5174,
          51.52592,
          51.52448,
          51.51643,
          51.52517,
          51.51818,
          51.51392,
          51.51064,
          51.53184,
          51.526709999999994,
          51.51728,
          51.51461,
          51.51948,
          51.5174,
          51.51885,
          51.51317,
          51.51627,
          51.51254,
          51.51466,
          51.51648,
          51.52382,
          51.51659,
          51.51636,
          51.516020000000005,
          51.52568,
          51.51386,
          51.51898,
          51.515,
          51.51894,
          51.51918,
          51.51565,
          51.51597,
          51.51345,
          51.51529,
          51.518159999999995,
          51.466229999999996,
          51.505720000000004,
          51.50907,
          51.50889,
          51.50983,
          51.51057,
          51.51838
         ],
         "legendgroup": "Portobello",
         "lon": [
          -0.19934000000000002,
          -0.20276,
          -0.21991,
          -0.2129,
          -0.20985,
          -0.21276,
          -0.20353,
          -0.19952999999999999,
          -0.19885,
          -0.21466999999999997,
          -0.20761999999999997,
          -0.20324,
          -0.21336999999999998,
          -0.20606,
          -0.19785999999999998,
          -0.20495,
          -0.19957,
          -0.20417000000000002,
          -0.21393,
          -0.20861,
          -0.20069,
          -0.19388,
          -0.21406999999999998,
          -0.19614,
          -0.21377,
          -0.2114,
          -0.20267000000000002,
          -0.21153000000000002,
          -0.20240999999999998,
          -0.21313000000000001,
          -0.20969000000000002,
          -0.20098,
          -0.19313,
          -0.21034,
          -0.21468,
          -0.2093,
          -0.21165,
          -0.21026,
          -0.19471,
          -0.19482,
          -0.20901,
          -0.19598,
          -0.20162,
          -0.2031,
          -0.21384,
          -0.2162,
          -0.20423,
          -0.22425,
          -0.20775,
          -0.19889,
          -0.20135,
          -0.21849000000000002,
          -0.20328,
          -0.20428,
          -0.21405,
          -0.21215,
          -0.19166,
          -0.19278,
          -0.19205999999999998,
          -0.19212,
          -0.20214000000000001,
          -0.20615999999999998,
          -0.20199,
          -0.19485999999999998,
          -0.19332,
          -0.19417,
          -0.19407,
          -0.19164,
          -0.22651,
          -0.20622,
          -0.19185,
          -0.19197999999999998,
          -0.19324000000000002,
          -0.19542,
          -0.19548,
          -0.19227,
          -0.19144,
          -0.21352,
          -0.20938,
          -0.19318,
          -0.19276,
          -0.1936,
          -0.19341,
          -0.21832,
          -0.19569,
          -0.19504000000000002,
          -0.19338,
          -0.19665,
          -0.20055,
          -0.19322,
          -0.19568,
          -0.19297999999999998,
          -0.19355999999999998,
          -0.21300999999999998,
          -0.22555999999999998,
          -0.19480999999999998,
          -0.20524,
          -0.19551,
          -0.19491,
          -0.19512000000000002,
          -0.21064000000000002,
          -0.19485999999999998,
          -0.20615999999999998,
          -0.20146,
          -0.21325999999999998,
          -0.20533,
          -0.20148,
          -0.19384,
          -0.1958,
          -0.19794,
          -0.19407,
          -0.19401,
          -0.15667999999999999,
          -0.22851999999999997,
          -0.21933000000000002,
          -0.20517,
          -0.23043000000000002,
          -0.22859000000000002,
          -0.23321,
          -0.23346,
          -0.21709,
          -0.22725,
          -0.19584000000000001,
          -0.21583000000000002,
          -0.23451,
          -0.20811999999999997,
          -0.20901999999999998,
          -0.23458,
          -0.20761,
          -0.19560999999999998,
          -0.20842,
          -0.2408,
          -0.21734,
          -0.21795,
          -0.22634,
          -0.22766999999999998,
          -0.23743000000000003,
          -0.20861999999999997,
          -0.21568,
          -0.1087,
          -0.15389,
          -0.23288000000000003,
          -0.21556999999999998,
          -0.22021,
          -0.22596,
          -0.24436999999999998,
          -0.21899999999999997,
          -0.21658000000000002,
          -0.21983000000000003,
          -0.22853,
          -0.22684,
          -0.23359000000000002,
          -0.22134,
          -0.22554000000000002,
          -0.22882,
          -0.22593000000000002,
          -0.21266999999999997,
          -0.19924,
          -0.19809000000000002,
          -0.19103,
          -0.19929000000000002,
          -0.18711,
          -0.19528,
          -0.19729000000000002,
          -0.19669,
          -0.1955,
          -0.18098,
          -0.19516,
          -0.20235999999999998,
          -0.1898,
          -0.19332,
          -0.2035,
          -0.20377,
          -0.19404000000000002,
          -0.19918,
          -0.18857000000000002,
          -0.2051,
          -0.1845,
          -0.19809000000000002,
          -0.19924,
          -0.20606999999999998,
          -0.19155999999999998,
          -0.19261,
          -0.18348,
          -0.19042,
          -0.17959,
          -0.18749000000000002,
          -0.2031,
          -0.20615,
          -0.19322,
          -0.18752,
          -0.20069,
          -0.1995,
          -0.18632,
          -0.19783,
          -0.19105999999999998,
          -0.18953,
          -0.17719000000000001,
          -0.18865,
          -0.20240999999999998,
          -0.18133,
          -0.20392000000000002,
          -0.1915,
          -0.19022,
          -0.20084000000000002,
          -0.19082000000000002,
          -0.19353,
          -0.20088,
          -0.18965,
          -0.18044000000000002,
          -0.20234000000000002,
          -0.1928,
          -0.1884,
          -0.20323,
          -0.20449,
          -0.20315999999999998,
          -0.18767,
          -0.18736,
          -0.14912999999999998,
          -0.20542,
          -0.10436,
          -0.20845,
          -0.20081,
          -0.22875,
          -0.2293,
          -0.21861999999999998,
          -0.20207,
          -0.2233,
          -0.19684000000000001,
          -0.22896,
          -0.19956,
          -0.22421,
          -0.25606,
          -0.23383,
          -0.2259,
          -0.21486,
          -0.2225,
          -0.2301,
          -0.22211,
          -0.23023000000000002,
          -0.21935,
          -0.21334,
          -0.19614,
          -0.20228,
          -0.21948,
          -0.23528000000000002,
          -0.19551,
          -0.21148000000000003,
          -0.23823000000000003,
          -0.21581999999999998,
          -0.21918,
          -0.22182,
          -0.21,
          -0.23021999999999998,
          -0.1945,
          -0.23224,
          -0.21918,
          -0.23174,
          -0.2552,
          -0.24645999999999998,
          -0.26514,
          -0.24750999999999998,
          -0.19948,
          -0.2146,
          -0.19608,
          -0.21016999999999997,
          -0.21015,
          -0.21008000000000002,
          -0.20581,
          -0.21093,
          -0.21075,
          -0.20940999999999999,
          -0.21734,
          -0.22425,
          -0.19629000000000002,
          -0.20685,
          -0.22258000000000003,
          -0.18927,
          -0.21241,
          -0.2137,
          -0.21022,
          -0.22296999999999997,
          -0.21381,
          -0.203,
          -0.2003,
          -0.21029,
          -0.19359,
          -0.20864000000000002,
          -0.21069000000000002,
          -0.20084000000000002,
          -0.19863,
          -0.20988,
          -0.21013,
          -0.19722,
          -0.21584,
          -0.21436999999999998,
          -0.22186999999999998,
          -0.20854,
          -0.2113,
          -0.21056999999999998,
          -0.20833000000000002,
          -0.21155,
          -0.21625,
          -0.21135,
          -0.18985,
          -0.2148,
          -0.21618,
          -0.17868,
          -0.18842,
          -0.20781999999999998,
          -0.21795,
          -0.19325,
          -0.20754,
          -0.21385,
          -0.21474000000000001,
          -0.20399,
          -0.21255,
          -0.20686,
          -0.21821999999999997,
          -0.20432999999999998,
          -0.20135,
          -0.20668000000000003,
          -0.20268,
          -0.21031999999999998,
          -0.20426,
          -0.22613000000000003,
          -0.21924000000000002,
          -0.22055999999999998,
          -0.21599000000000002,
          -0.21475,
          -0.21741,
          -0.20505,
          -0.20495,
          -0.20014,
          -0.19294,
          -0.1893,
          -0.21274,
          -0.19815,
          -0.19494,
          -0.19496,
          -0.20486,
          -0.18514,
          -0.2009,
          -0.19635,
          -0.19841,
          -0.20163,
          -0.19537000000000002,
          -0.18958,
          -0.19747,
          -0.19984000000000002,
          -0.20535,
          -0.19924,
          -0.19654000000000002,
          -0.19251,
          -0.18664,
          -0.2009,
          -0.19205,
          -0.19548,
          -0.19568,
          -0.21495,
          -0.20075,
          -0.19196,
          -0.1906,
          -0.19685999999999998,
          -0.19191,
          -0.18877,
          -0.20334000000000002,
          -0.19542,
          -0.18895,
          -0.19105999999999998,
          -0.20920999999999998,
          -0.19467,
          -0.19744,
          -0.19351,
          -0.19954000000000002,
          -0.19430999999999998,
          -0.19355999999999998,
          -0.19394,
          -0.18834,
          -0.18722,
          -0.18812,
          -0.19741,
          -0.19499,
          -0.19401,
          -0.19947,
          -0.18915,
          -0.17545,
          -0.19222,
          -0.20228,
          -0.19136,
          -0.20081,
          -0.18639,
          -0.19912,
          -0.19219,
          -0.18980999999999998,
          -0.18789,
          -0.19983,
          -0.17123,
          -0.25788,
          -0.28065999999999997,
          -0.28147,
          -0.28089000000000003,
          -0.27994,
          -0.18974000000000002
         ],
         "marker": {
          "color": "#FF6692"
         },
         "mode": "markers",
         "name": "Portobello",
         "showlegend": true,
         "subplot": "mapbox",
         "type": "scattermapbox"
        },
        {
         "customdata": [
          [
           "-49.82 %"
          ],
          [
           "-8.01 %"
          ],
          [
           "-19.72 %"
          ],
          [
           "-30.59 %"
          ],
          [
           "63.07 %"
          ],
          [
           "17.08 %"
          ],
          [
           "-50.63 %"
          ],
          [
           "-23.21 %"
          ],
          [
           "-35.27 %"
          ],
          [
           "-16.62 %"
          ],
          [
           "-39.13 %"
          ],
          [
           "-22.08 %"
          ],
          [
           "-51.30 %"
          ],
          [
           "-25.74 %"
          ],
          [
           "-17.21 %"
          ],
          [
           "-40.35 %"
          ],
          [
           "-12.34 %"
          ],
          [
           "-48.87 %"
          ],
          [
           "82.62 %"
          ],
          [
           "-14.78 %"
          ],
          [
           "-40.35 %"
          ],
          [
           "-39.13 %"
          ],
          [
           "-13.56 %"
          ],
          [
           "-23.74 %"
          ],
          [
           "-31.37 %"
          ],
          [
           "-51.47 %"
          ],
          [
           "-44.54 %"
          ],
          [
           "-30.67 %"
          ]
         ],
         "hovertemplate": "<b>%{hovertext}</b><br><br>Place=Golborne<br>latitude=%{lat}<br>longitude=%{lon}<br>Price difference=%{customdata[0]}<extra></extra>",
         "hovertext": [
          "Golborne",
          "Golborne",
          "Golborne",
          "Golborne",
          "Golborne",
          "Golborne",
          "Golborne",
          "Golborne",
          "Golborne",
          "Golborne",
          "Golborne",
          "Golborne",
          "Golborne",
          "Golborne",
          "Golborne",
          "Golborne",
          "Golborne",
          "Golborne",
          "Golborne",
          "Golborne",
          "Golborne",
          "Golborne",
          "Golborne",
          "Golborne",
          "Golborne",
          "Golborne",
          "Golborne",
          "Golborne"
         ],
         "lat": [
          51.5185,
          51.519870000000004,
          51.51937,
          51.52149,
          51.51429,
          51.51744,
          51.524359999999994,
          51.52426,
          51.52414,
          51.51745,
          51.519729999999996,
          51.51941,
          51.52013,
          51.52105,
          51.515209999999996,
          51.51917,
          51.521409999999996,
          51.52323,
          51.51886,
          51.524770000000004,
          51.51765,
          51.51956,
          51.52084,
          51.51874,
          51.518190000000004,
          51.52848,
          51.53184,
          51.51898
         ],
         "legendgroup": "Golborne",
         "lon": [
          -0.2129,
          -0.21384,
          -0.22243000000000002,
          -0.20775,
          -0.20428,
          -0.20055,
          -0.19924,
          -0.19809000000000002,
          -0.20377,
          -0.19621,
          -0.21015,
          -0.21075,
          -0.21734,
          -0.20988,
          -0.21013,
          -0.21436999999999998,
          -0.20854,
          -0.20461,
          -0.21625,
          -0.21135,
          -0.21618,
          -0.21795,
          -0.21031999999999998,
          -0.19623,
          -0.19924,
          -0.21495,
          -0.20920999999999998,
          -0.20228
         ],
         "marker": {
          "color": "#B6E880"
         },
         "mode": "markers",
         "name": "Golborne",
         "showlegend": true,
         "subplot": "mapbox",
         "type": "scattermapbox"
        },
        {
         "customdata": [
          [
           "2.03 %"
          ],
          [
           "-24.30 %"
          ],
          [
           "-35.27 %"
          ],
          [
           "-15.53 %"
          ],
          [
           "-7.85 %"
          ],
          [
           "-34.18 %"
          ],
          [
           "-23.21 %"
          ],
          [
           "-46.24 %"
          ],
          [
           "-1.27 %"
          ],
          [
           "-3.46 %"
          ],
          [
           "60.17 %"
          ],
          [
           "-40.76 %"
          ],
          [
           "-8.94 %"
          ],
          [
           "119.41 %"
          ],
          [
           "-16.62 %"
          ],
          [
           "-45.15 %"
          ],
          [
           "-29.79 %"
          ],
          [
           "-28.69 %"
          ],
          [
           "-72.57 %"
          ],
          [
           "-74.77 %"
          ],
          [
           "-67.09 %"
          ],
          [
           "14.39 %"
          ],
          [
           "-23.74 %"
          ],
          [
           "-57.71 %"
          ],
          [
           "-9.88 %"
          ],
          [
           "-48.01 %"
          ],
          [
           "3.30 %"
          ],
          [
           "85.10 %"
          ],
          [
           "-59.79 %"
          ],
          [
           "-16.81 %"
          ],
          [
           "-53.55 %"
          ],
          [
           "76.78 %"
          ],
          [
           "85.10 %"
          ],
          [
           "-13.34 %"
          ],
          [
           "-51.47 %"
          ],
          [
           "35.88 %"
          ],
          [
           "-35.53 %"
          ],
          [
           "-66.03 %"
          ],
          [
           "-57.02 %"
          ],
          [
           "-57.02 %"
          ],
          [
           "-56.32 %"
          ],
          [
           "-59.10 %"
          ],
          [
           "-61.18 %"
          ],
          [
           "-54.24 %"
          ],
          [
           "-34.83 %"
          ],
          [
           "-57.02 %"
          ],
          [
           "-59.10 %"
          ],
          [
           "-62.56 %"
          ],
          [
           "-64.64 %"
          ],
          [
           "-51.47 %"
          ],
          [
           "-77.12 %"
          ],
          [
           "-4.33 %"
          ],
          [
           "-75.04 %"
          ],
          [
           "-34.14 %"
          ]
         ],
         "hovertemplate": "<b>%{hovertext}</b><br><br>Place=Bayswater<br>latitude=%{lat}<br>longitude=%{lon}<br>Price difference=%{customdata[0]}<extra></extra>",
         "hovertext": [
          "Bayswater",
          "Bayswater",
          "Bayswater",
          "Bayswater",
          "Bayswater",
          "Bayswater",
          "Bayswater",
          "Bayswater",
          "Bayswater",
          "Bayswater",
          "Bayswater",
          "Bayswater",
          "Bayswater",
          "Bayswater",
          "Bayswater",
          "Bayswater",
          "Bayswater",
          "Bayswater",
          "Bayswater",
          "Bayswater",
          "Bayswater",
          "Bayswater",
          "Bayswater",
          "Bayswater",
          "Bayswater",
          "Bayswater",
          "Bayswater",
          "Bayswater",
          "Bayswater",
          "Bayswater",
          "Bayswater",
          "Bayswater",
          "Bayswater",
          "Bayswater",
          "Bayswater",
          "Bayswater",
          "Bayswater",
          "Bayswater",
          "Bayswater",
          "Bayswater",
          "Bayswater",
          "Bayswater",
          "Bayswater",
          "Bayswater",
          "Bayswater",
          "Bayswater",
          "Bayswater",
          "Bayswater",
          "Bayswater",
          "Bayswater",
          "Bayswater",
          "Bayswater",
          "Bayswater",
          "Bayswater"
         ],
         "lat": [
          51.5145,
          51.513999999999996,
          51.51263,
          51.51051,
          51.5163,
          51.51755,
          51.5172,
          51.52316,
          51.51146,
          51.51651,
          51.51239,
          51.52871,
          51.51234,
          51.5136,
          51.51745,
          51.5112,
          51.51603,
          51.519020000000005,
          51.51789,
          51.51818,
          51.51788,
          51.5143,
          51.51874,
          51.51596,
          51.51303,
          51.51877,
          51.51509,
          51.51165,
          51.51291,
          51.51392,
          51.51795,
          51.515609999999995,
          51.5163,
          51.516329999999996,
          51.51466,
          51.5148,
          51.516020000000005,
          51.51432,
          51.51512,
          51.51597,
          51.514920000000004,
          51.51471,
          51.5131,
          51.51312,
          51.51408,
          51.51403,
          51.51385,
          51.513040000000004,
          51.51258,
          51.518159999999995,
          51.51323,
          51.51813,
          51.51628,
          51.5131
         ],
         "legendgroup": "Bayswater",
         "lon": [
          -0.1837,
          -0.18634,
          -0.16335,
          -0.188,
          -0.18711,
          -0.18162,
          -0.18098,
          -0.19404000000000002,
          -0.18857000000000002,
          -0.18769,
          -0.18585,
          -0.18632,
          -0.18953,
          -0.19022,
          -0.19621,
          -0.18431,
          -0.18784,
          -0.19482,
          -0.1854,
          -0.1848,
          -0.18506,
          -0.17637,
          -0.19623,
          -0.19194,
          -0.18606,
          -0.19959000000000002,
          -0.18186,
          -0.1863,
          -0.18204,
          -0.18895,
          -0.18427000000000002,
          -0.19674,
          -0.18792,
          -0.19357,
          -0.18812,
          -0.18767999999999999,
          -0.18915,
          -0.18479,
          -0.18144000000000002,
          -0.19219,
          -0.18830999999999998,
          -0.17992,
          -0.1821,
          -0.18024,
          -0.17975,
          -0.17984,
          -0.18154,
          -0.18125,
          -0.18369000000000002,
          -0.19983,
          -0.18577,
          -0.18615,
          -0.17012,
          -0.18269000000000002
         ],
         "marker": {
          "color": "#FF97FF"
         },
         "mode": "markers",
         "name": "Bayswater",
         "showlegend": true,
         "subplot": "mapbox",
         "type": "scattermapbox"
        },
        {
         "customdata": [
          [
           "-51.47 %"
          ],
          [
           "-50.87 %"
          ],
          [
           "-54.14 %"
          ],
          [
           "-59.06 %"
          ],
          [
           "-1.74 %"
          ],
          [
           "-59.06 %"
          ],
          [
           "-34.49 %"
          ],
          [
           "-49.23 %"
          ],
          [
           "-18.11 %"
          ],
          [
           "-18.11 %"
          ],
          [
           "-18.11 %"
          ],
          [
           "-1.74 %"
          ],
          [
           "-50.87 %"
          ],
          [
           "-50.87 %"
          ],
          [
           "9.73 %"
          ],
          [
           "-8.29 %"
          ],
          [
           "-27.94 %"
          ],
          [
           "-34.49 %"
          ]
         ],
         "hovertemplate": "<b>%{hovertext}</b><br><br>Place=Feltham<br>latitude=%{lat}<br>longitude=%{lon}<br>Price difference=%{customdata[0]}<extra></extra>",
         "hovertext": [
          "Feltham",
          "Feltham",
          "Feltham",
          "Feltham",
          "Feltham",
          "Feltham",
          "Feltham",
          "Feltham",
          "Feltham",
          "Feltham",
          "Feltham",
          "Feltham",
          "Feltham",
          "Feltham",
          "Feltham",
          "Feltham",
          "Feltham",
          "Feltham"
         ],
         "lat": [
          51.468059999999994,
          51.436440000000005,
          51.43652,
          51.43626,
          51.44549,
          51.43531,
          51.44511,
          51.43835,
          51.446509999999996,
          51.44826,
          51.448409999999996,
          51.44679,
          51.448209999999996,
          51.44847,
          51.45236,
          51.43962,
          51.43841,
          51.437909999999995
         ],
         "legendgroup": "Feltham",
         "lon": [
          -0.36898000000000003,
          -0.40836999999999996,
          -0.41712,
          -0.42146000000000006,
          -0.41836999999999996,
          -0.40149,
          -0.39516999999999997,
          -0.41593,
          -0.40614,
          -0.40563,
          -0.40709,
          -0.40714,
          -0.40728000000000003,
          -0.40762,
          -0.42323999999999995,
          -0.41884,
          -0.42053999999999997,
          -0.41812
         ],
         "marker": {
          "color": "#FECB52"
         },
         "mode": "markers",
         "name": "Feltham",
         "showlegend": true,
         "subplot": "mapbox",
         "type": "scattermapbox"
        },
        {
         "customdata": [
          [
           "-34.77 %"
          ],
          [
           "-37.47 %"
          ],
          [
           "-7.85 %"
          ],
          [
           "-34.18 %"
          ],
          [
           "-23.21 %"
          ],
          [
           "-56.12 %"
          ],
          [
           "-1.27 %"
          ],
          [
           "-3.46 %"
          ],
          [
           "-23.21 %"
          ],
          [
           "-17.72 %"
          ],
          [
           "60.17 %"
          ],
          [
           "-28.69 %"
          ],
          [
           "-63.80 %"
          ],
          [
           "-8.94 %"
          ],
          [
           "-34.18 %"
          ],
          [
           "-39.66 %"
          ],
          [
           "119.41 %"
          ],
          [
           "-17.72 %"
          ],
          [
           "20.68 %"
          ],
          [
           "-29.79 %"
          ],
          [
           "-21.01 %"
          ],
          [
           "-47.34 %"
          ],
          [
           "-12.34 %"
          ],
          [
           "-31.37 %"
          ],
          [
           "14.39 %"
          ],
          [
           "-31.37 %"
          ],
          [
           "-57.71 %"
          ],
          [
           "3.99 %"
          ],
          [
           "-30.67 %"
          ],
          [
           "85.10 %"
          ],
          [
           "-16.81 %"
          ],
          [
           "-53.55 %"
          ],
          [
           "76.78 %"
          ],
          [
           "85.10 %"
          ],
          [
           "63.61 %"
          ],
          [
           "-13.34 %"
          ],
          [
           "-38.30 %"
          ],
          [
           "-51.47 %"
          ],
          [
           "35.88 %"
          ],
          [
           "-35.53 %"
          ],
          [
           "-66.03 %"
          ],
          [
           "-45.23 %"
          ],
          [
           "-56.32 %"
          ],
          [
           "-61.18 %"
          ],
          [
           "-62.56 %"
          ],
          [
           "-64.64 %"
          ],
          [
           "-77.12 %"
          ],
          [
           "-34.14 %"
          ]
         ],
         "hovertemplate": "<b>%{hovertext}</b><br><br>Place=Queensway<br>latitude=%{lat}<br>longitude=%{lon}<br>Price difference=%{customdata[0]}<extra></extra>",
         "hovertext": [
          "Queensway",
          "Queensway",
          "Queensway",
          "Queensway",
          "Queensway",
          "Queensway",
          "Queensway",
          "Queensway",
          "Queensway",
          "Queensway",
          "Queensway",
          "Queensway",
          "Queensway",
          "Queensway",
          "Queensway",
          "Queensway",
          "Queensway",
          "Queensway",
          "Queensway",
          "Queensway",
          "Queensway",
          "Queensway",
          "Queensway",
          "Queensway",
          "Queensway",
          "Queensway",
          "Queensway",
          "Queensway",
          "Queensway",
          "Queensway",
          "Queensway",
          "Queensway",
          "Queensway",
          "Queensway",
          "Queensway",
          "Queensway",
          "Queensway",
          "Queensway",
          "Queensway",
          "Queensway",
          "Queensway",
          "Queensway",
          "Queensway",
          "Queensway",
          "Queensway",
          "Queensway",
          "Queensway",
          "Queensway"
         ],
         "lat": [
          51.50528,
          51.498870000000004,
          51.5163,
          51.51755,
          51.5172,
          51.51614,
          51.51146,
          51.51651,
          51.51425,
          51.5158,
          51.51239,
          51.519079999999995,
          51.52232,
          51.51234,
          51.51542,
          51.51253,
          51.5136,
          51.5188,
          51.51279,
          51.51603,
          51.511959999999995,
          51.51195,
          51.50505,
          51.51661,
          51.5143,
          51.5181,
          51.51596,
          51.51108,
          51.51605,
          51.51165,
          51.51392,
          51.51795,
          51.515609999999995,
          51.5163,
          51.5164,
          51.516329999999996,
          51.51461,
          51.51466,
          51.5148,
          51.516020000000005,
          51.51432,
          51.519079999999995,
          51.514920000000004,
          51.5131,
          51.513040000000004,
          51.51258,
          51.51323,
          51.5131
         ],
         "legendgroup": "Queensway",
         "lon": [
          -0.19313,
          -0.23041999999999999,
          -0.18711,
          -0.18162,
          -0.18098,
          -0.18955999999999998,
          -0.18857000000000002,
          -0.18769,
          -0.18749000000000002,
          -0.18752,
          -0.18585,
          -0.18364,
          -0.19783,
          -0.18953,
          -0.18589,
          -0.17790999999999998,
          -0.19022,
          -0.18444000000000002,
          -0.17598,
          -0.18784,
          -0.18198,
          -0.18736,
          -0.20851,
          -0.19494,
          -0.17637,
          -0.19258,
          -0.19194,
          -0.1859,
          -0.17994000000000002,
          -0.1863,
          -0.18895,
          -0.18427000000000002,
          -0.19674,
          -0.18792,
          -0.19065,
          -0.19357,
          -0.19351,
          -0.18812,
          -0.18767999999999999,
          -0.18915,
          -0.18479,
          -0.18903,
          -0.18830999999999998,
          -0.1821,
          -0.18125,
          -0.18369000000000002,
          -0.18577,
          -0.18269000000000002
         ],
         "marker": {
          "color": "#636efa"
         },
         "mode": "markers",
         "name": "Queensway",
         "showlegend": true,
         "subplot": "mapbox",
         "type": "scattermapbox"
        },
        {
         "customdata": [
          [
           "-24.91 %"
          ],
          [
           "-36.47 %"
          ],
          [
           "-41.23 %"
          ],
          [
           "-14.94 %"
          ],
          [
           "-38.14 %"
          ],
          [
           "-45.87 %"
          ],
          [
           "-7.20 %"
          ],
          [
           "-7.20 %"
          ],
          [
           "-7.20 %"
          ],
          [
           "-45.87 %"
          ],
          [
           "-9.37 %"
          ],
          [
           "-34.09 %"
          ]
         ],
         "hovertemplate": "<b>%{hovertext}</b><br><br>Place=Roehampton<br>latitude=%{lat}<br>longitude=%{lon}<br>Price difference=%{customdata[0]}<extra></extra>",
         "hovertext": [
          "Roehampton",
          "Roehampton",
          "Roehampton",
          "Roehampton",
          "Roehampton",
          "Roehampton",
          "Roehampton",
          "Roehampton",
          "Roehampton",
          "Roehampton",
          "Roehampton",
          "Roehampton"
         ],
         "lat": [
          51.45074,
          51.45068,
          51.464290000000005,
          51.45745,
          51.44986,
          51.45174,
          51.452490000000004,
          51.45321,
          51.44934,
          51.45317,
          51.42739,
          51.46245
         ],
         "legendgroup": "Roehampton",
         "lon": [
          -0.23678000000000002,
          -0.23961999999999997,
          -0.24818,
          -0.24286999999999997,
          -0.23689000000000002,
          -0.2525,
          -0.25061,
          -0.25032,
          -0.23733,
          -0.23229,
          -0.29522,
          -0.26929000000000003
         ],
         "marker": {
          "color": "#EF553B"
         },
         "mode": "markers",
         "name": "Roehampton",
         "showlegend": true,
         "subplot": "mapbox",
         "type": "scattermapbox"
        },
        {
         "customdata": [
          [
           "-4.80 %"
          ],
          [
           "-23.84 %"
          ],
          [
           "-36.53 %"
          ],
          [
           "-28.60 %"
          ],
          [
           "-36.53 %"
          ],
          [
           "-28.60 %"
          ],
          [
           "42.80 %"
          ],
          [
           "-22.25 %"
          ],
          [
           "30.11 %"
          ],
          [
           "7.90 %"
          ],
          [
           "-20.67 %"
          ],
          [
           "-23.84 %"
          ],
          [
           "-53.99 %"
          ],
          [
           "-68.27 %"
          ],
          [
           "-57.16 %"
          ],
          [
           "-38.12 %"
          ],
          [
           "11.07 %"
          ],
          [
           "-60.33 %"
          ],
          [
           "-23.84 %"
          ],
          [
           "-4.80 %"
          ],
          [
           "-7.97 %"
          ],
          [
           "42.80 %"
          ],
          [
           "-28.60 %"
          ],
          [
           "26.94 %"
          ],
          [
           "-36.53 %"
          ],
          [
           "-25.01 %"
          ],
          [
           "-49.53 %"
          ],
          [
           "-52.41 %"
          ],
          [
           "-29.34 %"
          ],
          [
           "-52.41 %"
          ],
          [
           "-25.01 %"
          ],
          [
           "-68.27 %"
          ],
          [
           "-40.87 %"
          ],
          [
           "-53.85 %"
          ],
          [
           "-3.38 %"
          ],
          [
           "8.26 %"
          ],
          [
           "-1.58 %"
          ],
          [
           "42.16 %"
          ],
          [
           "-1.58 %"
          ],
          [
           "20.29 %"
          ],
          [
           "-12.52 %"
          ],
          [
           "7.16 %"
          ],
          [
           "9.35 %"
          ],
          [
           "-67.19 %"
          ],
          [
           "-27.83 %"
          ],
          [
           "9.35 %"
          ],
          [
           "85.90 %"
          ],
          [
           "-28.92 %"
          ],
          [
           "-12.52 %"
          ],
          [
           "-34.39 %"
          ],
          [
           "-23.45 %"
          ],
          [
           "-11.43 %"
          ],
          [
           "8.26 %"
          ],
          [
           "-12.52 %"
          ],
          [
           "-17.99 %"
          ],
          [
           "9.35 %"
          ],
          [
           "-20.17 %"
          ],
          [
           "-7.05 %"
          ],
          [
           "-28.92 %"
          ],
          [
           "-17.99 %"
          ],
          [
           "-7.05 %"
          ],
          [
           "-11.43 %"
          ],
          [
           "19.19 %"
          ],
          [
           "-38.76 %"
          ],
          [
           "-7.05 %"
          ],
          [
           "-17.99 %"
          ],
          [
           "-23.45 %"
          ],
          [
           "41.06 %"
          ],
          [
           "-23.45 %"
          ],
          [
           "3.88 %"
          ],
          [
           "-23.45 %"
          ],
          [
           "-34.39 %"
          ],
          [
           "-8.15 %"
          ],
          [
           "-33.30 %"
          ],
          [
           "-34.39 %"
          ],
          [
           "-23.45 %"
          ],
          [
           "2.79 %"
          ],
          [
           "-12.52 %"
          ],
          [
           "-21.27 %"
          ],
          [
           "-34.39 %"
          ],
          [
           "-17.99 %"
          ],
          [
           "-33.30 %"
          ],
          [
           "-33.30 %"
          ],
          [
           "31.22 %"
          ],
          [
           "-45.32 %"
          ],
          [
           "3.88 %"
          ],
          [
           "-1.58 %"
          ],
          [
           "7.16 %"
          ],
          [
           "-7.05 %"
          ],
          [
           "-7.05 %"
          ],
          [
           "-42.04 %"
          ],
          [
           "-30.02 %"
          ],
          [
           "-17.99 %"
          ],
          [
           "8.26 %"
          ],
          [
           "-33.30 %"
          ],
          [
           "-50.79 %"
          ],
          [
           "-2.68 %"
          ],
          [
           "37.78 %"
          ],
          [
           "-28.92 %"
          ],
          [
           "8.26 %"
          ],
          [
           "-28.92 %"
          ],
          [
           "-7.05 %"
          ],
          [
           "-8.15 %"
          ],
          [
           "-19.08 %"
          ],
          [
           "-43.14 %"
          ],
          [
           "-11.43 %"
          ],
          [
           "-12.52 %"
          ],
          [
           "-12.52 %"
          ],
          [
           "-45.32 %"
          ],
          [
           "-23.45 %"
          ],
          [
           "-24.55 %"
          ],
          [
           "3.88 %"
          ],
          [
           "-7.05 %"
          ],
          [
           "-17.99 %"
          ],
          [
           "-2.68 %"
          ],
          [
           "36.69 %"
          ],
          [
           "-33.30 %"
          ],
          [
           "-33.30 %"
          ],
          [
           "-52.98 %"
          ],
          [
           "33.41 %"
          ],
          [
           "17.01 %"
          ],
          [
           "-50.79 %"
          ],
          [
           "-1.58 %"
          ],
          [
           "-23.45 %"
          ],
          [
           "-21.23 %"
          ],
          [
           "-12.75 %"
          ],
          [
           "-3.66 %"
          ],
          [
           "-20.02 %"
          ],
          [
           "-9.12 %"
          ],
          [
           "-29.11 %"
          ],
          [
           "63.59 %"
          ],
          [
           "-1.84 %"
          ],
          [
           "1.79 %"
          ],
          [
           "-49.10 %"
          ],
          [
           "34.51 %"
          ],
          [
           "5.43 %"
          ],
          [
           "27.24 %"
          ],
          [
           "-50.92 %"
          ],
          [
           "-10.93 %"
          ],
          [
           "-9.12 %"
          ],
          [
           "-7.30 %"
          ],
          [
           "-52.74 %"
          ],
          [
           "5.43 %"
          ],
          [
           "-7.30 %"
          ],
          [
           "-25.47 %"
          ],
          [
           "-34.56 %"
          ],
          [
           "-12.75 %"
          ],
          [
           "-45.47 %"
          ],
          [
           "-18.20 %"
          ],
          [
           "-9.12 %"
          ],
          [
           "-9.12 %"
          ],
          [
           "-10.93 %"
          ],
          [
           "-9.12 %"
          ],
          [
           "-0.03 %"
          ],
          [
           "30.87 %"
          ],
          [
           "-34.56 %"
          ],
          [
           "-34.56 %"
          ],
          [
           "18.15 %"
          ],
          [
           "-49.10 %"
          ],
          [
           "27.24 %"
          ],
          [
           "-23.66 %"
          ],
          [
           "-45.47 %"
          ],
          [
           "-25.47 %"
          ],
          [
           "-5.48 %"
          ],
          [
           "-0.03 %"
          ],
          [
           "-9.12 %"
          ],
          [
           "-18.20 %"
          ],
          [
           "38.14 %"
          ],
          [
           "-34.56 %"
          ],
          [
           "-36.38 %"
          ],
          [
           "-40.02 %"
          ],
          [
           "9.06 %"
          ],
          [
           "-36.38 %"
          ],
          [
           "-10.93 %"
          ],
          [
           "-34.56 %"
          ],
          [
           "-16.39 %"
          ],
          [
           "-9.12 %"
          ],
          [
           "9.06 %"
          ],
          [
           "-41.83 %"
          ],
          [
           "3.61 %"
          ],
          [
           "41.78 %"
          ],
          [
           "-1.84 %"
          ],
          [
           "-47.29 %"
          ],
          [
           "-20.02 %"
          ],
          [
           "-9.12 %"
          ],
          [
           "-30.93 %"
          ],
          [
           "1.79 %"
          ],
          [
           "7.24 %"
          ],
          [
           "5.43 %"
          ],
          [
           "30.87 %"
          ],
          [
           "-27.29 %"
          ],
          [
           "-9.12 %"
          ],
          [
           "-36.38 %"
          ],
          [
           "-27.29 %"
          ],
          [
           "32.69 %"
          ],
          [
           "-27.29 %"
          ],
          [
           "-45.47 %"
          ],
          [
           "85.40 %"
          ],
          [
           "-41.83 %"
          ],
          [
           "9.06 %"
          ],
          [
           "-54.56 %"
          ],
          [
           "-9.12 %"
          ],
          [
           "9.06 %"
          ],
          [
           "-9.12 %"
          ],
          [
           "-0.03 %"
          ],
          [
           "9.06 %"
          ],
          [
           "-34.56 %"
          ],
          [
           "-12.75 %"
          ],
          [
           "-27.29 %"
          ],
          [
           "-49.10 %"
          ],
          [
           "34.51 %"
          ],
          [
           "-54.56 %"
          ],
          [
           "-12.75 %"
          ],
          [
           "-9.12 %"
          ],
          [
           "9.06 %"
          ],
          [
           "-23.66 %"
          ],
          [
           "38.14 %"
          ],
          [
           "-45.47 %"
          ],
          [
           "-45.47 %"
          ],
          [
           "-47.29 %"
          ],
          [
           "-56.38 %"
          ],
          [
           "-54.56 %"
          ],
          [
           "-36.38 %"
          ],
          [
           "-36.38 %"
          ],
          [
           "-16.39 %"
          ],
          [
           "-45.47 %"
          ],
          [
           "-54.56 %"
          ],
          [
           "18.15 %"
          ],
          [
           "-14.57 %"
          ],
          [
           "-54.56 %"
          ],
          [
           "-27.29 %"
          ],
          [
           "41.78 %"
          ],
          [
           "-34.56 %"
          ],
          [
           "-40.02 %"
          ],
          [
           "-9.12 %"
          ],
          [
           "-27.29 %"
          ],
          [
           "20.54 %"
          ],
          [
           "-47.85 %"
          ],
          [
           "-20.73 %"
          ],
          [
           "-26.99 %"
          ],
          [
           "-17.60 %"
          ],
          [
           "-13.43 %"
          ],
          [
           "-47.85 %"
          ],
          [
           "-11.34 %"
          ],
          [
           "-28.03 %"
          ],
          [
           "-36.38 %"
          ],
          [
           "-6.13 %"
          ],
          [
           "-33.25 %"
          ],
          [
           "-26.99 %"
          ],
          [
           "4.30 %"
          ],
          [
           "4.30 %"
          ],
          [
           "28.29 %"
          ],
          [
           "-0.91 %"
          ],
          [
           "25.16 %"
          ],
          [
           "-7.17 %"
          ],
          [
           "-48.29 %"
          ],
          [
           "-4.86 %"
          ],
          [
           "-25.54 %"
          ],
          [
           "15.99 %"
          ],
          [
           "-33.17 %"
          ],
          [
           "-19.81 %"
          ],
          [
           "30.98 %"
          ],
          [
           "20.29 %"
          ],
          [
           "-58.46 %"
          ],
          [
           "-53.65 %"
          ]
         ],
         "hovertemplate": "<b>%{hovertext}</b><br><br>Place=Stoke<br>latitude=%{lat}<br>longitude=%{lon}<br>Price difference=%{customdata[0]}<extra></extra>",
         "hovertext": [
          "Stoke",
          "Stoke",
          "Stoke",
          "Stoke",
          "Stoke",
          "Stoke",
          "Stoke",
          "Stoke",
          "Stoke",
          "Stoke",
          "Stoke",
          "Stoke",
          "Stoke",
          "Stoke",
          "Stoke",
          "Stoke",
          "Stoke",
          "Stoke",
          "Stoke",
          "Stoke",
          "Stoke",
          "Stoke",
          "Stoke",
          "Stoke",
          "Stoke",
          "Stoke",
          "Stoke",
          "Stoke",
          "Stoke",
          "Stoke",
          "Stoke",
          "Stoke",
          "Stoke",
          "Stoke",
          "Stoke",
          "Stoke",
          "Stoke",
          "Stoke",
          "Stoke",
          "Stoke",
          "Stoke",
          "Stoke",
          "Stoke",
          "Stoke",
          "Stoke",
          "Stoke",
          "Stoke",
          "Stoke",
          "Stoke",
          "Stoke",
          "Stoke",
          "Stoke",
          "Stoke",
          "Stoke",
          "Stoke",
          "Stoke",
          "Stoke",
          "Stoke",
          "Stoke",
          "Stoke",
          "Stoke",
          "Stoke",
          "Stoke",
          "Stoke",
          "Stoke",
          "Stoke",
          "Stoke",
          "Stoke",
          "Stoke",
          "Stoke",
          "Stoke",
          "Stoke",
          "Stoke",
          "Stoke",
          "Stoke",
          "Stoke",
          "Stoke",
          "Stoke",
          "Stoke",
          "Stoke",
          "Stoke",
          "Stoke",
          "Stoke",
          "Stoke",
          "Stoke",
          "Stoke",
          "Stoke",
          "Stoke",
          "Stoke",
          "Stoke",
          "Stoke",
          "Stoke",
          "Stoke",
          "Stoke",
          "Stoke",
          "Stoke",
          "Stoke",
          "Stoke",
          "Stoke",
          "Stoke",
          "Stoke",
          "Stoke",
          "Stoke",
          "Stoke",
          "Stoke",
          "Stoke",
          "Stoke",
          "Stoke",
          "Stoke",
          "Stoke",
          "Stoke",
          "Stoke",
          "Stoke",
          "Stoke",
          "Stoke",
          "Stoke",
          "Stoke",
          "Stoke",
          "Stoke",
          "Stoke",
          "Stoke",
          "Stoke",
          "Stoke",
          "Stoke",
          "Stoke",
          "Stoke",
          "Stoke",
          "Stoke",
          "Stoke",
          "Stoke",
          "Stoke",
          "Stoke",
          "Stoke",
          "Stoke",
          "Stoke",
          "Stoke",
          "Stoke",
          "Stoke",
          "Stoke",
          "Stoke",
          "Stoke",
          "Stoke",
          "Stoke",
          "Stoke",
          "Stoke",
          "Stoke",
          "Stoke",
          "Stoke",
          "Stoke",
          "Stoke",
          "Stoke",
          "Stoke",
          "Stoke",
          "Stoke",
          "Stoke",
          "Stoke",
          "Stoke",
          "Stoke",
          "Stoke",
          "Stoke",
          "Stoke",
          "Stoke",
          "Stoke",
          "Stoke",
          "Stoke",
          "Stoke",
          "Stoke",
          "Stoke",
          "Stoke",
          "Stoke",
          "Stoke",
          "Stoke",
          "Stoke",
          "Stoke",
          "Stoke",
          "Stoke",
          "Stoke",
          "Stoke",
          "Stoke",
          "Stoke",
          "Stoke",
          "Stoke",
          "Stoke",
          "Stoke",
          "Stoke",
          "Stoke",
          "Stoke",
          "Stoke",
          "Stoke",
          "Stoke",
          "Stoke",
          "Stoke",
          "Stoke",
          "Stoke",
          "Stoke",
          "Stoke",
          "Stoke",
          "Stoke",
          "Stoke",
          "Stoke",
          "Stoke",
          "Stoke",
          "Stoke",
          "Stoke",
          "Stoke",
          "Stoke",
          "Stoke",
          "Stoke",
          "Stoke",
          "Stoke",
          "Stoke",
          "Stoke",
          "Stoke",
          "Stoke",
          "Stoke",
          "Stoke",
          "Stoke",
          "Stoke",
          "Stoke",
          "Stoke",
          "Stoke",
          "Stoke",
          "Stoke",
          "Stoke",
          "Stoke",
          "Stoke",
          "Stoke",
          "Stoke",
          "Stoke",
          "Stoke",
          "Stoke",
          "Stoke",
          "Stoke",
          "Stoke",
          "Stoke",
          "Stoke",
          "Stoke",
          "Stoke",
          "Stoke",
          "Stoke",
          "Stoke",
          "Stoke",
          "Stoke",
          "Stoke",
          "Stoke",
          "Stoke",
          "Stoke",
          "Stoke",
          "Stoke",
          "Stoke",
          "Stoke",
          "Stoke",
          "Stoke",
          "Stoke",
          "Stoke",
          "Stoke",
          "Stoke",
          "Stoke",
          "Stoke",
          "Stoke",
          "Stoke",
          "Stoke",
          "Stoke",
          "Stoke",
          "Stoke"
         ],
         "lat": [
          51.54817,
          51.56046,
          51.54871,
          51.54204,
          51.560359999999996,
          51.55915,
          51.532990000000005,
          51.5492,
          51.5571,
          51.5485,
          51.55768,
          51.55015,
          51.559909999999995,
          51.559290000000004,
          51.56075,
          51.55195,
          51.54931,
          51.55346,
          51.55979,
          51.55343,
          51.5486,
          51.550540000000005,
          51.558820000000004,
          51.5484,
          51.55338,
          51.60429,
          51.57484,
          51.58428,
          51.57574,
          51.58198,
          51.583870000000005,
          51.57721,
          51.59898,
          51.5749,
          51.57727,
          51.54632,
          51.55962,
          51.56792,
          51.5366,
          51.55437,
          51.550309999999996,
          51.56301,
          51.56077,
          51.553129999999996,
          51.56095,
          51.565670000000004,
          51.55113,
          51.56454,
          51.55271,
          51.55202,
          51.536640000000006,
          51.56844,
          51.562470000000005,
          51.55755,
          51.562,
          51.55794,
          51.55259,
          51.56304,
          51.56427,
          51.57369,
          51.56354,
          51.55707,
          51.56399999999999,
          51.55605,
          51.552479999999996,
          51.562059999999995,
          51.55662,
          51.549409999999995,
          51.56712,
          51.55721,
          51.57156,
          51.54871,
          51.54535,
          51.55871,
          51.55791,
          51.5635,
          51.56146,
          51.5594,
          51.55359,
          51.5456,
          51.55593,
          51.553470000000004,
          51.54759,
          51.563829999999996,
          51.54548,
          51.561679999999996,
          51.55573,
          51.55873,
          51.55231,
          51.54437,
          51.542640000000006,
          51.54634,
          51.55328,
          51.555440000000004,
          51.543659999999996,
          51.56343,
          51.56292,
          51.5457,
          51.55401,
          51.55515,
          51.55468,
          51.56323,
          51.55523,
          51.55511,
          51.551829999999995,
          51.55153,
          51.56088,
          51.563,
          51.554759999999995,
          51.56857,
          51.5541,
          51.56779,
          51.561370000000004,
          51.5605,
          51.55938,
          51.55141,
          51.56132,
          51.560829999999996,
          51.55656,
          51.56235,
          51.56432,
          51.562290000000004,
          51.5672,
          51.557359999999996,
          51.56984,
          51.55149,
          51.55465,
          51.55852,
          51.55447,
          51.56094,
          51.56787,
          51.56107,
          51.55368,
          51.56422,
          51.54596,
          51.55945,
          51.564820000000005,
          51.56732,
          51.559740000000005,
          51.56061,
          51.55871,
          51.55571,
          51.561890000000005,
          51.56069,
          51.555679999999995,
          51.56927,
          51.56821,
          51.55905,
          51.55905,
          51.55768,
          51.5682,
          51.563,
          51.55588,
          51.56343,
          51.5565,
          51.56337,
          51.56346,
          51.55617,
          51.55883,
          51.56035,
          51.554629999999996,
          51.55125,
          51.55749,
          51.5541,
          51.555009999999996,
          51.552240000000005,
          51.55603,
          51.55056,
          51.56279,
          51.565540000000006,
          51.55655,
          51.55927,
          51.56815,
          51.558479999999996,
          51.56677,
          51.56035,
          51.55784,
          51.56539,
          51.56578,
          51.54977,
          51.55307,
          51.554120000000005,
          51.56428,
          51.56364,
          51.55522,
          51.54833,
          51.559329999999996,
          51.56499,
          51.55388,
          51.57529,
          51.567370000000004,
          51.55375,
          51.55402,
          51.5535,
          51.567859999999996,
          51.55687,
          51.56335,
          51.56541,
          51.56245,
          51.56395,
          51.55298,
          51.56805,
          51.55268,
          51.553020000000004,
          51.55469,
          51.54874,
          51.55299,
          51.558840000000004,
          51.5659,
          51.56285,
          51.56485,
          51.56709,
          51.558009999999996,
          51.564040000000006,
          51.56172,
          51.57056,
          51.549479999999996,
          51.566629999999996,
          51.55519,
          51.5564,
          51.56597,
          51.57172,
          51.5523,
          51.565059999999995,
          51.552620000000005,
          51.565329999999996,
          51.56399999999999,
          51.56899,
          51.56044,
          51.56718,
          51.57435,
          51.564409999999995,
          51.55594,
          51.56357,
          51.55597,
          51.56435,
          51.5165,
          51.54801,
          51.543,
          51.55064,
          51.5506,
          51.56126,
          51.55083,
          51.55308,
          51.55928,
          51.55317,
          51.55064,
          51.550309999999996,
          51.547509999999996,
          51.55578,
          51.56653,
          51.55488,
          51.55305,
          51.54643,
          51.55117,
          51.628840000000004,
          51.629490000000004,
          51.608959999999996,
          51.44234,
          51.57786,
          51.57835,
          51.59812,
          51.57134,
          51.62086,
          51.5565
         ],
         "legendgroup": "Stoke",
         "lon": [
          -0.08095,
          -0.10189,
          -0.08374,
          -0.0956,
          -0.10845,
          -0.10076,
          -0.11612,
          -0.0812,
          -0.09802999999999999,
          -0.08829,
          -0.09502000000000001,
          -0.0851,
          -0.09315,
          -0.09183999999999999,
          -0.09865,
          -0.08842,
          -0.09137999999999999,
          -0.09548999999999999,
          -0.11782999999999999,
          -0.09061,
          -0.09147999999999999,
          -0.08619,
          -0.09437000000000001,
          -0.08943999999999999,
          -0.09085,
          -0.06101,
          -0.09427,
          -0.08744,
          -0.07372999999999999,
          -0.07972,
          -0.09568,
          -0.11317,
          -0.06358,
          -0.0929,
          -0.07658999999999999,
          -0.07488,
          -0.08277000000000001,
          -0.09663,
          -0.0786,
          -0.0785,
          -0.065,
          -0.07581,
          -0.06006,
          -0.08051,
          -0.06027999999999999,
          -0.05356,
          -0.07692,
          -0.07239,
          -0.07302,
          -0.07811,
          -0.08521000000000001,
          -0.055639999999999995,
          -0.07151,
          -0.08785,
          -0.08045,
          -0.08974,
          -0.07351,
          -0.0737,
          -0.05127,
          -0.07955,
          -0.04993,
          -0.07200000000000001,
          -0.0877,
          -0.07687999999999999,
          -0.05624,
          -0.07362,
          -0.05915,
          -0.0598,
          -0.09827999999999999,
          -0.06826,
          -0.08125,
          -0.06735,
          -0.05778,
          -0.0667,
          -0.06772,
          -0.06849,
          -0.06776,
          -0.06598,
          -0.07637000000000001,
          -0.06724,
          -0.04935,
          -0.08539,
          -0.06989,
          -0.07439,
          -0.07082999999999999,
          -0.09809,
          -0.0899,
          -0.08386,
          -0.07746,
          -0.07372000000000001,
          -0.08029,
          -0.0729,
          -0.06927,
          -0.07124,
          -0.07608999999999999,
          -0.08252000000000001,
          -0.07257000000000001,
          -0.07321,
          -0.06854,
          -0.06972,
          -0.0758,
          -0.06702000000000001,
          -0.08455,
          -0.08242000000000001,
          -0.07314,
          -0.06788,
          -0.08288999999999999,
          -0.07471,
          -0.07589,
          -0.06687,
          -0.05139,
          -0.09576,
          -0.0818,
          -0.06681000000000001,
          -0.06184,
          -0.06531,
          -0.0633,
          -0.04485,
          -0.06987,
          -0.08335,
          -0.07169,
          -0.07808999999999999,
          -0.07723,
          -0.0873,
          -0.053279999999999994,
          -0.0787,
          -0.05765,
          -0.04968,
          -0.08829,
          -0.08394,
          -0.09807,
          -0.07682,
          -0.07088,
          -0.07437,
          -0.07491,
          -0.07758,
          -0.08035,
          -0.09106,
          -0.05393,
          -0.07936,
          -0.06756000000000001,
          -0.07282999999999999,
          -0.0621,
          -0.07091,
          -0.08435,
          -0.06847,
          -0.08867,
          -0.07674,
          -0.06573,
          -0.08438999999999999,
          -0.09512999999999999,
          -0.06941,
          -0.0834,
          -0.09376,
          -0.050089999999999996,
          -0.05711,
          -0.05167000000000001,
          -0.07547000000000001,
          -0.07587999999999999,
          -0.08137,
          -0.06875,
          -0.07564,
          -0.08359,
          -0.055999999999999994,
          -0.0899,
          -0.06624,
          -0.08369,
          -0.05886,
          -0.07247999999999999,
          -0.08947000000000001,
          -0.08173,
          -0.05964,
          -0.07075,
          -0.08392999999999999,
          -0.08065,
          -0.06383,
          -0.08871,
          -0.05536,
          -0.07393999999999999,
          -0.04359,
          -0.05184,
          -0.08195,
          -0.0913,
          -0.07278,
          -0.07182999999999999,
          -0.0662,
          -0.060410000000000005,
          -0.08098,
          -0.06855,
          -0.08206000000000001,
          -0.06595,
          -0.05609,
          -0.08827,
          -0.07561,
          -0.0797,
          -0.05946,
          -0.09361,
          -0.05604,
          -0.0833,
          -0.09576,
          -0.04396,
          -0.09537999999999999,
          -0.08322,
          -0.08559,
          -0.07132000000000001,
          -0.06323,
          -0.07214,
          -0.06076,
          -0.08884,
          -0.0955,
          -0.08659,
          -0.1001,
          -0.07321,
          -0.0917,
          -0.06727000000000001,
          -0.07764,
          -0.06767999999999999,
          -0.05177999999999999,
          -0.08181000000000001,
          -0.08774,
          -0.09304,
          -0.07031,
          -0.06534,
          -0.07195,
          -0.07721,
          -0.04835,
          -0.07159,
          -0.05889,
          -0.05387,
          -0.06272,
          -0.08249,
          -0.06992999999999999,
          -0.07441,
          -0.0687,
          -0.08947999999999999,
          -0.07259,
          -0.06667000000000001,
          -0.08282,
          -0.0863,
          -0.0881,
          -0.08158,
          -0.10072,
          -0.08768,
          -0.09116,
          -0.10008,
          -0.08859,
          -0.08402000000000001,
          -0.08612,
          -0.08457,
          -0.0933,
          -0.1104,
          -0.09154,
          -0.11884000000000002,
          -0.08804,
          -0.08537,
          -0.051820000000000005,
          -0.05114,
          -0.06939,
          -0.19593,
          -0.07011,
          -0.10857,
          -0.06421,
          -0.10980999999999999,
          -0.07252,
          -0.07431
         ],
         "marker": {
          "color": "#00cc96"
         },
         "mode": "markers",
         "name": "Stoke",
         "showlegend": true,
         "subplot": "mapbox",
         "type": "scattermapbox"
        },
        {
         "customdata": [
          [
           "-0.04 %"
          ],
          [
           "-48.71 %"
          ],
          [
           "-34.24 %"
          ],
          [
           "-61.86 %"
          ],
          [
           "-27.66 %"
          ],
          [
           "-13.20 %"
          ],
          [
           "5.22 %"
          ],
          [
           "-42.13 %"
          ],
          [
           "-53.97 %"
          ],
          [
           "5.22 %"
          ],
          [
           "-48.71 %"
          ],
          [
           "-47.39 %"
          ],
          [
           "-27.66 %"
          ],
          [
           "-35.55 %"
          ],
          [
           "-53.97 %"
          ],
          [
           "-63.17 %"
          ],
          [
           "-34.24 %"
          ],
          [
           "57.82 %"
          ],
          [
           "-44.76 %"
          ],
          [
           "-50.02 %"
          ],
          [
           "-71.07 %"
          ],
          [
           "-40.82 %"
          ],
          [
           "-20.35 %"
          ],
          [
           "-15.04 %"
          ],
          [
           "45.42 %"
          ],
          [
           "-13.90 %"
          ],
          [
           "134.20 %"
          ],
          [
           "3.32 %"
          ],
          [
           "-49.37 %"
          ],
          [
           "12.52 %"
          ],
          [
           "50.02 %"
          ],
          [
           "12.52 %"
          ],
          [
           "125.97 %"
          ],
          [
           "-39.64 %"
          ],
          [
           "-2.65 %"
          ],
          [
           "-31.85 %"
          ],
          [
           "-14.33 %"
          ],
          [
           "-22.12 %"
          ],
          [
           "-6.54 %"
          ],
          [
           "-2.65 %"
          ],
          [
           "-31.85 %"
          ],
          [
           "-6.54 %"
          ]
         ],
         "hovertemplate": "<b>%{hovertext}</b><br><br>Place=Canada<br>latitude=%{lat}<br>longitude=%{lon}<br>Price difference=%{customdata[0]}<extra></extra>",
         "hovertext": [
          "Canada",
          "Canada",
          "Canada",
          "Canada",
          "Canada",
          "Canada",
          "Canada",
          "Canada",
          "Canada",
          "Canada",
          "Canada",
          "Canada",
          "Canada",
          "Canada",
          "Canada",
          "Canada",
          "Canada",
          "Canada",
          "Canada",
          "Canada",
          "Canada",
          "Canada",
          "Canada",
          "Canada",
          "Canada",
          "Canada",
          "Canada",
          "Canada",
          "Canada",
          "Canada",
          "Canada",
          "Canada",
          "Canada",
          "Canada",
          "Canada",
          "Canada",
          "Canada",
          "Canada",
          "Canada",
          "Canada",
          "Canada",
          "Canada"
         ],
         "lat": [
          51.50181,
          51.501870000000004,
          51.50424,
          51.503890000000006,
          51.50177,
          51.49273,
          51.50247,
          51.500679999999996,
          51.49034,
          51.46755,
          51.503209999999996,
          51.50054,
          51.50515,
          51.50158,
          51.50115,
          51.4965,
          51.49264,
          51.49558,
          51.50131,
          51.49671,
          51.50132,
          51.49669,
          51.50655,
          51.49406,
          51.55035,
          51.50731,
          51.49572,
          51.51356,
          51.51335,
          51.49694,
          51.49689,
          51.498709999999996,
          51.49127,
          51.42773,
          51.492290000000004,
          51.49203,
          51.48372,
          51.48771,
          51.46275,
          51.48406,
          51.49054,
          51.48901
         ],
         "legendgroup": "Canada",
         "lon": [
          -0.04431,
          -0.04585,
          -0.04438,
          -0.03327,
          -0.04686,
          -0.03588,
          -0.037110000000000004,
          -0.050539999999999995,
          -0.05247,
          -0.07979,
          -0.04439,
          -0.04357,
          -0.04578,
          -0.04554,
          -0.03839,
          -0.041319999999999996,
          -0.048119999999999996,
          -0.03798,
          -0.046239999999999996,
          -0.040889999999999996,
          -0.048760000000000005,
          -0.03295,
          -0.03784,
          -0.03752,
          -0.06522,
          -0.007529999999999999,
          -0.01403,
          -0.01521,
          -0.0204,
          -0.020880000000000003,
          -0.01964,
          -0.0196,
          -0.03883,
          -0.06533,
          -0.040139999999999995,
          -0.03902,
          -0.03274,
          -0.03138,
          -0.027010000000000003,
          -0.035769999999999996,
          -0.03255,
          -0.04282
         ],
         "marker": {
          "color": "#ab63fa"
         },
         "mode": "markers",
         "name": "Canada",
         "showlegend": true,
         "subplot": "mapbox",
         "type": "scattermapbox"
        },
        {
         "customdata": [
          [
           "17.70 %"
          ],
          [
           "-23.57 %"
          ],
          [
           "7.00 %"
          ],
          [
           "-25.10 %"
          ],
          [
           "-32.74 %"
          ],
          [
           "-8.29 %"
          ],
          [
           "7.00 %"
          ],
          [
           "-61.79 %"
          ],
          [
           "-23.57 %"
          ],
          [
           "-23.57 %"
          ],
          [
           "-23.57 %"
          ],
          [
           "-26.63 %"
          ],
          [
           "7.00 %"
          ],
          [
           "-57.20 %"
          ],
          [
           "-38.86 %"
          ],
          [
           "-38.38 %"
          ],
          [
           "2.71 %"
          ],
          [
           "-5.85 %"
          ],
          [
           "-35.81 %"
          ],
          [
           "-22.97 %"
          ],
          [
           "-35.81 %"
          ],
          [
           "-36.66 %"
          ],
          [
           "-31.53 %"
          ],
          [
           "19.83 %"
          ],
          [
           "-52.93 %"
          ],
          [
           "-17.60 %"
          ],
          [
           "-73.32 %"
          ],
          [
           "-25.09 %"
          ],
          [
           "-19.95 %"
          ],
          [
           "-63.06 %"
          ]
         ],
         "hovertemplate": "<b>%{hovertext}</b><br><br>Place=Swiss<br>latitude=%{lat}<br>longitude=%{lon}<br>Price difference=%{customdata[0]}<extra></extra>",
         "hovertext": [
          "Swiss",
          "Swiss",
          "Swiss",
          "Swiss",
          "Swiss",
          "Swiss",
          "Swiss",
          "Swiss",
          "Swiss",
          "Swiss",
          "Swiss",
          "Swiss",
          "Swiss",
          "Swiss",
          "Swiss",
          "Swiss",
          "Swiss",
          "Swiss",
          "Swiss",
          "Swiss",
          "Swiss",
          "Swiss",
          "Swiss",
          "Swiss",
          "Swiss",
          "Swiss",
          "Swiss",
          "Swiss",
          "Swiss",
          "Swiss"
         ],
         "lat": [
          51.549490000000006,
          51.54294,
          51.54991,
          51.54553,
          51.54582,
          51.545590000000004,
          51.54673,
          51.550309999999996,
          51.54436,
          51.54781,
          51.54345,
          51.55059,
          51.54645,
          51.55046,
          51.54858,
          51.54112,
          51.55063,
          51.54121,
          51.54773,
          51.54795,
          51.54781,
          51.54102,
          51.545840000000005,
          51.54753,
          51.543890000000005,
          51.5506,
          51.545120000000004,
          51.544470000000004,
          51.544990000000006,
          51.5444
         ],
         "legendgroup": "Swiss",
         "lon": [
          -0.16885999999999998,
          -0.16982,
          -0.16421,
          -0.15447,
          -0.17185,
          -0.17240999999999998,
          -0.16217,
          -0.18184,
          -0.17790999999999998,
          -0.15857000000000002,
          -0.17848,
          -0.18766,
          -0.16593,
          -0.16771,
          -0.16554000000000002,
          -0.17697000000000002,
          -0.16812,
          -0.19466,
          -0.17189000000000002,
          -0.17222,
          -0.17149,
          -0.15858,
          -0.16909000000000002,
          -0.17115,
          -0.17415,
          -0.08158,
          -0.17548,
          -0.17692,
          -0.17662,
          -0.17522000000000001
         ],
         "marker": {
          "color": "#FFA15A"
         },
         "mode": "markers",
         "name": "Swiss",
         "showlegend": true,
         "subplot": "mapbox",
         "type": "scattermapbox"
        },
        {
         "customdata": [
          [
           "-9.61 %"
          ],
          [
           "-17.14 %"
          ],
          [
           "-47.27 %"
          ],
          [
           "-17.14 %"
          ],
          [
           "-32.21 %"
          ],
          [
           "-39.74 %"
          ],
          [
           "34.08 %"
          ],
          [
           "-29.91 %"
          ],
          [
           "-33.80 %"
          ],
          [
           "-24.06 %"
          ],
          [
           "-39.64 %"
          ],
          [
           "-10.44 %"
          ],
          [
           "141.43 %"
          ],
          [
           "-33.80 %"
          ],
          [
           "-45.48 %"
          ],
          [
           "-41.59 %"
          ],
          [
           "-26.01 %"
          ],
          [
           "-31.85 %"
          ],
          [
           "-26.01 %"
          ],
          [
           "-51.32 %"
          ],
          [
           "-22.12 %"
          ],
          [
           "-12.38 %"
          ],
          [
           "36.29 %"
          ],
          [
           "-66.90 %"
          ],
          [
           "-55.22 %"
          ]
         ],
         "hovertemplate": "<b>%{hovertext}</b><br><br>Place=Ladywell<br>latitude=%{lat}<br>longitude=%{lon}<br>Price difference=%{customdata[0]}<extra></extra>",
         "hovertext": [
          "Ladywell",
          "Ladywell",
          "Ladywell",
          "Ladywell",
          "Ladywell",
          "Ladywell",
          "Ladywell",
          "Ladywell",
          "Ladywell",
          "Ladywell",
          "Ladywell",
          "Ladywell",
          "Ladywell",
          "Ladywell",
          "Ladywell",
          "Ladywell",
          "Ladywell",
          "Ladywell",
          "Ladywell",
          "Ladywell",
          "Ladywell",
          "Ladywell",
          "Ladywell",
          "Ladywell",
          "Ladywell"
         ],
         "lat": [
          51.45256,
          51.45661,
          51.445479999999996,
          51.461859999999994,
          51.45597,
          51.44713,
          51.45272,
          51.45735,
          51.4558,
          51.45135,
          51.45649,
          51.45967,
          51.456590000000006,
          51.45559,
          51.46528,
          51.450359999999996,
          51.457879999999996,
          51.45815,
          51.45602,
          51.45394,
          51.44408,
          51.44952,
          51.449329999999996,
          51.46063,
          51.45533
         ],
         "legendgroup": "Ladywell",
         "lon": [
          -0.02311,
          -0.02546,
          -0.00473,
          -0.02309,
          -0.024,
          -0.02384,
          -0.03889,
          -0.01614,
          -0.01612,
          -0.01457,
          -0.01555,
          -0.022000000000000002,
          -0.01877,
          -0.018359999999999998,
          -0.01779,
          -0.02559,
          -0.018580000000000003,
          -0.01797,
          -0.01847,
          -0.0271,
          -0.02634,
          -0.030289999999999997,
          -0.03136,
          -0.022000000000000002,
          -0.02046
         ],
         "marker": {
          "color": "#19d3f3"
         },
         "mode": "markers",
         "name": "Ladywell",
         "showlegend": true,
         "subplot": "mapbox",
         "type": "scattermapbox"
        },
        {
         "customdata": [
          [
           "109.44 %"
          ],
          [
           "-46.05 %"
          ],
          [
           "-36.53 %"
          ],
          [
           "-52.40 %"
          ],
          [
           "26.94 %"
          ],
          [
           "-25.01 %"
          ],
          [
           "-40.87 %"
          ],
          [
           "101.90 %"
          ],
          [
           "-63.95 %"
          ],
          [
           "-29.34 %"
          ],
          [
           "-49.53 %"
          ],
          [
           "-6.26 %"
          ],
          [
           "-52.41 %"
          ],
          [
           "-56.74 %"
          ],
          [
           "-53.85 %"
          ],
          [
           "-45.20 %"
          ],
          [
           "-32.22 %"
          ],
          [
           "-61.06 %"
          ],
          [
           "-62.51 %"
          ],
          [
           "-45.20 %"
          ],
          [
           "-75.48 %"
          ],
          [
           "-27.89 %"
          ],
          [
           "-69.72 %"
          ],
          [
           "-42.32 %"
          ],
          [
           "-19.24 %"
          ],
          [
           "-27.89 %"
          ],
          [
           "-13.47 %"
          ],
          [
           "-43.76 %"
          ],
          [
           "-61.06 %"
          ],
          [
           "-28.92 %"
          ],
          [
           "-12.75 %"
          ],
          [
           "-36.38 %"
          ],
          [
           "-36.38 %"
          ],
          [
           "-54.56 %"
          ],
          [
           "-25.54 %"
          ],
          [
           "-33.17 %"
          ],
          [
           "-47.87 %"
          ],
          [
           "-21.14 %"
          ],
          [
           "-13.12 %"
          ],
          [
           "13.61 %"
          ],
          [
           "-58.46 %"
          ]
         ],
         "hovertemplate": "<b>%{hovertext}</b><br><br>Place=Sisters<br>latitude=%{lat}<br>longitude=%{lon}<br>Price difference=%{customdata[0]}<extra></extra>",
         "hovertext": [
          "Sisters",
          "Sisters",
          "Sisters",
          "Sisters",
          "Sisters",
          "Sisters",
          "Sisters",
          "Sisters",
          "Sisters",
          "Sisters",
          "Sisters",
          "Sisters",
          "Sisters",
          "Sisters",
          "Sisters",
          "Sisters",
          "Sisters",
          "Sisters",
          "Sisters",
          "Sisters",
          "Sisters",
          "Sisters",
          "Sisters",
          "Sisters",
          "Sisters",
          "Sisters",
          "Sisters",
          "Sisters",
          "Sisters",
          "Sisters",
          "Sisters",
          "Sisters",
          "Sisters",
          "Sisters",
          "Sisters",
          "Sisters",
          "Sisters",
          "Sisters",
          "Sisters",
          "Sisters",
          "Sisters"
         ],
         "lat": [
          51.55863,
          51.56071,
          51.560359999999996,
          51.56561,
          51.56147,
          51.60429,
          51.5792,
          51.585640000000005,
          51.58051,
          51.57574,
          51.58231,
          51.60028,
          51.58198,
          51.58352,
          51.58558,
          51.59271,
          51.58579,
          51.59753,
          51.589659999999995,
          51.597229999999996,
          51.58905,
          51.58875,
          51.58381,
          51.58442,
          51.58806,
          51.59604,
          51.59779,
          51.606120000000004,
          51.57976,
          51.574529999999996,
          51.56821,
          51.56815,
          51.557829999999996,
          51.57172,
          51.62741,
          51.57786,
          51.58302,
          51.57948,
          51.59807,
          51.58452,
          51.62086
         ],
         "legendgroup": "Sisters",
         "lon": [
          -0.11848,
          -0.11577,
          -0.10845,
          -0.10699000000000002,
          -0.10567,
          -0.06101,
          -0.08375,
          -0.06674,
          -0.08217,
          -0.07372999999999999,
          -0.07173,
          -0.07272999999999999,
          -0.07972,
          -0.06606000000000001,
          -0.078,
          -0.08553999999999999,
          -0.06309,
          -0.0839,
          -0.07811,
          -0.07622000000000001,
          -0.07909,
          -0.07736,
          -0.062329999999999997,
          -0.08229,
          -0.07103,
          -0.07516,
          -0.07539,
          -0.07107999999999999,
          -0.06838,
          -0.08426,
          -0.08867,
          -0.07075,
          -0.06272,
          -0.07031,
          -0.06095,
          -0.07011,
          -0.0782,
          -0.08031,
          -0.06649,
          -0.0814,
          -0.07252
         ],
         "marker": {
          "color": "#FF6692"
         },
         "mode": "markers",
         "name": "Sisters",
         "showlegend": true,
         "subplot": "mapbox",
         "type": "scattermapbox"
        },
        {
         "customdata": [
          [
           "-27.66 %"
          ],
          [
           "-47.39 %"
          ],
          [
           "-60.54 %"
          ],
          [
           "-53.97 %"
          ],
          [
           "-13.20 %"
          ],
          [
           "5.22 %"
          ],
          [
           "-53.97 %"
          ],
          [
           "-47.39 %"
          ],
          [
           "-47.39 %"
          ],
          [
           "-34.24 %"
          ],
          [
           "-55.28 %"
          ],
          [
           "-53.97 %"
          ],
          [
           "-63.17 %"
          ],
          [
           "57.82 %"
          ],
          [
           "-40.82 %"
          ],
          [
           "-26.35 %"
          ],
          [
           "-20.35 %"
          ],
          [
           "-15.04 %"
          ],
          [
           "-48.43 %"
          ],
          [
           "20.52 %"
          ],
          [
           "125.97 %"
          ],
          [
           "-21.66 %"
          ],
          [
           "-24.06 %"
          ],
          [
           "-31.85 %"
          ],
          [
           "-14.33 %"
          ],
          [
           "-2.65 %"
          ],
          [
           "-6.54 %"
          ]
         ],
         "hovertemplate": "<b>%{hovertext}</b><br><br>Place=Quays<br>latitude=%{lat}<br>longitude=%{lon}<br>Price difference=%{customdata[0]}<extra></extra>",
         "hovertext": [
          "Quays",
          "Quays",
          "Quays",
          "Quays",
          "Quays",
          "Quays",
          "Quays",
          "Quays",
          "Quays",
          "Quays",
          "Quays",
          "Quays",
          "Quays",
          "Quays",
          "Quays",
          "Quays",
          "Quays",
          "Quays",
          "Quays",
          "Quays",
          "Quays",
          "Quays",
          "Quays",
          "Quays",
          "Quays",
          "Quays",
          "Quays"
         ],
         "lat": [
          51.49103,
          51.49816,
          51.49433,
          51.49962,
          51.49273,
          51.50247,
          51.49034,
          51.50054,
          51.498129999999996,
          51.49303,
          51.49252,
          51.50115,
          51.4965,
          51.49558,
          51.49669,
          51.49157,
          51.50655,
          51.49406,
          51.50971,
          51.489090000000004,
          51.49127,
          51.48836,
          51.492129999999996,
          51.49203,
          51.48372,
          51.48406,
          51.48901
         ],
         "legendgroup": "Quays",
         "lon": [
          -0.06114,
          -0.03683,
          -0.037630000000000004,
          -0.04677,
          -0.03588,
          -0.037110000000000004,
          -0.05247,
          -0.04357,
          -0.03648,
          -0.041710000000000004,
          -0.04068,
          -0.03839,
          -0.041319999999999996,
          -0.03798,
          -0.03295,
          -0.05857999999999999,
          -0.03784,
          -0.03752,
          -0.01519,
          -0.04217,
          -0.03883,
          -0.04578,
          -0.03888,
          -0.03902,
          -0.03274,
          -0.035769999999999996,
          -0.04282
         ],
         "marker": {
          "color": "#B6E880"
         },
         "mode": "markers",
         "name": "Quays",
         "showlegend": true,
         "subplot": "mapbox",
         "type": "scattermapbox"
        },
        {
         "customdata": [
          [
           "-30.02 %"
          ],
          [
           "81.50 %"
          ],
          [
           "-34.24 %"
          ],
          [
           "-14.51 %"
          ],
          [
           "-35.55 %"
          ],
          [
           "-56.60 %"
          ],
          [
           "-53.97 %"
          ],
          [
           "-47.39 %"
          ],
          [
           "-47.39 %"
          ],
          [
           "-52.65 %"
          ],
          [
           "-34.24 %"
          ],
          [
           "-40.82 %"
          ],
          [
           "49.93 %"
          ],
          [
           "-15.83 %"
          ],
          [
           "-27.66 %"
          ],
          [
           "-50.02 %"
          ],
          [
           "-1.36 %"
          ],
          [
           "-47.39 %"
          ],
          [
           "-27.66 %"
          ],
          [
           "-47.39 %"
          ],
          [
           "-47.39 %"
          ],
          [
           "-47.39 %"
          ],
          [
           "-59.23 %"
          ],
          [
           "-23.72 %"
          ],
          [
           "5.22 %"
          ],
          [
           "-50.02 %"
          ],
          [
           "-40.82 %"
          ],
          [
           "-23.72 %"
          ],
          [
           "-63.17 %"
          ],
          [
           "39.41 %"
          ],
          [
           "-40.82 %"
          ],
          [
           "-26.35 %"
          ],
          [
           "17.05 %"
          ],
          [
           "-60.54 %"
          ],
          [
           "-39.50 %"
          ],
          [
           "-46.08 %"
          ],
          [
           "-42.13 %"
          ],
          [
           "-44.76 %"
          ],
          [
           "-36.87 %"
          ],
          [
           "-34.24 %"
          ],
          [
           "-26.35 %"
          ],
          [
           "-32.92 %"
          ],
          [
           "5.22 %"
          ],
          [
           "-40.82 %"
          ],
          [
           "16.57 %"
          ],
          [
           "15.76 %"
          ],
          [
           "-26.72 %"
          ],
          [
           "-25.66 %"
          ],
          [
           "-4.42 %"
          ],
          [
           "-4.42 %"
          ],
          [
           "-15.04 %"
          ],
          [
           "54.00 %"
          ],
          [
           "-9.73 %"
          ],
          [
           "59.31 %"
          ],
          [
           "-12.91 %"
          ],
          [
           "16.83 %"
          ],
          [
           "-4.42 %"
          ],
          [
           "-26.72 %"
          ],
          [
           "48.69 %"
          ],
          [
           "-20.35 %"
          ],
          [
           "59.31 %"
          ],
          [
           "32.76 %"
          ],
          [
           "-25.66 %"
          ],
          [
           "27.45 %"
          ],
          [
           "-9.73 %"
          ],
          [
           "9.39 %"
          ],
          [
           "-19.28 %"
          ],
          [
           "9.39 %"
          ],
          [
           "6.20 %"
          ],
          [
           "-12.94 %"
          ],
          [
           "-29.90 %"
          ],
          [
           "-31.05 %"
          ],
          [
           "-14.94 %"
          ]
         ],
         "hovertemplate": "<b>%{hovertext}</b><br><br>Place=Elephant<br>latitude=%{lat}<br>longitude=%{lon}<br>Price difference=%{customdata[0]}<extra></extra>",
         "hovertext": [
          "Elephant",
          "Elephant",
          "Elephant",
          "Elephant",
          "Elephant",
          "Elephant",
          "Elephant",
          "Elephant",
          "Elephant",
          "Elephant",
          "Elephant",
          "Elephant",
          "Elephant",
          "Elephant",
          "Elephant",
          "Elephant",
          "Elephant",
          "Elephant",
          "Elephant",
          "Elephant",
          "Elephant",
          "Elephant",
          "Elephant",
          "Elephant",
          "Elephant",
          "Elephant",
          "Elephant",
          "Elephant",
          "Elephant",
          "Elephant",
          "Elephant",
          "Elephant",
          "Elephant",
          "Elephant",
          "Elephant",
          "Elephant",
          "Elephant",
          "Elephant",
          "Elephant",
          "Elephant",
          "Elephant",
          "Elephant",
          "Elephant",
          "Elephant",
          "Elephant",
          "Elephant",
          "Elephant",
          "Elephant",
          "Elephant",
          "Elephant",
          "Elephant",
          "Elephant",
          "Elephant",
          "Elephant",
          "Elephant",
          "Elephant",
          "Elephant",
          "Elephant",
          "Elephant",
          "Elephant",
          "Elephant",
          "Elephant",
          "Elephant",
          "Elephant",
          "Elephant",
          "Elephant",
          "Elephant",
          "Elephant",
          "Elephant",
          "Elephant",
          "Elephant",
          "Elephant",
          "Elephant"
         ],
         "lat": [
          51.544290000000004,
          51.49865,
          51.49179,
          51.48766,
          51.49323,
          51.4856,
          51.48229,
          51.482859999999995,
          51.482479999999995,
          51.47732,
          51.48958,
          51.498870000000004,
          51.48151,
          51.492059999999995,
          51.49304,
          51.48403,
          51.49581,
          51.48747,
          51.49507,
          51.488690000000005,
          51.482490000000006,
          51.4905,
          51.47432,
          51.492,
          51.49208,
          51.47927,
          51.489,
          51.48805,
          51.48987,
          51.49613,
          51.49655,
          51.48529,
          51.482690000000005,
          51.47911,
          51.45836,
          51.49185,
          51.49472,
          51.489959999999996,
          51.47806,
          51.48901,
          51.49642,
          51.49626,
          51.49224,
          51.49515,
          51.47526,
          51.49236,
          51.491209999999995,
          51.4824,
          51.49143,
          51.49088,
          51.45191,
          51.49341,
          51.46739,
          51.48738,
          51.49923,
          51.49623,
          51.479459999999996,
          51.492340000000006,
          51.49677,
          51.48928,
          51.49609,
          51.49096,
          51.480109999999996,
          51.495059999999995,
          51.48182,
          51.49029,
          51.489259999999994,
          51.496759999999995,
          51.48914,
          51.4934,
          51.47462,
          51.38805,
          51.462920000000004
         ],
         "legendgroup": "Elephant",
         "lon": [
          -0.03036,
          -0.10284000000000001,
          -0.08888,
          -0.10565,
          -0.09346,
          -0.07404,
          -0.10094,
          -0.09432,
          -0.09537999999999999,
          -0.09692,
          -0.08657999999999999,
          -0.10346,
          -0.09229,
          -0.0936,
          -0.10063,
          -0.09879,
          -0.10515,
          -0.08957999999999999,
          -0.10002,
          -0.09001,
          -0.09427,
          -0.10095,
          -0.09312999999999999,
          -0.08375,
          -0.10214,
          -0.06648,
          -0.08455,
          -0.09602000000000001,
          -0.10164,
          -0.09645,
          -0.09928,
          -0.07303,
          -0.09179,
          -0.09439,
          -0.05196,
          -0.09512999999999999,
          -0.0968,
          -0.09305,
          -0.09442,
          -0.06875,
          -0.09791,
          -0.0987,
          -0.08542999999999999,
          -0.09587999999999999,
          -0.18428,
          -0.09033,
          -0.09941,
          -0.10173,
          -0.10214,
          -0.09702000000000001,
          -0.07682,
          -0.09219,
          -0.06967999999999999,
          -0.08909,
          -0.10379000000000001,
          -0.1029,
          -0.08876,
          -0.09199,
          -0.10042999999999999,
          -0.07474,
          -0.09952000000000001,
          -0.0986,
          -0.09395,
          -0.09963999999999999,
          -0.09655,
          -0.09838999999999999,
          -0.10015,
          -0.08567999999999999,
          -0.10395,
          -0.10489000000000001,
          -0.11613,
          -0.09944,
          -0.16575
         ],
         "marker": {
          "color": "#FF97FF"
         },
         "mode": "markers",
         "name": "Elephant",
         "showlegend": true,
         "subplot": "mapbox",
         "type": "scattermapbox"
        },
        {
         "customdata": [
          [
           "-21.40 %"
          ],
          [
           "-62.77 %"
          ],
          [
           "-54.50 %"
          ],
          [
           "-29.68 %"
          ],
          [
           "-48.29 %"
          ],
          [
           "-4.86 %"
          ],
          [
           "-8.99 %"
          ],
          [
           "-25.54 %"
          ],
          [
           "-21.40 %"
          ],
          [
           "-15.64 %"
          ],
          [
           "-58.46 %"
          ]
         ],
         "hovertemplate": "<b>%{hovertext}</b><br><br>Place=Edmonton<br>latitude=%{lat}<br>longitude=%{lon}<br>Price difference=%{customdata[0]}<extra></extra>",
         "hovertext": [
          "Edmonton",
          "Edmonton",
          "Edmonton",
          "Edmonton",
          "Edmonton",
          "Edmonton",
          "Edmonton",
          "Edmonton",
          "Edmonton",
          "Edmonton",
          "Edmonton"
         ],
         "lat": [
          51.619659999999996,
          51.619479999999996,
          51.61888,
          51.62038,
          51.628840000000004,
          51.629490000000004,
          51.63058,
          51.62741,
          51.64887,
          51.6113,
          51.62086
         ],
         "legendgroup": "Edmonton",
         "lon": [
          -0.08208,
          -0.08162,
          -0.08192,
          -0.08098999999999999,
          -0.051820000000000005,
          -0.05114,
          -0.045689999999999995,
          -0.06095,
          -0.050960000000000005,
          -0.054979999999999994,
          -0.07252
         ],
         "marker": {
          "color": "#FECB52"
         },
         "mode": "markers",
         "name": "Edmonton",
         "showlegend": true,
         "subplot": "mapbox",
         "type": "scattermapbox"
        },
        {
         "customdata": [
          [
           "-36.53 %"
          ],
          [
           "-20.67 %"
          ],
          [
           "6.31 %"
          ],
          [
           "-36.53 %"
          ],
          [
           "109.44 %"
          ],
          [
           "-52.40 %"
          ],
          [
           "-20.67 %"
          ],
          [
           "-46.05 %"
          ],
          [
           "-31.77 %"
          ],
          [
           "-36.53 %"
          ],
          [
           "-20.67 %"
          ],
          [
           "-7.97 %"
          ],
          [
           "-27.01 %"
          ],
          [
           "-4.80 %"
          ],
          [
           "11.07 %"
          ],
          [
           "-7.97 %"
          ],
          [
           "150.70 %"
          ],
          [
           "26.94 %"
          ],
          [
           "-23.84 %"
          ],
          [
           "-52.40 %"
          ],
          [
           "-38.12 %"
          ],
          [
           "-17.49 %"
          ],
          [
           "-28.60 %"
          ],
          [
           "-50.81 %"
          ],
          [
           "-36.53 %"
          ],
          [
           "-30.19 %"
          ],
          [
           "-23.84 %"
          ],
          [
           "-33.36 %"
          ],
          [
           "-12.73 %"
          ],
          [
           "-4.80 %"
          ],
          [
           "-42.88 %"
          ],
          [
           "3.14 %"
          ],
          [
           "-39.71 %"
          ],
          [
           "11.07 %"
          ],
          [
           "17.42 %"
          ],
          [
           "3.14 %"
          ],
          [
           "19.00 %"
          ],
          [
           "19.00 %"
          ],
          [
           "-12.73 %"
          ],
          [
           "19.00 %"
          ],
          [
           "-20.67 %"
          ],
          [
           "-44.47 %"
          ],
          [
           "26.94 %"
          ],
          [
           "26.94 %"
          ],
          [
           "-57.16 %"
          ],
          [
           "-33.36 %"
          ],
          [
           "-44.47 %"
          ],
          [
           "-52.41 %"
          ],
          [
           "44.21 %"
          ],
          [
           "-13.47 %"
          ],
          [
           "-49.53 %"
          ],
          [
           "-6.26 %"
          ],
          [
           "-30.78 %"
          ],
          [
           "-13.47 %"
          ],
          [
           "-13.47 %"
          ],
          [
           "0.95 %"
          ],
          [
           "101.90 %"
          ],
          [
           "-27.89 %"
          ],
          [
           "-49.53 %"
          ],
          [
           "-13.47 %"
          ],
          [
           "-63.95 %"
          ],
          [
           "-58.18 %"
          ],
          [
           "-32.22 %"
          ],
          [
           "-40.87 %"
          ],
          [
           "-20.68 %"
          ],
          [
           "-27.89 %"
          ],
          [
           "12.48 %"
          ],
          [
           "-13.47 %"
          ],
          [
           "-49.53 %"
          ],
          [
           "-55.29 %"
          ],
          [
           "3.83 %"
          ],
          [
           "-63.95 %"
          ],
          [
           "-43.76 %"
          ],
          [
           "-22.13 %"
          ],
          [
           "-27.89 %"
          ],
          [
           "-36.55 %"
          ],
          [
           "-32.22 %"
          ],
          [
           "0.95 %"
          ],
          [
           "-50.97 %"
          ],
          [
           "101.90 %"
          ],
          [
           "-27.89 %"
          ],
          [
           "-49.53 %"
          ],
          [
           "-45.20 %"
          ],
          [
           "-53.85 %"
          ],
          [
           "-42.32 %"
          ],
          [
           "8.16 %"
          ],
          [
           "-53.85 %"
          ],
          [
           "-36.55 %"
          ],
          [
           "0.95 %"
          ],
          [
           "58.63 %"
          ],
          [
           "-19.24 %"
          ],
          [
           "15.37 %"
          ],
          [
           "-56.74 %"
          ],
          [
           "0.95 %"
          ],
          [
           "-13.47 %"
          ],
          [
           "42.16 %"
          ],
          [
           "-38.76 %"
          ],
          [
           "-34.39 %"
          ],
          [
           "-7.05 %"
          ],
          [
           "-23.45 %"
          ],
          [
           "-3.77 %"
          ],
          [
           "-28.92 %"
          ],
          [
           "-28.92 %"
          ],
          [
           "3.88 %"
          ],
          [
           "52.86 %"
          ],
          [
           "63.59 %"
          ],
          [
           "-3.66 %"
          ],
          [
           "-9.12 %"
          ],
          [
           "-0.03 %"
          ],
          [
           "-12.75 %"
          ],
          [
           "-47.29 %"
          ],
          [
           "-9.12 %"
          ],
          [
           "-36.38 %"
          ],
          [
           "5.43 %"
          ],
          [
           "1.79 %"
          ],
          [
           "9.06 %"
          ],
          [
           "-9.12 %"
          ],
          [
           "-9.12 %"
          ],
          [
           "-27.29 %"
          ],
          [
           "-49.10 %"
          ],
          [
           "-54.56 %"
          ],
          [
           "-58.19 %"
          ],
          [
           "-9.12 %"
          ],
          [
           "-18.20 %"
          ],
          [
           "-18.20 %"
          ],
          [
           "-12.75 %"
          ],
          [
           "-45.47 %"
          ],
          [
           "-9.12 %"
          ],
          [
           "3.26 %"
          ],
          [
           "9.52 %"
          ],
          [
           "-24.90 %"
          ],
          [
           "-6.13 %"
          ],
          [
           "-37.42 %"
          ],
          [
           "3.26 %"
          ],
          [
           "-42.63 %"
          ],
          [
           "-47.85 %"
          ],
          [
           "30.38 %"
          ],
          [
           "-10.30 %"
          ],
          [
           "-26.99 %"
          ],
          [
           "-21.77 %"
          ],
          [
           "26.21 %"
          ],
          [
           "-28.03 %"
          ],
          [
           "-14.47 %"
          ],
          [
           "-90.61 %"
          ],
          [
           "-30.12 %"
          ],
          [
           "-32.20 %"
          ],
          [
           "-32.20 %"
          ],
          [
           "4.30 %"
          ],
          [
           "-21.77 %"
          ],
          [
           "9.52 %"
          ],
          [
           "-34.29 %"
          ],
          [
           "4.30 %"
          ],
          [
           "4.30 %"
          ],
          [
           "-26.99 %"
          ],
          [
           "-36.38 %"
          ],
          [
           "28.24 %"
          ],
          [
           "-17.27 %"
          ],
          [
           "44.78 %"
          ],
          [
           "-0.72 %"
          ],
          [
           "-40.02 %"
          ],
          [
           "26.97 %"
          ],
          [
           "-26.49 %"
          ],
          [
           "32.32 %"
          ],
          [
           "-18.47 %"
          ],
          [
           "33.65 %"
          ],
          [
           "20.29 %"
          ],
          [
           "-1.10 %"
          ],
          [
           "-35.85 %"
          ],
          [
           "33.65 %"
          ],
          [
           "-13.12 %"
          ],
          [
           "-6.44 %"
          ],
          [
           "-19.81 %"
          ],
          [
           "-63.91 %"
          ],
          [
           "-6.44 %"
          ],
          [
           "20.29 %"
          ],
          [
           "33.65 %"
          ],
          [
           "-17.13 %"
          ],
          [
           "-26.49 %"
          ],
          [
           "-58.46 %"
          ],
          [
           "-12.31 %"
          ]
         ],
         "hovertemplate": "<b>%{hovertext}</b><br><br>Place=Finsbury<br>latitude=%{lat}<br>longitude=%{lon}<br>Price difference=%{customdata[0]}<extra></extra>",
         "hovertext": [
          "Finsbury",
          "Finsbury",
          "Finsbury",
          "Finsbury",
          "Finsbury",
          "Finsbury",
          "Finsbury",
          "Finsbury",
          "Finsbury",
          "Finsbury",
          "Finsbury",
          "Finsbury",
          "Finsbury",
          "Finsbury",
          "Finsbury",
          "Finsbury",
          "Finsbury",
          "Finsbury",
          "Finsbury",
          "Finsbury",
          "Finsbury",
          "Finsbury",
          "Finsbury",
          "Finsbury",
          "Finsbury",
          "Finsbury",
          "Finsbury",
          "Finsbury",
          "Finsbury",
          "Finsbury",
          "Finsbury",
          "Finsbury",
          "Finsbury",
          "Finsbury",
          "Finsbury",
          "Finsbury",
          "Finsbury",
          "Finsbury",
          "Finsbury",
          "Finsbury",
          "Finsbury",
          "Finsbury",
          "Finsbury",
          "Finsbury",
          "Finsbury",
          "Finsbury",
          "Finsbury",
          "Finsbury",
          "Finsbury",
          "Finsbury",
          "Finsbury",
          "Finsbury",
          "Finsbury",
          "Finsbury",
          "Finsbury",
          "Finsbury",
          "Finsbury",
          "Finsbury",
          "Finsbury",
          "Finsbury",
          "Finsbury",
          "Finsbury",
          "Finsbury",
          "Finsbury",
          "Finsbury",
          "Finsbury",
          "Finsbury",
          "Finsbury",
          "Finsbury",
          "Finsbury",
          "Finsbury",
          "Finsbury",
          "Finsbury",
          "Finsbury",
          "Finsbury",
          "Finsbury",
          "Finsbury",
          "Finsbury",
          "Finsbury",
          "Finsbury",
          "Finsbury",
          "Finsbury",
          "Finsbury",
          "Finsbury",
          "Finsbury",
          "Finsbury",
          "Finsbury",
          "Finsbury",
          "Finsbury",
          "Finsbury",
          "Finsbury",
          "Finsbury",
          "Finsbury",
          "Finsbury",
          "Finsbury",
          "Finsbury",
          "Finsbury",
          "Finsbury",
          "Finsbury",
          "Finsbury",
          "Finsbury",
          "Finsbury",
          "Finsbury",
          "Finsbury",
          "Finsbury",
          "Finsbury",
          "Finsbury",
          "Finsbury",
          "Finsbury",
          "Finsbury",
          "Finsbury",
          "Finsbury",
          "Finsbury",
          "Finsbury",
          "Finsbury",
          "Finsbury",
          "Finsbury",
          "Finsbury",
          "Finsbury",
          "Finsbury",
          "Finsbury",
          "Finsbury",
          "Finsbury",
          "Finsbury",
          "Finsbury",
          "Finsbury",
          "Finsbury",
          "Finsbury",
          "Finsbury",
          "Finsbury",
          "Finsbury",
          "Finsbury",
          "Finsbury",
          "Finsbury",
          "Finsbury",
          "Finsbury",
          "Finsbury",
          "Finsbury",
          "Finsbury",
          "Finsbury",
          "Finsbury",
          "Finsbury",
          "Finsbury",
          "Finsbury",
          "Finsbury",
          "Finsbury",
          "Finsbury",
          "Finsbury",
          "Finsbury",
          "Finsbury",
          "Finsbury",
          "Finsbury",
          "Finsbury",
          "Finsbury",
          "Finsbury",
          "Finsbury",
          "Finsbury",
          "Finsbury",
          "Finsbury",
          "Finsbury",
          "Finsbury",
          "Finsbury",
          "Finsbury",
          "Finsbury",
          "Finsbury",
          "Finsbury",
          "Finsbury",
          "Finsbury",
          "Finsbury",
          "Finsbury",
          "Finsbury",
          "Finsbury",
          "Finsbury",
          "Finsbury",
          "Finsbury",
          "Finsbury",
          "Finsbury",
          "Finsbury",
          "Finsbury",
          "Finsbury"
         ],
         "lat": [
          51.568020000000004,
          51.55771,
          51.56863,
          51.56532,
          51.55863,
          51.56896,
          51.55713,
          51.56071,
          51.562,
          51.560359999999996,
          51.56313,
          51.55448,
          51.56416,
          51.56108,
          51.563320000000004,
          51.55584,
          51.53921,
          51.56749,
          51.55981,
          51.567029999999995,
          51.55195,
          51.565459999999995,
          51.57182,
          51.56908,
          51.56485,
          51.555820000000004,
          51.55979,
          51.560359999999996,
          51.554520000000004,
          51.5598,
          51.56009,
          51.56012,
          51.56077,
          51.56269,
          51.56678,
          51.52623,
          51.5263,
          51.556779999999996,
          51.556779999999996,
          51.556779999999996,
          51.56276,
          51.5591,
          51.56147,
          51.56953,
          51.55966,
          51.569720000000004,
          51.55251,
          51.58084,
          51.58336,
          51.58435,
          51.57484,
          51.57515,
          51.574490000000004,
          51.578,
          51.57617,
          51.570570000000004,
          51.585640000000005,
          51.578790000000005,
          51.572990000000004,
          51.58377,
          51.57956,
          51.593990000000005,
          51.579609999999995,
          51.58746,
          51.587790000000005,
          51.57036,
          51.573240000000006,
          51.5752,
          51.57465,
          51.59207,
          51.60157,
          51.57371,
          51.57512,
          51.58631,
          51.57734,
          51.57842,
          51.56674,
          51.57521,
          51.567440000000005,
          51.59779,
          51.57059,
          51.5754,
          51.58422,
          51.5749,
          51.577090000000005,
          51.58335,
          51.58475,
          51.57509,
          51.576609999999995,
          51.57817,
          51.57217,
          51.59811,
          51.57999,
          51.58146,
          51.582879999999996,
          51.56792,
          51.55605,
          51.56507,
          51.562740000000005,
          51.56712,
          51.56686,
          51.574529999999996,
          51.56157,
          51.56779,
          51.52855,
          51.56787,
          51.56578,
          51.5629,
          51.572070000000004,
          51.56821,
          51.567640000000004,
          51.5682,
          51.565540000000006,
          51.56987,
          51.563320000000004,
          51.56395,
          51.56805,
          51.553020000000004,
          51.5659,
          51.56285,
          51.56709,
          51.56681,
          51.564040000000006,
          51.56239,
          51.56469,
          51.52687,
          51.56912,
          51.56605,
          51.56044,
          51.56171,
          51.56134,
          51.56358,
          51.5564,
          51.56201,
          51.56635,
          51.56973,
          51.52597,
          51.56349,
          51.5663,
          51.56963,
          51.553509999999996,
          51.55928,
          51.559329999999996,
          51.53914,
          51.55044,
          51.55917,
          51.55738,
          51.56521,
          51.56215,
          51.5634,
          51.564009999999996,
          51.55578,
          51.56653,
          51.5704,
          51.56351,
          51.638709999999996,
          51.6632,
          51.65493,
          51.656079999999996,
          51.654959999999996,
          51.580090000000006,
          51.568220000000004,
          51.57625,
          51.57462,
          51.57465,
          51.597809999999996,
          51.58933,
          51.584540000000004,
          51.56725,
          51.576370000000004,
          51.57573,
          51.57931,
          51.57588,
          51.5689,
          51.57134,
          51.57097,
          51.58052,
          51.575790000000005,
          51.62086,
          51.63687
         ],
         "legendgroup": "Finsbury",
         "lon": [
          -0.11120999999999999,
          -0.11373,
          -0.11753,
          -0.11104000000000001,
          -0.11848,
          -0.12342,
          -0.12097999999999999,
          -0.11577,
          -0.11569000000000002,
          -0.10845,
          -0.11547,
          -0.10107000000000001,
          -0.10955999999999999,
          -0.11495,
          -0.11885,
          -0.1013,
          -0.0994,
          -0.12322000000000001,
          -0.11775,
          -0.1117,
          -0.08842,
          -0.11487,
          -0.11560999999999999,
          -0.12558,
          -0.11689000000000001,
          -0.11022,
          -0.11782999999999999,
          -0.10389000000000001,
          -0.11077999999999999,
          -0.09873,
          -0.11392000000000001,
          -0.10228999999999999,
          -0.11623,
          -0.11417999999999999,
          -0.11600999999999999,
          -0.08811000000000001,
          -0.08812,
          -0.10575,
          -0.10575,
          -0.10575,
          -0.11912,
          -0.11760999999999999,
          -0.10567,
          -0.11882999999999999,
          -0.11475,
          -0.11540999999999998,
          -0.1259,
          -0.1042,
          -0.12564,
          -0.12677,
          -0.09427,
          -0.08997000000000001,
          -0.09576,
          -0.12580999999999998,
          -0.10658,
          -0.11297,
          -0.06674,
          -0.09742,
          -0.13971,
          -0.10089,
          -0.12107000000000001,
          -0.10169,
          -0.09872,
          -0.0715,
          -0.07119,
          -0.10626,
          -0.11485,
          -0.09733,
          -0.10248,
          -0.10674000000000002,
          -0.15705999999999998,
          -0.10336,
          -0.12212999999999999,
          -0.11699999999999999,
          -0.11913,
          -0.08953,
          -0.10595999999999998,
          -0.10727,
          -0.10747999999999999,
          -0.14574,
          -0.10601,
          -0.09917000000000001,
          -0.09802999999999999,
          -0.0929,
          -0.08942,
          -0.11596,
          -0.09502000000000001,
          -0.08845,
          -0.10819000000000001,
          -0.12055,
          -0.10116,
          -0.13095,
          -0.09769,
          -0.10575999999999999,
          -0.10507999999999999,
          -0.09663,
          -0.07687999999999999,
          -0.10332000000000001,
          -0.09806000000000001,
          -0.09827999999999999,
          -0.10056,
          -0.08426,
          -0.09822,
          -0.09576,
          -0.11624000000000001,
          -0.09807,
          -0.09983,
          -0.08334,
          -0.09252,
          -0.08867,
          -0.09623999999999999,
          -0.09512999999999999,
          -0.08947000000000001,
          -0.09246,
          -0.09611,
          -0.09576,
          -0.09537999999999999,
          -0.08559,
          -0.08884,
          -0.0955,
          -0.1001,
          -0.0945,
          -0.0917,
          -0.09756000000000001,
          -0.09892000000000001,
          -0.08811000000000001,
          -0.09667,
          -0.10156,
          -0.11517999999999999,
          -0.10197,
          -0.11094000000000001,
          -0.11047,
          -0.09719,
          -0.12185,
          -0.1195,
          -0.11614000000000001,
          -0.09561,
          -0.11281,
          -0.11725,
          -0.11704,
          -0.1294,
          -0.10008,
          -0.11365,
          -0.1164,
          -0.12667,
          -0.11985,
          -0.10875,
          -0.11352000000000001,
          -0.10647999999999999,
          -0.1046,
          -0.10987999999999999,
          -0.0933,
          -0.1104,
          -0.11503,
          -0.10436,
          -0.0939,
          -0.0984,
          -0.09708,
          -0.09882,
          -0.08626,
          -0.11895,
          -0.10607,
          -0.09283,
          -0.10651,
          -0.09604,
          -0.12464000000000001,
          -0.14603,
          -0.09655,
          -0.10309000000000001,
          -0.09892000000000001,
          -0.11982000000000001,
          -0.12584,
          -0.10365,
          -0.1082,
          -0.10980999999999999,
          -0.11009000000000001,
          -0.1226,
          -0.10269,
          -0.07252,
          -0.09892000000000001
         ],
         "marker": {
          "color": "#636efa"
         },
         "mode": "markers",
         "name": "Finsbury",
         "showlegend": true,
         "subplot": "mapbox",
         "type": "scattermapbox"
        },
        {
         "customdata": [
          [
           "-39.06 %"
          ],
          [
           "4.47 %"
          ],
          [
           "-35.57 %"
          ],
          [
           "7.96 %"
          ],
          [
           "-23.39 %"
          ],
          [
           "18.40 %"
          ],
          [
           "-30.35 %"
          ],
          [
           "-37.32 %"
          ],
          [
           "14.92 %"
          ],
          [
           "-4.23 %"
          ],
          [
           "-54.73 %"
          ],
          [
           "-56.47 %"
          ],
          [
           "-12.94 %"
          ],
          [
           "-16.42 %"
          ],
          [
           "-39.06 %"
          ],
          [
           "-5.97 %"
          ],
          [
           "-39.06 %"
          ],
          [
           "-18.16 %"
          ],
          [
           "-4.23 %"
          ],
          [
           "-26.87 %"
          ],
          [
           "-47.76 %"
          ],
          [
           "-39.06 %"
          ],
          [
           "18.40 %"
          ],
          [
           "9.70 %"
          ],
          [
           "-42.54 %"
          ],
          [
           "-42.54 %"
          ],
          [
           "-12.94 %"
          ],
          [
           "-47.76 %"
          ],
          [
           "-30.35 %"
          ],
          [
           "-39.06 %"
          ],
          [
           "-39.06 %"
          ],
          [
           "0.99 %"
          ],
          [
           "-51.25 %"
          ],
          [
           "-58.21 %"
          ],
          [
           "-42.54 %"
          ],
          [
           "-66.92 %"
          ],
          [
           "-39.06 %"
          ],
          [
           "-30.35 %"
          ],
          [
           "11.44 %"
          ],
          [
           "-39.06 %"
          ],
          [
           "-5.97 %"
          ],
          [
           "-30.35 %"
          ],
          [
           "-39.06 %"
          ],
          [
           "-39.06 %"
          ],
          [
           "-35.57 %"
          ],
          [
           "-26.87 %"
          ],
          [
           "-4.23 %"
          ],
          [
           "4.47 %"
          ],
          [
           "-35.57 %"
          ],
          [
           "-63.43 %"
          ],
          [
           "-23.39 %"
          ],
          [
           "13.18 %"
          ],
          [
           "14.92 %"
          ],
          [
           "39.30 %"
          ],
          [
           "0.99 %"
          ],
          [
           "-26.87 %"
          ],
          [
           "4.47 %"
          ],
          [
           "-30.35 %"
          ],
          [
           "-39.06 %"
          ],
          [
           "-19.90 %"
          ],
          [
           "-39.06 %"
          ],
          [
           "39.30 %"
          ],
          [
           "-55.06 %"
          ],
          [
           "72.57 %"
          ],
          [
           "-58.65 %"
          ],
          [
           "-42.48 %"
          ],
          [
           "-10.12 %"
          ],
          [
           "-24.91 %"
          ],
          [
           "-40.24 %"
          ],
          [
           "-2.32 %"
          ],
          [
           "-25.30 %"
          ],
          [
           "-36.79 %"
          ],
          [
           "-29.90 %"
          ],
          [
           "-42.54 %"
          ],
          [
           "-25.30 %"
          ],
          [
           "72.38 %"
          ],
          [
           "-25.30 %"
          ],
          [
           "43.65 %"
          ],
          [
           "3.43 %"
          ],
          [
           "-19.56 %"
          ],
          [
           "-19.56 %"
          ],
          [
           "-8.06 %"
          ],
          [
           "-13.81 %"
          ],
          [
           "-24.15 %"
          ],
          [
           "2.28 %"
          ],
          [
           "43.65 %"
          ],
          [
           "-36.79 %"
          ],
          [
           "10.32 %"
          ],
          [
           "-48.96 %"
          ],
          [
           "-22.67 %"
          ],
          [
           "-25.76 %"
          ],
          [
           "-41.23 %"
          ],
          [
           "-56.70 %"
          ],
          [
           "-53.60 %"
          ],
          [
           "8.26 %"
          ],
          [
           "23.73 %"
          ],
          [
           "11.35 %"
          ],
          [
           "5.01 %"
          ],
          [
           "-23.91 %"
          ]
         ],
         "hovertemplate": "<b>%{hovertext}</b><br><br>Place=Streatham<br>latitude=%{lat}<br>longitude=%{lon}<br>Price difference=%{customdata[0]}<extra></extra>",
         "hovertext": [
          "Streatham",
          "Streatham",
          "Streatham",
          "Streatham",
          "Streatham",
          "Streatham",
          "Streatham",
          "Streatham",
          "Streatham",
          "Streatham",
          "Streatham",
          "Streatham",
          "Streatham",
          "Streatham",
          "Streatham",
          "Streatham",
          "Streatham",
          "Streatham",
          "Streatham",
          "Streatham",
          "Streatham",
          "Streatham",
          "Streatham",
          "Streatham",
          "Streatham",
          "Streatham",
          "Streatham",
          "Streatham",
          "Streatham",
          "Streatham",
          "Streatham",
          "Streatham",
          "Streatham",
          "Streatham",
          "Streatham",
          "Streatham",
          "Streatham",
          "Streatham",
          "Streatham",
          "Streatham",
          "Streatham",
          "Streatham",
          "Streatham",
          "Streatham",
          "Streatham",
          "Streatham",
          "Streatham",
          "Streatham",
          "Streatham",
          "Streatham",
          "Streatham",
          "Streatham",
          "Streatham",
          "Streatham",
          "Streatham",
          "Streatham",
          "Streatham",
          "Streatham",
          "Streatham",
          "Streatham",
          "Streatham",
          "Streatham",
          "Streatham",
          "Streatham",
          "Streatham",
          "Streatham",
          "Streatham",
          "Streatham",
          "Streatham",
          "Streatham",
          "Streatham",
          "Streatham",
          "Streatham",
          "Streatham",
          "Streatham",
          "Streatham",
          "Streatham",
          "Streatham",
          "Streatham",
          "Streatham",
          "Streatham",
          "Streatham",
          "Streatham",
          "Streatham",
          "Streatham",
          "Streatham",
          "Streatham",
          "Streatham",
          "Streatham",
          "Streatham",
          "Streatham",
          "Streatham",
          "Streatham",
          "Streatham",
          "Streatham",
          "Streatham",
          "Streatham",
          "Streatham",
          "Streatham"
         ],
         "lat": [
          51.44078,
          51.42114,
          51.44028,
          51.425329999999995,
          51.42479,
          51.42382,
          51.44531,
          51.42233,
          51.424890000000005,
          51.4447,
          51.42989,
          51.44313,
          51.423159999999996,
          51.43600000000001,
          51.425779999999996,
          51.439209999999996,
          51.424890000000005,
          51.43752,
          51.41845,
          51.4354,
          51.44685,
          51.42184,
          51.43598,
          51.439209999999996,
          51.45135,
          51.420790000000004,
          51.42972,
          51.43815,
          51.44192,
          51.42873,
          51.42203,
          51.43418,
          51.44142,
          51.44263,
          51.43829,
          51.42432,
          51.43371,
          51.42476,
          51.42749,
          51.4494,
          51.4206,
          51.42198,
          51.43466,
          51.43943,
          51.42385,
          51.426970000000004,
          51.43127,
          51.43418,
          51.43033,
          51.428470000000004,
          51.44027,
          51.43074,
          51.441390000000006,
          51.42321,
          51.42686,
          51.44361,
          51.443740000000005,
          51.44409,
          51.42219,
          51.42604,
          51.4415,
          51.42974,
          51.41114,
          51.410509999999995,
          51.41186,
          51.4052,
          51.40462,
          51.422540000000005,
          51.42283,
          51.436009999999996,
          51.42427,
          51.43715,
          51.44319,
          51.42972,
          51.43512,
          51.431979999999996,
          51.44782,
          51.4341,
          51.42522,
          51.443709999999996,
          51.41617,
          51.42792,
          51.43712,
          51.429629999999996,
          51.42512,
          51.43857,
          51.43568,
          51.41206,
          51.419290000000004,
          51.42072,
          51.42135,
          51.42794,
          51.420559999999995,
          51.419090000000004,
          51.429359999999996,
          51.41993,
          51.42368,
          51.41836,
          51.40343
         ],
         "legendgroup": "Streatham",
         "lon": [
          -0.12775999999999998,
          -0.13302,
          -0.12927,
          -0.10032999999999999,
          -0.12169,
          -0.12188,
          -0.12865,
          -0.13051,
          -0.12172000000000001,
          -0.12157000000000001,
          -0.1328,
          -0.12724000000000002,
          -0.11475999999999999,
          -0.12688,
          -0.1297,
          -0.1159,
          -0.1327,
          -0.11479,
          -0.1276,
          -0.12637,
          -0.12575,
          -0.13477,
          -0.11313,
          -0.1159,
          -0.12925999999999999,
          -0.13212000000000002,
          -0.13419,
          -0.127,
          -0.12994,
          -0.12049000000000001,
          -0.13233,
          -0.13001,
          -0.11671,
          -0.12055999999999999,
          -0.1218,
          -0.12177,
          -0.1309,
          -0.12685,
          -0.13369,
          -0.1249,
          -0.12958,
          -0.13013,
          -0.1286,
          -0.13175,
          -0.10898,
          -0.129,
          -0.12122000000000001,
          -0.13294,
          -0.12637,
          -0.13314,
          -0.122,
          -0.11757999999999999,
          -0.12104000000000001,
          -0.13091,
          -0.1213,
          -0.11517999999999999,
          -0.12738,
          -0.13333,
          -0.13273,
          -0.11934000000000002,
          -0.12377,
          -0.11895,
          -0.13813,
          -0.14517,
          -0.13859000000000002,
          -0.14231,
          -0.14221,
          -0.13921,
          -0.11377999999999999,
          -0.11744,
          -0.13324,
          -0.12164000000000001,
          -0.1275,
          -0.12716,
          -0.12947999999999998,
          -0.13176,
          -0.12521,
          -0.11807000000000001,
          -0.12989,
          -0.12869,
          -0.13662,
          -0.11016,
          -0.12012,
          -0.13137000000000001,
          -0.13049000000000002,
          -0.12772999999999998,
          -0.13373,
          -0.12454000000000001,
          -0.14649,
          -0.14025,
          -0.14005,
          -0.15112,
          -0.13896,
          -0.14184000000000002,
          -0.14095,
          -0.14306,
          -0.14059000000000002,
          -0.1179,
          -0.10163
         ],
         "marker": {
          "color": "#EF553B"
         },
         "mode": "markers",
         "name": "Streatham",
         "showlegend": true,
         "subplot": "mapbox",
         "type": "scattermapbox"
        },
        {
         "customdata": [
          [
           "-9.25 %"
          ],
          [
           "-34.24 %"
          ],
          [
           "-61.86 %"
          ],
          [
           "5.22 %"
          ],
          [
           "-42.13 %"
          ],
          [
           "-5.31 %"
          ],
          [
           "-34.24 %"
          ],
          [
           "-47.39 %"
          ],
          [
           "-27.66 %"
          ],
          [
           "-35.55 %"
          ],
          [
           "-53.97 %"
          ],
          [
           "-63.17 %"
          ],
          [
           "-20.35 %"
          ]
         ],
         "hovertemplate": "<b>%{hovertext}</b><br><br>Place=Rotherhithe<br>latitude=%{lat}<br>longitude=%{lon}<br>Price difference=%{customdata[0]}<extra></extra>",
         "hovertext": [
          "Rotherhithe",
          "Rotherhithe",
          "Rotherhithe",
          "Rotherhithe",
          "Rotherhithe",
          "Rotherhithe",
          "Rotherhithe",
          "Rotherhithe",
          "Rotherhithe",
          "Rotherhithe",
          "Rotherhithe",
          "Rotherhithe",
          "Rotherhithe"
         ],
         "lat": [
          51.49686,
          51.50424,
          51.503890000000006,
          51.50247,
          51.500679999999996,
          51.49774,
          51.50118,
          51.50054,
          51.50515,
          51.50158,
          51.50115,
          51.4965,
          51.50655
         ],
         "legendgroup": "Rotherhithe",
         "lon": [
          -0.04845,
          -0.04438,
          -0.03327,
          -0.037110000000000004,
          -0.050539999999999995,
          -0.055,
          -0.050960000000000005,
          -0.04357,
          -0.04578,
          -0.04554,
          -0.03839,
          -0.041319999999999996,
          -0.03784
         ],
         "marker": {
          "color": "#00cc96"
         },
         "mode": "markers",
         "name": "Rotherhithe",
         "showlegend": true,
         "subplot": "mapbox",
         "type": "scattermapbox"
        },
        {
         "customdata": [
          [
           "-60.54 %"
          ],
          [
           "-34.24 %"
          ],
          [
           "-0.04 %"
          ],
          [
           "-28.98 %"
          ],
          [
           "-53.97 %"
          ],
          [
           "-48.71 %"
          ],
          [
           "-23.72 %"
          ],
          [
           "-60.54 %"
          ],
          [
           "-39.50 %"
          ],
          [
           "-40.82 %"
          ],
          [
           "-57.91 %"
          ],
          [
           "-13.20 %"
          ],
          [
           "-19.77 %"
          ],
          [
           "-21.09 %"
          ],
          [
           "-47.39 %"
          ],
          [
           "-67.12 %"
          ],
          [
           "-5.48 %"
          ],
          [
           "-20.35 %"
          ],
          [
           "-43.71 %"
          ],
          [
           "-25.66 %"
          ],
          [
           "-4.42 %"
          ],
          [
           "-41.59 %"
          ],
          [
           "-30.97 %"
          ],
          [
           "-9.73 %"
          ],
          [
           "-9.73 %"
          ],
          [
           "50.65 %"
          ],
          [
           "28.05 %"
          ],
          [
           "-26.18 %"
          ],
          [
           "-26.18 %"
          ],
          [
           "-23.17 %"
          ],
          [
           "34.08 %"
          ],
          [
           "-15.64 %"
          ],
          [
           "36.29 %"
          ],
          [
           "-22.12 %"
          ],
          [
           "-31.85 %"
          ],
          [
           "36.29 %"
          ],
          [
           "-31.85 %"
          ]
         ],
         "hovertemplate": "<b>%{hovertext}</b><br><br>Place=Nunhead<br>latitude=%{lat}<br>longitude=%{lon}<br>Price difference=%{customdata[0]}<extra></extra>",
         "hovertext": [
          "Nunhead",
          "Nunhead",
          "Nunhead",
          "Nunhead",
          "Nunhead",
          "Nunhead",
          "Nunhead",
          "Nunhead",
          "Nunhead",
          "Nunhead",
          "Nunhead",
          "Nunhead",
          "Nunhead",
          "Nunhead",
          "Nunhead",
          "Nunhead",
          "Nunhead",
          "Nunhead",
          "Nunhead",
          "Nunhead",
          "Nunhead",
          "Nunhead",
          "Nunhead",
          "Nunhead",
          "Nunhead",
          "Nunhead",
          "Nunhead",
          "Nunhead",
          "Nunhead",
          "Nunhead",
          "Nunhead",
          "Nunhead",
          "Nunhead",
          "Nunhead",
          "Nunhead",
          "Nunhead",
          "Nunhead"
         ],
         "lat": [
          51.470620000000004,
          51.45617,
          51.46241,
          51.461690000000004,
          51.460609999999996,
          51.46897,
          51.46676,
          51.454879999999996,
          51.47167,
          51.46699,
          51.45967,
          51.46951,
          51.46464,
          51.46535,
          51.46528,
          51.46248,
          51.455909999999996,
          51.4597,
          51.46846,
          51.46103,
          51.46637,
          51.452459999999995,
          51.46468,
          51.46992,
          51.46566,
          51.46485,
          51.47552,
          51.4684,
          51.46855,
          51.47076,
          51.46598,
          51.47007,
          51.4788,
          51.46805,
          51.46994,
          51.471109999999996,
          51.468920000000004
         ],
         "legendgroup": "Nunhead",
         "lon": [
          -0.06017,
          -0.052239999999999995,
          -0.05875,
          -0.058570000000000004,
          -0.051660000000000005,
          -0.05694,
          -0.05424,
          -0.05127,
          -0.053689999999999995,
          -0.05223,
          -0.05063,
          -0.05413,
          -0.06112000000000001,
          -0.06569,
          -0.06172999999999999,
          -0.05674,
          -0.051829999999999994,
          -0.0523,
          -0.05517999999999999,
          -0.07041,
          -0.0689,
          -0.05881,
          -0.05802,
          -0.054520000000000006,
          -0.06757,
          -0.03645,
          -0.05027,
          -0.04883,
          -0.04844,
          -0.04306,
          -0.04439,
          -0.04027,
          -0.04376,
          -0.04865,
          -0.05171,
          -0.04865,
          -0.03913
         ],
         "marker": {
          "color": "#ab63fa"
         },
         "mode": "markers",
         "name": "Nunhead",
         "showlegend": true,
         "subplot": "mapbox",
         "type": "scattermapbox"
        },
        {
         "customdata": [
          [
           "-60.54 %"
          ],
          [
           "18.37 %"
          ],
          [
           "-67.12 %"
          ],
          [
           "-34.24 %"
          ],
          [
           "-77.64 %"
          ],
          [
           "-47.39 %"
          ],
          [
           "-39.50 %"
          ],
          [
           "-55.28 %"
          ],
          [
           "-36.87 %"
          ],
          [
           "-21.09 %"
          ],
          [
           "-59.23 %"
          ],
          [
           "-44.76 %"
          ],
          [
           "-43.45 %"
          ],
          [
           "-65.80 %"
          ],
          [
           "-36.87 %"
          ],
          [
           "-35.55 %"
          ],
          [
           "-67.12 %"
          ],
          [
           "-29.90 %"
          ],
          [
           "-41.59 %"
          ],
          [
           "-36.28 %"
          ],
          [
           "-30.97 %"
          ],
          [
           "-30.97 %"
          ],
          [
           "-30.97 %"
          ],
          [
           "-9.73 %"
          ],
          [
           "0.89 %"
          ],
          [
           "-4.42 %"
          ],
          [
           "0.89 %"
          ],
          [
           "5.14 %"
          ],
          [
           "-9.73 %"
          ],
          [
           "-35.22 %"
          ],
          [
           "-61.06 %"
          ],
          [
           "118.07 %"
          ]
         ],
         "hovertemplate": "<b>%{hovertext}</b><br><br>Place=Bussey<br>latitude=%{lat}<br>longitude=%{lon}<br>Price difference=%{customdata[0]}<extra></extra>",
         "hovertext": [
          "Bussey",
          "Bussey",
          "Bussey",
          "Bussey",
          "Bussey",
          "Bussey",
          "Bussey",
          "Bussey",
          "Bussey",
          "Bussey",
          "Bussey",
          "Bussey",
          "Bussey",
          "Bussey",
          "Bussey",
          "Bussey",
          "Bussey",
          "Bussey",
          "Bussey",
          "Bussey",
          "Bussey",
          "Bussey",
          "Bussey",
          "Bussey",
          "Bussey",
          "Bussey",
          "Bussey",
          "Bussey",
          "Bussey",
          "Bussey",
          "Bussey",
          "Bussey"
         ],
         "lat": [
          51.45626,
          51.47078,
          51.474059999999994,
          51.47793,
          51.471270000000004,
          51.45892,
          51.47167,
          51.47007,
          51.47034,
          51.47306,
          51.47548,
          51.47432,
          51.47473,
          51.475159999999995,
          51.46778,
          51.4716,
          51.46248,
          51.46423,
          51.46602,
          51.46179,
          51.47605,
          51.474309999999996,
          51.482240000000004,
          51.48747,
          51.46671,
          51.4728,
          51.47837,
          51.481809999999996,
          51.46566,
          51.476240000000004,
          51.47371,
          51.4684
         ],
         "legendgroup": "Bussey",
         "lon": [
          -0.051739999999999994,
          -0.07082999999999999,
          -0.05437,
          -0.06242,
          -0.06026,
          -0.08064,
          -0.053689999999999995,
          -0.06667000000000001,
          -0.052829999999999995,
          -0.060160000000000005,
          -0.06736,
          -0.06284,
          -0.062270000000000006,
          -0.06999,
          -0.07589,
          -0.06361,
          -0.05674,
          -0.07255,
          -0.07474,
          -0.0716,
          -0.06874,
          -0.06746,
          -0.08014,
          -0.07486,
          -0.07937000000000001,
          -0.07039,
          -0.08207,
          -0.06523,
          -0.06757,
          -0.03315,
          -0.044860000000000004,
          -0.02465
         ],
         "marker": {
          "color": "#FFA15A"
         },
         "mode": "markers",
         "name": "Bussey",
         "showlegend": true,
         "subplot": "mapbox",
         "type": "scattermapbox"
        },
        {
         "customdata": [
          [
           "-3.57 %"
          ],
          [
           "46.37 %"
          ],
          [
           "-13.90 %"
          ],
          [
           "-27.67 %"
          ],
          [
           "44.65 %"
          ],
          [
           "72.20 %"
          ],
          [
           "-65.56 %"
          ],
          [
           "-48.34 %"
          ],
          [
           "-56.95 %"
          ],
          [
           "-22.51 %"
          ],
          [
           "-38.01 %"
          ],
          [
           "-24.23 %"
          ],
          [
           "-15.62 %"
          ],
          [
           "20.54 %"
          ],
          [
           "-17.34 %"
          ],
          [
           "-20.79 %"
          ],
          [
           "-44.89 %"
          ],
          [
           "-51.78 %"
          ],
          [
           "-24.23 %"
          ],
          [
           "-5.29 %"
          ],
          [
           "-65.56 %"
          ],
          [
           "-8.73 %"
          ],
          [
           "-48.34 %"
          ],
          [
           "-10.45 %"
          ],
          [
           "11.93 %"
          ],
          [
           "-12.18 %"
          ],
          [
           "-13.90 %"
          ],
          [
           "3.32 %"
          ],
          [
           "3.32 %"
          ],
          [
           "-63.84 %"
          ],
          [
           "-7.01 %"
          ],
          [
           "11.93 %"
          ],
          [
           "-56.95 %"
          ],
          [
           "-29.68 %"
          ],
          [
           "-1.55 %"
          ],
          [
           "-11.86 %"
          ],
          [
           "-40.93 %"
          ],
          [
           "-10.93 %"
          ],
          [
           "17.20 %"
          ],
          [
           "-59.68 %"
          ],
          [
           "-42.80 %"
          ],
          [
           "-42.80 %"
          ],
          [
           "-23.11 %"
          ],
          [
           "-40.93 %"
          ],
          [
           "-6.24 %"
          ],
          [
           "-16.55 %"
          ],
          [
           "-24.99 %"
          ],
          [
           "-7.18 %"
          ],
          [
           "-39.99 %"
          ],
          [
           "-42.80 %"
          ],
          [
           "-48.43 %"
          ],
          [
           "-34.37 %"
          ],
          [
           "-10.93 %"
          ],
          [
           "-54.99 %"
          ],
          [
           "-7.18 %"
          ]
         ],
         "hovertemplate": "<b>%{hovertext}</b><br><br>Place=Limehouse<br>latitude=%{lat}<br>longitude=%{lon}<br>Price difference=%{customdata[0]}<extra></extra>",
         "hovertext": [
          "Limehouse",
          "Limehouse",
          "Limehouse",
          "Limehouse",
          "Limehouse",
          "Limehouse",
          "Limehouse",
          "Limehouse",
          "Limehouse",
          "Limehouse",
          "Limehouse",
          "Limehouse",
          "Limehouse",
          "Limehouse",
          "Limehouse",
          "Limehouse",
          "Limehouse",
          "Limehouse",
          "Limehouse",
          "Limehouse",
          "Limehouse",
          "Limehouse",
          "Limehouse",
          "Limehouse",
          "Limehouse",
          "Limehouse",
          "Limehouse",
          "Limehouse",
          "Limehouse",
          "Limehouse",
          "Limehouse",
          "Limehouse",
          "Limehouse",
          "Limehouse",
          "Limehouse",
          "Limehouse",
          "Limehouse",
          "Limehouse",
          "Limehouse",
          "Limehouse",
          "Limehouse",
          "Limehouse",
          "Limehouse",
          "Limehouse",
          "Limehouse",
          "Limehouse",
          "Limehouse",
          "Limehouse",
          "Limehouse",
          "Limehouse",
          "Limehouse",
          "Limehouse",
          "Limehouse",
          "Limehouse",
          "Limehouse"
         ],
         "lat": [
          51.51303,
          51.51984,
          51.51538,
          51.51853,
          51.51549,
          51.50996,
          51.52678,
          51.51685,
          51.51997,
          51.51789,
          51.51016,
          51.52279,
          51.52085,
          51.51096,
          51.5162,
          51.5162,
          51.51597,
          51.51194,
          51.51102,
          51.51104,
          51.5216,
          51.519870000000004,
          51.51063,
          51.5162,
          51.5129,
          51.51621,
          51.51826,
          51.51344,
          51.51175,
          51.51675,
          51.522420000000004,
          51.51005,
          51.50971,
          51.519890000000004,
          51.51727,
          51.51047,
          51.51035,
          51.50762,
          51.51141,
          51.5132,
          51.52497,
          51.51945,
          51.512240000000006,
          51.52772,
          51.508,
          51.51192,
          51.519859999999994,
          51.51511,
          51.520109999999995,
          51.528490000000005,
          51.5199,
          51.51158,
          51.52897,
          51.520270000000004,
          51.51047
         ],
         "legendgroup": "Limehouse",
         "lon": [
          -0.03737,
          -0.02253,
          -0.010879999999999999,
          -0.038,
          -0.02219,
          -0.03567,
          -0.04576,
          -0.015359999999999999,
          -0.0536,
          -0.03703,
          -0.0407,
          -0.01755,
          -0.02695,
          -0.04023,
          -0.03784,
          -0.03784,
          -0.03848,
          -0.03318,
          -0.04363,
          -0.039060000000000004,
          -0.02024,
          -0.026000000000000002,
          -0.04623,
          -0.03784,
          -0.02999,
          -0.02053,
          -0.016669999999999997,
          -0.030680000000000002,
          -0.028210000000000002,
          -0.00727,
          -0.01926,
          -0.04726,
          -0.048010000000000004,
          -0.039689999999999996,
          -0.02076,
          -0.03952,
          -0.044610000000000004,
          -0.02563,
          -0.029310000000000003,
          -0.03174,
          -0.030060000000000003,
          -0.027180000000000003,
          -0.02945,
          -0.04172,
          -0.05557,
          -0.0554,
          -0.03748,
          -0.02174,
          -0.02223,
          -0.03408,
          -0.03778,
          -0.04842,
          -0.041010000000000005,
          -0.050089999999999996,
          -0.03767
         ],
         "marker": {
          "color": "#19d3f3"
         },
         "mode": "markers",
         "name": "Limehouse",
         "showlegend": true,
         "subplot": "mapbox",
         "type": "scattermapbox"
        },
        {
         "customdata": [
          [
           "-13.26 %"
          ],
          [
           "22.28 %"
          ],
          [
           "-35.80 %"
          ],
          [
           "-31.21 %"
          ],
          [
           "-61.60 %"
          ],
          [
           "-23.21 %"
          ],
          [
           "-52.07 %"
          ],
          [
           "-64.05 %"
          ],
          [
           "-36.91 %"
          ],
          [
           "-30.67 %"
          ],
          [
           "-58.40 %"
          ],
          [
           "-41.07 %"
          ]
         ],
         "hovertemplate": "<b>%{hovertext}</b><br><br>Place=Zebra<br>latitude=%{lat}<br>longitude=%{lon}<br>Price difference=%{customdata[0]}<extra></extra>",
         "hovertext": [
          "Zebra",
          "Zebra",
          "Zebra",
          "Zebra",
          "Zebra",
          "Zebra",
          "Zebra",
          "Zebra",
          "Zebra",
          "Zebra",
          "Zebra",
          "Zebra"
         ],
         "lat": [
          51.533409999999996,
          51.54635,
          51.53714,
          51.53778,
          51.52898,
          51.5241,
          51.54218,
          51.536840000000005,
          51.530429999999996,
          51.53614,
          51.53134,
          51.52433
         ],
         "legendgroup": "Zebra",
         "lon": [
          -0.22202,
          -0.18286,
          -0.18925,
          -0.18532,
          -0.19052,
          -0.17196,
          -0.19475,
          -0.18728,
          -0.18389,
          -0.18445,
          -0.17639000000000002,
          -0.17146
         ],
         "marker": {
          "color": "#FF6692"
         },
         "mode": "markers",
         "name": "Zebra",
         "showlegend": true,
         "subplot": "mapbox",
         "type": "scattermapbox"
        },
        {
         "customdata": [
          [
           "63.07 %"
          ],
          [
           "0.35 %"
          ],
          [
           "17.08 %"
          ],
          [
           "-33.10 %"
          ],
          [
           "38.23 %"
          ],
          [
           "-42.95 %"
          ],
          [
           "-67.09 %"
          ],
          [
           "-67.09 %"
          ],
          [
           "-34.18 %"
          ],
          [
           "-25.74 %"
          ],
          [
           "-63.48 %"
          ],
          [
           "-63.48 %"
          ],
          [
           "-63.26 %"
          ],
          [
           "-31.37 %"
          ],
          [
           "-58.40 %"
          ],
          [
           "65.00 %"
          ],
          [
           "-65.34 %"
          ],
          [
           "-32.75 %"
          ],
          [
           "-51.47 %"
          ]
         ],
         "hovertemplate": "<b>%{hovertext}</b><br><br>Place=Ledbury<br>latitude=%{lat}<br>longitude=%{lon}<br>Price difference=%{customdata[0]}<extra></extra>",
         "hovertext": [
          "Ledbury",
          "Ledbury",
          "Ledbury",
          "Ledbury",
          "Ledbury",
          "Ledbury",
          "Ledbury",
          "Ledbury",
          "Ledbury",
          "Ledbury",
          "Ledbury",
          "Ledbury",
          "Ledbury",
          "Ledbury",
          "Ledbury",
          "Ledbury",
          "Ledbury",
          "Ledbury",
          "Ledbury"
         ],
         "lat": [
          51.515640000000005,
          51.5151,
          51.51744,
          51.51659,
          51.51709,
          51.51858,
          51.52603,
          51.5246,
          51.524190000000004,
          51.52105,
          51.52438,
          51.52418,
          51.516290000000005,
          51.5181,
          51.51573,
          51.517540000000004,
          51.51617,
          51.5257,
          51.518159999999995
         ],
         "legendgroup": "Ledbury",
         "lon": [
          -0.20276,
          -0.20035,
          -0.20055,
          -0.20001,
          -0.19528,
          -0.19917,
          -0.20323,
          -0.20449,
          -0.20315999999999998,
          -0.20988,
          -0.20505,
          -0.20495,
          -0.19227,
          -0.19258,
          -0.19841,
          -0.19747,
          -0.19251,
          -0.2009,
          -0.19983
         ],
         "marker": {
          "color": "#B6E880"
         },
         "mode": "markers",
         "name": "Ledbury",
         "showlegend": true,
         "subplot": "mapbox",
         "type": "scattermapbox"
        }
       ],
       "layout": {
        "height": 700,
        "legend": {
         "title": {
          "text": "Place"
         },
         "tracegroupgap": 0
        },
        "mapbox": {
         "center": {
          "lat": 51.507285305851006,
          "lon": -0.12225032358156057
         },
         "domain": {
          "x": [
           0,
           1
          ],
          "y": [
           0,
           1
          ]
         },
         "style": "carto-positron",
         "zoom": 10
        },
        "margin": {
         "t": 60
        },
        "template": {
         "data": {
          "bar": [
           {
            "error_x": {
             "color": "#2a3f5f"
            },
            "error_y": {
             "color": "#2a3f5f"
            },
            "marker": {
             "line": {
              "color": "#E5ECF6",
              "width": 0.5
             }
            },
            "type": "bar"
           }
          ],
          "barpolar": [
           {
            "marker": {
             "line": {
              "color": "#E5ECF6",
              "width": 0.5
             }
            },
            "type": "barpolar"
           }
          ],
          "carpet": [
           {
            "aaxis": {
             "endlinecolor": "#2a3f5f",
             "gridcolor": "white",
             "linecolor": "white",
             "minorgridcolor": "white",
             "startlinecolor": "#2a3f5f"
            },
            "baxis": {
             "endlinecolor": "#2a3f5f",
             "gridcolor": "white",
             "linecolor": "white",
             "minorgridcolor": "white",
             "startlinecolor": "#2a3f5f"
            },
            "type": "carpet"
           }
          ],
          "choropleth": [
           {
            "colorbar": {
             "outlinewidth": 0,
             "ticks": ""
            },
            "type": "choropleth"
           }
          ],
          "contour": [
           {
            "colorbar": {
             "outlinewidth": 0,
             "ticks": ""
            },
            "colorscale": [
             [
              0,
              "#0d0887"
             ],
             [
              0.1111111111111111,
              "#46039f"
             ],
             [
              0.2222222222222222,
              "#7201a8"
             ],
             [
              0.3333333333333333,
              "#9c179e"
             ],
             [
              0.4444444444444444,
              "#bd3786"
             ],
             [
              0.5555555555555556,
              "#d8576b"
             ],
             [
              0.6666666666666666,
              "#ed7953"
             ],
             [
              0.7777777777777778,
              "#fb9f3a"
             ],
             [
              0.8888888888888888,
              "#fdca26"
             ],
             [
              1,
              "#f0f921"
             ]
            ],
            "type": "contour"
           }
          ],
          "contourcarpet": [
           {
            "colorbar": {
             "outlinewidth": 0,
             "ticks": ""
            },
            "type": "contourcarpet"
           }
          ],
          "heatmap": [
           {
            "colorbar": {
             "outlinewidth": 0,
             "ticks": ""
            },
            "colorscale": [
             [
              0,
              "#0d0887"
             ],
             [
              0.1111111111111111,
              "#46039f"
             ],
             [
              0.2222222222222222,
              "#7201a8"
             ],
             [
              0.3333333333333333,
              "#9c179e"
             ],
             [
              0.4444444444444444,
              "#bd3786"
             ],
             [
              0.5555555555555556,
              "#d8576b"
             ],
             [
              0.6666666666666666,
              "#ed7953"
             ],
             [
              0.7777777777777778,
              "#fb9f3a"
             ],
             [
              0.8888888888888888,
              "#fdca26"
             ],
             [
              1,
              "#f0f921"
             ]
            ],
            "type": "heatmap"
           }
          ],
          "heatmapgl": [
           {
            "colorbar": {
             "outlinewidth": 0,
             "ticks": ""
            },
            "colorscale": [
             [
              0,
              "#0d0887"
             ],
             [
              0.1111111111111111,
              "#46039f"
             ],
             [
              0.2222222222222222,
              "#7201a8"
             ],
             [
              0.3333333333333333,
              "#9c179e"
             ],
             [
              0.4444444444444444,
              "#bd3786"
             ],
             [
              0.5555555555555556,
              "#d8576b"
             ],
             [
              0.6666666666666666,
              "#ed7953"
             ],
             [
              0.7777777777777778,
              "#fb9f3a"
             ],
             [
              0.8888888888888888,
              "#fdca26"
             ],
             [
              1,
              "#f0f921"
             ]
            ],
            "type": "heatmapgl"
           }
          ],
          "histogram": [
           {
            "marker": {
             "colorbar": {
              "outlinewidth": 0,
              "ticks": ""
             }
            },
            "type": "histogram"
           }
          ],
          "histogram2d": [
           {
            "colorbar": {
             "outlinewidth": 0,
             "ticks": ""
            },
            "colorscale": [
             [
              0,
              "#0d0887"
             ],
             [
              0.1111111111111111,
              "#46039f"
             ],
             [
              0.2222222222222222,
              "#7201a8"
             ],
             [
              0.3333333333333333,
              "#9c179e"
             ],
             [
              0.4444444444444444,
              "#bd3786"
             ],
             [
              0.5555555555555556,
              "#d8576b"
             ],
             [
              0.6666666666666666,
              "#ed7953"
             ],
             [
              0.7777777777777778,
              "#fb9f3a"
             ],
             [
              0.8888888888888888,
              "#fdca26"
             ],
             [
              1,
              "#f0f921"
             ]
            ],
            "type": "histogram2d"
           }
          ],
          "histogram2dcontour": [
           {
            "colorbar": {
             "outlinewidth": 0,
             "ticks": ""
            },
            "colorscale": [
             [
              0,
              "#0d0887"
             ],
             [
              0.1111111111111111,
              "#46039f"
             ],
             [
              0.2222222222222222,
              "#7201a8"
             ],
             [
              0.3333333333333333,
              "#9c179e"
             ],
             [
              0.4444444444444444,
              "#bd3786"
             ],
             [
              0.5555555555555556,
              "#d8576b"
             ],
             [
              0.6666666666666666,
              "#ed7953"
             ],
             [
              0.7777777777777778,
              "#fb9f3a"
             ],
             [
              0.8888888888888888,
              "#fdca26"
             ],
             [
              1,
              "#f0f921"
             ]
            ],
            "type": "histogram2dcontour"
           }
          ],
          "mesh3d": [
           {
            "colorbar": {
             "outlinewidth": 0,
             "ticks": ""
            },
            "type": "mesh3d"
           }
          ],
          "parcoords": [
           {
            "line": {
             "colorbar": {
              "outlinewidth": 0,
              "ticks": ""
             }
            },
            "type": "parcoords"
           }
          ],
          "pie": [
           {
            "automargin": true,
            "type": "pie"
           }
          ],
          "scatter": [
           {
            "marker": {
             "colorbar": {
              "outlinewidth": 0,
              "ticks": ""
             }
            },
            "type": "scatter"
           }
          ],
          "scatter3d": [
           {
            "line": {
             "colorbar": {
              "outlinewidth": 0,
              "ticks": ""
             }
            },
            "marker": {
             "colorbar": {
              "outlinewidth": 0,
              "ticks": ""
             }
            },
            "type": "scatter3d"
           }
          ],
          "scattercarpet": [
           {
            "marker": {
             "colorbar": {
              "outlinewidth": 0,
              "ticks": ""
             }
            },
            "type": "scattercarpet"
           }
          ],
          "scattergeo": [
           {
            "marker": {
             "colorbar": {
              "outlinewidth": 0,
              "ticks": ""
             }
            },
            "type": "scattergeo"
           }
          ],
          "scattergl": [
           {
            "marker": {
             "colorbar": {
              "outlinewidth": 0,
              "ticks": ""
             }
            },
            "type": "scattergl"
           }
          ],
          "scattermapbox": [
           {
            "marker": {
             "colorbar": {
              "outlinewidth": 0,
              "ticks": ""
             }
            },
            "type": "scattermapbox"
           }
          ],
          "scatterpolar": [
           {
            "marker": {
             "colorbar": {
              "outlinewidth": 0,
              "ticks": ""
             }
            },
            "type": "scatterpolar"
           }
          ],
          "scatterpolargl": [
           {
            "marker": {
             "colorbar": {
              "outlinewidth": 0,
              "ticks": ""
             }
            },
            "type": "scatterpolargl"
           }
          ],
          "scatterternary": [
           {
            "marker": {
             "colorbar": {
              "outlinewidth": 0,
              "ticks": ""
             }
            },
            "type": "scatterternary"
           }
          ],
          "surface": [
           {
            "colorbar": {
             "outlinewidth": 0,
             "ticks": ""
            },
            "colorscale": [
             [
              0,
              "#0d0887"
             ],
             [
              0.1111111111111111,
              "#46039f"
             ],
             [
              0.2222222222222222,
              "#7201a8"
             ],
             [
              0.3333333333333333,
              "#9c179e"
             ],
             [
              0.4444444444444444,
              "#bd3786"
             ],
             [
              0.5555555555555556,
              "#d8576b"
             ],
             [
              0.6666666666666666,
              "#ed7953"
             ],
             [
              0.7777777777777778,
              "#fb9f3a"
             ],
             [
              0.8888888888888888,
              "#fdca26"
             ],
             [
              1,
              "#f0f921"
             ]
            ],
            "type": "surface"
           }
          ],
          "table": [
           {
            "cells": {
             "fill": {
              "color": "#EBF0F8"
             },
             "line": {
              "color": "white"
             }
            },
            "header": {
             "fill": {
              "color": "#C8D4E3"
             },
             "line": {
              "color": "white"
             }
            },
            "type": "table"
           }
          ]
         },
         "layout": {
          "annotationdefaults": {
           "arrowcolor": "#2a3f5f",
           "arrowhead": 0,
           "arrowwidth": 1
          },
          "coloraxis": {
           "colorbar": {
            "outlinewidth": 0,
            "ticks": ""
           }
          },
          "colorscale": {
           "diverging": [
            [
             0,
             "#8e0152"
            ],
            [
             0.1,
             "#c51b7d"
            ],
            [
             0.2,
             "#de77ae"
            ],
            [
             0.3,
             "#f1b6da"
            ],
            [
             0.4,
             "#fde0ef"
            ],
            [
             0.5,
             "#f7f7f7"
            ],
            [
             0.6,
             "#e6f5d0"
            ],
            [
             0.7,
             "#b8e186"
            ],
            [
             0.8,
             "#7fbc41"
            ],
            [
             0.9,
             "#4d9221"
            ],
            [
             1,
             "#276419"
            ]
           ],
           "sequential": [
            [
             0,
             "#0d0887"
            ],
            [
             0.1111111111111111,
             "#46039f"
            ],
            [
             0.2222222222222222,
             "#7201a8"
            ],
            [
             0.3333333333333333,
             "#9c179e"
            ],
            [
             0.4444444444444444,
             "#bd3786"
            ],
            [
             0.5555555555555556,
             "#d8576b"
            ],
            [
             0.6666666666666666,
             "#ed7953"
            ],
            [
             0.7777777777777778,
             "#fb9f3a"
            ],
            [
             0.8888888888888888,
             "#fdca26"
            ],
            [
             1,
             "#f0f921"
            ]
           ],
           "sequentialminus": [
            [
             0,
             "#0d0887"
            ],
            [
             0.1111111111111111,
             "#46039f"
            ],
            [
             0.2222222222222222,
             "#7201a8"
            ],
            [
             0.3333333333333333,
             "#9c179e"
            ],
            [
             0.4444444444444444,
             "#bd3786"
            ],
            [
             0.5555555555555556,
             "#d8576b"
            ],
            [
             0.6666666666666666,
             "#ed7953"
            ],
            [
             0.7777777777777778,
             "#fb9f3a"
            ],
            [
             0.8888888888888888,
             "#fdca26"
            ],
            [
             1,
             "#f0f921"
            ]
           ]
          },
          "colorway": [
           "#636efa",
           "#EF553B",
           "#00cc96",
           "#ab63fa",
           "#FFA15A",
           "#19d3f3",
           "#FF6692",
           "#B6E880",
           "#FF97FF",
           "#FECB52"
          ],
          "font": {
           "color": "#2a3f5f"
          },
          "geo": {
           "bgcolor": "white",
           "lakecolor": "white",
           "landcolor": "#E5ECF6",
           "showlakes": true,
           "showland": true,
           "subunitcolor": "white"
          },
          "hoverlabel": {
           "align": "left"
          },
          "hovermode": "closest",
          "mapbox": {
           "style": "light"
          },
          "paper_bgcolor": "white",
          "plot_bgcolor": "#E5ECF6",
          "polar": {
           "angularaxis": {
            "gridcolor": "white",
            "linecolor": "white",
            "ticks": ""
           },
           "bgcolor": "#E5ECF6",
           "radialaxis": {
            "gridcolor": "white",
            "linecolor": "white",
            "ticks": ""
           }
          },
          "scene": {
           "xaxis": {
            "backgroundcolor": "#E5ECF6",
            "gridcolor": "white",
            "gridwidth": 2,
            "linecolor": "white",
            "showbackground": true,
            "ticks": "",
            "zerolinecolor": "white"
           },
           "yaxis": {
            "backgroundcolor": "#E5ECF6",
            "gridcolor": "white",
            "gridwidth": 2,
            "linecolor": "white",
            "showbackground": true,
            "ticks": "",
            "zerolinecolor": "white"
           },
           "zaxis": {
            "backgroundcolor": "#E5ECF6",
            "gridcolor": "white",
            "gridwidth": 2,
            "linecolor": "white",
            "showbackground": true,
            "ticks": "",
            "zerolinecolor": "white"
           }
          },
          "shapedefaults": {
           "line": {
            "color": "#2a3f5f"
           }
          },
          "ternary": {
           "aaxis": {
            "gridcolor": "white",
            "linecolor": "white",
            "ticks": ""
           },
           "baxis": {
            "gridcolor": "white",
            "linecolor": "white",
            "ticks": ""
           },
           "bgcolor": "#E5ECF6",
           "caxis": {
            "gridcolor": "white",
            "linecolor": "white",
            "ticks": ""
           }
          },
          "title": {
           "x": 0.05
          },
          "xaxis": {
           "automargin": true,
           "gridcolor": "white",
           "linecolor": "white",
           "ticks": "",
           "title": {
            "standoff": 15
           },
           "zerolinecolor": "white",
           "zerolinewidth": 2
          },
          "yaxis": {
           "automargin": true,
           "gridcolor": "white",
           "linecolor": "white",
           "ticks": "",
           "title": {
            "standoff": 15
           },
           "zerolinecolor": "white",
           "zerolinewidth": 2
          }
         }
        },
        "width": 900
       }
      },
      "text/html": [
       "<div>                            <div id=\"b9c0872f-83fe-47a3-85f7-1e6be3ae91f3\" class=\"plotly-graph-div\" style=\"height:700px; width:900px;\"></div>            <script type=\"text/javascript\">                require([\"plotly\"], function(Plotly) {                    window.PLOTLYENV=window.PLOTLYENV || {};                                    if (document.getElementById(\"b9c0872f-83fe-47a3-85f7-1e6be3ae91f3\")) {                    Plotly.newPlot(                        \"b9c0872f-83fe-47a3-85f7-1e6be3ae91f3\",                        [{\"customdata\": [[\"-44.76 %\"], [\"-10.57 %\"], [\"-34.24 %\"], [\"-15.83 %\"], [\"5.22 %\"], [\"-60.54 %\"], [\"-34.24 %\"], [\"-30.29 %\"], [\"-28.98 %\"], [\"-34.24 %\"], [\"-39.50 %\"], [\"-67.12 %\"], [\"-7.94 %\"], [\"-44.76 %\"], [\"-0.04 %\"], [\"-63.17 %\"], [\"-28.98 %\"], [\"44.67 %\"], [\"-64.49 %\"], [\"47.30 %\"], [\"28.89 %\"], [\"-55.28 %\"], [\"-53.97 %\"], [\"-47.39 %\"], [\"-35.55 %\"], [\"-50.02 %\"], [\"-60.54 %\"], [\"-36.87 %\"], [\"-53.97 %\"], [\"-34.24 %\"], [\"18.37 %\"], [\"-57.91 %\"], [\"-76.33 %\"], [\"-48.71 %\"], [\"-67.12 %\"], [\"-61.86 %\"], [\"-50.02 %\"], [\"-47.39 %\"], [\"-34.24 %\"], [\"-47.39 %\"], [\"-23.72 %\"], [\"-77.64 %\"], [\"-60.54 %\"], [\"-7.94 %\"], [\"-47.39 %\"], [\"-15.83 %\"], [\"2.59 %\"], [\"-65.80 %\"], [\"-32.92 %\"], [\"-47.39 %\"], [\"-39.50 %\"], [\"-55.28 %\"], [\"-36.87 %\"], [\"-53.97 %\"], [\"-21.09 %\"], [\"-59.23 %\"], [\"-35.55 %\"], [\"-63.17 %\"], [\"-53.97 %\"], [\"-34.24 %\"], [\"-44.76 %\"], [\"-53.97 %\"], [\"-47.39 %\"], [\"-57.91 %\"], [\"-43.45 %\"], [\"-36.87 %\"], [\"5.22 %\"], [\"18.37 %\"], [\"-32.92 %\"], [\"-40.82 %\"], [\"-63.17 %\"], [\"-47.39 %\"], [\"-65.80 %\"], [\"-59.23 %\"], [\"-39.50 %\"], [\"-67.12 %\"], [\"-34.24 %\"], [\"-36.87 %\"], [\"-44.76 %\"], [\"-50.02 %\"], [\"-26.35 %\"], [\"-34.24 %\"], [\"-26.35 %\"], [\"5.22 %\"], [\"-32.92 %\"], [\"-21.09 %\"], [\"-60.54 %\"], [\"-39.50 %\"], [\"-50.02 %\"], [\"-40.82 %\"], [\"-57.91 %\"], [\"-67.12 %\"], [\"-35.55 %\"], [\"-47.39 %\"], [\"-60.54 %\"], [\"-34.24 %\"], [\"-7.94 %\"], [\"-50.02 %\"], [\"-68.44 %\"], [\"-2.67 %\"], [\"-10.57 %\"], [\"-13.20 %\"], [\"-40.82 %\"], [\"5.22 %\"], [\"-53.97 %\"], [\"-34.24 %\"], [\"-19.77 %\"], [\"31.52 %\"], [\"-18.46 %\"], [\"-21.09 %\"], [\"-44.76 %\"], [\"-67.12 %\"], [\"-34.24 %\"], [\"-5.48 %\"], [\"59.31 %\"], [\"-4.42 %\"], [\"-45.84 %\"], [\"-20.35 %\"], [\"0.89 %\"], [\"-29.90 %\"], [\"-37.34 %\"], [\"-41.59 %\"], [\"-15.04 %\"], [\"62.49 %\"], [\"-4.42 %\"], [\"-16.10 %\"], [\"-36.28 %\"], [\"-15.04 %\"], [\"-9.73 %\"], [\"6.20 %\"], [\"-9.73 %\"], [\"-52.21 %\"], [\"-9.73 %\"], [\"-43.71 %\"], [\"-25.66 %\"], [\"-30.97 %\"], [\"-57.52 %\"], [\"3.02 %\"], [\"-4.42 %\"], [\"-8.66 %\"], [\"0.89 %\"], [\"-47.96 %\"], [\"-4.42 %\"], [\"-30.97 %\"], [\"-49.02 %\"], [\"-30.97 %\"], [\"5.14 %\"], [\"-35.21 %\"], [\"-30.97 %\"], [\"6.20 %\"], [\"6.20 %\"], [\"-38.40 %\"], [\"-9.73 %\"], [\"-25.66 %\"], [\"-41.59 %\"], [\"-15.04 %\"], [\"0.89 %\"], [\"27.45 %\"], [\"-10.79 %\"], [\"0.89 %\"], [\"-30.97 %\"], [\"-30.97 %\"], [\"-9.73 %\"], [\"-41.59 %\"], [\"-4.42 %\"], [\"-36.28 %\"], [\"0.89 %\"], [\"85.86 %\"], [\"5.14 %\"], [\"-36.28 %\"], [\"-9.73 %\"], [\"48.69 %\"], [\"16.83 %\"], [\"-12.94 %\"], [\"-47.76 %\"], [\"-39.06 %\"], [\"25.37 %\"], [\"-32.09 %\"], [\"-42.54 %\"], [\"-26.87 %\"], [\"-4.23 %\"], [\"-39.06 %\"], [\"-39.06 %\"], [\"-44.84 %\"], [\"-42.54 %\"], [\"-33.35 %\"], [\"8.26 %\"], [\"-35.22 %\"], [\"-11.12 %\"], [\"50.65 %\"], [\"-2.08 %\"], [\"-26.18 %\"], [\"-26.18 %\"], [\"12.98 %\"], [\"-23.17 %\"], [\"34.08 %\"], [\"49.14 %\"], [\"-2.08 %\"], [\"6.96 %\"], [\"-32.21 %\"], [\"-2.08 %\"], [\"-9.61 %\"], [\"-9.61 %\"], [\"36.29 %\"], [\"40.19 %\"], [\"-29.91 %\"], [\"-12.38 %\"], [\"-22.12 %\"], [\"-22.12 %\"], [\"-31.85 %\"], [\"-41.59 %\"], [\"-22.12 %\"], [\"-6.54 %\"], [\"24.61 %\"], [\"-2.65 %\"], [\"-31.85 %\"], [\"-31.85 %\"], [\"16.82 %\"], [\"-22.12 %\"], [\"-6.54 %\"], [\"-2.65 %\"], [\"-61.06 %\"], [\"36.29 %\"], [\"55.76 %\"], [\"16.82 %\"], [\"-31.85 %\"], [\"-39.64 %\"], [\"18.12 %\"], [\"20.04 %\"]], \"hovertemplate\": \"<b>%{hovertext}</b><br><br>Place=Peckham<br>latitude=%{lat}<br>longitude=%{lon}<br>Price difference=%{customdata[0]}<extra></extra>\", \"hovertext\": [\"Peckham\", \"Peckham\", \"Peckham\", \"Peckham\", \"Peckham\", \"Peckham\", \"Peckham\", \"Peckham\", \"Peckham\", \"Peckham\", \"Peckham\", \"Peckham\", \"Peckham\", \"Peckham\", \"Peckham\", \"Peckham\", \"Peckham\", \"Peckham\", \"Peckham\", \"Peckham\", \"Peckham\", \"Peckham\", \"Peckham\", \"Peckham\", \"Peckham\", \"Peckham\", \"Peckham\", \"Peckham\", \"Peckham\", \"Peckham\", \"Peckham\", \"Peckham\", \"Peckham\", \"Peckham\", \"Peckham\", \"Peckham\", \"Peckham\", \"Peckham\", \"Peckham\", \"Peckham\", \"Peckham\", \"Peckham\", \"Peckham\", \"Peckham\", \"Peckham\", \"Peckham\", \"Peckham\", \"Peckham\", \"Peckham\", \"Peckham\", \"Peckham\", \"Peckham\", \"Peckham\", \"Peckham\", \"Peckham\", \"Peckham\", \"Peckham\", \"Peckham\", \"Peckham\", \"Peckham\", \"Peckham\", \"Peckham\", \"Peckham\", \"Peckham\", \"Peckham\", \"Peckham\", \"Peckham\", \"Peckham\", \"Peckham\", \"Peckham\", \"Peckham\", \"Peckham\", \"Peckham\", \"Peckham\", \"Peckham\", \"Peckham\", \"Peckham\", \"Peckham\", \"Peckham\", \"Peckham\", \"Peckham\", \"Peckham\", \"Peckham\", \"Peckham\", \"Peckham\", \"Peckham\", \"Peckham\", \"Peckham\", \"Peckham\", \"Peckham\", \"Peckham\", \"Peckham\", \"Peckham\", \"Peckham\", \"Peckham\", \"Peckham\", \"Peckham\", \"Peckham\", \"Peckham\", \"Peckham\", \"Peckham\", \"Peckham\", \"Peckham\", \"Peckham\", \"Peckham\", \"Peckham\", \"Peckham\", \"Peckham\", \"Peckham\", \"Peckham\", \"Peckham\", \"Peckham\", \"Peckham\", \"Peckham\", \"Peckham\", \"Peckham\", \"Peckham\", \"Peckham\", \"Peckham\", \"Peckham\", \"Peckham\", \"Peckham\", \"Peckham\", \"Peckham\", \"Peckham\", \"Peckham\", \"Peckham\", \"Peckham\", \"Peckham\", \"Peckham\", \"Peckham\", \"Peckham\", \"Peckham\", \"Peckham\", \"Peckham\", \"Peckham\", \"Peckham\", \"Peckham\", \"Peckham\", \"Peckham\", \"Peckham\", \"Peckham\", \"Peckham\", \"Peckham\", \"Peckham\", \"Peckham\", \"Peckham\", \"Peckham\", \"Peckham\", \"Peckham\", \"Peckham\", \"Peckham\", \"Peckham\", \"Peckham\", \"Peckham\", \"Peckham\", \"Peckham\", \"Peckham\", \"Peckham\", \"Peckham\", \"Peckham\", \"Peckham\", \"Peckham\", \"Peckham\", \"Peckham\", \"Peckham\", \"Peckham\", \"Peckham\", \"Peckham\", \"Peckham\", \"Peckham\", \"Peckham\", \"Peckham\", \"Peckham\", \"Peckham\", \"Peckham\", \"Peckham\", \"Peckham\", \"Peckham\", \"Peckham\", \"Peckham\", \"Peckham\", \"Peckham\", \"Peckham\", \"Peckham\", \"Peckham\", \"Peckham\", \"Peckham\", \"Peckham\", \"Peckham\", \"Peckham\", \"Peckham\", \"Peckham\", \"Peckham\", \"Peckham\", \"Peckham\", \"Peckham\", \"Peckham\", \"Peckham\", \"Peckham\", \"Peckham\", \"Peckham\", \"Peckham\", \"Peckham\", \"Peckham\", \"Peckham\", \"Peckham\", \"Peckham\", \"Peckham\", \"Peckham\", \"Peckham\", \"Peckham\", \"Peckham\", \"Peckham\", \"Peckham\", \"Peckham\", \"Peckham\", \"Peckham\", \"Peckham\", \"Peckham\", \"Peckham\", \"Peckham\", \"Peckham\", \"Peckham\", \"Peckham\", \"Peckham\", \"Peckham\", \"Peckham\", \"Peckham\"], \"lat\": [51.47871, 51.46452, 51.46228, 51.456990000000005, 51.461999999999996, 51.470620000000004, 51.49179, 51.45588, 51.4778, 51.45617, 51.47835, 51.45301, 51.44381, 51.47588, 51.46241, 51.47925, 51.461690000000004, 51.47379, 51.473890000000004, 51.47348, 51.47421, 51.46994, 51.47511, 51.47064, 51.49323, 51.45262, 51.45626, 51.46986, 51.460609999999996, 51.4642, 51.47078, 51.45862, 51.47418, 51.46897, 51.474059999999994, 51.46758, 51.48072, 51.464490000000005, 51.47793, 51.47967, 51.46676, 51.471270000000004, 51.454879999999996, 51.457840000000004, 51.45892, 51.47168, 51.47266, 51.477940000000004, 51.45146, 51.482859999999995, 51.47167, 51.47007, 51.47034, 51.48015, 51.47306, 51.47548, 51.45544, 51.4751, 51.473890000000004, 51.446459999999995, 51.47432, 51.47851, 51.47971, 51.47337, 51.47473, 51.48113, 51.46755, 51.47978, 51.48087, 51.46699, 51.47339, 51.482490000000006, 51.475159999999995, 51.47432, 51.48046, 51.45267, 51.45476, 51.46778, 51.45769, 51.47927, 51.4748, 51.45276, 51.48529, 51.46591, 51.46425, 51.481429999999996, 51.4525, 51.45836, 51.478840000000005, 51.47295, 51.45967, 51.47415, 51.4716, 51.46427, 51.47084, 51.47824, 51.4491, 51.47318, 51.47377, 51.476040000000005, 51.47463, 51.46951, 51.480470000000004, 51.47586, 51.47722, 51.478590000000004, 51.46464, 51.47213, 51.47749, 51.453920000000004, 51.46165, 51.46248, 51.46567, 51.455909999999996, 51.47187, 51.46768, 51.47657, 51.4597, 51.45362, 51.46423, 51.4712, 51.46602, 51.46541, 51.4539, 51.4671, 51.469229999999996, 51.46179, 51.45191, 51.46739, 51.479729999999996, 51.47759, 51.48989, 51.47515, 51.46846, 51.46103, 51.46451, 51.47715, 51.45852, 51.46637, 51.46991, 51.4679, 51.48185, 51.479459999999996, 51.47605, 51.44535, 51.474309999999996, 51.470259999999996, 51.47207, 51.482240000000004, 51.46968, 51.46752, 51.47108, 51.48747, 51.480109999999996, 51.452459999999995, 51.47634, 51.46671, 51.48072, 51.46526, 51.46801, 51.46673, 51.47426, 51.46992, 51.460679999999996, 51.4728, 51.46385, 51.47837, 51.4535, 51.481809999999996, 51.46728, 51.46566, 51.47395, 51.47203, 51.46045, 51.477740000000004, 51.468759999999996, 51.46898, 51.42794, 51.4408, 51.47854, 51.457409999999996, 51.47017, 51.47075, 51.47677, 51.43732, 51.468959999999996, 51.46711, 51.476240000000004, 51.47521, 51.46485, 51.46589, 51.4684, 51.46855, 51.472840000000005, 51.47076, 51.46598, 51.47955, 51.44416, 51.4754, 51.47254, 51.459340000000005, 51.47403, 51.469609999999996, 51.4788, 51.469879999999996, 51.4607, 51.46929, 51.468270000000004, 51.46805, 51.42828, 51.44572, 51.44109, 51.47314, 51.47459, 51.47312, 51.46994, 51.47375, 51.474090000000004, 51.47566, 51.44788, 51.46995, 51.47371, 51.471109999999996, 51.462720000000004, 51.47745, 51.47854, 51.47822, 51.47318, 51.41637], \"legendgroup\": \"Peckham\", \"lon\": [-0.060629999999999996, -0.0797, -0.0618, -0.07499, -0.062279999999999995, -0.06017, -0.08888, -0.05099, -0.06787, -0.052239999999999995, -0.08972999999999999, -0.055729999999999995, -0.06567, -0.09857, -0.05875, -0.06188, -0.058570000000000004, -0.054810000000000005, -0.06713, -0.055779999999999996, -0.05557, -0.07687000000000001, -0.08578, -0.06865, -0.09346, -0.05969, -0.051739999999999994, -0.09177, -0.051660000000000005, -0.08269, -0.07082999999999999, -0.06944, -0.08185, -0.05694, -0.05437, -0.06354, -0.08105, -0.07114, -0.06242, -0.06441000000000001, -0.05424, -0.06026, -0.05127, -0.07074, -0.08064, -0.07652, -0.05857999999999999, -0.06598, -0.059629999999999996, -0.09432, -0.053689999999999995, -0.06667000000000001, -0.052829999999999995, -0.059539999999999996, -0.060160000000000005, -0.06736, -0.04768, -0.0943, -0.09181, -0.06305, -0.06284, -0.06995, -0.07152, -0.056960000000000004, -0.062270000000000006, -0.06442, -0.07979, -0.07089, -0.08438, -0.05223, -0.07945, -0.09427, -0.06999, -0.09312999999999999, -0.05612999999999999, -0.06497, -0.06522, -0.07589, -0.08008, -0.06648, -0.06587, -0.06802000000000001, -0.07303, -0.06828, -0.07187, -0.06717000000000001, -0.07293, -0.05196, -0.07887999999999999, -0.06498999999999999, -0.05063, -0.06387999999999999, -0.06361, -0.07571, -0.07456, -0.07122, -0.08713, -0.07757, -0.09581, -0.07315, -0.07393999999999999, -0.05413, -0.0861, -0.07463, -0.07395, -0.05874, -0.06112000000000001, -0.06707, -0.07215, -0.054000000000000006, -0.06523999999999999, -0.05674, -0.06537000000000001, -0.051829999999999994, -0.08377000000000001, -0.07341, -0.09757, -0.0523, -0.07221, -0.07255, -0.06911, -0.07474, -0.08213999999999999, -0.07536, -0.06999, -0.07057000000000001, -0.0716, -0.07682, -0.06967999999999999, -0.07481, -0.06147999999999999, -0.08043, -0.059410000000000004, -0.05517999999999999, -0.07041, -0.08319, -0.08512, -0.08062000000000001, -0.0689, -0.0775, -0.0701, -0.09616, -0.08876, -0.06874, -0.06736, -0.06746, -0.06355, -0.05694, -0.08014, -0.08399, -0.06747, -0.06192, -0.07486, -0.09395, -0.05881, -0.05789, -0.07937000000000001, -0.09514, -0.07418, -0.07341, -0.07849, -0.07618, -0.054520000000000006, -0.06663, -0.07039, -0.06623, -0.08207, -0.06422, -0.06523, -0.07438, -0.06757, -0.07864, -0.0764, -0.09376, -0.10404000000000001, -0.09516000000000001, -0.09679, -0.10912000000000001, -0.10452, -0.11756, -0.11102999999999999, -0.09684, -0.10226, -0.10049, -0.10455999999999999, -0.09694, -0.17047, -0.03315, -0.02918, -0.03645, -0.027219999999999998, -0.04883, -0.04844, -0.03635, -0.04306, -0.04439, -0.05067, -0.04534, -0.042769999999999996, -0.040060000000000005, -0.03705, -0.04922, -0.04407, -0.04376, -0.031869999999999996, -0.04211, -0.05181, -0.026489999999999996, -0.04865, -0.04208, -0.013590000000000001, -0.05861, -0.031939999999999996, -0.04519, -0.04687, -0.05171, -0.047080000000000004, -0.04699, -0.04732, -0.06088, -0.04237, -0.044860000000000004, -0.04865, -0.03574, -0.050460000000000005, -0.030019999999999998, -0.0454, -0.02035, -0.06591], \"marker\": {\"color\": \"#636efa\"}, \"mode\": \"markers\", \"name\": \"Peckham\", \"showlegend\": true, \"subplot\": \"mapbox\", \"type\": \"scattermapbox\"}, {\"customdata\": [[\"-28.92 %\"], [\"41.06 %\"], [\"-23.45 %\"], [\"-28.92 %\"], [\"31.22 %\"], [\"-27.29 %\"], [\"-9.12 %\"], [\"-18.20 %\"], [\"-45.47 %\"], [\"-45.47 %\"], [\"-21.84 %\"], [\"-27.29 %\"], [\"-29.11 %\"], [\"81.77 %\"], [\"9.06 %\"], [\"9.06 %\"], [\"-21.84 %\"], [\"-34.56 %\"], [\"38.14 %\"], [\"27.24 %\"], [\"-12.18 %\"], [\"103.20 %\"], [\"10.21 %\"], [\"-38.01 %\"], [\"-13.90 %\"], [\"-27.67 %\"], [\"-17.34 %\"], [\"17.10 %\"], [\"-39.73 %\"], [\"-32.84 %\"], [\"-63.84 %\"], [\"72.20 %\"], [\"-27.67 %\"], [\"-15.62 %\"], [\"-39.73 %\"], [\"-38.01 %\"], [\"-65.56 %\"], [\"-56.95 %\"], [\"-56.95 %\"], [\"-38.01 %\"], [\"-48.34 %\"], [\"-44.89 %\"], [\"-13.90 %\"], [\"-31.12 %\"], [\"-3.57 %\"], [\"-22.51 %\"], [\"-24.23 %\"], [\"-48.34 %\"], [\"-31.12 %\"], [\"-5.29 %\"], [\"36.04 %\"], [\"-24.23 %\"], [\"-39.73 %\"], [\"-8.73 %\"], [\"3.32 %\"], [\"-10.45 %\"], [\"-31.12 %\"], [\"-31.12 %\"], [\"-32.84 %\"], [\"-20.79 %\"], [\"-31.12 %\"], [\"3.32 %\"], [\"3.32 %\"], [\"11.93 %\"], [\"54.98 %\"], [\"-10.45 %\"], [\"-20.79 %\"], [\"11.93 %\"], [\"244.41 %\"], [\"-36.28 %\"], [\"34.32 %\"], [\"20.54 %\"], [\"-31.12 %\"], [\"-19.06 %\"], [\"18.82 %\"], [\"6.77 %\"], [\"-8.73 %\"], [\"-31.12 %\"], [\"-38.01 %\"], [\"-56.95 %\"], [\"-60.39 %\"], [\"-2.49 %\"], [\"3.14 %\"], [\"-60.62 %\"], [\"-20.30 %\"], [\"-15.61 %\"], [\"-6.24 %\"], [\"-24.99 %\"], [\"-23.11 %\"], [\"31.27 %\"], [\"-20.30 %\"], [\"-10.93 %\"], [\"-15.61 %\"], [\"-20.30 %\"], [\"-40.93 %\"], [\"-34.37 %\"], [\"-54.06 %\"], [\"-43.74 %\"], [\"140.03 %\"], [\"-15.61 %\"], [\"-21.24 %\"], [\"-39.99 %\"], [\"-4.36 %\"], [\"-29.68 %\"], [\"-6.24 %\"], [\"21.89 %\"], [\"-34.37 %\"], [\"-39.05 %\"], [\"17.20 %\"], [\"-7.18 %\"], [\"-18.43 %\"], [\"-43.74 %\"], [\"-24.99 %\"], [\"-6.24 %\"], [\"-6.24 %\"], [\"-15.61 %\"], [\"3.14 %\"], [\"-15.61 %\"], [\"3.14 %\"], [\"-58.25 %\"], [\"-50.88 %\"]], \"hovertemplate\": \"<b>%{hovertext}</b><br><br>Place=Bethnal<br>latitude=%{lat}<br>longitude=%{lon}<br>Price difference=%{customdata[0]}<extra></extra>\", \"hovertext\": [\"Bethnal\", \"Bethnal\", \"Bethnal\", \"Bethnal\", \"Bethnal\", \"Bethnal\", \"Bethnal\", \"Bethnal\", \"Bethnal\", \"Bethnal\", \"Bethnal\", \"Bethnal\", \"Bethnal\", \"Bethnal\", \"Bethnal\", \"Bethnal\", \"Bethnal\", \"Bethnal\", \"Bethnal\", \"Bethnal\", \"Bethnal\", \"Bethnal\", \"Bethnal\", \"Bethnal\", \"Bethnal\", \"Bethnal\", \"Bethnal\", \"Bethnal\", \"Bethnal\", \"Bethnal\", \"Bethnal\", \"Bethnal\", \"Bethnal\", \"Bethnal\", \"Bethnal\", \"Bethnal\", \"Bethnal\", \"Bethnal\", \"Bethnal\", \"Bethnal\", \"Bethnal\", \"Bethnal\", \"Bethnal\", \"Bethnal\", \"Bethnal\", \"Bethnal\", \"Bethnal\", \"Bethnal\", \"Bethnal\", \"Bethnal\", \"Bethnal\", \"Bethnal\", \"Bethnal\", \"Bethnal\", \"Bethnal\", \"Bethnal\", \"Bethnal\", \"Bethnal\", \"Bethnal\", \"Bethnal\", \"Bethnal\", \"Bethnal\", \"Bethnal\", \"Bethnal\", \"Bethnal\", \"Bethnal\", \"Bethnal\", \"Bethnal\", \"Bethnal\", \"Bethnal\", \"Bethnal\", \"Bethnal\", \"Bethnal\", \"Bethnal\", \"Bethnal\", \"Bethnal\", \"Bethnal\", \"Bethnal\", \"Bethnal\", \"Bethnal\", \"Bethnal\", \"Bethnal\", \"Bethnal\", \"Bethnal\", \"Bethnal\", \"Bethnal\", \"Bethnal\", \"Bethnal\", \"Bethnal\", \"Bethnal\", \"Bethnal\", \"Bethnal\", \"Bethnal\", \"Bethnal\", \"Bethnal\", \"Bethnal\", \"Bethnal\", \"Bethnal\", \"Bethnal\", \"Bethnal\", \"Bethnal\", \"Bethnal\", \"Bethnal\", \"Bethnal\", \"Bethnal\", \"Bethnal\", \"Bethnal\", \"Bethnal\", \"Bethnal\", \"Bethnal\", \"Bethnal\", \"Bethnal\", \"Bethnal\", \"Bethnal\", \"Bethnal\", \"Bethnal\", \"Bethnal\", \"Bethnal\", \"Bethnal\", \"Bethnal\", \"Bethnal\"], \"lat\": [51.54255, 51.549409999999995, 51.53602, 51.53503, 51.535379999999996, 51.54552, 51.5496, 51.545359999999995, 51.54162, 51.53942, 51.53817, 51.536359999999995, 51.538109999999996, 51.53499, 51.539320000000004, 51.54208, 51.53654, 51.5368, 51.53752, 51.534459999999996, 51.5237, 51.53006, 51.5271, 51.52729, 51.522420000000004, 51.5179, 51.53117, 51.5325, 51.53362, 51.5244, 51.52657, 51.52684, 51.51853, 51.525490000000005, 51.52805, 51.522690000000004, 51.52678, 51.51008, 51.51997, 51.52012, 51.51983, 51.5216, 51.51892, 51.5251, 51.52629, 51.52796, 51.52775, 51.525659999999995, 51.52544, 51.52639, 51.529720000000005, 51.5273, 51.52766, 51.53096, 51.52964, 51.52075, 51.52747, 51.52689, 51.51723, 51.532270000000004, 51.525079999999996, 51.53198, 51.53277, 51.53528, 51.528890000000004, 51.53049, 51.52717, 51.52904, 51.52043, 51.52667, 51.525859999999994, 51.52995, 51.51127, 51.53242, 51.52863, 51.52863, 51.524359999999994, 51.52248, 51.54338, 51.52681, 51.52685, 51.52465, 51.53025, 51.52487, 51.525490000000005, 51.52814, 51.53042, 51.52497, 51.52778, 51.525859999999994, 51.52709, 51.53344, 51.52923, 51.52747, 51.525009999999995, 51.52228, 51.52856, 51.52885, 51.52753, 51.52449, 51.530879999999996, 51.52818, 51.53052, 51.52905, 51.52306, 51.53106, 51.524570000000004, 51.528240000000004, 51.5305, 51.51511, 51.5306, 51.527409999999996, 51.52941, 51.525529999999996, 51.52732, 51.53139, 51.52412, 51.52968, 51.528259999999996, 51.52722, 51.52434], \"legendgroup\": \"Bethnal\", \"lon\": [-0.04857, -0.0598, -0.054920000000000004, -0.057170000000000006, -0.0553, -0.055720000000000006, -0.06996000000000001, -0.055670000000000004, -0.052039999999999996, -0.05212000000000001, -0.05379, -0.06787, -0.04363, -0.06601, -0.05635, -0.05517999999999999, -0.0662, -0.05272999999999999, -0.047080000000000004, -0.05781, -0.056229999999999995, -0.04295, -0.05691, -0.06134, -0.05275, -0.04528, -0.0568, -0.04991, -0.0576, -0.05065, -0.058039999999999994, -0.05797000000000001, -0.038, -0.056620000000000004, -0.05819, -0.05971, -0.04576, -0.016, -0.0536, -0.049030000000000004, -0.029889999999999996, -0.030930000000000003, -0.02356, -0.07603, -0.04419, -0.0565, -0.06188, -0.07504, -0.06788, -0.04972, -0.06387999999999999, -0.060529999999999994, -0.042289999999999994, -0.06665, -0.059379999999999995, -0.02972, -0.043539999999999995, -0.05217, -0.05346, -0.04515, -0.07405, -0.04754, -0.04849, -0.03304, -0.0718, -0.04118, -0.051660000000000005, -0.06964, -0.0569, -0.05867000000000001, -0.06506, -0.053860000000000005, -0.02062, -0.04808, -0.05594, -0.05594, -0.05429, -0.06221, -0.0221, -0.05145, -0.05269, -0.05976, -0.07297999999999999, -0.051019999999999996, -0.07012, -0.06679, -0.06427999999999999, -0.04892, -0.0503, -0.071, -0.056670000000000005, -0.05225, -0.060579999999999995, -0.0535, -0.06813999999999999, -0.050710000000000005, -0.053529999999999994, -0.05148, -0.050960000000000005, -0.07186000000000001, -0.054029999999999995, -0.04233, -0.058879999999999995, -0.05915, -0.059829999999999994, -0.06121, -0.015030000000000002, -0.049339999999999995, -0.06097999999999999, -0.02174, -0.041460000000000004, -0.059579999999999994, -0.0497, -0.05625, -0.06525, -0.045, -0.06676, -0.06402999999999999, -0.04113, -0.06006, -0.05437], \"marker\": {\"color\": \"#EF553B\"}, \"mode\": \"markers\", \"name\": \"Bethnal\", \"showlegend\": true, \"subplot\": \"mapbox\", \"type\": \"scattermapbox\"}, {\"customdata\": [[\"10.18 %\"], [\"115.68 %\"], [\"-16.78 %\"], [\"-28.50 %\"], [\"40.66 %\"], [\"-28.50 %\"], [\"48.87 %\"], [\"-8.29 %\"], [\"-7.85 %\"], [\"-50.63 %\"], [\"-23.21 %\"], [\"-56.12 %\"], [\"-50.63 %\"], [\"-45.15 %\"], [\"-28.69 %\"], [\"31.65 %\"], [\"-38.57 %\"], [\"-46.24 %\"], [\"-36.37 %\"], [\"-12.24 %\"], [\"-28.69 %\"], [\"-3.46 %\"], [\"-50.63 %\"], [\"-12.24 %\"], [\"-34.18 %\"], [\"-47.34 %\"], [\"-50.63 %\"], [\"4.22 %\"], [\"0.93 %\"], [\"-14.43 %\"], [\"-64.89 %\"], [\"-35.27 %\"], [\"-45.15 %\"], [\"-61.60 %\"], [\"-10.04 %\"], [\"-50.63 %\"], [\"-61.60 %\"], [\"-56.12 %\"], [\"-34.18 %\"], [\"-12.24 %\"], [\"-12.24 %\"], [\"-51.73 %\"], [\"-25.40 %\"], [\"-39.66 %\"], [\"-28.69 %\"], [\"-6.75 %\"], [\"7.51 %\"], [\"-61.60 %\"], [\"-52.83 %\"], [\"16.29 %\"], [\"-61.60 %\"], [\"-6.75 %\"], [\"-50.63 %\"], [\"-61.60 %\"], [\"-57.22 %\"], [\"-23.21 %\"], [\"-56.12 %\"], [\"-45.15 %\"], [\"-50.63 %\"], [\"-67.09 %\"], [\"-15.27 %\"], [\"-18.69 %\"], [\"28.69 %\"], [\"96.42 %\"], [\"-47.51 %\"], [\"15.14 %\"], [\"-50.89 %\"], [\"-47.51 %\"], [\"52.40 %\"], [\"248.82 %\"], [\"-31.37 %\"], [\"-36.91 %\"], [\"-16.81 %\"], [\"-34.83 %\"], [\"-45.23 %\"], [\"-58.40 %\"], [\"-41.07 %\"], [\"-58.40 %\"], [\"-30.67 %\"], [\"-32.75 %\"], [\"-44.54 %\"], [\"-34.14 %\"], [\"14.39 %\"], [\"-65.34 %\"], [\"-61.18 %\"], [\"-37.61 %\"], [\"-24.43 %\"], [\"-9.88 %\"], [\"-37.61 %\"], [\"-9.88 %\"], [\"-41.07 %\"]], \"hovertemplate\": \"<b>%{hovertext}</b><br><br>Place=Maida<br>latitude=%{lat}<br>longitude=%{lon}<br>Price difference=%{customdata[0]}<extra></extra>\", \"hovertext\": [\"Maida\", \"Maida\", \"Maida\", \"Maida\", \"Maida\", \"Maida\", \"Maida\", \"Maida\", \"Maida\", \"Maida\", \"Maida\", \"Maida\", \"Maida\", \"Maida\", \"Maida\", \"Maida\", \"Maida\", \"Maida\", \"Maida\", \"Maida\", \"Maida\", \"Maida\", \"Maida\", \"Maida\", \"Maida\", \"Maida\", \"Maida\", \"Maida\", \"Maida\", \"Maida\", \"Maida\", \"Maida\", \"Maida\", \"Maida\", \"Maida\", \"Maida\", \"Maida\", \"Maida\", \"Maida\", \"Maida\", \"Maida\", \"Maida\", \"Maida\", \"Maida\", \"Maida\", \"Maida\", \"Maida\", \"Maida\", \"Maida\", \"Maida\", \"Maida\", \"Maida\", \"Maida\", \"Maida\", \"Maida\", \"Maida\", \"Maida\", \"Maida\", \"Maida\", \"Maida\", \"Maida\", \"Maida\", \"Maida\", \"Maida\", \"Maida\", \"Maida\", \"Maida\", \"Maida\", \"Maida\", \"Maida\", \"Maida\", \"Maida\", \"Maida\", \"Maida\", \"Maida\", \"Maida\", \"Maida\", \"Maida\", \"Maida\", \"Maida\", \"Maida\", \"Maida\", \"Maida\", \"Maida\", \"Maida\", \"Maida\", \"Maida\", \"Maida\", \"Maida\", \"Maida\", \"Maida\"], \"lat\": [51.54269, 51.5402, 51.53171, 51.53634, 51.537259999999996, 51.54198, 51.54016, 51.53804, 51.528529999999996, 51.524359999999994, 51.52426, 51.52921, 51.52537, 51.52281, 51.52414, 51.52384, 51.5324, 51.52648, 51.52881, 51.52727, 51.5202, 51.529579999999996, 51.530120000000004, 51.52881, 51.530159999999995, 51.52968, 51.52742, 51.52791, 51.529270000000004, 51.528079999999996, 51.52837, 51.52587, 51.53405, 51.522859999999994, 51.53646, 51.526579999999996, 51.52898, 51.532779999999995, 51.5265, 51.52725, 51.5269, 51.52813, 51.52633, 51.52998, 51.52858, 51.52247, 51.527809999999995, 51.5211, 51.52955, 51.53079, 51.530570000000004, 51.52516, 51.525490000000005, 51.52697, 51.5266, 51.525490000000005, 51.52604, 51.531000000000006, 51.529540000000004, 51.531209999999994, 51.54865, 51.54441, 51.53233, 51.53289, 51.53575, 51.53022, 51.53583, 51.53382, 51.532309999999995, 51.54685, 51.52575, 51.530429999999996, 51.514179999999996, 51.5263, 51.52644, 51.52895, 51.53448, 51.52812, 51.53614, 51.5257, 51.52936, 51.52517, 51.52636, 51.525059999999996, 51.53125, 51.526709999999994, 51.52861, 51.52688, 51.52479, 51.53099, 51.52433], \"legendgroup\": \"Maida\", \"lon\": [-0.20207, -0.20132, -0.22236999999999998, -0.21973, -0.19579000000000002, -0.20184000000000002, -0.20794, -0.18961, -0.19559, -0.19924, -0.19809000000000002, -0.19981, -0.19729000000000002, -0.19669, -0.1955, -0.19516, -0.1898, -0.19166, -0.19397, -0.19752999999999998, -0.1759, -0.18716, -0.18669000000000002, -0.18617999999999998, -0.18798, -0.18683, -0.19325, -0.18669000000000002, -0.18725, -0.18847, -0.19174000000000002, -0.19809000000000002, -0.19129000000000002, -0.19596, -0.18348, -0.19136, -0.19052, -0.18823, -0.19287, -0.18613, -0.19178, -0.19608, -0.19322, -0.19462000000000002, -0.18694000000000002, -0.17674, -0.18836, -0.17349, -0.18733, -0.18848, -0.20240999999999998, -0.19605999999999998, -0.18283, -0.16608, -0.17128, -0.19353, -0.20088, -0.20232999999999998, -0.18541, -0.20163, -0.20542, -0.18350999999999998, -0.22116999999999998, -0.19698, -0.23021999999999998, -0.1945, -0.23224, -0.23174, -0.19939, -0.20883000000000002, -0.19782, -0.18389, -0.17881, -0.18259, -0.19124000000000002, -0.18759, -0.1885, -0.19345, -0.18445, -0.2009, -0.20278, -0.20334000000000002, -0.19187, -0.19491, -0.17724, -0.19467, -0.1867, -0.19465, -0.19071, -0.18765, -0.17146], \"marker\": {\"color\": \"#00cc96\"}, \"mode\": \"markers\", \"name\": \"Maida\", \"showlegend\": true, \"subplot\": \"mapbox\", \"type\": \"scattermapbox\"}, {\"customdata\": [[\"-49.50 %\"], [\"-39.06 %\"], [\"-56.47 %\"], [\"-35.57 %\"], [\"-37.32 %\"], [\"-47.76 %\"], [\"-47.76 %\"], [\"-30.35 %\"], [\"0.99 %\"], [\"-39.06 %\"], [\"11.44 %\"], [\"-39.06 %\"], [\"-39.06 %\"], [\"-35.57 %\"], [\"4.47 %\"], [\"35.82 %\"], [\"-21.65 %\"], [\"-63.43 %\"], [\"-61.69 %\"], [\"-39.06 %\"], [\"-65.18 %\"], [\"86.95 %\"], [\"-13.71 %\"], [\"-46.07 %\"], [\"-55.06 %\"], [\"-31.69 %\"], [\"-49.67 %\"], [\"-24.50 %\"], [\"-28.09 %\"], [\"43.81 %\"], [\"-58.65 %\"], [\"-47.87 %\"], [\"18.64 %\"], [\"-10.12 %\"], [\"76.17 %\"], [\"-46.07 %\"], [\"0.67 %\"], [\"-24.50 %\"], [\"-37.08 %\"], [\"-49.67 %\"], [\"7.86 %\"], [\"-19.11 %\"], [\"-13.36 %\"], [\"15.52 %\"], [\"10.90 %\"], [\"-6.43 %\"], [\"3.97 %\"], [\"-31.84 %\"], [\"-42.24 %\"], [\"-36.47 %\"], [\"-5.28 %\"], [\"37.47 %\"], [\"-29.53 %\"], [\"-26.07 %\"], [\"-1.81 %\"], [\"9.74 %\"], [\"-44.55 %\"], [\"-52.64 %\"], [\"-24.91 %\"], [\"-19.14 %\"], [\"-34.16 %\"], [\"-7.59 %\"], [\"-31.84 %\"], [\"-7.59 %\"], [\"-2.32 %\"], [\"2.28 %\"], [\"-42.54 %\"], [\"72.38 %\"], [\"3.43 %\"], [\"2.28 %\"], [\"43.65 %\"], [\"-36.79 %\"], [\"-39.68 %\"], [\"-48.96 %\"], [\"23.73 %\"], [\"-30.40 %\"], [\"-22.67 %\"], [\"54.66 %\"], [\"-28.86 %\"], [\"0.53 %\"], [\"-22.67 %\"], [\"-39.68 %\"], [\"39.19 %\"], [\"5.17 %\"], [\"-50.51 %\"], [\"-14.94 %\"], [\"-22.67 %\"], [\"673.29 %\"], [\"54.66 %\"], [\"-41.23 %\"], [\"-50.51 %\"], [\"-48.96 %\"], [\"-4.11 %\"], [\"-7.20 %\"], [\"-50.51 %\"], [\"17.54 %\"], [\"-45.87 %\"], [\"3.62 %\"], [\"-38.14 %\"], [\"-30.40 %\"], [\"-38.14 %\"], [\"-56.70 %\"], [\"-72.16 %\"], [\"2.07 %\"], [\"-41.23 %\"], [\"15.99 %\"], [\"-65.98 %\"], [\"8.26 %\"], [\"-38.14 %\"], [\"-53.60 %\"], [\"48.47 %\"], [\"-45.87 %\"], [\"20.63 %\"], [\"-18.03 %\"], [\"673.29 %\"], [\"-10.30 %\"], [\"8.26 %\"], [\"0.53 %\"], [\"11.35 %\"], [\"-8.75 %\"], [\"8.26 %\"], [\"-45.87 %\"], [\"23.73 %\"], [\"-18.03 %\"], [\"-25.76 %\"], [\"-59.79 %\"], [\"-38.14 %\"], [\"-30.40 %\"], [\"11.35 %\"], [\"-38.14 %\"], [\"0.53 %\"], [\"-30.40 %\"], [\"-53.60 %\"], [\"-45.87 %\"], [\"-33.50 %\"], [\"-19.58 %\"], [\"-22.67 %\"], [\"-55.15 %\"], [\"23.73 %\"], [\"201.58 %\"], [\"-53.60 %\"], [\"-56.70 %\"], [\"-59.79 %\"], [\"-56.70 %\"], [\"-30.40 %\"], [\"-15.84 %\"], [\"-35.26 %\"], [\"-35.26 %\"], [\"-18.41 %\"]], \"hovertemplate\": \"<b>%{hovertext}</b><br><br>Place=Tooting<br>latitude=%{lat}<br>longitude=%{lon}<br>Price difference=%{customdata[0]}<extra></extra>\", \"hovertext\": [\"Tooting\", \"Tooting\", \"Tooting\", \"Tooting\", \"Tooting\", \"Tooting\", \"Tooting\", \"Tooting\", \"Tooting\", \"Tooting\", \"Tooting\", \"Tooting\", \"Tooting\", \"Tooting\", \"Tooting\", \"Tooting\", \"Tooting\", \"Tooting\", \"Tooting\", \"Tooting\", \"Tooting\", \"Tooting\", \"Tooting\", \"Tooting\", \"Tooting\", \"Tooting\", \"Tooting\", \"Tooting\", \"Tooting\", \"Tooting\", \"Tooting\", \"Tooting\", \"Tooting\", \"Tooting\", \"Tooting\", \"Tooting\", \"Tooting\", \"Tooting\", \"Tooting\", \"Tooting\", \"Tooting\", \"Tooting\", \"Tooting\", \"Tooting\", \"Tooting\", \"Tooting\", \"Tooting\", \"Tooting\", \"Tooting\", \"Tooting\", \"Tooting\", \"Tooting\", \"Tooting\", \"Tooting\", \"Tooting\", \"Tooting\", \"Tooting\", \"Tooting\", \"Tooting\", \"Tooting\", \"Tooting\", \"Tooting\", \"Tooting\", \"Tooting\", \"Tooting\", \"Tooting\", \"Tooting\", \"Tooting\", \"Tooting\", \"Tooting\", \"Tooting\", \"Tooting\", \"Tooting\", \"Tooting\", \"Tooting\", \"Tooting\", \"Tooting\", \"Tooting\", \"Tooting\", \"Tooting\", \"Tooting\", \"Tooting\", \"Tooting\", \"Tooting\", \"Tooting\", \"Tooting\", \"Tooting\", \"Tooting\", \"Tooting\", \"Tooting\", \"Tooting\", \"Tooting\", \"Tooting\", \"Tooting\", \"Tooting\", \"Tooting\", \"Tooting\", \"Tooting\", \"Tooting\", \"Tooting\", \"Tooting\", \"Tooting\", \"Tooting\", \"Tooting\", \"Tooting\", \"Tooting\", \"Tooting\", \"Tooting\", \"Tooting\", \"Tooting\", \"Tooting\", \"Tooting\", \"Tooting\", \"Tooting\", \"Tooting\", \"Tooting\", \"Tooting\", \"Tooting\", \"Tooting\", \"Tooting\", \"Tooting\", \"Tooting\", \"Tooting\", \"Tooting\", \"Tooting\", \"Tooting\", \"Tooting\", \"Tooting\", \"Tooting\", \"Tooting\", \"Tooting\", \"Tooting\", \"Tooting\", \"Tooting\", \"Tooting\", \"Tooting\", \"Tooting\", \"Tooting\", \"Tooting\", \"Tooting\", \"Tooting\", \"Tooting\", \"Tooting\", \"Tooting\", \"Tooting\", \"Tooting\", \"Tooting\", \"Tooting\", \"Tooting\"], \"lat\": [51.43027, 51.44078, 51.445159999999994, 51.44028, 51.42233, 51.43422, 51.43815, 51.44192, 51.43418, 51.43371, 51.42749, 51.43466, 51.43943, 51.42385, 51.43418, 51.43639, 51.44637, 51.44546, 51.444520000000004, 51.4415, 51.445809999999994, 51.41985, 51.42242, 51.42094, 51.418929999999996, 51.41349, 51.430170000000004, 51.421009999999995, 51.423390000000005, 51.41257, 51.41186, 51.417629999999996, 51.42191, 51.40462, 51.416740000000004, 51.410790000000006, 51.42087, 51.4178, 51.41826, 51.41592, 51.41547, 51.42233, 51.436659999999996, 51.44474, 51.42273, 51.432559999999995, 51.437490000000004, 51.43695, 51.4341, 51.4184, 51.45244, 51.42837, 51.43119, 51.43277, 51.435959999999994, 51.43275, 51.45436, 51.428909999999995, 51.422540000000005, 51.43188, 51.42118, 51.43453, 51.43631, 51.44787, 51.436009999999996, 51.44008, 51.42972, 51.431979999999996, 51.42522, 51.42512, 51.43857, 51.43568, 51.425779999999996, 51.419290000000004, 51.44665, 51.422959999999996, 51.43027, 51.42556, 51.42289, 51.44742, 51.439659999999996, 51.434909999999995, 51.43414, 51.44625, 51.42784, 51.43265, 51.42555, 51.42475, 51.43137, 51.42794, 51.44362, 51.42362, 51.43723, 51.43155, 51.42095, 51.442609999999995, 51.44125, 51.44166, 51.43678, 51.42695, 51.43645, 51.420559999999995, 51.42842, 51.429990000000004, 51.42633, 51.447590000000005, 51.424440000000004, 51.42756, 51.427240000000005, 51.419090000000004, 51.441720000000004, 51.4303, 51.4376, 51.42172, 51.42273, 51.4207, 51.42324, 51.43456, 51.4375, 51.434259999999995, 51.429359999999996, 51.441359999999996, 51.41993, 51.45732, 51.42485, 51.42528, 51.43699, 51.4275, 51.42368, 51.42822, 51.42778, 51.431709999999995, 51.42665, 51.425709999999995, 51.4286, 51.42389, 51.44137, 51.426629999999996, 51.43172, 51.438140000000004, 51.43332, 51.42638, 51.42937, 51.42825, 51.431509999999996, 51.42131, 51.42087, 51.41755, 51.42053], \"legendgroup\": \"Tooting\", \"lon\": [-0.12880999999999998, -0.12775999999999998, -0.13269, -0.12927, -0.13051, -0.13447, -0.127, -0.12994, -0.13001, -0.1309, -0.13369, -0.1286, -0.13175, -0.10898, -0.13294, -0.12653, -0.13921, -0.14545, -0.14494, -0.12377, -0.14505, -0.17552, -0.17240999999999998, -0.1777, -0.16948, -0.17595, -0.19405, -0.17577, -0.17603, -0.15698, -0.13859000000000002, -0.18569000000000002, -0.1788, -0.14221, -0.17246, -0.15983, -0.17304, -0.14970999999999998, -0.1874, -0.1698, -0.17007, -0.17355, -0.15302000000000002, -0.15108, -0.15874000000000002, -0.16451, -0.14438, -0.15679, -0.18731, -0.14583, -0.17552, -0.15700999999999998, -0.1639, -0.18245999999999998, -0.17627, -0.18222, -0.19243, -0.16764, -0.13921, -0.15500999999999998, -0.16351, -0.15675999999999998, -0.18692999999999999, -0.18353, -0.11744, -0.13599, -0.12716, -0.13176, -0.12989, -0.13049000000000002, -0.12772999999999998, -0.13373, -0.15446, -0.14649, -0.17786, -0.16680999999999999, -0.15574000000000002, -0.17407, -0.17237, -0.14679, -0.14702, -0.16791, -0.15636, -0.18550999999999998, -0.16565, -0.15748, -0.16452999999999998, -0.16977, -0.15758, -0.15112, -0.15836, -0.14456, -0.15663, -0.14981, -0.15285, -0.15547, -0.14448, -0.14037, -0.18015, -0.14595, -0.16655999999999999, -0.13896, -0.15072, -0.17355, -0.1483, -0.15919, -0.15705, -0.15272, -0.1623, -0.14184000000000002, -0.15225, -0.17495, -0.16332, -0.1658, -0.16403, -0.14448, -0.16179000000000002, -0.15155, -0.15173, -0.17060999999999998, -0.14095, -0.16677999999999998, -0.14306, -0.19282, -0.17054, -0.16326, -0.15730999999999998, -0.15939, -0.14059000000000002, -0.17927, -0.1628, -0.16264, -0.14675, -0.15586, -0.17782, -0.15529, -0.18758, -0.16882, -0.16218, -0.16407, -0.1563, -0.16171, -0.14415, -0.16806, -0.15145, -0.1741, -0.17962, -0.17958, -0.17427], \"marker\": {\"color\": \"#ab63fa\"}, \"mode\": \"markers\", \"name\": \"Tooting\", \"showlegend\": true, \"subplot\": \"mapbox\", \"type\": \"scattermapbox\"}, {\"customdata\": [[\"-10.57 %\"], [\"-53.97 %\"], [\"-39.50 %\"], [\"-44.76 %\"], [\"-0.04 %\"], [\"-63.17 %\"], [\"-28.98 %\"], [\"-17.14 %\"], [\"-53.97 %\"], [\"-36.87 %\"], [\"-48.71 %\"], [\"-34.24 %\"], [\"-26.35 %\"], [\"-76.33 %\"], [\"-7.94 %\"], [\"-43.45 %\"], [\"-53.97 %\"], [\"-50.02 %\"], [\"-60.54 %\"], [\"-53.97 %\"], [\"-47.39 %\"], [\"-47.39 %\"], [\"-52.65 %\"], [\"-44.76 %\"], [\"-34.24 %\"], [\"-36.87 %\"], [\"-53.97 %\"], [\"49.93 %\"], [\"-63.17 %\"], [\"-53.97 %\"], [\"-56.60 %\"], [\"-47.39 %\"], [\"5.22 %\"], [\"-52.65 %\"], [\"-47.39 %\"], [\"-32.92 %\"], [\"-47.39 %\"], [\"-47.39 %\"], [\"-44.76 %\"], [\"-59.23 %\"], [\"-7.94 %\"], [\"-36.87 %\"], [\"-47.39 %\"], [\"-50.02 %\"], [\"-26.35 %\"], [\"-47.39 %\"], [\"17.05 %\"], [\"-39.50 %\"], [\"-53.97 %\"], [\"-50.02 %\"], [\"7.85 %\"], [\"-31.61 %\"], [\"-68.44 %\"], [\"-40.82 %\"], [\"-35.55 %\"], [\"-53.97 %\"], [\"-21.09 %\"], [\"-53.97 %\"], [\"-9.73 %\"], [\"59.31 %\"], [\"-45.84 %\"], [\"-15.04 %\"], [\"-25.66 %\"], [\"-23.53 %\"], [\"-9.73 %\"], [\"-13.97 %\"], [\"54.00 %\"], [\"-9.73 %\"], [\"-57.52 %\"], [\"-4.42 %\"], [\"-47.96 %\"], [\"-4.42 %\"], [\"-30.97 %\"], [\"-25.66 %\"], [\"-41.59 %\"], [\"-62.83 %\"], [\"0.89 %\"], [\"0.89 %\"], [\"-18.22 %\"], [\"-25.66 %\"], [\"48.69 %\"], [\"16.83 %\"], [\"-42.54 %\"], [\"-12.94 %\"], [\"-16.42 %\"], [\"-56.47 %\"], [\"-2.49 %\"], [\"-47.76 %\"], [\"4.47 %\"], [\"4.47 %\"], [\"4.47 %\"], [\"-25.13 %\"], [\"25.37 %\"], [\"53.23 %\"], [\"-4.23 %\"], [\"-21.65 %\"], [\"-26.87 %\"], [\"-4.23 %\"], [\"-39.06 %\"], [\"-39.06 %\"], [\"-37.94 %\"], [\"-2.32 %\"], [\"3.43 %\"], [\"-44.84 %\"], [\"3.43 %\"], [\"-34.50 %\"], [\"72.38 %\"], [\"-8.06 %\"], [\"-29.90 %\"], [\"-33.35 %\"], [\"-2.32 %\"], [\"65.71 %\"], [\"12.98 %\"], [\"-22.12 %\"], [\"75.23 %\"], [\"-2.65 %\"], [\"-39.64 %\"]], \"hovertemplate\": \"<b>%{hovertext}</b><br><br>Place=Camberwell<br>latitude=%{lat}<br>longitude=%{lon}<br>Price difference=%{customdata[0]}<extra></extra>\", \"hovertext\": [\"Camberwell\", \"Camberwell\", \"Camberwell\", \"Camberwell\", \"Camberwell\", \"Camberwell\", \"Camberwell\", \"Camberwell\", \"Camberwell\", \"Camberwell\", \"Camberwell\", \"Camberwell\", \"Camberwell\", \"Camberwell\", \"Camberwell\", \"Camberwell\", \"Camberwell\", \"Camberwell\", \"Camberwell\", \"Camberwell\", \"Camberwell\", \"Camberwell\", \"Camberwell\", \"Camberwell\", \"Camberwell\", \"Camberwell\", \"Camberwell\", \"Camberwell\", \"Camberwell\", \"Camberwell\", \"Camberwell\", \"Camberwell\", \"Camberwell\", \"Camberwell\", \"Camberwell\", \"Camberwell\", \"Camberwell\", \"Camberwell\", \"Camberwell\", \"Camberwell\", \"Camberwell\", \"Camberwell\", \"Camberwell\", \"Camberwell\", \"Camberwell\", \"Camberwell\", \"Camberwell\", \"Camberwell\", \"Camberwell\", \"Camberwell\", \"Camberwell\", \"Camberwell\", \"Camberwell\", \"Camberwell\", \"Camberwell\", \"Camberwell\", \"Camberwell\", \"Camberwell\", \"Camberwell\", \"Camberwell\", \"Camberwell\", \"Camberwell\", \"Camberwell\", \"Camberwell\", \"Camberwell\", \"Camberwell\", \"Camberwell\", \"Camberwell\", \"Camberwell\", \"Camberwell\", \"Camberwell\", \"Camberwell\", \"Camberwell\", \"Camberwell\", \"Camberwell\", \"Camberwell\", \"Camberwell\", \"Camberwell\", \"Camberwell\", \"Camberwell\", \"Camberwell\", \"Camberwell\", \"Camberwell\", \"Camberwell\", \"Camberwell\", \"Camberwell\", \"Camberwell\", \"Camberwell\", \"Camberwell\", \"Camberwell\", \"Camberwell\", \"Camberwell\", \"Camberwell\", \"Camberwell\", \"Camberwell\", \"Camberwell\", \"Camberwell\", \"Camberwell\", \"Camberwell\", \"Camberwell\", \"Camberwell\", \"Camberwell\", \"Camberwell\", \"Camberwell\", \"Camberwell\", \"Camberwell\", \"Camberwell\", \"Camberwell\", \"Camberwell\", \"Camberwell\", \"Camberwell\", \"Camberwell\", \"Camberwell\", \"Camberwell\", \"Camberwell\", \"Camberwell\", \"Camberwell\"], \"lat\": [51.46452, 51.470890000000004, 51.47835, 51.47588, 51.46241, 51.47925, 51.461690000000004, 51.47271, 51.47511, 51.46986, 51.478770000000004, 51.4642, 51.476259999999996, 51.47418, 51.4813, 51.474270000000004, 51.48229, 51.48072, 51.47735, 51.47948, 51.482859999999995, 51.482479999999995, 51.47732, 51.47927, 51.47915, 51.48064, 51.48874, 51.48151, 51.4751, 51.473890000000004, 51.4757, 51.47724, 51.46755, 51.47896, 51.47047, 51.48087, 51.482490000000006, 51.47822, 51.47995, 51.47432, 51.45848, 51.46778, 51.47465, 51.47927, 51.48529, 51.46093, 51.482690000000005, 51.45836, 51.47267, 51.478840000000005, 51.47793, 51.478429999999996, 51.47377, 51.480470000000004, 51.480059999999995, 51.47722, 51.47558, 51.4767, 51.470040000000004, 51.47187, 51.47657, 51.46541, 51.4824, 51.4753, 51.479729999999996, 51.46703, 51.49341, 51.48718, 51.47715, 51.46637, 51.48185, 51.479459999999996, 51.482240000000004, 51.480109999999996, 51.452459999999995, 51.48045, 51.46671, 51.46801, 51.47551, 51.47144, 51.47395, 51.47203, 51.46861, 51.46045, 51.46455, 51.46695, 51.46877, 51.477740000000004, 51.477740000000004, 51.4577, 51.457409999999996, 51.47262, 51.46898, 51.47113, 51.468920000000004, 51.46797, 51.47854, 51.457409999999996, 51.47017, 51.47075, 51.47567, 51.47182, 51.477740000000004, 51.47677, 51.468109999999996, 51.47448, 51.46881, 51.47464, 51.471270000000004, 51.468959999999996, 51.46484, 51.46536, 51.472840000000005, 51.44109, 51.46799, 51.46995, 51.47822], \"legendgroup\": \"Camberwell\", \"lon\": [-0.0797, -0.08345, -0.08972999999999999, -0.09857, -0.05875, -0.06188, -0.058570000000000004, -0.0974, -0.08578, -0.09177, -0.08824, -0.08269, -0.0877, -0.08185, -0.09052, -0.09857, -0.10094, -0.08105, -0.0747, -0.08534, -0.09432, -0.09537999999999999, -0.09692, -0.09194, -0.08897000000000001, -0.10578, -0.08915, -0.09229, -0.0943, -0.09181, -0.09082, -0.08995, -0.07979, -0.09742999999999999, -0.07486, -0.08438, -0.09427, -0.08852, -0.10620999999999998, -0.09312999999999999, -0.08822999999999999, -0.07589, -0.09419, -0.06648, -0.07303, -0.08942, -0.09179, -0.05196, -0.09264, -0.07887999999999999, -0.0932, -0.09623, -0.09581, -0.0861, -0.09106, -0.07395, -0.08789, -0.09986, -0.08394, -0.08377000000000001, -0.09757, -0.08213999999999999, -0.10173, -0.09127, -0.08914, -0.08261, -0.09219, -0.08772, -0.08512, -0.0689, -0.09616, -0.08876, -0.08014, -0.09395, -0.05881, -0.08651, -0.07937000000000001, -0.07341, -0.09707, -0.08391, -0.07864, -0.0764, -0.09912, -0.09376, -0.09895, -0.10009, -0.10052, -0.10404000000000001, -0.1047, -0.09955, -0.09982, -0.10049, -0.09679, -0.10369, -0.0989, -0.1009, -0.11756, -0.11102999999999999, -0.09684, -0.10226, -0.10522000000000001, -0.10639000000000001, -0.11569000000000002, -0.10049, -0.10361, -0.10785, -0.09667, -0.1011, -0.11132, -0.09694, -0.10329, -0.040119999999999996, -0.03635, -0.05861, -0.03178, -0.04237, -0.0454], \"marker\": {\"color\": \"#FFA15A\"}, \"mode\": \"markers\", \"name\": \"Camberwell\", \"showlegend\": true, \"subplot\": \"mapbox\", \"type\": \"scattermapbox\"}, {\"customdata\": [[\"-47.27 %\"], [\"-39.74 %\"], [\"-43.54 %\"], [\"-59.11 %\"], [\"16.82 %\"], [\"16.82 %\"], [\"16.82 %\"], [\"-24.06 %\"], [\"-22.12 %\"], [\"-41.59 %\"], [\"-41.59 %\"], [\"-49.38 %\"], [\"-37.69 %\"], [\"-45.48 %\"], [\"-22.12 %\"], [\"-2.65 %\"], [\"-22.12 %\"], [\"-6.54 %\"], [\"-22.12 %\"], [\"-61.06 %\"], [\"-61.06 %\"], [\"-22.12 %\"], [\"-45.48 %\"], [\"-0.70 %\"]], \"hovertemplate\": \"<b>%{hovertext}</b><br><br>Place=Catford<br>latitude=%{lat}<br>longitude=%{lon}<br>Price difference=%{customdata[0]}<extra></extra>\", \"hovertext\": [\"Catford\", \"Catford\", \"Catford\", \"Catford\", \"Catford\", \"Catford\", \"Catford\", \"Catford\", \"Catford\", \"Catford\", \"Catford\", \"Catford\", \"Catford\", \"Catford\", \"Catford\", \"Catford\", \"Catford\", \"Catford\", \"Catford\", \"Catford\", \"Catford\", \"Catford\", \"Catford\", \"Catford\"], \"lat\": [51.445479999999996, 51.44713, 51.43872, 51.43865, 51.449870000000004, 51.4506, 51.44266, 51.45135, 51.438829999999996, 51.450359999999996, 51.44572, 51.4438, 51.44085, 51.44312, 51.445040000000006, 51.440670000000004, 51.44623, 51.44471, 51.44408, 51.43047, 51.44288, 51.438990000000004, 51.443000000000005, 51.44177], \"legendgroup\": \"Catford\", \"lon\": [-0.00473, -0.02384, 0.00515, -0.022369999999999998, -0.029960000000000004, -0.0287, -0.00473, -0.01457, -0.021230000000000002, -0.02559, -0.013590000000000001, -0.032560000000000006, 0.00451, -0.00527, -0.03252, -0.0055, -0.03092, -0.012759999999999999, -0.02634, 0.02992, -0.038860000000000006, -0.03065, -0.03211, 0.00149], \"marker\": {\"color\": \"#19d3f3\"}, \"mode\": \"markers\", \"name\": \"Catford\", \"showlegend\": true, \"subplot\": \"mapbox\", \"type\": \"scattermapbox\"}, {\"customdata\": [[\"-5.50 %\"], [\"63.07 %\"], [\"8.71 %\"], [\"-49.82 %\"], [\"-8.01 %\"], [\"-49.82 %\"], [\"-8.85 %\"], [\"17.08 %\"], [\"25.44 %\"], [\"-33.10 %\"], [\"8.71 %\"], [\"-6.34 %\"], [\"33.80 %\"], [\"-24.74 %\"], [\"-54.01 %\"], [\"7.88 %\"], [\"8.71 %\"], [\"-28.92 %\"], [\"4.53 %\"], [\"-73.24 %\"], [\"-8.85 %\"], [\"25.44 %\"], [\"51.36 %\"], [\"-24.74 %\"], [\"-16.37 %\"], [\"67.25 %\"], [\"20.42 %\"], [\"24.60 %\"], [\"-24.74 %\"], [\"0.35 %\"], [\"87.32 %\"], [\"67.25 %\"], [\"-34.77 %\"], [\"-16.37 %\"], [\"-37.28 %\"], [\"0.35 %\"], [\"-33.10 %\"], [\"-3.83 %\"], [\"-19.72 %\"], [\"-43.97 %\"], [\"53.04 %\"], [\"50.53 %\"], [\"-12.19 %\"], [\"7.04 %\"], [\"-8.01 %\"], [\"-20.55 %\"], [\"8.71 %\"], [\"25.44 %\"], [\"-30.59 %\"], [\"25.44 %\"], [\"-8.01 %\"], [\"-41.46 %\"], [\"17.08 %\"], [\"63.07 %\"], [\"-45.64 %\"], [\"-34.77 %\"], [\"-38.12 %\"], [\"-46.48 %\"], [\"-72.40 %\"], [\"-69.89 %\"], [\"-28.08 %\"], [\"-13.86 %\"], [\"94.85 %\"], [\"67.25 %\"], [\"112.41 %\"], [\"-59.02 %\"], [\"-54.84 %\"], [\"-51.50 %\"], [\"-74.91 %\"], [\"4.53 %\"], [\"-41.46 %\"], [\"-72.40 %\"], [\"-63.20 %\"], [\"871.74 %\"], [\"-38.12 %\"], [\"-41.46 %\"], [\"-72.40 %\"], [\"24.60 %\"], [\"21.26 %\"], [\"-48.15 %\"], [\"-79.09 %\"], [\"-63.20 %\"], [\"-58.19 %\"], [\"4.53 %\"], [\"-34.77 %\"], [\"-62.37 %\"], [\"-52.33 %\"], [\"-45.64 %\"], [\"17.08 %\"], [\"-42.30 %\"], [\"2.86 %\"], [\"-51.50 %\"], [\"-60.70 %\"], [\"-24.74 %\"], [\"-24.74 %\"], [\"-67.39 %\"], [\"-51.50 %\"], [\"-61.53 %\"], [\"-38.95 %\"], [\"-70.73 %\"], [\"22.93 %\"], [\"-45.64 %\"], [\"2.86 %\"], [\"46.35 %\"], [\"46.35 %\"], [\"117.43 %\"], [\"-45.64 %\"], [\"-57.35 %\"], [\"-54.84 %\"], [\"8.71 %\"], [\"-67.39 %\"], [\"-53.17 %\"], [\"6.21 %\"], [\"-36.16 %\"], [\"-21.83 %\"], [\"-28.35 %\"], [\"-42.68 %\"], [\"-51.80 %\"], [\"-41.37 %\"], [\"-45.28 %\"], [\"-28.35 %\"], [\"-47.89 %\"], [\"17.25 %\"], [\"-45.28 %\"], [\"-8.80 %\"], [\"17.25 %\"], [\"-2.29 %\"], [\"-50.49 %\"], [\"-34.86 %\"], [\"-28.35 %\"], [\"17.25 %\"], [\"-47.89 %\"], [\"17.22 %\"], [\"-12.09 %\"], [\"-8.57 %\"], [\"6.67 %\"], [\"-20.29 %\"], [\"106.30 %\"], [\"5.50 %\"], [\"190.43 %\"], [\"45.21 %\"], [\"18.69 %\"], [\"27.16 %\"], [\"4.91 %\"], [\"11.27 %\"], [\"-25.82 %\"], [\"-15.22 %\"], [\"-31.12 %\"], [\"-9.93 %\"], [\"-36.42 %\"], [\"0.67 %\"], [\"5.97 %\"], [\"-15.22 %\"], [\"21.87 %\"], [\"-5.69 %\"], [\"32.46 %\"], [\"-46.24 %\"], [\"-50.63 %\"], [\"-23.21 %\"], [\"5.32 %\"], [\"73.33 %\"], [\"-7.85 %\"], [\"38.23 %\"], [\"-50.63 %\"], [\"-45.15 %\"], [\"-28.69 %\"], [\"-23.21 %\"], [\"31.65 %\"], [\"-58.31 %\"], [\"-38.57 %\"], [\"31.65 %\"], [\"-21.01 %\"], [\"-35.27 %\"], [\"-46.24 %\"], [\"-55.02 %\"], [\"-1.27 %\"], [\"-24.30 %\"], [\"-22.11 %\"], [\"-35.27 %\"], [\"-45.15 %\"], [\"-25.40 %\"], [\"-50.63 %\"], [\"-48.44 %\"], [\"-10.04 %\"], [\"-39.66 %\"], [\"31.65 %\"], [\"-23.21 %\"], [\"-45.15 %\"], [\"-34.18 %\"], [\"-25.40 %\"], [\"-17.72 %\"], [\"-45.15 %\"], [\"-45.15 %\"], [\"-40.76 %\"], [\"-63.80 %\"], [\"-45.15 %\"], [\"-8.94 %\"], [\"-45.15 %\"], [\"-1.27 %\"], [\"-61.60 %\"], [\"-1.27 %\"], [\"-45.15 %\"], [\"-60.51 %\"], [\"119.41 %\"], [\"-28.69 %\"], [\"-2.36 %\"], [\"-23.21 %\"], [\"-56.12 %\"], [\"-7.85 %\"], [\"-23.21 %\"], [\"-28.69 %\"], [\"-12.24 %\"], [\"-31.98 %\"], [\"-67.09 %\"], [\"-67.09 %\"], [\"-34.18 %\"], [\"-61.60 %\"], [\"-47.34 %\"], [\"32.84 %\"], [\"-15.27 %\"], [\"-36.38 %\"], [\"103.19 %\"], [\"-8.56 %\"], [\"-40.73 %\"], [\"-15.34 %\"], [\"-15.34 %\"], [\"-40.73 %\"], [\"52.40 %\"], [\"-35.65 %\"], [\"1.60 %\"], [\"8.37 %\"], [\"16.84 %\"], [\"-6.87 %\"], [\"-28.88 %\"], [\"-22.11 %\"], [\"-6.87 %\"], [\"-18.72 %\"], [\"-35.65 %\"], [\"33.77 %\"], [\"-11.95 %\"], [\"6.68 %\"], [\"8.37 %\"], [\"-25.50 %\"], [\"35.46 %\"], [\"-10.26 %\"], [\"11.76 %\"], [\"-35.65 %\"], [\"-11.95 %\"], [\"-23.80 %\"], [\"-0.10 %\"], [\"-17.03 %\"], [\"-15.34 %\"], [\"-32.27 %\"], [\"-47.51 %\"], [\"15.14 %\"], [\"-50.89 %\"], [\"1.60 %\"], [\"-47.51 %\"], [\"-57.67 %\"], [\"-40.73 %\"], [\"-28.81 %\"], [\"117.53 %\"], [\"167.84 %\"], [\"-25.74 %\"], [\"-8.69 %\"], [\"-2.60 %\"], [\"-39.13 %\"], [\"-2.60 %\"], [\"3.48 %\"], [\"-37.91 %\"], [\"-22.08 %\"], [\"15.66 %\"], [\"-51.30 %\"], [\"3.48 %\"], [\"-56.17 %\"], [\"3.48 %\"], [\"50.96 %\"], [\"-14.78 %\"], [\"-48.87 %\"], [\"-16.00 %\"], [\"119.14 %\"], [\"-2.60 %\"], [\"-34.26 %\"], [\"24.18 %\"], [\"-12.34 %\"], [\"-7.47 %\"], [\"-8.69 %\"], [\"-20.87 %\"], [\"-53.74 %\"], [\"21.74 %\"], [\"5.92 %\"], [\"-25.74 %\"], [\"-17.21 %\"], [\"-11.13 %\"], [\"-9.91 %\"], [\"-40.35 %\"], [\"7.14 %\"], [\"-12.34 %\"], [\"-16.00 %\"], [\"-12.34 %\"], [\"19.31 %\"], [\"-14.78 %\"], [\"82.62 %\"], [\"-14.78 %\"], [\"-29.39 %\"], [\"-19.65 %\"], [\"-40.35 %\"], [\"-13.56 %\"], [\"-20.87 %\"], [\"33.92 %\"], [\"-39.13 %\"], [\"-39.13 %\"], [\"16.87 %\"], [\"-2.60 %\"], [\"27.83 %\"], [\"-14.78 %\"], [\"-46.43 %\"], [\"3.48 %\"], [\"-28.17 %\"], [\"-2.60 %\"], [\"-8.69 %\"], [\"-33.04 %\"], [\"82.62 %\"], [\"-13.56 %\"], [\"-14.78 %\"], [\"-2.60 %\"], [\"-39.13 %\"], [\"-42.78 %\"], [\"-41.56 %\"], [\"-72.00 %\"], [\"-2.60 %\"], [\"-63.48 %\"], [\"-63.48 %\"], [\"-39.13 %\"], [\"-38.99 %\"], [\"-30.67 %\"], [\"-31.37 %\"], [\"-44.54 %\"], [\"-31.37 %\"], [\"22.01 %\"], [\"-23.74 %\"], [\"1.91 %\"], [\"-16.81 %\"], [\"15.77 %\"], [\"-58.40 %\"], [\"-51.47 %\"], [\"-30.67 %\"], [\"-31.37 %\"], [\"65.00 %\"], [\"-23.74 %\"], [\"-41.07 %\"], [\"-31.37 %\"], [\"-61.87 %\"], [\"-65.34 %\"], [\"-29.98 %\"], [\"-32.75 %\"], [\"-30.67 %\"], [\"-36.22 %\"], [\"-34.14 %\"], [\"-51.47 %\"], [\"75.39 %\"], [\"17.85 %\"], [\"-41.07 %\"], [\"-44.54 %\"], [\"-48.70 %\"], [\"-55.63 %\"], [\"-34.14 %\"], [\"10.92 %\"], [\"-16.81 %\"], [\"-18.89 %\"], [\"-44.54 %\"], [\"-37.61 %\"], [\"-57.71 %\"], [\"-38.30 %\"], [\"28.95 %\"], [\"10.92 %\"], [\"-45.23 %\"], [\"10.92 %\"], [\"454.61 %\"], [\"-48.01 %\"], [\"-51.47 %\"], [\"24.79 %\"], [\"-65.34 %\"], [\"-68.80 %\"], [\"-23.74 %\"], [\"-35.53 %\"], [\"-16.81 %\"], [\"-9.88 %\"], [\"-30.67 %\"], [\"3.99 %\"], [\"-16.81 %\"], [\"-36.22 %\"], [\"0.52 %\"], [\"-57.02 %\"], [\"-37.61 %\"], [\"-45.23 %\"], [\"-51.47 %\"], [\"-10.30 %\"], [\"10.43 %\"], [\"55.90 %\"], [\"42.91 %\"], [\"42.91 %\"], [\"42.91 %\"], [\"-76.84 %\"]], \"hovertemplate\": \"<b>%{hovertext}</b><br><br>Place=Portobello<br>latitude=%{lat}<br>longitude=%{lon}<br>Price difference=%{customdata[0]}<extra></extra>\", \"hovertext\": [\"Portobello\", \"Portobello\", \"Portobello\", \"Portobello\", \"Portobello\", \"Portobello\", \"Portobello\", \"Portobello\", \"Portobello\", \"Portobello\", \"Portobello\", \"Portobello\", \"Portobello\", \"Portobello\", \"Portobello\", \"Portobello\", \"Portobello\", \"Portobello\", \"Portobello\", \"Portobello\", \"Portobello\", \"Portobello\", \"Portobello\", \"Portobello\", \"Portobello\", \"Portobello\", \"Portobello\", \"Portobello\", \"Portobello\", \"Portobello\", \"Portobello\", \"Portobello\", \"Portobello\", \"Portobello\", \"Portobello\", \"Portobello\", \"Portobello\", \"Portobello\", \"Portobello\", \"Portobello\", \"Portobello\", \"Portobello\", \"Portobello\", \"Portobello\", \"Portobello\", \"Portobello\", \"Portobello\", \"Portobello\", \"Portobello\", \"Portobello\", \"Portobello\", \"Portobello\", \"Portobello\", \"Portobello\", \"Portobello\", \"Portobello\", \"Portobello\", \"Portobello\", \"Portobello\", \"Portobello\", \"Portobello\", \"Portobello\", \"Portobello\", \"Portobello\", \"Portobello\", \"Portobello\", \"Portobello\", \"Portobello\", \"Portobello\", \"Portobello\", \"Portobello\", \"Portobello\", \"Portobello\", \"Portobello\", \"Portobello\", \"Portobello\", \"Portobello\", \"Portobello\", \"Portobello\", \"Portobello\", \"Portobello\", \"Portobello\", \"Portobello\", \"Portobello\", \"Portobello\", \"Portobello\", \"Portobello\", \"Portobello\", \"Portobello\", \"Portobello\", \"Portobello\", \"Portobello\", \"Portobello\", \"Portobello\", \"Portobello\", \"Portobello\", \"Portobello\", \"Portobello\", \"Portobello\", \"Portobello\", \"Portobello\", \"Portobello\", \"Portobello\", \"Portobello\", \"Portobello\", \"Portobello\", \"Portobello\", \"Portobello\", \"Portobello\", \"Portobello\", \"Portobello\", \"Portobello\", \"Portobello\", \"Portobello\", \"Portobello\", \"Portobello\", \"Portobello\", \"Portobello\", \"Portobello\", \"Portobello\", \"Portobello\", \"Portobello\", \"Portobello\", \"Portobello\", \"Portobello\", \"Portobello\", \"Portobello\", \"Portobello\", \"Portobello\", \"Portobello\", \"Portobello\", \"Portobello\", \"Portobello\", \"Portobello\", \"Portobello\", \"Portobello\", \"Portobello\", \"Portobello\", \"Portobello\", \"Portobello\", \"Portobello\", \"Portobello\", \"Portobello\", \"Portobello\", \"Portobello\", \"Portobello\", \"Portobello\", \"Portobello\", \"Portobello\", \"Portobello\", \"Portobello\", \"Portobello\", \"Portobello\", \"Portobello\", \"Portobello\", \"Portobello\", \"Portobello\", \"Portobello\", \"Portobello\", \"Portobello\", \"Portobello\", \"Portobello\", \"Portobello\", \"Portobello\", \"Portobello\", \"Portobello\", \"Portobello\", \"Portobello\", \"Portobello\", \"Portobello\", \"Portobello\", \"Portobello\", \"Portobello\", \"Portobello\", \"Portobello\", \"Portobello\", \"Portobello\", \"Portobello\", \"Portobello\", \"Portobello\", \"Portobello\", \"Portobello\", \"Portobello\", \"Portobello\", \"Portobello\", \"Portobello\", \"Portobello\", \"Portobello\", \"Portobello\", \"Portobello\", \"Portobello\", \"Portobello\", \"Portobello\", \"Portobello\", \"Portobello\", \"Portobello\", \"Portobello\", \"Portobello\", \"Portobello\", \"Portobello\", \"Portobello\", \"Portobello\", \"Portobello\", \"Portobello\", \"Portobello\", \"Portobello\", \"Portobello\", \"Portobello\", \"Portobello\", \"Portobello\", \"Portobello\", \"Portobello\", \"Portobello\", \"Portobello\", \"Portobello\", \"Portobello\", \"Portobello\", \"Portobello\", \"Portobello\", \"Portobello\", \"Portobello\", \"Portobello\", \"Portobello\", \"Portobello\", \"Portobello\", \"Portobello\", \"Portobello\", \"Portobello\", \"Portobello\", \"Portobello\", \"Portobello\", \"Portobello\", \"Portobello\", \"Portobello\", \"Portobello\", \"Portobello\", \"Portobello\", \"Portobello\", \"Portobello\", \"Portobello\", \"Portobello\", \"Portobello\", \"Portobello\", \"Portobello\", \"Portobello\", \"Portobello\", \"Portobello\", \"Portobello\", \"Portobello\", \"Portobello\", \"Portobello\", \"Portobello\", \"Portobello\", \"Portobello\", \"Portobello\", \"Portobello\", \"Portobello\", \"Portobello\", \"Portobello\", \"Portobello\", \"Portobello\", \"Portobello\", \"Portobello\", \"Portobello\", \"Portobello\", \"Portobello\", \"Portobello\", \"Portobello\", \"Portobello\", \"Portobello\", \"Portobello\", \"Portobello\", \"Portobello\", \"Portobello\", \"Portobello\", \"Portobello\", \"Portobello\", \"Portobello\", \"Portobello\", \"Portobello\", \"Portobello\", \"Portobello\", \"Portobello\", \"Portobello\", \"Portobello\", \"Portobello\", \"Portobello\", \"Portobello\", \"Portobello\", \"Portobello\", \"Portobello\", \"Portobello\", \"Portobello\", \"Portobello\", \"Portobello\", \"Portobello\", \"Portobello\", \"Portobello\", \"Portobello\", \"Portobello\", \"Portobello\", \"Portobello\", \"Portobello\", \"Portobello\", \"Portobello\", \"Portobello\", \"Portobello\", \"Portobello\", \"Portobello\", \"Portobello\", \"Portobello\", \"Portobello\", \"Portobello\", \"Portobello\", \"Portobello\", \"Portobello\", \"Portobello\", \"Portobello\", \"Portobello\", \"Portobello\", \"Portobello\", \"Portobello\", \"Portobello\", \"Portobello\", \"Portobello\", \"Portobello\", \"Portobello\", \"Portobello\", \"Portobello\", \"Portobello\", \"Portobello\", \"Portobello\", \"Portobello\", \"Portobello\", \"Portobello\", \"Portobello\", \"Portobello\", \"Portobello\", \"Portobello\", \"Portobello\", \"Portobello\", \"Portobello\", \"Portobello\", \"Portobello\", \"Portobello\", \"Portobello\", \"Portobello\", \"Portobello\", \"Portobello\", \"Portobello\", \"Portobello\", \"Portobello\", \"Portobello\", \"Portobello\", \"Portobello\", \"Portobello\", \"Portobello\", \"Portobello\", \"Portobello\", \"Portobello\", \"Portobello\", \"Portobello\", \"Portobello\", \"Portobello\", \"Portobello\", \"Portobello\", \"Portobello\", \"Portobello\", \"Portobello\", \"Portobello\", \"Portobello\", \"Portobello\", \"Portobello\", \"Portobello\", \"Portobello\", \"Portobello\", \"Portobello\", \"Portobello\", \"Portobello\", \"Portobello\", \"Portobello\", \"Portobello\", \"Portobello\", \"Portobello\", \"Portobello\", \"Portobello\", \"Portobello\", \"Portobello\", \"Portobello\", \"Portobello\", \"Portobello\", \"Portobello\", \"Portobello\", \"Portobello\", \"Portobello\", \"Portobello\", \"Portobello\", \"Portobello\", \"Portobello\", \"Portobello\", \"Portobello\", \"Portobello\", \"Portobello\", \"Portobello\"], \"lat\": [51.508, 51.515640000000005, 51.51885, 51.5185, 51.51789, 51.51786, 51.51702, 51.51299, 51.50683, 51.5166, 51.5155, 51.51975, 51.51267, 51.518159999999995, 51.510259999999995, 51.51287, 51.51164, 51.51891, 51.51838, 51.51747, 51.50799, 51.507529999999996, 51.50656, 51.51236, 51.52652, 51.5199, 51.515859999999996, 51.51461, 51.52296, 51.510020000000004, 51.52198, 51.51092, 51.50528, 51.51508, 51.51958, 51.52045, 51.521209999999996, 51.51733, 51.50707, 51.505759999999995, 51.50762, 51.508309999999994, 51.51763, 51.51758, 51.519870000000004, 51.5038, 51.51462, 51.518570000000004, 51.52149, 51.50493, 51.50864, 51.5123, 51.51757, 51.51429, 51.51709, 51.52069, 51.5055, 51.50543, 51.50611, 51.50561, 51.50858, 51.51852, 51.51487, 51.510909999999996, 51.51123, 51.50978, 51.5104, 51.50477, 51.523540000000004, 51.514379999999996, 51.50465, 51.50582, 51.50488, 51.50943, 51.50902, 51.504290000000005, 51.504059999999996, 51.50954, 51.51305, 51.504020000000004, 51.50569, 51.50484, 51.50445, 51.51753, 51.51068, 51.50975, 51.509840000000004, 51.5073, 51.51744, 51.51119, 51.50927, 51.50459, 51.50993, 51.51838, 51.52347, 51.50899999999999, 51.51582, 51.510709999999996, 51.5107, 51.51093, 51.51658, 51.50887, 51.51265, 51.50918, 51.50547, 51.516009999999994, 51.51631, 51.51086, 51.51097, 51.509190000000004, 51.51124, 51.51097, 51.492490000000004, 51.520990000000005, 51.50627, 51.49453, 51.53055, 51.51652, 51.50594, 51.504529999999995, 51.50099, 51.5187, 51.474709999999995, 51.50173, 51.50816, 51.47263, 51.4735, 51.50598, 51.49458, 51.475770000000004, 51.49581, 51.50546, 51.53033, 51.53197, 51.53496, 51.53074, 51.532740000000004, 51.53314, 51.54569, 51.52135, 51.539120000000004, 51.50067, 51.50145, 51.50072, 51.518879999999996, 51.49028, 51.504690000000004, 51.501999999999995, 51.50225, 51.50543, 51.50699, 51.502390000000005, 51.505359999999996, 51.50892, 51.50438, 51.50744, 51.528940000000006, 51.524359999999994, 51.52426, 51.51517, 51.51575, 51.5163, 51.51709, 51.52537, 51.52281, 51.52414, 51.5172, 51.52384, 51.52796, 51.5324, 51.51599, 51.52935, 51.52414, 51.52316, 51.52008, 51.51146, 51.52988, 51.51423, 51.52587, 51.52767, 51.52644, 51.51705, 51.51206, 51.53646, 51.51608, 51.51269, 51.51425, 51.52514, 51.526759999999996, 51.52633, 51.5158, 51.525929999999995, 51.52941, 51.52871, 51.52232, 51.5343, 51.51234, 51.52214, 51.513729999999995, 51.530570000000004, 51.51488, 51.53118, 51.52243, 51.5136, 51.52383, 51.51566, 51.525490000000005, 51.52604, 51.51625, 51.5244, 51.51978, 51.51218, 51.514540000000004, 51.52603, 51.5246, 51.524190000000004, 51.51478, 51.51195, 51.48271, 51.54865, 51.56351, 51.54376, 51.53949, 51.54607, 51.54602, 51.532309999999995, 51.54039, 51.5403, 51.53624, 51.534420000000004, 51.53881, 51.53009, 51.54319, 51.53399, 51.5475, 51.5336, 51.54828, 51.53518, 51.53001, 51.53541, 51.53399, 51.54824, 51.5287, 51.534459999999996, 51.53263, 51.53262, 51.5307, 51.532709999999994, 51.536559999999994, 51.53434, 51.52963, 51.53687, 51.534659999999995, 51.53575, 51.53022, 51.53583, 51.53037, 51.53382, 51.54508, 51.54398, 51.50034, 51.50663, 51.50899999999999, 51.51551, 51.50869, 51.5186, 51.519729999999996, 51.51605, 51.5184, 51.51708, 51.51941, 51.518390000000004, 51.52013, 51.518, 51.5092, 51.51466, 51.51858, 51.49173, 51.50156, 51.51672, 51.52042, 51.52, 51.52552, 51.51433, 51.50842, 51.51972, 51.51061, 51.5122, 51.52352, 51.50855, 51.49752, 51.52105, 51.515209999999996, 51.49852, 51.52267, 51.51917, 51.52274, 51.521409999999996, 51.51072, 51.515640000000005, 51.518640000000005, 51.52013, 51.51886, 51.524770000000004, 51.487429999999996, 51.51294, 51.51765, 51.4934, 51.4946, 51.5067, 51.51956, 51.50813, 51.51396, 51.5145, 51.52185, 51.51403, 51.51785, 51.51433, 51.51715, 51.51613, 51.516709999999996, 51.51936, 51.52258, 51.52084, 51.51408, 51.52584, 51.521409999999996, 51.516999999999996, 51.51624, 51.507979999999996, 51.51761, 51.52438, 51.52418, 51.51648, 51.51298, 51.5157, 51.52957, 51.5271, 51.51661, 51.516490000000005, 51.52887, 51.51086, 51.52882, 51.51856, 51.51573, 51.518370000000004, 51.51659, 51.51128, 51.517540000000004, 51.5204, 51.52887, 51.518190000000004, 51.52199, 51.51617, 51.51093, 51.5257, 51.5182, 51.517920000000004, 51.51632, 51.52848, 51.519090000000006, 51.51064, 51.5174, 51.52592, 51.52448, 51.51643, 51.52517, 51.51818, 51.51392, 51.51064, 51.53184, 51.526709999999994, 51.51728, 51.51461, 51.51948, 51.5174, 51.51885, 51.51317, 51.51627, 51.51254, 51.51466, 51.51648, 51.52382, 51.51659, 51.51636, 51.516020000000005, 51.52568, 51.51386, 51.51898, 51.515, 51.51894, 51.51918, 51.51565, 51.51597, 51.51345, 51.51529, 51.518159999999995, 51.466229999999996, 51.505720000000004, 51.50907, 51.50889, 51.50983, 51.51057, 51.51838], \"legendgroup\": \"Portobello\", \"lon\": [-0.19934000000000002, -0.20276, -0.21991, -0.2129, -0.20985, -0.21276, -0.20353, -0.19952999999999999, -0.19885, -0.21466999999999997, -0.20761999999999997, -0.20324, -0.21336999999999998, -0.20606, -0.19785999999999998, -0.20495, -0.19957, -0.20417000000000002, -0.21393, -0.20861, -0.20069, -0.19388, -0.21406999999999998, -0.19614, -0.21377, -0.2114, -0.20267000000000002, -0.21153000000000002, -0.20240999999999998, -0.21313000000000001, -0.20969000000000002, -0.20098, -0.19313, -0.21034, -0.21468, -0.2093, -0.21165, -0.21026, -0.19471, -0.19482, -0.20901, -0.19598, -0.20162, -0.2031, -0.21384, -0.2162, -0.20423, -0.22425, -0.20775, -0.19889, -0.20135, -0.21849000000000002, -0.20328, -0.20428, -0.21405, -0.21215, -0.19166, -0.19278, -0.19205999999999998, -0.19212, -0.20214000000000001, -0.20615999999999998, -0.20199, -0.19485999999999998, -0.19332, -0.19417, -0.19407, -0.19164, -0.22651, -0.20622, -0.19185, -0.19197999999999998, -0.19324000000000002, -0.19542, -0.19548, -0.19227, -0.19144, -0.21352, -0.20938, -0.19318, -0.19276, -0.1936, -0.19341, -0.21832, -0.19569, -0.19504000000000002, -0.19338, -0.19665, -0.20055, -0.19322, -0.19568, -0.19297999999999998, -0.19355999999999998, -0.21300999999999998, -0.22555999999999998, -0.19480999999999998, -0.20524, -0.19551, -0.19491, -0.19512000000000002, -0.21064000000000002, -0.19485999999999998, -0.20615999999999998, -0.20146, -0.21325999999999998, -0.20533, -0.20148, -0.19384, -0.1958, -0.19794, -0.19407, -0.19401, -0.15667999999999999, -0.22851999999999997, -0.21933000000000002, -0.20517, -0.23043000000000002, -0.22859000000000002, -0.23321, -0.23346, -0.21709, -0.22725, -0.19584000000000001, -0.21583000000000002, -0.23451, -0.20811999999999997, -0.20901999999999998, -0.23458, -0.20761, -0.19560999999999998, -0.20842, -0.2408, -0.21734, -0.21795, -0.22634, -0.22766999999999998, -0.23743000000000003, -0.20861999999999997, -0.21568, -0.1087, -0.15389, -0.23288000000000003, -0.21556999999999998, -0.22021, -0.22596, -0.24436999999999998, -0.21899999999999997, -0.21658000000000002, -0.21983000000000003, -0.22853, -0.22684, -0.23359000000000002, -0.22134, -0.22554000000000002, -0.22882, -0.22593000000000002, -0.21266999999999997, -0.19924, -0.19809000000000002, -0.19103, -0.19929000000000002, -0.18711, -0.19528, -0.19729000000000002, -0.19669, -0.1955, -0.18098, -0.19516, -0.20235999999999998, -0.1898, -0.19332, -0.2035, -0.20377, -0.19404000000000002, -0.19918, -0.18857000000000002, -0.2051, -0.1845, -0.19809000000000002, -0.19924, -0.20606999999999998, -0.19155999999999998, -0.19261, -0.18348, -0.19042, -0.17959, -0.18749000000000002, -0.2031, -0.20615, -0.19322, -0.18752, -0.20069, -0.1995, -0.18632, -0.19783, -0.19105999999999998, -0.18953, -0.17719000000000001, -0.18865, -0.20240999999999998, -0.18133, -0.20392000000000002, -0.1915, -0.19022, -0.20084000000000002, -0.19082000000000002, -0.19353, -0.20088, -0.18965, -0.18044000000000002, -0.20234000000000002, -0.1928, -0.1884, -0.20323, -0.20449, -0.20315999999999998, -0.18767, -0.18736, -0.14912999999999998, -0.20542, -0.10436, -0.20845, -0.20081, -0.22875, -0.2293, -0.21861999999999998, -0.20207, -0.2233, -0.19684000000000001, -0.22896, -0.19956, -0.22421, -0.25606, -0.23383, -0.2259, -0.21486, -0.2225, -0.2301, -0.22211, -0.23023000000000002, -0.21935, -0.21334, -0.19614, -0.20228, -0.21948, -0.23528000000000002, -0.19551, -0.21148000000000003, -0.23823000000000003, -0.21581999999999998, -0.21918, -0.22182, -0.21, -0.23021999999999998, -0.1945, -0.23224, -0.21918, -0.23174, -0.2552, -0.24645999999999998, -0.26514, -0.24750999999999998, -0.19948, -0.2146, -0.19608, -0.21016999999999997, -0.21015, -0.21008000000000002, -0.20581, -0.21093, -0.21075, -0.20940999999999999, -0.21734, -0.22425, -0.19629000000000002, -0.20685, -0.22258000000000003, -0.18927, -0.21241, -0.2137, -0.21022, -0.22296999999999997, -0.21381, -0.203, -0.2003, -0.21029, -0.19359, -0.20864000000000002, -0.21069000000000002, -0.20084000000000002, -0.19863, -0.20988, -0.21013, -0.19722, -0.21584, -0.21436999999999998, -0.22186999999999998, -0.20854, -0.2113, -0.21056999999999998, -0.20833000000000002, -0.21155, -0.21625, -0.21135, -0.18985, -0.2148, -0.21618, -0.17868, -0.18842, -0.20781999999999998, -0.21795, -0.19325, -0.20754, -0.21385, -0.21474000000000001, -0.20399, -0.21255, -0.20686, -0.21821999999999997, -0.20432999999999998, -0.20135, -0.20668000000000003, -0.20268, -0.21031999999999998, -0.20426, -0.22613000000000003, -0.21924000000000002, -0.22055999999999998, -0.21599000000000002, -0.21475, -0.21741, -0.20505, -0.20495, -0.20014, -0.19294, -0.1893, -0.21274, -0.19815, -0.19494, -0.19496, -0.20486, -0.18514, -0.2009, -0.19635, -0.19841, -0.20163, -0.19537000000000002, -0.18958, -0.19747, -0.19984000000000002, -0.20535, -0.19924, -0.19654000000000002, -0.19251, -0.18664, -0.2009, -0.19205, -0.19548, -0.19568, -0.21495, -0.20075, -0.19196, -0.1906, -0.19685999999999998, -0.19191, -0.18877, -0.20334000000000002, -0.19542, -0.18895, -0.19105999999999998, -0.20920999999999998, -0.19467, -0.19744, -0.19351, -0.19954000000000002, -0.19430999999999998, -0.19355999999999998, -0.19394, -0.18834, -0.18722, -0.18812, -0.19741, -0.19499, -0.19401, -0.19947, -0.18915, -0.17545, -0.19222, -0.20228, -0.19136, -0.20081, -0.18639, -0.19912, -0.19219, -0.18980999999999998, -0.18789, -0.19983, -0.17123, -0.25788, -0.28065999999999997, -0.28147, -0.28089000000000003, -0.27994, -0.18974000000000002], \"marker\": {\"color\": \"#FF6692\"}, \"mode\": \"markers\", \"name\": \"Portobello\", \"showlegend\": true, \"subplot\": \"mapbox\", \"type\": \"scattermapbox\"}, {\"customdata\": [[\"-49.82 %\"], [\"-8.01 %\"], [\"-19.72 %\"], [\"-30.59 %\"], [\"63.07 %\"], [\"17.08 %\"], [\"-50.63 %\"], [\"-23.21 %\"], [\"-35.27 %\"], [\"-16.62 %\"], [\"-39.13 %\"], [\"-22.08 %\"], [\"-51.30 %\"], [\"-25.74 %\"], [\"-17.21 %\"], [\"-40.35 %\"], [\"-12.34 %\"], [\"-48.87 %\"], [\"82.62 %\"], [\"-14.78 %\"], [\"-40.35 %\"], [\"-39.13 %\"], [\"-13.56 %\"], [\"-23.74 %\"], [\"-31.37 %\"], [\"-51.47 %\"], [\"-44.54 %\"], [\"-30.67 %\"]], \"hovertemplate\": \"<b>%{hovertext}</b><br><br>Place=Golborne<br>latitude=%{lat}<br>longitude=%{lon}<br>Price difference=%{customdata[0]}<extra></extra>\", \"hovertext\": [\"Golborne\", \"Golborne\", \"Golborne\", \"Golborne\", \"Golborne\", \"Golborne\", \"Golborne\", \"Golborne\", \"Golborne\", \"Golborne\", \"Golborne\", \"Golborne\", \"Golborne\", \"Golborne\", \"Golborne\", \"Golborne\", \"Golborne\", \"Golborne\", \"Golborne\", \"Golborne\", \"Golborne\", \"Golborne\", \"Golborne\", \"Golborne\", \"Golborne\", \"Golborne\", \"Golborne\", \"Golborne\"], \"lat\": [51.5185, 51.519870000000004, 51.51937, 51.52149, 51.51429, 51.51744, 51.524359999999994, 51.52426, 51.52414, 51.51745, 51.519729999999996, 51.51941, 51.52013, 51.52105, 51.515209999999996, 51.51917, 51.521409999999996, 51.52323, 51.51886, 51.524770000000004, 51.51765, 51.51956, 51.52084, 51.51874, 51.518190000000004, 51.52848, 51.53184, 51.51898], \"legendgroup\": \"Golborne\", \"lon\": [-0.2129, -0.21384, -0.22243000000000002, -0.20775, -0.20428, -0.20055, -0.19924, -0.19809000000000002, -0.20377, -0.19621, -0.21015, -0.21075, -0.21734, -0.20988, -0.21013, -0.21436999999999998, -0.20854, -0.20461, -0.21625, -0.21135, -0.21618, -0.21795, -0.21031999999999998, -0.19623, -0.19924, -0.21495, -0.20920999999999998, -0.20228], \"marker\": {\"color\": \"#B6E880\"}, \"mode\": \"markers\", \"name\": \"Golborne\", \"showlegend\": true, \"subplot\": \"mapbox\", \"type\": \"scattermapbox\"}, {\"customdata\": [[\"2.03 %\"], [\"-24.30 %\"], [\"-35.27 %\"], [\"-15.53 %\"], [\"-7.85 %\"], [\"-34.18 %\"], [\"-23.21 %\"], [\"-46.24 %\"], [\"-1.27 %\"], [\"-3.46 %\"], [\"60.17 %\"], [\"-40.76 %\"], [\"-8.94 %\"], [\"119.41 %\"], [\"-16.62 %\"], [\"-45.15 %\"], [\"-29.79 %\"], [\"-28.69 %\"], [\"-72.57 %\"], [\"-74.77 %\"], [\"-67.09 %\"], [\"14.39 %\"], [\"-23.74 %\"], [\"-57.71 %\"], [\"-9.88 %\"], [\"-48.01 %\"], [\"3.30 %\"], [\"85.10 %\"], [\"-59.79 %\"], [\"-16.81 %\"], [\"-53.55 %\"], [\"76.78 %\"], [\"85.10 %\"], [\"-13.34 %\"], [\"-51.47 %\"], [\"35.88 %\"], [\"-35.53 %\"], [\"-66.03 %\"], [\"-57.02 %\"], [\"-57.02 %\"], [\"-56.32 %\"], [\"-59.10 %\"], [\"-61.18 %\"], [\"-54.24 %\"], [\"-34.83 %\"], [\"-57.02 %\"], [\"-59.10 %\"], [\"-62.56 %\"], [\"-64.64 %\"], [\"-51.47 %\"], [\"-77.12 %\"], [\"-4.33 %\"], [\"-75.04 %\"], [\"-34.14 %\"]], \"hovertemplate\": \"<b>%{hovertext}</b><br><br>Place=Bayswater<br>latitude=%{lat}<br>longitude=%{lon}<br>Price difference=%{customdata[0]}<extra></extra>\", \"hovertext\": [\"Bayswater\", \"Bayswater\", \"Bayswater\", \"Bayswater\", \"Bayswater\", \"Bayswater\", \"Bayswater\", \"Bayswater\", \"Bayswater\", \"Bayswater\", \"Bayswater\", \"Bayswater\", \"Bayswater\", \"Bayswater\", \"Bayswater\", \"Bayswater\", \"Bayswater\", \"Bayswater\", \"Bayswater\", \"Bayswater\", \"Bayswater\", \"Bayswater\", \"Bayswater\", \"Bayswater\", \"Bayswater\", \"Bayswater\", \"Bayswater\", \"Bayswater\", \"Bayswater\", \"Bayswater\", \"Bayswater\", \"Bayswater\", \"Bayswater\", \"Bayswater\", \"Bayswater\", \"Bayswater\", \"Bayswater\", \"Bayswater\", \"Bayswater\", \"Bayswater\", \"Bayswater\", \"Bayswater\", \"Bayswater\", \"Bayswater\", \"Bayswater\", \"Bayswater\", \"Bayswater\", \"Bayswater\", \"Bayswater\", \"Bayswater\", \"Bayswater\", \"Bayswater\", \"Bayswater\", \"Bayswater\"], \"lat\": [51.5145, 51.513999999999996, 51.51263, 51.51051, 51.5163, 51.51755, 51.5172, 51.52316, 51.51146, 51.51651, 51.51239, 51.52871, 51.51234, 51.5136, 51.51745, 51.5112, 51.51603, 51.519020000000005, 51.51789, 51.51818, 51.51788, 51.5143, 51.51874, 51.51596, 51.51303, 51.51877, 51.51509, 51.51165, 51.51291, 51.51392, 51.51795, 51.515609999999995, 51.5163, 51.516329999999996, 51.51466, 51.5148, 51.516020000000005, 51.51432, 51.51512, 51.51597, 51.514920000000004, 51.51471, 51.5131, 51.51312, 51.51408, 51.51403, 51.51385, 51.513040000000004, 51.51258, 51.518159999999995, 51.51323, 51.51813, 51.51628, 51.5131], \"legendgroup\": \"Bayswater\", \"lon\": [-0.1837, -0.18634, -0.16335, -0.188, -0.18711, -0.18162, -0.18098, -0.19404000000000002, -0.18857000000000002, -0.18769, -0.18585, -0.18632, -0.18953, -0.19022, -0.19621, -0.18431, -0.18784, -0.19482, -0.1854, -0.1848, -0.18506, -0.17637, -0.19623, -0.19194, -0.18606, -0.19959000000000002, -0.18186, -0.1863, -0.18204, -0.18895, -0.18427000000000002, -0.19674, -0.18792, -0.19357, -0.18812, -0.18767999999999999, -0.18915, -0.18479, -0.18144000000000002, -0.19219, -0.18830999999999998, -0.17992, -0.1821, -0.18024, -0.17975, -0.17984, -0.18154, -0.18125, -0.18369000000000002, -0.19983, -0.18577, -0.18615, -0.17012, -0.18269000000000002], \"marker\": {\"color\": \"#FF97FF\"}, \"mode\": \"markers\", \"name\": \"Bayswater\", \"showlegend\": true, \"subplot\": \"mapbox\", \"type\": \"scattermapbox\"}, {\"customdata\": [[\"-51.47 %\"], [\"-50.87 %\"], [\"-54.14 %\"], [\"-59.06 %\"], [\"-1.74 %\"], [\"-59.06 %\"], [\"-34.49 %\"], [\"-49.23 %\"], [\"-18.11 %\"], [\"-18.11 %\"], [\"-18.11 %\"], [\"-1.74 %\"], [\"-50.87 %\"], [\"-50.87 %\"], [\"9.73 %\"], [\"-8.29 %\"], [\"-27.94 %\"], [\"-34.49 %\"]], \"hovertemplate\": \"<b>%{hovertext}</b><br><br>Place=Feltham<br>latitude=%{lat}<br>longitude=%{lon}<br>Price difference=%{customdata[0]}<extra></extra>\", \"hovertext\": [\"Feltham\", \"Feltham\", \"Feltham\", \"Feltham\", \"Feltham\", \"Feltham\", \"Feltham\", \"Feltham\", \"Feltham\", \"Feltham\", \"Feltham\", \"Feltham\", \"Feltham\", \"Feltham\", \"Feltham\", \"Feltham\", \"Feltham\", \"Feltham\"], \"lat\": [51.468059999999994, 51.436440000000005, 51.43652, 51.43626, 51.44549, 51.43531, 51.44511, 51.43835, 51.446509999999996, 51.44826, 51.448409999999996, 51.44679, 51.448209999999996, 51.44847, 51.45236, 51.43962, 51.43841, 51.437909999999995], \"legendgroup\": \"Feltham\", \"lon\": [-0.36898000000000003, -0.40836999999999996, -0.41712, -0.42146000000000006, -0.41836999999999996, -0.40149, -0.39516999999999997, -0.41593, -0.40614, -0.40563, -0.40709, -0.40714, -0.40728000000000003, -0.40762, -0.42323999999999995, -0.41884, -0.42053999999999997, -0.41812], \"marker\": {\"color\": \"#FECB52\"}, \"mode\": \"markers\", \"name\": \"Feltham\", \"showlegend\": true, \"subplot\": \"mapbox\", \"type\": \"scattermapbox\"}, {\"customdata\": [[\"-34.77 %\"], [\"-37.47 %\"], [\"-7.85 %\"], [\"-34.18 %\"], [\"-23.21 %\"], [\"-56.12 %\"], [\"-1.27 %\"], [\"-3.46 %\"], [\"-23.21 %\"], [\"-17.72 %\"], [\"60.17 %\"], [\"-28.69 %\"], [\"-63.80 %\"], [\"-8.94 %\"], [\"-34.18 %\"], [\"-39.66 %\"], [\"119.41 %\"], [\"-17.72 %\"], [\"20.68 %\"], [\"-29.79 %\"], [\"-21.01 %\"], [\"-47.34 %\"], [\"-12.34 %\"], [\"-31.37 %\"], [\"14.39 %\"], [\"-31.37 %\"], [\"-57.71 %\"], [\"3.99 %\"], [\"-30.67 %\"], [\"85.10 %\"], [\"-16.81 %\"], [\"-53.55 %\"], [\"76.78 %\"], [\"85.10 %\"], [\"63.61 %\"], [\"-13.34 %\"], [\"-38.30 %\"], [\"-51.47 %\"], [\"35.88 %\"], [\"-35.53 %\"], [\"-66.03 %\"], [\"-45.23 %\"], [\"-56.32 %\"], [\"-61.18 %\"], [\"-62.56 %\"], [\"-64.64 %\"], [\"-77.12 %\"], [\"-34.14 %\"]], \"hovertemplate\": \"<b>%{hovertext}</b><br><br>Place=Queensway<br>latitude=%{lat}<br>longitude=%{lon}<br>Price difference=%{customdata[0]}<extra></extra>\", \"hovertext\": [\"Queensway\", \"Queensway\", \"Queensway\", \"Queensway\", \"Queensway\", \"Queensway\", \"Queensway\", \"Queensway\", \"Queensway\", \"Queensway\", \"Queensway\", \"Queensway\", \"Queensway\", \"Queensway\", \"Queensway\", \"Queensway\", \"Queensway\", \"Queensway\", \"Queensway\", \"Queensway\", \"Queensway\", \"Queensway\", \"Queensway\", \"Queensway\", \"Queensway\", \"Queensway\", \"Queensway\", \"Queensway\", \"Queensway\", \"Queensway\", \"Queensway\", \"Queensway\", \"Queensway\", \"Queensway\", \"Queensway\", \"Queensway\", \"Queensway\", \"Queensway\", \"Queensway\", \"Queensway\", \"Queensway\", \"Queensway\", \"Queensway\", \"Queensway\", \"Queensway\", \"Queensway\", \"Queensway\", \"Queensway\"], \"lat\": [51.50528, 51.498870000000004, 51.5163, 51.51755, 51.5172, 51.51614, 51.51146, 51.51651, 51.51425, 51.5158, 51.51239, 51.519079999999995, 51.52232, 51.51234, 51.51542, 51.51253, 51.5136, 51.5188, 51.51279, 51.51603, 51.511959999999995, 51.51195, 51.50505, 51.51661, 51.5143, 51.5181, 51.51596, 51.51108, 51.51605, 51.51165, 51.51392, 51.51795, 51.515609999999995, 51.5163, 51.5164, 51.516329999999996, 51.51461, 51.51466, 51.5148, 51.516020000000005, 51.51432, 51.519079999999995, 51.514920000000004, 51.5131, 51.513040000000004, 51.51258, 51.51323, 51.5131], \"legendgroup\": \"Queensway\", \"lon\": [-0.19313, -0.23041999999999999, -0.18711, -0.18162, -0.18098, -0.18955999999999998, -0.18857000000000002, -0.18769, -0.18749000000000002, -0.18752, -0.18585, -0.18364, -0.19783, -0.18953, -0.18589, -0.17790999999999998, -0.19022, -0.18444000000000002, -0.17598, -0.18784, -0.18198, -0.18736, -0.20851, -0.19494, -0.17637, -0.19258, -0.19194, -0.1859, -0.17994000000000002, -0.1863, -0.18895, -0.18427000000000002, -0.19674, -0.18792, -0.19065, -0.19357, -0.19351, -0.18812, -0.18767999999999999, -0.18915, -0.18479, -0.18903, -0.18830999999999998, -0.1821, -0.18125, -0.18369000000000002, -0.18577, -0.18269000000000002], \"marker\": {\"color\": \"#636efa\"}, \"mode\": \"markers\", \"name\": \"Queensway\", \"showlegend\": true, \"subplot\": \"mapbox\", \"type\": \"scattermapbox\"}, {\"customdata\": [[\"-24.91 %\"], [\"-36.47 %\"], [\"-41.23 %\"], [\"-14.94 %\"], [\"-38.14 %\"], [\"-45.87 %\"], [\"-7.20 %\"], [\"-7.20 %\"], [\"-7.20 %\"], [\"-45.87 %\"], [\"-9.37 %\"], [\"-34.09 %\"]], \"hovertemplate\": \"<b>%{hovertext}</b><br><br>Place=Roehampton<br>latitude=%{lat}<br>longitude=%{lon}<br>Price difference=%{customdata[0]}<extra></extra>\", \"hovertext\": [\"Roehampton\", \"Roehampton\", \"Roehampton\", \"Roehampton\", \"Roehampton\", \"Roehampton\", \"Roehampton\", \"Roehampton\", \"Roehampton\", \"Roehampton\", \"Roehampton\", \"Roehampton\"], \"lat\": [51.45074, 51.45068, 51.464290000000005, 51.45745, 51.44986, 51.45174, 51.452490000000004, 51.45321, 51.44934, 51.45317, 51.42739, 51.46245], \"legendgroup\": \"Roehampton\", \"lon\": [-0.23678000000000002, -0.23961999999999997, -0.24818, -0.24286999999999997, -0.23689000000000002, -0.2525, -0.25061, -0.25032, -0.23733, -0.23229, -0.29522, -0.26929000000000003], \"marker\": {\"color\": \"#EF553B\"}, \"mode\": \"markers\", \"name\": \"Roehampton\", \"showlegend\": true, \"subplot\": \"mapbox\", \"type\": \"scattermapbox\"}, {\"customdata\": [[\"-4.80 %\"], [\"-23.84 %\"], [\"-36.53 %\"], [\"-28.60 %\"], [\"-36.53 %\"], [\"-28.60 %\"], [\"42.80 %\"], [\"-22.25 %\"], [\"30.11 %\"], [\"7.90 %\"], [\"-20.67 %\"], [\"-23.84 %\"], [\"-53.99 %\"], [\"-68.27 %\"], [\"-57.16 %\"], [\"-38.12 %\"], [\"11.07 %\"], [\"-60.33 %\"], [\"-23.84 %\"], [\"-4.80 %\"], [\"-7.97 %\"], [\"42.80 %\"], [\"-28.60 %\"], [\"26.94 %\"], [\"-36.53 %\"], [\"-25.01 %\"], [\"-49.53 %\"], [\"-52.41 %\"], [\"-29.34 %\"], [\"-52.41 %\"], [\"-25.01 %\"], [\"-68.27 %\"], [\"-40.87 %\"], [\"-53.85 %\"], [\"-3.38 %\"], [\"8.26 %\"], [\"-1.58 %\"], [\"42.16 %\"], [\"-1.58 %\"], [\"20.29 %\"], [\"-12.52 %\"], [\"7.16 %\"], [\"9.35 %\"], [\"-67.19 %\"], [\"-27.83 %\"], [\"9.35 %\"], [\"85.90 %\"], [\"-28.92 %\"], [\"-12.52 %\"], [\"-34.39 %\"], [\"-23.45 %\"], [\"-11.43 %\"], [\"8.26 %\"], [\"-12.52 %\"], [\"-17.99 %\"], [\"9.35 %\"], [\"-20.17 %\"], [\"-7.05 %\"], [\"-28.92 %\"], [\"-17.99 %\"], [\"-7.05 %\"], [\"-11.43 %\"], [\"19.19 %\"], [\"-38.76 %\"], [\"-7.05 %\"], [\"-17.99 %\"], [\"-23.45 %\"], [\"41.06 %\"], [\"-23.45 %\"], [\"3.88 %\"], [\"-23.45 %\"], [\"-34.39 %\"], [\"-8.15 %\"], [\"-33.30 %\"], [\"-34.39 %\"], [\"-23.45 %\"], [\"2.79 %\"], [\"-12.52 %\"], [\"-21.27 %\"], [\"-34.39 %\"], [\"-17.99 %\"], [\"-33.30 %\"], [\"-33.30 %\"], [\"31.22 %\"], [\"-45.32 %\"], [\"3.88 %\"], [\"-1.58 %\"], [\"7.16 %\"], [\"-7.05 %\"], [\"-7.05 %\"], [\"-42.04 %\"], [\"-30.02 %\"], [\"-17.99 %\"], [\"8.26 %\"], [\"-33.30 %\"], [\"-50.79 %\"], [\"-2.68 %\"], [\"37.78 %\"], [\"-28.92 %\"], [\"8.26 %\"], [\"-28.92 %\"], [\"-7.05 %\"], [\"-8.15 %\"], [\"-19.08 %\"], [\"-43.14 %\"], [\"-11.43 %\"], [\"-12.52 %\"], [\"-12.52 %\"], [\"-45.32 %\"], [\"-23.45 %\"], [\"-24.55 %\"], [\"3.88 %\"], [\"-7.05 %\"], [\"-17.99 %\"], [\"-2.68 %\"], [\"36.69 %\"], [\"-33.30 %\"], [\"-33.30 %\"], [\"-52.98 %\"], [\"33.41 %\"], [\"17.01 %\"], [\"-50.79 %\"], [\"-1.58 %\"], [\"-23.45 %\"], [\"-21.23 %\"], [\"-12.75 %\"], [\"-3.66 %\"], [\"-20.02 %\"], [\"-9.12 %\"], [\"-29.11 %\"], [\"63.59 %\"], [\"-1.84 %\"], [\"1.79 %\"], [\"-49.10 %\"], [\"34.51 %\"], [\"5.43 %\"], [\"27.24 %\"], [\"-50.92 %\"], [\"-10.93 %\"], [\"-9.12 %\"], [\"-7.30 %\"], [\"-52.74 %\"], [\"5.43 %\"], [\"-7.30 %\"], [\"-25.47 %\"], [\"-34.56 %\"], [\"-12.75 %\"], [\"-45.47 %\"], [\"-18.20 %\"], [\"-9.12 %\"], [\"-9.12 %\"], [\"-10.93 %\"], [\"-9.12 %\"], [\"-0.03 %\"], [\"30.87 %\"], [\"-34.56 %\"], [\"-34.56 %\"], [\"18.15 %\"], [\"-49.10 %\"], [\"27.24 %\"], [\"-23.66 %\"], [\"-45.47 %\"], [\"-25.47 %\"], [\"-5.48 %\"], [\"-0.03 %\"], [\"-9.12 %\"], [\"-18.20 %\"], [\"38.14 %\"], [\"-34.56 %\"], [\"-36.38 %\"], [\"-40.02 %\"], [\"9.06 %\"], [\"-36.38 %\"], [\"-10.93 %\"], [\"-34.56 %\"], [\"-16.39 %\"], [\"-9.12 %\"], [\"9.06 %\"], [\"-41.83 %\"], [\"3.61 %\"], [\"41.78 %\"], [\"-1.84 %\"], [\"-47.29 %\"], [\"-20.02 %\"], [\"-9.12 %\"], [\"-30.93 %\"], [\"1.79 %\"], [\"7.24 %\"], [\"5.43 %\"], [\"30.87 %\"], [\"-27.29 %\"], [\"-9.12 %\"], [\"-36.38 %\"], [\"-27.29 %\"], [\"32.69 %\"], [\"-27.29 %\"], [\"-45.47 %\"], [\"85.40 %\"], [\"-41.83 %\"], [\"9.06 %\"], [\"-54.56 %\"], [\"-9.12 %\"], [\"9.06 %\"], [\"-9.12 %\"], [\"-0.03 %\"], [\"9.06 %\"], [\"-34.56 %\"], [\"-12.75 %\"], [\"-27.29 %\"], [\"-49.10 %\"], [\"34.51 %\"], [\"-54.56 %\"], [\"-12.75 %\"], [\"-9.12 %\"], [\"9.06 %\"], [\"-23.66 %\"], [\"38.14 %\"], [\"-45.47 %\"], [\"-45.47 %\"], [\"-47.29 %\"], [\"-56.38 %\"], [\"-54.56 %\"], [\"-36.38 %\"], [\"-36.38 %\"], [\"-16.39 %\"], [\"-45.47 %\"], [\"-54.56 %\"], [\"18.15 %\"], [\"-14.57 %\"], [\"-54.56 %\"], [\"-27.29 %\"], [\"41.78 %\"], [\"-34.56 %\"], [\"-40.02 %\"], [\"-9.12 %\"], [\"-27.29 %\"], [\"20.54 %\"], [\"-47.85 %\"], [\"-20.73 %\"], [\"-26.99 %\"], [\"-17.60 %\"], [\"-13.43 %\"], [\"-47.85 %\"], [\"-11.34 %\"], [\"-28.03 %\"], [\"-36.38 %\"], [\"-6.13 %\"], [\"-33.25 %\"], [\"-26.99 %\"], [\"4.30 %\"], [\"4.30 %\"], [\"28.29 %\"], [\"-0.91 %\"], [\"25.16 %\"], [\"-7.17 %\"], [\"-48.29 %\"], [\"-4.86 %\"], [\"-25.54 %\"], [\"15.99 %\"], [\"-33.17 %\"], [\"-19.81 %\"], [\"30.98 %\"], [\"20.29 %\"], [\"-58.46 %\"], [\"-53.65 %\"]], \"hovertemplate\": \"<b>%{hovertext}</b><br><br>Place=Stoke<br>latitude=%{lat}<br>longitude=%{lon}<br>Price difference=%{customdata[0]}<extra></extra>\", \"hovertext\": [\"Stoke\", \"Stoke\", \"Stoke\", \"Stoke\", \"Stoke\", \"Stoke\", \"Stoke\", \"Stoke\", \"Stoke\", \"Stoke\", \"Stoke\", \"Stoke\", \"Stoke\", \"Stoke\", \"Stoke\", \"Stoke\", \"Stoke\", \"Stoke\", \"Stoke\", \"Stoke\", \"Stoke\", \"Stoke\", \"Stoke\", \"Stoke\", \"Stoke\", \"Stoke\", \"Stoke\", \"Stoke\", \"Stoke\", \"Stoke\", \"Stoke\", \"Stoke\", \"Stoke\", \"Stoke\", \"Stoke\", \"Stoke\", \"Stoke\", \"Stoke\", \"Stoke\", \"Stoke\", \"Stoke\", \"Stoke\", \"Stoke\", \"Stoke\", \"Stoke\", \"Stoke\", \"Stoke\", \"Stoke\", \"Stoke\", \"Stoke\", \"Stoke\", \"Stoke\", \"Stoke\", \"Stoke\", \"Stoke\", \"Stoke\", \"Stoke\", \"Stoke\", \"Stoke\", \"Stoke\", \"Stoke\", \"Stoke\", \"Stoke\", \"Stoke\", \"Stoke\", \"Stoke\", \"Stoke\", \"Stoke\", \"Stoke\", \"Stoke\", \"Stoke\", \"Stoke\", \"Stoke\", \"Stoke\", \"Stoke\", \"Stoke\", \"Stoke\", \"Stoke\", \"Stoke\", \"Stoke\", \"Stoke\", \"Stoke\", \"Stoke\", \"Stoke\", \"Stoke\", \"Stoke\", \"Stoke\", \"Stoke\", \"Stoke\", \"Stoke\", \"Stoke\", \"Stoke\", \"Stoke\", \"Stoke\", \"Stoke\", \"Stoke\", \"Stoke\", \"Stoke\", \"Stoke\", \"Stoke\", \"Stoke\", \"Stoke\", \"Stoke\", \"Stoke\", \"Stoke\", \"Stoke\", \"Stoke\", \"Stoke\", \"Stoke\", \"Stoke\", \"Stoke\", \"Stoke\", \"Stoke\", \"Stoke\", \"Stoke\", \"Stoke\", \"Stoke\", \"Stoke\", \"Stoke\", \"Stoke\", \"Stoke\", \"Stoke\", \"Stoke\", \"Stoke\", \"Stoke\", \"Stoke\", \"Stoke\", \"Stoke\", \"Stoke\", \"Stoke\", \"Stoke\", \"Stoke\", \"Stoke\", \"Stoke\", \"Stoke\", \"Stoke\", \"Stoke\", \"Stoke\", \"Stoke\", \"Stoke\", \"Stoke\", \"Stoke\", \"Stoke\", \"Stoke\", \"Stoke\", \"Stoke\", \"Stoke\", \"Stoke\", \"Stoke\", \"Stoke\", \"Stoke\", \"Stoke\", \"Stoke\", \"Stoke\", \"Stoke\", \"Stoke\", \"Stoke\", \"Stoke\", \"Stoke\", \"Stoke\", \"Stoke\", \"Stoke\", \"Stoke\", \"Stoke\", \"Stoke\", \"Stoke\", \"Stoke\", \"Stoke\", \"Stoke\", \"Stoke\", \"Stoke\", \"Stoke\", \"Stoke\", \"Stoke\", \"Stoke\", \"Stoke\", \"Stoke\", \"Stoke\", \"Stoke\", \"Stoke\", \"Stoke\", \"Stoke\", \"Stoke\", \"Stoke\", \"Stoke\", \"Stoke\", \"Stoke\", \"Stoke\", \"Stoke\", \"Stoke\", \"Stoke\", \"Stoke\", \"Stoke\", \"Stoke\", \"Stoke\", \"Stoke\", \"Stoke\", \"Stoke\", \"Stoke\", \"Stoke\", \"Stoke\", \"Stoke\", \"Stoke\", \"Stoke\", \"Stoke\", \"Stoke\", \"Stoke\", \"Stoke\", \"Stoke\", \"Stoke\", \"Stoke\", \"Stoke\", \"Stoke\", \"Stoke\", \"Stoke\", \"Stoke\", \"Stoke\", \"Stoke\", \"Stoke\", \"Stoke\", \"Stoke\", \"Stoke\", \"Stoke\", \"Stoke\", \"Stoke\", \"Stoke\", \"Stoke\", \"Stoke\", \"Stoke\", \"Stoke\", \"Stoke\", \"Stoke\", \"Stoke\", \"Stoke\", \"Stoke\", \"Stoke\", \"Stoke\", \"Stoke\", \"Stoke\", \"Stoke\", \"Stoke\", \"Stoke\", \"Stoke\", \"Stoke\", \"Stoke\", \"Stoke\", \"Stoke\", \"Stoke\", \"Stoke\", \"Stoke\", \"Stoke\", \"Stoke\", \"Stoke\", \"Stoke\", \"Stoke\", \"Stoke\", \"Stoke\", \"Stoke\", \"Stoke\", \"Stoke\", \"Stoke\", \"Stoke\", \"Stoke\", \"Stoke\", \"Stoke\"], \"lat\": [51.54817, 51.56046, 51.54871, 51.54204, 51.560359999999996, 51.55915, 51.532990000000005, 51.5492, 51.5571, 51.5485, 51.55768, 51.55015, 51.559909999999995, 51.559290000000004, 51.56075, 51.55195, 51.54931, 51.55346, 51.55979, 51.55343, 51.5486, 51.550540000000005, 51.558820000000004, 51.5484, 51.55338, 51.60429, 51.57484, 51.58428, 51.57574, 51.58198, 51.583870000000005, 51.57721, 51.59898, 51.5749, 51.57727, 51.54632, 51.55962, 51.56792, 51.5366, 51.55437, 51.550309999999996, 51.56301, 51.56077, 51.553129999999996, 51.56095, 51.565670000000004, 51.55113, 51.56454, 51.55271, 51.55202, 51.536640000000006, 51.56844, 51.562470000000005, 51.55755, 51.562, 51.55794, 51.55259, 51.56304, 51.56427, 51.57369, 51.56354, 51.55707, 51.56399999999999, 51.55605, 51.552479999999996, 51.562059999999995, 51.55662, 51.549409999999995, 51.56712, 51.55721, 51.57156, 51.54871, 51.54535, 51.55871, 51.55791, 51.5635, 51.56146, 51.5594, 51.55359, 51.5456, 51.55593, 51.553470000000004, 51.54759, 51.563829999999996, 51.54548, 51.561679999999996, 51.55573, 51.55873, 51.55231, 51.54437, 51.542640000000006, 51.54634, 51.55328, 51.555440000000004, 51.543659999999996, 51.56343, 51.56292, 51.5457, 51.55401, 51.55515, 51.55468, 51.56323, 51.55523, 51.55511, 51.551829999999995, 51.55153, 51.56088, 51.563, 51.554759999999995, 51.56857, 51.5541, 51.56779, 51.561370000000004, 51.5605, 51.55938, 51.55141, 51.56132, 51.560829999999996, 51.55656, 51.56235, 51.56432, 51.562290000000004, 51.5672, 51.557359999999996, 51.56984, 51.55149, 51.55465, 51.55852, 51.55447, 51.56094, 51.56787, 51.56107, 51.55368, 51.56422, 51.54596, 51.55945, 51.564820000000005, 51.56732, 51.559740000000005, 51.56061, 51.55871, 51.55571, 51.561890000000005, 51.56069, 51.555679999999995, 51.56927, 51.56821, 51.55905, 51.55905, 51.55768, 51.5682, 51.563, 51.55588, 51.56343, 51.5565, 51.56337, 51.56346, 51.55617, 51.55883, 51.56035, 51.554629999999996, 51.55125, 51.55749, 51.5541, 51.555009999999996, 51.552240000000005, 51.55603, 51.55056, 51.56279, 51.565540000000006, 51.55655, 51.55927, 51.56815, 51.558479999999996, 51.56677, 51.56035, 51.55784, 51.56539, 51.56578, 51.54977, 51.55307, 51.554120000000005, 51.56428, 51.56364, 51.55522, 51.54833, 51.559329999999996, 51.56499, 51.55388, 51.57529, 51.567370000000004, 51.55375, 51.55402, 51.5535, 51.567859999999996, 51.55687, 51.56335, 51.56541, 51.56245, 51.56395, 51.55298, 51.56805, 51.55268, 51.553020000000004, 51.55469, 51.54874, 51.55299, 51.558840000000004, 51.5659, 51.56285, 51.56485, 51.56709, 51.558009999999996, 51.564040000000006, 51.56172, 51.57056, 51.549479999999996, 51.566629999999996, 51.55519, 51.5564, 51.56597, 51.57172, 51.5523, 51.565059999999995, 51.552620000000005, 51.565329999999996, 51.56399999999999, 51.56899, 51.56044, 51.56718, 51.57435, 51.564409999999995, 51.55594, 51.56357, 51.55597, 51.56435, 51.5165, 51.54801, 51.543, 51.55064, 51.5506, 51.56126, 51.55083, 51.55308, 51.55928, 51.55317, 51.55064, 51.550309999999996, 51.547509999999996, 51.55578, 51.56653, 51.55488, 51.55305, 51.54643, 51.55117, 51.628840000000004, 51.629490000000004, 51.608959999999996, 51.44234, 51.57786, 51.57835, 51.59812, 51.57134, 51.62086, 51.5565], \"legendgroup\": \"Stoke\", \"lon\": [-0.08095, -0.10189, -0.08374, -0.0956, -0.10845, -0.10076, -0.11612, -0.0812, -0.09802999999999999, -0.08829, -0.09502000000000001, -0.0851, -0.09315, -0.09183999999999999, -0.09865, -0.08842, -0.09137999999999999, -0.09548999999999999, -0.11782999999999999, -0.09061, -0.09147999999999999, -0.08619, -0.09437000000000001, -0.08943999999999999, -0.09085, -0.06101, -0.09427, -0.08744, -0.07372999999999999, -0.07972, -0.09568, -0.11317, -0.06358, -0.0929, -0.07658999999999999, -0.07488, -0.08277000000000001, -0.09663, -0.0786, -0.0785, -0.065, -0.07581, -0.06006, -0.08051, -0.06027999999999999, -0.05356, -0.07692, -0.07239, -0.07302, -0.07811, -0.08521000000000001, -0.055639999999999995, -0.07151, -0.08785, -0.08045, -0.08974, -0.07351, -0.0737, -0.05127, -0.07955, -0.04993, -0.07200000000000001, -0.0877, -0.07687999999999999, -0.05624, -0.07362, -0.05915, -0.0598, -0.09827999999999999, -0.06826, -0.08125, -0.06735, -0.05778, -0.0667, -0.06772, -0.06849, -0.06776, -0.06598, -0.07637000000000001, -0.06724, -0.04935, -0.08539, -0.06989, -0.07439, -0.07082999999999999, -0.09809, -0.0899, -0.08386, -0.07746, -0.07372000000000001, -0.08029, -0.0729, -0.06927, -0.07124, -0.07608999999999999, -0.08252000000000001, -0.07257000000000001, -0.07321, -0.06854, -0.06972, -0.0758, -0.06702000000000001, -0.08455, -0.08242000000000001, -0.07314, -0.06788, -0.08288999999999999, -0.07471, -0.07589, -0.06687, -0.05139, -0.09576, -0.0818, -0.06681000000000001, -0.06184, -0.06531, -0.0633, -0.04485, -0.06987, -0.08335, -0.07169, -0.07808999999999999, -0.07723, -0.0873, -0.053279999999999994, -0.0787, -0.05765, -0.04968, -0.08829, -0.08394, -0.09807, -0.07682, -0.07088, -0.07437, -0.07491, -0.07758, -0.08035, -0.09106, -0.05393, -0.07936, -0.06756000000000001, -0.07282999999999999, -0.0621, -0.07091, -0.08435, -0.06847, -0.08867, -0.07674, -0.06573, -0.08438999999999999, -0.09512999999999999, -0.06941, -0.0834, -0.09376, -0.050089999999999996, -0.05711, -0.05167000000000001, -0.07547000000000001, -0.07587999999999999, -0.08137, -0.06875, -0.07564, -0.08359, -0.055999999999999994, -0.0899, -0.06624, -0.08369, -0.05886, -0.07247999999999999, -0.08947000000000001, -0.08173, -0.05964, -0.07075, -0.08392999999999999, -0.08065, -0.06383, -0.08871, -0.05536, -0.07393999999999999, -0.04359, -0.05184, -0.08195, -0.0913, -0.07278, -0.07182999999999999, -0.0662, -0.060410000000000005, -0.08098, -0.06855, -0.08206000000000001, -0.06595, -0.05609, -0.08827, -0.07561, -0.0797, -0.05946, -0.09361, -0.05604, -0.0833, -0.09576, -0.04396, -0.09537999999999999, -0.08322, -0.08559, -0.07132000000000001, -0.06323, -0.07214, -0.06076, -0.08884, -0.0955, -0.08659, -0.1001, -0.07321, -0.0917, -0.06727000000000001, -0.07764, -0.06767999999999999, -0.05177999999999999, -0.08181000000000001, -0.08774, -0.09304, -0.07031, -0.06534, -0.07195, -0.07721, -0.04835, -0.07159, -0.05889, -0.05387, -0.06272, -0.08249, -0.06992999999999999, -0.07441, -0.0687, -0.08947999999999999, -0.07259, -0.06667000000000001, -0.08282, -0.0863, -0.0881, -0.08158, -0.10072, -0.08768, -0.09116, -0.10008, -0.08859, -0.08402000000000001, -0.08612, -0.08457, -0.0933, -0.1104, -0.09154, -0.11884000000000002, -0.08804, -0.08537, -0.051820000000000005, -0.05114, -0.06939, -0.19593, -0.07011, -0.10857, -0.06421, -0.10980999999999999, -0.07252, -0.07431], \"marker\": {\"color\": \"#00cc96\"}, \"mode\": \"markers\", \"name\": \"Stoke\", \"showlegend\": true, \"subplot\": \"mapbox\", \"type\": \"scattermapbox\"}, {\"customdata\": [[\"-0.04 %\"], [\"-48.71 %\"], [\"-34.24 %\"], [\"-61.86 %\"], [\"-27.66 %\"], [\"-13.20 %\"], [\"5.22 %\"], [\"-42.13 %\"], [\"-53.97 %\"], [\"5.22 %\"], [\"-48.71 %\"], [\"-47.39 %\"], [\"-27.66 %\"], [\"-35.55 %\"], [\"-53.97 %\"], [\"-63.17 %\"], [\"-34.24 %\"], [\"57.82 %\"], [\"-44.76 %\"], [\"-50.02 %\"], [\"-71.07 %\"], [\"-40.82 %\"], [\"-20.35 %\"], [\"-15.04 %\"], [\"45.42 %\"], [\"-13.90 %\"], [\"134.20 %\"], [\"3.32 %\"], [\"-49.37 %\"], [\"12.52 %\"], [\"50.02 %\"], [\"12.52 %\"], [\"125.97 %\"], [\"-39.64 %\"], [\"-2.65 %\"], [\"-31.85 %\"], [\"-14.33 %\"], [\"-22.12 %\"], [\"-6.54 %\"], [\"-2.65 %\"], [\"-31.85 %\"], [\"-6.54 %\"]], \"hovertemplate\": \"<b>%{hovertext}</b><br><br>Place=Canada<br>latitude=%{lat}<br>longitude=%{lon}<br>Price difference=%{customdata[0]}<extra></extra>\", \"hovertext\": [\"Canada\", \"Canada\", \"Canada\", \"Canada\", \"Canada\", \"Canada\", \"Canada\", \"Canada\", \"Canada\", \"Canada\", \"Canada\", \"Canada\", \"Canada\", \"Canada\", \"Canada\", \"Canada\", \"Canada\", \"Canada\", \"Canada\", \"Canada\", \"Canada\", \"Canada\", \"Canada\", \"Canada\", \"Canada\", \"Canada\", \"Canada\", \"Canada\", \"Canada\", \"Canada\", \"Canada\", \"Canada\", \"Canada\", \"Canada\", \"Canada\", \"Canada\", \"Canada\", \"Canada\", \"Canada\", \"Canada\", \"Canada\", \"Canada\"], \"lat\": [51.50181, 51.501870000000004, 51.50424, 51.503890000000006, 51.50177, 51.49273, 51.50247, 51.500679999999996, 51.49034, 51.46755, 51.503209999999996, 51.50054, 51.50515, 51.50158, 51.50115, 51.4965, 51.49264, 51.49558, 51.50131, 51.49671, 51.50132, 51.49669, 51.50655, 51.49406, 51.55035, 51.50731, 51.49572, 51.51356, 51.51335, 51.49694, 51.49689, 51.498709999999996, 51.49127, 51.42773, 51.492290000000004, 51.49203, 51.48372, 51.48771, 51.46275, 51.48406, 51.49054, 51.48901], \"legendgroup\": \"Canada\", \"lon\": [-0.04431, -0.04585, -0.04438, -0.03327, -0.04686, -0.03588, -0.037110000000000004, -0.050539999999999995, -0.05247, -0.07979, -0.04439, -0.04357, -0.04578, -0.04554, -0.03839, -0.041319999999999996, -0.048119999999999996, -0.03798, -0.046239999999999996, -0.040889999999999996, -0.048760000000000005, -0.03295, -0.03784, -0.03752, -0.06522, -0.007529999999999999, -0.01403, -0.01521, -0.0204, -0.020880000000000003, -0.01964, -0.0196, -0.03883, -0.06533, -0.040139999999999995, -0.03902, -0.03274, -0.03138, -0.027010000000000003, -0.035769999999999996, -0.03255, -0.04282], \"marker\": {\"color\": \"#ab63fa\"}, \"mode\": \"markers\", \"name\": \"Canada\", \"showlegend\": true, \"subplot\": \"mapbox\", \"type\": \"scattermapbox\"}, {\"customdata\": [[\"17.70 %\"], [\"-23.57 %\"], [\"7.00 %\"], [\"-25.10 %\"], [\"-32.74 %\"], [\"-8.29 %\"], [\"7.00 %\"], [\"-61.79 %\"], [\"-23.57 %\"], [\"-23.57 %\"], [\"-23.57 %\"], [\"-26.63 %\"], [\"7.00 %\"], [\"-57.20 %\"], [\"-38.86 %\"], [\"-38.38 %\"], [\"2.71 %\"], [\"-5.85 %\"], [\"-35.81 %\"], [\"-22.97 %\"], [\"-35.81 %\"], [\"-36.66 %\"], [\"-31.53 %\"], [\"19.83 %\"], [\"-52.93 %\"], [\"-17.60 %\"], [\"-73.32 %\"], [\"-25.09 %\"], [\"-19.95 %\"], [\"-63.06 %\"]], \"hovertemplate\": \"<b>%{hovertext}</b><br><br>Place=Swiss<br>latitude=%{lat}<br>longitude=%{lon}<br>Price difference=%{customdata[0]}<extra></extra>\", \"hovertext\": [\"Swiss\", \"Swiss\", \"Swiss\", \"Swiss\", \"Swiss\", \"Swiss\", \"Swiss\", \"Swiss\", \"Swiss\", \"Swiss\", \"Swiss\", \"Swiss\", \"Swiss\", \"Swiss\", \"Swiss\", \"Swiss\", \"Swiss\", \"Swiss\", \"Swiss\", \"Swiss\", \"Swiss\", \"Swiss\", \"Swiss\", \"Swiss\", \"Swiss\", \"Swiss\", \"Swiss\", \"Swiss\", \"Swiss\", \"Swiss\"], \"lat\": [51.549490000000006, 51.54294, 51.54991, 51.54553, 51.54582, 51.545590000000004, 51.54673, 51.550309999999996, 51.54436, 51.54781, 51.54345, 51.55059, 51.54645, 51.55046, 51.54858, 51.54112, 51.55063, 51.54121, 51.54773, 51.54795, 51.54781, 51.54102, 51.545840000000005, 51.54753, 51.543890000000005, 51.5506, 51.545120000000004, 51.544470000000004, 51.544990000000006, 51.5444], \"legendgroup\": \"Swiss\", \"lon\": [-0.16885999999999998, -0.16982, -0.16421, -0.15447, -0.17185, -0.17240999999999998, -0.16217, -0.18184, -0.17790999999999998, -0.15857000000000002, -0.17848, -0.18766, -0.16593, -0.16771, -0.16554000000000002, -0.17697000000000002, -0.16812, -0.19466, -0.17189000000000002, -0.17222, -0.17149, -0.15858, -0.16909000000000002, -0.17115, -0.17415, -0.08158, -0.17548, -0.17692, -0.17662, -0.17522000000000001], \"marker\": {\"color\": \"#FFA15A\"}, \"mode\": \"markers\", \"name\": \"Swiss\", \"showlegend\": true, \"subplot\": \"mapbox\", \"type\": \"scattermapbox\"}, {\"customdata\": [[\"-9.61 %\"], [\"-17.14 %\"], [\"-47.27 %\"], [\"-17.14 %\"], [\"-32.21 %\"], [\"-39.74 %\"], [\"34.08 %\"], [\"-29.91 %\"], [\"-33.80 %\"], [\"-24.06 %\"], [\"-39.64 %\"], [\"-10.44 %\"], [\"141.43 %\"], [\"-33.80 %\"], [\"-45.48 %\"], [\"-41.59 %\"], [\"-26.01 %\"], [\"-31.85 %\"], [\"-26.01 %\"], [\"-51.32 %\"], [\"-22.12 %\"], [\"-12.38 %\"], [\"36.29 %\"], [\"-66.90 %\"], [\"-55.22 %\"]], \"hovertemplate\": \"<b>%{hovertext}</b><br><br>Place=Ladywell<br>latitude=%{lat}<br>longitude=%{lon}<br>Price difference=%{customdata[0]}<extra></extra>\", \"hovertext\": [\"Ladywell\", \"Ladywell\", \"Ladywell\", \"Ladywell\", \"Ladywell\", \"Ladywell\", \"Ladywell\", \"Ladywell\", \"Ladywell\", \"Ladywell\", \"Ladywell\", \"Ladywell\", \"Ladywell\", \"Ladywell\", \"Ladywell\", \"Ladywell\", \"Ladywell\", \"Ladywell\", \"Ladywell\", \"Ladywell\", \"Ladywell\", \"Ladywell\", \"Ladywell\", \"Ladywell\", \"Ladywell\"], \"lat\": [51.45256, 51.45661, 51.445479999999996, 51.461859999999994, 51.45597, 51.44713, 51.45272, 51.45735, 51.4558, 51.45135, 51.45649, 51.45967, 51.456590000000006, 51.45559, 51.46528, 51.450359999999996, 51.457879999999996, 51.45815, 51.45602, 51.45394, 51.44408, 51.44952, 51.449329999999996, 51.46063, 51.45533], \"legendgroup\": \"Ladywell\", \"lon\": [-0.02311, -0.02546, -0.00473, -0.02309, -0.024, -0.02384, -0.03889, -0.01614, -0.01612, -0.01457, -0.01555, -0.022000000000000002, -0.01877, -0.018359999999999998, -0.01779, -0.02559, -0.018580000000000003, -0.01797, -0.01847, -0.0271, -0.02634, -0.030289999999999997, -0.03136, -0.022000000000000002, -0.02046], \"marker\": {\"color\": \"#19d3f3\"}, \"mode\": \"markers\", \"name\": \"Ladywell\", \"showlegend\": true, \"subplot\": \"mapbox\", \"type\": \"scattermapbox\"}, {\"customdata\": [[\"109.44 %\"], [\"-46.05 %\"], [\"-36.53 %\"], [\"-52.40 %\"], [\"26.94 %\"], [\"-25.01 %\"], [\"-40.87 %\"], [\"101.90 %\"], [\"-63.95 %\"], [\"-29.34 %\"], [\"-49.53 %\"], [\"-6.26 %\"], [\"-52.41 %\"], [\"-56.74 %\"], [\"-53.85 %\"], [\"-45.20 %\"], [\"-32.22 %\"], [\"-61.06 %\"], [\"-62.51 %\"], [\"-45.20 %\"], [\"-75.48 %\"], [\"-27.89 %\"], [\"-69.72 %\"], [\"-42.32 %\"], [\"-19.24 %\"], [\"-27.89 %\"], [\"-13.47 %\"], [\"-43.76 %\"], [\"-61.06 %\"], [\"-28.92 %\"], [\"-12.75 %\"], [\"-36.38 %\"], [\"-36.38 %\"], [\"-54.56 %\"], [\"-25.54 %\"], [\"-33.17 %\"], [\"-47.87 %\"], [\"-21.14 %\"], [\"-13.12 %\"], [\"13.61 %\"], [\"-58.46 %\"]], \"hovertemplate\": \"<b>%{hovertext}</b><br><br>Place=Sisters<br>latitude=%{lat}<br>longitude=%{lon}<br>Price difference=%{customdata[0]}<extra></extra>\", \"hovertext\": [\"Sisters\", \"Sisters\", \"Sisters\", \"Sisters\", \"Sisters\", \"Sisters\", \"Sisters\", \"Sisters\", \"Sisters\", \"Sisters\", \"Sisters\", \"Sisters\", \"Sisters\", \"Sisters\", \"Sisters\", \"Sisters\", \"Sisters\", \"Sisters\", \"Sisters\", \"Sisters\", \"Sisters\", \"Sisters\", \"Sisters\", \"Sisters\", \"Sisters\", \"Sisters\", \"Sisters\", \"Sisters\", \"Sisters\", \"Sisters\", \"Sisters\", \"Sisters\", \"Sisters\", \"Sisters\", \"Sisters\", \"Sisters\", \"Sisters\", \"Sisters\", \"Sisters\", \"Sisters\", \"Sisters\"], \"lat\": [51.55863, 51.56071, 51.560359999999996, 51.56561, 51.56147, 51.60429, 51.5792, 51.585640000000005, 51.58051, 51.57574, 51.58231, 51.60028, 51.58198, 51.58352, 51.58558, 51.59271, 51.58579, 51.59753, 51.589659999999995, 51.597229999999996, 51.58905, 51.58875, 51.58381, 51.58442, 51.58806, 51.59604, 51.59779, 51.606120000000004, 51.57976, 51.574529999999996, 51.56821, 51.56815, 51.557829999999996, 51.57172, 51.62741, 51.57786, 51.58302, 51.57948, 51.59807, 51.58452, 51.62086], \"legendgroup\": \"Sisters\", \"lon\": [-0.11848, -0.11577, -0.10845, -0.10699000000000002, -0.10567, -0.06101, -0.08375, -0.06674, -0.08217, -0.07372999999999999, -0.07173, -0.07272999999999999, -0.07972, -0.06606000000000001, -0.078, -0.08553999999999999, -0.06309, -0.0839, -0.07811, -0.07622000000000001, -0.07909, -0.07736, -0.062329999999999997, -0.08229, -0.07103, -0.07516, -0.07539, -0.07107999999999999, -0.06838, -0.08426, -0.08867, -0.07075, -0.06272, -0.07031, -0.06095, -0.07011, -0.0782, -0.08031, -0.06649, -0.0814, -0.07252], \"marker\": {\"color\": \"#FF6692\"}, \"mode\": \"markers\", \"name\": \"Sisters\", \"showlegend\": true, \"subplot\": \"mapbox\", \"type\": \"scattermapbox\"}, {\"customdata\": [[\"-27.66 %\"], [\"-47.39 %\"], [\"-60.54 %\"], [\"-53.97 %\"], [\"-13.20 %\"], [\"5.22 %\"], [\"-53.97 %\"], [\"-47.39 %\"], [\"-47.39 %\"], [\"-34.24 %\"], [\"-55.28 %\"], [\"-53.97 %\"], [\"-63.17 %\"], [\"57.82 %\"], [\"-40.82 %\"], [\"-26.35 %\"], [\"-20.35 %\"], [\"-15.04 %\"], [\"-48.43 %\"], [\"20.52 %\"], [\"125.97 %\"], [\"-21.66 %\"], [\"-24.06 %\"], [\"-31.85 %\"], [\"-14.33 %\"], [\"-2.65 %\"], [\"-6.54 %\"]], \"hovertemplate\": \"<b>%{hovertext}</b><br><br>Place=Quays<br>latitude=%{lat}<br>longitude=%{lon}<br>Price difference=%{customdata[0]}<extra></extra>\", \"hovertext\": [\"Quays\", \"Quays\", \"Quays\", \"Quays\", \"Quays\", \"Quays\", \"Quays\", \"Quays\", \"Quays\", \"Quays\", \"Quays\", \"Quays\", \"Quays\", \"Quays\", \"Quays\", \"Quays\", \"Quays\", \"Quays\", \"Quays\", \"Quays\", \"Quays\", \"Quays\", \"Quays\", \"Quays\", \"Quays\", \"Quays\", \"Quays\"], \"lat\": [51.49103, 51.49816, 51.49433, 51.49962, 51.49273, 51.50247, 51.49034, 51.50054, 51.498129999999996, 51.49303, 51.49252, 51.50115, 51.4965, 51.49558, 51.49669, 51.49157, 51.50655, 51.49406, 51.50971, 51.489090000000004, 51.49127, 51.48836, 51.492129999999996, 51.49203, 51.48372, 51.48406, 51.48901], \"legendgroup\": \"Quays\", \"lon\": [-0.06114, -0.03683, -0.037630000000000004, -0.04677, -0.03588, -0.037110000000000004, -0.05247, -0.04357, -0.03648, -0.041710000000000004, -0.04068, -0.03839, -0.041319999999999996, -0.03798, -0.03295, -0.05857999999999999, -0.03784, -0.03752, -0.01519, -0.04217, -0.03883, -0.04578, -0.03888, -0.03902, -0.03274, -0.035769999999999996, -0.04282], \"marker\": {\"color\": \"#B6E880\"}, \"mode\": \"markers\", \"name\": \"Quays\", \"showlegend\": true, \"subplot\": \"mapbox\", \"type\": \"scattermapbox\"}, {\"customdata\": [[\"-30.02 %\"], [\"81.50 %\"], [\"-34.24 %\"], [\"-14.51 %\"], [\"-35.55 %\"], [\"-56.60 %\"], [\"-53.97 %\"], [\"-47.39 %\"], [\"-47.39 %\"], [\"-52.65 %\"], [\"-34.24 %\"], [\"-40.82 %\"], [\"49.93 %\"], [\"-15.83 %\"], [\"-27.66 %\"], [\"-50.02 %\"], [\"-1.36 %\"], [\"-47.39 %\"], [\"-27.66 %\"], [\"-47.39 %\"], [\"-47.39 %\"], [\"-47.39 %\"], [\"-59.23 %\"], [\"-23.72 %\"], [\"5.22 %\"], [\"-50.02 %\"], [\"-40.82 %\"], [\"-23.72 %\"], [\"-63.17 %\"], [\"39.41 %\"], [\"-40.82 %\"], [\"-26.35 %\"], [\"17.05 %\"], [\"-60.54 %\"], [\"-39.50 %\"], [\"-46.08 %\"], [\"-42.13 %\"], [\"-44.76 %\"], [\"-36.87 %\"], [\"-34.24 %\"], [\"-26.35 %\"], [\"-32.92 %\"], [\"5.22 %\"], [\"-40.82 %\"], [\"16.57 %\"], [\"15.76 %\"], [\"-26.72 %\"], [\"-25.66 %\"], [\"-4.42 %\"], [\"-4.42 %\"], [\"-15.04 %\"], [\"54.00 %\"], [\"-9.73 %\"], [\"59.31 %\"], [\"-12.91 %\"], [\"16.83 %\"], [\"-4.42 %\"], [\"-26.72 %\"], [\"48.69 %\"], [\"-20.35 %\"], [\"59.31 %\"], [\"32.76 %\"], [\"-25.66 %\"], [\"27.45 %\"], [\"-9.73 %\"], [\"9.39 %\"], [\"-19.28 %\"], [\"9.39 %\"], [\"6.20 %\"], [\"-12.94 %\"], [\"-29.90 %\"], [\"-31.05 %\"], [\"-14.94 %\"]], \"hovertemplate\": \"<b>%{hovertext}</b><br><br>Place=Elephant<br>latitude=%{lat}<br>longitude=%{lon}<br>Price difference=%{customdata[0]}<extra></extra>\", \"hovertext\": [\"Elephant\", \"Elephant\", \"Elephant\", \"Elephant\", \"Elephant\", \"Elephant\", \"Elephant\", \"Elephant\", \"Elephant\", \"Elephant\", \"Elephant\", \"Elephant\", \"Elephant\", \"Elephant\", \"Elephant\", \"Elephant\", \"Elephant\", \"Elephant\", \"Elephant\", \"Elephant\", \"Elephant\", \"Elephant\", \"Elephant\", \"Elephant\", \"Elephant\", \"Elephant\", \"Elephant\", \"Elephant\", \"Elephant\", \"Elephant\", \"Elephant\", \"Elephant\", \"Elephant\", \"Elephant\", \"Elephant\", \"Elephant\", \"Elephant\", \"Elephant\", \"Elephant\", \"Elephant\", \"Elephant\", \"Elephant\", \"Elephant\", \"Elephant\", \"Elephant\", \"Elephant\", \"Elephant\", \"Elephant\", \"Elephant\", \"Elephant\", \"Elephant\", \"Elephant\", \"Elephant\", \"Elephant\", \"Elephant\", \"Elephant\", \"Elephant\", \"Elephant\", \"Elephant\", \"Elephant\", \"Elephant\", \"Elephant\", \"Elephant\", \"Elephant\", \"Elephant\", \"Elephant\", \"Elephant\", \"Elephant\", \"Elephant\", \"Elephant\", \"Elephant\", \"Elephant\", \"Elephant\"], \"lat\": [51.544290000000004, 51.49865, 51.49179, 51.48766, 51.49323, 51.4856, 51.48229, 51.482859999999995, 51.482479999999995, 51.47732, 51.48958, 51.498870000000004, 51.48151, 51.492059999999995, 51.49304, 51.48403, 51.49581, 51.48747, 51.49507, 51.488690000000005, 51.482490000000006, 51.4905, 51.47432, 51.492, 51.49208, 51.47927, 51.489, 51.48805, 51.48987, 51.49613, 51.49655, 51.48529, 51.482690000000005, 51.47911, 51.45836, 51.49185, 51.49472, 51.489959999999996, 51.47806, 51.48901, 51.49642, 51.49626, 51.49224, 51.49515, 51.47526, 51.49236, 51.491209999999995, 51.4824, 51.49143, 51.49088, 51.45191, 51.49341, 51.46739, 51.48738, 51.49923, 51.49623, 51.479459999999996, 51.492340000000006, 51.49677, 51.48928, 51.49609, 51.49096, 51.480109999999996, 51.495059999999995, 51.48182, 51.49029, 51.489259999999994, 51.496759999999995, 51.48914, 51.4934, 51.47462, 51.38805, 51.462920000000004], \"legendgroup\": \"Elephant\", \"lon\": [-0.03036, -0.10284000000000001, -0.08888, -0.10565, -0.09346, -0.07404, -0.10094, -0.09432, -0.09537999999999999, -0.09692, -0.08657999999999999, -0.10346, -0.09229, -0.0936, -0.10063, -0.09879, -0.10515, -0.08957999999999999, -0.10002, -0.09001, -0.09427, -0.10095, -0.09312999999999999, -0.08375, -0.10214, -0.06648, -0.08455, -0.09602000000000001, -0.10164, -0.09645, -0.09928, -0.07303, -0.09179, -0.09439, -0.05196, -0.09512999999999999, -0.0968, -0.09305, -0.09442, -0.06875, -0.09791, -0.0987, -0.08542999999999999, -0.09587999999999999, -0.18428, -0.09033, -0.09941, -0.10173, -0.10214, -0.09702000000000001, -0.07682, -0.09219, -0.06967999999999999, -0.08909, -0.10379000000000001, -0.1029, -0.08876, -0.09199, -0.10042999999999999, -0.07474, -0.09952000000000001, -0.0986, -0.09395, -0.09963999999999999, -0.09655, -0.09838999999999999, -0.10015, -0.08567999999999999, -0.10395, -0.10489000000000001, -0.11613, -0.09944, -0.16575], \"marker\": {\"color\": \"#FF97FF\"}, \"mode\": \"markers\", \"name\": \"Elephant\", \"showlegend\": true, \"subplot\": \"mapbox\", \"type\": \"scattermapbox\"}, {\"customdata\": [[\"-21.40 %\"], [\"-62.77 %\"], [\"-54.50 %\"], [\"-29.68 %\"], [\"-48.29 %\"], [\"-4.86 %\"], [\"-8.99 %\"], [\"-25.54 %\"], [\"-21.40 %\"], [\"-15.64 %\"], [\"-58.46 %\"]], \"hovertemplate\": \"<b>%{hovertext}</b><br><br>Place=Edmonton<br>latitude=%{lat}<br>longitude=%{lon}<br>Price difference=%{customdata[0]}<extra></extra>\", \"hovertext\": [\"Edmonton\", \"Edmonton\", \"Edmonton\", \"Edmonton\", \"Edmonton\", \"Edmonton\", \"Edmonton\", \"Edmonton\", \"Edmonton\", \"Edmonton\", \"Edmonton\"], \"lat\": [51.619659999999996, 51.619479999999996, 51.61888, 51.62038, 51.628840000000004, 51.629490000000004, 51.63058, 51.62741, 51.64887, 51.6113, 51.62086], \"legendgroup\": \"Edmonton\", \"lon\": [-0.08208, -0.08162, -0.08192, -0.08098999999999999, -0.051820000000000005, -0.05114, -0.045689999999999995, -0.06095, -0.050960000000000005, -0.054979999999999994, -0.07252], \"marker\": {\"color\": \"#FECB52\"}, \"mode\": \"markers\", \"name\": \"Edmonton\", \"showlegend\": true, \"subplot\": \"mapbox\", \"type\": \"scattermapbox\"}, {\"customdata\": [[\"-36.53 %\"], [\"-20.67 %\"], [\"6.31 %\"], [\"-36.53 %\"], [\"109.44 %\"], [\"-52.40 %\"], [\"-20.67 %\"], [\"-46.05 %\"], [\"-31.77 %\"], [\"-36.53 %\"], [\"-20.67 %\"], [\"-7.97 %\"], [\"-27.01 %\"], [\"-4.80 %\"], [\"11.07 %\"], [\"-7.97 %\"], [\"150.70 %\"], [\"26.94 %\"], [\"-23.84 %\"], [\"-52.40 %\"], [\"-38.12 %\"], [\"-17.49 %\"], [\"-28.60 %\"], [\"-50.81 %\"], [\"-36.53 %\"], [\"-30.19 %\"], [\"-23.84 %\"], [\"-33.36 %\"], [\"-12.73 %\"], [\"-4.80 %\"], [\"-42.88 %\"], [\"3.14 %\"], [\"-39.71 %\"], [\"11.07 %\"], [\"17.42 %\"], [\"3.14 %\"], [\"19.00 %\"], [\"19.00 %\"], [\"-12.73 %\"], [\"19.00 %\"], [\"-20.67 %\"], [\"-44.47 %\"], [\"26.94 %\"], [\"26.94 %\"], [\"-57.16 %\"], [\"-33.36 %\"], [\"-44.47 %\"], [\"-52.41 %\"], [\"44.21 %\"], [\"-13.47 %\"], [\"-49.53 %\"], [\"-6.26 %\"], [\"-30.78 %\"], [\"-13.47 %\"], [\"-13.47 %\"], [\"0.95 %\"], [\"101.90 %\"], [\"-27.89 %\"], [\"-49.53 %\"], [\"-13.47 %\"], [\"-63.95 %\"], [\"-58.18 %\"], [\"-32.22 %\"], [\"-40.87 %\"], [\"-20.68 %\"], [\"-27.89 %\"], [\"12.48 %\"], [\"-13.47 %\"], [\"-49.53 %\"], [\"-55.29 %\"], [\"3.83 %\"], [\"-63.95 %\"], [\"-43.76 %\"], [\"-22.13 %\"], [\"-27.89 %\"], [\"-36.55 %\"], [\"-32.22 %\"], [\"0.95 %\"], [\"-50.97 %\"], [\"101.90 %\"], [\"-27.89 %\"], [\"-49.53 %\"], [\"-45.20 %\"], [\"-53.85 %\"], [\"-42.32 %\"], [\"8.16 %\"], [\"-53.85 %\"], [\"-36.55 %\"], [\"0.95 %\"], [\"58.63 %\"], [\"-19.24 %\"], [\"15.37 %\"], [\"-56.74 %\"], [\"0.95 %\"], [\"-13.47 %\"], [\"42.16 %\"], [\"-38.76 %\"], [\"-34.39 %\"], [\"-7.05 %\"], [\"-23.45 %\"], [\"-3.77 %\"], [\"-28.92 %\"], [\"-28.92 %\"], [\"3.88 %\"], [\"52.86 %\"], [\"63.59 %\"], [\"-3.66 %\"], [\"-9.12 %\"], [\"-0.03 %\"], [\"-12.75 %\"], [\"-47.29 %\"], [\"-9.12 %\"], [\"-36.38 %\"], [\"5.43 %\"], [\"1.79 %\"], [\"9.06 %\"], [\"-9.12 %\"], [\"-9.12 %\"], [\"-27.29 %\"], [\"-49.10 %\"], [\"-54.56 %\"], [\"-58.19 %\"], [\"-9.12 %\"], [\"-18.20 %\"], [\"-18.20 %\"], [\"-12.75 %\"], [\"-45.47 %\"], [\"-9.12 %\"], [\"3.26 %\"], [\"9.52 %\"], [\"-24.90 %\"], [\"-6.13 %\"], [\"-37.42 %\"], [\"3.26 %\"], [\"-42.63 %\"], [\"-47.85 %\"], [\"30.38 %\"], [\"-10.30 %\"], [\"-26.99 %\"], [\"-21.77 %\"], [\"26.21 %\"], [\"-28.03 %\"], [\"-14.47 %\"], [\"-90.61 %\"], [\"-30.12 %\"], [\"-32.20 %\"], [\"-32.20 %\"], [\"4.30 %\"], [\"-21.77 %\"], [\"9.52 %\"], [\"-34.29 %\"], [\"4.30 %\"], [\"4.30 %\"], [\"-26.99 %\"], [\"-36.38 %\"], [\"28.24 %\"], [\"-17.27 %\"], [\"44.78 %\"], [\"-0.72 %\"], [\"-40.02 %\"], [\"26.97 %\"], [\"-26.49 %\"], [\"32.32 %\"], [\"-18.47 %\"], [\"33.65 %\"], [\"20.29 %\"], [\"-1.10 %\"], [\"-35.85 %\"], [\"33.65 %\"], [\"-13.12 %\"], [\"-6.44 %\"], [\"-19.81 %\"], [\"-63.91 %\"], [\"-6.44 %\"], [\"20.29 %\"], [\"33.65 %\"], [\"-17.13 %\"], [\"-26.49 %\"], [\"-58.46 %\"], [\"-12.31 %\"]], \"hovertemplate\": \"<b>%{hovertext}</b><br><br>Place=Finsbury<br>latitude=%{lat}<br>longitude=%{lon}<br>Price difference=%{customdata[0]}<extra></extra>\", \"hovertext\": [\"Finsbury\", \"Finsbury\", \"Finsbury\", \"Finsbury\", \"Finsbury\", \"Finsbury\", \"Finsbury\", \"Finsbury\", \"Finsbury\", \"Finsbury\", \"Finsbury\", \"Finsbury\", \"Finsbury\", \"Finsbury\", \"Finsbury\", \"Finsbury\", \"Finsbury\", \"Finsbury\", \"Finsbury\", \"Finsbury\", \"Finsbury\", \"Finsbury\", \"Finsbury\", \"Finsbury\", \"Finsbury\", \"Finsbury\", \"Finsbury\", \"Finsbury\", \"Finsbury\", \"Finsbury\", \"Finsbury\", \"Finsbury\", \"Finsbury\", \"Finsbury\", \"Finsbury\", \"Finsbury\", \"Finsbury\", \"Finsbury\", \"Finsbury\", \"Finsbury\", \"Finsbury\", \"Finsbury\", \"Finsbury\", \"Finsbury\", \"Finsbury\", \"Finsbury\", \"Finsbury\", \"Finsbury\", \"Finsbury\", \"Finsbury\", \"Finsbury\", \"Finsbury\", \"Finsbury\", \"Finsbury\", \"Finsbury\", \"Finsbury\", \"Finsbury\", \"Finsbury\", \"Finsbury\", \"Finsbury\", \"Finsbury\", \"Finsbury\", \"Finsbury\", \"Finsbury\", \"Finsbury\", \"Finsbury\", \"Finsbury\", \"Finsbury\", \"Finsbury\", \"Finsbury\", \"Finsbury\", \"Finsbury\", \"Finsbury\", \"Finsbury\", \"Finsbury\", \"Finsbury\", \"Finsbury\", \"Finsbury\", \"Finsbury\", \"Finsbury\", \"Finsbury\", \"Finsbury\", \"Finsbury\", \"Finsbury\", \"Finsbury\", \"Finsbury\", \"Finsbury\", \"Finsbury\", \"Finsbury\", \"Finsbury\", \"Finsbury\", \"Finsbury\", \"Finsbury\", \"Finsbury\", \"Finsbury\", \"Finsbury\", \"Finsbury\", \"Finsbury\", \"Finsbury\", \"Finsbury\", \"Finsbury\", \"Finsbury\", \"Finsbury\", \"Finsbury\", \"Finsbury\", \"Finsbury\", \"Finsbury\", \"Finsbury\", \"Finsbury\", \"Finsbury\", \"Finsbury\", \"Finsbury\", \"Finsbury\", \"Finsbury\", \"Finsbury\", \"Finsbury\", \"Finsbury\", \"Finsbury\", \"Finsbury\", \"Finsbury\", \"Finsbury\", \"Finsbury\", \"Finsbury\", \"Finsbury\", \"Finsbury\", \"Finsbury\", \"Finsbury\", \"Finsbury\", \"Finsbury\", \"Finsbury\", \"Finsbury\", \"Finsbury\", \"Finsbury\", \"Finsbury\", \"Finsbury\", \"Finsbury\", \"Finsbury\", \"Finsbury\", \"Finsbury\", \"Finsbury\", \"Finsbury\", \"Finsbury\", \"Finsbury\", \"Finsbury\", \"Finsbury\", \"Finsbury\", \"Finsbury\", \"Finsbury\", \"Finsbury\", \"Finsbury\", \"Finsbury\", \"Finsbury\", \"Finsbury\", \"Finsbury\", \"Finsbury\", \"Finsbury\", \"Finsbury\", \"Finsbury\", \"Finsbury\", \"Finsbury\", \"Finsbury\", \"Finsbury\", \"Finsbury\", \"Finsbury\", \"Finsbury\", \"Finsbury\", \"Finsbury\", \"Finsbury\", \"Finsbury\", \"Finsbury\", \"Finsbury\", \"Finsbury\", \"Finsbury\", \"Finsbury\", \"Finsbury\", \"Finsbury\", \"Finsbury\", \"Finsbury\", \"Finsbury\", \"Finsbury\"], \"lat\": [51.568020000000004, 51.55771, 51.56863, 51.56532, 51.55863, 51.56896, 51.55713, 51.56071, 51.562, 51.560359999999996, 51.56313, 51.55448, 51.56416, 51.56108, 51.563320000000004, 51.55584, 51.53921, 51.56749, 51.55981, 51.567029999999995, 51.55195, 51.565459999999995, 51.57182, 51.56908, 51.56485, 51.555820000000004, 51.55979, 51.560359999999996, 51.554520000000004, 51.5598, 51.56009, 51.56012, 51.56077, 51.56269, 51.56678, 51.52623, 51.5263, 51.556779999999996, 51.556779999999996, 51.556779999999996, 51.56276, 51.5591, 51.56147, 51.56953, 51.55966, 51.569720000000004, 51.55251, 51.58084, 51.58336, 51.58435, 51.57484, 51.57515, 51.574490000000004, 51.578, 51.57617, 51.570570000000004, 51.585640000000005, 51.578790000000005, 51.572990000000004, 51.58377, 51.57956, 51.593990000000005, 51.579609999999995, 51.58746, 51.587790000000005, 51.57036, 51.573240000000006, 51.5752, 51.57465, 51.59207, 51.60157, 51.57371, 51.57512, 51.58631, 51.57734, 51.57842, 51.56674, 51.57521, 51.567440000000005, 51.59779, 51.57059, 51.5754, 51.58422, 51.5749, 51.577090000000005, 51.58335, 51.58475, 51.57509, 51.576609999999995, 51.57817, 51.57217, 51.59811, 51.57999, 51.58146, 51.582879999999996, 51.56792, 51.55605, 51.56507, 51.562740000000005, 51.56712, 51.56686, 51.574529999999996, 51.56157, 51.56779, 51.52855, 51.56787, 51.56578, 51.5629, 51.572070000000004, 51.56821, 51.567640000000004, 51.5682, 51.565540000000006, 51.56987, 51.563320000000004, 51.56395, 51.56805, 51.553020000000004, 51.5659, 51.56285, 51.56709, 51.56681, 51.564040000000006, 51.56239, 51.56469, 51.52687, 51.56912, 51.56605, 51.56044, 51.56171, 51.56134, 51.56358, 51.5564, 51.56201, 51.56635, 51.56973, 51.52597, 51.56349, 51.5663, 51.56963, 51.553509999999996, 51.55928, 51.559329999999996, 51.53914, 51.55044, 51.55917, 51.55738, 51.56521, 51.56215, 51.5634, 51.564009999999996, 51.55578, 51.56653, 51.5704, 51.56351, 51.638709999999996, 51.6632, 51.65493, 51.656079999999996, 51.654959999999996, 51.580090000000006, 51.568220000000004, 51.57625, 51.57462, 51.57465, 51.597809999999996, 51.58933, 51.584540000000004, 51.56725, 51.576370000000004, 51.57573, 51.57931, 51.57588, 51.5689, 51.57134, 51.57097, 51.58052, 51.575790000000005, 51.62086, 51.63687], \"legendgroup\": \"Finsbury\", \"lon\": [-0.11120999999999999, -0.11373, -0.11753, -0.11104000000000001, -0.11848, -0.12342, -0.12097999999999999, -0.11577, -0.11569000000000002, -0.10845, -0.11547, -0.10107000000000001, -0.10955999999999999, -0.11495, -0.11885, -0.1013, -0.0994, -0.12322000000000001, -0.11775, -0.1117, -0.08842, -0.11487, -0.11560999999999999, -0.12558, -0.11689000000000001, -0.11022, -0.11782999999999999, -0.10389000000000001, -0.11077999999999999, -0.09873, -0.11392000000000001, -0.10228999999999999, -0.11623, -0.11417999999999999, -0.11600999999999999, -0.08811000000000001, -0.08812, -0.10575, -0.10575, -0.10575, -0.11912, -0.11760999999999999, -0.10567, -0.11882999999999999, -0.11475, -0.11540999999999998, -0.1259, -0.1042, -0.12564, -0.12677, -0.09427, -0.08997000000000001, -0.09576, -0.12580999999999998, -0.10658, -0.11297, -0.06674, -0.09742, -0.13971, -0.10089, -0.12107000000000001, -0.10169, -0.09872, -0.0715, -0.07119, -0.10626, -0.11485, -0.09733, -0.10248, -0.10674000000000002, -0.15705999999999998, -0.10336, -0.12212999999999999, -0.11699999999999999, -0.11913, -0.08953, -0.10595999999999998, -0.10727, -0.10747999999999999, -0.14574, -0.10601, -0.09917000000000001, -0.09802999999999999, -0.0929, -0.08942, -0.11596, -0.09502000000000001, -0.08845, -0.10819000000000001, -0.12055, -0.10116, -0.13095, -0.09769, -0.10575999999999999, -0.10507999999999999, -0.09663, -0.07687999999999999, -0.10332000000000001, -0.09806000000000001, -0.09827999999999999, -0.10056, -0.08426, -0.09822, -0.09576, -0.11624000000000001, -0.09807, -0.09983, -0.08334, -0.09252, -0.08867, -0.09623999999999999, -0.09512999999999999, -0.08947000000000001, -0.09246, -0.09611, -0.09576, -0.09537999999999999, -0.08559, -0.08884, -0.0955, -0.1001, -0.0945, -0.0917, -0.09756000000000001, -0.09892000000000001, -0.08811000000000001, -0.09667, -0.10156, -0.11517999999999999, -0.10197, -0.11094000000000001, -0.11047, -0.09719, -0.12185, -0.1195, -0.11614000000000001, -0.09561, -0.11281, -0.11725, -0.11704, -0.1294, -0.10008, -0.11365, -0.1164, -0.12667, -0.11985, -0.10875, -0.11352000000000001, -0.10647999999999999, -0.1046, -0.10987999999999999, -0.0933, -0.1104, -0.11503, -0.10436, -0.0939, -0.0984, -0.09708, -0.09882, -0.08626, -0.11895, -0.10607, -0.09283, -0.10651, -0.09604, -0.12464000000000001, -0.14603, -0.09655, -0.10309000000000001, -0.09892000000000001, -0.11982000000000001, -0.12584, -0.10365, -0.1082, -0.10980999999999999, -0.11009000000000001, -0.1226, -0.10269, -0.07252, -0.09892000000000001], \"marker\": {\"color\": \"#636efa\"}, \"mode\": \"markers\", \"name\": \"Finsbury\", \"showlegend\": true, \"subplot\": \"mapbox\", \"type\": \"scattermapbox\"}, {\"customdata\": [[\"-39.06 %\"], [\"4.47 %\"], [\"-35.57 %\"], [\"7.96 %\"], [\"-23.39 %\"], [\"18.40 %\"], [\"-30.35 %\"], [\"-37.32 %\"], [\"14.92 %\"], [\"-4.23 %\"], [\"-54.73 %\"], [\"-56.47 %\"], [\"-12.94 %\"], [\"-16.42 %\"], [\"-39.06 %\"], [\"-5.97 %\"], [\"-39.06 %\"], [\"-18.16 %\"], [\"-4.23 %\"], [\"-26.87 %\"], [\"-47.76 %\"], [\"-39.06 %\"], [\"18.40 %\"], [\"9.70 %\"], [\"-42.54 %\"], [\"-42.54 %\"], [\"-12.94 %\"], [\"-47.76 %\"], [\"-30.35 %\"], [\"-39.06 %\"], [\"-39.06 %\"], [\"0.99 %\"], [\"-51.25 %\"], [\"-58.21 %\"], [\"-42.54 %\"], [\"-66.92 %\"], [\"-39.06 %\"], [\"-30.35 %\"], [\"11.44 %\"], [\"-39.06 %\"], [\"-5.97 %\"], [\"-30.35 %\"], [\"-39.06 %\"], [\"-39.06 %\"], [\"-35.57 %\"], [\"-26.87 %\"], [\"-4.23 %\"], [\"4.47 %\"], [\"-35.57 %\"], [\"-63.43 %\"], [\"-23.39 %\"], [\"13.18 %\"], [\"14.92 %\"], [\"39.30 %\"], [\"0.99 %\"], [\"-26.87 %\"], [\"4.47 %\"], [\"-30.35 %\"], [\"-39.06 %\"], [\"-19.90 %\"], [\"-39.06 %\"], [\"39.30 %\"], [\"-55.06 %\"], [\"72.57 %\"], [\"-58.65 %\"], [\"-42.48 %\"], [\"-10.12 %\"], [\"-24.91 %\"], [\"-40.24 %\"], [\"-2.32 %\"], [\"-25.30 %\"], [\"-36.79 %\"], [\"-29.90 %\"], [\"-42.54 %\"], [\"-25.30 %\"], [\"72.38 %\"], [\"-25.30 %\"], [\"43.65 %\"], [\"3.43 %\"], [\"-19.56 %\"], [\"-19.56 %\"], [\"-8.06 %\"], [\"-13.81 %\"], [\"-24.15 %\"], [\"2.28 %\"], [\"43.65 %\"], [\"-36.79 %\"], [\"10.32 %\"], [\"-48.96 %\"], [\"-22.67 %\"], [\"-25.76 %\"], [\"-41.23 %\"], [\"-56.70 %\"], [\"-53.60 %\"], [\"8.26 %\"], [\"23.73 %\"], [\"11.35 %\"], [\"5.01 %\"], [\"-23.91 %\"]], \"hovertemplate\": \"<b>%{hovertext}</b><br><br>Place=Streatham<br>latitude=%{lat}<br>longitude=%{lon}<br>Price difference=%{customdata[0]}<extra></extra>\", \"hovertext\": [\"Streatham\", \"Streatham\", \"Streatham\", \"Streatham\", \"Streatham\", \"Streatham\", \"Streatham\", \"Streatham\", \"Streatham\", \"Streatham\", \"Streatham\", \"Streatham\", \"Streatham\", \"Streatham\", \"Streatham\", \"Streatham\", \"Streatham\", \"Streatham\", \"Streatham\", \"Streatham\", \"Streatham\", \"Streatham\", \"Streatham\", \"Streatham\", \"Streatham\", \"Streatham\", \"Streatham\", \"Streatham\", \"Streatham\", \"Streatham\", \"Streatham\", \"Streatham\", \"Streatham\", \"Streatham\", \"Streatham\", \"Streatham\", \"Streatham\", \"Streatham\", \"Streatham\", \"Streatham\", \"Streatham\", \"Streatham\", \"Streatham\", \"Streatham\", \"Streatham\", \"Streatham\", \"Streatham\", \"Streatham\", \"Streatham\", \"Streatham\", \"Streatham\", \"Streatham\", \"Streatham\", \"Streatham\", \"Streatham\", \"Streatham\", \"Streatham\", \"Streatham\", \"Streatham\", \"Streatham\", \"Streatham\", \"Streatham\", \"Streatham\", \"Streatham\", \"Streatham\", \"Streatham\", \"Streatham\", \"Streatham\", \"Streatham\", \"Streatham\", \"Streatham\", \"Streatham\", \"Streatham\", \"Streatham\", \"Streatham\", \"Streatham\", \"Streatham\", \"Streatham\", \"Streatham\", \"Streatham\", \"Streatham\", \"Streatham\", \"Streatham\", \"Streatham\", \"Streatham\", \"Streatham\", \"Streatham\", \"Streatham\", \"Streatham\", \"Streatham\", \"Streatham\", \"Streatham\", \"Streatham\", \"Streatham\", \"Streatham\", \"Streatham\", \"Streatham\", \"Streatham\", \"Streatham\"], \"lat\": [51.44078, 51.42114, 51.44028, 51.425329999999995, 51.42479, 51.42382, 51.44531, 51.42233, 51.424890000000005, 51.4447, 51.42989, 51.44313, 51.423159999999996, 51.43600000000001, 51.425779999999996, 51.439209999999996, 51.424890000000005, 51.43752, 51.41845, 51.4354, 51.44685, 51.42184, 51.43598, 51.439209999999996, 51.45135, 51.420790000000004, 51.42972, 51.43815, 51.44192, 51.42873, 51.42203, 51.43418, 51.44142, 51.44263, 51.43829, 51.42432, 51.43371, 51.42476, 51.42749, 51.4494, 51.4206, 51.42198, 51.43466, 51.43943, 51.42385, 51.426970000000004, 51.43127, 51.43418, 51.43033, 51.428470000000004, 51.44027, 51.43074, 51.441390000000006, 51.42321, 51.42686, 51.44361, 51.443740000000005, 51.44409, 51.42219, 51.42604, 51.4415, 51.42974, 51.41114, 51.410509999999995, 51.41186, 51.4052, 51.40462, 51.422540000000005, 51.42283, 51.436009999999996, 51.42427, 51.43715, 51.44319, 51.42972, 51.43512, 51.431979999999996, 51.44782, 51.4341, 51.42522, 51.443709999999996, 51.41617, 51.42792, 51.43712, 51.429629999999996, 51.42512, 51.43857, 51.43568, 51.41206, 51.419290000000004, 51.42072, 51.42135, 51.42794, 51.420559999999995, 51.419090000000004, 51.429359999999996, 51.41993, 51.42368, 51.41836, 51.40343], \"legendgroup\": \"Streatham\", \"lon\": [-0.12775999999999998, -0.13302, -0.12927, -0.10032999999999999, -0.12169, -0.12188, -0.12865, -0.13051, -0.12172000000000001, -0.12157000000000001, -0.1328, -0.12724000000000002, -0.11475999999999999, -0.12688, -0.1297, -0.1159, -0.1327, -0.11479, -0.1276, -0.12637, -0.12575, -0.13477, -0.11313, -0.1159, -0.12925999999999999, -0.13212000000000002, -0.13419, -0.127, -0.12994, -0.12049000000000001, -0.13233, -0.13001, -0.11671, -0.12055999999999999, -0.1218, -0.12177, -0.1309, -0.12685, -0.13369, -0.1249, -0.12958, -0.13013, -0.1286, -0.13175, -0.10898, -0.129, -0.12122000000000001, -0.13294, -0.12637, -0.13314, -0.122, -0.11757999999999999, -0.12104000000000001, -0.13091, -0.1213, -0.11517999999999999, -0.12738, -0.13333, -0.13273, -0.11934000000000002, -0.12377, -0.11895, -0.13813, -0.14517, -0.13859000000000002, -0.14231, -0.14221, -0.13921, -0.11377999999999999, -0.11744, -0.13324, -0.12164000000000001, -0.1275, -0.12716, -0.12947999999999998, -0.13176, -0.12521, -0.11807000000000001, -0.12989, -0.12869, -0.13662, -0.11016, -0.12012, -0.13137000000000001, -0.13049000000000002, -0.12772999999999998, -0.13373, -0.12454000000000001, -0.14649, -0.14025, -0.14005, -0.15112, -0.13896, -0.14184000000000002, -0.14095, -0.14306, -0.14059000000000002, -0.1179, -0.10163], \"marker\": {\"color\": \"#EF553B\"}, \"mode\": \"markers\", \"name\": \"Streatham\", \"showlegend\": true, \"subplot\": \"mapbox\", \"type\": \"scattermapbox\"}, {\"customdata\": [[\"-9.25 %\"], [\"-34.24 %\"], [\"-61.86 %\"], [\"5.22 %\"], [\"-42.13 %\"], [\"-5.31 %\"], [\"-34.24 %\"], [\"-47.39 %\"], [\"-27.66 %\"], [\"-35.55 %\"], [\"-53.97 %\"], [\"-63.17 %\"], [\"-20.35 %\"]], \"hovertemplate\": \"<b>%{hovertext}</b><br><br>Place=Rotherhithe<br>latitude=%{lat}<br>longitude=%{lon}<br>Price difference=%{customdata[0]}<extra></extra>\", \"hovertext\": [\"Rotherhithe\", \"Rotherhithe\", \"Rotherhithe\", \"Rotherhithe\", \"Rotherhithe\", \"Rotherhithe\", \"Rotherhithe\", \"Rotherhithe\", \"Rotherhithe\", \"Rotherhithe\", \"Rotherhithe\", \"Rotherhithe\", \"Rotherhithe\"], \"lat\": [51.49686, 51.50424, 51.503890000000006, 51.50247, 51.500679999999996, 51.49774, 51.50118, 51.50054, 51.50515, 51.50158, 51.50115, 51.4965, 51.50655], \"legendgroup\": \"Rotherhithe\", \"lon\": [-0.04845, -0.04438, -0.03327, -0.037110000000000004, -0.050539999999999995, -0.055, -0.050960000000000005, -0.04357, -0.04578, -0.04554, -0.03839, -0.041319999999999996, -0.03784], \"marker\": {\"color\": \"#00cc96\"}, \"mode\": \"markers\", \"name\": \"Rotherhithe\", \"showlegend\": true, \"subplot\": \"mapbox\", \"type\": \"scattermapbox\"}, {\"customdata\": [[\"-60.54 %\"], [\"-34.24 %\"], [\"-0.04 %\"], [\"-28.98 %\"], [\"-53.97 %\"], [\"-48.71 %\"], [\"-23.72 %\"], [\"-60.54 %\"], [\"-39.50 %\"], [\"-40.82 %\"], [\"-57.91 %\"], [\"-13.20 %\"], [\"-19.77 %\"], [\"-21.09 %\"], [\"-47.39 %\"], [\"-67.12 %\"], [\"-5.48 %\"], [\"-20.35 %\"], [\"-43.71 %\"], [\"-25.66 %\"], [\"-4.42 %\"], [\"-41.59 %\"], [\"-30.97 %\"], [\"-9.73 %\"], [\"-9.73 %\"], [\"50.65 %\"], [\"28.05 %\"], [\"-26.18 %\"], [\"-26.18 %\"], [\"-23.17 %\"], [\"34.08 %\"], [\"-15.64 %\"], [\"36.29 %\"], [\"-22.12 %\"], [\"-31.85 %\"], [\"36.29 %\"], [\"-31.85 %\"]], \"hovertemplate\": \"<b>%{hovertext}</b><br><br>Place=Nunhead<br>latitude=%{lat}<br>longitude=%{lon}<br>Price difference=%{customdata[0]}<extra></extra>\", \"hovertext\": [\"Nunhead\", \"Nunhead\", \"Nunhead\", \"Nunhead\", \"Nunhead\", \"Nunhead\", \"Nunhead\", \"Nunhead\", \"Nunhead\", \"Nunhead\", \"Nunhead\", \"Nunhead\", \"Nunhead\", \"Nunhead\", \"Nunhead\", \"Nunhead\", \"Nunhead\", \"Nunhead\", \"Nunhead\", \"Nunhead\", \"Nunhead\", \"Nunhead\", \"Nunhead\", \"Nunhead\", \"Nunhead\", \"Nunhead\", \"Nunhead\", \"Nunhead\", \"Nunhead\", \"Nunhead\", \"Nunhead\", \"Nunhead\", \"Nunhead\", \"Nunhead\", \"Nunhead\", \"Nunhead\", \"Nunhead\"], \"lat\": [51.470620000000004, 51.45617, 51.46241, 51.461690000000004, 51.460609999999996, 51.46897, 51.46676, 51.454879999999996, 51.47167, 51.46699, 51.45967, 51.46951, 51.46464, 51.46535, 51.46528, 51.46248, 51.455909999999996, 51.4597, 51.46846, 51.46103, 51.46637, 51.452459999999995, 51.46468, 51.46992, 51.46566, 51.46485, 51.47552, 51.4684, 51.46855, 51.47076, 51.46598, 51.47007, 51.4788, 51.46805, 51.46994, 51.471109999999996, 51.468920000000004], \"legendgroup\": \"Nunhead\", \"lon\": [-0.06017, -0.052239999999999995, -0.05875, -0.058570000000000004, -0.051660000000000005, -0.05694, -0.05424, -0.05127, -0.053689999999999995, -0.05223, -0.05063, -0.05413, -0.06112000000000001, -0.06569, -0.06172999999999999, -0.05674, -0.051829999999999994, -0.0523, -0.05517999999999999, -0.07041, -0.0689, -0.05881, -0.05802, -0.054520000000000006, -0.06757, -0.03645, -0.05027, -0.04883, -0.04844, -0.04306, -0.04439, -0.04027, -0.04376, -0.04865, -0.05171, -0.04865, -0.03913], \"marker\": {\"color\": \"#ab63fa\"}, \"mode\": \"markers\", \"name\": \"Nunhead\", \"showlegend\": true, \"subplot\": \"mapbox\", \"type\": \"scattermapbox\"}, {\"customdata\": [[\"-60.54 %\"], [\"18.37 %\"], [\"-67.12 %\"], [\"-34.24 %\"], [\"-77.64 %\"], [\"-47.39 %\"], [\"-39.50 %\"], [\"-55.28 %\"], [\"-36.87 %\"], [\"-21.09 %\"], [\"-59.23 %\"], [\"-44.76 %\"], [\"-43.45 %\"], [\"-65.80 %\"], [\"-36.87 %\"], [\"-35.55 %\"], [\"-67.12 %\"], [\"-29.90 %\"], [\"-41.59 %\"], [\"-36.28 %\"], [\"-30.97 %\"], [\"-30.97 %\"], [\"-30.97 %\"], [\"-9.73 %\"], [\"0.89 %\"], [\"-4.42 %\"], [\"0.89 %\"], [\"5.14 %\"], [\"-9.73 %\"], [\"-35.22 %\"], [\"-61.06 %\"], [\"118.07 %\"]], \"hovertemplate\": \"<b>%{hovertext}</b><br><br>Place=Bussey<br>latitude=%{lat}<br>longitude=%{lon}<br>Price difference=%{customdata[0]}<extra></extra>\", \"hovertext\": [\"Bussey\", \"Bussey\", \"Bussey\", \"Bussey\", \"Bussey\", \"Bussey\", \"Bussey\", \"Bussey\", \"Bussey\", \"Bussey\", \"Bussey\", \"Bussey\", \"Bussey\", \"Bussey\", \"Bussey\", \"Bussey\", \"Bussey\", \"Bussey\", \"Bussey\", \"Bussey\", \"Bussey\", \"Bussey\", \"Bussey\", \"Bussey\", \"Bussey\", \"Bussey\", \"Bussey\", \"Bussey\", \"Bussey\", \"Bussey\", \"Bussey\", \"Bussey\"], \"lat\": [51.45626, 51.47078, 51.474059999999994, 51.47793, 51.471270000000004, 51.45892, 51.47167, 51.47007, 51.47034, 51.47306, 51.47548, 51.47432, 51.47473, 51.475159999999995, 51.46778, 51.4716, 51.46248, 51.46423, 51.46602, 51.46179, 51.47605, 51.474309999999996, 51.482240000000004, 51.48747, 51.46671, 51.4728, 51.47837, 51.481809999999996, 51.46566, 51.476240000000004, 51.47371, 51.4684], \"legendgroup\": \"Bussey\", \"lon\": [-0.051739999999999994, -0.07082999999999999, -0.05437, -0.06242, -0.06026, -0.08064, -0.053689999999999995, -0.06667000000000001, -0.052829999999999995, -0.060160000000000005, -0.06736, -0.06284, -0.062270000000000006, -0.06999, -0.07589, -0.06361, -0.05674, -0.07255, -0.07474, -0.0716, -0.06874, -0.06746, -0.08014, -0.07486, -0.07937000000000001, -0.07039, -0.08207, -0.06523, -0.06757, -0.03315, -0.044860000000000004, -0.02465], \"marker\": {\"color\": \"#FFA15A\"}, \"mode\": \"markers\", \"name\": \"Bussey\", \"showlegend\": true, \"subplot\": \"mapbox\", \"type\": \"scattermapbox\"}, {\"customdata\": [[\"-3.57 %\"], [\"46.37 %\"], [\"-13.90 %\"], [\"-27.67 %\"], [\"44.65 %\"], [\"72.20 %\"], [\"-65.56 %\"], [\"-48.34 %\"], [\"-56.95 %\"], [\"-22.51 %\"], [\"-38.01 %\"], [\"-24.23 %\"], [\"-15.62 %\"], [\"20.54 %\"], [\"-17.34 %\"], [\"-20.79 %\"], [\"-44.89 %\"], [\"-51.78 %\"], [\"-24.23 %\"], [\"-5.29 %\"], [\"-65.56 %\"], [\"-8.73 %\"], [\"-48.34 %\"], [\"-10.45 %\"], [\"11.93 %\"], [\"-12.18 %\"], [\"-13.90 %\"], [\"3.32 %\"], [\"3.32 %\"], [\"-63.84 %\"], [\"-7.01 %\"], [\"11.93 %\"], [\"-56.95 %\"], [\"-29.68 %\"], [\"-1.55 %\"], [\"-11.86 %\"], [\"-40.93 %\"], [\"-10.93 %\"], [\"17.20 %\"], [\"-59.68 %\"], [\"-42.80 %\"], [\"-42.80 %\"], [\"-23.11 %\"], [\"-40.93 %\"], [\"-6.24 %\"], [\"-16.55 %\"], [\"-24.99 %\"], [\"-7.18 %\"], [\"-39.99 %\"], [\"-42.80 %\"], [\"-48.43 %\"], [\"-34.37 %\"], [\"-10.93 %\"], [\"-54.99 %\"], [\"-7.18 %\"]], \"hovertemplate\": \"<b>%{hovertext}</b><br><br>Place=Limehouse<br>latitude=%{lat}<br>longitude=%{lon}<br>Price difference=%{customdata[0]}<extra></extra>\", \"hovertext\": [\"Limehouse\", \"Limehouse\", \"Limehouse\", \"Limehouse\", \"Limehouse\", \"Limehouse\", \"Limehouse\", \"Limehouse\", \"Limehouse\", \"Limehouse\", \"Limehouse\", \"Limehouse\", \"Limehouse\", \"Limehouse\", \"Limehouse\", \"Limehouse\", \"Limehouse\", \"Limehouse\", \"Limehouse\", \"Limehouse\", \"Limehouse\", \"Limehouse\", \"Limehouse\", \"Limehouse\", \"Limehouse\", \"Limehouse\", \"Limehouse\", \"Limehouse\", \"Limehouse\", \"Limehouse\", \"Limehouse\", \"Limehouse\", \"Limehouse\", \"Limehouse\", \"Limehouse\", \"Limehouse\", \"Limehouse\", \"Limehouse\", \"Limehouse\", \"Limehouse\", \"Limehouse\", \"Limehouse\", \"Limehouse\", \"Limehouse\", \"Limehouse\", \"Limehouse\", \"Limehouse\", \"Limehouse\", \"Limehouse\", \"Limehouse\", \"Limehouse\", \"Limehouse\", \"Limehouse\", \"Limehouse\", \"Limehouse\"], \"lat\": [51.51303, 51.51984, 51.51538, 51.51853, 51.51549, 51.50996, 51.52678, 51.51685, 51.51997, 51.51789, 51.51016, 51.52279, 51.52085, 51.51096, 51.5162, 51.5162, 51.51597, 51.51194, 51.51102, 51.51104, 51.5216, 51.519870000000004, 51.51063, 51.5162, 51.5129, 51.51621, 51.51826, 51.51344, 51.51175, 51.51675, 51.522420000000004, 51.51005, 51.50971, 51.519890000000004, 51.51727, 51.51047, 51.51035, 51.50762, 51.51141, 51.5132, 51.52497, 51.51945, 51.512240000000006, 51.52772, 51.508, 51.51192, 51.519859999999994, 51.51511, 51.520109999999995, 51.528490000000005, 51.5199, 51.51158, 51.52897, 51.520270000000004, 51.51047], \"legendgroup\": \"Limehouse\", \"lon\": [-0.03737, -0.02253, -0.010879999999999999, -0.038, -0.02219, -0.03567, -0.04576, -0.015359999999999999, -0.0536, -0.03703, -0.0407, -0.01755, -0.02695, -0.04023, -0.03784, -0.03784, -0.03848, -0.03318, -0.04363, -0.039060000000000004, -0.02024, -0.026000000000000002, -0.04623, -0.03784, -0.02999, -0.02053, -0.016669999999999997, -0.030680000000000002, -0.028210000000000002, -0.00727, -0.01926, -0.04726, -0.048010000000000004, -0.039689999999999996, -0.02076, -0.03952, -0.044610000000000004, -0.02563, -0.029310000000000003, -0.03174, -0.030060000000000003, -0.027180000000000003, -0.02945, -0.04172, -0.05557, -0.0554, -0.03748, -0.02174, -0.02223, -0.03408, -0.03778, -0.04842, -0.041010000000000005, -0.050089999999999996, -0.03767], \"marker\": {\"color\": \"#19d3f3\"}, \"mode\": \"markers\", \"name\": \"Limehouse\", \"showlegend\": true, \"subplot\": \"mapbox\", \"type\": \"scattermapbox\"}, {\"customdata\": [[\"-13.26 %\"], [\"22.28 %\"], [\"-35.80 %\"], [\"-31.21 %\"], [\"-61.60 %\"], [\"-23.21 %\"], [\"-52.07 %\"], [\"-64.05 %\"], [\"-36.91 %\"], [\"-30.67 %\"], [\"-58.40 %\"], [\"-41.07 %\"]], \"hovertemplate\": \"<b>%{hovertext}</b><br><br>Place=Zebra<br>latitude=%{lat}<br>longitude=%{lon}<br>Price difference=%{customdata[0]}<extra></extra>\", \"hovertext\": [\"Zebra\", \"Zebra\", \"Zebra\", \"Zebra\", \"Zebra\", \"Zebra\", \"Zebra\", \"Zebra\", \"Zebra\", \"Zebra\", \"Zebra\", \"Zebra\"], \"lat\": [51.533409999999996, 51.54635, 51.53714, 51.53778, 51.52898, 51.5241, 51.54218, 51.536840000000005, 51.530429999999996, 51.53614, 51.53134, 51.52433], \"legendgroup\": \"Zebra\", \"lon\": [-0.22202, -0.18286, -0.18925, -0.18532, -0.19052, -0.17196, -0.19475, -0.18728, -0.18389, -0.18445, -0.17639000000000002, -0.17146], \"marker\": {\"color\": \"#FF6692\"}, \"mode\": \"markers\", \"name\": \"Zebra\", \"showlegend\": true, \"subplot\": \"mapbox\", \"type\": \"scattermapbox\"}, {\"customdata\": [[\"63.07 %\"], [\"0.35 %\"], [\"17.08 %\"], [\"-33.10 %\"], [\"38.23 %\"], [\"-42.95 %\"], [\"-67.09 %\"], [\"-67.09 %\"], [\"-34.18 %\"], [\"-25.74 %\"], [\"-63.48 %\"], [\"-63.48 %\"], [\"-63.26 %\"], [\"-31.37 %\"], [\"-58.40 %\"], [\"65.00 %\"], [\"-65.34 %\"], [\"-32.75 %\"], [\"-51.47 %\"]], \"hovertemplate\": \"<b>%{hovertext}</b><br><br>Place=Ledbury<br>latitude=%{lat}<br>longitude=%{lon}<br>Price difference=%{customdata[0]}<extra></extra>\", \"hovertext\": [\"Ledbury\", \"Ledbury\", \"Ledbury\", \"Ledbury\", \"Ledbury\", \"Ledbury\", \"Ledbury\", \"Ledbury\", \"Ledbury\", \"Ledbury\", \"Ledbury\", \"Ledbury\", \"Ledbury\", \"Ledbury\", \"Ledbury\", \"Ledbury\", \"Ledbury\", \"Ledbury\", \"Ledbury\"], \"lat\": [51.515640000000005, 51.5151, 51.51744, 51.51659, 51.51709, 51.51858, 51.52603, 51.5246, 51.524190000000004, 51.52105, 51.52438, 51.52418, 51.516290000000005, 51.5181, 51.51573, 51.517540000000004, 51.51617, 51.5257, 51.518159999999995], \"legendgroup\": \"Ledbury\", \"lon\": [-0.20276, -0.20035, -0.20055, -0.20001, -0.19528, -0.19917, -0.20323, -0.20449, -0.20315999999999998, -0.20988, -0.20505, -0.20495, -0.19227, -0.19258, -0.19841, -0.19747, -0.19251, -0.2009, -0.19983], \"marker\": {\"color\": \"#B6E880\"}, \"mode\": \"markers\", \"name\": \"Ledbury\", \"showlegend\": true, \"subplot\": \"mapbox\", \"type\": \"scattermapbox\"}],                        {\"height\": 700, \"legend\": {\"title\": {\"text\": \"Place\"}, \"tracegroupgap\": 0}, \"mapbox\": {\"center\": {\"lat\": 51.507285305851006, \"lon\": -0.12225032358156057}, \"domain\": {\"x\": [0.0, 1.0], \"y\": [0.0, 1.0]}, \"style\": \"carto-positron\", \"zoom\": 10}, \"margin\": {\"t\": 60}, \"template\": {\"data\": {\"bar\": [{\"error_x\": {\"color\": \"#2a3f5f\"}, \"error_y\": {\"color\": \"#2a3f5f\"}, \"marker\": {\"line\": {\"color\": \"#E5ECF6\", \"width\": 0.5}}, \"type\": \"bar\"}], \"barpolar\": [{\"marker\": {\"line\": {\"color\": \"#E5ECF6\", \"width\": 0.5}}, \"type\": \"barpolar\"}], \"carpet\": [{\"aaxis\": {\"endlinecolor\": \"#2a3f5f\", \"gridcolor\": \"white\", \"linecolor\": \"white\", \"minorgridcolor\": \"white\", \"startlinecolor\": \"#2a3f5f\"}, \"baxis\": {\"endlinecolor\": \"#2a3f5f\", \"gridcolor\": \"white\", \"linecolor\": \"white\", \"minorgridcolor\": \"white\", \"startlinecolor\": \"#2a3f5f\"}, \"type\": \"carpet\"}], \"choropleth\": [{\"colorbar\": {\"outlinewidth\": 0, \"ticks\": \"\"}, \"type\": \"choropleth\"}], \"contour\": [{\"colorbar\": {\"outlinewidth\": 0, \"ticks\": \"\"}, \"colorscale\": [[0.0, \"#0d0887\"], [0.1111111111111111, \"#46039f\"], [0.2222222222222222, \"#7201a8\"], [0.3333333333333333, \"#9c179e\"], [0.4444444444444444, \"#bd3786\"], [0.5555555555555556, \"#d8576b\"], [0.6666666666666666, \"#ed7953\"], [0.7777777777777778, \"#fb9f3a\"], [0.8888888888888888, \"#fdca26\"], [1.0, \"#f0f921\"]], \"type\": \"contour\"}], \"contourcarpet\": [{\"colorbar\": {\"outlinewidth\": 0, \"ticks\": \"\"}, \"type\": \"contourcarpet\"}], \"heatmap\": [{\"colorbar\": {\"outlinewidth\": 0, \"ticks\": \"\"}, \"colorscale\": [[0.0, \"#0d0887\"], [0.1111111111111111, \"#46039f\"], [0.2222222222222222, \"#7201a8\"], [0.3333333333333333, \"#9c179e\"], [0.4444444444444444, \"#bd3786\"], [0.5555555555555556, \"#d8576b\"], [0.6666666666666666, \"#ed7953\"], [0.7777777777777778, \"#fb9f3a\"], [0.8888888888888888, \"#fdca26\"], [1.0, \"#f0f921\"]], \"type\": \"heatmap\"}], \"heatmapgl\": [{\"colorbar\": {\"outlinewidth\": 0, \"ticks\": \"\"}, \"colorscale\": [[0.0, \"#0d0887\"], [0.1111111111111111, \"#46039f\"], [0.2222222222222222, \"#7201a8\"], [0.3333333333333333, \"#9c179e\"], [0.4444444444444444, \"#bd3786\"], [0.5555555555555556, \"#d8576b\"], [0.6666666666666666, \"#ed7953\"], [0.7777777777777778, \"#fb9f3a\"], [0.8888888888888888, \"#fdca26\"], [1.0, \"#f0f921\"]], \"type\": \"heatmapgl\"}], \"histogram\": [{\"marker\": {\"colorbar\": {\"outlinewidth\": 0, \"ticks\": \"\"}}, \"type\": \"histogram\"}], \"histogram2d\": [{\"colorbar\": {\"outlinewidth\": 0, \"ticks\": \"\"}, \"colorscale\": [[0.0, \"#0d0887\"], [0.1111111111111111, \"#46039f\"], [0.2222222222222222, \"#7201a8\"], [0.3333333333333333, \"#9c179e\"], [0.4444444444444444, \"#bd3786\"], [0.5555555555555556, \"#d8576b\"], [0.6666666666666666, \"#ed7953\"], [0.7777777777777778, \"#fb9f3a\"], [0.8888888888888888, \"#fdca26\"], [1.0, \"#f0f921\"]], \"type\": \"histogram2d\"}], \"histogram2dcontour\": [{\"colorbar\": {\"outlinewidth\": 0, \"ticks\": \"\"}, \"colorscale\": [[0.0, \"#0d0887\"], [0.1111111111111111, \"#46039f\"], [0.2222222222222222, \"#7201a8\"], [0.3333333333333333, \"#9c179e\"], [0.4444444444444444, \"#bd3786\"], [0.5555555555555556, \"#d8576b\"], [0.6666666666666666, \"#ed7953\"], [0.7777777777777778, \"#fb9f3a\"], [0.8888888888888888, \"#fdca26\"], [1.0, \"#f0f921\"]], \"type\": \"histogram2dcontour\"}], \"mesh3d\": [{\"colorbar\": {\"outlinewidth\": 0, \"ticks\": \"\"}, \"type\": \"mesh3d\"}], \"parcoords\": [{\"line\": {\"colorbar\": {\"outlinewidth\": 0, \"ticks\": \"\"}}, \"type\": \"parcoords\"}], \"pie\": [{\"automargin\": true, \"type\": \"pie\"}], \"scatter\": [{\"marker\": {\"colorbar\": {\"outlinewidth\": 0, \"ticks\": \"\"}}, \"type\": \"scatter\"}], \"scatter3d\": [{\"line\": {\"colorbar\": {\"outlinewidth\": 0, \"ticks\": \"\"}}, \"marker\": {\"colorbar\": {\"outlinewidth\": 0, \"ticks\": \"\"}}, \"type\": \"scatter3d\"}], \"scattercarpet\": [{\"marker\": {\"colorbar\": {\"outlinewidth\": 0, \"ticks\": \"\"}}, \"type\": \"scattercarpet\"}], \"scattergeo\": [{\"marker\": {\"colorbar\": {\"outlinewidth\": 0, \"ticks\": \"\"}}, \"type\": \"scattergeo\"}], \"scattergl\": [{\"marker\": {\"colorbar\": {\"outlinewidth\": 0, \"ticks\": \"\"}}, \"type\": \"scattergl\"}], \"scattermapbox\": [{\"marker\": {\"colorbar\": {\"outlinewidth\": 0, \"ticks\": \"\"}}, \"type\": \"scattermapbox\"}], \"scatterpolar\": [{\"marker\": {\"colorbar\": {\"outlinewidth\": 0, \"ticks\": \"\"}}, \"type\": \"scatterpolar\"}], \"scatterpolargl\": [{\"marker\": {\"colorbar\": {\"outlinewidth\": 0, \"ticks\": \"\"}}, \"type\": \"scatterpolargl\"}], \"scatterternary\": [{\"marker\": {\"colorbar\": {\"outlinewidth\": 0, \"ticks\": \"\"}}, \"type\": \"scatterternary\"}], \"surface\": [{\"colorbar\": {\"outlinewidth\": 0, \"ticks\": \"\"}, \"colorscale\": [[0.0, \"#0d0887\"], [0.1111111111111111, \"#46039f\"], [0.2222222222222222, \"#7201a8\"], [0.3333333333333333, \"#9c179e\"], [0.4444444444444444, \"#bd3786\"], [0.5555555555555556, \"#d8576b\"], [0.6666666666666666, \"#ed7953\"], [0.7777777777777778, \"#fb9f3a\"], [0.8888888888888888, \"#fdca26\"], [1.0, \"#f0f921\"]], \"type\": \"surface\"}], \"table\": [{\"cells\": {\"fill\": {\"color\": \"#EBF0F8\"}, \"line\": {\"color\": \"white\"}}, \"header\": {\"fill\": {\"color\": \"#C8D4E3\"}, \"line\": {\"color\": \"white\"}}, \"type\": \"table\"}]}, \"layout\": {\"annotationdefaults\": {\"arrowcolor\": \"#2a3f5f\", \"arrowhead\": 0, \"arrowwidth\": 1}, \"coloraxis\": {\"colorbar\": {\"outlinewidth\": 0, \"ticks\": \"\"}}, \"colorscale\": {\"diverging\": [[0, \"#8e0152\"], [0.1, \"#c51b7d\"], [0.2, \"#de77ae\"], [0.3, \"#f1b6da\"], [0.4, \"#fde0ef\"], [0.5, \"#f7f7f7\"], [0.6, \"#e6f5d0\"], [0.7, \"#b8e186\"], [0.8, \"#7fbc41\"], [0.9, \"#4d9221\"], [1, \"#276419\"]], \"sequential\": [[0.0, \"#0d0887\"], [0.1111111111111111, \"#46039f\"], [0.2222222222222222, \"#7201a8\"], [0.3333333333333333, \"#9c179e\"], [0.4444444444444444, \"#bd3786\"], [0.5555555555555556, \"#d8576b\"], [0.6666666666666666, \"#ed7953\"], [0.7777777777777778, \"#fb9f3a\"], [0.8888888888888888, \"#fdca26\"], [1.0, \"#f0f921\"]], \"sequentialminus\": [[0.0, \"#0d0887\"], [0.1111111111111111, \"#46039f\"], [0.2222222222222222, \"#7201a8\"], [0.3333333333333333, \"#9c179e\"], [0.4444444444444444, \"#bd3786\"], [0.5555555555555556, \"#d8576b\"], [0.6666666666666666, \"#ed7953\"], [0.7777777777777778, \"#fb9f3a\"], [0.8888888888888888, \"#fdca26\"], [1.0, \"#f0f921\"]]}, \"colorway\": [\"#636efa\", \"#EF553B\", \"#00cc96\", \"#ab63fa\", \"#FFA15A\", \"#19d3f3\", \"#FF6692\", \"#B6E880\", \"#FF97FF\", \"#FECB52\"], \"font\": {\"color\": \"#2a3f5f\"}, \"geo\": {\"bgcolor\": \"white\", \"lakecolor\": \"white\", \"landcolor\": \"#E5ECF6\", \"showlakes\": true, \"showland\": true, \"subunitcolor\": \"white\"}, \"hoverlabel\": {\"align\": \"left\"}, \"hovermode\": \"closest\", \"mapbox\": {\"style\": \"light\"}, \"paper_bgcolor\": \"white\", \"plot_bgcolor\": \"#E5ECF6\", \"polar\": {\"angularaxis\": {\"gridcolor\": \"white\", \"linecolor\": \"white\", \"ticks\": \"\"}, \"bgcolor\": \"#E5ECF6\", \"radialaxis\": {\"gridcolor\": \"white\", \"linecolor\": \"white\", \"ticks\": \"\"}}, \"scene\": {\"xaxis\": {\"backgroundcolor\": \"#E5ECF6\", \"gridcolor\": \"white\", \"gridwidth\": 2, \"linecolor\": \"white\", \"showbackground\": true, \"ticks\": \"\", \"zerolinecolor\": \"white\"}, \"yaxis\": {\"backgroundcolor\": \"#E5ECF6\", \"gridcolor\": \"white\", \"gridwidth\": 2, \"linecolor\": \"white\", \"showbackground\": true, \"ticks\": \"\", \"zerolinecolor\": \"white\"}, \"zaxis\": {\"backgroundcolor\": \"#E5ECF6\", \"gridcolor\": \"white\", \"gridwidth\": 2, \"linecolor\": \"white\", \"showbackground\": true, \"ticks\": \"\", \"zerolinecolor\": \"white\"}}, \"shapedefaults\": {\"line\": {\"color\": \"#2a3f5f\"}}, \"ternary\": {\"aaxis\": {\"gridcolor\": \"white\", \"linecolor\": \"white\", \"ticks\": \"\"}, \"baxis\": {\"gridcolor\": \"white\", \"linecolor\": \"white\", \"ticks\": \"\"}, \"bgcolor\": \"#E5ECF6\", \"caxis\": {\"gridcolor\": \"white\", \"linecolor\": \"white\", \"ticks\": \"\"}}, \"title\": {\"x\": 0.05}, \"xaxis\": {\"automargin\": true, \"gridcolor\": \"white\", \"linecolor\": \"white\", \"ticks\": \"\", \"title\": {\"standoff\": 15}, \"zerolinecolor\": \"white\", \"zerolinewidth\": 2}, \"yaxis\": {\"automargin\": true, \"gridcolor\": \"white\", \"linecolor\": \"white\", \"ticks\": \"\", \"title\": {\"standoff\": 15}, \"zerolinecolor\": \"white\", \"zerolinewidth\": 2}}}, \"width\": 900},                        {\"responsive\": true}                    ).then(function(){\n",
       "                            \n",
       "var gd = document.getElementById('b9c0872f-83fe-47a3-85f7-1e6be3ae91f3');\n",
       "var x = new MutationObserver(function (mutations, observer) {{\n",
       "        var display = window.getComputedStyle(gd).display;\n",
       "        if (!display || display === 'none') {{\n",
       "            console.log([gd, 'removed!']);\n",
       "            Plotly.purge(gd);\n",
       "            observer.disconnect();\n",
       "        }}\n",
       "}});\n",
       "\n",
       "// Listen for the removal of the full notebook cells\n",
       "var notebookContainer = gd.closest('#notebook-container');\n",
       "if (notebookContainer) {{\n",
       "    x.observe(notebookContainer, {childList: true});\n",
       "}}\n",
       "\n",
       "// Listen for the clearing of the current output cell\n",
       "var outputEl = gd.closest('.output');\n",
       "if (outputEl) {{\n",
       "    x.observe(outputEl, {childList: true});\n",
       "}}\n",
       "\n",
       "                        })                };                });            </script>        </div>"
      ]
     },
     "metadata": {},
     "output_type": "display_data"
    }
   ],
   "source": [
    "import plotly.express as px\n",
    "\n",
    "px.scatter_mapbox(\n",
    "    found_places_df[~found_places_df[\"Place\"].isnull() & (found_places_df[\"direction\"] == -1)], \n",
    "    lat=\"latitude\", lon=\"longitude\", color=\"Place\", hover_name=\"Place\",\n",
    "    hover_data=[\"Price difference\"],\n",
    "    size_max=15, zoom=10, mapbox_style=\"carto-positron\",\n",
    "    width=900, height=700\n",
    ")"
   ]
  }
 ],
 "metadata": {
  "kernelspec": {
   "display_name": "Python 3",
   "language": "python",
   "name": "python3"
  },
  "language_info": {
   "codemirror_mode": {
    "name": "ipython",
    "version": 3
   },
   "file_extension": ".py",
   "mimetype": "text/x-python",
   "name": "python",
   "nbconvert_exporter": "python",
   "pygments_lexer": "ipython3",
   "version": "3.7.3"
  }
 },
 "nbformat": 4,
 "nbformat_minor": 4
}
